{
  "nbformat": 4,
  "nbformat_minor": 0,
  "metadata": {
    "colab": {
      "provenance": []
    },
    "kernelspec": {
      "name": "python3",
      "display_name": "Python 3"
    },
    "language_info": {
      "name": "python"
    }
  },
  "cells": [
    {
      "cell_type": "markdown",
      "source": [
        "##### 파이썬 기본 명령어 익히기"
      ],
      "metadata": {
        "id": "Zf4VXnij03SC"
      }
    },
    {
      "cell_type": "code",
      "execution_count": 6,
      "metadata": {
        "colab": {
          "base_uri": "https://localhost:8080/"
        },
        "id": "aMUzmEX40U_2",
        "outputId": "5ffd3585-9ebc-4fc1-f895-a58a1ffcafbc"
      },
      "outputs": [
        {
          "output_type": "stream",
          "name": "stdout",
          "text": [
            "2\n",
            "4\n"
          ]
        }
      ],
      "source": [
        "print(1 + 1)\n",
        "print(2 + 2)"
      ]
    },
    {
      "cell_type": "code",
      "source": [
        "print(1+1,  2+2)"
      ],
      "metadata": {
        "colab": {
          "base_uri": "https://localhost:8080/"
        },
        "id": "B9qnIsTM0sXT",
        "outputId": "db49d7b9-73d7-4414-d752-01c0ace0f7c5"
      },
      "execution_count": 8,
      "outputs": [
        {
          "output_type": "stream",
          "name": "stdout",
          "text": [
            "2 4\n"
          ]
        }
      ]
    },
    {
      "cell_type": "code",
      "source": [
        "print('시작이 반이다')\n",
        "print(\"시작이 반이다\")\n",
        "print('파이썬은 \"재미있습니다\".')\n",
        "print(\"파이썬은 '재미있습니다'.\")"
      ],
      "metadata": {
        "colab": {
          "base_uri": "https://localhost:8080/"
        },
        "id": "ZzEi63Io0zsW",
        "outputId": "e6151bf8-cf4e-4bc7-d5c9-47c380b36272"
      },
      "execution_count": 13,
      "outputs": [
        {
          "output_type": "stream",
          "name": "stdout",
          "text": [
            "시작이 반이다\n",
            "시작이 반이다\n",
            "파이썬은 \"재미있습니다\".\n",
            "파이썬은 '재미있습니다'.\n"
          ]
        }
      ]
    },
    {
      "cell_type": "code",
      "source": [
        "print(3.0 + 2.0)"
      ],
      "metadata": {
        "colab": {
          "base_uri": "https://localhost:8080/"
        },
        "id": "SSfEtTs42otK",
        "outputId": "ec846d74-0429-4641-b006-bca25e42038e"
      },
      "execution_count": 14,
      "outputs": [
        {
          "output_type": "stream",
          "name": "stdout",
          "text": [
            "5.0\n"
          ]
        }
      ]
    },
    {
      "cell_type": "code",
      "source": [
        "print( 3 != 4)"
      ],
      "metadata": {
        "colab": {
          "base_uri": "https://localhost:8080/"
        },
        "id": "GZQ89rw93x-y",
        "outputId": "b3b1f197-72da-419d-dc9a-9d0fa5c75652"
      },
      "execution_count": 17,
      "outputs": [
        {
          "output_type": "stream",
          "name": "stdout",
          "text": [
            "True\n"
          ]
        }
      ]
    },
    {
      "cell_type": "code",
      "source": [
        "type(3)"
      ],
      "metadata": {
        "colab": {
          "base_uri": "https://localhost:8080/"
        },
        "id": "YskVJrTB4BGc",
        "outputId": "35f4389e-c374-4514-ae7c-07e857f38d32"
      },
      "execution_count": 18,
      "outputs": [
        {
          "output_type": "execute_result",
          "data": {
            "text/plain": [
              "int"
            ]
          },
          "metadata": {},
          "execution_count": 18
        }
      ]
    },
    {
      "cell_type": "code",
      "source": [
        "type(3.0)"
      ],
      "metadata": {
        "colab": {
          "base_uri": "https://localhost:8080/"
        },
        "id": "GsZxXJQ64KzZ",
        "outputId": "0e9c51bc-d0de-4bb5-880c-4b802e07ff29"
      },
      "execution_count": 19,
      "outputs": [
        {
          "output_type": "execute_result",
          "data": {
            "text/plain": [
              "float"
            ]
          },
          "metadata": {},
          "execution_count": 19
        }
      ]
    },
    {
      "cell_type": "code",
      "source": [
        "type(\"abc\")"
      ],
      "metadata": {
        "colab": {
          "base_uri": "https://localhost:8080/"
        },
        "id": "3qk95iB34N8a",
        "outputId": "972c0f31-d63b-4594-c67b-9cb0817efb7f"
      },
      "execution_count": 20,
      "outputs": [
        {
          "output_type": "execute_result",
          "data": {
            "text/plain": [
              "str"
            ]
          },
          "metadata": {},
          "execution_count": 20
        }
      ]
    },
    {
      "cell_type": "markdown",
      "source": [
        "### 파이썬 기본 요소\n",
        "  - 4칙연산 : + - * /\n",
        "  - // 몫연산 : 5//2 --> 2\n",
        "  - %  나머지연산 : 5%2 --> 1\n",
        "  - ** : 제곱연산자"
      ],
      "metadata": {
        "id": "pN5G_VLE4hLy"
      }
    },
    {
      "cell_type": "code",
      "source": [
        "print(1+1, 1-1, 1*1, 1/1)"
      ],
      "metadata": {
        "colab": {
          "base_uri": "https://localhost:8080/"
        },
        "id": "vvX8hU9q4Qkp",
        "outputId": "e0f13c73-e3ea-4563-d379-87bb001c085b"
      },
      "execution_count": 21,
      "outputs": [
        {
          "output_type": "stream",
          "name": "stdout",
          "text": [
            "2 0 1 1.0\n"
          ]
        }
      ]
    },
    {
      "cell_type": "code",
      "source": [
        "print(5 // 2)"
      ],
      "metadata": {
        "colab": {
          "base_uri": "https://localhost:8080/"
        },
        "id": "FqvxZPcm5FdS",
        "outputId": "e139bf2f-a201-4e1d-80d4-90daa4d63c84"
      },
      "execution_count": 22,
      "outputs": [
        {
          "output_type": "stream",
          "name": "stdout",
          "text": [
            "2\n"
          ]
        }
      ]
    },
    {
      "cell_type": "code",
      "source": [
        "print( 5 % 2)"
      ],
      "metadata": {
        "colab": {
          "base_uri": "https://localhost:8080/"
        },
        "id": "FNwXjrJE5LHI",
        "outputId": "e464394b-0f06-40c6-cb03-d591b7dcdcfa"
      },
      "execution_count": 23,
      "outputs": [
        {
          "output_type": "stream",
          "name": "stdout",
          "text": [
            "1\n"
          ]
        }
      ]
    },
    {
      "cell_type": "markdown",
      "source": [
        "변수(Variable)\n",
        "  - 변하는 수\n",
        "  - 반대개념 : 상수"
      ],
      "metadata": {
        "id": "f2uGfxoC5p4j"
      }
    },
    {
      "cell_type": "code",
      "source": [
        "pi = 3.14"
      ],
      "metadata": {
        "id": "MQrCKZpg5NKQ"
      },
      "execution_count": 24,
      "outputs": []
    },
    {
      "cell_type": "code",
      "source": [
        "print(pi + 10)"
      ],
      "metadata": {
        "colab": {
          "base_uri": "https://localhost:8080/"
        },
        "id": "rcy3Hemz6hxK",
        "outputId": "a2601c83-2d2e-45eb-a701-ffd6d082db32"
      },
      "execution_count": 26,
      "outputs": [
        {
          "output_type": "stream",
          "name": "stdout",
          "text": [
            "13.14\n"
          ]
        }
      ]
    },
    {
      "cell_type": "code",
      "source": [
        "pi = 20.5"
      ],
      "metadata": {
        "id": "G7-0UFTg6niB"
      },
      "execution_count": 27,
      "outputs": []
    },
    {
      "cell_type": "code",
      "source": [
        "print(pi + 10)"
      ],
      "metadata": {
        "colab": {
          "base_uri": "https://localhost:8080/"
        },
        "id": "Cip1LBwL6yPw",
        "outputId": "7c80d0b4-1141-4c46-d52c-d389165c7390"
      },
      "execution_count": 28,
      "outputs": [
        {
          "output_type": "stream",
          "name": "stdout",
          "text": [
            "30.5\n"
          ]
        }
      ]
    },
    {
      "cell_type": "markdown",
      "source": [
        "### 원의 넓이를 구해보자\n",
        "  - 반지름은 11\n",
        "  - 원주율 : 3.14\n",
        "  - 공식은 : 원주율 제곱 * 반지름"
      ],
      "metadata": {
        "id": "eTS9bhRV6907"
      }
    },
    {
      "cell_type": "code",
      "source": [
        "(3.14 ** 2)*11"
      ],
      "metadata": {
        "colab": {
          "base_uri": "https://localhost:8080/"
        },
        "id": "22TM-1ZB61TY",
        "outputId": "701af4bc-0492-406e-9bdc-01ee35660b75"
      },
      "execution_count": 29,
      "outputs": [
        {
          "output_type": "execute_result",
          "data": {
            "text/plain": [
              "108.4556"
            ]
          },
          "metadata": {},
          "execution_count": 29
        }
      ]
    },
    {
      "cell_type": "code",
      "source": [
        "한글변수 = 1000"
      ],
      "metadata": {
        "id": "-z07_z-T7aox"
      },
      "execution_count": 30,
      "outputs": []
    },
    {
      "cell_type": "code",
      "source": [
        "한글변수"
      ],
      "metadata": {
        "colab": {
          "base_uri": "https://localhost:8080/"
        },
        "id": "84CUJCgs8Pu5",
        "outputId": "8b2928e3-78e5-492a-dba1-711a9a06cb23"
      },
      "execution_count": 31,
      "outputs": [
        {
          "output_type": "execute_result",
          "data": {
            "text/plain": [
              "1000"
            ]
          },
          "metadata": {},
          "execution_count": 31
        }
      ]
    },
    {
      "cell_type": "markdown",
      "source": [
        "![image.png](data:image/png;base64,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)"
      ],
      "metadata": {
        "id": "DrJ7qnfY-bTp"
      }
    },
    {
      "cell_type": "code",
      "source": [
        "pi = 3\n",
        "radius = 14\n",
        "area = pi*radius**2\n",
        "print(\"반지름이 \",radius,\"인 원의 넓이는 = \", area)"
      ],
      "metadata": {
        "colab": {
          "base_uri": "https://localhost:8080/"
        },
        "id": "18RmXeZa8Qyg",
        "outputId": "3f53f419-334e-4f71-fec9-ec6bb72dad1f"
      },
      "execution_count": 33,
      "outputs": [
        {
          "output_type": "stream",
          "name": "stdout",
          "text": [
            "반지름이  14 인 원의 넓이는 =  588\n"
          ]
        }
      ]
    },
    {
      "cell_type": "markdown",
      "source": [
        "변수의 이름을 함부로정하지 않고 의미를 부여하는 것을 가독성을 높인다 라고 함\n",
        "  - 버그가 줄어든다.(실수가 줄어듦)\n",
        "  - 에러 / 오류\n",
        "    - 프로그램이 실행할수 없는..\n",
        "  - 버그\n",
        "    - 정상동작하나.. 특정한 상황에서 이상 동작하는 현상\n",
        "    - 버그를 수정하는 과정을 디버깅\n",
        "    - 버그수정을 디버그"
      ],
      "metadata": {
        "id": "STIrqqBh_ohE"
      }
    },
    {
      "cell_type": "markdown",
      "source": [
        "변수명은 맘대로 작성하면 돨까?\n",
        "  - 숫자로 시작할 수 없음\n",
        "  - 특수기호는 상황에따라 다륾\n",
        "  - key word는 사용 불가 : 예약어\n"
      ],
      "metadata": {
        "id": "1hZ6Y0UpBUIq"
      }
    },
    {
      "cell_type": "code",
      "source": [
        "print(\"이것을 출력하는 명령어 입니다.\")"
      ],
      "metadata": {
        "colab": {
          "base_uri": "https://localhost:8080/"
        },
        "id": "4SQaUADL_hHL",
        "outputId": "7bbd6611-6c68-4258-e710-5970e730ad60"
      },
      "execution_count": 38,
      "outputs": [
        {
          "output_type": "stream",
          "name": "stdout",
          "text": [
            "이것을 출력하는 명령어 입니다.\n"
          ]
        }
      ]
    },
    {
      "cell_type": "code",
      "source": [
        "# print = 100"
      ],
      "metadata": {
        "id": "_ujlsAKxBz9_"
      },
      "execution_count": 39,
      "outputs": []
    },
    {
      "cell_type": "code",
      "source": [
        "print(\"이것을 출력하는 명령어 입니다.\")"
      ],
      "metadata": {
        "colab": {
          "base_uri": "https://localhost:8080/"
        },
        "id": "CsWo09LBCw_8",
        "outputId": "083bf334-b01a-4238-d2e6-03f6d396a2a6"
      },
      "execution_count": 3,
      "outputs": [
        {
          "output_type": "stream",
          "name": "stdout",
          "text": [
            "이것을 출력하는 명령어 입니다.\n"
          ]
        }
      ]
    },
    {
      "cell_type": "code",
      "source": [
        "area = 0"
      ],
      "metadata": {
        "id": "lfK3zAkrCypx"
      },
      "execution_count": 2,
      "outputs": []
    },
    {
      "cell_type": "markdown",
      "source": [
        "![image.png](data:image/png;base64,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)"
      ],
      "metadata": {
        "id": "73Lt2eSyEBt6"
      }
    },
    {
      "cell_type": "code",
      "source": [
        "abc = 10"
      ],
      "metadata": {
        "id": "ZTIMO7aiDeia"
      },
      "execution_count": 4,
      "outputs": []
    },
    {
      "cell_type": "markdown",
      "source": [
        "주석\n",
        "  - '#' 시작해서 해당 라인이 명령어로 인식 하지 않는다\n",
        "  - 설명할때 사용"
      ],
      "metadata": {
        "id": "EH54mTR8EPz5"
      }
    },
    {
      "cell_type": "code",
      "source": [
        "#  ctrl + / 키를 누르면 없어졌다 생겼다 함.\n",
        "pi = 3.14\n",
        "radious = 5\n",
        "area = pi*radious**2"
      ],
      "metadata": {
        "id": "HqinewkAEKHY"
      },
      "execution_count": 5,
      "outputs": []
    },
    {
      "cell_type": "markdown",
      "source": [
        "사용자로부터 값을 받기"
      ],
      "metadata": {
        "id": "ad9V1DnNFF4b"
      }
    },
    {
      "cell_type": "code",
      "source": [
        "input(\"반지름을 입력하세요\")"
      ],
      "metadata": {
        "colab": {
          "base_uri": "https://localhost:8080/",
          "height": 53
        },
        "id": "GWDSdEjVEg7A",
        "outputId": "99d54e23-ddaf-46ca-cffa-56aaa0377b5c"
      },
      "execution_count": 7,
      "outputs": [
        {
          "name": "stdout",
          "output_type": "stream",
          "text": [
            "반지름을 입력하세요1000\n"
          ]
        },
        {
          "output_type": "execute_result",
          "data": {
            "text/plain": [
              "'1000'"
            ],
            "application/vnd.google.colaboratory.intrinsic+json": {
              "type": "string"
            }
          },
          "metadata": {},
          "execution_count": 7
        }
      ]
    },
    {
      "cell_type": "code",
      "source": [
        "'1000'"
      ],
      "metadata": {
        "colab": {
          "base_uri": "https://localhost:8080/",
          "height": 35
        },
        "id": "rtqkdtGcFNB5",
        "outputId": "c0ef7907-0cf5-4d8c-e53c-b4a86003e6b8"
      },
      "execution_count": 8,
      "outputs": [
        {
          "output_type": "execute_result",
          "data": {
            "text/plain": [
              "'1000'"
            ],
            "application/vnd.google.colaboratory.intrinsic+json": {
              "type": "string"
            }
          },
          "metadata": {},
          "execution_count": 8
        }
      ]
    },
    {
      "cell_type": "code",
      "source": [
        "int('1000')"
      ],
      "metadata": {
        "colab": {
          "base_uri": "https://localhost:8080/"
        },
        "id": "eAPB9CRmFk2Y",
        "outputId": "c5118095-8c8f-424f-b313-9096b066e153"
      },
      "execution_count": 9,
      "outputs": [
        {
          "output_type": "execute_result",
          "data": {
            "text/plain": [
              "1000"
            ]
          },
          "metadata": {},
          "execution_count": 9
        }
      ]
    },
    {
      "cell_type": "code",
      "source": [
        "radius = input(\"반지름을 입력하세요\")"
      ],
      "metadata": {
        "colab": {
          "base_uri": "https://localhost:8080/"
        },
        "id": "NwMuX8-ZF6In",
        "outputId": "1f32634f-6d78-4380-bc87-04f68cac6201"
      },
      "execution_count": 10,
      "outputs": [
        {
          "name": "stdout",
          "output_type": "stream",
          "text": [
            "반지름을 입력하세요1000\n"
          ]
        }
      ]
    },
    {
      "cell_type": "code",
      "source": [
        "radius = int(radius)"
      ],
      "metadata": {
        "colab": {
          "base_uri": "https://localhost:8080/",
          "height": 35
        },
        "id": "VP0_Es1UGIWH",
        "outputId": "5cfc9d61-f64d-422c-94e3-a493dcfcc6de"
      },
      "execution_count": 15,
      "outputs": [
        {
          "output_type": "execute_result",
          "data": {
            "text/plain": [
              "'1000'"
            ],
            "application/vnd.google.colaboratory.intrinsic+json": {
              "type": "string"
            }
          },
          "metadata": {},
          "execution_count": 15
        }
      ]
    },
    {
      "cell_type": "code",
      "source": [
        "pi = 3.14\n",
        "radius = int( input(\"반지름을 입력하세요 : \") )\n",
        "area = pi*radius**2\n",
        "print(\"area = \", area)"
      ],
      "metadata": {
        "colab": {
          "base_uri": "https://localhost:8080/"
        },
        "id": "Fz25NAv8GKWQ",
        "outputId": "d56036cb-b21c-4c7a-c62a-f2ced3e55550"
      },
      "execution_count": 19,
      "outputs": [
        {
          "output_type": "stream",
          "name": "stdout",
          "text": [
            "반지름을 입력하세요 : 8\n",
            "area =  200.96\n"
          ]
        }
      ]
    },
    {
      "cell_type": "markdown",
      "source": [
        "변수를 만드는 방법"
      ],
      "metadata": {
        "id": "3CxPtCwnH_LA"
      }
    },
    {
      "cell_type": "code",
      "source": [
        "# x 와 y 에 각각 5 , 10 입력\n",
        "x = 5\n",
        "y = 10"
      ],
      "metadata": {
        "id": "JKivYdNFHJS4"
      },
      "execution_count": 20,
      "outputs": []
    },
    {
      "cell_type": "code",
      "source": [
        "# 명령어가 연속적으로 오면 명령어 사이에 ; 을 넣어준다\n",
        "x = 5 ; y = 10"
      ],
      "metadata": {
        "id": "Rv0MDsSNIQ3o"
      },
      "execution_count": 21,
      "outputs": []
    },
    {
      "cell_type": "code",
      "source": [
        "x, y = 5, 10"
      ],
      "metadata": {
        "id": "tKZND7K4ImyY"
      },
      "execution_count": 22,
      "outputs": []
    },
    {
      "cell_type": "markdown",
      "source": [
        "할당\n",
        "  - = 할당연산\n",
        "  - 오른쪽에서 왼쪽으로 값을 대입(할당)\n",
        "\n",
        "타입\n",
        "  - 정수 : 음수, 제로 ,양수\n",
        "  - 실수 : 소수점\n",
        "  - boolean  : true, false 로 이루어진 타입\n",
        "  - 변수의 타입을 확인할때는 type(변수)"
      ],
      "metadata": {
        "id": "HwKgc0TfJF9N"
      }
    },
    {
      "cell_type": "code",
      "source": [
        "# 정수\n",
        "a = 5\n",
        "# 실수\n",
        "b = 2\n",
        "type(a),  type(b)"
      ],
      "metadata": {
        "colab": {
          "base_uri": "https://localhost:8080/"
        },
        "id": "ld3ht85jIrvw",
        "outputId": "c0623589-e1ab-4d0f-9949-d1fcbacf862f"
      },
      "execution_count": 26,
      "outputs": [
        {
          "output_type": "execute_result",
          "data": {
            "text/plain": [
              "(int, int)"
            ]
          },
          "metadata": {},
          "execution_count": 26
        }
      ]
    },
    {
      "cell_type": "code",
      "source": [
        "# 타입이 다른 변수들끼리 연산\n",
        "print(a + b)\n",
        "print(a - b)\n",
        "print(a * b)\n",
        "print(a / b)  # 파이썬의 특징... 2"
      ],
      "metadata": {
        "colab": {
          "base_uri": "https://localhost:8080/"
        },
        "id": "oaWHq_-yJpqv",
        "outputId": "61c03be3-331e-4018-fe10-bea5acbfa8a5"
      },
      "execution_count": 27,
      "outputs": [
        {
          "output_type": "stream",
          "name": "stdout",
          "text": [
            "7\n",
            "3\n",
            "10\n",
            "2.5\n"
          ]
        }
      ]
    },
    {
      "cell_type": "code",
      "source": [
        "# 실수를 정수로 변환\n",
        "a = 10.5\n",
        "b = int(a)\n",
        "print(b)"
      ],
      "metadata": {
        "colab": {
          "base_uri": "https://localhost:8080/"
        },
        "id": "Gu9dYhg8Mgh-",
        "outputId": "9eff651b-a6f9-4e03-9e0e-496e2445a670"
      },
      "execution_count": 28,
      "outputs": [
        {
          "output_type": "stream",
          "name": "stdout",
          "text": [
            "10\n"
          ]
        }
      ]
    },
    {
      "cell_type": "code",
      "source": [
        "# 정수를 실수 변환\n",
        "a = 10\n",
        "b = float(a)\n",
        "print(b)"
      ],
      "metadata": {
        "colab": {
          "base_uri": "https://localhost:8080/"
        },
        "id": "mIH5pPEGNA-i",
        "outputId": "82d64e0d-737e-49d0-9099-b7864f79539e"
      },
      "execution_count": 29,
      "outputs": [
        {
          "output_type": "stream",
          "name": "stdout",
          "text": [
            "10.0\n"
          ]
        }
      ]
    },
    {
      "cell_type": "code",
      "source": [
        "a = True\n",
        "b = a\n",
        "print(a, b)"
      ],
      "metadata": {
        "colab": {
          "base_uri": "https://localhost:8080/"
        },
        "id": "m25UYPrINJNn",
        "outputId": "44a7d2ea-3985-47b2-fd32-34d1a4c46219"
      },
      "execution_count": 31,
      "outputs": [
        {
          "output_type": "stream",
          "name": "stdout",
          "text": [
            "True True\n"
          ]
        }
      ]
    },
    {
      "cell_type": "markdown",
      "source": [
        "True / False 는  연산할때 1 과 0으로 정의된다."
      ],
      "metadata": {
        "id": "0bGbmRttNsPw"
      }
    },
    {
      "cell_type": "code",
      "source": [
        "# bool은 true  / false로 나타내는데 0만 false고 나머지 숫자들은 전부 true로 간주한다\n",
        "bool(0)"
      ],
      "metadata": {
        "colab": {
          "base_uri": "https://localhost:8080/"
        },
        "id": "I109GQnbNfFO",
        "outputId": "748d398c-c291-4478-f47f-8dc69e2e5363"
      },
      "execution_count": 40,
      "outputs": [
        {
          "output_type": "execute_result",
          "data": {
            "text/plain": [
              "False"
            ]
          },
          "metadata": {},
          "execution_count": 40
        }
      ]
    },
    {
      "cell_type": "markdown",
      "source": [
        "1. 변수\n",
        "  - 변수만드는 방법\n",
        "  - 변수로 사용할수 없는 경우\n",
        "2. 자료형\n",
        "  - 정수\n",
        "  - 실수\n",
        "  - bool\n",
        "3. 기본연산\n",
        "  - 4칙연산, //, %\n",
        "4. 자료형 변환\n",
        "  int()\n",
        "  float()\n",
        "  bool()\n",
        "5. print() : 출력, input() :입력인데 항상 문자열로 들어온다  "
      ],
      "metadata": {
        "id": "7_1jk6ydOYrJ"
      }
    },
    {
      "cell_type": "code",
      "source": [
        "# 가로 세로를 변수로 만들어서\n",
        "# width\n",
        "# height\n",
        "# 사각형의 넓이를 계산하는 프로그램  가로 x 세로"
      ],
      "metadata": {
        "id": "ns1ctB11OEzm"
      },
      "execution_count": 41,
      "outputs": []
    },
    {
      "cell_type": "code",
      "source": [
        "width, height = 10, 20\n",
        "area = width * height\n",
        "print(\"area = \", area)"
      ],
      "metadata": {
        "colab": {
          "base_uri": "https://localhost:8080/"
        },
        "id": "c2fF1IU_Piv3",
        "outputId": "c4c835c8-dd6b-4c87-da13-f69260872758"
      },
      "execution_count": 42,
      "outputs": [
        {
          "output_type": "stream",
          "name": "stdout",
          "text": [
            "area =  200\n"
          ]
        }
      ]
    },
    {
      "cell_type": "code",
      "source": [
        "width, height = input(\"가로 : \"), input(\"세로 : \")\n",
        "area = int(width) * int(height)\n",
        "print(\"area = \", area)"
      ],
      "metadata": {
        "colab": {
          "base_uri": "https://localhost:8080/"
        },
        "id": "VwSub2zYQs3e",
        "outputId": "4aa623b1-2400-4123-8fb7-1e467a13ff22"
      },
      "execution_count": 44,
      "outputs": [
        {
          "output_type": "stream",
          "name": "stdout",
          "text": [
            "가로 : 10\n",
            "세로 : 10\n",
            "area =  100\n"
          ]
        }
      ]
    },
    {
      "cell_type": "code",
      "source": [
        "width, height = int(input(\"가로 : \")), int(input(\"세로 : \"))\n",
        "area = width * height\n",
        "print(\"area = \", area)"
      ],
      "metadata": {
        "colab": {
          "base_uri": "https://localhost:8080/"
        },
        "id": "TSrwq50WQ3Cm",
        "outputId": "8199d7dc-db43-4fff-d20c-8d0a1104b6de"
      },
      "execution_count": 45,
      "outputs": [
        {
          "output_type": "stream",
          "name": "stdout",
          "text": [
            "가로 : 10\n",
            "세로 : 20\n",
            "area =  200\n"
          ]
        }
      ]
    },
    {
      "cell_type": "code",
      "source": [
        "#  체질량지수는 자신의 몸무게(kg)를 키의 제곱(m)으로 나눈 값입니다.\n",
        "# 1. 무조건 원하는 결과를 얻기\n",
        "# 2. 코드 리뷰 - 개선\n",
        "# 3. 코딩테스트는 벼락치치가 안된다.... 지금부터 천천히 준비하세요..\n",
        "# 프로그래머스.. 연습을 조금씩...\n",
        "weight = float(input(\"몸무게를 입력하세요(kg) : \"))\n",
        "height = float(input(\"키를 입력하세요(cm) : \")) / 100\n",
        "bmi = weight / (height**2)\n",
        "print(\"bmi = \", bmi)"
      ],
      "metadata": {
        "colab": {
          "base_uri": "https://localhost:8080/"
        },
        "id": "dRqK-CVORTFS",
        "outputId": "19552cc1-4d99-488a-cb37-c35f2c17a4a6"
      },
      "execution_count": 47,
      "outputs": [
        {
          "output_type": "stream",
          "name": "stdout",
          "text": [
            "몸무게를 입력하세요(kg) : 60\n",
            "키를 입력하세요(cm) : 180\n",
            "bmi =  18.51851851851852\n"
          ]
        }
      ]
    },
    {
      "cell_type": "markdown",
      "source": [
        "나머지연산의 용도\n",
        "  - 모든 자연수 % 5 이때 나올수 있는 값은? : 0 1 2 3 4\n",
        "  - 2500을 지불하는데 5000원을내면 거스름돈으로 1000:? 500:? 100:?"
      ],
      "metadata": {
        "id": "okTYWRWxV0oY"
      }
    },
    {
      "cell_type": "code",
      "source": [
        "12 % 5"
      ],
      "metadata": {
        "colab": {
          "base_uri": "https://localhost:8080/"
        },
        "id": "0RClRKNWVFO0",
        "outputId": "2164a126-fa58-4e22-bb46-cc5d215871f7"
      },
      "execution_count": 46,
      "outputs": [
        {
          "output_type": "execute_result",
          "data": {
            "text/plain": [
              "1.8"
            ]
          },
          "metadata": {},
          "execution_count": 46
        }
      ]
    },
    {
      "cell_type": "code",
      "source": [],
      "metadata": {
        "id": "lwDjRBa1VGp_"
      },
      "execution_count": null,
      "outputs": []
    }
  ]
}