{
  "nbformat": 4,
  "nbformat_minor": 0,
  "metadata": {
    "colab": {
      "provenance": []
    },
    "kernelspec": {
      "name": "python3",
      "display_name": "Python 3"
    },
    "language_info": {
      "name": "python"
    }
  },
  "cells": [
    {
      "cell_type": "code",
      "execution_count": null,
      "metadata": {
        "id": "UJHc14OH5jZX"
      },
      "outputs": [],
      "source": []
    },
    {
      "cell_type": "markdown",
      "source": [
        "Dictionary\n",
        "  - key:value\n",
        "    - key 는 데이터집합에서 unique한 속성... id, 주민등록번호\n",
        "    - value 는 일반변수로 데이터, 리스트, 문자열, dic 등등"
      ],
      "metadata": {
        "id": "L6p7vx0L9_pS"
      }
    },
    {
      "cell_type": "code",
      "source": [
        "# empty list\n",
        "list_1 = []\n",
        "list_1 = list()"
      ],
      "metadata": {
        "id": "vknZ2I8V-aVm"
      },
      "execution_count": 1,
      "outputs": []
    },
    {
      "cell_type": "code",
      "source": [
        "# empry dictionary\n",
        "dict_1 = {}\n",
        "dict_1 = dict()"
      ],
      "metadata": {
        "id": "F4uAQU93-jv0"
      },
      "execution_count": 2,
      "outputs": []
    },
    {
      "cell_type": "code",
      "source": [
        "# not empty list\n",
        "list_1 = [100,80,95]\n",
        "# not empty dict\n",
        "dict_1 = { '홍길동':100, '철수':80, '영희':95 , '홍길동':98  }\n",
        "print( dict_1['홍길동'] )"
      ],
      "metadata": {
        "colab": {
          "base_uri": "https://localhost:8080/"
        },
        "id": "u7BTuUt_-tkQ",
        "outputId": "445a3c5b-12b7-48cc-ebb0-596c67ce24d1"
      },
      "execution_count": 5,
      "outputs": [
        {
          "output_type": "stream",
          "name": "stdout",
          "text": [
            "98\n"
          ]
        }
      ]
    },
    {
      "cell_type": "markdown",
      "source": [
        "- C\n",
        "  - dict_1 = {}\n",
        "  - dict_1 = dict()\n",
        "  - dict_1 = { '홍길동':100, '철수':80, '영희':95 }\n",
        "- R\n",
        "  - 특정키에 대한 값을 읽을때는 dict_1['홍길동']\n",
        "- Update / Append\n",
        "  - dict_1['홍길동'] = 100\n",
        "- D\n",
        "  - del dict_1['홍길동']"
      ],
      "metadata": {
        "id": "1cPrqjhr_8VC"
      }
    },
    {
      "cell_type": "code",
      "source": [
        "dict_1"
      ],
      "metadata": {
        "colab": {
          "base_uri": "https://localhost:8080/"
        },
        "id": "5j6sWKEz_OC7",
        "outputId": "046684ea-06f0-4a50-fa9c-f4bb3eca9029"
      },
      "execution_count": 6,
      "outputs": [
        {
          "output_type": "execute_result",
          "data": {
            "text/plain": [
              "{'홍길동': 98, '철수': 80, '영희': 95}"
            ]
          },
          "metadata": {},
          "execution_count": 6
        }
      ]
    },
    {
      "cell_type": "code",
      "source": [
        "dict_1['이순신'] = 100"
      ],
      "metadata": {
        "id": "2yuRQB2e_mWc"
      },
      "execution_count": 7,
      "outputs": []
    },
    {
      "cell_type": "code",
      "source": [
        "dict_1"
      ],
      "metadata": {
        "colab": {
          "base_uri": "https://localhost:8080/"
        },
        "id": "3FJyaXhMA77J",
        "outputId": "2a0658fb-5a08-4910-9218-2a886b0b59dd"
      },
      "execution_count": 8,
      "outputs": [
        {
          "output_type": "execute_result",
          "data": {
            "text/plain": [
              "{'홍길동': 98, '철수': 80, '영희': 95, '이순신': 100}"
            ]
          },
          "metadata": {},
          "execution_count": 8
        }
      ]
    },
    {
      "cell_type": "code",
      "source": [
        "del dict_1['홍길동']"
      ],
      "metadata": {
        "id": "raAdTB0wA8yf"
      },
      "execution_count": 10,
      "outputs": []
    },
    {
      "cell_type": "code",
      "source": [
        "dict_1"
      ],
      "metadata": {
        "colab": {
          "base_uri": "https://localhost:8080/"
        },
        "id": "dzPcjWkZBBrf",
        "outputId": "b214bc92-7511-48af-d21a-9a86387f3c28"
      },
      "execution_count": 11,
      "outputs": [
        {
          "output_type": "execute_result",
          "data": {
            "text/plain": [
              "{'철수': 80, '영희': 95, '이순신': 100}"
            ]
          },
          "metadata": {},
          "execution_count": 11
        }
      ]
    },
    {
      "cell_type": "markdown",
      "source": [
        "- 키 값만 출력(리스트)\n",
        "  - dict_1.keys()\n",
        "- 값 만 출력(리스트)\n",
        "  - dict_1.values()\n"
      ],
      "metadata": {
        "id": "2JX8xNLKBGZS"
      }
    },
    {
      "cell_type": "code",
      "source": [
        "dict_1.keys(),   dict_1.values()"
      ],
      "metadata": {
        "colab": {
          "base_uri": "https://localhost:8080/"
        },
        "id": "WkHfNXzHBES4",
        "outputId": "71cfced5-9f27-4227-f74e-efabfb5e493c"
      },
      "execution_count": 13,
      "outputs": [
        {
          "output_type": "execute_result",
          "data": {
            "text/plain": [
              "(dict_keys(['철수', '영희', '이순신']), dict_values([80, 95, 100]))"
            ]
          },
          "metadata": {},
          "execution_count": 13
        }
      ]
    },
    {
      "cell_type": "code",
      "source": [
        "dict_1"
      ],
      "metadata": {
        "colab": {
          "base_uri": "https://localhost:8080/"
        },
        "id": "VOJaD3afBSMn",
        "outputId": "289b4733-4b15-4a1f-cdf3-6dc57a8fb31d"
      },
      "execution_count": 14,
      "outputs": [
        {
          "output_type": "execute_result",
          "data": {
            "text/plain": [
              "{'철수': 80, '영희': 95, '이순신': 100}"
            ]
          },
          "metadata": {},
          "execution_count": 14
        }
      ]
    },
    {
      "cell_type": "code",
      "source": [
        "for i in dict_1:\n",
        "  print(i)"
      ],
      "metadata": {
        "colab": {
          "base_uri": "https://localhost:8080/"
        },
        "id": "ieglk7RrBpYY",
        "outputId": "0029800f-ca97-498d-93c0-0ca55ccf1de9"
      },
      "execution_count": 15,
      "outputs": [
        {
          "output_type": "stream",
          "name": "stdout",
          "text": [
            "철수\n",
            "영희\n",
            "이순신\n"
          ]
        }
      ]
    },
    {
      "cell_type": "code",
      "source": [
        "print(dict_1['철수'])\n",
        "print(dict_1['영희'])\n",
        "print(dict_1['이순신'])"
      ],
      "metadata": {
        "colab": {
          "base_uri": "https://localhost:8080/"
        },
        "id": "6WLb_11lBxR4",
        "outputId": "0691415e-f82b-4375-a5c7-a5a7d36e8c1f"
      },
      "execution_count": 16,
      "outputs": [
        {
          "output_type": "stream",
          "name": "stdout",
          "text": [
            "80\n",
            "95\n",
            "100\n"
          ]
        }
      ]
    },
    {
      "cell_type": "code",
      "source": [
        "for i in dict_1:\n",
        "  print(dict_1[i])"
      ],
      "metadata": {
        "colab": {
          "base_uri": "https://localhost:8080/"
        },
        "id": "LfFYekFdB7Hg",
        "outputId": "7c9f1b3d-47e5-4173-93f0-b710a18119b0"
      },
      "execution_count": 17,
      "outputs": [
        {
          "output_type": "stream",
          "name": "stdout",
          "text": [
            "80\n",
            "95\n",
            "100\n"
          ]
        }
      ]
    },
    {
      "cell_type": "code",
      "source": [
        "for i in dict_1.keys():\n",
        "  print(dict_1[i])"
      ],
      "metadata": {
        "colab": {
          "base_uri": "https://localhost:8080/"
        },
        "id": "Ot-j5M42CiYC",
        "outputId": "dd487d2d-76ff-4bbd-9c24-f874edfa4a88"
      },
      "execution_count": 20,
      "outputs": [
        {
          "output_type": "stream",
          "name": "stdout",
          "text": [
            "80\n",
            "95\n",
            "100\n"
          ]
        }
      ]
    },
    {
      "cell_type": "code",
      "source": [
        "for i in dict_1.values():\n",
        "  print(i)\n"
      ],
      "metadata": {
        "colab": {
          "base_uri": "https://localhost:8080/"
        },
        "id": "uY7LV3SuCcAP",
        "outputId": "622491a4-d71e-4a71-b036-e0209c637f17"
      },
      "execution_count": 19,
      "outputs": [
        {
          "output_type": "stream",
          "name": "stdout",
          "text": [
            "80\n",
            "95\n",
            "100\n"
          ]
        }
      ]
    },
    {
      "cell_type": "code",
      "source": [
        "# key value를 동시에 가져온다\n",
        "for i in dict_1.items():\n",
        "  print(i)"
      ],
      "metadata": {
        "colab": {
          "base_uri": "https://localhost:8080/"
        },
        "id": "GBqHz_RrCeMP",
        "outputId": "b3fedf55-5109-4568-e22b-9b614d18957c"
      },
      "execution_count": 23,
      "outputs": [
        {
          "output_type": "stream",
          "name": "stdout",
          "text": [
            "('철수', 80)\n",
            "('영희', 95)\n",
            "('이순신', 100)\n"
          ]
        }
      ]
    },
    {
      "cell_type": "code",
      "source": [
        "for i, j in dict_1.items():\n",
        "  print(i,j)"
      ],
      "metadata": {
        "colab": {
          "base_uri": "https://localhost:8080/"
        },
        "id": "mbYCkrTlCusY",
        "outputId": "e345316d-e4e8-4e71-e733-eeebf6b19084"
      },
      "execution_count": 24,
      "outputs": [
        {
          "output_type": "stream",
          "name": "stdout",
          "text": [
            "철수 80\n",
            "영희 95\n",
            "이순신 100\n"
          ]
        }
      ]
    },
    {
      "cell_type": "code",
      "source": [
        "# 내가 찾고자 하는 값이 집합에 있는지 확인하는 명령어   in\n",
        "\n",
        "'철수' in dict_1.keys()\n"
      ],
      "metadata": {
        "colab": {
          "base_uri": "https://localhost:8080/"
        },
        "id": "6YunTMbnC6gY",
        "outputId": "a3d0d787-0080-4f8b-9e45-627d8bbd6535"
      },
      "execution_count": 25,
      "outputs": [
        {
          "output_type": "execute_result",
          "data": {
            "text/plain": [
              "True"
            ]
          },
          "metadata": {},
          "execution_count": 25
        }
      ]
    },
    {
      "cell_type": "code",
      "source": [
        "dict_1['철수'] += 1"
      ],
      "metadata": {
        "id": "_dl7ur2CDNRw"
      },
      "execution_count": 31,
      "outputs": []
    },
    {
      "cell_type": "code",
      "source": [
        "dict_1"
      ],
      "metadata": {
        "colab": {
          "base_uri": "https://localhost:8080/"
        },
        "id": "sZgl127wDYXv",
        "outputId": "2ee74fff-7d64-477a-db14-9569ad4c3e70"
      },
      "execution_count": 32,
      "outputs": [
        {
          "output_type": "execute_result",
          "data": {
            "text/plain": [
              "{'철수': 83, '영희': 95, '이순신': 100}"
            ]
          },
          "metadata": {},
          "execution_count": 32
        }
      ]
    },
    {
      "cell_type": "markdown",
      "source": [
        "자료구조\n",
        "  - 리스트\n",
        "  - 딕셔너리"
      ],
      "metadata": {
        "id": "8DGJ2nbBDtnC"
      }
    },
    {
      "cell_type": "code",
      "source": [
        "# 리스트에 임의의 숫자(1~10)를 30개 만들어서 출력\n",
        "# 각 번호가 몇번 나왔는지 ex) 0:5, 1:2, 3:2 ...\n",
        "import random\n",
        "# temp = []\n",
        "# for i in range(30):\n",
        "#   temp.append( random.randint(1,10)  )\n",
        "temp = [   random.randint(1,10)  for i in range(30)   ]\n",
        "print(temp )"
      ],
      "metadata": {
        "colab": {
          "base_uri": "https://localhost:8080/"
        },
        "id": "ZI62F-B4DeBn",
        "outputId": "53337123-0468-4de3-a7c8-b054bfbc7bd4"
      },
      "execution_count": 38,
      "outputs": [
        {
          "output_type": "stream",
          "name": "stdout",
          "text": [
            "[2, 4, 4, 6, 4, 9, 7, 6, 8, 8, 9, 2, 9, 1, 1, 3, 8, 7, 1, 10, 9, 7, 2, 2, 3, 8, 2, 10, 7, 10]\n"
          ]
        }
      ]
    },
    {
      "cell_type": "code",
      "source": [
        "# 비어있는 dict을 하나 만든다\n",
        "result_dict = {}\n",
        "# 리스트를 순환하면서 각 번호를 dictionary에 없으면 추가하고 있으면 값을 증가한다.\n",
        "for i in temp:\n",
        "  if i not in result_dict:\n",
        "    # 키가 없으므로 최초 생성\n",
        "    result_dict[i] = 1\n",
        "  else:  # 키가 있으면 기존 값을 증가  +=\n",
        "    result_dict[i] += 1\n",
        "\n",
        "# 결과확인\n",
        "result_dict\n"
      ],
      "metadata": {
        "colab": {
          "base_uri": "https://localhost:8080/"
        },
        "id": "hWgzvJJuEciD",
        "outputId": "bccccf0c-590c-4f29-f41c-4d12748d88ab"
      },
      "execution_count": 39,
      "outputs": [
        {
          "output_type": "execute_result",
          "data": {
            "text/plain": [
              "{2: 5, 4: 3, 6: 2, 9: 4, 7: 4, 8: 4, 1: 3, 3: 2, 10: 3}"
            ]
          },
          "metadata": {},
          "execution_count": 39
        }
      ]
    },
    {
      "cell_type": "markdown",
      "source": [
        "함수\n",
        "  - 지역변수(local variable)\n",
        "    -  함수에서 생성해서 함수가 끝나면 없어지는 변수\n",
        "  - 전역변수(global variable)\n",
        "    - 함수 외부에서 생성해서 함수내부에서도 사용되는 변수"
      ],
      "metadata": {
        "id": "D0TEZEZdFudh"
      }
    },
    {
      "cell_type": "code",
      "source": [
        "def func1():\n",
        "  a = 10 # 지역변수\n",
        "  print(f\"func1 에서 a의 값 = {a}\")\n",
        "\n",
        "def func2():\n",
        "  global a  # global변수를 의미한다  이게 없으면 func1처럼 내부에 변수를 새로 만든다\n",
        "  a = 30\n",
        "  print(f\"func2 에서 a의 값 = {a}\")\n",
        "\n",
        "a = 20\n",
        "\n",
        "print(f\"함수호출전 a의 값 = {a}\")\n",
        "\n",
        "func1()\n",
        "func2()\n",
        "\n",
        "print(f\"함수호출후 a의 값 = {a}\")"
      ],
      "metadata": {
        "colab": {
          "base_uri": "https://localhost:8080/"
        },
        "id": "XlSYXEqEF7fQ",
        "outputId": "5116b2c7-7237-48aa-80f6-b4891b5f4c87"
      },
      "execution_count": 45,
      "outputs": [
        {
          "output_type": "stream",
          "name": "stdout",
          "text": [
            "함수호출전 a의 값 = 20\n",
            "func1 에서 a의 값 = 10\n",
            "func2 에서 a의 값 = 30\n",
            "함수호출후 a의 값 = 30\n"
          ]
        }
      ]
    },
    {
      "cell_type": "markdown",
      "source": [
        "반환값이 여러개인 함수"
      ],
      "metadata": {
        "id": "Dl3m2RnUIy7x"
      }
    },
    {
      "cell_type": "code",
      "source": [
        "# 두개의 값을 받아서 각각의 + - 의 결과를 반환하는 함수\n",
        "def myfunc1( v1, v2 ):\n",
        "  return v1 + v2,  v1 - v2"
      ],
      "metadata": {
        "id": "KGhYJVUDHXHS"
      },
      "execution_count": 48,
      "outputs": []
    },
    {
      "cell_type": "code",
      "source": [
        "a,b = myfunc1(10,20)\n",
        "print(a, b)"
      ],
      "metadata": {
        "colab": {
          "base_uri": "https://localhost:8080/"
        },
        "id": "axGly8fDMH95",
        "outputId": "7c0687b1-8876-40c9-d393-7cb7abcb7c8d"
      },
      "execution_count": 53,
      "outputs": [
        {
          "output_type": "stream",
          "name": "stdout",
          "text": [
            "30 -10\n"
          ]
        }
      ]
    },
    {
      "cell_type": "code",
      "source": [
        "# 두개의 값을 받아서 사칙연산의 결과를 반환하는 함수\n",
        "def myfunc2( v1, v2 ):\n",
        "  return v1 + v2,  v1 - v2, v1 * v2, v1 / v2"
      ],
      "metadata": {
        "id": "r_9DNjTqMK-O"
      },
      "execution_count": 54,
      "outputs": []
    },
    {
      "cell_type": "code",
      "source": [
        "myfunc2(10,20)"
      ],
      "metadata": {
        "colab": {
          "base_uri": "https://localhost:8080/"
        },
        "id": "dEXRg-OsM9Cm",
        "outputId": "588e0b98-4707-4273-d461-77a7875d51f0"
      },
      "execution_count": 55,
      "outputs": [
        {
          "output_type": "execute_result",
          "data": {
            "text/plain": [
              "(30, -10, 200, 0.5)"
            ]
          },
          "metadata": {},
          "execution_count": 55
        }
      ]
    },
    {
      "cell_type": "code",
      "source": [
        "# 두개의 값을 받아서 사칙연산의 결과를 반환하는 함수\n",
        "# 결과 값은 dictionary 형태로 반환\n",
        "def myfunc2( v1, v2 ):\n",
        "  result = {}\n",
        "  result['+'] = v1 + v2\n",
        "  result['-'] = v1 - v2\n",
        "  result['*'] = v1 * v2\n",
        "  if v2 != 0:\n",
        "    result['/'] = v1 / v2\n",
        "  else:\n",
        "    result['/'] = None\n",
        "  return result"
      ],
      "metadata": {
        "id": "by9Gr66WM-pI"
      },
      "execution_count": 56,
      "outputs": []
    },
    {
      "cell_type": "code",
      "source": [
        "myfunc2(10,20)"
      ],
      "metadata": {
        "colab": {
          "base_uri": "https://localhost:8080/"
        },
        "id": "_ZfVCnLJNeSk",
        "outputId": "1a2dc149-7b63-42e2-f4d4-8e12f9e0a8fb"
      },
      "execution_count": 57,
      "outputs": [
        {
          "output_type": "execute_result",
          "data": {
            "text/plain": [
              "{'+': 30, '-': -10, '*': 200, '/': 0.5}"
            ]
          },
          "metadata": {},
          "execution_count": 57
        }
      ]
    },
    {
      "cell_type": "markdown",
      "source": [
        "pass\n",
        "  - if , for , while , def 와같이 block이 있는 명령어는 반드시\n",
        "  - 한개 이상의 명령어가 있어야 함\n",
        "  - 그런데.. 모양만 갖추고 싶을때 사용\n"
      ],
      "metadata": {
        "id": "po_GAlHdNqxY"
      }
    },
    {
      "cell_type": "code",
      "source": [
        "def calc_custom():\n",
        "  pass"
      ],
      "metadata": {
        "id": "tx0ybAW-Nf2-"
      },
      "execution_count": 60,
      "outputs": []
    },
    {
      "cell_type": "code",
      "source": [
        "if True:\n",
        "  pass\n",
        "else:\n",
        "  print(\"abc\")"
      ],
      "metadata": {
        "id": "AGSjkclkODNO"
      },
      "execution_count": 61,
      "outputs": []
    },
    {
      "cell_type": "markdown",
      "source": [
        "arguments의 개수를 지정하는 방법\n",
        "- def temp_func1(a,b):\n",
        "  - pass\n"
      ],
      "metadata": {
        "id": "H7WbUaKDOd4F"
      }
    },
    {
      "cell_type": "code",
      "source": [
        "# 두개의 변수의 합을 구하는 함수\n",
        "# 세개의 변수의 합을 구하는 함수\n",
        "def temp_func1(a,b):\n",
        "  return a+b\n",
        "def temp_func2(a,b,c):\n",
        "  return a+b+c"
      ],
      "metadata": {
        "id": "i6GsQFwOOOQ1"
      },
      "execution_count": 62,
      "outputs": []
    },
    {
      "cell_type": "code",
      "source": [
        "# default 매개변수\n",
        "def temp_func3(a,b,c = 0):\n",
        "  return a + b + c\n",
        "\n",
        "print( temp_func3(1,2) )\n",
        "print( temp_func3(1,2, 100) )"
      ],
      "metadata": {
        "colab": {
          "base_uri": "https://localhost:8080/"
        },
        "id": "kb_bypcaPSo-",
        "outputId": "8edf04fe-2616-4cfc-a98d-d52d28426da6"
      },
      "execution_count": 67,
      "outputs": [
        {
          "output_type": "stream",
          "name": "stdout",
          "text": [
            "3\n",
            "103\n"
          ]
        }
      ]
    },
    {
      "cell_type": "code",
      "source": [
        "# 주의사항\n",
        "# 디폴트 매개변수는 뒤에서 부터 작성한다.\n",
        "# default 매개변수\n",
        "def temp_func3(a = 0, b = 0, c = 0 ):\n",
        "  return a + b + c\n",
        "\n",
        "# default 매개변수가 아닌 매개변수 - positional arguments\n",
        "temp_func3()\n",
        "temp_func3(1)\n",
        "temp_func3(2,3)\n",
        "temp_func3(1,2,3)"
      ],
      "metadata": {
        "id": "T98D24TdPVr9"
      },
      "execution_count": null,
      "outputs": []
    },
    {
      "cell_type": "markdown",
      "source": [
        "매개변수의 개수를 지정하지 않고 전달\n",
        "  - func1(1)\n",
        "  - func1(1,2,3,4,5)\n",
        "  - func1(1,2,3,1,5,2,1,4,1,4,1,4,1,4)\n",
        "  "
      ],
      "metadata": {
        "id": "hLrdfOj9SWXy"
      }
    },
    {
      "cell_type": "code",
      "source": [
        "# 전달한 매개변수의 합을 구하는 함수\n",
        "def sum_lists(list_1):\n",
        "  result = 0\n",
        "  for i in list_1:\n",
        "    result += i\n",
        "  return result"
      ],
      "metadata": {
        "id": "jt-eTAUlSwC2"
      },
      "execution_count": 69,
      "outputs": []
    },
    {
      "cell_type": "code",
      "source": [
        "sum_lists( [1,2,3,4,5,6,7,8,9,10] )"
      ],
      "metadata": {
        "colab": {
          "base_uri": "https://localhost:8080/"
        },
        "id": "EYuhsVYhTPaW",
        "outputId": "054be3a4-bec2-403a-ddeb-1655a7d697fd"
      },
      "execution_count": 71,
      "outputs": [
        {
          "output_type": "execute_result",
          "data": {
            "text/plain": [
              "55"
            ]
          },
          "metadata": {},
          "execution_count": 71
        }
      ]
    },
    {
      "cell_type": "code",
      "source": [
        "# 패킹 packing...파라메터로 전달받은 매개변수를 리스트화 한다\n",
        "def sum_lists2(*list_1):  # 매개변수 argument\n",
        "  result = 0\n",
        "  for i in list_1:\n",
        "    result += i\n",
        "  return result"
      ],
      "metadata": {
        "id": "_NXMCQbvUVTw"
      },
      "execution_count": 72,
      "outputs": []
    },
    {
      "cell_type": "code",
      "source": [
        "sum_lists2( 1,2,3,4,5,6,7,8,9,10,11,12 )  # 파라메터"
      ],
      "metadata": {
        "colab": {
          "base_uri": "https://localhost:8080/"
        },
        "id": "NdzF5k_JTifd",
        "outputId": "c2a217a4-3f1e-4112-c9d9-a89f0a13adaf"
      },
      "execution_count": 76,
      "outputs": [
        {
          "output_type": "execute_result",
          "data": {
            "text/plain": [
              "78"
            ]
          },
          "metadata": {},
          "execution_count": 76
        }
      ]
    },
    {
      "cell_type": "code",
      "source": [
        "list_2 = [1,2,3,4]\n",
        "print(list_2)\n",
        "print(*list_2)  # un-packing  언패킹"
      ],
      "metadata": {
        "colab": {
          "base_uri": "https://localhost:8080/"
        },
        "id": "q9Jebgh0UdWc",
        "outputId": "86604e6a-6de8-4eb3-c547-8bca43fe786f"
      },
      "execution_count": 78,
      "outputs": [
        {
          "output_type": "stream",
          "name": "stdout",
          "text": [
            "[1, 2, 3, 4]\n",
            "1 2 3 4\n"
          ]
        }
      ]
    },
    {
      "cell_type": "code",
      "source": [
        "# sum_lists2(list_2) # TypeError: unsupported operand type(s) for +=: 'int' and 'list'\n",
        "sum_lists2(*list_2)  # 리스트의 데이터를 언패킹해서 매개변수로 전달하면 함수에서 다시 패킹해서 리스트로 사용한다."
      ],
      "metadata": {
        "colab": {
          "base_uri": "https://localhost:8080/"
        },
        "id": "C186BwWYVMUN",
        "outputId": "5a137529-a284-4cde-e642-d6fb3faf9d42"
      },
      "execution_count": 80,
      "outputs": [
        {
          "output_type": "execute_result",
          "data": {
            "text/plain": [
              "10"
            ]
          },
          "metadata": {},
          "execution_count": 80
        }
      ]
    },
    {
      "cell_type": "markdown",
      "source": [
        "매개변수를 지정해서 전달하기"
      ],
      "metadata": {
        "id": "WYu5i3kRZS9A"
      }
    },
    {
      "cell_type": "code",
      "source": [
        "def func1(name,age,addr):\n",
        "  print(f'name:{name}  age:{age}  addr:{addr}')"
      ],
      "metadata": {
        "id": "fXOU5fWLVkfN"
      },
      "execution_count": 81,
      "outputs": []
    },
    {
      "cell_type": "code",
      "source": [
        "func1('홍길동', 10,'서울시')"
      ],
      "metadata": {
        "colab": {
          "base_uri": "https://localhost:8080/"
        },
        "id": "D7DRI1abZlrV",
        "outputId": "6d25c554-966d-445f-8f49-40301995fd39"
      },
      "execution_count": 82,
      "outputs": [
        {
          "output_type": "stream",
          "name": "stdout",
          "text": [
            "name:홍길동  age:10  addr:서울시\n"
          ]
        }
      ]
    },
    {
      "cell_type": "code",
      "source": [
        "# positional argument는  keyword arguments 뒤에 올수 없음\n",
        "func1(age = 10,name = '홍길동',addr = '서울시')\n",
        "# positional argument는  keyword arguments 앞에 올수 있음\n",
        "func1(\"홍길동\", addr = '서울시', age = 20)\n"
      ],
      "metadata": {
        "colab": {
          "base_uri": "https://localhost:8080/"
        },
        "id": "JK90qXaEZ0-N",
        "outputId": "e31ce91d-1329-4330-8e1b-949c0c32b1d8"
      },
      "execution_count": 85,
      "outputs": [
        {
          "output_type": "stream",
          "name": "stdout",
          "text": [
            "name:홍길동  age:10  addr:서울시\n",
            "name:홍길동  age:20  addr:서울시\n"
          ]
        }
      ]
    },
    {
      "cell_type": "code",
      "source": [
        "# 키워드 아큐먼트는  패킹, 언패킹 ? --> **\n",
        "params = {\n",
        "    'name' : '홍길동',\n",
        "    'age' : 10,\n",
        "    'addr' : '서울시'\n",
        "}\n",
        "print(params)\n",
        "func1(**params)"
      ],
      "metadata": {
        "colab": {
          "base_uri": "https://localhost:8080/"
        },
        "id": "8NTADaa0Z-Ot",
        "outputId": "326a1028-04d0-44c0-9a6e-bbdf3b606e7d"
      },
      "execution_count": 88,
      "outputs": [
        {
          "output_type": "stream",
          "name": "stdout",
          "text": [
            "{'name': '홍길동', 'age': 10, 'addr': '서울시'}\n",
            "name:홍길동  age:10  addr:서울시\n"
          ]
        }
      ]
    },
    {
      "cell_type": "markdown",
      "source": [
        "정리\n",
        "  - keyword arguments\n",
        "  - **\n",
        "  - dictionary 형태"
      ],
      "metadata": {
        "id": "aanqT_ZAcZqI"
      }
    },
    {
      "cell_type": "code",
      "source": [
        "def func_params(*params):\n",
        "  # 매개변수들을 리스트로 변환해서 받는다\n",
        "  for i in params:\n",
        "    print(i)\n",
        "\n",
        "def func_keyword(**params):\n",
        "  # keyword = value, 형태의 keyword argument를 dictionary 형태로 변환해서 받는다\n",
        "  for i in params.items():  # 딕셔너리의 키값들만 반환\n",
        "    print( i )   # 딕셔너리의 키에대한 값을 출력\n"
      ],
      "metadata": {
        "id": "IJpp9qOIb_G1"
      },
      "execution_count": 95,
      "outputs": []
    },
    {
      "cell_type": "code",
      "source": [
        "func_params(1,2,3,\"abc\")"
      ],
      "metadata": {
        "colab": {
          "base_uri": "https://localhost:8080/"
        },
        "id": "R5JPBIFfdPlf",
        "outputId": "1bd29a7c-a865-4f13-ba4e-37196f32a1b9"
      },
      "execution_count": 93,
      "outputs": [
        {
          "output_type": "stream",
          "name": "stdout",
          "text": [
            "1\n",
            "2\n",
            "3\n",
            "abc\n"
          ]
        }
      ]
    },
    {
      "cell_type": "code",
      "source": [
        "func_keyword(name='홍길동', age=10, addr = '서울시')"
      ],
      "metadata": {
        "colab": {
          "base_uri": "https://localhost:8080/"
        },
        "id": "HJCgX0nEdgTc",
        "outputId": "d2788e42-4614-42a4-c0f6-e464cf2a9a49"
      },
      "execution_count": 97,
      "outputs": [
        {
          "output_type": "stream",
          "name": "stdout",
          "text": [
            "('name', '홍길동')\n",
            "('age', 10)\n",
            "('addr', '서울시')\n"
          ]
        }
      ]
    },
    {
      "cell_type": "markdown",
      "source": [
        "- 함수의 리턴값을 다양하게 하는 법(여러개 또는.. 리스트나 딕셔너리형태로)\n",
        "\n",
        "- 1.positional arguments\n",
        "  - 순서대로 매개변수를 지정하고 사용\n",
        "- 2.default arguments  \n",
        "  - 특정 매개변수의 값을 미리지정해서 할당받지  않으면 디폴트값을사용\n",
        "- 3.keyword arguments\n",
        "  - 딕셔너리처럼 매개변수를 직접지정해서 전달\n",
        "- 함수 설계시 1,2,3을 혼합해서 사용가능\n",
        "  - 디폴트 매개변수는 반드시 포지셔널 매개변수 뒤에\n",
        "  - 키워드 매개변수는 반드시 포지셔널 매개변수 뒤에\n",
        "- 실제 함수의 매개변수 설계\n",
        "  - 포지셔널 매개변수 한개또는 두개를 먼저 정의하고 나머지는 전부 키워드로 설정  \n",
        "\n",
        "\n",
        "- 패킹 / 언패킹\n",
        "  - *params\n",
        "  - **params\n",
        "\n"
      ],
      "metadata": {
        "id": "mIPOFNGnejDs"
      }
    },
    {
      "cell_type": "code",
      "source": [
        "def real_func1(a,*args):\n",
        "  pass\n",
        "\n",
        "def real_func2(a,b=0,c=0,alpha=0.5,reverse=False,shuffle=True):\n",
        "\n",
        "  pass\n"
      ],
      "metadata": {
        "id": "L-vgOzeWd6eN"
      },
      "execution_count": 128,
      "outputs": []
    },
    {
      "cell_type": "code",
      "source": [
        "params = {\n",
        "    'a' : 1,\n",
        "    'b' : 2,\n",
        "    'c' : 3,\n",
        "    'alpha' : 1.0,\n",
        "    'reverse' : True,\n",
        "    'shuffle' : False\n",
        "}\n",
        "real_func2(**params)"
      ],
      "metadata": {
        "id": "kXEvCcvpgW7M"
      },
      "execution_count": 130,
      "outputs": []
    },
    {
      "cell_type": "code",
      "source": [],
      "metadata": {
        "id": "JJffXUYegilU"
      },
      "execution_count": null,
      "outputs": []
    }
  ]
}