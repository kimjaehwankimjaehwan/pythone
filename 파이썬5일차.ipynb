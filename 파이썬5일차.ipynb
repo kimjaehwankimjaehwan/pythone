{
  "nbformat": 4,
  "nbformat_minor": 0,
  "metadata": {
    "colab": {
      "provenance": []
    },
    "kernelspec": {
      "name": "python3",
      "display_name": "Python 3"
    },
    "language_info": {
      "name": "python"
    }
  },
  "cells": [
    {
      "cell_type": "markdown",
      "source": [
        "# 순환문 제어\n",
        "  - break : 중지\n",
        "  - continue : 순환문의 마지막으로 이동 즉 continu 아래 문장은 실행안하고 다음 순환"
      ],
      "metadata": {
        "id": "5p_SPLgrX3UN"
      }
    },
    {
      "cell_type": "code",
      "source": [
        "for i  in range(10):\n",
        "  if i == 2:\n",
        "    break # break가 속한 순환문을 탈출\n",
        "  print(i)"
      ],
      "metadata": {
        "colab": {
          "base_uri": "https://localhost:8080/"
        },
        "id": "7pwifzm3X7gu",
        "outputId": "df078a7d-136f-401b-d4e3-83395ef9ee75"
      },
      "execution_count": 7,
      "outputs": [
        {
          "output_type": "stream",
          "name": "stdout",
          "text": [
            "0\n",
            "1\n"
          ]
        }
      ]
    },
    {
      "cell_type": "code",
      "source": [
        "for i  in range(10):\n",
        "  if i == 2:\n",
        "    continue # break가 속한 순환문을 탈출\n",
        "  print(i)"
      ],
      "metadata": {
        "colab": {
          "base_uri": "https://localhost:8080/"
        },
        "id": "kCURD15HYSOt",
        "outputId": "58021539-287c-4397-f3aa-87e14e0bb58d"
      },
      "execution_count": 8,
      "outputs": [
        {
          "output_type": "stream",
          "name": "stdout",
          "text": [
            "0\n",
            "1\n",
            "3\n",
            "4\n",
            "5\n",
            "6\n",
            "7\n",
            "8\n",
            "9\n"
          ]
        }
      ]
    },
    {
      "cell_type": "code",
      "source": [
        "# 1부터 계속 더하다가  그 합이 1000 에 가장까운 숫자는  1+2+3+4\n",
        "# 순환문과 for문을 이용\n",
        "hap = 0\n",
        "for i in range(1000):\n",
        "  hap += i\n",
        "  if hap >= 1000:\n",
        "    print(hap-i,hap, i-1, i)\n",
        "    break"
      ],
      "metadata": {
        "colab": {
          "base_uri": "https://localhost:8080/"
        },
        "id": "JEOiRb_cZt3_",
        "outputId": "eb5cedde-3d01-4a80-bbbd-70278ac3acff"
      },
      "execution_count": 11,
      "outputs": [
        {
          "output_type": "stream",
          "name": "stdout",
          "text": [
            "990 1035 44 45\n"
          ]
        }
      ]
    },
    {
      "cell_type": "code",
      "source": [
        "# 짝수 또는 홀수만 출력  continue 를 사용  skip\n",
        "for i in range(0,11):\n",
        "  if i % 2 !=0: # 홀수면\n",
        "    continue  # 다음문장 실행하지 않고 다음단계로 넘어감\n",
        "  print(i)"
      ],
      "metadata": {
        "colab": {
          "base_uri": "https://localhost:8080/"
        },
        "id": "glwzuvoKZuk-",
        "outputId": "c18f2db5-ac2b-4a8b-bac1-38c12c44c3b9"
      },
      "execution_count": 15,
      "outputs": [
        {
          "output_type": "stream",
          "name": "stdout",
          "text": [
            "0\n",
            "2\n",
            "4\n",
            "6\n",
            "8\n",
            "10\n"
          ]
        }
      ]
    },
    {
      "cell_type": "markdown",
      "source": [
        "while VS for\n",
        "  - for : 횟수가 정해짐 - 정해진 데이터를 탐색\n",
        "  - while은 조건이기때문에 횟수가 따로 정해지지 않음"
      ],
      "metadata": {
        "id": "l6uyVTO8cVsn"
      }
    },
    {
      "cell_type": "markdown",
      "source": [
        "# while 조건\n",
        "  - for문처럼 블럭을 순환하는데.  조건을 만족하면 즉 만족안할때 까지 순환"
      ],
      "metadata": {
        "id": "9a_iTTDicC1e"
      }
    },
    {
      "cell_type": "code",
      "source": [
        "cnt = 0\n",
        "while cnt < 5:\n",
        "  print(\"순환문\")\n",
        "  cnt += 1"
      ],
      "metadata": {
        "colab": {
          "base_uri": "https://localhost:8080/"
        },
        "id": "_vbBloU-Zun-",
        "outputId": "1d9c159e-c855-4a86-cb4a-3dfb73243617"
      },
      "execution_count": 1,
      "outputs": [
        {
          "output_type": "stream",
          "name": "stdout",
          "text": [
            "순환문\n",
            "순환문\n",
            "순환문\n",
            "순환문\n",
            "순환문\n"
          ]
        }
      ]
    },
    {
      "cell_type": "code",
      "source": [
        "# 두개의 숫자를 입력받아서 input\n",
        "# 두개의 숫자의 합을 출력하는 문장을 반복하되\n",
        "# 둘다 같은수를 입력하면 종료한다.\n",
        "while True:\n",
        "  num1, num2 =  float(input(\"첫번째 숫자를 입력하세요\")) , float(input(\"두번째 숫자를 입력하세요\"))\n",
        "  if num1 == num2:\n",
        "    break\n",
        "  print(f\"{num1} + {num2} = {num1 + num2}\")"
      ],
      "metadata": {
        "colab": {
          "base_uri": "https://localhost:8080/"
        },
        "id": "e-16vgDUZurF",
        "outputId": "06743eb4-5a5b-4c58-91c9-02ef058df168"
      },
      "execution_count": 2,
      "outputs": [
        {
          "name": "stdout",
          "output_type": "stream",
          "text": [
            "첫번째 숫자를 입력하세요1\n",
            "두번째 숫자를 입력하세요5\n",
            "1.0 + 5.0 = 6.0\n",
            "첫번째 숫자를 입력하세요5\n",
            "두번째 숫자를 입력하세요6\n",
            "5.0 + 6.0 = 11.0\n",
            "첫번째 숫자를 입력하세요1\n",
            "두번째 숫자를 입력하세요1\n"
          ]
        }
      ]
    },
    {
      "cell_type": "markdown",
      "source": [
        "퀴즈\n",
        "  - 1. 가위 바위 보 게임\n",
        "    - 규칙 : 컴퓨터가 하나 고른다.(우리는 모름)\n",
        "    - 사용자한테 가위(0), 바위(1), 보(2) 입력을 받아서\n",
        "    - 사용자가 이길때 까지 반복한다"
      ],
      "metadata": {
        "id": "hIgabdkdfBX2"
      }
    },
    {
      "cell_type": "code",
      "source": [
        "import random\n",
        "while True:\n",
        "  com = random.randint(0,2)\n",
        "  human = int( input(\"가위(0), 바위(1), 보(2) : \") )\n",
        "  if com == 0 and human == 0:\n",
        "    print('비겼습니다.')\n",
        "  elif com == 0 and human == 1:\n",
        "    print('이겼습니다.')\n",
        "    break\n",
        "  elif com == 0 and human == 2:\n",
        "    print('졌습니다.')\n",
        "  elif com == 1 and human == 0:\n",
        "    print('졌습니다.')\n",
        "  elif com == 1 and human == 1:\n",
        "    print('비겼습니다.')\n",
        "    break\n",
        "  elif com == 1 and human == 2:\n",
        "    print('이겼습니다.')\n",
        "    break\n",
        "  elif com == 2 and human == 0:\n",
        "    print('이겼습니다.')\n",
        "    break\n",
        "  elif com == 2 and human == 1:\n",
        "    print('졌습니다.')\n",
        "  elif com == 2 and human == 2:\n",
        "    print('비겼습니다.')\n",
        "\n",
        "\n"
      ],
      "metadata": {
        "colab": {
          "base_uri": "https://localhost:8080/"
        },
        "id": "UwxEJW8HZt6t",
        "outputId": "ddd4ae33-6c44-48e4-d23e-0e777e4e789e"
      },
      "execution_count": 6,
      "outputs": [
        {
          "output_type": "stream",
          "name": "stdout",
          "text": [
            "가위(0), 바위(1), 보(2) : 0\n",
            "졌습니다.\n",
            "가위(0), 바위(1), 보(2) : 0\n",
            "이겼습니다.\n"
          ]
        }
      ]
    },
    {
      "cell_type": "code",
      "source": [
        "\n",
        "import random\n",
        "while True:\n",
        "  com = random.randint(0,2)\n",
        "  human = int( input(\"가위(0), 바위(1), 보(2) : \") )\n",
        "  if com == human:\n",
        "    print('비겼습니다.')\n",
        "  elif  (com == 0 and human == 1) or \\\n",
        "        (com == 1 and human == 2) or \\\n",
        "        (com == 2 and human == 0) :\n",
        "    print('이겼습니다.')\n",
        "    break\n",
        "  else:\n",
        "    print('졌습니다.')"
      ],
      "metadata": {
        "colab": {
          "base_uri": "https://localhost:8080/"
        },
        "id": "tr86q0F4Zt-G",
        "outputId": "fb5a1a80-0102-4c99-c99a-e265bcac7097"
      },
      "execution_count": 8,
      "outputs": [
        {
          "output_type": "stream",
          "name": "stdout",
          "text": [
            "가위(0), 바위(1), 보(2) : 0\n",
            "비겼습니다.\n",
            "가위(0), 바위(1), 보(2) : 0\n",
            "비겼습니다.\n",
            "가위(0), 바위(1), 보(2) : 0\n",
            "이겼습니다.\n"
          ]
        }
      ]
    },
    {
      "cell_type": "code",
      "source": [
        "# 1부터 100 사의 숫자중에 임의로 컴퓨터가 하나 선택하면\n",
        "# 사용자로부터 값을 계속 입력받아서 맞출때 까지 실행하는데.. 그 횟수를 count 해서 출력한다.\n",
        "# EX) 10번만에 맞췄다고 하면\n",
        "# 정답입니다.. 10번 시도했습니다.\n",
        "# binary search 알고리즘\n",
        "import random\n",
        "com = random.randint(1,101)\n",
        "cnt = 0\n",
        "# print(com)\n",
        "while True:\n",
        "  human = int( input('번호를 추측하세요(1~100)') )\n",
        "  if com == human:\n",
        "    print(f'정답입니다. {cnt}번 시도했습니다.')\n",
        "    break\n",
        "  elif com > human:\n",
        "    print(\"큽니다\")\n",
        "  else:\n",
        "    print(\"작습니다\")\n",
        "  cnt += 1"
      ],
      "metadata": {
        "colab": {
          "base_uri": "https://localhost:8080/"
        },
        "id": "-n7S50skZuBO",
        "outputId": "6b4dcf93-632e-4c03-9eef-6c75b9f79a41"
      },
      "execution_count": 15,
      "outputs": [
        {
          "output_type": "stream",
          "name": "stdout",
          "text": [
            "번호를 추측하세요(1~100)50\n",
            "큽니다\n",
            "번호를 추측하세요(1~100)75\n",
            "작습니다\n",
            "번호를 추측하세요(1~100)60\n",
            "작습니다\n",
            "번호를 추측하세요(1~100)55\n",
            "큽니다\n",
            "번호를 추측하세요(1~100)57\n",
            "큽니다\n",
            "번호를 추측하세요(1~100)58\n",
            "정답입니다. 5번 시도했습니다.\n"
          ]
        }
      ]
    },
    {
      "cell_type": "code",
      "source": [
        "type(\"a\") == str,  type(1) == int, type(1.5) == float, type(True) == bool, type([1,2,3]) == list"
      ],
      "metadata": {
        "colab": {
          "base_uri": "https://localhost:8080/"
        },
        "id": "PqIHc-qwoHg7",
        "outputId": "6299ed78-7a41-4dbf-dd4b-cb3584428540"
      },
      "execution_count": 27,
      "outputs": [
        {
          "output_type": "execute_result",
          "data": {
            "text/plain": [
              "(True, True, True, True, True)"
            ]
          },
          "metadata": {},
          "execution_count": 27
        }
      ]
    },
    {
      "cell_type": "code",
      "source": [
        "# 주어진 리스트중에서 문자열만 찾아서 새로운 리스트에 할당\n",
        "temp_data = [ 1, 2, 10.5, '홍길동', [1,2,3], '철수', 1,2,3  ]\n",
        "# 순환문을 이용해서 리스트의 값을 하나씩 꺼내서 문자열인지 비교한후 문자열이면 새로운 리스트에 추가한다\n",
        "new_data = []\n",
        "\n",
        "for i in temp_data:\n",
        "  if type(i) == str:\n",
        "    new_data.append(i)\n",
        "\n",
        "print(new_data)\n"
      ],
      "metadata": {
        "colab": {
          "base_uri": "https://localhost:8080/"
        },
        "id": "VMxRb1C3qUHb",
        "outputId": "bae1ecc2-16b3-44f2-b8c4-3b7d75ae7261"
      },
      "execution_count": 24,
      "outputs": [
        {
          "output_type": "stream",
          "name": "stdout",
          "text": [
            "['홍길동', '철수']\n"
          ]
        }
      ]
    },
    {
      "cell_type": "code",
      "source": [
        "# 위의 코드를 이용해서 이번에는 정수와 실수와같은 숫자만 추출해 보자\n",
        "temp_data = [ 1, 2, 10.5, '홍길동', [1,2,3], '철수', 1,2,3  ]\n",
        "# 순환문을 이용해서 리스트의 값을 하나씩 꺼내서 문자열인지 비교한후 문자열이면 새로운 리스트에 추가한다\n",
        "new_data = []  # 초기화\n",
        "\n",
        "for i in temp_data:\n",
        "  if (type(i) == int) or ( type(i) == float  ) :\n",
        "    new_data.append(i)\n",
        "\n",
        "print(new_data)"
      ],
      "metadata": {
        "colab": {
          "base_uri": "https://localhost:8080/"
        },
        "id": "Khn3IWiKqqab",
        "outputId": "a17ee8fd-2ea8-469d-94ec-6c5446ab525d"
      },
      "execution_count": 28,
      "outputs": [
        {
          "output_type": "stream",
          "name": "stdout",
          "text": [
            "[1, 2, 10.5, 1, 2, 3]\n"
          ]
        }
      ]
    },
    {
      "cell_type": "code",
      "source": [
        "temp_data = [ '1', '2', '10',  [1,2,3], '홍길동','철수', '1','2','3'  ]\n",
        "# 문자열 숫자를 판단하는 방법\n",
        "# a = ['100']\n",
        "# a[0].isdigit() -- >True\n",
        "# 숫자로 변경가능한 문자열을 찾아서 실제 숫자로 변경한다음 그 합을 구하시오\n",
        "new_data = []\n",
        "for i in temp_data:\n",
        "  if type(i) == str and  i.isdigit():   # 리스트에 있는 각각의 요소가 문자열일때만 isdigit을 적용한다\n",
        "    new_data.append(int(i))\n",
        "print(new_data)\n",
        "print( sum(new_data)  )\n",
        "\n"
      ],
      "metadata": {
        "colab": {
          "base_uri": "https://localhost:8080/"
        },
        "collapsed": true,
        "id": "b75lQ0sktanD",
        "outputId": "40f64f16-61b5-499d-d39b-50550bd4798f"
      },
      "execution_count": 53,
      "outputs": [
        {
          "output_type": "stream",
          "name": "stdout",
          "text": [
            "[1, 2, 10, 1, 2, 3]\n",
            "19\n"
          ]
        }
      ]
    },
    {
      "cell_type": "code",
      "source": [
        "list_1 = [1,2,3]\n",
        "list_2 = [4,5,6]\n",
        "# 두 리스트를 이용해서 [1,2,3,4,5,6] 을 만들어 보세요 새로운 리스트에 저장\n",
        "# extend 명령어를 사용  - 리스트를 확장하는 명령어\n",
        "list_1.extend( list_2 )\n",
        "print(list_1)"
      ],
      "metadata": {
        "colab": {
          "base_uri": "https://localhost:8080/"
        },
        "id": "83xMf0vptze5",
        "outputId": "3b1e3463-4c5e-4dd5-8fe0-133a88ae7c40"
      },
      "execution_count": 63,
      "outputs": [
        {
          "output_type": "stream",
          "name": "stdout",
          "text": [
            "[1, 2, 3, 10]\n"
          ]
        }
      ]
    },
    {
      "cell_type": "code",
      "source": [
        "list_temp = [   [1,2,3],[4,5,6],[7,8,9],[10,11,12]  ]\n",
        "# 순환문과 extend를 이용해서\n",
        "# list_temp를 출력하면 [ 1,2,3,4,5,6,7,8,9,10,11,12  ]\n",
        "new_list = []  # 빈 리스트를 생성\n",
        "for i in list_temp: # 리스트의 요소(리스트)를 순환\n",
        "  new_list.extend( i )  # 리스트에 새로운 리스트를 extend해서 하나의 리스트로 만든다\n",
        "  # print(new_list)  # 매 순간 상태를 확인하고 싶으면 주석을 제고하고 실행\n",
        "\n",
        "print(new_list)\n",
        "# [1, 2, 3]\n",
        "# [1, 2, 3, 4, 5, 6]\n",
        "# [1, 2, 3, 4, 5, 6, 7, 8, 9]\n",
        "# [1, 2, 3, 4, 5, 6, 7, 8, 9, 10, 11, 12]\n"
      ],
      "metadata": {
        "colab": {
          "base_uri": "https://localhost:8080/"
        },
        "id": "SHqbR7Y2081B",
        "outputId": "95f71b07-e6e4-4ddd-a6d4-bdd76e7e12de"
      },
      "execution_count": 68,
      "outputs": [
        {
          "output_type": "stream",
          "name": "stdout",
          "text": [
            "[1, 2, 3]\n",
            "[1, 2, 3, 4, 5, 6]\n",
            "[1, 2, 3, 4, 5, 6, 7, 8, 9]\n",
            "[1, 2, 3, 4, 5, 6, 7, 8, 9, 10, 11, 12]\n",
            "[1, 2, 3, 4, 5, 6, 7, 8, 9, 10, 11, 12]\n"
          ]
        }
      ]
    },
    {
      "cell_type": "markdown",
      "source": [
        "# 리스트 컴프리핸션\n",
        "  - for 문 없이 한줄로 표현 가능한 문법 - 간단한 for문에 대해서"
      ],
      "metadata": {
        "id": "Bj2oXTIP5_QZ"
      }
    },
    {
      "cell_type": "code",
      "source": [
        "# 1~100 사이의 랜덤한 값 10 개를 리스트에 담으세요\n",
        "import random\n",
        "\n",
        "random_list = []\n",
        "for i in range(10):\n",
        "  random_list.append( random.randint(1,100) )\n",
        "\n",
        "print(random_list)"
      ],
      "metadata": {
        "colab": {
          "base_uri": "https://localhost:8080/"
        },
        "id": "W5MGf3kc4snB",
        "outputId": "12e15037-69e8-42d8-c667-e2894cb3e622"
      },
      "execution_count": 69,
      "outputs": [
        {
          "output_type": "stream",
          "name": "stdout",
          "text": [
            "[54, 37, 6, 54, 16, 77, 26, 28, 89, 43]\n"
          ]
        }
      ]
    },
    {
      "cell_type": "code",
      "source": [
        "random_list = [random.randint(1,100) for i in range(10)]\n",
        "print(random_list)"
      ],
      "metadata": {
        "colab": {
          "base_uri": "https://localhost:8080/"
        },
        "id": "3fTbrVGW6njB",
        "outputId": "aa5713fa-04ed-4ba8-fc6c-b2d97cf6e63f"
      },
      "execution_count": 72,
      "outputs": [
        {
          "output_type": "stream",
          "name": "stdout",
          "text": [
            "[27, 64, 90, 72, 42, 16, 44, 30, 84, 13]\n"
          ]
        }
      ]
    },
    {
      "cell_type": "code",
      "source": [
        "# 리스트 컴프리핸션\n",
        "# [ for문안에서 실행할 로직  for i in 집합   ]"
      ],
      "metadata": {
        "id": "B1r_UilF68Zg"
      },
      "execution_count": 71,
      "outputs": []
    },
    {
      "cell_type": "code",
      "source": [
        "[ i*2 for i in range(10) ]"
      ],
      "metadata": {
        "colab": {
          "base_uri": "https://localhost:8080/"
        },
        "id": "8cOlKNo67rrd",
        "outputId": "638bbd4c-6a62-468c-e38f-bd9f1bd6ef3a"
      },
      "execution_count": 73,
      "outputs": [
        {
          "output_type": "execute_result",
          "data": {
            "text/plain": [
              "[0, 2, 4, 6, 8, 10, 12, 14, 16, 18]"
            ]
          },
          "metadata": {},
          "execution_count": 73
        }
      ]
    },
    {
      "cell_type": "code",
      "source": [
        "num = 10\n",
        "result = ''\n",
        "if num %2 == 0 :\n",
        "  result = \"짝수\"\n",
        "else:\n",
        "  result = \"홀수\"\n",
        "print(result)"
      ],
      "metadata": {
        "colab": {
          "base_uri": "https://localhost:8080/"
        },
        "id": "ugGvQ6H5707T",
        "outputId": "2e6b05d1-49dd-4068-89b2-f598ebe3c88c"
      },
      "execution_count": 75,
      "outputs": [
        {
          "output_type": "stream",
          "name": "stdout",
          "text": [
            "짝수\n"
          ]
        }
      ]
    },
    {
      "cell_type": "code",
      "source": [
        "num = 10\n",
        "result = '짝수' if num %2 == 0  else '홀수'\n",
        "print(result)"
      ],
      "metadata": {
        "colab": {
          "base_uri": "https://localhost:8080/"
        },
        "id": "L77Nt_xS8b8h",
        "outputId": "9d9fdc21-f973-4f18-d123-55c4e16bde15"
      },
      "execution_count": 77,
      "outputs": [
        {
          "output_type": "stream",
          "name": "stdout",
          "text": [
            "짝수\n"
          ]
        }
      ]
    },
    {
      "cell_type": "code",
      "source": [
        "# 임의수 10개 만들어서 짝수면 1 홀수면 0을 출력\n",
        "# 리스트 컴프리핸션을 이용해서 임의수 10개를 가지는 리스트를 만들것\n",
        "import random\n",
        "random_lilst = [ random.randint(1,100)  for i in range(10) ]\n",
        "print(random_list)\n",
        "\n",
        "for i in random_list:\n",
        "  print(    1 if i%2 ==0  else 0     )"
      ],
      "metadata": {
        "colab": {
          "base_uri": "https://localhost:8080/"
        },
        "id": "rt5QwzxX8rRw",
        "outputId": "62170e7e-ee39-46dc-abbd-e56425ba5f3e"
      },
      "execution_count": 79,
      "outputs": [
        {
          "output_type": "stream",
          "name": "stdout",
          "text": [
            "[27, 64, 90, 72, 42, 16, 44, 30, 84, 13]\n",
            "0\n",
            "1\n",
            "1\n",
            "1\n",
            "1\n",
            "1\n",
            "1\n",
            "1\n",
            "1\n",
            "0\n"
          ]
        }
      ]
    },
    {
      "cell_type": "code",
      "source": [],
      "metadata": {
        "id": "Zn9uj9_z9lfw"
      },
      "execution_count": null,
      "outputs": []
    }
  ]
}