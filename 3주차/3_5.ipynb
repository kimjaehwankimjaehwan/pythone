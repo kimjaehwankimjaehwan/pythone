{
  "nbformat": 4,
  "nbformat_minor": 0,
  "metadata": {
    "colab": {
      "provenance": []
    },
    "kernelspec": {
      "name": "python3",
      "display_name": "Python 3"
    },
    "language_info": {
      "name": "python"
    }
  },
  "cells": [
    {
      "cell_type": "code",
      "execution_count": null,
      "metadata": {
        "id": "XBppzNY1eIK_"
      },
      "outputs": [],
      "source": []
    },
    {
      "cell_type": "markdown",
      "source": [
        "# 벡터\n",
        "  - 스칼라\n",
        "    - 숫자 하나로 이루어진 데이터(상수)\n",
        "    - 크기만 있고 방향은 없는 양의 정수\n",
        "    - 알파벳 소문자로 표기\n",
        "    - 실수 집합의 원소\n",
        "\n",
        "    ![image.png](data:image/png;base64,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)"
      ],
      "metadata": {
        "id": "mDhbtlvgedUm"
      }
    },
    {
      "cell_type": "markdown",
      "source": [
        "  - 벡터\n",
        "    - 여러 숫자로 이루어진 데이터 레코드  data Record\n",
        "    - 크기와 방향을 가진 양의로 정의\n",
        "    - 유한한 차원의 공간에 존재하는 점\n",
        "    - 벡터끼리 더하거나 벡터와 상수를 곱해서 새로운 벡터를 생성\n",
        "\n",
        "    ![image.png](data:image/png;base64,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)"
      ],
      "metadata": {
        "id": "KT402YTtetn9"
      }
    },
    {
      "cell_type": "markdown",
      "source": [
        "벡터의 합과 차"
      ],
      "metadata": {
        "id": "aKcrNkCgfqaE"
      }
    },
    {
      "cell_type": "code",
      "source": [
        "vector1 = [80, 90]\n",
        "vector2 = [70, 80]\n",
        "vector3 = []\n",
        "# 두 벡터의 합을 구하세요(hint  리스의 각각의 원소끼리 더해서 새로운 리스트를 만든다)\n",
        "for i in range(len(vector1)):\n",
        "  vector3.append(vector1[i] + vector2[i])\n",
        "\n",
        "print(vector3)"
      ],
      "metadata": {
        "colab": {
          "base_uri": "https://localhost:8080/"
        },
        "id": "mfUuobxgegh6",
        "outputId": "86446a99-ed15-49ff-b765-7a493ddfa948"
      },
      "execution_count": 3,
      "outputs": [
        {
          "output_type": "stream",
          "name": "stdout",
          "text": [
            "[150, 170]\n"
          ]
        }
      ]
    },
    {
      "cell_type": "code",
      "source": [
        "# 벡터끼리의 차 를 구하는 함수\n",
        "def vector_sub(vector1, vector2):\n",
        "  vector3 = []\n",
        "  for i in range(len(vector1)):\n",
        "    vector3.append(vector1[i] - vector2[i])\n",
        "  return vector3\n",
        "\n",
        "vector_sub(vector1, vector2)"
      ],
      "metadata": {
        "colab": {
          "base_uri": "https://localhost:8080/"
        },
        "id": "-dEy7S55ej86",
        "outputId": "0ebf05b9-d78d-4cf8-8389-1b7409bd21e5"
      },
      "execution_count": 5,
      "outputs": [
        {
          "output_type": "execute_result",
          "data": {
            "text/plain": [
              "[10, 10]"
            ]
          },
          "metadata": {},
          "execution_count": 5
        }
      ]
    },
    {
      "cell_type": "markdown",
      "source": [
        "### 벡터의 상등\n",
        "  - 벡터의 순서와 그 순서에 해당되는 각각의 성분이 같다는 의미"
      ],
      "metadata": {
        "id": "FMvR6SNuh_YC"
      }
    },
    {
      "cell_type": "markdown",
      "source": [
        "# 벡터의 선형조합(Linear Combination)\n",
        "  - 여러개의 벡터에  스칼라 곱을한후 더한것\n",
        "\n",
        "  \n",
        "![image.png](data:image/png;base64,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)\n",
        "\n"
      ],
      "metadata": {
        "id": "3ngzIkxyiMmi"
      }
    },
    {
      "cell_type": "code",
      "source": [
        "# c1x1 + c2x2\n",
        "# c1, c2  0.5, 0.5이라고 하고 x1 = [5,10], x2 = [10,20]\n",
        "# 0.5x[5,10] + 0.5x[10,20]\n",
        "c1 =  c2 = 0.5\n",
        "x1 = [5, 10]\n",
        "x2 = [10,20]\n",
        "\n",
        "result = []\n",
        "for i in range(len(x1)):\n",
        "    result.append(c1*x1[i] + c2*x2[i])\n",
        "print(result)"
      ],
      "metadata": {
        "colab": {
          "base_uri": "https://localhost:8080/"
        },
        "id": "N5zRDW9Ah_AG",
        "outputId": "c103188c-ef6e-4397-bd31-e6eaca1c7d94"
      },
      "execution_count": 6,
      "outputs": [
        {
          "output_type": "stream",
          "name": "stdout",
          "text": [
            "[7.5, 15.0]\n"
          ]
        }
      ]
    },
    {
      "cell_type": "markdown",
      "source": [
        "### 스칼라와 벡터의 곱\n",
        "  - map함수를 이용하면 잘 맞는다\n",
        "  - 방향은 변하지 않고 벡터의 길이가 커짐\n",
        "  - 음수를 곱하면 방향이 반대가 됨"
      ],
      "metadata": {
        "id": "c7tU6G-6kSTR"
      }
    },
    {
      "cell_type": "code",
      "source": [
        "# c1 = 2\n",
        "# vector = [1,2,3,4,5]\n",
        "# [2,4,6,8,10]\n",
        "vector1 = [1,2,3,4,5]\n",
        "c1 = 2\n",
        "result = list(map(lambda x: x*c1, vector1))\n",
        "print(result)"
      ],
      "metadata": {
        "colab": {
          "base_uri": "https://localhost:8080/"
        },
        "id": "wjruxE5Jh_Cr",
        "outputId": "a322b993-ff95-4171-ff2f-0ba6494ca5b4"
      },
      "execution_count": 7,
      "outputs": [
        {
          "output_type": "stream",
          "name": "stdout",
          "text": [
            "[2, 4, 6, 8, 10]\n"
          ]
        }
      ]
    },
    {
      "cell_type": "markdown",
      "source": [
        "### 벡터의 선형조합\n",
        "  - sum, zip 함수를 이용"
      ],
      "metadata": {
        "id": "dqm-Dl6oldlp"
      }
    },
    {
      "cell_type": "code",
      "source": [
        "c1 = 2\n",
        "x1 = [5, 10]\n",
        "x2 = [10,20]\n",
        "# c1x1 + c1x2\n",
        "result = [ sum(i)*c1 for i in zip(x1, x2) ]\n",
        "print(result)"
      ],
      "metadata": {
        "colab": {
          "base_uri": "https://localhost:8080/"
        },
        "id": "FFfoYwRAh_E6",
        "outputId": "161cdb1b-e63c-4982-fcab-e2a79b3b1c03"
      },
      "execution_count": 15,
      "outputs": [
        {
          "output_type": "stream",
          "name": "stdout",
          "text": [
            "[30, 60]\n"
          ]
        }
      ]
    },
    {
      "cell_type": "code",
      "source": [
        "# 스칼라  1\n",
        "# 벡터  [1,2]\n",
        "# 벡터의 합과 차  : 리스트의 각 원소끼리 합과 차\n",
        "# 스칼라와 벡터의 곱 : a1x1    a1=2,  x1=[10,20] ---> map함수를 이용\n",
        "# 벡터의 선형조합  : a1x1 + b1x2 +...  sum, zip을 이용"
      ],
      "metadata": {
        "id": "ty-STCWQh_Ha"
      },
      "execution_count": 16,
      "outputs": []
    },
    {
      "cell_type": "code",
      "source": [
        "s = 5\n",
        "vector1 = [1,5,8]\n",
        "# 스칼라와 벡터의 곱\n",
        "\n",
        "vector1 = [1,5,8]; vector2 = [10,50,80]\n",
        "# 벡터의 선형조합  x*vector1 + x*vector2"
      ],
      "metadata": {
        "id": "idjSUu3Em-yx"
      },
      "execution_count": 17,
      "outputs": []
    },
    {
      "cell_type": "code",
      "source": [],
      "metadata": {
        "id": "H-N90LEJm-2q"
      },
      "execution_count": null,
      "outputs": []
    },
    {
      "cell_type": "code",
      "source": [],
      "metadata": {
        "id": "d9QKI4-_m-6b"
      },
      "execution_count": null,
      "outputs": []
    },
    {
      "cell_type": "code",
      "source": [],
      "metadata": {
        "id": "kVX9ne0Im8jq"
      },
      "execution_count": null,
      "outputs": []
    },
    {
      "cell_type": "code",
      "source": [],
      "metadata": {
        "id": "WFZnjSIRm8qY"
      },
      "execution_count": null,
      "outputs": []
    },
    {
      "cell_type": "code",
      "source": [],
      "metadata": {
        "id": "MMXc7BeLej_a"
      },
      "execution_count": null,
      "outputs": []
    },
    {
      "cell_type": "code",
      "source": [],
      "metadata": {
        "id": "VEmd8kQKekB6"
      },
      "execution_count": null,
      "outputs": []
    },
    {
      "cell_type": "code",
      "source": [],
      "metadata": {
        "id": "yVtkoF6fekEP"
      },
      "execution_count": null,
      "outputs": []
    },
    {
      "cell_type": "markdown",
      "source": [
        "# 행렬"
      ],
      "metadata": {
        "id": "IwMM5rPkekXl"
      }
    },
    {
      "cell_type": "code",
      "source": [],
      "metadata": {
        "id": "Zw58kE9-elWB"
      },
      "execution_count": null,
      "outputs": []
    }
  ]
}