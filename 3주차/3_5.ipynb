{
  "nbformat": 4,
  "nbformat_minor": 0,
  "metadata": {
    "colab": {
      "provenance": []
    },
    "kernelspec": {
      "name": "python3",
      "display_name": "Python 3"
    },
    "language_info": {
      "name": "python"
    }
  },
  "cells": [
    {
      "cell_type": "code",
      "execution_count": null,
      "metadata": {
        "id": "XBppzNY1eIK_"
      },
      "outputs": [],
      "source": []
    },
    {
      "cell_type": "markdown",
      "source": [
        "# 벡터\n",
        "  - 스칼라\n",
        "    - 숫자 하나로 이루어진 데이터(상수)\n",
        "    - 크기만 있고 방향은 없는 양의 정수\n",
        "    - 알파벳 소문자로 표기\n",
        "    - 실수 집합의 원소\n",
        "\n",
        "    ![image.png](data:image/png;base64,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)"
      ],
      "metadata": {
        "id": "mDhbtlvgedUm"
      }
    },
    {
      "cell_type": "markdown",
      "source": [
        "  - 벡터\n",
        "    - 여러 숫자로 이루어진 데이터 레코드  data Record\n",
        "    - 크기와 방향을 가진 양의로 정의\n",
        "    - 유한한 차원의 공간에 존재하는 점\n",
        "    - 벡터끼리 더하거나 벡터와 상수를 곱해서 새로운 벡터를 생성\n",
        "\n",
        "    ![image.png](data:image/png;base64,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)"
      ],
      "metadata": {
        "id": "KT402YTtetn9"
      }
    },
    {
      "cell_type": "markdown",
      "source": [
        "벡터의 합과 차"
      ],
      "metadata": {
        "id": "aKcrNkCgfqaE"
      }
    },
    {
      "cell_type": "code",
      "source": [
        "vector1 = [80, 90]\n",
        "vector2 = [70, 80]\n",
        "vector3 = []\n",
        "# 두 벡터의 합을 구하세요(hint  리스의 각각의 원소끼리 더해서 새로운 리스트를 만든다)\n",
        "for i in range(len(vector1)):\n",
        "  vector3.append(vector1[i] + vector2[i])\n",
        "\n",
        "print(vector3)"
      ],
      "metadata": {
        "colab": {
          "base_uri": "https://localhost:8080/"
        },
        "id": "mfUuobxgegh6",
        "outputId": "86446a99-ed15-49ff-b765-7a493ddfa948"
      },
      "execution_count": 3,
      "outputs": [
        {
          "output_type": "stream",
          "name": "stdout",
          "text": [
            "[150, 170]\n"
          ]
        }
      ]
    },
    {
      "cell_type": "code",
      "source": [
        "# 벡터끼리의 차 를 구하는 함수\n",
        "def vector_sub(vector1, vector2):\n",
        "  vector3 = []\n",
        "  for i in range(len(vector1)):\n",
        "    vector3.append(vector1[i] - vector2[i])\n",
        "  return vector3\n",
        "\n",
        "vector_sub(vector1, vector2)"
      ],
      "metadata": {
        "colab": {
          "base_uri": "https://localhost:8080/"
        },
        "id": "-dEy7S55ej86",
        "outputId": "0ebf05b9-d78d-4cf8-8389-1b7409bd21e5"
      },
      "execution_count": 5,
      "outputs": [
        {
          "output_type": "execute_result",
          "data": {
            "text/plain": [
              "[10, 10]"
            ]
          },
          "metadata": {},
          "execution_count": 5
        }
      ]
    },
    {
      "cell_type": "markdown",
      "source": [
        "### 벡터의 상등\n",
        "  - 벡터의 순서와 그 순서에 해당되는 각각의 성분이 같다는 의미"
      ],
      "metadata": {
        "id": "FMvR6SNuh_YC"
      }
    },
    {
      "cell_type": "markdown",
      "source": [
        "# 벡터의 선형조합(Linear Combination)\n",
        "  - 여러개의 벡터에  스칼라 곱을한후 더한것\n",
        "\n",
        "  \n",
        "![image.png](data:image/png;base64,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)\n",
        "\n"
      ],
      "metadata": {
        "id": "3ngzIkxyiMmi"
      }
    },
    {
      "cell_type": "code",
      "source": [
        "# c1x1 + c2x2\n",
        "# c1, c2  0.5, 0.5이라고 하고 x1 = [5,10], x2 = [10,20]\n",
        "# 0.5x[5,10] + 0.5x[10,20]\n",
        "c1 =  c2 = 0.5\n",
        "x1 = [5, 10]\n",
        "x2 = [10,20]\n",
        "\n",
        "result = []\n",
        "for i in range(len(x1)):\n",
        "    result.append(c1*x1[i] + c2*x2[i])\n",
        "print(result)"
      ],
      "metadata": {
        "colab": {
          "base_uri": "https://localhost:8080/"
        },
        "id": "N5zRDW9Ah_AG",
        "outputId": "c103188c-ef6e-4397-bd31-e6eaca1c7d94"
      },
      "execution_count": 6,
      "outputs": [
        {
          "output_type": "stream",
          "name": "stdout",
          "text": [
            "[7.5, 15.0]\n"
          ]
        }
      ]
    },
    {
      "cell_type": "markdown",
      "source": [
        "### 스칼라와 벡터의 곱\n",
        "  - map함수를 이용하면 잘 맞는다\n",
        "  - 방향은 변하지 않고 벡터의 길이가 커짐\n",
        "  - 음수를 곱하면 방향이 반대가 됨"
      ],
      "metadata": {
        "id": "c7tU6G-6kSTR"
      }
    },
    {
      "cell_type": "code",
      "source": [
        "# c1 = 2\n",
        "# vector = [1,2,3,4,5]\n",
        "# [2,4,6,8,10]\n",
        "vector1 = [1,2,3,4,5]\n",
        "c1 = 2\n",
        "result = list(map(lambda x: x*c1, vector1))\n",
        "print(result)"
      ],
      "metadata": {
        "colab": {
          "base_uri": "https://localhost:8080/"
        },
        "id": "wjruxE5Jh_Cr",
        "outputId": "a322b993-ff95-4171-ff2f-0ba6494ca5b4"
      },
      "execution_count": 7,
      "outputs": [
        {
          "output_type": "stream",
          "name": "stdout",
          "text": [
            "[2, 4, 6, 8, 10]\n"
          ]
        }
      ]
    },
    {
      "cell_type": "markdown",
      "source": [
        "### 벡터의 선형조합\n",
        "  - sum, zip 함수를 이용"
      ],
      "metadata": {
        "id": "dqm-Dl6oldlp"
      }
    },
    {
      "cell_type": "code",
      "source": [
        "c1 = 2\n",
        "x1 = [5, 10]\n",
        "x2 = [10,20]\n",
        "# c1x1 + c1x2\n",
        "result = [ sum(i)*c1 for i in zip(x1, x2) ]\n",
        "print(result)"
      ],
      "metadata": {
        "colab": {
          "base_uri": "https://localhost:8080/"
        },
        "id": "FFfoYwRAh_E6",
        "outputId": "161cdb1b-e63c-4982-fcab-e2a79b3b1c03"
      },
      "execution_count": 15,
      "outputs": [
        {
          "output_type": "stream",
          "name": "stdout",
          "text": [
            "[30, 60]\n"
          ]
        }
      ]
    },
    {
      "cell_type": "code",
      "source": [
        "# 스칼라  1\n",
        "# 벡터  [1,2]\n",
        "# 벡터의 합과 차  : 리스트의 각 원소끼리 합과 차\n",
        "# 스칼라와 벡터의 곱 : a1x1    a1=2,  x1=[10,20] ---> map함수를 이용\n",
        "# 벡터의 선형조합  : a1x1 + b1x2 +...  sum, zip을 이용"
      ],
      "metadata": {
        "id": "ty-STCWQh_Ha"
      },
      "execution_count": 16,
      "outputs": []
    },
    {
      "cell_type": "code",
      "source": [
        "s = 5\n",
        "vector1 = [1,5,8]\n",
        "# 스칼라와 벡터의 곱\n",
        "result = list(map(lambda x: x*s, vector1))\n",
        "print(result)\n",
        "\n",
        "vector1 = [1,5,8]; vector2 = [10,50,80]\n",
        "# 벡터의 선형조합  s*vector1 + s*vector2\n",
        "result = [ sum(i)*s for i in zip(vector1, vector2) ]\n",
        "print(result)"
      ],
      "metadata": {
        "colab": {
          "base_uri": "https://localhost:8080/"
        },
        "id": "idjSUu3Em-yx",
        "outputId": "cb634112-025c-492e-8226-a0eef4e3132d"
      },
      "execution_count": 18,
      "outputs": [
        {
          "output_type": "stream",
          "name": "stdout",
          "text": [
            "[5, 25, 40]\n",
            "[55, 275, 440]\n"
          ]
        }
      ]
    },
    {
      "cell_type": "code",
      "source": [
        "# 질문\n",
        "c1 = c2 = 2\n",
        "x1 = [5,10]\n",
        "x2 = [10,20]\n",
        "\n",
        "x1_result = []\n",
        "for i in x1:    # c1x1\n",
        "  x1_result.append(c1 * i)\n",
        "\n",
        "x2_result = []\n",
        "for i in x2:\n",
        "  x2_result.append(c2 * i)\n",
        "\n",
        "result = []\n",
        "for i in range(len(x1_result)):\n",
        "   result.append(x1_result[i] + x2_result[i])\n",
        "\n",
        "print(result)"
      ],
      "metadata": {
        "colab": {
          "base_uri": "https://localhost:8080/"
        },
        "id": "CfAM5QH2sFAx",
        "outputId": "1ad99b51-660a-417e-8ba1-482d9eb87fbb"
      },
      "execution_count": 21,
      "outputs": [
        {
          "output_type": "stream",
          "name": "stdout",
          "text": [
            "[30, 60]\n"
          ]
        }
      ]
    },
    {
      "cell_type": "code",
      "source": [],
      "metadata": {
        "id": "CpjpK0jMsFDp"
      },
      "execution_count": null,
      "outputs": []
    },
    {
      "cell_type": "code",
      "source": [],
      "metadata": {
        "id": "m0ySGlSRsFG5"
      },
      "execution_count": null,
      "outputs": []
    },
    {
      "cell_type": "code",
      "source": [],
      "metadata": {
        "id": "-tzgyUBWsFKJ"
      },
      "execution_count": null,
      "outputs": []
    },
    {
      "cell_type": "markdown",
      "source": [
        "벡터의 내적  dot product\n",
        "  - 벡터의 각 원소끼리 곱한후 모두 더한값\n",
        "  - 벡터의 내적 결과는 벡터가 아니라 스칼라\n",
        "  - dot 함수를 이용(사용자가 생성)\n",
        "    - zip함수로 인자값을 쌍으로 묶어 각각 변수에 반환\n",
        "    - 그 값을 곱한 후 sum함수를 이용해서 함계를 반환"
      ],
      "metadata": {
        "id": "KaePu3hwrl6S"
      }
    },
    {
      "cell_type": "code",
      "source": [
        "a = [6, 4]\n",
        "b = [6, 2]\n",
        "# a dot b   내적연산\n",
        "sum( [i*j for i,j in zip(a,b)] )\n",
        "\n",
        "def dot(a,b):\n",
        "  return  sum( [i*j for i,j in zip(a,b)] )"
      ],
      "metadata": {
        "id": "H-N90LEJm-2q"
      },
      "execution_count": 26,
      "outputs": []
    },
    {
      "cell_type": "code",
      "source": [
        "a = [6, 4, 3, 2]\n",
        "b = [6, 2, 1, 5]\n",
        "dot(a,b)"
      ],
      "metadata": {
        "colab": {
          "base_uri": "https://localhost:8080/"
        },
        "id": "d9QKI4-_m-6b",
        "outputId": "2b1a9ac0-b114-4cda-9b74-447a186f511d"
      },
      "execution_count": 28,
      "outputs": [
        {
          "output_type": "execute_result",
          "data": {
            "text/plain": [
              "57"
            ]
          },
          "metadata": {},
          "execution_count": 28
        }
      ]
    },
    {
      "cell_type": "markdown",
      "source": [
        "# 브로드 캐스팅\n",
        "  - 스칼라를 벡터로 변환해서 연산을 허용해서 벡터끼리 내적연산"
      ],
      "metadata": {
        "id": "34YJ3qrEvpzK"
      }
    },
    {
      "cell_type": "code",
      "source": [
        "s = 3\n",
        "vector1 = [1,3,5,7,9]\n",
        "# 내젹연산\n",
        "s_vector = [3,3,3,3,3]\n",
        "dot(s_vector, vector1)"
      ],
      "metadata": {
        "colab": {
          "base_uri": "https://localhost:8080/"
        },
        "id": "kVX9ne0Im8jq",
        "outputId": "773c4cf3-72b8-4cfa-904a-3ffc0e5a3428"
      },
      "execution_count": 29,
      "outputs": [
        {
          "output_type": "execute_result",
          "data": {
            "text/plain": [
              "75"
            ]
          },
          "metadata": {},
          "execution_count": 29
        }
      ]
    },
    {
      "cell_type": "markdown",
      "source": [
        "# 벡터의 길이\n",
        "\n",
        "![image.png](data:image/png;base64,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)"
      ],
      "metadata": {
        "id": "WFZnjSIRm8qY"
      }
    },
    {
      "cell_type": "code",
      "source": [
        "# 제곱근\n",
        "import math\n",
        "math.sqrt(4)"
      ],
      "metadata": {
        "colab": {
          "base_uri": "https://localhost:8080/"
        },
        "id": "MMXc7BeLej_a",
        "outputId": "3227601d-8975-4e14-cc39-6fe1351d4f2b"
      },
      "execution_count": 31,
      "outputs": [
        {
          "output_type": "execute_result",
          "data": {
            "text/plain": [
              "2.0"
            ]
          },
          "metadata": {},
          "execution_count": 31
        }
      ]
    },
    {
      "cell_type": "code",
      "source": [
        "vector1 = [1,2]\n",
        "math.sqrt(sum( i**2  for i in vector1   ))"
      ],
      "metadata": {
        "colab": {
          "base_uri": "https://localhost:8080/"
        },
        "id": "VEmd8kQKekB6",
        "outputId": "5a6ab927-7ba5-4ab2-a059-c41a8c4c9a5a"
      },
      "execution_count": 36,
      "outputs": [
        {
          "output_type": "execute_result",
          "data": {
            "text/plain": [
              "2.23606797749979"
            ]
          },
          "metadata": {},
          "execution_count": 36
        }
      ]
    },
    {
      "cell_type": "markdown",
      "source": [
        "# 유클리드 거리\n",
        "  - 두점 사이의 거리를 나타내난 방법"
      ],
      "metadata": {
        "id": "CAi_vXy1yTpi"
      }
    },
    {
      "cell_type": "code",
      "source": [
        "vector1, vector2 = [5,2,5,2 ],[2, 5,1,7 ]\n",
        "math.sqrt( sum( [(i-j)**2 for i, j in zip(vector1, vector2)] ) )"
      ],
      "metadata": {
        "colab": {
          "base_uri": "https://localhost:8080/"
        },
        "id": "M5Aq5K3fxSvJ",
        "outputId": "14cf5d04-8e25-4fe1-feff-914490aaa8a2"
      },
      "execution_count": 41,
      "outputs": [
        {
          "output_type": "execute_result",
          "data": {
            "text/plain": [
              "7.681145747868608"
            ]
          },
          "metadata": {},
          "execution_count": 41
        }
      ]
    },
    {
      "cell_type": "markdown",
      "source": [
        "평균제곱오차(MSE : Mean Squared Error)  \n",
        "  - 오차\n",
        "    - 예측한값과 실제값의 간격 또는 차이\n",
        "    - 예측한 값이 실제값에 얼마나 근접한지\n",
        "    - 오차의 제곱의 평균\n",
        "\n",
        "    ![image.png](data:image/png;base64,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)"
      ],
      "metadata": {
        "id": "XU3YjdF8zuwI"
      }
    },
    {
      "cell_type": "code",
      "source": [
        "# 실제값 y\n",
        "# 예측한 값 p\n",
        "import random\n",
        "y = [  random.randint(1,100) for i in range(10)]\n",
        "p = [  random.randint(1,100) for i in range(10)]\n",
        "\n",
        "sum([(i-j)**2 for i, j in  zip(y,p)]) / len(y)\n",
        "\n",
        "\n"
      ],
      "metadata": {
        "colab": {
          "base_uri": "https://localhost:8080/"
        },
        "id": "BQxD9cIZztnp",
        "outputId": "60fe8230-eaf4-49a7-b3b1-876b53acb45e"
      },
      "execution_count": 49,
      "outputs": [
        {
          "output_type": "execute_result",
          "data": {
            "text/plain": [
              "1228.8"
            ]
          },
          "metadata": {},
          "execution_count": 49
        }
      ]
    },
    {
      "cell_type": "code",
      "source": [
        "10/"
      ],
      "metadata": {
        "id": "SULH0ItNzttp"
      },
      "execution_count": null,
      "outputs": []
    },
    {
      "cell_type": "code",
      "source": [],
      "metadata": {
        "id": "xc14wCi9ztww"
      },
      "execution_count": null,
      "outputs": []
    },
    {
      "cell_type": "code",
      "source": [],
      "metadata": {
        "id": "acLRWboJztzh"
      },
      "execution_count": null,
      "outputs": []
    },
    {
      "cell_type": "code",
      "source": [],
      "metadata": {
        "id": "uGgvFpg_xSxp"
      },
      "execution_count": null,
      "outputs": []
    },
    {
      "cell_type": "code",
      "source": [],
      "metadata": {
        "id": "-oO3xrE7xS0L"
      },
      "execution_count": null,
      "outputs": []
    },
    {
      "cell_type": "code",
      "source": [],
      "metadata": {
        "id": "yVtkoF6fekEP"
      },
      "execution_count": null,
      "outputs": []
    },
    {
      "cell_type": "markdown",
      "source": [
        "# 행렬"
      ],
      "metadata": {
        "id": "IwMM5rPkekXl"
      }
    },
    {
      "cell_type": "code",
      "source": [],
      "metadata": {
        "id": "Zw58kE9-elWB"
      },
      "execution_count": null,
      "outputs": []
    }
  ]
}