{
  "nbformat": 4,
  "nbformat_minor": 0,
  "metadata": {
    "colab": {
      "provenance": []
    },
    "kernelspec": {
      "name": "python3",
      "display_name": "Python 3"
    },
    "language_info": {
      "name": "python"
    }
  },
  "cells": [
    {
      "cell_type": "code",
      "execution_count": null,
      "metadata": {
        "id": "XBppzNY1eIK_"
      },
      "outputs": [],
      "source": []
    },
    {
      "cell_type": "markdown",
      "source": [
        "# 벡터\n",
        "  - 스칼라\n",
        "    - 숫자 하나로 이루어진 데이터(상수)\n",
        "    - 크기만 있고 방향은 없는 양의 정수\n",
        "    - 알파벳 소문자로 표기\n",
        "    - 실수 집합의 원소\n",
        "\n",
        "    ![image.png](data:image/png;base64,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)"
      ],
      "metadata": {
        "id": "mDhbtlvgedUm"
      }
    },
    {
      "cell_type": "markdown",
      "source": [
        "  - 벡터\n",
        "    - 여러 숫자로 이루어진 데이터 레코드  data Record\n",
        "    - 크기와 방향을 가진 양의로 정의\n",
        "    - 유한한 차원의 공간에 존재하는 점\n",
        "    - 벡터끼리 더하거나 벡터와 상수를 곱해서 새로운 벡터를 생성\n",
        "\n",
        "    ![image.png](data:image/png;base64,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)"
      ],
      "metadata": {
        "id": "KT402YTtetn9"
      }
    },
    {
      "cell_type": "markdown",
      "source": [
        "벡터의 합과 차"
      ],
      "metadata": {
        "id": "aKcrNkCgfqaE"
      }
    },
    {
      "cell_type": "code",
      "source": [
        "vector1 = [80, 90]\n",
        "vector2 = [70, 80]\n",
        "vector3 = []\n",
        "# 두 벡터의 합을 구하세요(hint  리스의 각각의 원소끼리 더해서 새로운 리스트를 만든다)\n",
        "for i in range(len(vector1)):\n",
        "  vector3.append(vector1[i] + vector2[i])\n",
        "\n",
        "print(vector3)"
      ],
      "metadata": {
        "colab": {
          "base_uri": "https://localhost:8080/"
        },
        "id": "mfUuobxgegh6",
        "outputId": "86446a99-ed15-49ff-b765-7a493ddfa948"
      },
      "execution_count": 3,
      "outputs": [
        {
          "output_type": "stream",
          "name": "stdout",
          "text": [
            "[150, 170]\n"
          ]
        }
      ]
    },
    {
      "cell_type": "code",
      "source": [
        "# 벡터끼리의 차 를 구하는 함수\n",
        "def vector_sub(vector1, vector2):\n",
        "  vector3 = []\n",
        "  for i in range(len(vector1)):\n",
        "    vector3.append(vector1[i] - vector2[i])\n",
        "  return vector3\n",
        "\n",
        "vector_sub(vector1, vector2)"
      ],
      "metadata": {
        "colab": {
          "base_uri": "https://localhost:8080/"
        },
        "id": "-dEy7S55ej86",
        "outputId": "0ebf05b9-d78d-4cf8-8389-1b7409bd21e5"
      },
      "execution_count": 5,
      "outputs": [
        {
          "output_type": "execute_result",
          "data": {
            "text/plain": [
              "[10, 10]"
            ]
          },
          "metadata": {},
          "execution_count": 5
        }
      ]
    },
    {
      "cell_type": "markdown",
      "source": [
        "### 벡터의 상등\n",
        "  - 벡터의 순서와 그 순서에 해당되는 각각의 성분이 같다는 의미"
      ],
      "metadata": {
        "id": "FMvR6SNuh_YC"
      }
    },
    {
      "cell_type": "markdown",
      "source": [
        "# 벡터의 선형조합(Linear Combination)\n",
        "  - 여러개의 벡터에  스칼라 곱을한후 더한것\n",
        "\n",
        "  \n",
        "![image.png](data:image/png;base64,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)\n",
        "\n"
      ],
      "metadata": {
        "id": "3ngzIkxyiMmi"
      }
    },
    {
      "cell_type": "code",
      "source": [
        "# c1x1 + c2x2\n",
        "# c1, c2  0.5, 0.5이라고 하고 x1 = [5,10], x2 = [10,20]\n",
        "# 0.5x[5,10] + 0.5x[10,20]\n",
        "c1 =  c2 = 0.5\n",
        "x1 = [5, 10]\n",
        "x2 = [10,20]\n",
        "\n",
        "result = []\n",
        "for i in range(len(x1)):\n",
        "    result.append(c1*x1[i] + c2*x2[i])\n",
        "print(result)"
      ],
      "metadata": {
        "colab": {
          "base_uri": "https://localhost:8080/"
        },
        "id": "N5zRDW9Ah_AG",
        "outputId": "c103188c-ef6e-4397-bd31-e6eaca1c7d94"
      },
      "execution_count": 6,
      "outputs": [
        {
          "output_type": "stream",
          "name": "stdout",
          "text": [
            "[7.5, 15.0]\n"
          ]
        }
      ]
    },
    {
      "cell_type": "markdown",
      "source": [
        "### 스칼라와 벡터의 곱\n",
        "  - map함수를 이용하면 잘 맞는다\n",
        "  - 방향은 변하지 않고 벡터의 길이가 커짐\n",
        "  - 음수를 곱하면 방향이 반대가 됨"
      ],
      "metadata": {
        "id": "c7tU6G-6kSTR"
      }
    },
    {
      "cell_type": "code",
      "source": [
        "# c1 = 2\n",
        "# vector = [1,2,3,4,5]\n",
        "# [2,4,6,8,10]\n",
        "vector1 = [1,2,3,4,5]\n",
        "c1 = 2\n",
        "result = list(map(lambda x: x*c1, vector1))\n",
        "print(result)"
      ],
      "metadata": {
        "colab": {
          "base_uri": "https://localhost:8080/"
        },
        "id": "wjruxE5Jh_Cr",
        "outputId": "a322b993-ff95-4171-ff2f-0ba6494ca5b4"
      },
      "execution_count": 7,
      "outputs": [
        {
          "output_type": "stream",
          "name": "stdout",
          "text": [
            "[2, 4, 6, 8, 10]\n"
          ]
        }
      ]
    },
    {
      "cell_type": "markdown",
      "source": [
        "### 벡터의 선형조합\n",
        "  - sum, zip 함수를 이용"
      ],
      "metadata": {
        "id": "dqm-Dl6oldlp"
      }
    },
    {
      "cell_type": "code",
      "source": [
        "c1 = 2\n",
        "x1 = [5, 10]\n",
        "x2 = [10,20]\n",
        "# c1x1 + c1x2\n",
        "result = [ sum(i)*c1 for i in zip(x1, x2) ]\n",
        "print(result)"
      ],
      "metadata": {
        "colab": {
          "base_uri": "https://localhost:8080/"
        },
        "id": "FFfoYwRAh_E6",
        "outputId": "161cdb1b-e63c-4982-fcab-e2a79b3b1c03"
      },
      "execution_count": 15,
      "outputs": [
        {
          "output_type": "stream",
          "name": "stdout",
          "text": [
            "[30, 60]\n"
          ]
        }
      ]
    },
    {
      "cell_type": "code",
      "source": [
        "# 스칼라  1\n",
        "# 벡터  [1,2]\n",
        "# 벡터의 합과 차  : 리스트의 각 원소끼리 합과 차\n",
        "# 스칼라와 벡터의 곱 : a1x1    a1=2,  x1=[10,20] ---> map함수를 이용\n",
        "# 벡터의 선형조합  : a1x1 + b1x2 +...  sum, zip을 이용"
      ],
      "metadata": {
        "id": "ty-STCWQh_Ha"
      },
      "execution_count": 16,
      "outputs": []
    },
    {
      "cell_type": "code",
      "source": [
        "s = 5\n",
        "vector1 = [1,5,8]\n",
        "# 스칼라와 벡터의 곱\n",
        "result = list(map(lambda x: x*s, vector1))\n",
        "print(result)\n",
        "\n",
        "vector1 = [1,5,8]; vector2 = [10,50,80]\n",
        "# 벡터의 선형조합  s*vector1 + s*vector2\n",
        "result = [ sum(i)*s for i in zip(vector1, vector2) ]\n",
        "print(result)"
      ],
      "metadata": {
        "colab": {
          "base_uri": "https://localhost:8080/"
        },
        "id": "idjSUu3Em-yx",
        "outputId": "cb634112-025c-492e-8226-a0eef4e3132d"
      },
      "execution_count": 18,
      "outputs": [
        {
          "output_type": "stream",
          "name": "stdout",
          "text": [
            "[5, 25, 40]\n",
            "[55, 275, 440]\n"
          ]
        }
      ]
    },
    {
      "cell_type": "code",
      "source": [
        "# 질문\n",
        "c1 = c2 = 2\n",
        "x1 = [5,10]\n",
        "x2 = [10,20]\n",
        "\n",
        "x1_result = []\n",
        "for i in x1:    # c1x1\n",
        "  x1_result.append(c1 * i)\n",
        "\n",
        "x2_result = []\n",
        "for i in x2:\n",
        "  x2_result.append(c2 * i)\n",
        "\n",
        "result = []\n",
        "for i in range(len(x1_result)):\n",
        "   result.append(x1_result[i] + x2_result[i])\n",
        "\n",
        "print(result)"
      ],
      "metadata": {
        "colab": {
          "base_uri": "https://localhost:8080/"
        },
        "id": "CfAM5QH2sFAx",
        "outputId": "1ad99b51-660a-417e-8ba1-482d9eb87fbb"
      },
      "execution_count": 21,
      "outputs": [
        {
          "output_type": "stream",
          "name": "stdout",
          "text": [
            "[30, 60]\n"
          ]
        }
      ]
    },
    {
      "cell_type": "code",
      "source": [],
      "metadata": {
        "id": "CpjpK0jMsFDp"
      },
      "execution_count": null,
      "outputs": []
    },
    {
      "cell_type": "code",
      "source": [],
      "metadata": {
        "id": "m0ySGlSRsFG5"
      },
      "execution_count": null,
      "outputs": []
    },
    {
      "cell_type": "code",
      "source": [],
      "metadata": {
        "id": "-tzgyUBWsFKJ"
      },
      "execution_count": null,
      "outputs": []
    },
    {
      "cell_type": "markdown",
      "source": [
        "벡터의 내적  dot product\n",
        "  - 벡터의 각 원소끼리 곱한후 모두 더한값\n",
        "  - 벡터의 내적 결과는 벡터가 아니라 스칼라\n",
        "  - dot 함수를 이용(사용자가 생성)\n",
        "    - zip함수로 인자값을 쌍으로 묶어 각각 변수에 반환\n",
        "    - 그 값을 곱한 후 sum함수를 이용해서 함계를 반환"
      ],
      "metadata": {
        "id": "KaePu3hwrl6S"
      }
    },
    {
      "cell_type": "code",
      "source": [
        "a = [6, 4]\n",
        "b = [6, 2]\n",
        "# a dot b   내적연산\n",
        "sum( [i*j for i,j in zip(a,b)] )\n",
        "\n",
        "def dot(a,b):\n",
        "  return  sum( [i*j for i,j in zip(a,b)] )"
      ],
      "metadata": {
        "id": "H-N90LEJm-2q"
      },
      "execution_count": 26,
      "outputs": []
    },
    {
      "cell_type": "code",
      "source": [
        "a = [6, 4, 3, 2]\n",
        "b = [6, 2, 1, 5]\n",
        "dot(a,b)"
      ],
      "metadata": {
        "colab": {
          "base_uri": "https://localhost:8080/"
        },
        "id": "d9QKI4-_m-6b",
        "outputId": "2b1a9ac0-b114-4cda-9b74-447a186f511d"
      },
      "execution_count": 28,
      "outputs": [
        {
          "output_type": "execute_result",
          "data": {
            "text/plain": [
              "57"
            ]
          },
          "metadata": {},
          "execution_count": 28
        }
      ]
    },
    {
      "cell_type": "markdown",
      "source": [
        "# 브로드 캐스팅\n",
        "  - 스칼라를 벡터로 변환해서 연산을 허용해서 벡터끼리 내적연산"
      ],
      "metadata": {
        "id": "34YJ3qrEvpzK"
      }
    },
    {
      "cell_type": "code",
      "source": [
        "s = 3\n",
        "vector1 = [1,3,5,7,9]\n",
        "# 내젹연산\n",
        "s_vector = [3,3,3,3,3]\n",
        "dot(s_vector, vector1)"
      ],
      "metadata": {
        "colab": {
          "base_uri": "https://localhost:8080/"
        },
        "id": "kVX9ne0Im8jq",
        "outputId": "773c4cf3-72b8-4cfa-904a-3ffc0e5a3428"
      },
      "execution_count": 29,
      "outputs": [
        {
          "output_type": "execute_result",
          "data": {
            "text/plain": [
              "75"
            ]
          },
          "metadata": {},
          "execution_count": 29
        }
      ]
    },
    {
      "cell_type": "markdown",
      "source": [
        "# 벡터의 길이\n",
        "\n",
        "![image.png](data:image/png;base64,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)"
      ],
      "metadata": {
        "id": "WFZnjSIRm8qY"
      }
    },
    {
      "cell_type": "code",
      "source": [
        "# 제곱근\n",
        "import math\n",
        "math.sqrt(4)"
      ],
      "metadata": {
        "colab": {
          "base_uri": "https://localhost:8080/"
        },
        "id": "MMXc7BeLej_a",
        "outputId": "3227601d-8975-4e14-cc39-6fe1351d4f2b"
      },
      "execution_count": 31,
      "outputs": [
        {
          "output_type": "execute_result",
          "data": {
            "text/plain": [
              "2.0"
            ]
          },
          "metadata": {},
          "execution_count": 31
        }
      ]
    },
    {
      "cell_type": "code",
      "source": [
        "vector1 = [1,2]\n",
        "math.sqrt(sum( i**2  for i in vector1   ))"
      ],
      "metadata": {
        "colab": {
          "base_uri": "https://localhost:8080/"
        },
        "id": "VEmd8kQKekB6",
        "outputId": "5a6ab927-7ba5-4ab2-a059-c41a8c4c9a5a"
      },
      "execution_count": 36,
      "outputs": [
        {
          "output_type": "execute_result",
          "data": {
            "text/plain": [
              "2.23606797749979"
            ]
          },
          "metadata": {},
          "execution_count": 36
        }
      ]
    },
    {
      "cell_type": "markdown",
      "source": [
        "# 유클리드 거리\n",
        "  - 두점 사이의 거리를 나타내난 방법"
      ],
      "metadata": {
        "id": "CAi_vXy1yTpi"
      }
    },
    {
      "cell_type": "code",
      "source": [
        "vector1, vector2 = [5,2,5,2 ],[2, 5,1,7 ]\n",
        "math.sqrt( sum( [(i-j)**2 for i, j in zip(vector1, vector2)] ) )"
      ],
      "metadata": {
        "colab": {
          "base_uri": "https://localhost:8080/"
        },
        "id": "M5Aq5K3fxSvJ",
        "outputId": "14cf5d04-8e25-4fe1-feff-914490aaa8a2"
      },
      "execution_count": 41,
      "outputs": [
        {
          "output_type": "execute_result",
          "data": {
            "text/plain": [
              "7.681145747868608"
            ]
          },
          "metadata": {},
          "execution_count": 41
        }
      ]
    },
    {
      "cell_type": "markdown",
      "source": [
        "평균제곱오차(MSE : Mean Squared Error)  \n",
        "  - 오차\n",
        "    - 예측한값과 실제값의 간격 또는 차이\n",
        "    - 예측한 값이 실제값에 얼마나 근접한지\n",
        "    - 오차의 제곱의 평균\n",
        "\n",
        "    ![image.png](data:image/png;base64,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)"
      ],
      "metadata": {
        "id": "XU3YjdF8zuwI"
      }
    },
    {
      "cell_type": "code",
      "source": [
        "# 실제값 y\n",
        "# 예측한 값 p\n",
        "import random\n",
        "y = [  random.randint(1,100) for i in range(10)]\n",
        "p = [  random.randint(1,100) for i in range(10)]\n",
        "\n",
        "sum([(i-j)**2 for i, j in  zip(y,p)]) / len(y)\n",
        "\n",
        "\n"
      ],
      "metadata": {
        "colab": {
          "base_uri": "https://localhost:8080/"
        },
        "id": "BQxD9cIZztnp",
        "outputId": "60fe8230-eaf4-49a7-b3b1-876b53acb45e"
      },
      "execution_count": 49,
      "outputs": [
        {
          "output_type": "execute_result",
          "data": {
            "text/plain": [
              "1228.8"
            ]
          },
          "metadata": {},
          "execution_count": 49
        }
      ]
    },
    {
      "cell_type": "markdown",
      "source": [
        "# 행렬\n",
        "   - 이차원 리스트(이차원 배열)\n",
        "\n",
        "\n",
        "![image.png](data:image/png;base64,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)"
      ],
      "metadata": {
        "id": "IwMM5rPkekXl"
      }
    },
    {
      "cell_type": "markdown",
      "source": [
        "- 행렬의 덧셈과 뺄셈\n",
        "  - 벡터 모양이 같으면 가능\n",
        "\n",
        "  ![image.png](data:image/png;base64,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)\n",
        "- 행렬의 곱셈\n",
        "  - 곱하는 행렬의 행과 열이 같아야 함\n",
        "\n"
      ],
      "metadata": {
        "id": "cQlsLzIg5h8P"
      }
    },
    {
      "cell_type": "code",
      "source": [
        "a = [[1,2],[3,4]]\n",
        "b = [[5,6],[7,8]]\n",
        "result = []\n",
        "for i, j in zip(a,b):\n",
        "  result.append(list(sum(m) for m in zip(i,j)))\n",
        "\n",
        "result"
      ],
      "metadata": {
        "colab": {
          "base_uri": "https://localhost:8080/"
        },
        "id": "Zw58kE9-elWB",
        "outputId": "bf5b0e78-22fa-418a-d478-16477fac1975"
      },
      "execution_count": 58,
      "outputs": [
        {
          "output_type": "execute_result",
          "data": {
            "text/plain": [
              "[[6, 8], [10, 12]]"
            ]
          },
          "metadata": {},
          "execution_count": 58
        }
      ]
    },
    {
      "cell_type": "code",
      "source": [
        "# c[i][j] = a[i][j] + b[i][j]\n",
        "c = [[0,0],[0,0]]\n",
        "for i in range(2):\n",
        "  for j in range(2):\n",
        "    c[i][j] = a[i][j] + b[i][j]\n"
      ],
      "metadata": {
        "id": "CVR51JGE58M_"
      },
      "execution_count": 64,
      "outputs": []
    },
    {
      "cell_type": "code",
      "source": [
        "def matrix_add(vector1_2dim, vector2_2dim):\n",
        "  result = []\n",
        "  for i, j in zip(vector1_2dim, vector2_2dim):\n",
        "    result.append(list(sum(m) for m in zip(i,j)))\n",
        "  return result"
      ],
      "metadata": {
        "id": "E0ejGdwU8W6R"
      },
      "execution_count": 65,
      "outputs": []
    },
    {
      "cell_type": "code",
      "source": [
        "matrix_add(a,b)"
      ],
      "metadata": {
        "colab": {
          "base_uri": "https://localhost:8080/"
        },
        "id": "uR79zSpM9mtW",
        "outputId": "dba8ee90-d789-4f38-ccf5-f6eee8c46b1a"
      },
      "execution_count": 66,
      "outputs": [
        {
          "output_type": "execute_result",
          "data": {
            "text/plain": [
              "[[6, 8], [10, 12]]"
            ]
          },
          "metadata": {},
          "execution_count": 66
        }
      ]
    },
    {
      "cell_type": "code",
      "source": [
        "def matrix_add(vector1_2dim, vector2_2dim):\n",
        "  c = []\n",
        "  for i in range(len(vector1_2dim)):\n",
        "    c.append([ 0 for i in range(len(vector1_2dim[0]))])\n",
        "\n",
        "  for i in range(len(vector1_2dim)):\n",
        "    for j in range(len(vector1_2dim[0])):\n",
        "      c[i][j] = vector1_2dim[i][j] + vector2_2dim[i][j]"
      ],
      "metadata": {
        "id": "9KLROknu9op-"
      },
      "execution_count": null,
      "outputs": []
    },
    {
      "cell_type": "code",
      "source": [
        "temp = [\n",
        "    [1,1],\n",
        "    [1,1],\n",
        "    [1,1]\n",
        "]\n",
        "len(temp), len(temp[0])"
      ],
      "metadata": {
        "colab": {
          "base_uri": "https://localhost:8080/"
        },
        "id": "VKtcvibn-Ehw",
        "outputId": "613ce9ba-abf3-405e-bf98-26349f757974"
      },
      "execution_count": 69,
      "outputs": [
        {
          "output_type": "execute_result",
          "data": {
            "text/plain": [
              "(3, 2)"
            ]
          },
          "metadata": {},
          "execution_count": 69
        }
      ]
    },
    {
      "cell_type": "markdown",
      "source": [
        "행렬의 곱\n",
        "\n",
        "![image.png](data:image/png;base64,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)\n",
        "\n",
        "\n",
        "\n",
        "\n",
        "![image.png](data:image/png;base64,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)"
      ],
      "metadata": {
        "id": "qaLB5EXJ_OKn"
      }
    },
    {
      "cell_type": "code",
      "source": [
        "a = [\n",
        "    [1,2],\n",
        "    [3,4]\n",
        "]\n",
        "b = [\n",
        "    [5,6],\n",
        "    [7,8]\n",
        "]\n",
        "\n",
        "print( a[0], [b[0][0], b[1][0]] )\n",
        "print( a[0], [b[0][1], b[1][1]] )\n",
        "print( a[1], [b[0][0], b[1][0]] )\n",
        "print( a[1], [b[0][1], b[1][1]] )\n",
        "print(\"---------------------\")\n",
        "result = []\n",
        "x1 = sum([i*j for i, j in zip( a[0], [b[0][0], b[1][0]] )])\n",
        "x2 = sum([i*j for i, j in zip( a[0], [b[0][1], b[1][1]] )])\n",
        "x3 = sum([i*j for i, j in zip( a[1], [b[0][0], b[1][0]] )])\n",
        "x4 = sum([i*j for i, j in zip( a[1], [b[0][1], b[1][1]] )])\n",
        "result.append([x1,x2])\n",
        "result.append([x3,x4])\n",
        "print(result)"
      ],
      "metadata": {
        "colab": {
          "base_uri": "https://localhost:8080/"
        },
        "collapsed": true,
        "id": "WVnL2C6G-KMH",
        "outputId": "e44f52c9-9888-4632-8375-78ae6c4e5d7b"
      },
      "execution_count": 79,
      "outputs": [
        {
          "output_type": "stream",
          "name": "stdout",
          "text": [
            "[1, 2] [5, 7]\n",
            "[1, 2] [6, 8]\n",
            "[3, 4] [5, 7]\n",
            "[3, 4] [6, 8]\n",
            "---------------------\n",
            "[[19, 22], [43, 50]]\n"
          ]
        }
      ]
    },
    {
      "cell_type": "code",
      "source": [
        "for i in range(2):\n",
        "  for j in range(2):\n",
        "    t = sum([i*j for i, j in zip( a[i], [b[0][j], b[1][j]] )])\n",
        "    print(t)"
      ],
      "metadata": {
        "colab": {
          "base_uri": "https://localhost:8080/"
        },
        "id": "otchM0p3A0Lm",
        "outputId": "a6f54c59-a673-4e58-bd02-d6a8776da2ca"
      },
      "execution_count": 86,
      "outputs": [
        {
          "output_type": "stream",
          "name": "stdout",
          "text": [
            "19\n",
            "22\n",
            "43\n",
            "50\n"
          ]
        }
      ]
    },
    {
      "cell_type": "code",
      "source": [],
      "metadata": {
        "id": "2feuY8gKC0B2"
      },
      "execution_count": null,
      "outputs": []
    }
  ]
}