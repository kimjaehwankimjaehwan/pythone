{
  "nbformat": 4,
  "nbformat_minor": 0,
  "metadata": {
    "colab": {
      "provenance": []
    },
    "kernelspec": {
      "name": "python3",
      "display_name": "Python 3"
    },
    "language_info": {
      "name": "python"
    }
  },
  "cells": [
    {
      "cell_type": "code",
      "execution_count": null,
      "metadata": {
        "id": "UjzaHSczGtik"
      },
      "outputs": [],
      "source": []
    },
    {
      "cell_type": "markdown",
      "source": [
        "Collection 모듈\n",
        "  - dequeue : 양쪽 끝에서 빠른 추가 및 삭제 연산이 가능\n",
        "  - counter : count를 구해서 dict 구조\n",
        "  - orderedDict : 입력순서가 유지되는 dict"
      ],
      "metadata": {
        "id": "HBn9_tN0LFUI"
      }
    },
    {
      "cell_type": "code",
      "source": [
        "# from collections import deque, Counter, OrderedDict\n",
        "from collections import deque\n",
        "from collections import Counter\n",
        "from collections import OrderedDict"
      ],
      "metadata": {
        "id": "Va207OFwLcQR"
      },
      "execution_count": 1,
      "outputs": []
    },
    {
      "cell_type": "code",
      "source": [
        "# deque 객체 생성\n",
        "d = deque(['a','b','c'])\n",
        "print(d)\n",
        "print(d[0])\n",
        "# 추가 - 마지막\n",
        "d.append('e')\n",
        "print(d)\n",
        "# 추가 - 맨앞\n",
        "d.appendleft('z')\n",
        "print(d)\n",
        "# 제거 - 마지막\n",
        "d.pop()\n",
        "# 제거 - 맨앞\n",
        "d.popleft()\n",
        "print(d)"
      ],
      "metadata": {
        "colab": {
          "base_uri": "https://localhost:8080/"
        },
        "id": "N4pZp6F9MTb4",
        "outputId": "9e899981-cc63-4534-ea2e-1d561e353721"
      },
      "execution_count": 7,
      "outputs": [
        {
          "output_type": "stream",
          "name": "stdout",
          "text": [
            "deque(['a', 'b', 'c'])\n",
            "a\n",
            "deque(['a', 'b', 'c', 'e'])\n",
            "deque(['z', 'a', 'b', 'c', 'e'])\n",
            "deque(['a', 'b', 'c'])\n"
          ]
        }
      ]
    },
    {
      "cell_type": "code",
      "source": [
        "from random import randint\n",
        "randint(1, 100)"
      ],
      "metadata": {
        "colab": {
          "base_uri": "https://localhost:8080/"
        },
        "id": "hqQrCOafNxoO",
        "outputId": "08dc4eb0-b7a5-4eff-dbe8-03744650c40a"
      },
      "execution_count": 11,
      "outputs": [
        {
          "output_type": "execute_result",
          "data": {
            "text/plain": [
              "21"
            ]
          },
          "metadata": {},
          "execution_count": 11
        }
      ]
    },
    {
      "cell_type": "code",
      "source": [
        "from random import randint as rr\n",
        "rr(1, 100)"
      ],
      "metadata": {
        "colab": {
          "base_uri": "https://localhost:8080/"
        },
        "id": "ouuXq-EQN8Hu",
        "outputId": "45e0df06-9260-4dd5-ead5-be7c3245c878"
      },
      "execution_count": 12,
      "outputs": [
        {
          "output_type": "execute_result",
          "data": {
            "text/plain": [
              "78"
            ]
          },
          "metadata": {},
          "execution_count": 12
        }
      ]
    },
    {
      "cell_type": "code",
      "source": [
        "# 1~5사이의 임의의 숫자 10개를 가지는 리스트를 생성\n",
        "# random이라는 모듈을 로드\n",
        "import random\n",
        "# random모듈중에 randint라는 함수를 사용\n",
        "random_lists = [ random.randint(1,5) for i in range(10)]\n",
        "random_lists"
      ],
      "metadata": {
        "colab": {
          "base_uri": "https://localhost:8080/"
        },
        "id": "3wTzYXGKMtQG",
        "outputId": "78c73f57-d899-49b5-9afc-f1e33d2dfef2"
      },
      "execution_count": 13,
      "outputs": [
        {
          "output_type": "execute_result",
          "data": {
            "text/plain": [
              "[3, 4, 4, 1, 5, 5, 1, 2, 1, 2]"
            ]
          },
          "metadata": {},
          "execution_count": 13
        }
      ]
    },
    {
      "cell_type": "code",
      "source": [
        "# Count는 리스트의 개수를 세어서 dict형식으로 만든다\n",
        "c = Counter(random_lists)\n",
        "c"
      ],
      "metadata": {
        "colab": {
          "base_uri": "https://localhost:8080/"
        },
        "id": "WUfw2LX0OVum",
        "outputId": "091522f7-efb4-48dc-fb55-5bc1c67128ed"
      },
      "execution_count": 14,
      "outputs": [
        {
          "output_type": "execute_result",
          "data": {
            "text/plain": [
              "Counter({3: 1, 4: 2, 1: 3, 5: 2, 2: 2})"
            ]
          },
          "metadata": {},
          "execution_count": 14
        }
      ]
    },
    {
      "cell_type": "code",
      "source": [
        "c[3]"
      ],
      "metadata": {
        "colab": {
          "base_uri": "https://localhost:8080/"
        },
        "id": "rsuR7CRJO0mq",
        "outputId": "e048504e-a55d-4fa2-a15a-88252c2e1994"
      },
      "execution_count": 15,
      "outputs": [
        {
          "output_type": "execute_result",
          "data": {
            "text/plain": [
              "1"
            ]
          },
          "metadata": {},
          "execution_count": 15
        }
      ]
    },
    {
      "cell_type": "code",
      "source": [
        "# orderedDict\n",
        "od = OrderedDict()\n",
        "od[1] = 1\n",
        "od[2] = 2\n",
        "od[3] = 3\n",
        "print(od)"
      ],
      "metadata": {
        "colab": {
          "base_uri": "https://localhost:8080/"
        },
        "id": "EdEELdswO2P1",
        "outputId": "2c774576-33b8-45b3-9ec5-2807b6ed5824"
      },
      "execution_count": 16,
      "outputs": [
        {
          "output_type": "stream",
          "name": "stdout",
          "text": [
            "OrderedDict([(1, 1), (2, 2), (3, 3)])\n"
          ]
        }
      ]
    },
    {
      "cell_type": "markdown",
      "source": [
        "텍스트 마이닝"
      ],
      "metadata": {
        "id": "NqgG3dcpPLAi"
      }
    },
    {
      "cell_type": "code",
      "source": [
        "url = 'https://raw.githubusercontent.com/leeky20240624/pythone/main/3%EC%A3%BC%EC%B0%A8/text.txt'\n",
        "# 파일읽기 - url 주소로부터\n",
        "import requests\n",
        "# 주어진 url로부터 데이터를 읽는다\n",
        "response = requests.get(url)\n",
        "text = response.text\n",
        "# 처음부터 50글자만\n",
        "print(text[:50])\n",
        "#  마지막 50글자만\n",
        "print(text[-50:])"
      ],
      "metadata": {
        "colab": {
          "base_uri": "https://localhost:8080/"
        },
        "collapsed": true,
        "id": "suzFZgDlPBcN",
        "outputId": "67b6e6ae-19bd-4da7-a700-d427010816c1"
      },
      "execution_count": 23,
      "outputs": [
        {
          "output_type": "stream",
          "name": "stdout",
          "text": [
            "한국의 대표 경제 전문가들로 구성된 한경 이코노미스트 클럽 회원 20명 중 13명은 올해 \n",
            "인한 내외 금리 차와 내수 등을 반영하는 것인데 빠르게 개선되지는 않을 것”으로 내다봤다.\n"
          ]
        }
      ]
    },
    {
      "cell_type": "code",
      "source": [
        "# 단어의 빈도수를 계산(단어는 공백을 기준으로 단어라고 하겠음)\n",
        "# 단어의 빈도수를 계산  {'한국의':5, }\n",
        "# 가장 많이 등장하는 단어 5개를 추출"
      ],
      "metadata": {
        "id": "UQsW8ntWQr7O"
      },
      "execution_count": 24,
      "outputs": []
    },
    {
      "cell_type": "code",
      "source": [
        "# collection의 Counter 를 사용하지 않을경우\n",
        "# 단어의 빈도수를 저장할 dict\n",
        "word_counts = {}\n",
        "\n",
        "word_lists = text.split()\n",
        "word_lists\n",
        "# dict에 key가 없으면 word_count[key] = 1\n",
        "# dict에 key가 있으면 word_count[key] += 1\n",
        "for i in word_lists:\n",
        "  if i not in word_counts:  # 키가 최초 생성될대\n",
        "    word_counts[i] = 1\n",
        "  else:\n",
        "    word_counts[i] +=1\n",
        "\n",
        "word_counts"
      ],
      "metadata": {
        "colab": {
          "base_uri": "https://localhost:8080/"
        },
        "collapsed": true,
        "id": "SGEAsNLOSQc-",
        "outputId": "e6f89789-77c6-4077-a2e4-107ce3098ba4"
      },
      "execution_count": 26,
      "outputs": [
        {
          "output_type": "execute_result",
          "data": {
            "text/plain": [
              "{'한국의': 1,\n",
              " '대표': 1,\n",
              " '경제': 1,\n",
              " '전문가들로': 1,\n",
              " '구성된': 1,\n",
              " '한경': 2,\n",
              " '이코노미스트': 2,\n",
              " '클럽': 2,\n",
              " '회원': 4,\n",
              " '20명': 2,\n",
              " '중': 7,\n",
              " '13명은': 2,\n",
              " '올해': 2,\n",
              " '하반기': 6,\n",
              " '원·달러': 5,\n",
              " '환율이': 3,\n",
              " '1400원을': 3,\n",
              " '돌파할': 2,\n",
              " '것으로': 6,\n",
              " '내다봤다.': 2,\n",
              " '한국은행의': 4,\n",
              " '첫': 3,\n",
              " '기준금리': 5,\n",
              " '인하': 8,\n",
              " '시점은': 2,\n",
              " '10월로': 1,\n",
              " '꼽은': 2,\n",
              " '전문가(10명)가': 1,\n",
              " '가장': 12,\n",
              " '많았다.': 6,\n",
              " '10일': 1,\n",
              " '한국경제신문이': 1,\n",
              " '20명을': 1,\n",
              " '대상으로': 1,\n",
              " '조사한': 1,\n",
              " '결과': 1,\n",
              " '답변을': 1,\n",
              " '보류한': 1,\n",
              " '2명을': 2,\n",
              " '제외한': 2,\n",
              " '전원(18명)이': 1,\n",
              " '환율': 10,\n",
              " '고점을': 4,\n",
              " '1390~1440원으로': 1,\n",
              " '전망했다.': 3,\n",
              " '이': 1,\n",
              " '한국과': 1,\n",
              " '미국': 4,\n",
              " '간': 1,\n",
              " '실질금리': 1,\n",
              " '및': 1,\n",
              " '경제성장률': 1,\n",
              " '전망': 1,\n",
              " '차이,': 1,\n",
              " '엔화': 1,\n",
              " '등': 2,\n",
              " '아시아': 1,\n",
              " '통화': 1,\n",
              " '약세': 1,\n",
              " '영향': 1,\n",
              " '등으로': 1,\n",
              " '달러당': 1,\n",
              " '넘을': 1,\n",
              " '예상했다.': 2,\n",
              " '높게': 2,\n",
              " '본': 1,\n",
              " '전문가는': 1,\n",
              " '안기태': 2,\n",
              " 'NH투자증권': 2,\n",
              " '이코노미스트로': 1,\n",
              " '1440원을': 1,\n",
              " '제시했다.': 1,\n",
              " '연말': 2,\n",
              " '수준은': 2,\n",
              " '‘1350~1400원': 2,\n",
              " '미만’이라고': 1,\n",
              " '예상한': 6,\n",
              " '응답자가': 3,\n",
              " '9명(45%)으로': 2,\n",
              " '‘1300~1350원': 2,\n",
              " '미만’을': 2,\n",
              " '답변(8명)이': 1,\n",
              " '뒤를': 1,\n",
              " '이었다.': 1,\n",
              " '한은의': 1,\n",
              " '10월을': 2,\n",
              " '사람이': 1,\n",
              " '10명으로': 2,\n",
              " '5명은': 1,\n",
              " '다음달': 1,\n",
              " '금리를': 10,\n",
              " '내릴': 7,\n",
              " '11일': 1,\n",
              " '열리는': 1,\n",
              " '한은': 2,\n",
              " '금융통화위원회에서': 1,\n",
              " '금리': 7,\n",
              " '결정이': 1,\n",
              " '나올': 1,\n",
              " '사람은': 1,\n",
              " '한': 2,\n",
              " '명도': 1,\n",
              " '없었다.': 1,\n",
              " '한은이': 3,\n",
              " '중앙은행(Fed)보다': 1,\n",
              " '먼저': 7,\n",
              " '수': 8,\n",
              " '있느냐는': 1,\n",
              " '질문에는': 1,\n",
              " '찬성과': 2,\n",
              " '반대': 1,\n",
              " '의견이': 1,\n",
              " '각각': 1,\n",
              " '팽팽하게': 1,\n",
              " '갈렸다.': 2,\n",
              " '유혜미': 1,\n",
              " '한양대': 1,\n",
              " '경제금융학부': 1,\n",
              " '교수는': 2,\n",
              " '“물가': 1,\n",
              " '안정세가': 1,\n",
              " '뚜렷한': 1,\n",
              " '반면': 2,\n",
              " '현': 1,\n",
              " '상당히': 1,\n",
              " '긴축적”이라며': 1,\n",
              " '“미국보다': 1,\n",
              " '긴축의': 1,\n",
              " '정도를': 1,\n",
              " '낮춰가기': 1,\n",
              " '시작할': 1,\n",
              " '필요가': 2,\n",
              " '있다”고': 5,\n",
              " '답했다.': 1,\n",
              " '이승훈': 1,\n",
              " '메리츠증권': 1,\n",
              " '연구위원은': 1,\n",
              " '“금리': 1,\n",
              " '선제': 1,\n",
              " '시': 1,\n",
              " '내외': 2,\n",
              " '금리차': 1,\n",
              " '확대에': 1,\n",
              " '따른': 1,\n",
              " '외환시장': 1,\n",
              " '불안과': 1,\n",
              " '원화': 1,\n",
              " '약세가': 1,\n",
              " '심해질': 2,\n",
              " '있고,': 2,\n",
              " '다시': 1,\n",
              " '물가안정': 1,\n",
              " '경로를': 1,\n",
              " '저해할': 1,\n",
              " '우려했다.': 1,\n",
              " '기준금리에': 2,\n",
              " '대한': 2,\n",
              " '설문에는': 1,\n",
              " '13명(65%)이': 1,\n",
              " '연': 3,\n",
              " '3.25%를': 1,\n",
              " '올': 4,\n",
              " '차례만': 1,\n",
              " '것이라는': 1,\n",
              " '관측이다.': 1,\n",
              " '6명(40%)은': 1,\n",
              " '3.0%까지': 1,\n",
              " '봤다.': 1,\n",
              " '\"불안한': 1,\n",
              " '외환시장…8월': 1,\n",
              " '금리인하': 1,\n",
              " '쉽지': 1,\n",
              " '않다\"': 1,\n",
              " '10명': 2,\n",
              " '7명': 2,\n",
              " '\"10월': 1,\n",
              " '이후': 3,\n",
              " '인하\"…\\'美보다': 1,\n",
              " \"인하'\": 1,\n",
              " '여부엔': 1,\n",
              " '팽팽': 1,\n",
              " '한경이코노미스트클럽': 1,\n",
              " '14명(70%)이': 1,\n",
              " '시점을': 1,\n",
              " '오는': 2,\n",
              " '10월': 3,\n",
              " '이후로': 2,\n",
              " '큰': 2,\n",
              " '이유로는': 1,\n",
              " '통화정책이': 2,\n",
              " '외환시장에': 1,\n",
              " '미칠': 1,\n",
              " '영향을': 1,\n",
              " '들': 1,\n",
              " '있다.': 3,\n",
              " '9월로': 1,\n",
              " '예상되는': 1,\n",
              " '중앙은행(Fed)의': 1,\n",
              " '피벗(통화정책': 1,\n",
              " '전환)에': 1,\n",
              " '앞서': 1,\n",
              " '한국은행이': 3,\n",
              " '내리면': 2,\n",
              " '지금도': 1,\n",
              " '부담스러운': 1,\n",
              " '환율을': 2,\n",
              " '더': 1,\n",
              " '밀어올릴': 1,\n",
              " '있다는': 1,\n",
              " '우려다.': 1,\n",
              " '대다수': 1,\n",
              " '전문가(14명)가': 1,\n",
              " '일시적으로': 1,\n",
              " '있다고': 2,\n",
              " '것도': 1,\n",
              " '눈여겨볼': 1,\n",
              " '대목이다.': 1,\n",
              " '통화정책을': 1,\n",
              " '완화': 1,\n",
              " '기조로': 1,\n",
              " '선회하겠지만': 1,\n",
              " '요인': 1,\n",
              " '때문에': 1,\n",
              " '여력은': 2,\n",
              " '크지': 1,\n",
              " '않다는': 1,\n",
              " '점을': 1,\n",
              " '시사하고': 1,\n",
              " '있어서다.': 1,\n",
              " '○10명': 1,\n",
              " '“10월': 1,\n",
              " '인하”': 1,\n",
              " '이번': 1,\n",
              " '조사에서': 1,\n",
              " '눈에': 1,\n",
              " '띈': 1,\n",
              " '결과는': 1,\n",
              " '시점이다.': 1,\n",
              " '최근': 2,\n",
              " '시장에서': 1,\n",
              " '확산하고': 1,\n",
              " '있는': 2,\n",
              " '8월': 1,\n",
              " '인하는': 1,\n",
              " '소수': 1,\n",
              " '의견(5명)에': 1,\n",
              " '그쳤다.': 1,\n",
              " '선택한': 1,\n",
              " '10명(50%)으로': 1,\n",
              " '많았고': 1,\n",
              " '11월': 1,\n",
              " '이후를': 1,\n",
              " '택한': 1,\n",
              " '전문가도': 2,\n",
              " '4명(20%)에': 1,\n",
              " '달했다.': 2,\n",
              " '한경이코노미스트': 1,\n",
              " '7명이': 1,\n",
              " '인하를': 3,\n",
              " '내다보고': 1,\n",
              " '것이다.': 1,\n",
              " '민감하게': 1,\n",
              " '반응하는': 1,\n",
              " '채권시장의': 1,\n",
              " '예상과는': 1,\n",
              " '거리가': 2,\n",
              " '3년': 1,\n",
              " '만기': 1,\n",
              " '국고채': 1,\n",
              " '금리는': 1,\n",
              " '3.1~3.2%대로': 1,\n",
              " '이미': 1,\n",
              " '두': 1,\n",
              " '차례의': 1,\n",
              " '반영하고': 1,\n",
              " '박석길': 1,\n",
              " 'JP모간': 1,\n",
              " '이코노미스트는': 2,\n",
              " '“‘너무': 1,\n",
              " '이른': 1,\n",
              " '가능성’이': 1,\n",
              " '아직은': 1,\n",
              " '‘너무': 1,\n",
              " '늦은': 1,\n",
              " '가능성’보다는': 1,\n",
              " '약간': 1,\n",
              " '상황”이라고': 1,\n",
              " '말했다.': 2,\n",
              " 'Fed보다': 1,\n",
              " '있냐는': 1,\n",
              " '질문에': 3,\n",
              " '답변도': 1,\n",
              " '일반적인': 1,\n",
              " '통념과': 1,\n",
              " '있었다.': 2,\n",
              " '반대가': 1,\n",
              " '10명씩으로': 1,\n",
              " '팽팽히': 1,\n",
              " '맞섰는데,': 1,\n",
              " '전망한': 1,\n",
              " '응답자': 1,\n",
              " '중에서도': 1,\n",
              " '5명이': 1,\n",
              " '찬성': 1,\n",
              " '의견을': 1,\n",
              " '냈다.': 1,\n",
              " '찬반': 1,\n",
              " '의견은': 1,\n",
              " '주로': 1,\n",
              " '환율과': 1,\n",
              " '경기를': 1,\n",
              " '보는': 2,\n",
              " '관점에': 1,\n",
              " '따라': 1,\n",
              " '응답한': 1,\n",
              " '민지희': 1,\n",
              " '미래에셋증권': 1,\n",
              " '애널리스트는': 1,\n",
              " '“내수': 1,\n",
              " '부진과': 1,\n",
              " '물가': 1,\n",
              " '안정을': 1,\n",
              " '고려해야': 1,\n",
              " '하는': 1,\n",
              " '상황에서': 1,\n",
              " '국내': 2,\n",
              " '세수': 1,\n",
              " '결손이': 1,\n",
              " '가능성이': 1,\n",
              " '높고': 1,\n",
              " '재정지출': 1,\n",
              " '축소되고': 1,\n",
              " '이유를': 1,\n",
              " '설명했다.': 1,\n",
              " '주원': 1,\n",
              " '현대경제연구원': 1,\n",
              " '경제연구실장은': 1,\n",
              " '“이미': 1,\n",
              " 'Fed와': 1,\n",
              " '다른': 1,\n",
              " '중앙은행들의': 1,\n",
              " '디커플링되고': 1,\n",
              " '있다”며': 2,\n",
              " '“우리도': 1,\n",
              " '전향적으로': 1,\n",
              " '생각할': 1,\n",
              " '했다.': 1,\n",
              " '지난해까지': 1,\n",
              " '부총재를': 1,\n",
              " '지낸': 1,\n",
              " '이승헌': 1,\n",
              " '숭실대': 1,\n",
              " '경영대학원': 1,\n",
              " '“한국은행이': 1,\n",
              " '급하게': 1,\n",
              " '인하할': 1,\n",
              " '이유가': 1,\n",
              " '없다”며': 1,\n",
              " '“부동산': 1,\n",
              " '가격': 1,\n",
              " '급등': 1,\n",
              " '부작용': 1,\n",
              " '우려가': 1,\n",
              " '미국보다': 1,\n",
              " '환율에': 2,\n",
              " '미치는': 1,\n",
              " '영향이': 1,\n",
              " '클': 1,\n",
              " '것”이라고': 1,\n",
              " '○절반': 1,\n",
              " '“올해': 1,\n",
              " '말': 2,\n",
              " '1300~1400원”': 1,\n",
              " '1400원에': 1,\n",
              " '육박하는': 1,\n",
              " '하반기에도': 1,\n",
              " '지속될': 1,\n",
              " '‘하반기': 1,\n",
              " '고점’': 1,\n",
              " '1400원이라고': 1,\n",
              " '답한': 1,\n",
              " '전문가가': 1,\n",
              " '8명(40%)으로': 1,\n",
              " '1405~1440원을': 1,\n",
              " '적어낸': 1,\n",
              " '응답자도': 1,\n",
              " '5명(25%)': 1,\n",
              " '관련': 1,\n",
              " '응답하지': 1,\n",
              " '않은': 1,\n",
              " '18명이': 1,\n",
              " '1390원': 1,\n",
              " '이상으로': 1,\n",
              " '평균은': 1,\n",
              " '1403원으로': 1,\n",
              " '조사됐다.': 1,\n",
              " '1440원으로': 1,\n",
              " '제시한': 1,\n",
              " '“한국과': 1,\n",
              " '미국의': 1,\n",
              " '성장률': 1,\n",
              " '격차가': 1,\n",
              " '반영되고': 1,\n",
              " '분석했다.': 1,\n",
              " 'NH투자증권은': 1,\n",
              " '주요': 1,\n",
              " '금융회사': 1,\n",
              " '작년': 1,\n",
              " '말에': 1,\n",
              " '1분기와': 1,\n",
              " '2분기': 1,\n",
              " '전망을': 1,\n",
              " '정확하게': 1,\n",
              " '예측했다.': 1,\n",
              " '묻자': 1,\n",
              " '미만’도': 1,\n",
              " '8명에': 1,\n",
              " '박춘성': 1,\n",
              " '금융연구원': 1,\n",
              " '거시경제연구실장은': 1,\n",
              " '“미국': 1,\n",
              " '경기': 1,\n",
              " '호조와': 1,\n",
              " '인플레이션이': 1,\n",
              " '쉽게': 1,\n",
              " '가라앉지': 1,\n",
              " '않아': 1,\n",
              " '달러': 1,\n",
              " '강세가': 1,\n",
              " '지속되고': 1,\n",
              " '“원화': 1,\n",
              " '약세는': 1,\n",
              " '이로': 1,\n",
              " '인한': 1,\n",
              " '차와': 1,\n",
              " '내수': 1,\n",
              " '등을': 1,\n",
              " '반영하는': 1,\n",
              " '것인데': 1,\n",
              " '빠르게': 1,\n",
              " '개선되지는': 1,\n",
              " '않을': 1,\n",
              " '것”으로': 1}"
            ]
          },
          "metadata": {},
          "execution_count": 26
        }
      ]
    },
    {
      "cell_type": "code",
      "source": [
        "# collection 의 Counter를 이용\n",
        "word_lists = text.split()\n",
        "word_counts =  Counter(word_lists)\n",
        "# 빈도수가 많은 상위 5개\n",
        "word_counts.most_common(5)"
      ],
      "metadata": {
        "colab": {
          "base_uri": "https://localhost:8080/"
        },
        "collapsed": true,
        "id": "4UNs-TJrSYgd",
        "outputId": "0871e7c4-238e-4842-8b89-93b1c500903c"
      },
      "execution_count": 29,
      "outputs": [
        {
          "output_type": "execute_result",
          "data": {
            "text/plain": [
              "[('가장', 12), ('환율', 10), ('금리를', 10), ('인하', 8), ('수', 8)]"
            ]
          },
          "metadata": {},
          "execution_count": 29
        }
      ]
    },
    {
      "cell_type": "markdown",
      "source": [
        "한글자는 제외 즉 두글자 이상만 단어로 인정"
      ],
      "metadata": {
        "id": "JJKaYAkTU-ke"
      }
    },
    {
      "cell_type": "code",
      "source": [
        "# 1. 데이터를 로드하고\n",
        "# 2. 공백을 기준으로 count를 하는데 이때 글자의 길이가 2이상인 항목만 빈도수를 계산한다.\n",
        "import requests\n",
        "# 파일읽기 - url 주소로부터\n",
        "url = 'https://raw.githubusercontent.com/leeky20240624/pythone/main/3%EC%A3%BC%EC%B0%A8/text.txt'\n",
        "def get_text_from_url(url):\n",
        "  # 주어진 url로부터 데이터를 읽는다\n",
        "  response = requests.get(url)\n",
        "  return response.text"
      ],
      "metadata": {
        "id": "xdzK05ObT_30"
      },
      "execution_count": 30,
      "outputs": []
    },
    {
      "cell_type": "code",
      "source": [
        "text = get_text_from_url(url)\n",
        "text = text.split() # 공백을 기준으로 단어분리\n",
        "# 단어의 길이가 2이상인 단어들로만 재 구성\n",
        "text = [ i  for i in text if len(i) >= 2]\n",
        "word_count =  Counter(text)\n",
        "word_count_top5 = word_count.most_common(5)\n",
        "word_count_top5"
      ],
      "metadata": {
        "colab": {
          "base_uri": "https://localhost:8080/"
        },
        "collapsed": true,
        "id": "fs8QgTebYpb9",
        "outputId": "3590bb39-54cd-4e41-f41b-e264650d04dc"
      },
      "execution_count": 38,
      "outputs": [
        {
          "output_type": "execute_result",
          "data": {
            "text/plain": [
              "[('가장', 12), ('환율', 10), ('금리를', 10), ('인하', 8), ('내릴', 7)]"
            ]
          },
          "metadata": {},
          "execution_count": 38
        }
      ]
    },
    {
      "cell_type": "markdown",
      "source": [
        "형태소 분석기를 이용해서 단어를 추출해 보자.\n",
        "  - 자바를 설치하고 path를 셋팅\n",
        "  - 형태소 분석기 konlpy 사용하기위해 install"
      ],
      "metadata": {
        "id": "g61ZYAOcaacF"
      }
    },
    {
      "cell_type": "code",
      "source": [
        "# 형태소 분석기 konlpy를 설치하기위한 준비작업\n",
        "%%bash\n",
        "apt-get update\n",
        "apt-get install g++ openjdk-8-jdk python-dev python3-dev\n",
        "pip3 install JPype1\n",
        "pip3 install konlpy"
      ],
      "metadata": {
        "colab": {
          "base_uri": "https://localhost:8080/"
        },
        "collapsed": true,
        "id": "l_P2_Cosak-F",
        "outputId": "422bdd91-107c-479a-d2d3-a4be06f8d320"
      },
      "execution_count": 39,
      "outputs": [
        {
          "output_type": "stream",
          "name": "stdout",
          "text": [
            "Get:1 http://security.ubuntu.com/ubuntu jammy-security InRelease [129 kB]\n",
            "Hit:2 http://archive.ubuntu.com/ubuntu jammy InRelease\n",
            "Get:3 https://cloud.r-project.org/bin/linux/ubuntu jammy-cran40/ InRelease [3,626 B]\n",
            "Get:4 https://developer.download.nvidia.com/compute/cuda/repos/ubuntu2204/x86_64  InRelease [1,581 B]\n",
            "Get:5 http://archive.ubuntu.com/ubuntu jammy-updates InRelease [128 kB]\n",
            "Hit:6 http://archive.ubuntu.com/ubuntu jammy-backports InRelease\n",
            "Get:7 https://cloud.r-project.org/bin/linux/ubuntu jammy-cran40/ Packages [55.6 kB]\n",
            "Hit:8 https://ppa.launchpadcontent.net/c2d4u.team/c2d4u4.0+/ubuntu jammy InRelease\n",
            "Get:9 https://developer.download.nvidia.com/compute/cuda/repos/ubuntu2204/x86_64  Packages [858 kB]\n",
            "Hit:10 https://ppa.launchpadcontent.net/deadsnakes/ppa/ubuntu jammy InRelease\n",
            "Get:11 http://security.ubuntu.com/ubuntu jammy-security/main amd64 Packages [1,994 kB]\n",
            "Hit:12 https://ppa.launchpadcontent.net/graphics-drivers/ppa/ubuntu jammy InRelease\n",
            "Hit:13 https://ppa.launchpadcontent.net/ubuntugis/ppa/ubuntu jammy InRelease\n",
            "Get:14 http://archive.ubuntu.com/ubuntu jammy-updates/universe amd64 Packages [1,410 kB]\n",
            "Get:15 http://security.ubuntu.com/ubuntu jammy-security/universe amd64 Packages [1,127 kB]\n",
            "Get:16 http://archive.ubuntu.com/ubuntu jammy-updates/main amd64 Packages [2,258 kB]\n",
            "Fetched 7,964 kB in 2s (4,791 kB/s)\n",
            "Reading package lists...\n",
            "Reading package lists...\n",
            "Building dependency tree...\n",
            "Reading state information...\n",
            "Package python-dev is not available, but is referred to by another package.\n",
            "This may mean that the package is missing, has been obsoleted, or\n",
            "is only available from another source\n",
            "However the following packages replace it:\n",
            "  python2-dev python2 python-dev-is-python3\n",
            "\n",
            "Collecting JPype1\n",
            "  Downloading JPype1-1.5.0-cp310-cp310-manylinux_2_17_x86_64.manylinux2014_x86_64.whl (488 kB)\n",
            "     ━━━━━━━━━━━━━━━━━━━━━━━━━━━━━━━━━━━━━━━━ 488.6/488.6 kB 3.3 MB/s eta 0:00:00\n",
            "Requirement already satisfied: packaging in /usr/local/lib/python3.10/dist-packages (from JPype1) (24.1)\n",
            "Installing collected packages: JPype1\n",
            "Successfully installed JPype1-1.5.0\n",
            "Collecting konlpy\n",
            "  Downloading konlpy-0.6.0-py2.py3-none-any.whl (19.4 MB)\n",
            "     ━━━━━━━━━━━━━━━━━━━━━━━━━━━━━━━━━━━━━━━━ 19.4/19.4 MB 40.0 MB/s eta 0:00:00\n",
            "Requirement already satisfied: JPype1>=0.7.0 in /usr/local/lib/python3.10/dist-packages (from konlpy) (1.5.0)\n",
            "Requirement already satisfied: lxml>=4.1.0 in /usr/local/lib/python3.10/dist-packages (from konlpy) (4.9.4)\n",
            "Requirement already satisfied: numpy>=1.6 in /usr/local/lib/python3.10/dist-packages (from konlpy) (1.25.2)\n",
            "Requirement already satisfied: packaging in /usr/local/lib/python3.10/dist-packages (from JPype1>=0.7.0->konlpy) (24.1)\n",
            "Installing collected packages: konlpy\n",
            "Successfully installed konlpy-0.6.0\n"
          ]
        },
        {
          "output_type": "stream",
          "name": "stderr",
          "text": [
            "E: Package 'python-dev' has no installation candidate\n"
          ]
        }
      ]
    },
    {
      "cell_type": "code",
      "source": [
        "%env JAVA_HOME \"/usr/lib/jvm/java-8-openjdk-amd64\""
      ],
      "metadata": {
        "colab": {
          "base_uri": "https://localhost:8080/"
        },
        "id": "soaj-1Nsak7c",
        "outputId": "a2ccf7ea-6d42-427a-e763-6a8c075abb74"
      },
      "execution_count": 40,
      "outputs": [
        {
          "output_type": "stream",
          "name": "stdout",
          "text": [
            "env: JAVA_HOME=\"/usr/lib/jvm/java-8-openjdk-amd64\"\n"
          ]
        }
      ]
    },
    {
      "cell_type": "code",
      "source": [
        "import konlpy\n",
        "from konlpy.tag import Okt\n",
        "okt = Okt()\n",
        "okt.phrases('한국의 대표 경제 전문가들로 구성된')"
      ],
      "metadata": {
        "colab": {
          "base_uri": "https://localhost:8080/"
        },
        "id": "EzoSKZQlYuQ1",
        "outputId": "64330feb-3ad9-4d12-be76-7624e567df32"
      },
      "execution_count": 42,
      "outputs": [
        {
          "output_type": "execute_result",
          "data": {
            "text/plain": [
              "['한국', '한국의 대표', '한국의 대표 경제', '한국의 대표 경제 전문가들', '구성', '대표', '경제', '전문가들']"
            ]
          },
          "metadata": {},
          "execution_count": 42
        }
      ]
    },
    {
      "cell_type": "code",
      "source": [
        "okt.nouns('한국의 대표 경제 전문가들로 구성된')"
      ],
      "metadata": {
        "colab": {
          "base_uri": "https://localhost:8080/"
        },
        "id": "3hKqDAbobNQt",
        "outputId": "a8bd1691-3d91-4b28-e27e-6e80490cf273"
      },
      "execution_count": 43,
      "outputs": [
        {
          "output_type": "execute_result",
          "data": {
            "text/plain": [
              "['한국', '대표', '경제', '전문가', '구성']"
            ]
          },
          "metadata": {},
          "execution_count": 43
        }
      ]
    },
    {
      "cell_type": "code",
      "source": [
        "# 형태소 분석기 konlpy를 이용해서 단어를 분리하고 count 해 보자\n",
        "# split() 사용대신에 konlpy에 제공하는 Okt의 nouns함수를 이용해서 명사만 추출하고 -> counter\n",
        "texts = get_text_from_url(url)\n",
        "okt = Okt()\n",
        "# 1. okt.nonus 적용\n",
        "words =  okt.nouns(texts)\n",
        "# 2. 2글자 이상만 채택\n",
        "words = [ word for word in words if len(word) >=2 ]\n",
        "# 3. counter 적용\n",
        "word_counts =  Counter(words)\n",
        "# 4. counter의 most_common(5)\n",
        "word_counts.most_common(5)\n"
      ],
      "metadata": {
        "colab": {
          "base_uri": "https://localhost:8080/"
        },
        "id": "16Mthlowb5BU",
        "outputId": "390f4ba3-26f7-437b-d929-fe8a80dca095"
      },
      "execution_count": 46,
      "outputs": [
        {
          "output_type": "execute_result",
          "data": {
            "text/plain": [
              "[('금리', 21), ('환율', 18), ('인하', 15), ('가장', 12), ('예상', 10)]"
            ]
          },
          "metadata": {},
          "execution_count": 46
        }
      ]
    },
    {
      "cell_type": "markdown",
      "source": [
        "영문 형태소 분석기\n",
        "  - 문장을 리스트형태의 토큰으로 반환 punkt\n",
        "  - 품사태깅 aveaged_perceptron_tagger"
      ],
      "metadata": {
        "id": "9Gf9OfflfENe"
      }
    },
    {
      "cell_type": "code",
      "source": [
        "import nltk\n",
        "nltk.download('averaged_perceptron_tagger')\n",
        "nltk.download('punkt')"
      ],
      "metadata": {
        "colab": {
          "base_uri": "https://localhost:8080/"
        },
        "id": "rJcP5Hl3cw7U",
        "outputId": "b413f466-4c67-41d2-cd1d-bb6df82c7078"
      },
      "execution_count": 49,
      "outputs": [
        {
          "output_type": "stream",
          "name": "stderr",
          "text": [
            "[nltk_data] Downloading package averaged_perceptron_tagger to\n",
            "[nltk_data]     /root/nltk_data...\n",
            "[nltk_data]   Unzipping taggers/averaged_perceptron_tagger.zip.\n",
            "[nltk_data] Downloading package punkt to /root/nltk_data...\n",
            "[nltk_data]   Unzipping tokenizers/punkt.zip.\n"
          ]
        },
        {
          "output_type": "execute_result",
          "data": {
            "text/plain": [
              "True"
            ]
          },
          "metadata": {},
          "execution_count": 49
        }
      ]
    },
    {
      "cell_type": "code",
      "source": [
        "sentence = '''\n",
        "beautiful Emma refused to permit us to obtain the refuse permit.\n",
        "At eight o'clock on Thursday morning Arthur didn't feel very good'''\n",
        "\n",
        "# 문장을 리스트형태의 토큰으로 반환\n",
        "tokens = nltk.word_tokenize(sentence)"
      ],
      "metadata": {
        "collapsed": true,
        "id": "BERiSMdlfRJc"
      },
      "execution_count": 52,
      "outputs": []
    },
    {
      "cell_type": "code",
      "source": [
        "# 토큰을 가지고 품사태깅별로 분류\n",
        "# 과거동사 VBD,  부사 RB, 형용사 JJ,,   명사 NN 을 tuple 형태로 저장\n",
        "tagged = nltk.tag.pos_tag(tokens)\n",
        "# 명사인 NN만 추출\n",
        "tagged"
      ],
      "metadata": {
        "colab": {
          "base_uri": "https://localhost:8080/"
        },
        "id": "cV0iGp5Yf_i7",
        "outputId": "5ddac15c-f19d-4896-d0fb-96a66047be02"
      },
      "execution_count": 53,
      "outputs": [
        {
          "output_type": "execute_result",
          "data": {
            "text/plain": [
              "[('beautiful', 'JJ'),\n",
              " ('Emma', 'NNP'),\n",
              " ('refused', 'VBD'),\n",
              " ('to', 'TO'),\n",
              " ('permit', 'VB'),\n",
              " ('us', 'PRP'),\n",
              " ('to', 'TO'),\n",
              " ('obtain', 'VB'),\n",
              " ('the', 'DT'),\n",
              " ('refuse', 'NN'),\n",
              " ('permit', 'NN'),\n",
              " ('.', '.'),\n",
              " ('At', 'IN'),\n",
              " ('eight', 'CD'),\n",
              " (\"o'clock\", 'NN'),\n",
              " ('on', 'IN'),\n",
              " ('Thursday', 'NNP'),\n",
              " ('morning', 'NN'),\n",
              " ('Arthur', 'NNP'),\n",
              " ('did', 'VBD'),\n",
              " (\"n't\", 'RB'),\n",
              " ('feel', 'VB'),\n",
              " ('very', 'RB'),\n",
              " ('good', 'JJ')]"
            ]
          },
          "metadata": {},
          "execution_count": 53
        }
      ]
    },
    {
      "cell_type": "code",
      "source": [
        "# -복 습... 리스트 컴프리핸션\n",
        "# 간단한 for 문장을 표현\n",
        "temp = []\n",
        "for i in range(5):\n",
        "  temp.append(i*2)\n",
        "\n",
        "print(temp)\n",
        "\n",
        "[ i*2 for i in range(5) ]"
      ],
      "metadata": {
        "colab": {
          "base_uri": "https://localhost:8080/"
        },
        "id": "Klbs4YtNgPtj",
        "outputId": "1a733d70-5326-4aeb-e288-8c12bc4535c5"
      },
      "execution_count": 56,
      "outputs": [
        {
          "output_type": "stream",
          "name": "stdout",
          "text": [
            "[0, 2, 4, 6, 8]\n"
          ]
        },
        {
          "output_type": "execute_result",
          "data": {
            "text/plain": [
              "[0, 2, 4, 6, 8]"
            ]
          },
          "metadata": {},
          "execution_count": 56
        }
      ]
    },
    {
      "cell_type": "code",
      "source": [
        "temp = []\n",
        "for i in range(5):\n",
        "  if i%2==0:\n",
        "    temp.append(i*2)\n",
        "\n",
        "print(temp)\n",
        "\n",
        "[ i*2 for i in range(5) if i%2==0 ]"
      ],
      "metadata": {
        "colab": {
          "base_uri": "https://localhost:8080/"
        },
        "id": "Yp8tSrLmhQtc",
        "outputId": "f9974a96-5d0b-403b-bfc8-178903e9c11f"
      },
      "execution_count": 58,
      "outputs": [
        {
          "output_type": "stream",
          "name": "stdout",
          "text": [
            "[0, 4, 8]\n"
          ]
        },
        {
          "output_type": "execute_result",
          "data": {
            "text/plain": [
              "[0, 4, 8]"
            ]
          },
          "metadata": {},
          "execution_count": 58
        }
      ]
    },
    {
      "cell_type": "code",
      "source": [],
      "metadata": {
        "id": "x5p36CWUhq2r"
      },
      "execution_count": null,
      "outputs": []
    }
  ]
}