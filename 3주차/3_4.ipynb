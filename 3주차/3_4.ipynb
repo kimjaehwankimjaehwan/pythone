{
  "nbformat": 4,
  "nbformat_minor": 0,
  "metadata": {
    "colab": {
      "provenance": []
    },
    "kernelspec": {
      "name": "python3",
      "display_name": "Python 3"
    },
    "language_info": {
      "name": "python"
    }
  },
  "cells": [
    {
      "cell_type": "code",
      "execution_count": null,
      "metadata": {
        "id": "fBFOvq9hRVEk"
      },
      "outputs": [],
      "source": []
    },
    {
      "cell_type": "markdown",
      "source": [
        "# 람다\n",
        "  - 함수의 또 다른 표현\n",
        "  - 함수중에 매개변수로 함수를 전달받는 함수가 있다.\n",
        "  - 함수를 한 줄로 간단하게 만들어 줌"
      ],
      "metadata": {
        "id": "zN3wPGstUSCR"
      }
    },
    {
      "cell_type": "code",
      "source": [
        "def add(a, b):\n",
        "    return a + b\n",
        "\n",
        "print( add(10,20)   )"
      ],
      "metadata": {
        "colab": {
          "base_uri": "https://localhost:8080/"
        },
        "id": "5_SCHn2TUXfe",
        "outputId": "944670c6-2ba8-4039-fd3a-a6565893ac42"
      },
      "execution_count": 1,
      "outputs": [
        {
          "output_type": "stream",
          "name": "stdout",
          "text": [
            "30\n"
          ]
        }
      ]
    },
    {
      "cell_type": "code",
      "source": [
        "add =  lambda a,b : a + b\n",
        "\n",
        "print( add(10,20)   )"
      ],
      "metadata": {
        "colab": {
          "base_uri": "https://localhost:8080/"
        },
        "id": "QR9dx1g6Vd8-",
        "outputId": "9e0e31cd-d543-4aed-c3b2-ce1f22cb30c7"
      },
      "execution_count": 2,
      "outputs": [
        {
          "output_type": "stream",
          "name": "stdout",
          "text": [
            "30\n"
          ]
        }
      ]
    },
    {
      "cell_type": "code",
      "source": [
        "# 4칙연산  + - * /"
      ],
      "metadata": {
        "id": "_mYikh6gVeCG"
      },
      "execution_count": null,
      "outputs": []
    },
    {
      "cell_type": "code",
      "source": [
        "def add(a,b):\n",
        "  return a+b\n",
        "def minus(a,b) :\n",
        "  return a-b\n",
        "def mul(a,b):\n",
        "  return a*b\n",
        "def div(a,b):\n",
        "  return a/b\n",
        "def myfunc1(a,b):\n",
        "  return a**2 + b**2"
      ],
      "metadata": {
        "id": "mKPkucYvUXh2"
      },
      "execution_count": 11,
      "outputs": []
    },
    {
      "cell_type": "code",
      "source": [
        "#  함수하나로 위의 4칙연산을 표현\n",
        "# 두개의 값을 전달하고 연산을 정하는 함수도 전달\n",
        "def calc(a,b,func):  # 두개의 값과 연산할 함수를 전달\n",
        "  return func(a,b)  # 전달받은 함수에 두개의 값을 이용해서 함수를 호출하고 그 결과를 받아서 다시 리턴"
      ],
      "metadata": {
        "id": "xUaOYWCnUXkG"
      },
      "execution_count": 4,
      "outputs": []
    },
    {
      "cell_type": "code",
      "source": [
        "calc(10,20,myfunc1)"
      ],
      "metadata": {
        "colab": {
          "base_uri": "https://localhost:8080/"
        },
        "id": "Wt9rWhhJW_H2",
        "outputId": "be7967d4-239c-4da4-cd07-52eef3f19198"
      },
      "execution_count": 12,
      "outputs": [
        {
          "output_type": "execute_result",
          "data": {
            "text/plain": [
              "500"
            ]
          },
          "metadata": {},
          "execution_count": 12
        }
      ]
    },
    {
      "cell_type": "code",
      "source": [
        "lambda a,b : a+b"
      ],
      "metadata": {
        "id": "xqmvipHDW_Ke"
      },
      "execution_count": null,
      "outputs": []
    },
    {
      "cell_type": "code",
      "source": [
        "# 각 변수를 2로나누고 합을 구해보세요\n",
        "# def myfunc2(a,b):\n",
        "#   return a/2 + b/2\n",
        "\n",
        "# calc(10,20, myfunc2)\n",
        "\n",
        "calc(10,20, lambda a,b : a/2 + b/2 )"
      ],
      "metadata": {
        "colab": {
          "base_uri": "https://localhost:8080/"
        },
        "id": "nttBUS4gUXmf",
        "outputId": "81ea3680-331b-4d97-d4d3-a5b6fc577d61"
      },
      "execution_count": 17,
      "outputs": [
        {
          "output_type": "execute_result",
          "data": {
            "text/plain": [
              "15.0"
            ]
          },
          "metadata": {},
          "execution_count": 17
        }
      ]
    },
    {
      "cell_type": "code",
      "source": [
        "list(  map(int,['10','20','30'])  )"
      ],
      "metadata": {
        "colab": {
          "base_uri": "https://localhost:8080/"
        },
        "id": "D50AFIIpUXod",
        "outputId": "de3b2e0d-8b3d-4724-acfd-0001eb03ad22"
      },
      "execution_count": 19,
      "outputs": [
        {
          "output_type": "execute_result",
          "data": {
            "text/plain": [
              "[10, 20, 30]"
            ]
          },
          "metadata": {},
          "execution_count": 19
        }
      ]
    },
    {
      "cell_type": "code",
      "source": [
        "# 정수로 된 임의의 리스트에 각 원소를 제곱하는 리스트를 구하시오\n",
        "# def myfunc3(a):\n",
        "#   return a**2\n",
        "\n",
        "# list(  map(myfunc3,[10,20,30])  )\n",
        "\n",
        "\n",
        "list(  map(lambda a: a**2 ,[10,20,30])  )"
      ],
      "metadata": {
        "colab": {
          "base_uri": "https://localhost:8080/"
        },
        "id": "7NHqBpNcZ6UI",
        "outputId": "112775bb-2436-4f03-bee6-c47de25ff023"
      },
      "execution_count": 21,
      "outputs": [
        {
          "output_type": "execute_result",
          "data": {
            "text/plain": [
              "[100, 400, 900]"
            ]
          },
          "metadata": {},
          "execution_count": 21
        }
      ]
    },
    {
      "cell_type": "markdown",
      "source": [
        "### 람다작성법\n",
        "  - lambda 매개변수 : 실행할 로직"
      ],
      "metadata": {
        "id": "N0UZ66PtaslW"
      }
    },
    {
      "cell_type": "code",
      "source": [
        "# 1. 두수의 합을 구하는 람다\n",
        "lambda a,b : a + b\n",
        "# 2. 리스트의 각 요소에 2를 곱하는 map에 람다를 적용\n",
        "list(  map(lambda a: a*2,[10,20,30])  )\n",
        "# 3. 문자열 길이를 반환하는 람다\n",
        "lambda a: len(a)\n",
        "# 4. 리스트의 각 문자열을 대문자로 처리하는 map에 람다를 적용\n",
        "list(  map(lambda a: a.upper(),['abc','def','ghi'])  )\n",
        "# 5. 두개의 문자열을 결합하는 람다\n",
        "lambda a,b : a + b"
      ],
      "metadata": {
        "id": "Mvbn4ztRZ6XI"
      },
      "execution_count": null,
      "outputs": []
    },
    {
      "cell_type": "code",
      "source": [
        "# 값이 짝수면 1 홀수면 0을 반환하는 람다함수\n",
        "myfunc4 =  lambda a : 1 if a%2==0 else 0\n",
        "myfunc4(152)"
      ],
      "metadata": {
        "colab": {
          "base_uri": "https://localhost:8080/"
        },
        "id": "kcF8iX9ua4im",
        "outputId": "3fb36e3a-564c-47d9-e029-1dd3e0c9ddcf"
      },
      "execution_count": 23,
      "outputs": [
        {
          "output_type": "execute_result",
          "data": {
            "text/plain": [
              "1"
            ]
          },
          "metadata": {},
          "execution_count": 23
        }
      ]
    },
    {
      "cell_type": "markdown",
      "source": [
        "# 필터"
      ],
      "metadata": {
        "id": "v3Lyia8ihiwJ"
      }
    },
    {
      "cell_type": "code",
      "source": [
        "list( filter(lambda a: a%2!=0, [11,20,31,40,51]) )"
      ],
      "metadata": {
        "colab": {
          "base_uri": "https://localhost:8080/"
        },
        "id": "P9wFraBna4lw",
        "outputId": "50cc9792-6d6e-4153-84cc-31fa2c3b5f1b"
      },
      "execution_count": 26,
      "outputs": [
        {
          "output_type": "execute_result",
          "data": {
            "text/plain": [
              "[11, 31, 51]"
            ]
          },
          "metadata": {},
          "execution_count": 26
        }
      ]
    },
    {
      "cell_type": "code",
      "source": [
        "# 특정 문자열을 포함하는 단어 필터링   a 라는문자열\n",
        "words = ['apple','banana','chery','grape','mango']\n",
        "list( filter(lambda a: 'a' in a, words) )"
      ],
      "metadata": {
        "colab": {
          "base_uri": "https://localhost:8080/"
        },
        "id": "lm7K8Lqthl7u",
        "outputId": "44499e9e-e77f-4e43-8800-69f2c8ac3cdf"
      },
      "execution_count": 29,
      "outputs": [
        {
          "output_type": "execute_result",
          "data": {
            "text/plain": [
              "['apple', 'banana', 'grape', 'mango']"
            ]
          },
          "metadata": {},
          "execution_count": 29
        }
      ]
    },
    {
      "cell_type": "code",
      "source": [
        "# 문자열의 길이가 5개인 단어만 필터링\n",
        "words = ['apple','banana','chery','grape','mango']\n",
        "list( filter(lambda a: len(a)==5, words) )"
      ],
      "metadata": {
        "colab": {
          "base_uri": "https://localhost:8080/"
        },
        "id": "9pFAP3JBhl_F",
        "outputId": "b2123e84-4dbd-408e-f12a-1a5b7c16c328"
      },
      "execution_count": 30,
      "outputs": [
        {
          "output_type": "execute_result",
          "data": {
            "text/plain": [
              "['apple', 'chery', 'grape', 'mango']"
            ]
          },
          "metadata": {},
          "execution_count": 30
        }
      ]
    },
    {
      "cell_type": "code",
      "source": [
        "# 1~10 사이의 숫자중에서 임의수 10개를 추출한다음\n",
        "# 2와 5사이에 있는 숫자만 추출  2 <= x <= 5\n",
        "import random\n",
        "random_number = [random.randint(1,10) for i in range(10)]\n",
        "print(random_number)\n",
        "list(filter(lambda x: 2 <= x <= 5, random_number))\n"
      ],
      "metadata": {
        "colab": {
          "base_uri": "https://localhost:8080/"
        },
        "id": "xhAQf_IEhmCu",
        "outputId": "a6a6cade-7851-43eb-bf8e-4e61ece32f3c"
      },
      "execution_count": 32,
      "outputs": [
        {
          "output_type": "stream",
          "name": "stdout",
          "text": [
            "[2, 4, 3, 6, 10, 1, 7, 2, 10, 4]\n"
          ]
        },
        {
          "output_type": "execute_result",
          "data": {
            "text/plain": [
              "[2, 4, 3, 2, 4]"
            ]
          },
          "metadata": {},
          "execution_count": 32
        }
      ]
    },
    {
      "cell_type": "markdown",
      "source": [
        "# 맵 리듀스"
      ],
      "metadata": {
        "id": "m-AYNrQ9UUkW"
      }
    },
    {
      "cell_type": "code",
      "source": [
        "from functools import reduce\n",
        "import random\n",
        "random_number = [random.randint(1,10) for i in range(10)]\n",
        "print(random_number, sum(random_number))\n",
        "reduce(lambda a,b: a+b, random_number)"
      ],
      "metadata": {
        "colab": {
          "base_uri": "https://localhost:8080/"
        },
        "id": "9vBiK5fHUT2N",
        "outputId": "40032a28-3ce3-4ac3-b1ff-59095400b69b"
      },
      "execution_count": 35,
      "outputs": [
        {
          "output_type": "stream",
          "name": "stdout",
          "text": [
            "[6, 7, 4, 4, 10, 9, 7, 2, 8, 9] 66\n"
          ]
        },
        {
          "output_type": "execute_result",
          "data": {
            "text/plain": [
              "66"
            ]
          },
          "metadata": {},
          "execution_count": 35
        }
      ]
    },
    {
      "cell_type": "code",
      "source": [
        "# 리스트에 리스트들이 있다... 즉 2차원 리스트 -- 1차원 리스트로\n",
        "# [ [1,2], [3,4,5], [6,7]    ]  --> [1,2,3,4,5,6,7]\n",
        "temp = [ [1,2], [3,4,5], [6,7]    ]\n",
        "list(  reduce(lambda a,b: a+b, temp)  )"
      ],
      "metadata": {
        "colab": {
          "base_uri": "https://localhost:8080/"
        },
        "id": "nvm6-OX7mF1c",
        "outputId": "3f6ab575-a6c5-4f03-e938-28d8ce32f063"
      },
      "execution_count": 39,
      "outputs": [
        {
          "output_type": "execute_result",
          "data": {
            "text/plain": [
              "[1, 2, 3, 4, 5, 6, 7]"
            ]
          },
          "metadata": {},
          "execution_count": 39
        }
      ]
    },
    {
      "cell_type": "code",
      "source": [
        "# 주어진 2차원 데이터를 1차원으로 변경하되 중복을 제거해서\n",
        "# ['apple', 'banana','check','grape','mango']\n",
        "words = [['apple','banana'],['banana', 'chery'],['grape','mango','chery'] ]\n",
        "# 1차원으로 변경한후 - reduce\n",
        "reduce(lambda a,b: a+b, words)\n",
        "# 중복을 제거 - set\n",
        "set(reduce(lambda a,b: a+b, words))"
      ],
      "metadata": {
        "colab": {
          "base_uri": "https://localhost:8080/"
        },
        "id": "ndslwLHynhY8",
        "outputId": "3422d644-2080-4c2b-cc4f-a0d0b0ed26f0"
      },
      "execution_count": 44,
      "outputs": [
        {
          "output_type": "execute_result",
          "data": {
            "text/plain": [
              "{'apple', 'banana', 'chery', 'grape', 'mango'}"
            ]
          },
          "metadata": {},
          "execution_count": 44
        }
      ]
    },
    {
      "cell_type": "code",
      "source": [
        "words = [['apple','banana'],['banana', 'chery'],['grape','mango','chery'] ]\n",
        "reduce(lambda a,b: set(a).union(set(b)), words)"
      ],
      "metadata": {
        "colab": {
          "base_uri": "https://localhost:8080/"
        },
        "id": "svobAvHYnnf0",
        "outputId": "85956c8a-6e8a-4c26-d422-127e5edc120e"
      },
      "execution_count": 46,
      "outputs": [
        {
          "output_type": "execute_result",
          "data": {
            "text/plain": [
              "{'apple', 'banana', 'chery', 'grape', 'mango'}"
            ]
          },
          "metadata": {},
          "execution_count": 46
        }
      ]
    },
    {
      "cell_type": "markdown",
      "source": [
        "# 재귀함수"
      ],
      "metadata": {
        "id": "vdSDEFZuqetr"
      }
    },
    {
      "cell_type": "code",
      "source": [
        "def a():\n",
        "  print('1',end=' ')\n",
        "  b()\n",
        "  print('2',end=' ')\n",
        "\n",
        "def b():\n",
        "  print('3',end=' ')\n",
        "  c()\n",
        "  print('4',end=' ')\n",
        "\n",
        "def c():\n",
        "  print('5',end=' ')\n"
      ],
      "metadata": {
        "id": "_4YuBGSJrbEz"
      },
      "execution_count": 49,
      "outputs": []
    },
    {
      "cell_type": "code",
      "source": [
        "# 함수 a를 호출하면 출력의 결과는? 1 3 5 4 2\n",
        "a()"
      ],
      "metadata": {
        "colab": {
          "base_uri": "https://localhost:8080/"
        },
        "id": "Rv9ivugHrqzF",
        "outputId": "0875c396-bf74-43bb-8320-ac0c03ad449d"
      },
      "execution_count": 50,
      "outputs": [
        {
          "output_type": "stream",
          "name": "stdout",
          "text": [
            "1 3 5 4 2 "
          ]
        }
      ]
    },
    {
      "cell_type": "code",
      "source": [
        "def selfcall(num):\n",
        "  if num==0:\n",
        "    return\n",
        "  print(num, end=' ')\n",
        "  selfcall(num-1)"
      ],
      "metadata": {
        "id": "dM3_BnKyr-el"
      },
      "execution_count": 58,
      "outputs": []
    },
    {
      "cell_type": "code",
      "source": [
        "selfcall(5)"
      ],
      "metadata": {
        "colab": {
          "base_uri": "https://localhost:8080/"
        },
        "collapsed": true,
        "id": "8o4BIFI_suQC",
        "outputId": "7ee0f914-df1c-4db9-d753-e591b6896e3b"
      },
      "execution_count": 59,
      "outputs": [
        {
          "output_type": "stream",
          "name": "stdout",
          "text": [
            "5 4 3 2 1 "
          ]
        }
      ]
    },
    {
      "cell_type": "code",
      "source": [
        "# 5!   5*4*3*2*1\n",
        "def factorial(num):\n",
        "  if num==1:\n",
        "    return 1\n",
        "  return num * factorial(num-1)"
      ],
      "metadata": {
        "id": "vIEt2h08tdA0"
      },
      "execution_count": 60,
      "outputs": []
    },
    {
      "cell_type": "code",
      "source": [
        "factorial(5)"
      ],
      "metadata": {
        "colab": {
          "base_uri": "https://localhost:8080/"
        },
        "id": "5OrAwEa3xKNT",
        "outputId": "773fb289-ba6e-4187-94c4-8518f528a3c5"
      },
      "execution_count": 61,
      "outputs": [
        {
          "output_type": "execute_result",
          "data": {
            "text/plain": [
              "120"
            ]
          },
          "metadata": {},
          "execution_count": 61
        }
      ]
    },
    {
      "cell_type": "code",
      "source": [
        "reduce(lambda a,b: a*b, range(1,6))"
      ],
      "metadata": {
        "colab": {
          "base_uri": "https://localhost:8080/"
        },
        "id": "1OB66A3RxLut",
        "outputId": "4296f26d-4b93-4bfd-fb01-cbbc90191f55"
      },
      "execution_count": 62,
      "outputs": [
        {
          "output_type": "execute_result",
          "data": {
            "text/plain": [
              "120"
            ]
          },
          "metadata": {},
          "execution_count": 62
        }
      ]
    },
    {
      "cell_type": "code",
      "source": [
        "import os\n",
        "os.listdir('/content/sample_data')  # 특정경로에 있는 모든 파일과 디렉터리를 리스트로 반환"
      ],
      "metadata": {
        "colab": {
          "base_uri": "https://localhost:8080/"
        },
        "collapsed": true,
        "id": "UyiXCFvxxROj",
        "outputId": "37df1ca3-c92b-427c-c56b-11c03fa38776"
      },
      "execution_count": 70,
      "outputs": [
        {
          "output_type": "execute_result",
          "data": {
            "text/plain": [
              "['anscombe.json',\n",
              " 'README.md',\n",
              " 'mnist_test.csv',\n",
              " 'california_housing_test.csv',\n",
              " 'mnist_train_small.csv',\n",
              " 'california_housing_train.csv']"
            ]
          },
          "metadata": {},
          "execution_count": 70
        }
      ]
    },
    {
      "cell_type": "code",
      "source": [
        "os.path.isdir('/content/sample_data/anscombe.json')  # 파일인지 directory인지 판단  true면 directory"
      ],
      "metadata": {
        "colab": {
          "base_uri": "https://localhost:8080/"
        },
        "id": "qYOGPxxDzfLK",
        "outputId": "c92d69b2-d1d5-4d25-ac6c-ab518f9150d6"
      },
      "execution_count": 69,
      "outputs": [
        {
          "output_type": "execute_result",
          "data": {
            "text/plain": [
              "False"
            ]
          },
          "metadata": {},
          "execution_count": 69
        }
      ]
    },
    {
      "cell_type": "code",
      "source": [
        "# 현재경로 ./\n",
        "current_path = './'"
      ],
      "metadata": {
        "id": "2oOSGbawzofB"
      },
      "execution_count": 3,
      "outputs": []
    },
    {
      "cell_type": "code",
      "source": [
        "import os\n",
        "os.listdir(current_path)"
      ],
      "metadata": {
        "colab": {
          "base_uri": "https://localhost:8080/"
        },
        "id": "HpxKPvZ31Uki",
        "outputId": "d89ab4c9-962f-4356-ad75-f2dfaf0b7fb2"
      },
      "execution_count": 10,
      "outputs": [
        {
          "output_type": "execute_result",
          "data": {
            "text/plain": [
              "['.config', '.ipynb_checkpoints', 'text2.txt', 'test1.txt', 'sample_data']"
            ]
          },
          "metadata": {},
          "execution_count": 10
        }
      ]
    },
    {
      "cell_type": "code",
      "source": [
        "files = []\n",
        "def get_all_files(path):\n",
        "  file_lists = os.listdir(path)\n",
        "  for file in file_lists:\n",
        "    if os.path.isdir( path+\"/\"+file ):  # directory\n",
        "      get_all_files(path+\"/\"+file)\n",
        "    else:                               # file\n",
        "      files.append(path+\"/\"+file)"
      ],
      "metadata": {
        "id": "XHAbHYRC2TYb"
      },
      "execution_count": 15,
      "outputs": []
    },
    {
      "cell_type": "code",
      "source": [
        "get_all_files('./')\n",
        "files"
      ],
      "metadata": {
        "colab": {
          "base_uri": "https://localhost:8080/"
        },
        "id": "KL79eWEV2iCC",
        "outputId": "748c988c-e1c3-44a3-ad32-6288758c67a1"
      },
      "execution_count": 17,
      "outputs": [
        {
          "output_type": "execute_result",
          "data": {
            "text/plain": [
              "['.//.config/.last_survey_prompt.yaml',\n",
              " './/.config/.last_opt_in_prompt.yaml',\n",
              " './/.config/config_sentinel',\n",
              " './/.config/.last_update_check.json',\n",
              " './/.config/default_configs.db',\n",
              " './/.config/logs/2024.07.09/13.20.17.791346.log',\n",
              " './/.config/logs/2024.07.09/13.21.00.378803.log',\n",
              " './/.config/logs/2024.07.09/13.20.49.880826.log',\n",
              " './/.config/logs/2024.07.09/13.20.38.868154.log',\n",
              " './/.config/logs/2024.07.09/13.20.59.763396.log',\n",
              " './/.config/logs/2024.07.09/13.20.48.791870.log',\n",
              " './/.config/configurations/config_default',\n",
              " './/.config/gce',\n",
              " './/.config/active_config',\n",
              " './/text2.txt',\n",
              " './/test1.txt',\n",
              " './/sample_data/anscombe.json',\n",
              " './/sample_data/README.md',\n",
              " './/sample_data/mnist_test.csv',\n",
              " './/sample_data/california_housing_test.csv',\n",
              " './/sample_data/mnist_train_small.csv',\n",
              " './/sample_data/california_housing_train.csv',\n",
              " './/.config/.last_survey_prompt.yaml',\n",
              " './/.config/.last_opt_in_prompt.yaml',\n",
              " './/.config/config_sentinel',\n",
              " './/.config/.last_update_check.json',\n",
              " './/.config/default_configs.db',\n",
              " './/.config/logs/2024.07.09/13.20.17.791346.log',\n",
              " './/.config/logs/2024.07.09/13.21.00.378803.log',\n",
              " './/.config/logs/2024.07.09/13.20.49.880826.log',\n",
              " './/.config/logs/2024.07.09/13.20.38.868154.log',\n",
              " './/.config/logs/2024.07.09/13.20.59.763396.log',\n",
              " './/.config/logs/2024.07.09/13.20.48.791870.log',\n",
              " './/.config/configurations/config_default',\n",
              " './/.config/gce',\n",
              " './/.config/active_config',\n",
              " './/text2.txt',\n",
              " './/test1.txt',\n",
              " './/sample_data/anscombe.json',\n",
              " './/sample_data/README.md',\n",
              " './/sample_data/mnist_test.csv',\n",
              " './/sample_data/california_housing_test.csv',\n",
              " './/sample_data/mnist_train_small.csv',\n",
              " './/sample_data/california_housing_train.csv']"
            ]
          },
          "metadata": {},
          "execution_count": 17
        }
      ]
    },
    {
      "cell_type": "code",
      "source": [
        "import glob\n",
        "glob.glob('./*.*')  # 확장자가 있는 현재경로의 모든 파일"
      ],
      "metadata": {
        "colab": {
          "base_uri": "https://localhost:8080/"
        },
        "id": "OJ-x234O2ki5",
        "outputId": "a091d03a-04be-4187-c59f-350f9e342119"
      },
      "execution_count": 19,
      "outputs": [
        {
          "output_type": "execute_result",
          "data": {
            "text/plain": [
              "['./text2.txt', './test1.txt']"
            ]
          },
          "metadata": {},
          "execution_count": 19
        }
      ]
    },
    {
      "cell_type": "code",
      "source": [
        "glob.glob('./*') # 현재 경로의 모든 파일"
      ],
      "metadata": {
        "colab": {
          "base_uri": "https://localhost:8080/"
        },
        "id": "7m2E4eQM4wgh",
        "outputId": "ed170f76-03e8-4e60-f0e1-07c2040d46e4"
      },
      "execution_count": 21,
      "outputs": [
        {
          "output_type": "execute_result",
          "data": {
            "text/plain": [
              "['./text2.txt', './test1.txt', './sample_data']"
            ]
          },
          "metadata": {},
          "execution_count": 21
        }
      ]
    },
    {
      "cell_type": "code",
      "source": [
        "glob.glob('./**',recursive=True) # 현재 경로의 하위폴더 포함해서 모두"
      ],
      "metadata": {
        "colab": {
          "base_uri": "https://localhost:8080/"
        },
        "id": "nGVF7beu43gQ",
        "outputId": "b4281ad5-4caf-4ca4-936e-5f4bac493820"
      },
      "execution_count": 23,
      "outputs": [
        {
          "output_type": "execute_result",
          "data": {
            "text/plain": [
              "['./',\n",
              " './text2.txt',\n",
              " './test1.txt',\n",
              " './sample_data',\n",
              " './sample_data/anscombe.json',\n",
              " './sample_data/README.md',\n",
              " './sample_data/mnist_test.csv',\n",
              " './sample_data/california_housing_test.csv',\n",
              " './sample_data/mnist_train_small.csv',\n",
              " './sample_data/california_housing_train.csv']"
            ]
          },
          "metadata": {},
          "execution_count": 23
        }
      ]
    },
    {
      "cell_type": "code",
      "source": [],
      "metadata": {
        "id": "r7bH2zbx5JSA"
      },
      "execution_count": null,
      "outputs": []
    }
  ]
}