{
  "nbformat": 4,
  "nbformat_minor": 0,
  "metadata": {
    "colab": {
      "provenance": []
    },
    "kernelspec": {
      "name": "python3",
      "display_name": "Python 3"
    },
    "language_info": {
      "name": "python"
    }
  },
  "cells": [
    {
      "cell_type": "code",
      "execution_count": null,
      "metadata": {
        "id": "fBFOvq9hRVEk"
      },
      "outputs": [],
      "source": []
    },
    {
      "cell_type": "markdown",
      "source": [
        "# 람다\n",
        "  - 함수의 또 다른 표현\n",
        "  - 함수중에 매개변수로 함수를 전달받는 함수가 있다.\n",
        "  - 함수를 한 줄로 간단하게 만들어 줌"
      ],
      "metadata": {
        "id": "zN3wPGstUSCR"
      }
    },
    {
      "cell_type": "code",
      "source": [
        "def add(a, b):\n",
        "    return a + b\n",
        "\n",
        "print( add(10,20)   )"
      ],
      "metadata": {
        "colab": {
          "base_uri": "https://localhost:8080/"
        },
        "id": "5_SCHn2TUXfe",
        "outputId": "944670c6-2ba8-4039-fd3a-a6565893ac42"
      },
      "execution_count": 1,
      "outputs": [
        {
          "output_type": "stream",
          "name": "stdout",
          "text": [
            "30\n"
          ]
        }
      ]
    },
    {
      "cell_type": "code",
      "source": [
        "add =  lambda a,b : a + b\n",
        "\n",
        "print( add(10,20)   )"
      ],
      "metadata": {
        "colab": {
          "base_uri": "https://localhost:8080/"
        },
        "id": "QR9dx1g6Vd8-",
        "outputId": "9e0e31cd-d543-4aed-c3b2-ce1f22cb30c7"
      },
      "execution_count": 2,
      "outputs": [
        {
          "output_type": "stream",
          "name": "stdout",
          "text": [
            "30\n"
          ]
        }
      ]
    },
    {
      "cell_type": "code",
      "source": [
        "# 4칙연산  + - * /"
      ],
      "metadata": {
        "id": "_mYikh6gVeCG"
      },
      "execution_count": null,
      "outputs": []
    },
    {
      "cell_type": "code",
      "source": [
        "def add(a,b):\n",
        "  return a+b\n",
        "def minus(a,b) :\n",
        "  return a-b\n",
        "def mul(a,b):\n",
        "  return a*b\n",
        "def div(a,b):\n",
        "  return a/b\n",
        "def myfunc1(a,b):\n",
        "  return a**2 + b**2"
      ],
      "metadata": {
        "id": "mKPkucYvUXh2"
      },
      "execution_count": 11,
      "outputs": []
    },
    {
      "cell_type": "code",
      "source": [
        "#  함수하나로 위의 4칙연산을 표현\n",
        "# 두개의 값을 전달하고 연산을 정하는 함수도 전달\n",
        "def calc(a,b,func):  # 두개의 값과 연산할 함수를 전달\n",
        "  return func(a,b)  # 전달받은 함수에 두개의 값을 이용해서 함수를 호출하고 그 결과를 받아서 다시 리턴"
      ],
      "metadata": {
        "id": "xUaOYWCnUXkG"
      },
      "execution_count": 4,
      "outputs": []
    },
    {
      "cell_type": "code",
      "source": [
        "calc(10,20,myfunc1)"
      ],
      "metadata": {
        "colab": {
          "base_uri": "https://localhost:8080/"
        },
        "id": "Wt9rWhhJW_H2",
        "outputId": "be7967d4-239c-4da4-cd07-52eef3f19198"
      },
      "execution_count": 12,
      "outputs": [
        {
          "output_type": "execute_result",
          "data": {
            "text/plain": [
              "500"
            ]
          },
          "metadata": {},
          "execution_count": 12
        }
      ]
    },
    {
      "cell_type": "code",
      "source": [
        "lambda a,b : a+b"
      ],
      "metadata": {
        "id": "xqmvipHDW_Ke"
      },
      "execution_count": null,
      "outputs": []
    },
    {
      "cell_type": "code",
      "source": [
        "# 각 변수를 2로나누고 합을 구해보세요\n",
        "# def myfunc2(a,b):\n",
        "#   return a/2 + b/2\n",
        "\n",
        "# calc(10,20, myfunc2)\n",
        "\n",
        "calc(10,20, lambda a,b : a/2 + b/2 )"
      ],
      "metadata": {
        "colab": {
          "base_uri": "https://localhost:8080/"
        },
        "id": "nttBUS4gUXmf",
        "outputId": "81ea3680-331b-4d97-d4d3-a5b6fc577d61"
      },
      "execution_count": 17,
      "outputs": [
        {
          "output_type": "execute_result",
          "data": {
            "text/plain": [
              "15.0"
            ]
          },
          "metadata": {},
          "execution_count": 17
        }
      ]
    },
    {
      "cell_type": "code",
      "source": [
        "list(  map(int,['10','20','30'])  )"
      ],
      "metadata": {
        "colab": {
          "base_uri": "https://localhost:8080/"
        },
        "id": "D50AFIIpUXod",
        "outputId": "de3b2e0d-8b3d-4724-acfd-0001eb03ad22"
      },
      "execution_count": 19,
      "outputs": [
        {
          "output_type": "execute_result",
          "data": {
            "text/plain": [
              "[10, 20, 30]"
            ]
          },
          "metadata": {},
          "execution_count": 19
        }
      ]
    },
    {
      "cell_type": "code",
      "source": [
        "# 정수로 된 임의의 리스트에 각 원소를 제곱하는 리스트를 구하시오\n",
        "# def myfunc3(a):\n",
        "#   return a**2\n",
        "\n",
        "# list(  map(myfunc3,[10,20,30])  )\n",
        "\n",
        "\n",
        "list(  map(lambda a: a**2 ,[10,20,30])  )"
      ],
      "metadata": {
        "colab": {
          "base_uri": "https://localhost:8080/"
        },
        "id": "7NHqBpNcZ6UI",
        "outputId": "112775bb-2436-4f03-bee6-c47de25ff023"
      },
      "execution_count": 21,
      "outputs": [
        {
          "output_type": "execute_result",
          "data": {
            "text/plain": [
              "[100, 400, 900]"
            ]
          },
          "metadata": {},
          "execution_count": 21
        }
      ]
    },
    {
      "cell_type": "markdown",
      "source": [
        "### 람다작성법\n",
        "  - lambda 매개변수 : 실행할 로직"
      ],
      "metadata": {
        "id": "N0UZ66PtaslW"
      }
    },
    {
      "cell_type": "code",
      "source": [
        "# 1. 두수의 합을 구하는 람다\n",
        "# 2. 리스트의 각 요소에 2를 곱하는 map에 람다를 적용\n",
        "# 3. 문자열 길이를 반환하는 람다\n",
        "# 4. 리스트의 각 문자열을 대문자로 처리하는 map에 람다를 적용\n",
        "# 5. 두개의 문자열을 결합하는 람다"
      ],
      "metadata": {
        "id": "Mvbn4ztRZ6XI"
      },
      "execution_count": null,
      "outputs": []
    },
    {
      "cell_type": "code",
      "source": [],
      "metadata": {
        "id": "kcF8iX9ua4im"
      },
      "execution_count": null,
      "outputs": []
    },
    {
      "cell_type": "code",
      "source": [],
      "metadata": {
        "id": "P9wFraBna4lw"
      },
      "execution_count": null,
      "outputs": []
    },
    {
      "cell_type": "code",
      "source": [],
      "metadata": {
        "id": "ql5qSVpua4ot"
      },
      "execution_count": null,
      "outputs": []
    },
    {
      "cell_type": "code",
      "source": [],
      "metadata": {
        "id": "ykp7b5F_UXqm"
      },
      "execution_count": null,
      "outputs": []
    },
    {
      "cell_type": "code",
      "source": [],
      "metadata": {
        "id": "lLMQBe0rUXtF"
      },
      "execution_count": null,
      "outputs": []
    },
    {
      "cell_type": "markdown",
      "source": [
        "# 맵 리듀스"
      ],
      "metadata": {
        "id": "m-AYNrQ9UUkW"
      }
    },
    {
      "cell_type": "code",
      "source": [],
      "metadata": {
        "id": "9vBiK5fHUT2N"
      },
      "execution_count": null,
      "outputs": []
    }
  ]
}