{
  "nbformat": 4,
  "nbformat_minor": 0,
  "metadata": {
    "colab": {
      "provenance": []
    },
    "kernelspec": {
      "name": "python3",
      "display_name": "Python 3"
    },
    "language_info": {
      "name": "python"
    }
  },
  "cells": [
    {
      "cell_type": "code",
      "execution_count": null,
      "metadata": {
        "id": "glNNh5wODeHC"
      },
      "outputs": [],
      "source": []
    },
    {
      "cell_type": "markdown",
      "source": [
        "난수발생하기 - random\n",
        "   - 파이썬은 모든기능을 적재하고 있지 않고 필요에 따라 다양한 모듈을 가져다 쓴다 - 내장 모듈\n",
        "   - 집에 있는 공구상자\n",
        "   - 공구상자에서 random을 꺼냄"
      ],
      "metadata": {
        "id": "5MfzVX3uEYAT"
      }
    },
    {
      "cell_type": "code",
      "source": [
        "import random   # 모듈 로드"
      ],
      "metadata": {
        "id": "NwDxsyZYEq9E"
      },
      "execution_count": 1,
      "outputs": []
    },
    {
      "cell_type": "code",
      "source": [
        "random.randint(1,1000)"
      ],
      "metadata": {
        "colab": {
          "base_uri": "https://localhost:8080/"
        },
        "id": "ZJUS99BAE0c8",
        "outputId": "0d4a3a84-333a-42f1-c095-875a06988d28"
      },
      "execution_count": 3,
      "outputs": [
        {
          "output_type": "execute_result",
          "data": {
            "text/plain": [
              "964"
            ]
          },
          "metadata": {},
          "execution_count": 3
        }
      ]
    },
    {
      "cell_type": "code",
      "source": [
        "# 1. 비어있는 리스트를 만든다\n",
        "# 2. 리스트에 난수를 추가한다 - 이걸 5번 수행\n",
        "# 3. 리스트의 내용을 확인한다"
      ],
      "metadata": {
        "id": "puHCypwqFw4r"
      },
      "execution_count": 4,
      "outputs": []
    },
    {
      "cell_type": "code",
      "source": [
        "list_1 = []\n",
        "list_1.append( random.randint(1,1000) )\n",
        "list_1.append( random.randint(1,1000) )\n",
        "list_1.append( random.randint(1,1000) )\n",
        "list_1.append( random.randint(1,1000) )\n",
        "list_1.append( random.randint(1,1000) )\n",
        "print(list_1)"
      ],
      "metadata": {
        "colab": {
          "base_uri": "https://localhost:8080/"
        },
        "id": "LFXvMlciGMvc",
        "outputId": "250f8c59-e5bd-48ed-c5dc-b12eb16f33ce"
      },
      "execution_count": 7,
      "outputs": [
        {
          "output_type": "stream",
          "name": "stdout",
          "text": [
            "[47, 746, 64, 188, 726]\n"
          ]
        }
      ]
    },
    {
      "cell_type": "code",
      "source": [
        "list_1.pop()"
      ],
      "metadata": {
        "colab": {
          "base_uri": "https://localhost:8080/"
        },
        "id": "W_-lN9KPGhOq",
        "outputId": "5dae118d-5cb0-4a4a-a795-5953d4dcfa81"
      },
      "execution_count": 8,
      "outputs": [
        {
          "output_type": "execute_result",
          "data": {
            "text/plain": [
              "726"
            ]
          },
          "metadata": {},
          "execution_count": 8
        }
      ]
    },
    {
      "cell_type": "code",
      "source": [
        "print(list_1)"
      ],
      "metadata": {
        "colab": {
          "base_uri": "https://localhost:8080/"
        },
        "id": "3EKSzNPQGrh5",
        "outputId": "c62b0143-aa66-4408-e1eb-6be7327828dd"
      },
      "execution_count": 9,
      "outputs": [
        {
          "output_type": "stream",
          "name": "stdout",
          "text": [
            "[47, 746, 64, 188]\n"
          ]
        }
      ]
    },
    {
      "cell_type": "markdown",
      "source": [
        "조건문\n",
        "  - if ~ elif ~ elif ......  else\n",
        "  - 들여쓰기가 중요함 : 어떤 집합에 포함되는 내용"
      ],
      "metadata": {
        "id": "neCaOI_mG1FT"
      }
    },
    {
      "cell_type": "code",
      "source": [
        "print(\"이 코드가 실행됨 1\")\n",
        "print(\"이 코드가 실행됨 2\")"
      ],
      "metadata": {
        "colab": {
          "base_uri": "https://localhost:8080/"
        },
        "id": "pduhm-IcGtMp",
        "outputId": "da77d153-2eeb-40ee-c26a-6ce9b64aaf71"
      },
      "execution_count": 10,
      "outputs": [
        {
          "output_type": "stream",
          "name": "stdout",
          "text": [
            "이 코드가 실행됨 1\n",
            "이 코드가 실행됨 2\n"
          ]
        }
      ]
    },
    {
      "cell_type": "code",
      "source": [
        "# if 값 or 수식  -> 참과 거짓을 판단할 수 있는\n",
        "if True:\n",
        "  print(\"이 코드가 실행됨 1\")\n",
        "  print(\"이 코드가 실행됨 2\")\n",
        "print(\"이 코드가 실행됨 3\")"
      ],
      "metadata": {
        "colab": {
          "base_uri": "https://localhost:8080/"
        },
        "id": "KGx8C7AIHSkK",
        "outputId": "c37280e9-9774-46de-e825-74835bb338e1"
      },
      "execution_count": 14,
      "outputs": [
        {
          "output_type": "stream",
          "name": "stdout",
          "text": [
            "이 코드가 실행됨 1\n",
            "이 코드가 실행됨 2\n",
            "이 코드가 실행됨 3\n"
          ]
        }
      ]
    },
    {
      "cell_type": "code",
      "source": [
        "if False:\n",
        "  print(\"이 코드가 실행됨 1\")\n",
        "  print(\"이 코드가 실행됨 2\")\n",
        "print(\"이 코드가 실행됨 3\")"
      ],
      "metadata": {
        "colab": {
          "base_uri": "https://localhost:8080/"
        },
        "id": "5V53xAaPHutN",
        "outputId": "461f9e1d-7c04-44fd-f934-a09ee5e5eee8"
      },
      "execution_count": 15,
      "outputs": [
        {
          "output_type": "stream",
          "name": "stdout",
          "text": [
            "이 코드가 실행됨 3\n"
          ]
        }
      ]
    },
    {
      "cell_type": "code",
      "source": [
        "if True:\n",
        "  print(\"이 코드가 실행됨 1\")\n",
        "else:\n",
        "  print(\"이 코드가 실행됨 2\")\n",
        "print(\"이 코드가 실행됨 3\")"
      ],
      "metadata": {
        "colab": {
          "base_uri": "https://localhost:8080/"
        },
        "id": "vxqAGjS8H0S5",
        "outputId": "22eb71e8-29df-4154-f407-3df983e826dd"
      },
      "execution_count": 16,
      "outputs": [
        {
          "output_type": "stream",
          "name": "stdout",
          "text": [
            "이 코드가 실행됨 1\n",
            "이 코드가 실행됨 3\n"
          ]
        }
      ]
    },
    {
      "cell_type": "code",
      "source": [
        "if False:\n",
        "  print(\"이 코드가 실행됨 1\")\n",
        "else:\n",
        "  print(\"이 코드가 실행됨 2\")\n",
        "print(\"이 코드가 실행됨 3\")"
      ],
      "metadata": {
        "id": "uqlGMFqkH88q"
      },
      "execution_count": null,
      "outputs": []
    },
    {
      "cell_type": "code",
      "source": [
        "if False:\n",
        "  print(\"이 코드가 실행됨 1\")\n",
        "else:\n",
        "  print(\"이 코드가 실행됨 2\")\n",
        "  if True:\n",
        "    print(\"이 코드가 실행됨 4\")\n",
        "  else:\n",
        "    print(\"이 코드가 실행됨 4\")\n",
        "print(\"이 코드가 실행됨 3\")"
      ],
      "metadata": {
        "colab": {
          "base_uri": "https://localhost:8080/"
        },
        "id": "Al7p0Eo2I8gl",
        "outputId": "972d7a00-dfe3-4004-ac26-004e9f792c52"
      },
      "execution_count": 17,
      "outputs": [
        {
          "output_type": "stream",
          "name": "stdout",
          "text": [
            "이 코드가 실행됨 2\n",
            "이 코드가 실행됨 4\n",
            "이 코드가 실행됨 3\n"
          ]
        }
      ]
    },
    {
      "cell_type": "code",
      "source": [
        "number = random.randint(1,5)  # 1 2 3 4\n",
        "print(number)  # 확인용\n",
        "\n",
        "if number == 1:\n",
        "  print('1번 입니다.')\n",
        "elif number == 2:  # 2 3 4\n",
        "  print('2번 입니다.')\n",
        "else:\n",
        "  print('1,2번이 아닙다.')"
      ],
      "metadata": {
        "colab": {
          "base_uri": "https://localhost:8080/"
        },
        "id": "ayNQTidxJQDy",
        "outputId": "85d1e6ee-53b1-4736-b939-50b2eeac0164"
      },
      "execution_count": 31,
      "outputs": [
        {
          "output_type": "stream",
          "name": "stdout",
          "text": [
            "5\n",
            "1,2번이 아닙다.\n"
          ]
        }
      ]
    },
    {
      "cell_type": "code",
      "source": [
        "number = random.randint(1,5)  # 1 2 3 4 5\n",
        "print(number)  # 확인용\n",
        "\n",
        "if number == 1:\n",
        "  print('1번 입니다.')\n",
        "elif number == 2:  # 2 3 4\n",
        "  print('2번 입니다.')\n",
        "elif number == 3:\n",
        "  print('3번 입니다.')\n",
        "elif number == 4:\n",
        "  print('4번 입니다.')\n",
        "elif number == 5:\n",
        "  print('5번 입니다.')\n",
        "else:\n",
        "  print('1~5번을 제외한 값입니다.')"
      ],
      "metadata": {
        "colab": {
          "base_uri": "https://localhost:8080/"
        },
        "id": "fLsu8-3uJaLJ",
        "outputId": "62111ba2-e0ea-4186-f35a-5b6b27897585"
      },
      "execution_count": 37,
      "outputs": [
        {
          "output_type": "stream",
          "name": "stdout",
          "text": [
            "1\n",
            "1번 입니다.\n"
          ]
        }
      ]
    },
    {
      "cell_type": "code",
      "source": [
        "number = random.randint(1,100)"
      ],
      "metadata": {
        "colab": {
          "base_uri": "https://localhost:8080/"
        },
        "id": "WrSE6BetLKtJ",
        "outputId": "e93b2c0e-49ae-4ae3-cc79-dcb9b4c75db3"
      },
      "execution_count": 39,
      "outputs": [
        {
          "output_type": "stream",
          "name": "stdout",
          "text": [
            "False\n"
          ]
        }
      ]
    },
    {
      "cell_type": "markdown",
      "source": [
        "![image.png](data:image/png;base64,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)"
      ],
      "metadata": {
        "id": "dOhp-ppmLwlM"
      }
    },
    {
      "cell_type": "code",
      "source": [
        "a = 99\n",
        "if a < 100:\n",
        "  print(\"100보다 작군요\")\n",
        ""
      ],
      "metadata": {
        "colab": {
          "base_uri": "https://localhost:8080/"
        },
        "id": "3LxrHd7TLeLh",
        "outputId": "8951724e-9486-4edb-9772-e49780e213fe"
      },
      "execution_count": 40,
      "outputs": [
        {
          "output_type": "stream",
          "name": "stdout",
          "text": [
            "100보다 작군요\n"
          ]
        }
      ]
    },
    {
      "cell_type": "markdown",
      "source": [
        "온도를 입력받아서 32도 이상이면 \"야외활동 금지\"를 출력하고 그렇지 않으면 \"야외활동 가능\"을 출력\n",
        "  - input()\n",
        "  - int()\n",
        "  - 조건문 if ~ else"
      ],
      "metadata": {
        "id": "r4Qi78yVMkjy"
      }
    },
    {
      "cell_type": "code",
      "source": [
        "# data = input(\"온도를 입력하세요 : \")\n",
        "# data = int(data)  # 문자형 숫자를 정수로 변환\n",
        "\n",
        "data = int( input(\"온도를 입력하세요 : \") )\n",
        "if data >= 32:\n",
        "  print(\"야외활동 금지\")\n",
        "else:\n",
        "  print(\"야외활동 가능\")\n"
      ],
      "metadata": {
        "colab": {
          "base_uri": "https://localhost:8080/"
        },
        "id": "KCKwhvKJMfMb",
        "outputId": "f9723694-102d-4e8a-ef10-16db8b8ed0ce"
      },
      "execution_count": 43,
      "outputs": [
        {
          "output_type": "stream",
          "name": "stdout",
          "text": [
            "온도를 입력하세요 : 38\n",
            "야외활동 금지\n"
          ]
        }
      ]
    },
    {
      "cell_type": "markdown",
      "source": [
        "![image.png](data:image/png;base64,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)"
      ],
      "metadata": {
        "id": "05jxH3LITAvZ"
      }
    },
    {
      "cell_type": "markdown",
      "source": [
        "![image.png](data:image/png;base64,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)"
      ],
      "metadata": {
        "id": "O36_OcyrTEXB"
      }
    },
    {
      "cell_type": "markdown",
      "source": [
        "![image.png](data:image/png;base64,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)"
      ],
      "metadata": {
        "id": "8TOXz7klTGAx"
      }
    },
    {
      "cell_type": "markdown",
      "source": [
        "학점계산기 V1\n",
        "  - 단순히 점수를 입력받고\n",
        "  - 점수 구간에 따라서 A B C 학점을 출력  "
      ],
      "metadata": {
        "id": "RT9VvJQUS0fq"
      }
    },
    {
      "cell_type": "code",
      "source": [
        "jumsu = float(  input(\"점수를 입력하세요 : \") )\n",
        "if jumsu >= 90:   # 90 91 ~\n",
        "  print(\"A\")\n",
        "elif jumsu >= 80:  # 80 81 ~ 89\n",
        "  print(\"B\")\n",
        "elif jumsu >= 70:\n",
        "  print(\"C\")\n",
        "elif jumsu >= 60:\n",
        "  print(\"D\")\n",
        "else:\n",
        "  print(\"F\")"
      ],
      "metadata": {
        "colab": {
          "base_uri": "https://localhost:8080/"
        },
        "id": "nVFkai40N_wR",
        "outputId": "d4ccfa42-b178-43bd-b5b2-923064ec3005"
      },
      "execution_count": 46,
      "outputs": [
        {
          "output_type": "stream",
          "name": "stdout",
          "text": [
            "점수를 입력하세요 : 59\n",
            "F\n"
          ]
        }
      ]
    },
    {
      "cell_type": "markdown",
      "source": [
        "학점계산기 V2\n",
        "  - 학점계산기 V1 + 봉사점수를 추가해서(1~10)\n",
        "  - F학점일대 봉사점수를 입력받아서  가산점을 추가\n",
        "    - 가산점은 : 봉사점수 * 0.5를 원래 점수에 입력"
      ],
      "metadata": {
        "id": "5ad2SDR5UVT0"
      }
    },
    {
      "cell_type": "markdown",
      "source": [
        "학점계산기 V3\n",
        "  - 학점계산기 v1 + F와 D 이면 재수강 여부를 물어봐서 재수강을 안한다고 하면 바로 학점을 출력하고 그렇지 않으면 새로운 점수를 입력받아서 학점을 다시계산"
      ],
      "metadata": {
        "id": "vgk5CeozVNBC"
      }
    },
    {
      "cell_type": "code",
      "source": [
        "# v2\n",
        "jumsu = float(  input(\"점수를 입력하세요[1 ~ 100] : \") )\n",
        "jumsu2 = float(  input(\"봉사점수를 입력하세요[1 ~ 10] : \") )\n",
        "\n",
        "\n",
        "if jumsu >= 1 and jumsu <= 100:  # jumsu변수의 범위는 1과 100 사이일때만 True\n",
        "  if jumsu2 >=1 and jumsu2 <=10: # jumsu2변수의 범위는 1과 10 사이일때만 True\n",
        "    jumsu = jumsu + jumsu2*0.5\n",
        "    if jumsu >= 90:   # 90 91 ~\n",
        "      print(\"A\")\n",
        "    elif jumsu >= 80:  # 80 81 ~ 89\n",
        "      print(\"B\")\n",
        "    elif jumsu >= 70:\n",
        "      print(\"C\")\n",
        "    elif jumsu >= 60:\n",
        "      print(\"D\")\n",
        "    else:\n",
        "      print(\"F\")\n",
        "  else:\n",
        "    print(\"봉사점수를 잘못 입력하였습니다.\")\n",
        "else:\n",
        "  print(\"점수를 잘못 입력하였습니다.\")"
      ],
      "metadata": {
        "colab": {
          "base_uri": "https://localhost:8080/"
        },
        "id": "GK_gdEuyTknQ",
        "outputId": "7b97381c-43c4-4896-b6f4-c6347ca8faef"
      },
      "execution_count": 48,
      "outputs": [
        {
          "name": "stdout",
          "output_type": "stream",
          "text": [
            "점수를 입력하세요[0 ~ 100] : 50\n",
            "봉사점수를 입력하세요[1 ~ 10] : 11\n"
          ]
        }
      ]
    },
    {
      "cell_type": "code",
      "source": [
        "# v3\n",
        "# 학점이 D ,F일경우 재수강여부를 물어봐서(y/n) y이면 \"재수강하세요\"를 출력하고 n 이면 해당 학점을 출력\n",
        "jumsu = float(  input(\"점수를 입력하세요 : \") )\n",
        "if jumsu >= 90:   # 90 91 ~\n",
        "  print(\"A\")\n",
        "elif jumsu >= 80:  # 80 81 ~ 89\n",
        "  print(\"B\")\n",
        "elif jumsu >= 70:\n",
        "  print(\"C\")\n",
        "elif jumsu >= 60:\n",
        "  yesno =  input(\"재수강 하시겠습니까?(y / n)\")\n",
        "  if yesno == 'y':\n",
        "    print(\"재수강 하세요\")\n",
        "  else:\n",
        "    print(\"D\")\n",
        "else:\n",
        "  yesno =  input(\"재수강 하시겠습니까?(y / n)\")\n",
        "  if yesno == 'y':\n",
        "    print(\"재수강 하세요\")\n",
        "  else:\n",
        "    print(\"F\")\n",
        ""
      ],
      "metadata": {
        "colab": {
          "base_uri": "https://localhost:8080/"
        },
        "id": "bArDz4i_Wfri",
        "outputId": "8b4fd59a-a027-4cfd-c493-16373cc184ca"
      },
      "execution_count": 50,
      "outputs": [
        {
          "output_type": "stream",
          "name": "stdout",
          "text": [
            "점수를 입력하세요 : 65\n",
            "재수강 하시겠습니까?(y / n)n\n",
            "D\n"
          ]
        }
      ]
    },
    {
      "cell_type": "code",
      "source": [
        "# 개선\n",
        "# v3\n",
        "# 학점이 D ,F일경우 재수강여부를 물어봐서(y/n) y이면 \"재수강하세요\"를 출력하고 n 이면 해당 학점을 출력\n",
        "jumsu = float(  input(\"점수를 입력하세요 : \") )\n",
        "if jumsu >= 90:   # 90 91 ~\n",
        "  print(\"A\")\n",
        "elif jumsu >= 80:  # 80 81 ~ 89\n",
        "  print(\"B\")\n",
        "elif jumsu >= 70:\n",
        "  print(\"C\")\n",
        "else:  # D, F 구간\n",
        "  yesno =  input(\"재수강 하시겠습니까?(y / n)\")\n",
        "  if yesno == 'y':\n",
        "    print(\"재수강 하세요\")\n",
        "  else:  # 자기점수에 맞는 학점을 출력  0 ~ 69\n",
        "    # jumsu 는 0 ~ 69\n",
        "    if jumsu >= 60:  # 60 ~ 69\n",
        "      print(\"D\")\n",
        "    else:           # 0 ~ 59\n",
        "      print(\"F\")\n",
        ""
      ],
      "metadata": {
        "colab": {
          "base_uri": "https://localhost:8080/"
        },
        "id": "hHIfE_fAcUqx",
        "outputId": "4e01ff88-dc59-41f2-cd52-d0c7445ac811"
      },
      "execution_count": 51,
      "outputs": [
        {
          "output_type": "stream",
          "name": "stdout",
          "text": [
            "점수를 입력하세요 : 55\n",
            "재수강 하시겠습니까?(y / n)n\n",
            "F\n"
          ]
        }
      ]
    },
    {
      "cell_type": "markdown",
      "source": [
        "중첩 조건문\n",
        "  - 조건문 내부에서 다시 조건문을 사용\n",
        "\n",
        "여러조건을 결합\n",
        "  - and : ~ 이고 ~ 이다   --> True\n",
        "  - or : ~ 이거나(또는) ~이다  --> True\n",
        "  - 논리연산\n",
        "    - 프로그램 언어 0을 제외한 모든수는 True로 평가    "
      ],
      "metadata": {
        "id": "h4_NvV2PhSVg"
      }
    },
    {
      "cell_type": "markdown",
      "source": [
        "![image.png](data:image/png;base64,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)"
      ],
      "metadata": {
        "id": "IIM9a-D0jY0Q"
      }
    },
    {
      "cell_type": "code",
      "source": [
        "# 국 영 수\n",
        "# 평균 60이상이고 각 과목별 40점이상이면 합격 그렇지 않으면 불합격\n",
        "# 논리연산\n",
        "kor,eng,math = 45,75,85\n",
        "if kor>=40 and eng >=40 and math>=40 and (kor+eng+math)/3 >=60:\n",
        "  print(\"합격\")\n",
        "else:\n",
        "  print(\"불합격\")"
      ],
      "metadata": {
        "colab": {
          "base_uri": "https://localhost:8080/"
        },
        "id": "dFlVOULEhJbp",
        "outputId": "96585441-802a-4e6b-cf8f-734fbbfeadcf"
      },
      "execution_count": 54,
      "outputs": [
        {
          "output_type": "stream",
          "name": "stdout",
          "text": [
            "합격\n"
          ]
        }
      ]
    },
    {
      "cell_type": "code",
      "source": [
        "# 개선... 변수가 2개이상 사용하고  있으니... list로 표현하면 좋을거 같음\n",
        "# 위의 코드를 리스트로 변경해서 사용해 보세요"
      ],
      "metadata": {
        "id": "qAMGfy01j1MZ"
      },
      "execution_count": 55,
      "outputs": []
    },
    {
      "cell_type": "code",
      "source": [
        "scores = [45,75,85]\n",
        "if scores[0]>=40 and scores[1] >=40 and scores[2]>=40 and sum(scores) / len(scores) >=60:\n",
        "  print(\"합격\")\n",
        "else:\n",
        "  print(\"불합격\")"
      ],
      "metadata": {
        "colab": {
          "base_uri": "https://localhost:8080/"
        },
        "id": "oQOzU7M3kMTo",
        "outputId": "dcc794f2-58fd-4cf7-dee9-815b8d80af47"
      },
      "execution_count": 56,
      "outputs": [
        {
          "output_type": "stream",
          "name": "stdout",
          "text": [
            "합격\n"
          ]
        }
      ]
    },
    {
      "cell_type": "markdown",
      "source": [
        "퀴즈\n",
        "  - 랜덤하게 두개의 수를 생성해서 가장 큰 수를 출력 random.randint(1,10)"
      ],
      "metadata": {
        "id": "b0HCDv_AlRjz"
      }
    },
    {
      "cell_type": "code",
      "source": [
        "import random\n",
        "jumsus =  [random.randint(1,10), random.randint(1,10) ]\n",
        "if jumsus[0] >= jumsus[1]:\n",
        "  print(f\"{jumsus[0]} {jumsus[1]} 가장 큰 수는 {jumsus[0]}\")\n",
        "else:\n",
        "  print(f\"{jumsus[0]} {jumsus[1]} 가장 큰 수는 {jumsus[1]}\")"
      ],
      "metadata": {
        "colab": {
          "base_uri": "https://localhost:8080/"
        },
        "id": "OITeiGZulGX-",
        "outputId": "9ee50075-c403-4af7-f8c2-1f0ed2523b12"
      },
      "execution_count": 62,
      "outputs": [
        {
          "output_type": "stream",
          "name": "stdout",
          "text": [
            "6 3 가장 큰 수는 6\n"
          ]
        }
      ]
    },
    {
      "cell_type": "markdown",
      "source": [
        "  - 랜덤하게 숫자를 입력받아서 짝 홀 구분하기 random.randint(1,10)\n",
        "  - 2로 나눈 나머지가 0이면 짝수 그렇지 않으면 홀수\n",
        "  - 나머지 연산( % ) , 조건문"
      ],
      "metadata": {
        "id": "dRHMu3hmm9Gy"
      }
    },
    {
      "cell_type": "code",
      "source": [
        "import random\n",
        "data = random.randint(1,10)\n",
        "if data % 2 == 0:\n",
        "  print(f\"{data} 짝수\")\n",
        "else:\n",
        "  print(f\"{data} 홀수\")\n"
      ],
      "metadata": {
        "colab": {
          "base_uri": "https://localhost:8080/"
        },
        "id": "xSnKl9nwnOFn",
        "outputId": "d567a745-0f6b-443b-ea74-9391c2d26d65"
      },
      "execution_count": 66,
      "outputs": [
        {
          "output_type": "stream",
          "name": "stdout",
          "text": [
            "1 홀수\n"
          ]
        }
      ]
    },
    {
      "cell_type": "markdown",
      "source": [
        "  - 3 <= month <=5    \n",
        "  - month >=3 and month <=5\n",
        "  - 1 ~ 12 사이의 값을 입력받아서(월)  해당 계절을 판단 random.randint(1,12)\n",
        "  - 3 ~ 5  봄\n",
        "  - 6 ~ 8 여름\n",
        "  - 9 ~ 11 가을\n",
        "  - 12 ~ 2 겨울"
      ],
      "metadata": {
        "id": "9qkXz8hfoOeq"
      }
    },
    {
      "cell_type": "code",
      "source": [
        "import random\n",
        "month = random.randint(1,12)\n",
        "print(f\"{month}월은 \",end='')\n",
        "if (month == 12) or (month == 1) or (month == 2):\n",
        "  print(\"겨울\")\n",
        "else: # 3 4 5 6 7 8 9 10 11\n",
        "  if month >=9:  # 9 10 11\n",
        "    print(\"가을\")\n",
        "  elif month >= 6:\n",
        "    print(\"여름\")\n",
        "  else:\n",
        "    print(\"봄\")"
      ],
      "metadata": {
        "colab": {
          "base_uri": "https://localhost:8080/"
        },
        "id": "p0uBBXttnOC-",
        "outputId": "b1e11d1d-ed2a-426d-ef74-f5a4dbd3d1aa"
      },
      "execution_count": 79,
      "outputs": [
        {
          "output_type": "stream",
          "name": "stdout",
          "text": [
            "4월은 봄\n"
          ]
        }
      ]
    },
    {
      "cell_type": "code",
      "source": [],
      "metadata": {
        "id": "w-n1t1XulcsW"
      },
      "execution_count": null,
      "outputs": []
    }
  ]
}