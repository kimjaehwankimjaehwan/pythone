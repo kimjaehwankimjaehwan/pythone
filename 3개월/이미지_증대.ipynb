{
  "nbformat": 4,
  "nbformat_minor": 0,
  "metadata": {
    "colab": {
      "provenance": [],
      "gpuType": "T4"
    },
    "kernelspec": {
      "name": "python3",
      "display_name": "Python 3"
    },
    "language_info": {
      "name": "python"
    },
    "accelerator": "GPU"
  },
  "cells": [
    {
      "cell_type": "code",
      "execution_count": 1,
      "metadata": {
        "id": "TUQgv_wQJsLr"
      },
      "outputs": [],
      "source": [
        "import tensorflow as tf\n",
        "from tensorflow.keras import layers, models\n",
        "from tensorflow.keras.preprocessing.image import ImageDataGenerator\n",
        "from tensorflow.keras.datasets import cifar10\n",
        "from tensorflow.keras.utils import to_categorical  # one-hot\n",
        "from sklearn.model_selection import train_test_split"
      ]
    },
    {
      "cell_type": "code",
      "source": [
        "# 데이터 로드 및 전처리\n",
        "(x_train, y_train),(x_test,y_test) =  cifar10.load_data()"
      ],
      "metadata": {
        "colab": {
          "base_uri": "https://localhost:8080/"
        },
        "id": "3Nfm4Rw-KSzW",
        "outputId": "16e2c2c8-2d3d-46e4-952b-167340f24c61"
      },
      "execution_count": 2,
      "outputs": [
        {
          "output_type": "stream",
          "name": "stdout",
          "text": [
            "Downloading data from https://www.cs.toronto.edu/~kriz/cifar-10-python.tar.gz\n",
            "\u001b[1m170498071/170498071\u001b[0m \u001b[32m━━━━━━━━━━━━━━━━━━━━\u001b[0m\u001b[37m\u001b[0m \u001b[1m10s\u001b[0m 0us/step\n"
          ]
        }
      ]
    },
    {
      "cell_type": "code",
      "source": [
        "# 레이블 one-hot 인코딩\n",
        "y_train = to_categorical(y_train,10)\n",
        "y_test = to_categorical(y_test,10)"
      ],
      "metadata": {
        "id": "UJj8CO-dKa7u"
      },
      "execution_count": 3,
      "outputs": []
    },
    {
      "cell_type": "code",
      "source": [
        "# 데이터 정규화\n",
        "x_train = x_train.astype('float32') / 255.0\n",
        "x_test = x_test.astype('float32') / 255.0"
      ],
      "metadata": {
        "id": "wBe9eWyPKyA1"
      },
      "execution_count": 4,
      "outputs": []
    },
    {
      "cell_type": "code",
      "source": [
        "# 기본 CNN 모델을 정의\n",
        "def create_model():\n",
        "  model = models.Sequential([\n",
        "      layers.Conv2D(32,(3,3),activation='relu',input_shape=(32,32,3)),\n",
        "      layers.MaxPooling2D((2,2)),\n",
        "      layers.Conv2D(64,(3,3),activation='relu'),\n",
        "      layers.MaxPooling2D((2,2)),\n",
        "      layers.Conv2D(64,(3,3),activation='relu'),\n",
        "      layers.Flatten(),\n",
        "      layers.Dense(64,activation='relu'),\n",
        "      layers.Dense(10,activation='softmax')\n",
        "  ])\n",
        "  model.compile(optimizer='adam',loss='categorical_crossentropy',metrics=['accuracy'])\n",
        "  return model\n"
      ],
      "metadata": {
        "id": "4pkJiT2CK_GF"
      },
      "execution_count": 5,
      "outputs": []
    },
    {
      "cell_type": "code",
      "source": [
        "# 이미지 증대 안하고 훈련\n",
        "x_train2,x_val,y_train2,y_val =  train_test_split(x_train,y_train,test_size=0.2,random_state=42)\n",
        "model_widthout_gen = create_model()\n",
        "hisory_widthout_gen = model_widthout_gen.fit(x_train2,y_train2,epochs=10, batch_size=64,\n",
        "                                             validation_data=(x_val,y_val))"
      ],
      "metadata": {
        "colab": {
          "base_uri": "https://localhost:8080/"
        },
        "id": "QakSzyamLiBd",
        "outputId": "e0c1eedf-50d0-46df-f15c-1826fc3c1d32"
      },
      "execution_count": null,
      "outputs": [
        {
          "output_type": "stream",
          "name": "stderr",
          "text": [
            "/usr/local/lib/python3.10/dist-packages/keras/src/layers/convolutional/base_conv.py:107: UserWarning: Do not pass an `input_shape`/`input_dim` argument to a layer. When using Sequential models, prefer using an `Input(shape)` object as the first layer in the model instead.\n",
            "  super().__init__(activity_regularizer=activity_regularizer, **kwargs)\n"
          ]
        },
        {
          "output_type": "stream",
          "name": "stdout",
          "text": [
            "Epoch 1/10\n",
            "\u001b[1m625/625\u001b[0m \u001b[32m━━━━━━━━━━━━━━━━━━━━\u001b[0m\u001b[37m\u001b[0m \u001b[1m11s\u001b[0m 9ms/step - accuracy: 0.3130 - loss: 1.8452 - val_accuracy: 0.4960 - val_loss: 1.4237\n",
            "Epoch 2/10\n",
            "\u001b[1m625/625\u001b[0m \u001b[32m━━━━━━━━━━━━━━━━━━━━\u001b[0m\u001b[37m\u001b[0m \u001b[1m3s\u001b[0m 5ms/step - accuracy: 0.5283 - loss: 1.3070 - val_accuracy: 0.5862 - val_loss: 1.1640\n",
            "Epoch 3/10\n",
            "\u001b[1m625/625\u001b[0m \u001b[32m━━━━━━━━━━━━━━━━━━━━\u001b[0m\u001b[37m\u001b[0m \u001b[1m4s\u001b[0m 5ms/step - accuracy: 0.6059 - loss: 1.1192 - val_accuracy: 0.6137 - val_loss: 1.0926\n",
            "Epoch 4/10\n"
          ]
        }
      ]
    },
    {
      "cell_type": "code",
      "source": [],
      "metadata": {
        "id": "Nsbw7fN8MZYF"
      },
      "execution_count": null,
      "outputs": []
    }
  ]
}