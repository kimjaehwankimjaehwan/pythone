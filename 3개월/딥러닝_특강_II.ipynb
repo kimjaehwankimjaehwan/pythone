{
  "nbformat": 4,
  "nbformat_minor": 0,
  "metadata": {
    "colab": {
      "provenance": []
    },
    "kernelspec": {
      "name": "python3",
      "display_name": "Python 3"
    },
    "language_info": {
      "name": "python"
    }
  },
  "cells": [
    {
      "cell_type": "markdown",
      "source": [
        "간단한 신경망 만들기\n",
        "  - 사인그래프 예측"
      ],
      "metadata": {
        "id": "tYVHmtTvBNzD"
      }
    },
    {
      "cell_type": "code",
      "source": [
        "import math\n",
        "import torch\n",
        "import matplotlib.pyplot as plt"
      ],
      "metadata": {
        "id": "2F0wqt72BPvD"
      },
      "execution_count": 82,
      "outputs": []
    },
    {
      "cell_type": "code",
      "source": [
        "# -pi ~ pi 사이에 데이터를 1000개 추출\n",
        "x = torch.linspace(-math.pi, math.pi, 1000)\n",
        "y = torch.sin(x)"
      ],
      "metadata": {
        "id": "YRaD8nLWCHOb"
      },
      "execution_count": 83,
      "outputs": []
    },
    {
      "cell_type": "code",
      "source": [
        "x"
      ],
      "metadata": {
        "colab": {
          "base_uri": "https://localhost:8080/"
        },
        "collapsed": true,
        "id": "Xu0AeOEkKx5J",
        "outputId": "33e549b9-cf55-4f57-8f73-b6473f39eff0"
      },
      "execution_count": 84,
      "outputs": [
        {
          "output_type": "execute_result",
          "data": {
            "text/plain": [
              "tensor([-3.1416, -3.1353, -3.1290, -3.1227, -3.1164, -3.1101, -3.1039, -3.0976,\n",
              "        -3.0913, -3.0850, -3.0787, -3.0724, -3.0661, -3.0598, -3.0535, -3.0473,\n",
              "        -3.0410, -3.0347, -3.0284, -3.0221, -3.0158, -3.0095, -3.0032, -2.9969,\n",
              "        -2.9906, -2.9844, -2.9781, -2.9718, -2.9655, -2.9592, -2.9529, -2.9466,\n",
              "        -2.9403, -2.9340, -2.9278, -2.9215, -2.9152, -2.9089, -2.9026, -2.8963,\n",
              "        -2.8900, -2.8837, -2.8774, -2.8711, -2.8649, -2.8586, -2.8523, -2.8460,\n",
              "        -2.8397, -2.8334, -2.8271, -2.8208, -2.8145, -2.8083, -2.8020, -2.7957,\n",
              "        -2.7894, -2.7831, -2.7768, -2.7705, -2.7642, -2.7579, -2.7516, -2.7454,\n",
              "        -2.7391, -2.7328, -2.7265, -2.7202, -2.7139, -2.7076, -2.7013, -2.6950,\n",
              "        -2.6888, -2.6825, -2.6762, -2.6699, -2.6636, -2.6573, -2.6510, -2.6447,\n",
              "        -2.6384, -2.6321, -2.6259, -2.6196, -2.6133, -2.6070, -2.6007, -2.5944,\n",
              "        -2.5881, -2.5818, -2.5755, -2.5693, -2.5630, -2.5567, -2.5504, -2.5441,\n",
              "        -2.5378, -2.5315, -2.5252, -2.5189, -2.5126, -2.5064, -2.5001, -2.4938,\n",
              "        -2.4875, -2.4812, -2.4749, -2.4686, -2.4623, -2.4560, -2.4498, -2.4435,\n",
              "        -2.4372, -2.4309, -2.4246, -2.4183, -2.4120, -2.4057, -2.3994, -2.3931,\n",
              "        -2.3869, -2.3806, -2.3743, -2.3680, -2.3617, -2.3554, -2.3491, -2.3428,\n",
              "        -2.3365, -2.3303, -2.3240, -2.3177, -2.3114, -2.3051, -2.2988, -2.2925,\n",
              "        -2.2862, -2.2799, -2.2736, -2.2674, -2.2611, -2.2548, -2.2485, -2.2422,\n",
              "        -2.2359, -2.2296, -2.2233, -2.2170, -2.2108, -2.2045, -2.1982, -2.1919,\n",
              "        -2.1856, -2.1793, -2.1730, -2.1667, -2.1604, -2.1541, -2.1479, -2.1416,\n",
              "        -2.1353, -2.1290, -2.1227, -2.1164, -2.1101, -2.1038, -2.0975, -2.0913,\n",
              "        -2.0850, -2.0787, -2.0724, -2.0661, -2.0598, -2.0535, -2.0472, -2.0409,\n",
              "        -2.0346, -2.0284, -2.0221, -2.0158, -2.0095, -2.0032, -1.9969, -1.9906,\n",
              "        -1.9843, -1.9780, -1.9718, -1.9655, -1.9592, -1.9529, -1.9466, -1.9403,\n",
              "        -1.9340, -1.9277, -1.9214, -1.9151, -1.9089, -1.9026, -1.8963, -1.8900,\n",
              "        -1.8837, -1.8774, -1.8711, -1.8648, -1.8585, -1.8523, -1.8460, -1.8397,\n",
              "        -1.8334, -1.8271, -1.8208, -1.8145, -1.8082, -1.8019, -1.7956, -1.7894,\n",
              "        -1.7831, -1.7768, -1.7705, -1.7642, -1.7579, -1.7516, -1.7453, -1.7390,\n",
              "        -1.7328, -1.7265, -1.7202, -1.7139, -1.7076, -1.7013, -1.6950, -1.6887,\n",
              "        -1.6824, -1.6761, -1.6699, -1.6636, -1.6573, -1.6510, -1.6447, -1.6384,\n",
              "        -1.6321, -1.6258, -1.6195, -1.6133, -1.6070, -1.6007, -1.5944, -1.5881,\n",
              "        -1.5818, -1.5755, -1.5692, -1.5629, -1.5566, -1.5504, -1.5441, -1.5378,\n",
              "        -1.5315, -1.5252, -1.5189, -1.5126, -1.5063, -1.5000, -1.4938, -1.4875,\n",
              "        -1.4812, -1.4749, -1.4686, -1.4623, -1.4560, -1.4497, -1.4434, -1.4371,\n",
              "        -1.4309, -1.4246, -1.4183, -1.4120, -1.4057, -1.3994, -1.3931, -1.3868,\n",
              "        -1.3805, -1.3743, -1.3680, -1.3617, -1.3554, -1.3491, -1.3428, -1.3365,\n",
              "        -1.3302, -1.3239, -1.3176, -1.3114, -1.3051, -1.2988, -1.2925, -1.2862,\n",
              "        -1.2799, -1.2736, -1.2673, -1.2610, -1.2548, -1.2485, -1.2422, -1.2359,\n",
              "        -1.2296, -1.2233, -1.2170, -1.2107, -1.2044, -1.1981, -1.1919, -1.1856,\n",
              "        -1.1793, -1.1730, -1.1667, -1.1604, -1.1541, -1.1478, -1.1415, -1.1353,\n",
              "        -1.1290, -1.1227, -1.1164, -1.1101, -1.1038, -1.0975, -1.0912, -1.0849,\n",
              "        -1.0786, -1.0724, -1.0661, -1.0598, -1.0535, -1.0472, -1.0409, -1.0346,\n",
              "        -1.0283, -1.0220, -1.0158, -1.0095, -1.0032, -0.9969, -0.9906, -0.9843,\n",
              "        -0.9780, -0.9717, -0.9654, -0.9591, -0.9529, -0.9466, -0.9403, -0.9340,\n",
              "        -0.9277, -0.9214, -0.9151, -0.9088, -0.9025, -0.8963, -0.8900, -0.8837,\n",
              "        -0.8774, -0.8711, -0.8648, -0.8585, -0.8522, -0.8459, -0.8396, -0.8334,\n",
              "        -0.8271, -0.8208, -0.8145, -0.8082, -0.8019, -0.7956, -0.7893, -0.7830,\n",
              "        -0.7768, -0.7705, -0.7642, -0.7579, -0.7516, -0.7453, -0.7390, -0.7327,\n",
              "        -0.7264, -0.7201, -0.7139, -0.7076, -0.7013, -0.6950, -0.6887, -0.6824,\n",
              "        -0.6761, -0.6698, -0.6635, -0.6573, -0.6510, -0.6447, -0.6384, -0.6321,\n",
              "        -0.6258, -0.6195, -0.6132, -0.6069, -0.6006, -0.5944, -0.5881, -0.5818,\n",
              "        -0.5755, -0.5692, -0.5629, -0.5566, -0.5503, -0.5440, -0.5378, -0.5315,\n",
              "        -0.5252, -0.5189, -0.5126, -0.5063, -0.5000, -0.4937, -0.4874, -0.4811,\n",
              "        -0.4749, -0.4686, -0.4623, -0.4560, -0.4497, -0.4434, -0.4371, -0.4308,\n",
              "        -0.4245, -0.4182, -0.4120, -0.4057, -0.3994, -0.3931, -0.3868, -0.3805,\n",
              "        -0.3742, -0.3679, -0.3616, -0.3554, -0.3491, -0.3428, -0.3365, -0.3302,\n",
              "        -0.3239, -0.3176, -0.3113, -0.3050, -0.2987, -0.2925, -0.2862, -0.2799,\n",
              "        -0.2736, -0.2673, -0.2610, -0.2547, -0.2484, -0.2421, -0.2359, -0.2296,\n",
              "        -0.2233, -0.2170, -0.2107, -0.2044, -0.1981, -0.1918, -0.1855, -0.1792,\n",
              "        -0.1730, -0.1667, -0.1604, -0.1541, -0.1478, -0.1415, -0.1352, -0.1289,\n",
              "        -0.1226, -0.1164, -0.1101, -0.1038, -0.0975, -0.0912, -0.0849, -0.0786,\n",
              "        -0.0723, -0.0660, -0.0597, -0.0535, -0.0472, -0.0409, -0.0346, -0.0283,\n",
              "        -0.0220, -0.0157, -0.0094, -0.0031,  0.0031,  0.0094,  0.0157,  0.0220,\n",
              "         0.0283,  0.0346,  0.0409,  0.0472,  0.0535,  0.0597,  0.0660,  0.0723,\n",
              "         0.0786,  0.0849,  0.0912,  0.0975,  0.1038,  0.1101,  0.1164,  0.1226,\n",
              "         0.1289,  0.1352,  0.1415,  0.1478,  0.1541,  0.1604,  0.1667,  0.1730,\n",
              "         0.1792,  0.1855,  0.1918,  0.1981,  0.2044,  0.2107,  0.2170,  0.2233,\n",
              "         0.2296,  0.2359,  0.2421,  0.2484,  0.2547,  0.2610,  0.2673,  0.2736,\n",
              "         0.2799,  0.2862,  0.2925,  0.2987,  0.3050,  0.3113,  0.3176,  0.3239,\n",
              "         0.3302,  0.3365,  0.3428,  0.3491,  0.3554,  0.3616,  0.3679,  0.3742,\n",
              "         0.3805,  0.3868,  0.3931,  0.3994,  0.4057,  0.4120,  0.4182,  0.4245,\n",
              "         0.4308,  0.4371,  0.4434,  0.4497,  0.4560,  0.4623,  0.4686,  0.4749,\n",
              "         0.4811,  0.4874,  0.4937,  0.5000,  0.5063,  0.5126,  0.5189,  0.5252,\n",
              "         0.5315,  0.5378,  0.5440,  0.5503,  0.5566,  0.5629,  0.5692,  0.5755,\n",
              "         0.5818,  0.5881,  0.5944,  0.6006,  0.6069,  0.6132,  0.6195,  0.6258,\n",
              "         0.6321,  0.6384,  0.6447,  0.6510,  0.6573,  0.6635,  0.6698,  0.6761,\n",
              "         0.6824,  0.6887,  0.6950,  0.7013,  0.7076,  0.7139,  0.7201,  0.7264,\n",
              "         0.7327,  0.7390,  0.7453,  0.7516,  0.7579,  0.7642,  0.7705,  0.7768,\n",
              "         0.7830,  0.7893,  0.7956,  0.8019,  0.8082,  0.8145,  0.8208,  0.8271,\n",
              "         0.8334,  0.8396,  0.8459,  0.8522,  0.8585,  0.8648,  0.8711,  0.8774,\n",
              "         0.8837,  0.8900,  0.8963,  0.9025,  0.9088,  0.9151,  0.9214,  0.9277,\n",
              "         0.9340,  0.9403,  0.9466,  0.9529,  0.9591,  0.9654,  0.9717,  0.9780,\n",
              "         0.9843,  0.9906,  0.9969,  1.0032,  1.0095,  1.0158,  1.0220,  1.0283,\n",
              "         1.0346,  1.0409,  1.0472,  1.0535,  1.0598,  1.0661,  1.0724,  1.0786,\n",
              "         1.0849,  1.0912,  1.0975,  1.1038,  1.1101,  1.1164,  1.1227,  1.1290,\n",
              "         1.1353,  1.1415,  1.1478,  1.1541,  1.1604,  1.1667,  1.1730,  1.1793,\n",
              "         1.1856,  1.1919,  1.1981,  1.2044,  1.2107,  1.2170,  1.2233,  1.2296,\n",
              "         1.2359,  1.2422,  1.2485,  1.2548,  1.2610,  1.2673,  1.2736,  1.2799,\n",
              "         1.2862,  1.2925,  1.2988,  1.3051,  1.3114,  1.3176,  1.3239,  1.3302,\n",
              "         1.3365,  1.3428,  1.3491,  1.3554,  1.3617,  1.3680,  1.3743,  1.3805,\n",
              "         1.3868,  1.3931,  1.3994,  1.4057,  1.4120,  1.4183,  1.4246,  1.4309,\n",
              "         1.4371,  1.4434,  1.4497,  1.4560,  1.4623,  1.4686,  1.4749,  1.4812,\n",
              "         1.4875,  1.4938,  1.5000,  1.5063,  1.5126,  1.5189,  1.5252,  1.5315,\n",
              "         1.5378,  1.5441,  1.5504,  1.5566,  1.5629,  1.5692,  1.5755,  1.5818,\n",
              "         1.5881,  1.5944,  1.6007,  1.6070,  1.6133,  1.6195,  1.6258,  1.6321,\n",
              "         1.6384,  1.6447,  1.6510,  1.6573,  1.6636,  1.6699,  1.6761,  1.6824,\n",
              "         1.6887,  1.6950,  1.7013,  1.7076,  1.7139,  1.7202,  1.7265,  1.7328,\n",
              "         1.7390,  1.7453,  1.7516,  1.7579,  1.7642,  1.7705,  1.7768,  1.7831,\n",
              "         1.7894,  1.7956,  1.8019,  1.8082,  1.8145,  1.8208,  1.8271,  1.8334,\n",
              "         1.8397,  1.8460,  1.8523,  1.8585,  1.8648,  1.8711,  1.8774,  1.8837,\n",
              "         1.8900,  1.8963,  1.9026,  1.9089,  1.9151,  1.9214,  1.9277,  1.9340,\n",
              "         1.9403,  1.9466,  1.9529,  1.9592,  1.9655,  1.9718,  1.9780,  1.9843,\n",
              "         1.9906,  1.9969,  2.0032,  2.0095,  2.0158,  2.0221,  2.0284,  2.0346,\n",
              "         2.0409,  2.0472,  2.0535,  2.0598,  2.0661,  2.0724,  2.0787,  2.0850,\n",
              "         2.0913,  2.0975,  2.1038,  2.1101,  2.1164,  2.1227,  2.1290,  2.1353,\n",
              "         2.1416,  2.1479,  2.1541,  2.1604,  2.1667,  2.1730,  2.1793,  2.1856,\n",
              "         2.1919,  2.1982,  2.2045,  2.2108,  2.2170,  2.2233,  2.2296,  2.2359,\n",
              "         2.2422,  2.2485,  2.2548,  2.2611,  2.2674,  2.2736,  2.2799,  2.2862,\n",
              "         2.2925,  2.2988,  2.3051,  2.3114,  2.3177,  2.3240,  2.3303,  2.3365,\n",
              "         2.3428,  2.3491,  2.3554,  2.3617,  2.3680,  2.3743,  2.3806,  2.3869,\n",
              "         2.3931,  2.3994,  2.4057,  2.4120,  2.4183,  2.4246,  2.4309,  2.4372,\n",
              "         2.4435,  2.4498,  2.4560,  2.4623,  2.4686,  2.4749,  2.4812,  2.4875,\n",
              "         2.4938,  2.5001,  2.5064,  2.5126,  2.5189,  2.5252,  2.5315,  2.5378,\n",
              "         2.5441,  2.5504,  2.5567,  2.5630,  2.5693,  2.5755,  2.5818,  2.5881,\n",
              "         2.5944,  2.6007,  2.6070,  2.6133,  2.6196,  2.6259,  2.6321,  2.6384,\n",
              "         2.6447,  2.6510,  2.6573,  2.6636,  2.6699,  2.6762,  2.6825,  2.6888,\n",
              "         2.6950,  2.7013,  2.7076,  2.7139,  2.7202,  2.7265,  2.7328,  2.7391,\n",
              "         2.7454,  2.7516,  2.7579,  2.7642,  2.7705,  2.7768,  2.7831,  2.7894,\n",
              "         2.7957,  2.8020,  2.8083,  2.8145,  2.8208,  2.8271,  2.8334,  2.8397,\n",
              "         2.8460,  2.8523,  2.8586,  2.8649,  2.8711,  2.8774,  2.8837,  2.8900,\n",
              "         2.8963,  2.9026,  2.9089,  2.9152,  2.9215,  2.9278,  2.9340,  2.9403,\n",
              "         2.9466,  2.9529,  2.9592,  2.9655,  2.9718,  2.9781,  2.9844,  2.9906,\n",
              "         2.9969,  3.0032,  3.0095,  3.0158,  3.0221,  3.0284,  3.0347,  3.0410,\n",
              "         3.0473,  3.0535,  3.0598,  3.0661,  3.0724,  3.0787,  3.0850,  3.0913,\n",
              "         3.0976,  3.1039,  3.1101,  3.1164,  3.1227,  3.1290,  3.1353,  3.1416])"
            ]
          },
          "metadata": {},
          "execution_count": 84
        }
      ]
    },
    {
      "cell_type": "code",
      "source": [
        "# y = ax^3 + bx^2 + cx + d\n",
        "# 계수 또는 가중치  a b c d"
      ],
      "metadata": {
        "id": "jfoaWVELCnKq"
      },
      "execution_count": 85,
      "outputs": []
    },
    {
      "cell_type": "markdown",
      "source": [
        "- 가중치 초기화"
      ],
      "metadata": {
        "id": "eYBLAi-bDGZS"
      }
    },
    {
      "cell_type": "code",
      "source": [
        "a,b,c,d = torch.randn(()),torch.randn(()),torch.randn(()),torch.randn(())"
      ],
      "metadata": {
        "id": "IYDsa9s7DIgB"
      },
      "execution_count": 86,
      "outputs": []
    },
    {
      "cell_type": "markdown",
      "source": [
        "- 함수를 정의 (3차원 방정식)"
      ],
      "metadata": {
        "id": "g13dr_NpDady"
      }
    },
    {
      "cell_type": "code",
      "source": [
        "y_random = a*x**3 + b*x**2 + c*x + d"
      ],
      "metadata": {
        "id": "HshFcxY5DZ-4"
      },
      "execution_count": 87,
      "outputs": []
    },
    {
      "cell_type": "code",
      "source": [
        "type(x), type(y)"
      ],
      "metadata": {
        "colab": {
          "base_uri": "https://localhost:8080/"
        },
        "id": "dMM0pC2tEW65",
        "outputId": "0c85eb55-7888-4220-bd1a-b77729961b5b"
      },
      "execution_count": 88,
      "outputs": [
        {
          "output_type": "execute_result",
          "data": {
            "text/plain": [
              "(torch.Tensor, torch.Tensor)"
            ]
          },
          "metadata": {},
          "execution_count": 88
        }
      ]
    },
    {
      "cell_type": "code",
      "source": [
        "plt.subplot(2,1,1)\n",
        "plt.title('y true')\n",
        "plt.plot(x.numpy(),y.numpy(),'o')\n",
        "\n",
        "plt.subplot(2,1,2)\n",
        "plt.title('y random')\n",
        "plt.plot(x.numpy(),y_random.numpy(),'o')\n",
        "\n",
        "plt.show()"
      ],
      "metadata": {
        "colab": {
          "base_uri": "https://localhost:8080/",
          "height": 452
        },
        "id": "2bP_VnzKDXuJ",
        "outputId": "0a8809c4-bbb4-40bd-f271-b7b9a74df43b"
      },
      "execution_count": 89,
      "outputs": [
        {
          "output_type": "display_data",
          "data": {
            "text/plain": [
              "<Figure size 640x480 with 2 Axes>"
            ],
            "image/png": "[encoded data removed]"
          },
          "metadata": {}
        }
      ]
    },
    {
      "cell_type": "markdown",
      "source": [
        "- 학습\n",
        "  - 가중치 a에 대한 기울기"
      ],
      "metadata": {
        "id": "4XkqXe60EOLq"
      }
    },
    {
      "cell_type": "markdown",
      "source": [
        "![image.png](data:image/png;base64,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)\n",
        "\n",
        "![image.png](data:image/png;base64,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)\n",
        "\n",
        "![image.png](data:image/png;base64,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)"
      ],
      "metadata": {
        "id": "nBf5cuuoJVHJ"
      }
    },
    {
      "cell_type": "code",
      "source": [
        "from logging import logProcesses\n",
        "learning_rate = 1e-6\n",
        "for epoch in range(3000):  # 학습 2000번 수행\n",
        "    y_pred = a*x**3 + b*x**2 + c*x + d  #  예측값\n",
        "    # 회귀는 기본 손실함수\n",
        "    loss = (y_pred - y).pow(2).sum().item()  # 손실함수\n",
        "    # 출력\n",
        "    if (epoch+1) % 100 == 0:\n",
        "        print(f\"epoch : {epoch+1} loss:{loss}\")\n",
        "    # 손실함수에 대한 미분 : 기울기 구하기\n",
        "    grad_y_pred = 2 * (y_pred - y)\n",
        "\n",
        "    # 각 가중치(계수)에 대한 기울기 구함  - 역전파\n",
        "    grad_a = (grad_y_pred * x**3).sum()\n",
        "    grad_b = (grad_y_pred * x**2).sum()\n",
        "    grad_c = (grad_y_pred * x).sum()\n",
        "    grad_d = grad_y_pred.sum()\n",
        "    #  적용\n",
        "    a -= learning_rate * grad_a\n",
        "    b -= learning_rate * grad_b\n",
        "    c -= learning_rate * grad_c\n",
        "    d -= learning_rate * grad_d\n",
        "\n"
      ],
      "metadata": {
        "colab": {
          "base_uri": "https://localhost:8080/"
        },
        "id": "061scTpFECe5",
        "outputId": "44da5ef9-5911-49dd-e8ae-4721eeae5d2b"
      },
      "execution_count": 90,
      "outputs": [
        {
          "output_type": "stream",
          "name": "stdout",
          "text": [
            "epoch : 100 loss:1034.1021728515625\n",
            "epoch : 200 loss:845.8944091796875\n",
            "epoch : 300 loss:692.8992919921875\n",
            "epoch : 400 loss:567.8208618164062\n",
            "epoch : 500 loss:465.548828125\n",
            "epoch : 600 loss:381.91119384765625\n",
            "epoch : 700 loss:313.5015869140625\n",
            "epoch : 800 loss:257.5378112792969\n",
            "epoch : 900 loss:211.74752807617188\n",
            "epoch : 1000 loss:174.27505493164062\n",
            "epoch : 1100 loss:143.60377502441406\n",
            "epoch : 1200 loss:118.49464416503906\n",
            "epoch : 1300 loss:97.93513488769531\n",
            "epoch : 1400 loss:81.09757995605469\n",
            "epoch : 1500 loss:67.30557250976562\n",
            "epoch : 1600 loss:56.005882263183594\n",
            "epoch : 1700 loss:46.74639129638672\n",
            "epoch : 1800 loss:39.15715408325195\n",
            "epoch : 1900 loss:32.93550109863281\n",
            "epoch : 2000 loss:27.83391571044922\n",
            "epoch : 2100 loss:23.649904251098633\n",
            "epoch : 2200 loss:20.21758270263672\n",
            "epoch : 2300 loss:17.40129280090332\n",
            "epoch : 2400 loss:15.089959144592285\n",
            "epoch : 2500 loss:13.192605972290039\n",
            "epoch : 2600 loss:11.634673118591309\n",
            "epoch : 2700 loss:10.35519027709961\n",
            "epoch : 2800 loss:9.304085731506348\n",
            "epoch : 2900 loss:8.440422058105469\n",
            "epoch : 3000 loss:7.730583190917969\n"
          ]
        }
      ]
    },
    {
      "cell_type": "code",
      "source": [
        "plt.subplot(3,1,1)\n",
        "plt.title('y true')\n",
        "plt.plot(x.numpy(),y.numpy(),'o')\n",
        "\n",
        "plt.subplot(3,1,2)\n",
        "plt.title('y pred')\n",
        "plt.plot(x,y_pred,'o')\n",
        "\n",
        "\n",
        "plt.subplot(3,1,3)\n",
        "plt.title('y random')\n",
        "plt.plot(x.numpy(),y_random.numpy(),'o')\n",
        "\n",
        "\n",
        "plt.show()"
      ],
      "metadata": {
        "colab": {
          "base_uri": "https://localhost:8080/",
          "height": 452
        },
        "id": "2MifzZjULb0P",
        "outputId": "901cfb09-40b2-43c8-fc69-0bcad3d4468a"
      },
      "execution_count": 91,
      "outputs": [
        {
          "output_type": "display_data",
          "data": {
            "text/plain": [
              "<Figure size 640x480 with 3 Axes>"
            ],
            "image/png": "[encoded data removed]"
          },
          "metadata": {}
        }
      ]
    },
    {
      "cell_type": "markdown",
      "source": [
        "보스턴 집값 예측"
      ],
      "metadata": {
        "id": "8nrD313qP7zV"
      }
    },
    {
      "cell_type": "code",
      "source": [
        "# from sklearn.datasets import load_boston"
      ],
      "metadata": {
        "id": "IY-6e8loP53-"
      },
      "execution_count": 92,
      "outputs": []
    },
    {
      "cell_type": "code",
      "source": [
        "import pandas as pd\n",
        "import numpy as np\n",
        "\n",
        "data_url = \"http://lib.stat.cmu.edu/datasets/boston\"\n",
        "raw_df = pd.read_csv(data_url, sep=\"\\s+\", skiprows=22, header=None)\n",
        "data = np.hstack([raw_df.values[::2, :], raw_df.values[1::2, :2]])\n",
        "target = raw_df.values[1::2, 2]"
      ],
      "metadata": {
        "id": "kPK1dCDQQIRN"
      },
      "execution_count": 118,
      "outputs": []
    },
    {
      "cell_type": "code",
      "source": [
        "df = pd.DataFrame(data, columns=\n",
        "['CRIM',\n",
        "'ZN'   ,\n",
        "'INDUS' ,\n",
        "'CHAS'   ,\n",
        "'NOX'     ,\n",
        "'RM'      ,\n",
        "'AGE'     ,\n",
        "'DIS'     ,\n",
        "'RAD'     ,\n",
        "'TAX'     ,\n",
        "'PTRATIO' ,\n",
        "'B'       ,\n",
        "'LSTAT'   ]\n",
        ")\n",
        "df['target'] = target\n",
        "df.head()"
      ],
      "metadata": {
        "colab": {
          "base_uri": "https://localhost:8080/",
          "height": 206
        },
        "id": "KRRgPAAgRFMW",
        "outputId": "c0c643f4-4022-46a9-87d2-b1764e7e31b8"
      },
      "execution_count": 119,
      "outputs": [
        {
          "output_type": "execute_result",
          "data": {
            "text/plain": [
              "      CRIM    ZN  INDUS  CHAS    NOX     RM   AGE     DIS  RAD    TAX  \\\n",
              "0  0.00632  18.0   2.31   0.0  0.538  6.575  65.2  4.0900  1.0  296.0   \n",
              "1  0.02731   0.0   7.07   0.0  0.469  6.421  78.9  4.9671  2.0  242.0   \n",
              "2  0.02729   0.0   7.07   0.0  0.469  7.185  61.1  4.9671  2.0  242.0   \n",
              "3  0.03237   0.0   2.18   0.0  0.458  6.998  45.8  6.0622  3.0  222.0   \n",
              "4  0.06905   0.0   2.18   0.0  0.458  7.147  54.2  6.0622  3.0  222.0   \n",
              "\n",
              "   PTRATIO       B  LSTAT  target  \n",
              "0     15.3  396.90   4.98    24.0  \n",
              "1     17.8  396.90   9.14    21.6  \n",
              "2     17.8  392.83   4.03    34.7  \n",
              "3     18.7  394.63   2.94    33.4  \n",
              "4     18.7  396.90   5.33    36.2  "
            ],
            "text/html": [
              "\n",
              "  <div id=\"df-a4d95e79-37c7-425c-8f1b-62aca60ad97d\" class=\"colab-df-container\">\n",
              "    <div>\n",
              "<style scoped>\n",
              "    .dataframe tbody tr th:only-of-type {\n",
              "        vertical-align: middle;\n",
              "    }\n",
              "\n",
              "    .dataframe tbody tr th {\n",
              "        vertical-align: top;\n",
              "    }\n",
              "\n",
              "    .dataframe thead th {\n",
              "        text-align: right;\n",
              "    }\n",
              "</style>\n",
              "<table border=\"1\" class=\"dataframe\">\n",
              "  <thead>\n",
              "    <tr style=\"text-align: right;\">\n",
              "      <th></th>\n",
              "      <th>CRIM</th>\n",
              "      <th>ZN</th>\n",
              "      <th>INDUS</th>\n",
              "      <th>CHAS</th>\n",
              "      <th>NOX</th>\n",
              "      <th>RM</th>\n",
              "      <th>AGE</th>\n",
              "      <th>DIS</th>\n",
              "      <th>RAD</th>\n",
              "      <th>TAX</th>\n",
              "      <th>PTRATIO</th>\n",
              "      <th>B</th>\n",
              "      <th>LSTAT</th>\n",
              "      <th>target</th>\n",
              "    </tr>\n",
              "  </thead>\n",
              "  <tbody>\n",
              "    <tr>\n",
              "      <th>0</th>\n",
              "      <td>0.00632</td>\n",
              "      <td>18.0</td>\n",
              "      <td>2.31</td>\n",
              "      <td>0.0</td>\n",
              "      <td>0.538</td>\n",
              "      <td>6.575</td>\n",
              "      <td>65.2</td>\n",
              "      <td>4.0900</td>\n",
              "      <td>1.0</td>\n",
              "      <td>296.0</td>\n",
              "      <td>15.3</td>\n",
              "      <td>396.90</td>\n",
              "      <td>4.98</td>\n",
              "      <td>24.0</td>\n",
              "    </tr>\n",
              "    <tr>\n",
              "      <th>1</th>\n",
              "      <td>0.02731</td>\n",
              "      <td>0.0</td>\n",
              "      <td>7.07</td>\n",
              "      <td>0.0</td>\n",
              "      <td>0.469</td>\n",
              "      <td>6.421</td>\n",
              "      <td>78.9</td>\n",
              "      <td>4.9671</td>\n",
              "      <td>2.0</td>\n",
              "      <td>242.0</td>\n",
              "      <td>17.8</td>\n",
              "      <td>396.90</td>\n",
              "      <td>9.14</td>\n",
              "      <td>21.6</td>\n",
              "    </tr>\n",
              "    <tr>\n",
              "      <th>2</th>\n",
              "      <td>0.02729</td>\n",
              "      <td>0.0</td>\n",
              "      <td>7.07</td>\n",
              "      <td>0.0</td>\n",
              "      <td>0.469</td>\n",
              "      <td>7.185</td>\n",
              "      <td>61.1</td>\n",
              "      <td>4.9671</td>\n",
              "      <td>2.0</td>\n",
              "      <td>242.0</td>\n",
              "      <td>17.8</td>\n",
              "      <td>392.83</td>\n",
              "      <td>4.03</td>\n",
              "      <td>34.7</td>\n",
              "    </tr>\n",
              "    <tr>\n",
              "      <th>3</th>\n",
              "      <td>0.03237</td>\n",
              "      <td>0.0</td>\n",
              "      <td>2.18</td>\n",
              "      <td>0.0</td>\n",
              "      <td>0.458</td>\n",
              "      <td>6.998</td>\n",
              "      <td>45.8</td>\n",
              "      <td>6.0622</td>\n",
              "      <td>3.0</td>\n",
              "      <td>222.0</td>\n",
              "      <td>18.7</td>\n",
              "      <td>394.63</td>\n",
              "      <td>2.94</td>\n",
              "      <td>33.4</td>\n",
              "    </tr>\n",
              "    <tr>\n",
              "      <th>4</th>\n",
              "      <td>0.06905</td>\n",
              "      <td>0.0</td>\n",
              "      <td>2.18</td>\n",
              "      <td>0.0</td>\n",
              "      <td>0.458</td>\n",
              "      <td>7.147</td>\n",
              "      <td>54.2</td>\n",
              "      <td>6.0622</td>\n",
              "      <td>3.0</td>\n",
              "      <td>222.0</td>\n",
              "      <td>18.7</td>\n",
              "      <td>396.90</td>\n",
              "      <td>5.33</td>\n",
              "      <td>36.2</td>\n",
              "    </tr>\n",
              "  </tbody>\n",
              "</table>\n",
              "</div>\n",
              "    <div class=\"colab-df-buttons\">\n",
              "\n",
              "  <div class=\"colab-df-container\">\n",
              "    <button class=\"colab-df-convert\" onclick=\"convertToInteractive('df-a4d95e79-37c7-425c-8f1b-62aca60ad97d')\"\n",
              "            title=\"Convert this dataframe to an interactive table.\"\n",
              "            style=\"display:none;\">\n",
              "\n",
              "  <svg xmlns=\"http://www.w3.org/2000/svg\" height=\"24px\" viewBox=\"0 -960 960 960\">\n",
              "    <path d=\"M120-120v-720h720v720H120Zm60-500h600v-160H180v160Zm220 220h160v-160H400v160Zm0 220h160v-160H400v160ZM180-400h160v-160H180v160Zm440 0h160v-160H620v160ZM180-180h160v-160H180v160Zm440 0h160v-160H620v160Z\"/>\n",
              "  </svg>\n",
              "    </button>\n",
              "\n",
              "  <style>\n",
              "    .colab-df-container {\n",
              "      display:flex;\n",
              "      gap: 12px;\n",
              "    }\n",
              "\n",
              "    .colab-df-convert {\n",
              "      background-color: #E8F0FE;\n",
              "      border: none;\n",
              "      border-radius: 50%;\n",
              "      cursor: pointer;\n",
              "      display: none;\n",
              "      fill: #1967D2;\n",
              "      height: 32px;\n",
              "      padding: 0 0 0 0;\n",
              "      width: 32px;\n",
              "    }\n",
              "\n",
              "    .colab-df-convert:hover {\n",
              "      background-color: #E2EBFA;\n",
              "      box-shadow: 0px 1px 2px rgba(60, 64, 67, 0.3), 0px 1px 3px 1px rgba(60, 64, 67, 0.15);\n",
              "      fill: #174EA6;\n",
              "    }\n",
              "\n",
              "    .colab-df-buttons div {\n",
              "      margin-bottom: 4px;\n",
              "    }\n",
              "\n",
              "    [theme=dark] .colab-df-convert {\n",
              "      background-color: #3B4455;\n",
              "      fill: #D2E3FC;\n",
              "    }\n",
              "\n",
              "    [theme=dark] .colab-df-convert:hover {\n",
              "      background-color: #434B5C;\n",
              "      box-shadow: 0px 1px 3px 1px rgba(0, 0, 0, 0.15);\n",
              "      filter: drop-shadow(0px 1px 2px rgba(0, 0, 0, 0.3));\n",
              "      fill: #FFFFFF;\n",
              "    }\n",
              "  </style>\n",
              "\n",
              "    <script>\n",
              "      const buttonEl =\n",
              "        document.querySelector('#df-a4d95e79-37c7-425c-8f1b-62aca60ad97d button.colab-df-convert');\n",
              "      buttonEl.style.display =\n",
              "        google.colab.kernel.accessAllowed ? 'block' : 'none';\n",
              "\n",
              "      async function convertToInteractive(key) {\n",
              "        const element = document.querySelector('#df-a4d95e79-37c7-425c-8f1b-62aca60ad97d');\n",
              "        const dataTable =\n",
              "          await google.colab.kernel.invokeFunction('convertToInteractive',\n",
              "                                                    [key], {});\n",
              "        if (!dataTable) return;\n",
              "\n",
              "        const docLinkHtml = 'Like what you see? Visit the ' +\n",
              "          '<a target=\"_blank\" href=https://colab.research.google.com/notebooks/data_table.ipynb>data table notebook</a>'\n",
              "          + ' to learn more about interactive tables.';\n",
              "        element.innerHTML = '';\n",
              "        dataTable['output_type'] = 'display_data';\n",
              "        await google.colab.output.renderOutput(dataTable, element);\n",
              "        const docLink = document.createElement('div');\n",
              "        docLink.innerHTML = docLinkHtml;\n",
              "        element.appendChild(docLink);\n",
              "      }\n",
              "    </script>\n",
              "  </div>\n",
              "\n",
              "\n",
              "<div id=\"df-99fba040-fd35-4eb8-b2eb-501b40b1ab27\">\n",
              "  <button class=\"colab-df-quickchart\" onclick=\"quickchart('df-99fba040-fd35-4eb8-b2eb-501b40b1ab27')\"\n",
              "            title=\"Suggest charts\"\n",
              "            style=\"display:none;\">\n",
              "\n",
              "<svg xmlns=\"http://www.w3.org/2000/svg\" height=\"24px\"viewBox=\"0 0 24 24\"\n",
              "     width=\"24px\">\n",
              "    <g>\n",
              "        <path d=\"M19 3H5c-1.1 0-2 .9-2 2v14c0 1.1.9 2 2 2h14c1.1 0 2-.9 2-2V5c0-1.1-.9-2-2-2zM9 17H7v-7h2v7zm4 0h-2V7h2v10zm4 0h-2v-4h2v4z\"/>\n",
              "    </g>\n",
              "</svg>\n",
              "  </button>\n",
              "\n",
              "<style>\n",
              "  .colab-df-quickchart {\n",
              "      --bg-color: #E8F0FE;\n",
              "      --fill-color: #1967D2;\n",
              "      --hover-bg-color: #E2EBFA;\n",
              "      --hover-fill-color: #174EA6;\n",
              "      --disabled-fill-color: #AAA;\n",
              "      --disabled-bg-color: #DDD;\n",
              "  }\n",
              "\n",
              "  [theme=dark] .colab-df-quickchart {\n",
              "      --bg-color: #3B4455;\n",
              "      --fill-color: #D2E3FC;\n",
              "      --hover-bg-color: #434B5C;\n",
              "      --hover-fill-color: #FFFFFF;\n",
              "      --disabled-bg-color: #3B4455;\n",
              "      --disabled-fill-color: #666;\n",
              "  }\n",
              "\n",
              "  .colab-df-quickchart {\n",
              "    background-color: var(--bg-color);\n",
              "    border: none;\n",
              "    border-radius: 50%;\n",
              "    cursor: pointer;\n",
              "    display: none;\n",
              "    fill: var(--fill-color);\n",
              "    height: 32px;\n",
              "    padding: 0;\n",
              "    width: 32px;\n",
              "  }\n",
              "\n",
              "  .colab-df-quickchart:hover {\n",
              "    background-color: var(--hover-bg-color);\n",
              "    box-shadow: 0 1px 2px rgba(60, 64, 67, 0.3), 0 1px 3px 1px rgba(60, 64, 67, 0.15);\n",
              "    fill: var(--button-hover-fill-color);\n",
              "  }\n",
              "\n",
              "  .colab-df-quickchart-complete:disabled,\n",
              "  .colab-df-quickchart-complete:disabled:hover {\n",
              "    background-color: var(--disabled-bg-color);\n",
              "    fill: var(--disabled-fill-color);\n",
              "    box-shadow: none;\n",
              "  }\n",
              "\n",
              "  .colab-df-spinner {\n",
              "    border: 2px solid var(--fill-color);\n",
              "    border-color: transparent;\n",
              "    border-bottom-color: var(--fill-color);\n",
              "    animation:\n",
              "      spin 1s steps(1) infinite;\n",
              "  }\n",
              "\n",
              "  @keyframes spin {\n",
              "    0% {\n",
              "      border-color: transparent;\n",
              "      border-bottom-color: var(--fill-color);\n",
              "      border-left-color: var(--fill-color);\n",
              "    }\n",
              "    20% {\n",
              "      border-color: transparent;\n",
              "      border-left-color: var(--fill-color);\n",
              "      border-top-color: var(--fill-color);\n",
              "    }\n",
              "    30% {\n",
              "      border-color: transparent;\n",
              "      border-left-color: var(--fill-color);\n",
              "      border-top-color: var(--fill-color);\n",
              "      border-right-color: var(--fill-color);\n",
              "    }\n",
              "    40% {\n",
              "      border-color: transparent;\n",
              "      border-right-color: var(--fill-color);\n",
              "      border-top-color: var(--fill-color);\n",
              "    }\n",
              "    60% {\n",
              "      border-color: transparent;\n",
              "      border-right-color: var(--fill-color);\n",
              "    }\n",
              "    80% {\n",
              "      border-color: transparent;\n",
              "      border-right-color: var(--fill-color);\n",
              "      border-bottom-color: var(--fill-color);\n",
              "    }\n",
              "    90% {\n",
              "      border-color: transparent;\n",
              "      border-bottom-color: var(--fill-color);\n",
              "    }\n",
              "  }\n",
              "</style>\n",
              "\n",
              "  <script>\n",
              "    async function quickchart(key) {\n",
              "      const quickchartButtonEl =\n",
              "        document.querySelector('#' + key + ' button');\n",
              "      quickchartButtonEl.disabled = true;  // To prevent multiple clicks.\n",
              "      quickchartButtonEl.classList.add('colab-df-spinner');\n",
              "      try {\n",
              "        const charts = await google.colab.kernel.invokeFunction(\n",
              "            'suggestCharts', [key], {});\n",
              "      } catch (error) {\n",
              "        console.error('Error during call to suggestCharts:', error);\n",
              "      }\n",
              "      quickchartButtonEl.classList.remove('colab-df-spinner');\n",
              "      quickchartButtonEl.classList.add('colab-df-quickchart-complete');\n",
              "    }\n",
              "    (() => {\n",
              "      let quickchartButtonEl =\n",
              "        document.querySelector('#df-99fba040-fd35-4eb8-b2eb-501b40b1ab27 button');\n",
              "      quickchartButtonEl.style.display =\n",
              "        google.colab.kernel.accessAllowed ? 'block' : 'none';\n",
              "    })();\n",
              "  </script>\n",
              "</div>\n",
              "\n",
              "    </div>\n",
              "  </div>\n"
            ],
            "application/vnd.google.colaboratory.intrinsic+json": {
              "type": "dataframe",
              "variable_name": "df",
              "summary": "{\n  \"name\": \"df\",\n  \"rows\": 506,\n  \"fields\": [\n    {\n      \"column\": \"CRIM\",\n      \"properties\": {\n        \"dtype\": \"number\",\n        \"std\": 8.60154510533249,\n        \"min\": 0.00632,\n        \"max\": 88.9762,\n        \"num_unique_values\": 504,\n        \"samples\": [\n          0.09178,\n          0.05644,\n          0.10574\n        ],\n        \"semantic_type\": \"\",\n        \"description\": \"\"\n      }\n    },\n    {\n      \"column\": \"ZN\",\n      \"properties\": {\n        \"dtype\": \"number\",\n        \"std\": 23.32245299451514,\n        \"min\": 0.0,\n        \"max\": 100.0,\n        \"num_unique_values\": 26,\n        \"samples\": [\n          25.0,\n          30.0,\n          18.0\n        ],\n        \"semantic_type\": \"\",\n        \"description\": \"\"\n      }\n    },\n    {\n      \"column\": \"INDUS\",\n      \"properties\": {\n        \"dtype\": \"number\",\n        \"std\": 6.860352940897585,\n        \"min\": 0.46,\n        \"max\": 27.74,\n        \"num_unique_values\": 76,\n        \"samples\": [\n          8.14,\n          1.47,\n          1.22\n        ],\n        \"semantic_type\": \"\",\n        \"description\": \"\"\n      }\n    },\n    {\n      \"column\": \"CHAS\",\n      \"properties\": {\n        \"dtype\": \"number\",\n        \"std\": 0.25399404134041037,\n        \"min\": 0.0,\n        \"max\": 1.0,\n        \"num_unique_values\": 2,\n        \"samples\": [\n          1.0,\n          0.0\n        ],\n        \"semantic_type\": \"\",\n        \"description\": \"\"\n      }\n    },\n    {\n      \"column\": \"NOX\",\n      \"properties\": {\n        \"dtype\": \"number\",\n        \"std\": 0.11587767566755595,\n        \"min\": 0.385,\n        \"max\": 0.871,\n        \"num_unique_values\": 81,\n        \"samples\": [\n          0.401,\n          0.538\n        ],\n        \"semantic_type\": \"\",\n        \"description\": \"\"\n      }\n    },\n    {\n      \"column\": \"RM\",\n      \"properties\": {\n        \"dtype\": \"number\",\n        \"std\": 0.7026171434153233,\n        \"min\": 3.561,\n        \"max\": 8.78,\n        \"num_unique_values\": 446,\n        \"samples\": [\n          6.849,\n          4.88\n        ],\n        \"semantic_type\": \"\",\n        \"description\": \"\"\n      }\n    },\n    {\n      \"column\": \"AGE\",\n      \"properties\": {\n        \"dtype\": \"number\",\n        \"std\": 28.148861406903617,\n        \"min\": 2.9,\n        \"max\": 100.0,\n        \"num_unique_values\": 356,\n        \"samples\": [\n          51.8,\n          33.8\n        ],\n        \"semantic_type\": \"\",\n        \"description\": \"\"\n      }\n    },\n    {\n      \"column\": \"DIS\",\n      \"properties\": {\n        \"dtype\": \"number\",\n        \"std\": 2.105710126627611,\n        \"min\": 1.1296,\n        \"max\": 12.1265,\n        \"num_unique_values\": 412,\n        \"samples\": [\n          2.2955,\n          4.2515\n        ],\n        \"semantic_type\": \"\",\n        \"description\": \"\"\n      }\n    },\n    {\n      \"column\": \"RAD\",\n      \"properties\": {\n        \"dtype\": \"number\",\n        \"std\": 8.707259384239366,\n        \"min\": 1.0,\n        \"max\": 24.0,\n        \"num_unique_values\": 9,\n        \"samples\": [\n          7.0,\n          2.0\n        ],\n        \"semantic_type\": \"\",\n        \"description\": \"\"\n      }\n    },\n    {\n      \"column\": \"TAX\",\n      \"properties\": {\n        \"dtype\": \"number\",\n        \"std\": 168.53711605495903,\n        \"min\": 187.0,\n        \"max\": 711.0,\n        \"num_unique_values\": 66,\n        \"samples\": [\n          370.0,\n          666.0\n        ],\n        \"semantic_type\": \"\",\n        \"description\": \"\"\n      }\n    },\n    {\n      \"column\": \"PTRATIO\",\n      \"properties\": {\n        \"dtype\": \"number\",\n        \"std\": 2.1649455237144406,\n        \"min\": 12.6,\n        \"max\": 22.0,\n        \"num_unique_values\": 46,\n        \"samples\": [\n          19.6,\n          15.6\n        ],\n        \"semantic_type\": \"\",\n        \"description\": \"\"\n      }\n    },\n    {\n      \"column\": \"B\",\n      \"properties\": {\n        \"dtype\": \"number\",\n        \"std\": 91.29486438415783,\n        \"min\": 0.32,\n        \"max\": 396.9,\n        \"num_unique_values\": 357,\n        \"samples\": [\n          396.24,\n          395.11\n        ],\n        \"semantic_type\": \"\",\n        \"description\": \"\"\n      }\n    },\n    {\n      \"column\": \"LSTAT\",\n      \"properties\": {\n        \"dtype\": \"number\",\n        \"std\": 7.141061511348571,\n        \"min\": 1.73,\n        \"max\": 37.97,\n        \"num_unique_values\": 455,\n        \"samples\": [\n          6.15,\n          4.32\n        ],\n        \"semantic_type\": \"\",\n        \"description\": \"\"\n      }\n    },\n    {\n      \"column\": \"target\",\n      \"properties\": {\n        \"dtype\": \"number\",\n        \"std\": 9.197104087379818,\n        \"min\": 5.0,\n        \"max\": 50.0,\n        \"num_unique_values\": 229,\n        \"samples\": [\n          14.1,\n          22.5\n        ],\n        \"semantic_type\": \"\",\n        \"description\": \"\"\n      }\n    }\n  ]\n}"
            }
          },
          "metadata": {},
          "execution_count": 119
        }
      ]
    },
    {
      "cell_type": "markdown",
      "source": [
        "선형회귀를 위한 MLP 모델 설계"
      ],
      "metadata": {
        "id": "ZAGlIgbuRZf1"
      }
    },
    {
      "cell_type": "code",
      "source": [
        "import torch\n",
        "import torch.nn as nn\n",
        "import torch.nn.functional as F\n",
        "from torch.optim.adam import Adam   # 역전파 적용"
      ],
      "metadata": {
        "id": "wv6Cqjq2VppU"
      },
      "execution_count": 120,
      "outputs": []
    },
    {
      "cell_type": "code",
      "source": [
        "# 모델 정의\n",
        "model = nn.Sequential(\n",
        "      nn.Linear(13,100),\n",
        "      nn.ReLU(),\n",
        "      nn.Linear(100,100),\n",
        "      nn.ReLU(),\n",
        "      nn.Linear(100,1)\n",
        ")\n",
        "x = df.drop('target',axis=1).values\n",
        "y = df['target'].values\n",
        "x = torch.tensor(x,dtype=torch.float32)\n",
        "y = torch.tensor(y,dtype=torch.float32)"
      ],
      "metadata": {
        "id": "RkAR3ieYSS73"
      },
      "execution_count": 121,
      "outputs": []
    },
    {
      "cell_type": "code",
      "source": [
        "batch_size = 100\n",
        "learning_rate = 1e-3  # 0.001\n",
        "# 가중치 적용을 위한 최적화\n",
        "optim = Adam(model.parameters(), lr=learning_rate)"
      ],
      "metadata": {
        "id": "uFgxYsqURmlz"
      },
      "execution_count": 122,
      "outputs": []
    },
    {
      "cell_type": "code",
      "source": [
        "for epoch in range(1000):\n",
        "  # 배치 반복\n",
        "  for i in range(len(x)//batch_size):\n",
        "    start = i*batch_size\n",
        "    end = start + batch_size\n",
        "    x_batch = x[start:end]\n",
        "    y_batch = y[start:end]\n",
        "\n",
        "    # 기울기를 초기화\n",
        "    optim.zero_grad()\n",
        "    # 예측값\n",
        "    y_pred = model(x_batch)\n",
        "    # 손실함수\n",
        "    loss = F.mse_loss(y_pred,y_batch.unsqueeze(1))\n",
        "    loss.backward()  # 기울기 계산\n",
        "    optim.step()  # 적용\n",
        "  if (epoch+1) % 10 == 0:\n",
        "    print(f\"epoch : {epoch+1} loss : {loss.item()}\")"
      ],
      "metadata": {
        "id": "G5TdsscTSrPM"
      },
      "execution_count": null,
      "outputs": []
    },
    {
      "cell_type": "markdown",
      "source": [
        "모델 성능 평가"
      ],
      "metadata": {
        "id": "39MRohyCTu3V"
      }
    },
    {
      "cell_type": "code",
      "source": [
        "# 모델 성능평가\n",
        "with torch.no_grad():\n",
        "  y_pred = model(x)\n",
        "  loss = F.mse_loss(y_pred,y.unsqueeze(1))\n",
        "  print(f\"loss : {loss.item()}\")"
      ],
      "metadata": {
        "colab": {
          "base_uri": "https://localhost:8080/"
        },
        "id": "2am1_9KFSyp8",
        "outputId": "d40ba345-e9e8-4397-f9d6-00a55612b409"
      },
      "execution_count": 124,
      "outputs": [
        {
          "output_type": "stream",
          "name": "stdout",
          "text": [
            "loss : 8.739533424377441\n"
          ]
        }
      ]
    },
    {
      "cell_type": "code",
      "source": [
        "# 예측\n",
        "y_pred = model(x)\n",
        "y_pred = y_pred.detach().numpy()  # 텐서가 연산을 위해서 CPU OR GUP 적재되어 있는걸 꺼내서 numpy로 변경\n",
        "y_pred[1] , y[1]\n"
      ],
      "metadata": {
        "colab": {
          "base_uri": "https://localhost:8080/"
        },
        "collapsed": true,
        "id": "iQejgvwfT8es",
        "outputId": "d78781fa-97b3-4f9f-d0ce-b8e964b6bf39"
      },
      "execution_count": 126,
      "outputs": [
        {
          "output_type": "execute_result",
          "data": {
            "text/plain": [
              "(array([23.534737], dtype=float32), tensor(21.6000))"
            ]
          },
          "metadata": {},
          "execution_count": 126
        }
      ]
    },
    {
      "cell_type": "markdown",
      "source": [
        "결정계수를 이용한 평가\n",
        "  -  0 ~1 사이의 값인데 1에 가까울수록 좋은 성능"
      ],
      "metadata": {
        "id": "hUH_0UtEWAdk"
      }
    },
    {
      "cell_type": "code",
      "source": [
        "from sklearn.metrics import r2_score\n",
        "r2_score(y,y_pred)  # 1에 가까울수록 좋은 성능"
      ],
      "metadata": {
        "colab": {
          "base_uri": "https://localhost:8080/"
        },
        "id": "oxTws4JhV_2M",
        "outputId": "cc4e1b69-1bca-4ba8-f8e9-47f798520a64"
      },
      "execution_count": 127,
      "outputs": [
        {
          "output_type": "execute_result",
          "data": {
            "text/plain": [
              "0.8964750075757395"
            ]
          },
          "metadata": {},
          "execution_count": 127
        }
      ]
    },
    {
      "cell_type": "markdown",
      "source": [
        "동일한 모델로 다른 데이터를 예측하기"
      ],
      "metadata": {
        "id": "nj2WFNy3bJbj"
      }
    },
    {
      "cell_type": "code",
      "source": [
        "from sklearn.datasets import load_diabetes\n",
        "data = load_diabetes()\n",
        "x = data.data\n",
        "y = data.target\n",
        "x = torch.tensor(x,dtype=torch.float32)\n",
        "y = torch.tensor(y,dtype=torch.float32)\n",
        "#"
      ],
      "metadata": {
        "id": "dit3XJY_UaHz"
      },
      "execution_count": 134,
      "outputs": []
    },
    {
      "cell_type": "code",
      "source": [
        "x.shape, y.shape"
      ],
      "metadata": {
        "colab": {
          "base_uri": "https://localhost:8080/"
        },
        "id": "d3HMi0dMcAKZ",
        "outputId": "0daf1f4a-05ae-48ca-fd63-8be6d8492246"
      },
      "execution_count": 137,
      "outputs": [
        {
          "output_type": "execute_result",
          "data": {
            "text/plain": [
              "(torch.Size([442, 10]), torch.Size([442]))"
            ]
          },
          "metadata": {},
          "execution_count": 137
        }
      ]
    },
    {
      "cell_type": "code",
      "source": [
        "# 표준화\n",
        "from sklearn.preprocessing import StandardScaler\n",
        "scaler = StandardScaler()\n",
        "x = scaler.fit_transform(x)\n",
        "x = torch.tensor(x,dtype=torch.float32)\n",
        "x[:5], y[:5], x.shape"
      ],
      "metadata": {
        "colab": {
          "base_uri": "https://localhost:8080/"
        },
        "id": "_AS8SOlPcuhK",
        "outputId": "4716f147-fc7d-40ba-9e0b-8f3a3ef099c6"
      },
      "execution_count": 151,
      "outputs": [
        {
          "output_type": "execute_result",
          "data": {
            "text/plain": [
              "(tensor([[ 0.8005,  1.0655,  1.2971,  0.4598, -0.9297, -0.7321, -0.9125, -0.0545,\n",
              "           0.4185, -0.3710],\n",
              "         [-0.0396, -0.9385, -1.0822, -0.5535, -0.1776, -0.4029,  1.5644, -0.8303,\n",
              "          -1.4366, -1.9385],\n",
              "         [ 1.7933,  1.0655,  0.9345, -0.1192, -0.9587, -0.7189, -0.6802, -0.0545,\n",
              "           0.0602, -0.5452],\n",
              "         [-1.8724, -0.9385, -0.2438, -0.7706,  0.2563,  0.5254, -0.7576,  0.7213,\n",
              "           0.4770, -0.1968],\n",
              "         [ 0.1132, -0.9385, -0.7649,  0.4598,  0.0827,  0.3279,  0.1712, -0.0545,\n",
              "          -0.6725, -0.9806]]),\n",
              " tensor([151.,  75., 141., 206., 135.]),\n",
              " torch.Size([442, 10]))"
            ]
          },
          "metadata": {},
          "execution_count": 151
        }
      ]
    },
    {
      "cell_type": "code",
      "source": [
        "# 모델 정의\n",
        "model = nn.Sequential(\n",
        "      nn.Linear(10,100),\n",
        "      nn.ReLU(),\n",
        "      nn.Linear(100,1)\n",
        ")\n",
        "batch_size = 100\n",
        "learning_rate = 1e-3  # 0.001\n",
        "# 가중치 적용을 위한 최적화\n",
        "optim = Adam(model.parameters(), lr=learning_rate)\n",
        "# 학습\n",
        "for epoch in range(50000):\n",
        "  # 배치 반복\n",
        "  for i in range(len(x)//batch_size):\n",
        "    start = i*batch_size\n",
        "    end = start + batch_size\n",
        "    x_batch = x[start:end]\n",
        "    y_batch = y[start:end]\n",
        "\n",
        "    # 기울기를 초기화\n",
        "    optim.zero_grad()\n",
        "    # 예측값\n",
        "    y_pred = model(x_batch)\n",
        "    # 손실함수\n",
        "    loss = F.mse_loss(y_pred,y_batch.unsqueeze(1))\n",
        "    loss.backward()  # 기울기 계산\n",
        "    optim.step()  # 적용\n",
        "  if (epoch+1) % 100 == 0:\n",
        "    print(f\"epoch : {epoch+1} loss : {loss.item()}\")\n",
        "\n",
        "# 모델 성능평가\n",
        "with torch.no_grad():\n",
        "  y_pred = model(x)\n",
        "  loss = F.mse_loss(y_pred,y.unsqueeze(1))\n",
        "  print(f\"evaluation loss : {loss.item()}\")\n",
        "\n",
        "from sklearn.metrics import r2_score\n",
        "print(f\"r2_score : {r2_score(y,y_pred)}\")  # 1에 가까울수록 좋은 성능"
      ],
      "metadata": {
        "colab": {
          "base_uri": "https://localhost:8080/"
        },
        "id": "ysGcqYZhcH5p",
        "outputId": "c527c828-ff99-46bc-d9fd-8983b4d9159e"
      },
      "execution_count": null,
      "outputs": [
        {
          "output_type": "stream",
          "name": "stdout",
          "text": [
            "epoch : 100 loss : 11092.47265625\n",
            "epoch : 200 loss : 5212.65185546875\n",
            "epoch : 300 loss : 4017.189697265625\n",
            "epoch : 400 loss : 3369.59033203125\n",
            "epoch : 500 loss : 3078.494384765625\n",
            "epoch : 600 loss : 2948.989990234375\n"
          ]
        }
      ]
    },
    {
      "cell_type": "code",
      "source": [],
      "metadata": {
        "id": "1z66olyzcj2p"
      },
      "execution_count": null,
      "outputs": []
    }
  ]
}