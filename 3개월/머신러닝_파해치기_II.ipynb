{
  "nbformat": 4,
  "nbformat_minor": 0,
  "metadata": {
    "colab": {
      "provenance": []
    },
    "kernelspec": {
      "name": "python3",
      "display_name": "Python 3"
    },
    "language_info": {
      "name": "python"
    }
  },
  "cells": [
    {
      "cell_type": "code",
      "execution_count": null,
      "metadata": {
        "id": "um8dm23Oxk3q"
      },
      "outputs": [],
      "source": []
    },
    {
      "cell_type": "markdown",
      "source": [
        "- 머신러닝\n",
        "  - 선형회귀\n",
        "  - 다항회귀\n",
        "  - 릿지회귀\n",
        "  - 라쏘회귀\n",
        "  - ElasticNet 회귀\n",
        "  - 로지스틱 회귀\n",
        "  - 서포트벡터 회귀\n",
        "  - 결정트리 회귀\n",
        "  - 랜덤포레스트 회귀\n",
        "  - Gradient Boosting 회귀"
      ],
      "metadata": {
        "id": "oyvv8Fb6xpoW"
      }
    },
    {
      "cell_type": "markdown",
      "source": [
        "# 다항회귀\n",
        "  y = ax^2 + bx + c"
      ],
      "metadata": {
        "id": "ORh6zXeSyB1R"
      }
    },
    {
      "cell_type": "code",
      "source": [
        "import numpy as np"
      ],
      "metadata": {
        "id": "vDK_aiTwx4YY"
      },
      "execution_count": 1,
      "outputs": []
    },
    {
      "cell_type": "code",
      "source": [],
      "metadata": {
        "id": "BOmjfYXUy6ro"
      },
      "execution_count": null,
      "outputs": []
    },
    {
      "cell_type": "code",
      "source": [
        "def polynomial_regression(X,y,degree):\n",
        "  # X 행렬을 다항식 형태로 변환   입력받은 데이터는 차수가 1 -- >다항식 데이터 변경  x^2 + x +  1\n",
        "  X_poly = np.ones( (X.shape[0], degree + 1) )\n",
        "  for i in range(1, degree + 1):\n",
        "    X_poly[:, i] = X[:,0]**2\n",
        "\n",
        "  # 계수 계산(최소 제곱법을 사용)\n",
        "  # X_poly.T @ X_poly * a = X_poly.T * y 를 풀기위해 선형대수학의 역행렬 사용\n",
        "  coeffs = np.linalg.inv(X_poly.T @ X_poly) @ X_poly.T @ y\n",
        "  return coeffs\n",
        "\n",
        "# 예측함수\n",
        "def predict(X, coeffs):\n",
        "  degree = len(coeffs) -1\n",
        "  X_poly = np.ones((X.shape[0], degree+1))\n",
        "  for i in range(1, degree + 1):\n",
        "    X_poly[:,i] = X[:,0]**i\n",
        "  return X_poly @ coeffs"
      ],
      "metadata": {
        "id": "dRQnsqEVyb83"
      },
      "execution_count": 2,
      "outputs": []
    },
    {
      "cell_type": "code",
      "source": [
        "# 데이터 생성(비선형 데이터)\n",
        "np.random.seed(42)\n",
        "# np.random.rand(100,1)  # 0 ~ 1 임의의 데이터를 100x1의 행렬로 생성\n",
        "X = np.random.rand(100,1)*6-3  # -3 ~ 3  셈플 100개를 추출\n",
        "# 2차 방정식에 노이즈 추가\n",
        "y = 0.5*X**2 + X + 2 + np.random.randn(100,1) # 0.5x^2 + x + 2"
      ],
      "metadata": {
        "id": "xqQuipgi0MUG"
      },
      "execution_count": 10,
      "outputs": []
    },
    {
      "cell_type": "code",
      "source": [
        " # 행렬생성\n",
        " # degree 2 즉 2차원이면 샘플은 [1, x, x^2]\n",
        "degree = 2\n",
        "X_poly = np.ones( (X.shape[0], degree + 1) )\n",
        "for i in range(1, 3):\n",
        "  X_poly[:,i] = X[:,0]**i\n",
        "\n",
        "# X_poly --> 1, x ,x^2"
      ],
      "metadata": {
        "colab": {
          "base_uri": "https://localhost:8080/"
        },
        "collapsed": true,
        "id": "9cH7ILco1wk9",
        "outputId": "66d4fcb9-1c03-48c1-9e62-36dd10714884"
      },
      "execution_count": 16,
      "outputs": [
        {
          "output_type": "execute_result",
          "data": {
            "text/plain": [
              "array([[ 1.00000000e+00, -7.52759287e-01,  5.66646544e-01],\n",
              "       [ 1.00000000e+00,  2.70428584e+00,  7.31316190e+00],\n",
              "       [ 1.00000000e+00,  1.39196365e+00,  1.93756281e+00],\n",
              "       [ 1.00000000e+00,  5.91950905e-01,  3.50405874e-01],\n",
              "       [ 1.00000000e+00, -2.06388816e+00,  4.25963433e+00],\n",
              "       [ 1.00000000e+00, -2.06403288e+00,  4.26023172e+00],\n",
              "       [ 1.00000000e+00, -2.65149833e+00,  7.03044338e+00],\n",
              "       [ 1.00000000e+00,  2.19705687e+00,  4.82705891e+00],\n",
              "       [ 1.00000000e+00,  6.06690070e-01,  3.68072842e-01],\n",
              "       [ 1.00000000e+00,  1.24843547e+00,  1.55859111e+00],\n",
              "       [ 1.00000000e+00, -2.87649303e+00,  8.27421218e+00],\n",
              "       [ 1.00000000e+00,  2.81945911e+00,  7.94934969e+00],\n",
              "       [ 1.00000000e+00,  1.99465584e+00,  3.97865194e+00],\n",
              "       [ 1.00000000e+00, -1.72596534e+00,  2.97895634e+00],\n",
              "       [ 1.00000000e+00, -1.90905020e+00,  3.64447265e+00],\n",
              "       [ 1.00000000e+00, -1.89957294e+00,  3.60837736e+00],\n",
              "       [ 1.00000000e+00, -1.17454654e+00,  1.37955958e+00],\n",
              "       [ 1.00000000e+00,  1.48538590e-01,  2.20637127e-02],\n",
              "       [ 1.00000000e+00, -4.08329888e-01,  1.66733298e-01],\n",
              "       [ 1.00000000e+00, -1.25262516e+00,  1.56906979e+00],\n",
              "       [ 1.00000000e+00,  6.71117368e-01,  4.50398522e-01],\n",
              "       [ 1.00000000e+00, -2.16303684e+00,  4.67872835e+00],\n",
              "       [ 1.00000000e+00, -1.24713211e+00,  1.55533850e+00],\n",
              "       [ 1.00000000e+00, -8.01828940e-01,  6.42929649e-01],\n",
              "       [ 1.00000000e+00, -2.63580095e-01,  6.94744663e-02],\n",
              "       [ 1.00000000e+00,  1.71105577e+00,  2.92771184e+00],\n",
              "       [ 1.00000000e+00, -1.80195731e+00,  3.24705014e+00],\n",
              "       [ 1.00000000e+00,  8.54066305e-02,  7.29429253e-03],\n",
              "       [ 1.00000000e+00,  5.54487413e-01,  3.07456291e-01],\n",
              "       [ 1.00000000e+00, -2.72129752e+00,  7.40546021e+00],\n",
              "       [ 1.00000000e+00,  6.45269111e-01,  4.16372226e-01],\n",
              "       [ 1.00000000e+00, -1.97685526e+00,  3.90795671e+00],\n",
              "       [ 1.00000000e+00, -2.60969044e+00,  6.81048420e+00],\n",
              "       [ 1.00000000e+00,  2.69331322e+00,  7.25393612e+00],\n",
              "       [ 1.00000000e+00,  2.79379220e+00,  7.80527485e+00],\n",
              "       [ 1.00000000e+00,  1.85038409e+00,  3.42392128e+00],\n",
              "       [ 1.00000000e+00, -1.17231738e+00,  1.37432805e+00],\n",
              "       [ 1.00000000e+00, -2.41396732e+00,  5.82723820e+00],\n",
              "       [ 1.00000000e+00,  1.10539816e+00,  1.22190509e+00],\n",
              "       [ 1.00000000e+00, -3.59085038e-01,  1.28942064e-01],\n",
              "       [ 1.00000000e+00, -2.26777059e+00,  5.14278345e+00],\n",
              "       [ 1.00000000e+00, -2.89385393e-02,  8.37439059e-04],\n",
              "       [ 1.00000000e+00, -2.79366887e+00,  7.80458577e+00],\n",
              "       [ 1.00000000e+00,  2.45592241e+00,  6.03155490e+00],\n",
              "       [ 1.00000000e+00, -1.44732011e+00,  2.09473550e+00],\n",
              "       [ 1.00000000e+00,  9.75133706e-01,  9.50885745e-01],\n",
              "       [ 1.00000000e+00, -1.12973354e+00,  1.27629788e+00],\n",
              "       [ 1.00000000e+00,  1.20408127e-01,  1.44981171e-02],\n",
              "       [ 1.00000000e+00,  2.80261676e-01,  7.85466071e-02],\n",
              "       [ 1.00000000e+00, -1.89087327e+00,  3.57540171e+00],\n",
              "       [ 1.00000000e+00,  2.81750777e+00,  7.93835001e+00],\n",
              "       [ 1.00000000e+00,  1.65079694e+00,  2.72513054e+00],\n",
              "       [ 1.00000000e+00,  2.63699365e+00,  6.95373551e+00],\n",
              "       [ 1.00000000e+00,  2.36896410e+00,  5.61199092e+00],\n",
              "       [ 1.00000000e+00,  5.87399873e-01,  3.45038611e-01],\n",
              "       [ 1.00000000e+00,  2.53124541e+00,  6.40720333e+00],\n",
              "       [ 1.00000000e+00, -2.46904499e+00,  6.09618315e+00],\n",
              "       [ 1.00000000e+00, -1.82410283e+00,  3.32735112e+00],\n",
              "       [ 1.00000000e+00, -2.72863627e+00,  7.44545588e+00],\n",
              "       [ 1.00000000e+00, -1.04801802e+00,  1.09834176e+00],\n",
              "       [ 1.00000000e+00, -6.67936262e-01,  4.46138850e-01],\n",
              "       [ 1.00000000e+00, -1.37190581e+00,  1.88212555e+00],\n",
              "       [ 1.00000000e+00,  1.97242505e+00,  3.89046060e+00],\n",
              "       [ 1.00000000e+00, -8.59480040e-01,  7.38705939e-01],\n",
              "       [ 1.00000000e+00, -1.31439294e+00,  1.72762881e+00],\n",
              "       [ 1.00000000e+00,  2.56176499e-01,  6.56263986e-02],\n",
              "       [ 1.00000000e+00, -2.15445465e+00,  4.64167484e+00],\n",
              "       [ 1.00000000e+00,  1.81318188e+00,  3.28762855e+00],\n",
              "       [ 1.00000000e+00, -2.55269614e+00,  6.51625757e+00],\n",
              "       [ 1.00000000e+00,  2.92132162e+00,  8.53412001e+00],\n",
              "       [ 1.00000000e+00,  1.63346862e+00,  2.66821972e+00],\n",
              "       [ 1.00000000e+00, -1.80770591e+00,  3.26780066e+00],\n",
              "       [ 1.00000000e+00, -2.96686730e+00,  8.80230156e+00],\n",
              "       [ 1.00000000e+00,  1.89276857e+00,  3.58257286e+00],\n",
              "       [ 1.00000000e+00,  1.24114406e+00,  1.54043859e+00],\n",
              "       [ 1.00000000e+00,  1.37404301e+00,  1.88799419e+00],\n",
              "       [ 1.00000000e+00,  1.62762208e+00,  2.64915364e+00],\n",
              "       [ 1.00000000e+00, -2.55573209e+00,  6.53176651e+00],\n",
              "       [ 1.00000000e+00, -8.49205629e-01,  7.21150200e-01],\n",
              "       [ 1.00000000e+00, -2.30478564e+00,  5.31203686e+00],\n",
              "       [ 1.00000000e+00,  2.17862056e+00,  4.74638752e+00],\n",
              "       [ 1.00000000e+00,  7.39788761e-01,  5.47287411e-01],\n",
              "       [ 1.00000000e+00, -1.01461185e+00,  1.02943721e+00],\n",
              "       [ 1.00000000e+00, -2.61864990e+00,  6.85732729e+00],\n",
              "       [ 1.00000000e+00, -1.13410607e+00,  1.28619658e+00],\n",
              "       [ 1.00000000e+00, -1.04890007e+00,  1.10019135e+00],\n",
              "       [ 1.00000000e+00,  1.37763707e+00,  1.89788390e+00],\n",
              "       [ 1.00000000e+00,  8.25344828e-01,  6.81194085e-01],\n",
              "       [ 1.00000000e+00,  2.32327646e+00,  5.39761349e+00],\n",
              "       [ 1.00000000e+00, -1.66710449e-01,  2.77923738e-02],\n",
              "       [ 1.00000000e+00, -2.28243452e+00,  5.20950736e+00],\n",
              "       [ 1.00000000e+00,  1.27946872e+00,  1.63704021e+00],\n",
              "       [ 1.00000000e+00,  1.56471029e+00,  2.44831830e+00],\n",
              "       [ 1.00000000e+00,  3.67663185e-01,  1.35176218e-01],\n",
              "       [ 1.00000000e+00,  1.62580308e+00,  2.64323565e+00],\n",
              "       [ 1.00000000e+00, -3.72264218e-02,  1.38580648e-03],\n",
              "       [ 1.00000000e+00,  1.36396976e-01,  1.86041351e-02],\n",
              "       [ 1.00000000e+00, -4.34753890e-01,  1.89010945e-01],\n",
              "       [ 1.00000000e+00, -2.84748524e+00,  8.10817219e+00],\n",
              "       [ 1.00000000e+00, -2.35265144e+00,  5.53496879e+00]])"
            ]
          },
          "metadata": {},
          "execution_count": 16
        }
      ]
    },
    {
      "cell_type": "code",
      "source": [
        "# 선형대수학에서 y=ax 에서 x는 다항식으로 입력된 데이터이고 a는 회귀계수 y는 실제값\n",
        "# 최소 제곱법\n",
        "# 다항식에서 회귀 계수를 찾는데.. 실제값과 함수를 통해 나온 값이 가장 잘 맞도록 예측값의 오차가 최소가되는 회귀계수\n",
        "# 오차 정의   e = y - y^\n",
        "# 목표 : 오차의 제곱합 최소화\n",
        "# SSE sum of squared error\n",
        "# 수식을 최소화--> 최소 제곱법\n",
        "# 다항 회귀 문제는 행렬 방정식으로 표현\n",
        "# 독립변수 X를 다항식 형태로 변환한다음 행렬 방정식을 구함\n",
        "# y = Xa\n",
        "# y는 n x 1 의 형태\n",
        "# X는 n x (d + 1)"
      ],
      "metadata": {
        "id": "Q9cfOVeO2bhs"
      },
      "execution_count": 17,
      "outputs": []
    },
    {
      "cell_type": "markdown",
      "source": [
        "- 데이터를 행렬 방정식으로 변환"
      ],
      "metadata": {
        "id": "Gin7NxYk6hr7"
      }
    },
    {
      "cell_type": "markdown",
      "source": [
        "![image.png](data:image/png;base64,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)"
      ],
      "metadata": {
        "id": "k5TnPdgb6Fqb"
      }
    },
    {
      "cell_type": "markdown",
      "source": [
        "![image.png](data:image/png;base64,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)"
      ],
      "metadata": {
        "id": "aimD_sYO6B5s"
      }
    },
    {
      "cell_type": "code",
      "source": [
        "# a는 (d + 1) x 1크기의 회귀 계수벡터"
      ],
      "metadata": {
        "id": "L8vNa3ao4bBl"
      },
      "execution_count": null,
      "outputs": []
    },
    {
      "cell_type": "markdown",
      "source": [
        "![image.png](data:image/png;base64,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)"
      ],
      "metadata": {
        "id": "gztj-qps6YoD"
      }
    },
    {
      "cell_type": "markdown",
      "source": [
        "- y = Xa 를 구하기 위해서 최소제곱법을 사용한 해\n",
        "\n",
        "![image.png](data:image/png;base64,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)"
      ],
      "metadata": {
        "id": "flSNenKR6qub"
      }
    },
    {
      "cell_type": "code",
      "source": [],
      "metadata": {
        "id": "aQJzAhJd6as7"
      },
      "execution_count": null,
      "outputs": []
    }
  ]
}