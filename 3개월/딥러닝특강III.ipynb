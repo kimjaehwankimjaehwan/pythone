{
  "nbformat": 4,
  "nbformat_minor": 0,
  "metadata": {
    "colab": {
      "provenance": []
    },
    "kernelspec": {
      "name": "python3",
      "display_name": "Python 3"
    },
    "language_info": {
      "name": "python"
    }
  },
  "cells": [
    {
      "cell_type": "code",
      "execution_count": null,
      "metadata": {
        "id": "rW7V6y3aZltO"
      },
      "outputs": [],
      "source": [
        "import matplotlib.pyplot as plt\n",
        "from torchvision.datasets import MNIST\n",
        "from torchvision.transforms import ToTensor"
      ]
    },
    {
      "cell_type": "code",
      "source": [
        "# 데이터 분리\n",
        "train_data = MNIST(root='./data', train=True, download=True, transform=ToTensor())\n",
        "test_data = MNIST(root='./data', train=False, download=True, transform=ToTensor())"
      ],
      "metadata": {
        "colab": {
          "base_uri": "https://localhost:8080/"
        },
        "collapsed": true,
        "id": "Xa6pMBfQaE7n",
        "outputId": "809d199c-f6a5-4638-b802-1dbb16195378"
      },
      "execution_count": null,
      "outputs": [
        {
          "output_type": "stream",
          "name": "stdout",
          "text": [
            "Downloading http://yann.lecun.com/exdb/mnist/train-images-idx3-ubyte.gz\n",
            "Failed to download (trying next):\n",
            "HTTP Error 403: Forbidden\n",
            "\n",
            "Downloading https://ossci-datasets.s3.amazonaws.com/mnist/train-images-idx3-ubyte.gz\n",
            "Downloading https://ossci-datasets.s3.amazonaws.com/mnist/train-images-idx3-ubyte.gz to ./data/MNIST/raw/train-images-idx3-ubyte.gz\n"
          ]
        },
        {
          "output_type": "stream",
          "name": "stderr",
          "text": [
            "100%|██████████| 9912422/9912422 [00:00<00:00, 94075039.81it/s]"
          ]
        },
        {
          "output_type": "stream",
          "name": "stdout",
          "text": [
            "Extracting ./data/MNIST/raw/train-images-idx3-ubyte.gz to ./data/MNIST/raw\n"
          ]
        },
        {
          "output_type": "stream",
          "name": "stderr",
          "text": [
            "\n"
          ]
        },
        {
          "output_type": "stream",
          "name": "stdout",
          "text": [
            "\n",
            "Downloading http://yann.lecun.com/exdb/mnist/train-labels-idx1-ubyte.gz\n",
            "Failed to download (trying next):\n",
            "HTTP Error 403: Forbidden\n",
            "\n",
            "Downloading https://ossci-datasets.s3.amazonaws.com/mnist/train-labels-idx1-ubyte.gz\n",
            "Downloading https://ossci-datasets.s3.amazonaws.com/mnist/train-labels-idx1-ubyte.gz to ./data/MNIST/raw/train-labels-idx1-ubyte.gz\n"
          ]
        },
        {
          "output_type": "stream",
          "name": "stderr",
          "text": [
            "100%|██████████| 28881/28881 [00:00<00:00, 35923989.86it/s]"
          ]
        },
        {
          "output_type": "stream",
          "name": "stdout",
          "text": [
            "Extracting ./data/MNIST/raw/train-labels-idx1-ubyte.gz to ./data/MNIST/raw\n",
            "\n",
            "Downloading http://yann.lecun.com/exdb/mnist/t10k-images-idx3-ubyte.gz\n"
          ]
        },
        {
          "output_type": "stream",
          "name": "stderr",
          "text": [
            "\n"
          ]
        },
        {
          "output_type": "stream",
          "name": "stdout",
          "text": [
            "Failed to download (trying next):\n",
            "HTTP Error 403: Forbidden\n",
            "\n",
            "Downloading https://ossci-datasets.s3.amazonaws.com/mnist/t10k-images-idx3-ubyte.gz\n",
            "Downloading https://ossci-datasets.s3.amazonaws.com/mnist/t10k-images-idx3-ubyte.gz to ./data/MNIST/raw/t10k-images-idx3-ubyte.gz\n"
          ]
        },
        {
          "output_type": "stream",
          "name": "stderr",
          "text": [
            "100%|██████████| 1648877/1648877 [00:00<00:00, 56676020.46it/s]"
          ]
        },
        {
          "output_type": "stream",
          "name": "stdout",
          "text": [
            "Extracting ./data/MNIST/raw/t10k-images-idx3-ubyte.gz to ./data/MNIST/raw\n",
            "\n",
            "Downloading http://yann.lecun.com/exdb/mnist/t10k-labels-idx1-ubyte.gz\n"
          ]
        },
        {
          "output_type": "stream",
          "name": "stderr",
          "text": [
            "\n"
          ]
        },
        {
          "output_type": "stream",
          "name": "stdout",
          "text": [
            "Failed to download (trying next):\n",
            "HTTP Error 403: Forbidden\n",
            "\n",
            "Downloading https://ossci-datasets.s3.amazonaws.com/mnist/t10k-labels-idx1-ubyte.gz\n",
            "Downloading https://ossci-datasets.s3.amazonaws.com/mnist/t10k-labels-idx1-ubyte.gz to ./data/MNIST/raw/t10k-labels-idx1-ubyte.gz\n"
          ]
        },
        {
          "output_type": "stream",
          "name": "stderr",
          "text": [
            "100%|██████████| 4542/4542 [00:00<00:00, 3311983.44it/s]"
          ]
        },
        {
          "output_type": "stream",
          "name": "stdout",
          "text": [
            "Extracting ./data/MNIST/raw/t10k-labels-idx1-ubyte.gz to ./data/MNIST/raw\n",
            "\n"
          ]
        },
        {
          "output_type": "stream",
          "name": "stderr",
          "text": [
            "\n"
          ]
        }
      ]
    },
    {
      "cell_type": "code",
      "source": [
        "len(train_data), len(test_data)"
      ],
      "metadata": {
        "colab": {
          "base_uri": "https://localhost:8080/"
        },
        "id": "nztyOstPaV6l",
        "outputId": "04a00e86-de77-482e-c232-871bffca1437"
      },
      "execution_count": null,
      "outputs": [
        {
          "output_type": "execute_result",
          "data": {
            "text/plain": [
              "(60000, 10000)"
            ]
          },
          "metadata": {},
          "execution_count": 12
        }
      ]
    },
    {
      "cell_type": "code",
      "source": [
        "for i in range(9):\n",
        "  plt.subplot(3, 3, i+1)\n",
        "  plt.imshow(train_data.data[i],cmap='gray_r')\n",
        "  plt.axis('off')\n",
        "plt.show()"
      ],
      "metadata": {
        "colab": {
          "base_uri": "https://localhost:8080/",
          "height": 406
        },
        "id": "-zD3QqFhahl-",
        "outputId": "afc92d1f-eb2f-4873-8160-d504dbaad006"
      },
      "execution_count": null,
      "outputs": [
        {
          "output_type": "display_data",
          "data": {
            "text/plain": [
              "<Figure size 640x480 with 9 Axes>"
            ],
            "image/png": "[encoded data removed]"
          },
          "metadata": {}
        }
      ]
    },
    {
      "cell_type": "markdown",
      "source": [
        "학습데이터와 평가데이터의 데이터로드 정의"
      ],
      "metadata": {
        "id": "axnEoxDZdHCe"
      }
    },
    {
      "cell_type": "code",
      "source": [
        "from torch.utils.data.dataloader import DataLoader\n",
        "train_loader = DataLoader(train_data, batch_size=32, shuffle=True)\n",
        "test_loader = DataLoader(test_data, batch_size=32, shuffle=False)"
      ],
      "metadata": {
        "id": "wPeKzB0Vd_G_"
      },
      "execution_count": null,
      "outputs": []
    },
    {
      "cell_type": "code",
      "source": [
        "first_data = next(iter(train_loader))\n",
        "# 데이터와, 정답\n",
        "first_data[0].shape, first_data[1].shape"
      ],
      "metadata": {
        "colab": {
          "base_uri": "https://localhost:8080/"
        },
        "id": "gNsuYzZqeObH",
        "outputId": "0e7ec272-72d0-44c6-ac7b-df34aa546c37"
      },
      "execution_count": null,
      "outputs": [
        {
          "output_type": "execute_result",
          "data": {
            "text/plain": [
              "torch.Size([32, 1, 28, 28])"
            ]
          },
          "metadata": {},
          "execution_count": 23
        }
      ]
    },
    {
      "cell_type": "code",
      "source": [
        "for data,target in train_loader:\n",
        "  print(data, target)\n",
        "  break\n"
      ],
      "metadata": {
        "colab": {
          "base_uri": "https://localhost:8080/"
        },
        "id": "aVfuF_ApeQD-",
        "outputId": "b67317b9-7414-431c-b9fd-e97b07ebdccb"
      },
      "execution_count": null,
      "outputs": [
        {
          "output_type": "execute_result",
          "data": {
            "text/plain": [
              "1875"
            ]
          },
          "metadata": {},
          "execution_count": 25
        }
      ]
    },
    {
      "cell_type": "markdown",
      "source": [
        "모델 학습"
      ],
      "metadata": {
        "id": "HNnune-nfJun"
      }
    },
    {
      "cell_type": "code",
      "source": [
        "import torch\n",
        "import torch.nn as nn\n",
        "from torch.optim.adam import Adam\n",
        "device = 'cuda' if torch.cuda.is_available() else 'cpu'"
      ],
      "metadata": {
        "id": "Z8NfpmHgfZP_"
      },
      "execution_count": null,
      "outputs": []
    },
    {
      "cell_type": "code",
      "source": [
        "# 모델만들기\n",
        "model = nn.Sequential(\n",
        "    nn.Flatten(),\n",
        "    nn.Linear(28*28, 64),\n",
        "    nn.ReLU(),\n",
        "    nn.Linear(64,64),\n",
        "    nn.ReLU(),\n",
        "    nn.Linear(64,10)\n",
        ").to(device)  # 모델의 파라메터를 device로 보냄\n",
        "\n",
        "lr = 1e-3\n",
        "optim = Adam(model.parameters(), lr=lr)\n",
        "loss_fn = nn.CrossEntropyLoss() # 분류모델에 사용\n",
        "\n",
        "for epoch in range(20):\n",
        "  for data, target in train_loader:\n",
        "    data, target = data.to(device), target.to(device)\n",
        "    # 예측\n",
        "    preds = model(data)  # 예측\n",
        "    # 손실함수\n",
        "    loss = loss_fn(preds, target)\n",
        "    loss.backward()\n",
        "    optim.step()\n",
        "    optim.zero_grad()\n",
        "  print(f'epoch: {epoch+1}, loss: {loss.item()}')"
      ],
      "metadata": {
        "colab": {
          "base_uri": "https://localhost:8080/"
        },
        "id": "dXHLeJuDfaoW",
        "outputId": "2c4e02b7-e3f5-473b-db94-e6c90f8acebd"
      },
      "execution_count": null,
      "outputs": [
        {
          "output_type": "stream",
          "name": "stdout",
          "text": [
            "epoch: 1, loss: 0.24656841158866882\n",
            "epoch: 2, loss: 0.026895124465227127\n",
            "epoch: 3, loss: 0.2363821268081665\n",
            "epoch: 4, loss: 0.011053193360567093\n",
            "epoch: 5, loss: 0.020385198295116425\n",
            "epoch: 6, loss: 0.003477976191788912\n",
            "epoch: 7, loss: 0.04955762252211571\n",
            "epoch: 8, loss: 0.0037665939889848232\n",
            "epoch: 9, loss: 0.0014378507621586323\n",
            "epoch: 10, loss: 0.001987736439332366\n",
            "epoch: 11, loss: 0.00019350004731677473\n",
            "epoch: 12, loss: 5.215200872044079e-05\n",
            "epoch: 13, loss: 0.0052414205856621265\n",
            "epoch: 14, loss: 0.002456887159496546\n",
            "epoch: 15, loss: 0.06589900702238083\n",
            "epoch: 16, loss: 0.008975119329988956\n",
            "epoch: 17, loss: 0.01055232435464859\n",
            "epoch: 18, loss: 0.0007119989604689181\n",
            "epoch: 19, loss: 0.14770953357219696\n",
            "epoch: 20, loss: 0.0007430081022903323\n"
          ]
        }
      ]
    },
    {
      "cell_type": "markdown",
      "source": [
        "모델 저장"
      ],
      "metadata": {
        "id": "nNLJFI5hjU7m"
      }
    },
    {
      "cell_type": "code",
      "source": [
        "torch.save(model.state_dict(), 'model.pth')  # 모델의 가중치만을 저장  불러오려면... 가중치를 저장했던 모델의 구조를 그대로 만들어서 불러와야 한다."
      ],
      "metadata": {
        "id": "BH0y_PKQjTIG"
      },
      "execution_count": null,
      "outputs": []
    },
    {
      "cell_type": "markdown",
      "source": [
        "저장한 모델 불러오기"
      ],
      "metadata": {
        "id": "hI4kHuhdjllm"
      }
    },
    {
      "cell_type": "code",
      "source": [
        "# 모델만들기\n",
        "model2 = nn.Sequential(\n",
        "    nn.Flatten(),\n",
        "    nn.Linear(28*28, 64),\n",
        "    nn.ReLU(),\n",
        "    nn.Linear(64,64),\n",
        "    nn.ReLU(),\n",
        "    nn.Linear(64,10)\n",
        ").to(device)  # 모델의 파라메터를 device로 보냄\n",
        "\n",
        "model2.load_state_dict(torch.load('model.pth'))"
      ],
      "metadata": {
        "colab": {
          "base_uri": "https://localhost:8080/"
        },
        "id": "fGara5YZjh7O",
        "outputId": "5bd2c5da-b41a-4ddb-ed93-24b1dbc76fc0"
      },
      "execution_count": null,
      "outputs": [
        {
          "output_type": "stream",
          "name": "stderr",
          "text": [
            "<ipython-input-32-1cad345f177e>:11: FutureWarning: You are using `torch.load` with `weights_only=False` (the current default value), which uses the default pickle module implicitly. It is possible to construct malicious pickle data which will execute arbitrary code during unpickling (See https://github.com/pytorch/pytorch/blob/main/SECURITY.md#untrusted-models for more details). In a future release, the default value for `weights_only` will be flipped to `True`. This limits the functions that could be executed during unpickling. Arbitrary objects will no longer be allowed to be loaded via this mode unless they are explicitly allowlisted by the user via `torch.serialization.add_safe_globals`. We recommend you start setting `weights_only=True` for any use case where you don't have full control of the loaded file. Please open an issue on GitHub for any issues related to this experimental feature.\n",
            "  model2.load_state_dict(torch.load('model.pth'))\n"
          ]
        },
        {
          "output_type": "execute_result",
          "data": {
            "text/plain": [
              "<All keys matched successfully>"
            ]
          },
          "metadata": {},
          "execution_count": 32
        }
      ]
    },
    {
      "cell_type": "markdown",
      "source": [
        "평가"
      ],
      "metadata": {
        "id": "rDtoXlI7kHSw"
      }
    },
    {
      "cell_type": "code",
      "source": [
        "num_correct = 0  # 맞춘개수\n",
        "with torch.no_grad():\n",
        "  for data, target in test_loader:\n",
        "    data, target = data.to(device), target.to(device)\n",
        "    # 예측\n",
        "    preds = model2(data)  # 예측\n",
        "    # print(f'예측한 클래스 : {preds.argmax(dim=1)}')\n",
        "    # print(f'target : {target}')\n",
        "    # 올바르게 분류한 개수\n",
        "    # print(output.eq(target).sum())\n",
        "    # break\n",
        "    output = preds.argmax(dim=1)\n",
        "    num_correct += output.eq(target).sum()\n",
        "\n",
        "print(f'정확도 : {num_correct/len(test_data)}')\n"
      ],
      "metadata": {
        "colab": {
          "base_uri": "https://localhost:8080/"
        },
        "id": "hFAkIyFjj_sv",
        "outputId": "6c42aab4-b3c3-498a-9fe8-8c55d80991bf"
      },
      "execution_count": null,
      "outputs": [
        {
          "output_type": "stream",
          "name": "stdout",
          "text": [
            "정확도 : 0.9745000004768372\n"
          ]
        }
      ]
    },
    {
      "cell_type": "markdown",
      "source": [
        "컬러이미지"
      ],
      "metadata": {
        "id": "40OZis9VoirI"
      }
    },
    {
      "cell_type": "code",
      "source": [
        "from torchvision.datasets import CIFAR10"
      ],
      "metadata": {
        "id": "_P1TO1mAkiWO"
      },
      "execution_count": null,
      "outputs": []
    },
    {
      "cell_type": "code",
      "source": [
        "train_data = CIFAR10(root='./data2', train=True, download=True, transform=ToTensor())\n",
        "test_data = CIFAR10(root='./data2', train=False, download=True, transform=ToTensor())"
      ],
      "metadata": {
        "colab": {
          "base_uri": "https://localhost:8080/"
        },
        "id": "ldNVj_uBos0_",
        "outputId": "fbc00e2c-084a-47bf-ca1e-b18ddd1b773e"
      },
      "execution_count": null,
      "outputs": [
        {
          "output_type": "stream",
          "name": "stdout",
          "text": [
            "Downloading https://www.cs.toronto.edu/~kriz/cifar-10-python.tar.gz to ./data2/cifar-10-python.tar.gz\n"
          ]
        },
        {
          "output_type": "stream",
          "name": "stderr",
          "text": [
            "100%|██████████| 170498071/170498071 [00:02<00:00, 62389413.04it/s]\n"
          ]
        },
        {
          "output_type": "stream",
          "name": "stdout",
          "text": [
            "Extracting ./data2/cifar-10-python.tar.gz to ./data2\n",
            "Files already downloaded and verified\n"
          ]
        }
      ]
    },
    {
      "cell_type": "code",
      "source": [
        "for data, target in train_data:\n",
        "  print(data.shape,target)\n",
        "  break"
      ],
      "metadata": {
        "colab": {
          "base_uri": "https://localhost:8080/"
        },
        "id": "1I106DEnpAq2",
        "outputId": "b901fe24-0a5b-4bb0-e27d-b142692bffff"
      },
      "execution_count": null,
      "outputs": [
        {
          "output_type": "stream",
          "name": "stdout",
          "text": [
            "torch.Size([3, 32, 32]) 6\n"
          ]
        }
      ]
    },
    {
      "cell_type": "code",
      "source": [
        "# 데이터 로더\n",
        "train_loader = DataLoader(train_data, batch_size=32, shuffle=True)\n",
        "test_loader = DataLoader(test_data, batch_size=32, shuffle=False)"
      ],
      "metadata": {
        "id": "tvwcod2qpReG"
      },
      "execution_count": null,
      "outputs": []
    },
    {
      "cell_type": "code",
      "source": [
        "for data, target in train_loader:\n",
        "  print(data.shape, target)\n",
        "  break"
      ],
      "metadata": {
        "colab": {
          "base_uri": "https://localhost:8080/"
        },
        "id": "_n1mEUf8p96P",
        "outputId": "99ff5821-2abc-43a0-a5ec-3effac5148c0"
      },
      "execution_count": null,
      "outputs": [
        {
          "output_type": "stream",
          "name": "stdout",
          "text": [
            "torch.Size([32, 3, 32, 32]) tensor([2, 4, 8, 6, 3, 5, 7, 2, 7, 4, 1, 9, 3, 4, 2, 5, 4, 3, 4, 6, 8, 8, 6, 2,\n",
            "        7, 2, 8, 0, 3, 6, 2, 4])\n"
          ]
        }
      ]
    },
    {
      "cell_type": "code",
      "source": [
        "# 로더에서 배치사이즈 마큼 데이터 한번 가져오면\n",
        "imsi = next(iter(train_loader))[0]\n",
        "for i in range(9):\n",
        "  plt.subplot(3, 3, i+1)\n",
        "  plt.imshow(imsi[i].permute(1,2,0))  # 그림을 그리기 위해서는 rgb의 정보가 마지막 (채널,가로,세로) ->(가로,세로,채널)\n",
        "  plt.axis('off')\n",
        "plt.show()"
      ],
      "metadata": {
        "colab": {
          "base_uri": "https://localhost:8080/",
          "height": 406
        },
        "id": "gRuPL-S9qfnQ",
        "outputId": "446d9791-879f-4d9e-d44f-eb649c06aa5e"
      },
      "execution_count": null,
      "outputs": [
        {
          "output_type": "display_data",
          "data": {
            "text/plain": [
              "<Figure size 640x480 with 9 Axes>"
            ],
            "image/png": "[encoded data removed]"
          },
          "metadata": {}
        }
      ]
    },
    {
      "cell_type": "markdown",
      "source": [
        "데이터를 증폭\n",
        "  - 프롭핑과 뒤집기를 추가"
      ],
      "metadata": {
        "id": "ndcL2i4orgS4"
      }
    },
    {
      "cell_type": "code",
      "source": [
        "import torchvision.transforms as T\n",
        "from torchvision.transforms import RandomCrop, RandomHorizontalFlip, Compose"
      ],
      "metadata": {
        "id": "ljcriEO2qgY-"
      },
      "execution_count": null,
      "outputs": []
    },
    {
      "cell_type": "code",
      "source": [
        "transforms = Compose([\n",
        "    T.ToPILImage(),\n",
        "    RandomCrop(32, padding=4),\n",
        "    RandomHorizontalFlip(p=0.5), # 축을 기준으로 회전\n",
        "    ToTensor()\n",
        "])"
      ],
      "metadata": {
        "id": "MK5lg4xGrx_3"
      },
      "execution_count": null,
      "outputs": []
    },
    {
      "cell_type": "code",
      "source": [
        "# 데이터 가져오기\n",
        "train_data = CIFAR10(root='./data2', train=True, download=True, transform=transforms)\n",
        "test_data = CIFAR10(root='./data2', train=False, download=True, transform=transforms)"
      ],
      "metadata": {
        "colab": {
          "base_uri": "https://localhost:8080/"
        },
        "id": "9NVsXoLAsUvY",
        "outputId": "322a6e43-bdeb-4615-9991-807fb9a621ce"
      },
      "execution_count": null,
      "outputs": [
        {
          "output_type": "stream",
          "name": "stdout",
          "text": [
            "Files already downloaded and verified\n",
            "Files already downloaded and verified\n"
          ]
        }
      ]
    },
    {
      "cell_type": "code",
      "source": [
        "for i in range(9):\n",
        "  plt.subplot(3, 3, i+1)\n",
        "  plt.imshow(transforms(train_data.data[i]).permute(1,2,0) )\n",
        "  plt.axis('off')\n",
        "plt.show()"
      ],
      "metadata": {
        "colab": {
          "base_uri": "https://localhost:8080/",
          "height": 406
        },
        "id": "9Pa2mV1RshnG",
        "outputId": "196185bb-09e0-4713-9241-6e69acb69735"
      },
      "execution_count": null,
      "outputs": [
        {
          "output_type": "display_data",
          "data": {
            "text/plain": [
              "<Figure size 640x480 with 9 Axes>"
            ],
            "image/png": "[encoded data removed]"
          },
          "metadata": {}
        }
      ]
    },
    {
      "cell_type": "markdown",
      "source": [
        "데이터 전처리에 정규화 추가"
      ],
      "metadata": {
        "id": "K8Gs0WD0tnax"
      }
    },
    {
      "cell_type": "code",
      "source": [
        "from torchvision.transforms import Normalize\n",
        "transforms = Compose([\n",
        "    T.ToPILImage(),\n",
        "    RandomCrop(32, padding=4),\n",
        "    RandomHorizontalFlip(p=0.5), # 축을 기준으로 회전\n",
        "    ToTensor(),\n",
        "    # 데이터 정규화\n",
        "    Normalize(mean = (0.49139968, 0.48215841, 0.44653091), std=(0.24703223, 0.24348513, 0.26158784)),\n",
        "    T.ToPILImage(),\n",
        "])\n",
        "\n",
        "train_data = CIFAR10(root='./data3', train=True, download=True, transform=transforms)\n",
        "test_data = CIFAR10(root='./data3', train=False, download=True, transform=transforms)\n",
        "\n",
        "for i in range(9):\n",
        "  plt.subplot(3, 3, i+1)\n",
        "  plt.imshow( transforms(train_data.data[i]))\n",
        "  plt.axis('off')\n",
        "plt.show()"
      ],
      "metadata": {
        "colab": {
          "base_uri": "https://localhost:8080/",
          "height": 442
        },
        "id": "qYUwCl1stidf",
        "outputId": "902ac1d6-a749-42d9-daed-069f3a9062c2"
      },
      "execution_count": 99,
      "outputs": [
        {
          "output_type": "stream",
          "name": "stdout",
          "text": [
            "Files already downloaded and verified\n",
            "Files already downloaded and verified\n"
          ]
        },
        {
          "output_type": "display_data",
          "data": {
            "text/plain": [
              "<Figure size 640x480 with 9 Axes>"
            ],
            "image/png": "[encoded data removed]"
          },
          "metadata": {}
        }
      ]
    },
    {
      "cell_type": "code",
      "source": [
        "train_data.data.shape"
      ],
      "metadata": {
        "colab": {
          "base_uri": "https://localhost:8080/"
        },
        "id": "w3sjDBFtuNW_",
        "outputId": "aad37907-b803-4159-8567-a24d4e2b2742"
      },
      "execution_count": null,
      "outputs": [
        {
          "output_type": "execute_result",
          "data": {
            "text/plain": [
              "(50000, 32, 32, 3)"
            ]
          },
          "metadata": {},
          "execution_count": 79
        }
      ]
    },
    {
      "cell_type": "code",
      "source": [
        "# RGB에 대한 평균과 표준편차의 값을 255로 나눔\n",
        "train_data.data.mean(axis=(0,1,2))/255, train_data.data.std(axis=(0,1,2))/255"
      ],
      "metadata": {
        "colab": {
          "base_uri": "https://localhost:8080/"
        },
        "id": "wXBcKliDvbc5",
        "outputId": "424bd1a9-0636-44cd-d757-7e19a5884077"
      },
      "execution_count": null,
      "outputs": [
        {
          "output_type": "execute_result",
          "data": {
            "text/plain": [
              "(array([0.49139968, 0.48215841, 0.44653091]),\n",
              " array([0.24703223, 0.24348513, 0.26158784]))"
            ]
          },
          "metadata": {},
          "execution_count": 83
        }
      ]
    },
    {
      "cell_type": "markdown",
      "source": [
        "VGG 모델 정의"
      ],
      "metadata": {
        "id": "TU0o0S1jxlry"
      }
    },
    {
      "cell_type": "markdown",
      "source": [
        "![image.png](data:image/png;base64,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)"
      ],
      "metadata": {
        "id": "0fJZ39l3x8UH"
      }
    },
    {
      "cell_type": "code",
      "source": [
        "class BasicBlock(nn.Module):\n",
        "  def __init__(self, in_channels, out_channels, hidden_dim) -> None:\n",
        "    super(BasicBlock, self).__init__()\n",
        "    self.conv1 = nn.Conv2d(in_channels, hidden_dim, kernel_size=3, padding=1)\n",
        "    self.conv2 = nn.Conv2d(hidden_dim, out_channels, kernel_size=3, padding=1)\n",
        "    self.relu = nn.ReLU()\n",
        "    self.pool = nn.MaxPool2d(kernel_size=2, stride=2)\n",
        "  def forward(self, x):\n",
        "    x = self.conv1(x)\n",
        "    x = self.relu(x)\n",
        "    x = self.conv2(x)\n",
        "    x = self.relu(x)\n",
        "    x = self.pool(x)\n",
        "    return x"
      ],
      "metadata": {
        "id": "2tR6Hnpq1W3a"
      },
      "execution_count": null,
      "outputs": []
    },
    {
      "cell_type": "code",
      "source": [
        "class CNN(nn.Module):\n",
        "  def __init__(self, num_class) -> None:\n",
        "    super(CNN, self).__init__() # 모델로서의 기능을 갖추기 위해서는 부모클래스의 생성자를 반드시호출\n",
        "    # 합성곱의 기본 블럭을 정의\n",
        "    self.block1 = BasicBlock(in_channels = 3, hidden_dim=16, out_channels = 32)\n",
        "    self.block2 = BasicBlock(in_channels = 32, hidden_dim=64, out_channels = 128)\n",
        "    # 분류기 정의\n",
        "    self.fc1 = nn.Linear(in_features=128*8*8, out_features=512)\n",
        "    self.fc2 = nn.Linear(in_features=512, out_features=num_class)\n",
        "    # 활성화 함수\n",
        "    self.relu = nn.ReLU()\n",
        "  def forward(self, x):\n",
        "    x = self.block1(x)\n",
        "    x = self.block2(x)\n",
        "    x = torch.flatten(x, start_dim=1)\n",
        "    x = self.fc1(x)\n",
        "    x = self.relu(x)\n",
        "    x = self.fc2(x)\n",
        "    return x\n"
      ],
      "metadata": {
        "id": "OLQ5vCXWvk0H"
      },
      "execution_count": 92,
      "outputs": []
    },
    {
      "cell_type": "code",
      "source": [
        "transforms = Compose([\n",
        "    RandomCrop(32, padding=4),\n",
        "    RandomHorizontalFlip(p=0.5), # 축을 기준으로 회전\n",
        "    ToTensor(),\n",
        "    # 데이터 정규화\n",
        "    Normalize(mean = (0.49139968, 0.48215841, 0.44653091), std=(0.24703223, 0.24348513, 0.26158784)),\n",
        "])\n",
        "\n",
        "train_data = CIFAR10(root='./data3', train=True, download=True, transform=transforms)\n",
        "test_data = CIFAR10(root='./data3', train=False, download=True, transform=transforms)\n",
        "\n",
        "# 로더정의\n",
        "train_loader = DataLoader(train_data, batch_size=32, shuffle=True)\n",
        "test_loader = DataLoader(test_data, batch_size=32, shuffle=False)"
      ],
      "metadata": {
        "colab": {
          "base_uri": "https://localhost:8080/"
        },
        "id": "1PTSvG8k4M0J",
        "outputId": "4281431c-d5f4-4c15-ab21-dad7710c5212"
      },
      "execution_count": 100,
      "outputs": [
        {
          "output_type": "stream",
          "name": "stdout",
          "text": [
            "Files already downloaded and verified\n",
            "Files already downloaded and verified\n"
          ]
        }
      ]
    },
    {
      "cell_type": "code",
      "source": [
        "model = CNN(num_class=10).to(device)"
      ],
      "metadata": {
        "id": "GYk5FTHC4mdI"
      },
      "execution_count": 101,
      "outputs": []
    },
    {
      "cell_type": "code",
      "source": [
        "model"
      ],
      "metadata": {
        "colab": {
          "base_uri": "https://localhost:8080/"
        },
        "id": "W1-5q06s4s33",
        "outputId": "5c0926b9-750f-4931-b0ab-3d2e07fbfc22"
      },
      "execution_count": 102,
      "outputs": [
        {
          "output_type": "execute_result",
          "data": {
            "text/plain": [
              "CNN(\n",
              "  (block1): BasicBlock(\n",
              "    (conv1): Conv2d(3, 16, kernel_size=(3, 3), stride=(1, 1), padding=(1, 1))\n",
              "    (conv2): Conv2d(16, 32, kernel_size=(3, 3), stride=(1, 1), padding=(1, 1))\n",
              "    (relu): ReLU()\n",
              "    (pool): MaxPool2d(kernel_size=2, stride=2, padding=0, dilation=1, ceil_mode=False)\n",
              "  )\n",
              "  (block2): BasicBlock(\n",
              "    (conv1): Conv2d(32, 64, kernel_size=(3, 3), stride=(1, 1), padding=(1, 1))\n",
              "    (conv2): Conv2d(64, 128, kernel_size=(3, 3), stride=(1, 1), padding=(1, 1))\n",
              "    (relu): ReLU()\n",
              "    (pool): MaxPool2d(kernel_size=2, stride=2, padding=0, dilation=1, ceil_mode=False)\n",
              "  )\n",
              "  (fc1): Linear(in_features=8192, out_features=512, bias=True)\n",
              "  (fc2): Linear(in_features=512, out_features=10, bias=True)\n",
              "  (relu): ReLU()\n",
              ")"
            ]
          },
          "metadata": {},
          "execution_count": 102
        }
      ]
    },
    {
      "cell_type": "code",
      "source": [
        "lr = 1e-3\n",
        "optimizer = torch.optim.Adam(model.parameters(), lr=lr)\n",
        "criterion = nn.CrossEntropyLoss()\n",
        "for epoch in range(100):\n",
        "  for data, label in train_loader:\n",
        "    data = data.to(device)\n",
        "    label = label.to(device)\n",
        "    pred = model(data)\n",
        "    #오차 역전파\n",
        "    loss = criterion(pred,label)\n",
        "    loss.backward()\n",
        "    optimizer.step()\n",
        "    optimizer.zero_grad()\n",
        "  if (epoch+1) % 10 == 0:\n",
        "    print(f'epoch : {epoch}, loss : {loss.item()}')\n",
        "\n",
        "# 모델저장\n",
        "torch.save(model.state_dict(), 'CIFAR.pth')"
      ],
      "metadata": {
        "id": "iTWWC4GR4yYw"
      },
      "execution_count": null,
      "outputs": []
    },
    {
      "cell_type": "code",
      "source": [],
      "metadata": {
        "id": "8bK-dhgL6Cso"
      },
      "execution_count": null,
      "outputs": []
    },
    {
      "cell_type": "code",
      "source": [],
      "metadata": {
        "id": "2YkX-gWI5x8H"
      },
      "execution_count": null,
      "outputs": []
    }
  ]
}