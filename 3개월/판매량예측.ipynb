{
 "cells": [
  {
   "cell_type": "code",
   "execution_count": 1,
   "id": "ed994919",
   "metadata": {
    "execution": {
     "iopub.execute_input": "2022-10-30T14:13:13.257622Z",
     "iopub.status.busy": "2022-10-30T14:13:13.256778Z",
     "iopub.status.idle": "2022-10-30T14:13:16.098391Z",
     "shell.execute_reply": "2022-10-30T14:13:16.098943Z"
    },
    "papermill": {
     "duration": 2.932811,
     "end_time": "2022-10-30T14:13:16.099365",
     "exception": false,
     "start_time": "2022-10-30T14:13:13.166554",
     "status": "completed"
    },
    "tags": []
   },
   "outputs": [],
   "source": [
    "import numpy as np\n",
    "import pandas as pd\n",
    "import warnings\n",
    "\n",
    "warnings.filterwarnings(action='ignore') # 경고 메시지 생략\n",
    "\n",
    "!unzip /content/drive/MyDrive/data/kaggle/competitive-data-science-predict-future-sales.zip\n",
    "# 데이터 경로\n",
    "data_path = '/content/'\n",
    "\n",
    "sales_train = pd.read_csv(data_path + 'sales_train.csv')\n",
    "shops = pd.read_csv(data_path + 'shops.csv')\n",
    "items = pd.read_csv(data_path + 'items.csv')\n",
    "item_categories = pd.read_csv(data_path + 'item_categories.csv')\n",
    "test = pd.read_csv(data_path + 'test.csv')\n",
    "submission = pd.read_csv(data_path + 'sample_submission.csv')"
   ]
  },
  {
   "cell_type": "markdown",
   "id": "02af3bda",
   "metadata": {
    "papermill": {
     "duration": 0.048326,
     "end_time": "2022-10-30T14:13:16.197101",
     "exception": false,
     "start_time": "2022-10-30T14:13:16.148775",
     "status": "completed"
    },
    "tags": []
   },
   "source": [
    "##  피처 엔지니어링 I : 피처명 한글화와 데이터 다운캐스팅"
   ]
  },
  {
   "cell_type": "code",
   "execution_count": 2,
   "id": "1fb376d7",
   "metadata": {
    "execution": {
     "iopub.execute_input": "2022-10-30T14:13:16.294615Z",
     "iopub.status.busy": "2022-10-30T14:13:16.293520Z",
     "iopub.status.idle": "2022-10-30T14:13:16.409563Z",
     "shell.execute_reply": "2022-10-30T14:13:16.410066Z"
    },
    "papermill": {
     "duration": 0.165846,
     "end_time": "2022-10-30T14:13:16.410312",
     "exception": false,
     "start_time": "2022-10-30T14:13:16.244466",
     "status": "completed"
    },
    "tags": []
   },
   "outputs": [],
   "source": [
    "sales_train = sales_train.rename(columns={'date': '날짜', \n",
    "                                          'date_block_num': '월ID',\n",
    "                                          'shop_id': '상점ID',\n",
    "                                          'item_id': '상품ID',\n",
    "                                          'item_price': '판매가',\n",
    "                                          'item_cnt_day': '판매량'})\n",
    "\n",
    "shops = shops.rename(columns={'shop_name': '상점명',\n",
    "                              'shop_id': '상점ID'})\n",
    "\n",
    "items = items.rename(columns={'item_name': '상품명',\n",
    "                              'item_id': '상품ID',\n",
    "                              'item_category_id': '상품분류ID'})\n",
    "\n",
    "item_categories = item_categories.rename(columns=\n",
    "                                         {'item_category_name': '상품분류명',\n",
    "                                          'item_category_id': '상품분류ID'})\n",
    "\n",
    "test = test.rename(columns={'shop_id': '상점ID',\n",
    "                            'item_id': '상품ID'})"
   ]
  },
  {
   "cell_type": "code",
   "execution_count": 3,
   "id": "a94cbf56",
   "metadata": {
    "execution": {
     "iopub.execute_input": "2022-10-30T14:13:16.520617Z",
     "iopub.status.busy": "2022-10-30T14:13:16.519498Z",
     "iopub.status.idle": "2022-10-30T14:13:16.945940Z",
     "shell.execute_reply": "2022-10-30T14:13:16.945242Z"
    },
    "papermill": {
     "duration": 0.487892,
     "end_time": "2022-10-30T14:13:16.946096",
     "exception": false,
     "start_time": "2022-10-30T14:13:16.458204",
     "status": "completed"
    },
    "tags": []
   },
   "outputs": [
    {
     "name": "stdout",
     "output_type": "stream",
     "text": [
      "62.5% 압축됨\n",
      "38.6% 압축됨\n",
      "54.2% 압축됨\n",
      "39.9% 압축됨\n",
      "70.8% 압축됨\n"
     ]
    }
   ],
   "source": [
    "def downcast(df, verbose=True):\n",
    "    start_mem = df.memory_usage().sum() / 1024**2\n",
    "    for col in df.columns:\n",
    "        dtype_name = df[col].dtype.name\n",
    "        if dtype_name == 'object':\n",
    "            pass\n",
    "        elif dtype_name == 'bool':\n",
    "            df[col] = df[col].astype('int8')\n",
    "        elif dtype_name.startswith('int') or (df[col].round() == df[col]).all():\n",
    "            df[col] = pd.to_numeric(df[col], downcast='integer')\n",
    "        else:\n",
    "            df[col] = pd.to_numeric(df[col], downcast='float')\n",
    "    end_mem = df.memory_usage().sum() / 1024**2\n",
    "    if verbose:\n",
    "        print('{:.1f}% 압축됨'.format(100 * (start_mem - end_mem) / start_mem))\n",
    "    \n",
    "    return df\n",
    "\n",
    "all_df = [sales_train, shops, items, item_categories, test]\n",
    "for df in all_df:\n",
    "    df = downcast(df)"
   ]
  },
  {
   "cell_type": "markdown",
   "id": "3cf52af8",
   "metadata": {
    "papermill": {
     "duration": 0.046235,
     "end_time": "2022-10-30T14:13:17.038526",
     "exception": false,
     "start_time": "2022-10-30T14:13:16.992291",
     "status": "completed"
    },
    "tags": []
   },
   "source": [
    "## 피처 엔지니어링 II : 개별 데이터 피처 엔지니어링"
   ]
  },
  {
   "cell_type": "markdown",
   "id": "b4219694",
   "metadata": {
    "papermill": {
     "duration": 0.04516,
     "end_time": "2022-10-30T14:13:17.129044",
     "exception": false,
     "start_time": "2022-10-30T14:13:17.083884",
     "status": "completed"
    },
    "tags": []
   },
   "source": [
    "### sales_train 이상치 제거 및 전처리"
   ]
  },
  {
   "cell_type": "code",
   "execution_count": 4,
   "id": "148393ac",
   "metadata": {
    "execution": {
     "iopub.execute_input": "2022-10-30T14:13:17.224443Z",
     "iopub.status.busy": "2022-10-30T14:13:17.223374Z",
     "iopub.status.idle": "2022-10-30T14:13:17.791713Z",
     "shell.execute_reply": "2022-10-30T14:13:17.790894Z"
    },
    "papermill": {
     "duration": 0.617441,
     "end_time": "2022-10-30T14:13:17.791879",
     "exception": false,
     "start_time": "2022-10-30T14:13:17.174438",
     "status": "completed"
    },
    "tags": []
   },
   "outputs": [],
   "source": [
    "# 판매가가 0보다 큰 데이터 추출\n",
    "sales_train = sales_train[sales_train['판매가'] > 0]\n",
    "# 판매가가 50,000보다 작은 데이터 추출\n",
    "sales_train = sales_train[sales_train['판매가'] < 50000]\n",
    "\n",
    "# 판매량이 0보다 큰 데이터 추출\n",
    "sales_train = sales_train[sales_train['판매량'] > 0]\n",
    "# 판매량이 1,000보다 작은 데이터 추출\n",
    "sales_train = sales_train[sales_train['판매량'] < 1000]"
   ]
  },
  {
   "cell_type": "code",
   "execution_count": 5,
   "id": "4d088210",
   "metadata": {
    "execution": {
     "iopub.execute_input": "2022-10-30T14:13:17.891380Z",
     "iopub.status.busy": "2022-10-30T14:13:17.890481Z",
     "iopub.status.idle": "2022-10-30T14:13:17.896485Z",
     "shell.execute_reply": "2022-10-30T14:13:17.895898Z"
    },
    "papermill": {
     "duration": 0.058935,
     "end_time": "2022-10-30T14:13:17.896661",
     "exception": false,
     "start_time": "2022-10-30T14:13:17.837726",
     "status": "completed"
    },
    "tags": []
   },
   "outputs": [
    {
     "name": "stdout",
     "output_type": "stream",
     "text": [
      "!Якутск Орджоникидзе, 56 фран || Якутск Орджоникидзе, 56\n",
      "!Якутск ТЦ \"Центральный\" фран || Якутск ТЦ \"Центральный\"\n",
      "Жуковский ул. Чкалова 39м? || Жуковский ул. Чкалова 39м²\n",
      "РостовНаДону ТРК \"Мегацентр Горизонт\" || РостовНаДону ТРК \"Мегацентр Горизонт\" Островной\n"
     ]
    }
   ],
   "source": [
    "print(shops['상점명'][0], '||', shops['상점명'][57])\n",
    "print(shops['상점명'][1], '||', shops['상점명'][58])\n",
    "print(shops['상점명'][10], '||', shops['상점명'][11])\n",
    "print(shops['상점명'][39], '||', shops['상점명'][40])"
   ]
  },
  {
   "cell_type": "code",
   "execution_count": 6,
   "id": "344c7a1c",
   "metadata": {
    "execution": {
     "iopub.execute_input": "2022-10-30T14:13:17.998242Z",
     "iopub.status.busy": "2022-10-30T14:13:17.996867Z",
     "iopub.status.idle": "2022-10-30T14:13:18.021499Z",
     "shell.execute_reply": "2022-10-30T14:13:18.020901Z"
    },
    "papermill": {
     "duration": 0.078663,
     "end_time": "2022-10-30T14:13:18.021667",
     "exception": false,
     "start_time": "2022-10-30T14:13:17.943004",
     "status": "completed"
    },
    "tags": []
   },
   "outputs": [],
   "source": [
    "# sales_train 데이터에서 상점ID 수정\n",
    "sales_train.loc[sales_train['상점ID'] == 0, '상점ID'] = 57\n",
    "sales_train.loc[sales_train['상점ID'] == 1, '상점ID'] = 58\n",
    "sales_train.loc[sales_train['상점ID'] == 10, '상점ID'] = 11\n",
    "sales_train.loc[sales_train['상점ID'] == 39, '상점ID'] = 40\n",
    "\n",
    "# test 데이터에서 상점ID 수정\n",
    "test.loc[test['상점ID'] == 0, '상점ID'] = 57\n",
    "test.loc[test['상점ID'] == 1, '상점ID'] = 58\n",
    "test.loc[test['상점ID'] == 10, '상점ID'] = 11\n",
    "test.loc[test['상점ID'] == 39, '상점ID'] = 40"
   ]
  },
  {
   "cell_type": "markdown",
   "id": "11f4f913",
   "metadata": {
    "papermill": {
     "duration": 0.050321,
     "end_time": "2022-10-30T14:13:18.118677",
     "exception": false,
     "start_time": "2022-10-30T14:13:18.068356",
     "status": "completed"
    },
    "tags": []
   },
   "source": [
    "### shops 파생 피처 생성 및 인코딩"
   ]
  },
  {
   "cell_type": "code",
   "execution_count": 7,
   "id": "306451a4",
   "metadata": {
    "execution": {
     "iopub.execute_input": "2022-10-30T14:13:18.221901Z",
     "iopub.status.busy": "2022-10-30T14:13:18.220942Z",
     "iopub.status.idle": "2022-10-30T14:13:18.224187Z",
     "shell.execute_reply": "2022-10-30T14:13:18.223670Z"
    },
    "papermill": {
     "duration": 0.057498,
     "end_time": "2022-10-30T14:13:18.224388",
     "exception": false,
     "start_time": "2022-10-30T14:13:18.166890",
     "status": "completed"
    },
    "tags": []
   },
   "outputs": [],
   "source": [
    "shops['도시'] = shops['상점명'].apply(lambda x: x.split()[0])"
   ]
  },
  {
   "cell_type": "code",
   "execution_count": 8,
   "id": "2cac0e7d",
   "metadata": {
    "execution": {
     "iopub.execute_input": "2022-10-30T14:13:18.330721Z",
     "iopub.status.busy": "2022-10-30T14:13:18.329539Z",
     "iopub.status.idle": "2022-10-30T14:13:18.334377Z",
     "shell.execute_reply": "2022-10-30T14:13:18.334967Z"
    },
    "papermill": {
     "duration": 0.06217,
     "end_time": "2022-10-30T14:13:18.335196",
     "exception": false,
     "start_time": "2022-10-30T14:13:18.273026",
     "status": "completed"
    },
    "tags": []
   },
   "outputs": [
    {
     "data": {
      "text/plain": [
       "array(['!Якутск', 'Адыгея', 'Балашиха', 'Волжский', 'Вологда', 'Воронеж',\n",
       "       'Выездная', 'Жуковский', 'Интернет-магазин', 'Казань', 'Калуга',\n",
       "       'Коломна', 'Красноярск', 'Курск', 'Москва', 'Мытищи', 'Н.Новгород',\n",
       "       'Новосибирск', 'Омск', 'РостовНаДону', 'СПб', 'Самара', 'Сергиев',\n",
       "       'Сургут', 'Томск', 'Тюмень', 'Уфа', 'Химки', 'Цифровой', 'Чехов',\n",
       "       'Якутск', 'Ярославль'], dtype=object)"
      ]
     },
     "execution_count": 8,
     "metadata": {},
     "output_type": "execute_result"
    }
   ],
   "source": [
    "shops['도시'].unique()"
   ]
  },
  {
   "cell_type": "code",
   "execution_count": 9,
   "id": "3ca32f32",
   "metadata": {
    "execution": {
     "iopub.execute_input": "2022-10-30T14:13:18.438987Z",
     "iopub.status.busy": "2022-10-30T14:13:18.438289Z",
     "iopub.status.idle": "2022-10-30T14:13:18.441084Z",
     "shell.execute_reply": "2022-10-30T14:13:18.440416Z"
    },
    "papermill": {
     "duration": 0.056566,
     "end_time": "2022-10-30T14:13:18.441241",
     "exception": false,
     "start_time": "2022-10-30T14:13:18.384675",
     "status": "completed"
    },
    "tags": []
   },
   "outputs": [],
   "source": [
    "shops.loc[shops['도시'] =='!Якутск', '도시'] = 'Якутск'"
   ]
  },
  {
   "cell_type": "code",
   "execution_count": 10,
   "id": "ef3cfa55",
   "metadata": {
    "execution": {
     "iopub.execute_input": "2022-10-30T14:13:18.541228Z",
     "iopub.status.busy": "2022-10-30T14:13:18.540508Z",
     "iopub.status.idle": "2022-10-30T14:13:19.522565Z",
     "shell.execute_reply": "2022-10-30T14:13:19.521996Z"
    },
    "papermill": {
     "duration": 1.034781,
     "end_time": "2022-10-30T14:13:19.522730",
     "exception": false,
     "start_time": "2022-10-30T14:13:18.487949",
     "status": "completed"
    },
    "tags": []
   },
   "outputs": [],
   "source": [
    "from sklearn.preprocessing import LabelEncoder\n",
    "\n",
    "# 레이블 인코더 생성\n",
    "label_encoder = LabelEncoder()\n",
    "# 도시 피처 레이블 인코딩\n",
    "shops['도시'] = label_encoder.fit_transform(shops['도시'])"
   ]
  },
  {
   "cell_type": "code",
   "execution_count": 11,
   "id": "1b2d312e",
   "metadata": {
    "execution": {
     "iopub.execute_input": "2022-10-30T14:13:19.628596Z",
     "iopub.status.busy": "2022-10-30T14:13:19.627495Z",
     "iopub.status.idle": "2022-10-30T14:13:19.639410Z",
     "shell.execute_reply": "2022-10-30T14:13:19.638349Z"
    },
    "papermill": {
     "duration": 0.068147,
     "end_time": "2022-10-30T14:13:19.639734",
     "exception": false,
     "start_time": "2022-10-30T14:13:19.571587",
     "status": "completed"
    },
    "tags": []
   },
   "outputs": [
    {
     "data": {
      "text/html": [
       "<div>\n",
       "<style scoped>\n",
       "    .dataframe tbody tr th:only-of-type {\n",
       "        vertical-align: middle;\n",
       "    }\n",
       "\n",
       "    .dataframe tbody tr th {\n",
       "        vertical-align: top;\n",
       "    }\n",
       "\n",
       "    .dataframe thead th {\n",
       "        text-align: right;\n",
       "    }\n",
       "</style>\n",
       "<table border=\"1\" class=\"dataframe\">\n",
       "  <thead>\n",
       "    <tr style=\"text-align: right;\">\n",
       "      <th></th>\n",
       "      <th>상점ID</th>\n",
       "      <th>도시</th>\n",
       "    </tr>\n",
       "  </thead>\n",
       "  <tbody>\n",
       "    <tr>\n",
       "      <th>0</th>\n",
       "      <td>0</td>\n",
       "      <td>29</td>\n",
       "    </tr>\n",
       "    <tr>\n",
       "      <th>1</th>\n",
       "      <td>1</td>\n",
       "      <td>29</td>\n",
       "    </tr>\n",
       "    <tr>\n",
       "      <th>2</th>\n",
       "      <td>2</td>\n",
       "      <td>0</td>\n",
       "    </tr>\n",
       "    <tr>\n",
       "      <th>3</th>\n",
       "      <td>3</td>\n",
       "      <td>1</td>\n",
       "    </tr>\n",
       "    <tr>\n",
       "      <th>4</th>\n",
       "      <td>4</td>\n",
       "      <td>2</td>\n",
       "    </tr>\n",
       "  </tbody>\n",
       "</table>\n",
       "</div>"
      ],
      "text/plain": [
       "   상점ID  도시\n",
       "0     0  29\n",
       "1     1  29\n",
       "2     2   0\n",
       "3     3   1\n",
       "4     4   2"
      ]
     },
     "execution_count": 11,
     "metadata": {},
     "output_type": "execute_result"
    }
   ],
   "source": [
    "# 상점명 피처 제거\n",
    "shops = shops.drop('상점명', axis=1)\n",
    "\n",
    "shops.head()"
   ]
  },
  {
   "cell_type": "markdown",
   "id": "a7e7e57d",
   "metadata": {
    "papermill": {
     "duration": 0.04797,
     "end_time": "2022-10-30T14:13:19.737850",
     "exception": false,
     "start_time": "2022-10-30T14:13:19.689880",
     "status": "completed"
    },
    "tags": []
   },
   "source": [
    "### itmes 파생 피처 생성"
   ]
  },
  {
   "cell_type": "code",
   "execution_count": 12,
   "id": "14fa65fa",
   "metadata": {
    "execution": {
     "iopub.execute_input": "2022-10-30T14:13:19.842819Z",
     "iopub.status.busy": "2022-10-30T14:13:19.841997Z",
     "iopub.status.idle": "2022-10-30T14:13:19.845624Z",
     "shell.execute_reply": "2022-10-30T14:13:19.844818Z"
    },
    "papermill": {
     "duration": 0.059186,
     "end_time": "2022-10-30T14:13:19.845795",
     "exception": false,
     "start_time": "2022-10-30T14:13:19.786609",
     "status": "completed"
    },
    "tags": []
   },
   "outputs": [],
   "source": [
    "# 상품명 피처 제거\n",
    "items = items.drop(['상품명'], axis=1)"
   ]
  },
  {
   "cell_type": "code",
   "execution_count": 13,
   "id": "164da9f1",
   "metadata": {
    "execution": {
     "iopub.execute_input": "2022-10-30T14:13:19.950672Z",
     "iopub.status.busy": "2022-10-30T14:13:19.949841Z",
     "iopub.status.idle": "2022-10-30T14:13:20.055808Z",
     "shell.execute_reply": "2022-10-30T14:13:20.055170Z"
    },
    "papermill": {
     "duration": 0.160926,
     "end_time": "2022-10-30T14:13:20.055957",
     "exception": false,
     "start_time": "2022-10-30T14:13:19.895031",
     "status": "completed"
    },
    "tags": []
   },
   "outputs": [
    {
     "data": {
      "text/html": [
       "<div>\n",
       "<style scoped>\n",
       "    .dataframe tbody tr th:only-of-type {\n",
       "        vertical-align: middle;\n",
       "    }\n",
       "\n",
       "    .dataframe tbody tr th {\n",
       "        vertical-align: top;\n",
       "    }\n",
       "\n",
       "    .dataframe thead th {\n",
       "        text-align: right;\n",
       "    }\n",
       "</style>\n",
       "<table border=\"1\" class=\"dataframe\">\n",
       "  <thead>\n",
       "    <tr style=\"text-align: right;\">\n",
       "      <th></th>\n",
       "      <th>상품ID</th>\n",
       "      <th>상품분류ID</th>\n",
       "      <th>첫 판매월</th>\n",
       "    </tr>\n",
       "  </thead>\n",
       "  <tbody>\n",
       "    <tr>\n",
       "      <th>0</th>\n",
       "      <td>0</td>\n",
       "      <td>40</td>\n",
       "      <td>20.0</td>\n",
       "    </tr>\n",
       "    <tr>\n",
       "      <th>1</th>\n",
       "      <td>1</td>\n",
       "      <td>76</td>\n",
       "      <td>15.0</td>\n",
       "    </tr>\n",
       "    <tr>\n",
       "      <th>2</th>\n",
       "      <td>2</td>\n",
       "      <td>40</td>\n",
       "      <td>19.0</td>\n",
       "    </tr>\n",
       "    <tr>\n",
       "      <th>3</th>\n",
       "      <td>3</td>\n",
       "      <td>40</td>\n",
       "      <td>18.0</td>\n",
       "    </tr>\n",
       "    <tr>\n",
       "      <th>4</th>\n",
       "      <td>4</td>\n",
       "      <td>40</td>\n",
       "      <td>20.0</td>\n",
       "    </tr>\n",
       "  </tbody>\n",
       "</table>\n",
       "</div>"
      ],
      "text/plain": [
       "   상품ID  상품분류ID  첫 판매월\n",
       "0     0      40   20.0\n",
       "1     1      76   15.0\n",
       "2     2      40   19.0\n",
       "3     3      40   18.0\n",
       "4     4      40   20.0"
      ]
     },
     "execution_count": 13,
     "metadata": {},
     "output_type": "execute_result"
    }
   ],
   "source": [
    "# 상품이 맨 처음 팔린 날을 피처로 추가\n",
    "items['첫 판매월'] = sales_train.groupby('상품ID').agg({'월ID': 'min'})['월ID']\n",
    "\n",
    "items.head()"
   ]
  },
  {
   "cell_type": "code",
   "execution_count": 14,
   "id": "21f0472d",
   "metadata": {
    "execution": {
     "iopub.execute_input": "2022-10-30T14:13:20.163326Z",
     "iopub.status.busy": "2022-10-30T14:13:20.162584Z",
     "iopub.status.idle": "2022-10-30T14:13:20.173988Z",
     "shell.execute_reply": "2022-10-30T14:13:20.173394Z"
    },
    "papermill": {
     "duration": 0.070286,
     "end_time": "2022-10-30T14:13:20.174242",
     "exception": false,
     "start_time": "2022-10-30T14:13:20.103956",
     "status": "completed"
    },
    "tags": []
   },
   "outputs": [
    {
     "data": {
      "text/html": [
       "<div>\n",
       "<style scoped>\n",
       "    .dataframe tbody tr th:only-of-type {\n",
       "        vertical-align: middle;\n",
       "    }\n",
       "\n",
       "    .dataframe tbody tr th {\n",
       "        vertical-align: top;\n",
       "    }\n",
       "\n",
       "    .dataframe thead th {\n",
       "        text-align: right;\n",
       "    }\n",
       "</style>\n",
       "<table border=\"1\" class=\"dataframe\">\n",
       "  <thead>\n",
       "    <tr style=\"text-align: right;\">\n",
       "      <th></th>\n",
       "      <th>상품ID</th>\n",
       "      <th>상품분류ID</th>\n",
       "      <th>첫 판매월</th>\n",
       "    </tr>\n",
       "  </thead>\n",
       "  <tbody>\n",
       "    <tr>\n",
       "      <th>83</th>\n",
       "      <td>83</td>\n",
       "      <td>40</td>\n",
       "      <td>NaN</td>\n",
       "    </tr>\n",
       "    <tr>\n",
       "      <th>140</th>\n",
       "      <td>140</td>\n",
       "      <td>45</td>\n",
       "      <td>NaN</td>\n",
       "    </tr>\n",
       "    <tr>\n",
       "      <th>168</th>\n",
       "      <td>168</td>\n",
       "      <td>44</td>\n",
       "      <td>NaN</td>\n",
       "    </tr>\n",
       "    <tr>\n",
       "      <th>173</th>\n",
       "      <td>173</td>\n",
       "      <td>45</td>\n",
       "      <td>NaN</td>\n",
       "    </tr>\n",
       "    <tr>\n",
       "      <th>204</th>\n",
       "      <td>204</td>\n",
       "      <td>44</td>\n",
       "      <td>NaN</td>\n",
       "    </tr>\n",
       "    <tr>\n",
       "      <th>...</th>\n",
       "      <td>...</td>\n",
       "      <td>...</td>\n",
       "      <td>...</td>\n",
       "    </tr>\n",
       "    <tr>\n",
       "      <th>21974</th>\n",
       "      <td>21974</td>\n",
       "      <td>61</td>\n",
       "      <td>NaN</td>\n",
       "    </tr>\n",
       "    <tr>\n",
       "      <th>21975</th>\n",
       "      <td>21975</td>\n",
       "      <td>61</td>\n",
       "      <td>NaN</td>\n",
       "    </tr>\n",
       "    <tr>\n",
       "      <th>22022</th>\n",
       "      <td>22022</td>\n",
       "      <td>40</td>\n",
       "      <td>NaN</td>\n",
       "    </tr>\n",
       "    <tr>\n",
       "      <th>22035</th>\n",
       "      <td>22035</td>\n",
       "      <td>40</td>\n",
       "      <td>NaN</td>\n",
       "    </tr>\n",
       "    <tr>\n",
       "      <th>22137</th>\n",
       "      <td>22137</td>\n",
       "      <td>40</td>\n",
       "      <td>NaN</td>\n",
       "    </tr>\n",
       "  </tbody>\n",
       "</table>\n",
       "<p>368 rows × 3 columns</p>\n",
       "</div>"
      ],
      "text/plain": [
       "        상품ID  상품분류ID  첫 판매월\n",
       "83        83      40    NaN\n",
       "140      140      45    NaN\n",
       "168      168      44    NaN\n",
       "173      173      45    NaN\n",
       "204      204      44    NaN\n",
       "...      ...     ...    ...\n",
       "21974  21974      61    NaN\n",
       "21975  21975      61    NaN\n",
       "22022  22022      40    NaN\n",
       "22035  22035      40    NaN\n",
       "22137  22137      40    NaN\n",
       "\n",
       "[368 rows x 3 columns]"
      ]
     },
     "execution_count": 14,
     "metadata": {},
     "output_type": "execute_result"
    }
   ],
   "source": [
    "items[items['첫 판매월'].isna()]"
   ]
  },
  {
   "cell_type": "code",
   "execution_count": 15,
   "id": "a12ca01c",
   "metadata": {
    "execution": {
     "iopub.execute_input": "2022-10-30T14:13:20.279112Z",
     "iopub.status.busy": "2022-10-30T14:13:20.277991Z",
     "iopub.status.idle": "2022-10-30T14:13:20.281955Z",
     "shell.execute_reply": "2022-10-30T14:13:20.282478Z"
    },
    "papermill": {
     "duration": 0.059283,
     "end_time": "2022-10-30T14:13:20.282678",
     "exception": false,
     "start_time": "2022-10-30T14:13:20.223395",
     "status": "completed"
    },
    "tags": []
   },
   "outputs": [],
   "source": [
    "# 첫 판매월 피처의 결측값을 34로 대체\n",
    "items['첫 판매월'] = items['첫 판매월'].fillna(34)"
   ]
  },
  {
   "cell_type": "markdown",
   "id": "303a524b",
   "metadata": {
    "papermill": {
     "duration": 0.049708,
     "end_time": "2022-10-30T14:13:20.383399",
     "exception": false,
     "start_time": "2022-10-30T14:13:20.333691",
     "status": "completed"
    },
    "tags": []
   },
   "source": [
    "### item_categories 파생 피처 생성 및 인코딩"
   ]
  },
  {
   "cell_type": "code",
   "execution_count": 16,
   "id": "2a6111c4",
   "metadata": {
    "execution": {
     "iopub.execute_input": "2022-10-30T14:13:20.485061Z",
     "iopub.status.busy": "2022-10-30T14:13:20.484386Z",
     "iopub.status.idle": "2022-10-30T14:13:20.489748Z",
     "shell.execute_reply": "2022-10-30T14:13:20.490216Z"
    },
    "papermill": {
     "duration": 0.057853,
     "end_time": "2022-10-30T14:13:20.490421",
     "exception": false,
     "start_time": "2022-10-30T14:13:20.432568",
     "status": "completed"
    },
    "tags": []
   },
   "outputs": [],
   "source": [
    "# 상품분류명의 첫 단어를 대분류로 추출\n",
    "item_categories['대분류'] = item_categories['상품분류명'].apply(lambda x: x.split()[0])  "
   ]
  },
  {
   "cell_type": "code",
   "execution_count": 17,
   "id": "2c544dde",
   "metadata": {
    "execution": {
     "iopub.execute_input": "2022-10-30T14:13:20.594546Z",
     "iopub.status.busy": "2022-10-30T14:13:20.593749Z",
     "iopub.status.idle": "2022-10-30T14:13:20.600426Z",
     "shell.execute_reply": "2022-10-30T14:13:20.601077Z"
    },
    "papermill": {
     "duration": 0.061166,
     "end_time": "2022-10-30T14:13:20.601298",
     "exception": false,
     "start_time": "2022-10-30T14:13:20.540132",
     "status": "completed"
    },
    "tags": []
   },
   "outputs": [
    {
     "data": {
      "text/plain": [
       "Игры          14\n",
       "Книги         13\n",
       "Подарки       12\n",
       "Игровые        8\n",
       "Аксессуары     7\n",
       "Музыка         6\n",
       "Программы      6\n",
       "Карты          5\n",
       "Кино           5\n",
       "Служебные      2\n",
       "Чистые         2\n",
       "PC             1\n",
       "Билеты         1\n",
       "Доставка       1\n",
       "Элементы       1\n",
       "Name: 대분류, dtype: int64"
      ]
     },
     "execution_count": 17,
     "metadata": {},
     "output_type": "execute_result"
    }
   ],
   "source": [
    "item_categories['대분류'].value_counts()"
   ]
  },
  {
   "cell_type": "code",
   "execution_count": 18,
   "id": "f3799c3b",
   "metadata": {
    "execution": {
     "iopub.execute_input": "2022-10-30T14:13:20.703677Z",
     "iopub.status.busy": "2022-10-30T14:13:20.702953Z",
     "iopub.status.idle": "2022-10-30T14:13:20.739062Z",
     "shell.execute_reply": "2022-10-30T14:13:20.738404Z"
    },
    "papermill": {
     "duration": 0.087562,
     "end_time": "2022-10-30T14:13:20.739215",
     "exception": false,
     "start_time": "2022-10-30T14:13:20.651653",
     "status": "completed"
    },
    "tags": []
   },
   "outputs": [],
   "source": [
    "def make_etc(x):\n",
    "    if len(item_categories[item_categories['대분류']==x]) >= 5:\n",
    "        return x\n",
    "    else:\n",
    "        return 'etc'\n",
    "\n",
    "# 대분류의 고윳값 개수가 5개 미만이면 'etc'로 바꾸기\n",
    "item_categories['대분류'] = item_categories['대분류'].apply(make_etc)"
   ]
  },
  {
   "cell_type": "code",
   "execution_count": 19,
   "id": "dc0ef333",
   "metadata": {
    "execution": {
     "iopub.execute_input": "2022-10-30T14:13:20.842525Z",
     "iopub.status.busy": "2022-10-30T14:13:20.841491Z",
     "iopub.status.idle": "2022-10-30T14:13:20.851212Z",
     "shell.execute_reply": "2022-10-30T14:13:20.851705Z"
    },
    "papermill": {
     "duration": 0.063086,
     "end_time": "2022-10-30T14:13:20.851887",
     "exception": false,
     "start_time": "2022-10-30T14:13:20.788801",
     "status": "completed"
    },
    "tags": []
   },
   "outputs": [
    {
     "data": {
      "text/html": [
       "<div>\n",
       "<style scoped>\n",
       "    .dataframe tbody tr th:only-of-type {\n",
       "        vertical-align: middle;\n",
       "    }\n",
       "\n",
       "    .dataframe tbody tr th {\n",
       "        vertical-align: top;\n",
       "    }\n",
       "\n",
       "    .dataframe thead th {\n",
       "        text-align: right;\n",
       "    }\n",
       "</style>\n",
       "<table border=\"1\" class=\"dataframe\">\n",
       "  <thead>\n",
       "    <tr style=\"text-align: right;\">\n",
       "      <th></th>\n",
       "      <th>상품분류명</th>\n",
       "      <th>상품분류ID</th>\n",
       "      <th>대분류</th>\n",
       "    </tr>\n",
       "  </thead>\n",
       "  <tbody>\n",
       "    <tr>\n",
       "      <th>0</th>\n",
       "      <td>PC - Гарнитуры/Наушники</td>\n",
       "      <td>0</td>\n",
       "      <td>etc</td>\n",
       "    </tr>\n",
       "    <tr>\n",
       "      <th>1</th>\n",
       "      <td>Аксессуары - PS2</td>\n",
       "      <td>1</td>\n",
       "      <td>Аксессуары</td>\n",
       "    </tr>\n",
       "    <tr>\n",
       "      <th>2</th>\n",
       "      <td>Аксессуары - PS3</td>\n",
       "      <td>2</td>\n",
       "      <td>Аксессуары</td>\n",
       "    </tr>\n",
       "    <tr>\n",
       "      <th>3</th>\n",
       "      <td>Аксессуары - PS4</td>\n",
       "      <td>3</td>\n",
       "      <td>Аксессуары</td>\n",
       "    </tr>\n",
       "    <tr>\n",
       "      <th>4</th>\n",
       "      <td>Аксессуары - PSP</td>\n",
       "      <td>4</td>\n",
       "      <td>Аксессуары</td>\n",
       "    </tr>\n",
       "  </tbody>\n",
       "</table>\n",
       "</div>"
      ],
      "text/plain": [
       "                     상품분류명  상품분류ID         대분류\n",
       "0  PC - Гарнитуры/Наушники       0         etc\n",
       "1         Аксессуары - PS2       1  Аксессуары\n",
       "2         Аксессуары - PS3       2  Аксессуары\n",
       "3         Аксессуары - PS4       3  Аксессуары\n",
       "4         Аксессуары - PSP       4  Аксессуары"
      ]
     },
     "execution_count": 19,
     "metadata": {},
     "output_type": "execute_result"
    }
   ],
   "source": [
    "item_categories.head()"
   ]
  },
  {
   "cell_type": "code",
   "execution_count": 20,
   "id": "f346f740",
   "metadata": {
    "execution": {
     "iopub.execute_input": "2022-10-30T14:13:20.960330Z",
     "iopub.status.busy": "2022-10-30T14:13:20.959464Z",
     "iopub.status.idle": "2022-10-30T14:13:20.962319Z",
     "shell.execute_reply": "2022-10-30T14:13:20.961753Z"
    },
    "papermill": {
     "duration": 0.060417,
     "end_time": "2022-10-30T14:13:20.962532",
     "exception": false,
     "start_time": "2022-10-30T14:13:20.902115",
     "status": "completed"
    },
    "tags": []
   },
   "outputs": [],
   "source": [
    "# 레이블 인코더 생성\n",
    "label_encoder = LabelEncoder()\n",
    "\n",
    "# 대분류 피처 레이블 인코딩\n",
    "item_categories['대분류'] = label_encoder.fit_transform(item_categories['대분류'])\n",
    "\n",
    "# 상품분류명 피처 제거\n",
    "item_categories = item_categories.drop('상품분류명', axis=1)"
   ]
  },
  {
   "cell_type": "markdown",
   "id": "0d8f38da",
   "metadata": {
    "papermill": {
     "duration": 0.049539,
     "end_time": "2022-10-30T14:13:21.063415",
     "exception": false,
     "start_time": "2022-10-30T14:13:21.013876",
     "status": "completed"
    },
    "tags": []
   },
   "source": [
    "##  피처 엔지니어링 III : 데이터 조합 및 파생 피처 생성"
   ]
  },
  {
   "cell_type": "markdown",
   "id": "8a4b1f57",
   "metadata": {
    "papermill": {
     "duration": 0.052746,
     "end_time": "2022-10-30T14:13:21.166579",
     "exception": false,
     "start_time": "2022-10-30T14:13:21.113833",
     "status": "completed"
    },
    "tags": []
   },
   "source": [
    "### 데이터 조합"
   ]
  },
  {
   "cell_type": "code",
   "execution_count": 21,
   "id": "c4e22c85",
   "metadata": {
    "execution": {
     "iopub.execute_input": "2022-10-30T14:13:21.277963Z",
     "iopub.status.busy": "2022-10-30T14:13:21.277070Z",
     "iopub.status.idle": "2022-10-30T14:13:34.164360Z",
     "shell.execute_reply": "2022-10-30T14:13:34.163779Z"
    },
    "papermill": {
     "duration": 12.946859,
     "end_time": "2022-10-30T14:13:34.164533",
     "exception": false,
     "start_time": "2022-10-30T14:13:21.217674",
     "status": "completed"
    },
    "tags": []
   },
   "outputs": [],
   "source": [
    "from itertools import product\n",
    "\n",
    "train = []\n",
    "# 월ID, 상점ID, 상품ID 조합 생성\n",
    "for i in sales_train['월ID'].unique():\n",
    "    all_shop = sales_train.loc[sales_train['월ID']==i, '상점ID'].unique()\n",
    "    all_item = sales_train.loc[sales_train['월ID']==i, '상품ID'].unique()\n",
    "    train.append(np.array(list(product([i], all_shop, all_item))))\n",
    "\n",
    "idx_features = ['월ID', '상점ID', '상품ID'] # 기준 피처\n",
    "train = pd.DataFrame(np.vstack(train), columns=idx_features)"
   ]
  },
  {
   "cell_type": "markdown",
   "id": "7203bebe",
   "metadata": {
    "papermill": {
     "duration": 0.049806,
     "end_time": "2022-10-30T14:13:34.265335",
     "exception": false,
     "start_time": "2022-10-30T14:13:34.215529",
     "status": "completed"
    },
    "tags": []
   },
   "source": [
    "### 파생 피처 생성"
   ]
  },
  {
   "cell_type": "code",
   "execution_count": 22,
   "id": "c3fe3bf5",
   "metadata": {
    "execution": {
     "iopub.execute_input": "2022-10-30T14:13:34.373754Z",
     "iopub.status.busy": "2022-10-30T14:13:34.372606Z",
     "iopub.status.idle": "2022-10-30T14:13:40.088516Z",
     "shell.execute_reply": "2022-10-30T14:13:40.087771Z"
    },
    "papermill": {
     "duration": 5.773074,
     "end_time": "2022-10-30T14:13:40.088688",
     "exception": false,
     "start_time": "2022-10-30T14:13:34.315614",
     "status": "completed"
    },
    "tags": []
   },
   "outputs": [
    {
     "data": {
      "text/html": [
       "<div>\n",
       "<style scoped>\n",
       "    .dataframe tbody tr th:only-of-type {\n",
       "        vertical-align: middle;\n",
       "    }\n",
       "\n",
       "    .dataframe tbody tr th {\n",
       "        vertical-align: top;\n",
       "    }\n",
       "\n",
       "    .dataframe thead th {\n",
       "        text-align: right;\n",
       "    }\n",
       "</style>\n",
       "<table border=\"1\" class=\"dataframe\">\n",
       "  <thead>\n",
       "    <tr style=\"text-align: right;\">\n",
       "      <th></th>\n",
       "      <th>월ID</th>\n",
       "      <th>상점ID</th>\n",
       "      <th>상품ID</th>\n",
       "      <th>월간 판매량</th>\n",
       "      <th>평균 판매가</th>\n",
       "    </tr>\n",
       "  </thead>\n",
       "  <tbody>\n",
       "    <tr>\n",
       "      <th>0</th>\n",
       "      <td>0</td>\n",
       "      <td>59</td>\n",
       "      <td>22154</td>\n",
       "      <td>1.0</td>\n",
       "      <td>999.0</td>\n",
       "    </tr>\n",
       "    <tr>\n",
       "      <th>1</th>\n",
       "      <td>0</td>\n",
       "      <td>59</td>\n",
       "      <td>2552</td>\n",
       "      <td>NaN</td>\n",
       "      <td>NaN</td>\n",
       "    </tr>\n",
       "    <tr>\n",
       "      <th>2</th>\n",
       "      <td>0</td>\n",
       "      <td>59</td>\n",
       "      <td>2554</td>\n",
       "      <td>NaN</td>\n",
       "      <td>NaN</td>\n",
       "    </tr>\n",
       "    <tr>\n",
       "      <th>3</th>\n",
       "      <td>0</td>\n",
       "      <td>59</td>\n",
       "      <td>2555</td>\n",
       "      <td>NaN</td>\n",
       "      <td>NaN</td>\n",
       "    </tr>\n",
       "    <tr>\n",
       "      <th>4</th>\n",
       "      <td>0</td>\n",
       "      <td>59</td>\n",
       "      <td>2564</td>\n",
       "      <td>NaN</td>\n",
       "      <td>NaN</td>\n",
       "    </tr>\n",
       "  </tbody>\n",
       "</table>\n",
       "</div>"
      ],
      "text/plain": [
       "   월ID  상점ID   상품ID  월간 판매량  평균 판매가\n",
       "0    0    59  22154     1.0   999.0\n",
       "1    0    59   2552     NaN     NaN\n",
       "2    0    59   2554     NaN     NaN\n",
       "3    0    59   2555     NaN     NaN\n",
       "4    0    59   2564     NaN     NaN"
      ]
     },
     "execution_count": 22,
     "metadata": {},
     "output_type": "execute_result"
    }
   ],
   "source": [
    "group = sales_train.groupby(idx_features).agg({'판매량': 'sum',\n",
    "                                               '판매가': 'mean'})\n",
    "group = group.reset_index()\n",
    "group = group.rename(columns={'판매량': '월간 판매량', '판매가': '평균 판매가'})\n",
    "\n",
    "train = train.merge(group, on=idx_features, how='left')\n",
    "\n",
    "train.head()"
   ]
  },
  {
   "cell_type": "code",
   "execution_count": 23,
   "id": "aed1e632",
   "metadata": {
    "execution": {
     "iopub.execute_input": "2022-10-30T14:13:40.306421Z",
     "iopub.status.busy": "2022-10-30T14:13:40.305073Z",
     "iopub.status.idle": "2022-10-30T14:13:40.308310Z",
     "shell.execute_reply": "2022-10-30T14:13:40.307719Z"
    },
    "papermill": {
     "duration": 0.168435,
     "end_time": "2022-10-30T14:13:40.308486",
     "exception": false,
     "start_time": "2022-10-30T14:13:40.140051",
     "status": "completed"
    },
    "tags": []
   },
   "outputs": [],
   "source": [
    "import gc\n",
    "\n",
    "# group 변수 가비지 컬렉션\n",
    "del group\n",
    "gc.collect();"
   ]
  },
  {
   "cell_type": "code",
   "execution_count": 24,
   "id": "5757e03b",
   "metadata": {
    "execution": {
     "iopub.execute_input": "2022-10-30T14:13:40.418772Z",
     "iopub.status.busy": "2022-10-30T14:13:40.417747Z",
     "iopub.status.idle": "2022-10-30T14:13:46.008138Z",
     "shell.execute_reply": "2022-10-30T14:13:46.007483Z"
    },
    "papermill": {
     "duration": 5.648515,
     "end_time": "2022-10-30T14:13:46.008311",
     "exception": false,
     "start_time": "2022-10-30T14:13:40.359796",
     "status": "completed"
    },
    "tags": []
   },
   "outputs": [
    {
     "data": {
      "text/html": [
       "<div>\n",
       "<style scoped>\n",
       "    .dataframe tbody tr th:only-of-type {\n",
       "        vertical-align: middle;\n",
       "    }\n",
       "\n",
       "    .dataframe tbody tr th {\n",
       "        vertical-align: top;\n",
       "    }\n",
       "\n",
       "    .dataframe thead th {\n",
       "        text-align: right;\n",
       "    }\n",
       "</style>\n",
       "<table border=\"1\" class=\"dataframe\">\n",
       "  <thead>\n",
       "    <tr style=\"text-align: right;\">\n",
       "      <th></th>\n",
       "      <th>월ID</th>\n",
       "      <th>상점ID</th>\n",
       "      <th>상품ID</th>\n",
       "      <th>월간 판매량</th>\n",
       "      <th>평균 판매가</th>\n",
       "      <th>판매건수</th>\n",
       "    </tr>\n",
       "  </thead>\n",
       "  <tbody>\n",
       "    <tr>\n",
       "      <th>0</th>\n",
       "      <td>0</td>\n",
       "      <td>59</td>\n",
       "      <td>22154</td>\n",
       "      <td>1.0</td>\n",
       "      <td>999.0</td>\n",
       "      <td>1.0</td>\n",
       "    </tr>\n",
       "    <tr>\n",
       "      <th>1</th>\n",
       "      <td>0</td>\n",
       "      <td>59</td>\n",
       "      <td>2552</td>\n",
       "      <td>NaN</td>\n",
       "      <td>NaN</td>\n",
       "      <td>NaN</td>\n",
       "    </tr>\n",
       "    <tr>\n",
       "      <th>2</th>\n",
       "      <td>0</td>\n",
       "      <td>59</td>\n",
       "      <td>2554</td>\n",
       "      <td>NaN</td>\n",
       "      <td>NaN</td>\n",
       "      <td>NaN</td>\n",
       "    </tr>\n",
       "    <tr>\n",
       "      <th>3</th>\n",
       "      <td>0</td>\n",
       "      <td>59</td>\n",
       "      <td>2555</td>\n",
       "      <td>NaN</td>\n",
       "      <td>NaN</td>\n",
       "      <td>NaN</td>\n",
       "    </tr>\n",
       "    <tr>\n",
       "      <th>4</th>\n",
       "      <td>0</td>\n",
       "      <td>59</td>\n",
       "      <td>2564</td>\n",
       "      <td>NaN</td>\n",
       "      <td>NaN</td>\n",
       "      <td>NaN</td>\n",
       "    </tr>\n",
       "  </tbody>\n",
       "</table>\n",
       "</div>"
      ],
      "text/plain": [
       "   월ID  상점ID   상품ID  월간 판매량  평균 판매가  판매건수\n",
       "0    0    59  22154     1.0   999.0   1.0\n",
       "1    0    59   2552     NaN     NaN   NaN\n",
       "2    0    59   2554     NaN     NaN   NaN\n",
       "3    0    59   2555     NaN     NaN   NaN\n",
       "4    0    59   2564     NaN     NaN   NaN"
      ]
     },
     "execution_count": 24,
     "metadata": {},
     "output_type": "execute_result"
    }
   ],
   "source": [
    "# 상품 판매건수 피처 추가\n",
    "group = sales_train.groupby(idx_features).agg({'판매량': 'count'})\n",
    "group = group.reset_index()\n",
    "group = group.rename(columns={'판매량': '판매건수'})\n",
    "\n",
    "train = train.merge(group, on=idx_features, how='left')\n",
    "\n",
    "# 가비지 컬렉션\n",
    "del group, sales_train\n",
    "gc.collect()\n",
    "\n",
    "train.head()"
   ]
  },
  {
   "cell_type": "markdown",
   "id": "5e6a7783",
   "metadata": {
    "papermill": {
     "duration": 0.050203,
     "end_time": "2022-10-30T14:13:46.109847",
     "exception": false,
     "start_time": "2022-10-30T14:13:46.059644",
     "status": "completed"
    },
    "tags": []
   },
   "source": [
    "##  피처 엔지니어링 IV : 데이터 합치기"
   ]
  },
  {
   "cell_type": "markdown",
   "id": "d286bb0d",
   "metadata": {
    "papermill": {
     "duration": 0.066309,
     "end_time": "2022-10-30T14:13:46.232788",
     "exception": false,
     "start_time": "2022-10-30T14:13:46.166479",
     "status": "completed"
    },
    "tags": []
   },
   "source": [
    "### 테스트 데이터 이어붙이기"
   ]
  },
  {
   "cell_type": "code",
   "execution_count": 25,
   "id": "7c1aa60c",
   "metadata": {
    "execution": {
     "iopub.execute_input": "2022-10-30T14:13:46.354202Z",
     "iopub.status.busy": "2022-10-30T14:13:46.353480Z",
     "iopub.status.idle": "2022-10-30T14:13:46.893348Z",
     "shell.execute_reply": "2022-10-30T14:13:46.892524Z"
    },
    "papermill": {
     "duration": 0.602757,
     "end_time": "2022-10-30T14:13:46.893526",
     "exception": false,
     "start_time": "2022-10-30T14:13:46.290769",
     "status": "completed"
    },
    "tags": []
   },
   "outputs": [
    {
     "data": {
      "text/html": [
       "<div>\n",
       "<style scoped>\n",
       "    .dataframe tbody tr th:only-of-type {\n",
       "        vertical-align: middle;\n",
       "    }\n",
       "\n",
       "    .dataframe tbody tr th {\n",
       "        vertical-align: top;\n",
       "    }\n",
       "\n",
       "    .dataframe thead th {\n",
       "        text-align: right;\n",
       "    }\n",
       "</style>\n",
       "<table border=\"1\" class=\"dataframe\">\n",
       "  <thead>\n",
       "    <tr style=\"text-align: right;\">\n",
       "      <th></th>\n",
       "      <th>월ID</th>\n",
       "      <th>상점ID</th>\n",
       "      <th>상품ID</th>\n",
       "      <th>월간 판매량</th>\n",
       "      <th>평균 판매가</th>\n",
       "      <th>판매건수</th>\n",
       "    </tr>\n",
       "  </thead>\n",
       "  <tbody>\n",
       "    <tr>\n",
       "      <th>0</th>\n",
       "      <td>0</td>\n",
       "      <td>59</td>\n",
       "      <td>22154</td>\n",
       "      <td>1.0</td>\n",
       "      <td>999.0</td>\n",
       "      <td>1.0</td>\n",
       "    </tr>\n",
       "    <tr>\n",
       "      <th>1</th>\n",
       "      <td>0</td>\n",
       "      <td>59</td>\n",
       "      <td>2552</td>\n",
       "      <td>0.0</td>\n",
       "      <td>0.0</td>\n",
       "      <td>0.0</td>\n",
       "    </tr>\n",
       "    <tr>\n",
       "      <th>2</th>\n",
       "      <td>0</td>\n",
       "      <td>59</td>\n",
       "      <td>2554</td>\n",
       "      <td>0.0</td>\n",
       "      <td>0.0</td>\n",
       "      <td>0.0</td>\n",
       "    </tr>\n",
       "    <tr>\n",
       "      <th>3</th>\n",
       "      <td>0</td>\n",
       "      <td>59</td>\n",
       "      <td>2555</td>\n",
       "      <td>0.0</td>\n",
       "      <td>0.0</td>\n",
       "      <td>0.0</td>\n",
       "    </tr>\n",
       "    <tr>\n",
       "      <th>4</th>\n",
       "      <td>0</td>\n",
       "      <td>59</td>\n",
       "      <td>2564</td>\n",
       "      <td>0.0</td>\n",
       "      <td>0.0</td>\n",
       "      <td>0.0</td>\n",
       "    </tr>\n",
       "  </tbody>\n",
       "</table>\n",
       "</div>"
      ],
      "text/plain": [
       "   월ID  상점ID   상품ID  월간 판매량  평균 판매가  판매건수\n",
       "0    0    59  22154     1.0   999.0   1.0\n",
       "1    0    59   2552     0.0     0.0   0.0\n",
       "2    0    59   2554     0.0     0.0   0.0\n",
       "3    0    59   2555     0.0     0.0   0.0\n",
       "4    0    59   2564     0.0     0.0   0.0"
      ]
     },
     "execution_count": 25,
     "metadata": {},
     "output_type": "execute_result"
    }
   ],
   "source": [
    "# 테스트 데이터 월ID를 34로 설정\n",
    "test['월ID'] = 34\n",
    "\n",
    "# train과 test 이어붙이기\n",
    "all_data = pd.concat([train, test.drop('ID', axis=1)],\n",
    "                     ignore_index=True,\n",
    "                     keys=idx_features)\n",
    "# 결측값을 0으로 대체\n",
    "all_data = all_data.fillna(0)\n",
    "\n",
    "all_data.head()"
   ]
  },
  {
   "cell_type": "markdown",
   "id": "e1e8c678",
   "metadata": {
    "papermill": {
     "duration": 0.051042,
     "end_time": "2022-10-30T14:13:46.996703",
     "exception": false,
     "start_time": "2022-10-30T14:13:46.945661",
     "status": "completed"
    },
    "tags": []
   },
   "source": [
    "### 모든 데이터 병합"
   ]
  },
  {
   "cell_type": "code",
   "execution_count": 26,
   "id": "c97d5e86",
   "metadata": {
    "execution": {
     "iopub.execute_input": "2022-10-30T14:13:47.107634Z",
     "iopub.status.busy": "2022-10-30T14:13:47.106096Z",
     "iopub.status.idle": "2022-10-30T14:13:54.214094Z",
     "shell.execute_reply": "2022-10-30T14:13:54.213412Z"
    },
    "papermill": {
     "duration": 7.166188,
     "end_time": "2022-10-30T14:13:54.214271",
     "exception": false,
     "start_time": "2022-10-30T14:13:47.048083",
     "status": "completed"
    },
    "tags": []
   },
   "outputs": [
    {
     "name": "stdout",
     "output_type": "stream",
     "text": [
      "64.6% 압축됨\n"
     ]
    }
   ],
   "source": [
    "# 나머지 데이터 병합\n",
    "all_data = all_data.merge(shops, on='상점ID', how='left')\n",
    "all_data = all_data.merge(items, on='상품ID', how='left')\n",
    "all_data = all_data.merge(item_categories, on='상품분류ID', how='left')\n",
    "\n",
    "# 데이터 다운캐스팅\n",
    "all_data = downcast(all_data)"
   ]
  },
  {
   "cell_type": "code",
   "execution_count": 27,
   "id": "c7870290",
   "metadata": {
    "execution": {
     "iopub.execute_input": "2022-10-30T14:13:54.436894Z",
     "iopub.status.busy": "2022-10-30T14:13:54.435967Z",
     "iopub.status.idle": "2022-10-30T14:13:54.440055Z",
     "shell.execute_reply": "2022-10-30T14:13:54.439536Z"
    },
    "papermill": {
     "duration": 0.171532,
     "end_time": "2022-10-30T14:13:54.440217",
     "exception": false,
     "start_time": "2022-10-30T14:13:54.268685",
     "status": "completed"
    },
    "tags": []
   },
   "outputs": [],
   "source": [
    "# 가비지 컬렉션\n",
    "del shops, items, item_categories\n",
    "gc.collect();"
   ]
  },
  {
   "cell_type": "markdown",
   "id": "a6c6aa9d",
   "metadata": {
    "papermill": {
     "duration": 0.052829,
     "end_time": "2022-10-30T14:13:54.547248",
     "exception": false,
     "start_time": "2022-10-30T14:13:54.494419",
     "status": "completed"
    },
    "tags": []
   },
   "source": [
    "##  피처 엔지니어링 V : 시차 피처 생성"
   ]
  },
  {
   "cell_type": "markdown",
   "id": "c0691f62",
   "metadata": {
    "papermill": {
     "duration": 0.054451,
     "end_time": "2022-10-30T14:13:54.656836",
     "exception": false,
     "start_time": "2022-10-30T14:13:54.602385",
     "status": "completed"
    },
    "tags": []
   },
   "source": [
    "### 기준 피처별 월간 평균 판매량 파생 피처 생성"
   ]
  },
  {
   "cell_type": "code",
   "execution_count": 28,
   "id": "f4f6aafc",
   "metadata": {
    "execution": {
     "iopub.execute_input": "2022-10-30T14:13:54.772798Z",
     "iopub.status.busy": "2022-10-30T14:13:54.771759Z",
     "iopub.status.idle": "2022-10-30T14:13:54.780602Z",
     "shell.execute_reply": "2022-10-30T14:13:54.781182Z"
    },
    "papermill": {
     "duration": 0.068042,
     "end_time": "2022-10-30T14:13:54.781391",
     "exception": false,
     "start_time": "2022-10-30T14:13:54.713349",
     "status": "completed"
    },
    "tags": []
   },
   "outputs": [],
   "source": [
    "def add_mean_features(df, mean_features, idx_features):\n",
    "    # 기준 피처 확인 \n",
    "    assert (idx_features[0] == '월ID') and \\\n",
    "           len(idx_features) in [2, 3]\n",
    "    \n",
    "    # 파생 피처명 설정 \n",
    "    if len(idx_features) == 2:\n",
    "        feature_name = idx_features[1] + '별 평균 판매량'\n",
    "    else:\n",
    "        feature_name = idx_features[1] + ' ' + idx_features[2] + '별 평균 판매량'\n",
    "    \n",
    "    # 기준 피처를 토대로 그룹화해 월간 평균 판매량 구하기 \n",
    "    group = df.groupby(idx_features).agg({'월간 판매량': 'mean'})\n",
    "    group = group.reset_index()\n",
    "    group = group.rename(columns={'월간 판매량': feature_name})\n",
    "    \n",
    "    # df와 group 병합 \n",
    "    df = df.merge(group, on=idx_features, how='left')\n",
    "    # 데이터 다운캐스팅 \n",
    "    df = downcast(df, verbose=False)\n",
    "    # 새로 만든 feature_name 피처명을 mean_features 리스트에 추가 \n",
    "    mean_features.append(feature_name)\n",
    "    \n",
    "    # 가비지 컬렉션\n",
    "    del group\n",
    "    gc.collect()\n",
    "    \n",
    "    return df, mean_features"
   ]
  },
  {
   "cell_type": "code",
   "execution_count": 29,
   "id": "af2821ec",
   "metadata": {
    "execution": {
     "iopub.execute_input": "2022-10-30T14:13:54.899042Z",
     "iopub.status.busy": "2022-10-30T14:13:54.896325Z",
     "iopub.status.idle": "2022-10-30T14:14:10.258771Z",
     "shell.execute_reply": "2022-10-30T14:14:10.258082Z"
    },
    "papermill": {
     "duration": 15.421813,
     "end_time": "2022-10-30T14:14:10.258933",
     "exception": false,
     "start_time": "2022-10-30T14:13:54.837120",
     "status": "completed"
    },
    "tags": []
   },
   "outputs": [],
   "source": [
    "# 그룹화 기준 피처 중 '상품ID'가 포함된 파생 피처명을 담을 리스트\n",
    "item_mean_features = []\n",
    "\n",
    "# ['월ID', '상품ID']로 그룹화한 월간 평균 판매량 파생 피처 생성\n",
    "all_data, item_mean_features = add_mean_features(df=all_data,\n",
    "                                                 mean_features=item_mean_features,\n",
    "                                                 idx_features=['월ID', '상품ID'])\n",
    "\n",
    "# ['월ID', '상품ID', '도시']로 그룹화한 월간 평균 판매량 파생 피처 생성\n",
    "all_data, item_mean_features = add_mean_features(df=all_data,\n",
    "                                                 mean_features=item_mean_features,\n",
    "                                                 idx_features=['월ID', '상품ID', '도시'])"
   ]
  },
  {
   "cell_type": "code",
   "execution_count": 30,
   "id": "85b04b8c",
   "metadata": {
    "execution": {
     "iopub.execute_input": "2022-10-30T14:14:10.375965Z",
     "iopub.status.busy": "2022-10-30T14:14:10.375212Z",
     "iopub.status.idle": "2022-10-30T14:14:10.378219Z",
     "shell.execute_reply": "2022-10-30T14:14:10.378765Z"
    },
    "papermill": {
     "duration": 0.06576,
     "end_time": "2022-10-30T14:14:10.378947",
     "exception": false,
     "start_time": "2022-10-30T14:14:10.313187",
     "status": "completed"
    },
    "tags": []
   },
   "outputs": [
    {
     "data": {
      "text/plain": [
       "['상품ID별 평균 판매량', '상품ID 도시별 평균 판매량']"
      ]
     },
     "execution_count": 30,
     "metadata": {},
     "output_type": "execute_result"
    }
   ],
   "source": [
    "item_mean_features"
   ]
  },
  {
   "cell_type": "code",
   "execution_count": 31,
   "id": "2675694c",
   "metadata": {
    "execution": {
     "iopub.execute_input": "2022-10-30T14:14:10.495914Z",
     "iopub.status.busy": "2022-10-30T14:14:10.494641Z",
     "iopub.status.idle": "2022-10-30T14:14:14.192438Z",
     "shell.execute_reply": "2022-10-30T14:14:14.191681Z"
    },
    "papermill": {
     "duration": 3.75787,
     "end_time": "2022-10-30T14:14:14.192605",
     "exception": false,
     "start_time": "2022-10-30T14:14:10.434735",
     "status": "completed"
    },
    "tags": []
   },
   "outputs": [],
   "source": [
    "# 그룹화 기준 피처 중 '상점ID'가 포함된 파생 피처명을 담을 리스트\n",
    "shop_mean_features = []\n",
    "\n",
    "# ['월ID', '상점ID', '상품분류ID']로 그룹화한 월간 평균 판매량 파생 피처 생성\n",
    "all_data, shop_mean_features = add_mean_features(df=all_data, \n",
    "                                                 mean_features=shop_mean_features,\n",
    "                                                 idx_features=['월ID', '상점ID', '상품분류ID'])"
   ]
  },
  {
   "cell_type": "code",
   "execution_count": 32,
   "id": "72974935",
   "metadata": {
    "execution": {
     "iopub.execute_input": "2022-10-30T14:14:14.306894Z",
     "iopub.status.busy": "2022-10-30T14:14:14.306108Z",
     "iopub.status.idle": "2022-10-30T14:14:14.310052Z",
     "shell.execute_reply": "2022-10-30T14:14:14.309430Z"
    },
    "papermill": {
     "duration": 0.063349,
     "end_time": "2022-10-30T14:14:14.310212",
     "exception": false,
     "start_time": "2022-10-30T14:14:14.246863",
     "status": "completed"
    },
    "tags": []
   },
   "outputs": [
    {
     "data": {
      "text/plain": [
       "['상점ID 상품분류ID별 평균 판매량']"
      ]
     },
     "execution_count": 32,
     "metadata": {},
     "output_type": "execute_result"
    }
   ],
   "source": [
    "shop_mean_features"
   ]
  },
  {
   "cell_type": "markdown",
   "id": "a9d7dfb5",
   "metadata": {
    "papermill": {
     "duration": 0.055726,
     "end_time": "2022-10-30T14:14:14.419420",
     "exception": false,
     "start_time": "2022-10-30T14:14:14.363694",
     "status": "completed"
    },
    "tags": []
   },
   "source": [
    "### 시차 피처 생성 원리와 구현"
   ]
  },
  {
   "cell_type": "code",
   "execution_count": 33,
   "id": "baee5282",
   "metadata": {
    "execution": {
     "iopub.execute_input": "2022-10-30T14:14:14.536742Z",
     "iopub.status.busy": "2022-10-30T14:14:14.536025Z",
     "iopub.status.idle": "2022-10-30T14:14:14.538326Z",
     "shell.execute_reply": "2022-10-30T14:14:14.538842Z"
    },
    "papermill": {
     "duration": 0.065882,
     "end_time": "2022-10-30T14:14:14.539036",
     "exception": false,
     "start_time": "2022-10-30T14:14:14.473154",
     "status": "completed"
    },
    "tags": []
   },
   "outputs": [],
   "source": [
    "def add_lag_features(df, lag_features_to_clip, idx_features, \n",
    "                     lag_feature, nlags=3, clip=False):\n",
    "    # 시차 피처 생성에 필요한 DataFrame 부분만 복사 \n",
    "    df_temp = df[idx_features + [lag_feature]].copy() \n",
    "\n",
    "    # 시차 피처 생성 \n",
    "    for i in range(1, nlags+1):\n",
    "        # 시차 피처명 \n",
    "        lag_feature_name = lag_feature +'_시차' + str(i)\n",
    "        # df_temp 열 이름 설정 \n",
    "        df_temp.columns = idx_features + [lag_feature_name]\n",
    "        # df_temp의 date_block_num 피처에 1 더하기 \n",
    "        df_temp['월ID'] += 1\n",
    "        # idx_feature를 기준으로 df와 df_temp 병합하기 \n",
    "        df = df.merge(df_temp.drop_duplicates(), \n",
    "                      on=idx_features, \n",
    "                      how='left')\n",
    "        # 결측값 0으로 대체 \n",
    "        df[lag_feature_name] = df[lag_feature_name].fillna(0)\n",
    "        # 0 ~ 20 사이로 제한할 시차 피처명을 lag_features_to_clip에 추가 \n",
    "        if clip: \n",
    "            lag_features_to_clip.append(lag_feature_name)\n",
    "    \n",
    "    # 데이터 다운캐스팅\n",
    "    df = downcast(df, False)\n",
    "    # 가비지 컬렉션\n",
    "    del df_temp\n",
    "    gc.collect()\n",
    "    \n",
    "    return df, lag_features_to_clip"
   ]
  },
  {
   "cell_type": "markdown",
   "id": "ff229b3e",
   "metadata": {
    "papermill": {
     "duration": 0.053266,
     "end_time": "2022-10-30T14:14:14.646799",
     "exception": false,
     "start_time": "2022-10-30T14:14:14.593533",
     "status": "completed"
    },
    "tags": []
   },
   "source": [
    "### 시차 피처 생성 I : 월간 판매량"
   ]
  },
  {
   "cell_type": "code",
   "execution_count": 34,
   "id": "9ed27b64",
   "metadata": {
    "execution": {
     "iopub.execute_input": "2022-10-30T14:14:14.762209Z",
     "iopub.status.busy": "2022-10-30T14:14:14.761440Z",
     "iopub.status.idle": "2022-10-30T14:14:51.312393Z",
     "shell.execute_reply": "2022-10-30T14:14:51.312936Z"
    },
    "papermill": {
     "duration": 36.612529,
     "end_time": "2022-10-30T14:14:51.313140",
     "exception": false,
     "start_time": "2022-10-30T14:14:14.700611",
     "status": "completed"
    },
    "tags": []
   },
   "outputs": [],
   "source": [
    "lag_features_to_clip = [] # 0 ~ 20 사이로 제한할 시차 피처명을 담을 리스트\n",
    "idx_features = ['월ID', '상점ID', '상품ID'] # 기준 피처\n",
    "\n",
    "# idx_features를 기준으로 월간 판매량의 세 달치 시차 피처 생성\n",
    "all_data, lag_features_to_clip = add_lag_features(df=all_data, \n",
    "                                                  lag_features_to_clip=lag_features_to_clip,\n",
    "                                                  idx_features=idx_features,\n",
    "                                                  lag_feature='월간 판매량', \n",
    "                                                  nlags=3,\n",
    "                                                  clip=True) # 값을 0 ~ 20 사이로 제한"
   ]
  },
  {
   "cell_type": "code",
   "execution_count": 35,
   "id": "8d9ebe71",
   "metadata": {
    "execution": {
     "iopub.execute_input": "2022-10-30T14:14:51.433226Z",
     "iopub.status.busy": "2022-10-30T14:14:51.432206Z",
     "iopub.status.idle": "2022-10-30T14:14:51.447526Z",
     "shell.execute_reply": "2022-10-30T14:14:51.446917Z"
    },
    "papermill": {
     "duration": 0.078242,
     "end_time": "2022-10-30T14:14:51.447685",
     "exception": false,
     "start_time": "2022-10-30T14:14:51.369443",
     "status": "completed"
    },
    "tags": []
   },
   "outputs": [
    {
     "data": {
      "text/html": [
       "<div>\n",
       "<style scoped>\n",
       "    .dataframe tbody tr th:only-of-type {\n",
       "        vertical-align: middle;\n",
       "    }\n",
       "\n",
       "    .dataframe tbody tr th {\n",
       "        vertical-align: top;\n",
       "    }\n",
       "\n",
       "    .dataframe thead th {\n",
       "        text-align: right;\n",
       "    }\n",
       "</style>\n",
       "<table border=\"1\" class=\"dataframe\">\n",
       "  <thead>\n",
       "    <tr style=\"text-align: right;\">\n",
       "      <th></th>\n",
       "      <th>0</th>\n",
       "      <th>1</th>\n",
       "      <th>2</th>\n",
       "      <th>3</th>\n",
       "      <th>4</th>\n",
       "    </tr>\n",
       "  </thead>\n",
       "  <tbody>\n",
       "    <tr>\n",
       "      <th>월ID</th>\n",
       "      <td>0.000000</td>\n",
       "      <td>0.000000</td>\n",
       "      <td>0.000000</td>\n",
       "      <td>0.000000</td>\n",
       "      <td>0.000000</td>\n",
       "    </tr>\n",
       "    <tr>\n",
       "      <th>상점ID</th>\n",
       "      <td>59.000000</td>\n",
       "      <td>59.000000</td>\n",
       "      <td>59.000000</td>\n",
       "      <td>59.000000</td>\n",
       "      <td>59.000000</td>\n",
       "    </tr>\n",
       "    <tr>\n",
       "      <th>상품ID</th>\n",
       "      <td>22154.000000</td>\n",
       "      <td>2552.000000</td>\n",
       "      <td>2554.000000</td>\n",
       "      <td>2555.000000</td>\n",
       "      <td>2564.000000</td>\n",
       "    </tr>\n",
       "    <tr>\n",
       "      <th>월간 판매량</th>\n",
       "      <td>1.000000</td>\n",
       "      <td>0.000000</td>\n",
       "      <td>0.000000</td>\n",
       "      <td>0.000000</td>\n",
       "      <td>0.000000</td>\n",
       "    </tr>\n",
       "    <tr>\n",
       "      <th>평균 판매가</th>\n",
       "      <td>999.000000</td>\n",
       "      <td>0.000000</td>\n",
       "      <td>0.000000</td>\n",
       "      <td>0.000000</td>\n",
       "      <td>0.000000</td>\n",
       "    </tr>\n",
       "    <tr>\n",
       "      <th>판매건수</th>\n",
       "      <td>1.000000</td>\n",
       "      <td>0.000000</td>\n",
       "      <td>0.000000</td>\n",
       "      <td>0.000000</td>\n",
       "      <td>0.000000</td>\n",
       "    </tr>\n",
       "    <tr>\n",
       "      <th>도시</th>\n",
       "      <td>30.000000</td>\n",
       "      <td>30.000000</td>\n",
       "      <td>30.000000</td>\n",
       "      <td>30.000000</td>\n",
       "      <td>30.000000</td>\n",
       "    </tr>\n",
       "    <tr>\n",
       "      <th>상품분류ID</th>\n",
       "      <td>37.000000</td>\n",
       "      <td>58.000000</td>\n",
       "      <td>58.000000</td>\n",
       "      <td>56.000000</td>\n",
       "      <td>59.000000</td>\n",
       "    </tr>\n",
       "    <tr>\n",
       "      <th>첫 판매월</th>\n",
       "      <td>0.000000</td>\n",
       "      <td>0.000000</td>\n",
       "      <td>0.000000</td>\n",
       "      <td>0.000000</td>\n",
       "      <td>0.000000</td>\n",
       "    </tr>\n",
       "    <tr>\n",
       "      <th>대분류</th>\n",
       "      <td>5.000000</td>\n",
       "      <td>7.000000</td>\n",
       "      <td>7.000000</td>\n",
       "      <td>7.000000</td>\n",
       "      <td>7.000000</td>\n",
       "    </tr>\n",
       "    <tr>\n",
       "      <th>상품ID별 평균 판매량</th>\n",
       "      <td>0.400000</td>\n",
       "      <td>0.022222</td>\n",
       "      <td>0.022222</td>\n",
       "      <td>0.044444</td>\n",
       "      <td>0.111111</td>\n",
       "    </tr>\n",
       "    <tr>\n",
       "      <th>상품ID 도시별 평균 판매량</th>\n",
       "      <td>1.000000</td>\n",
       "      <td>0.000000</td>\n",
       "      <td>0.000000</td>\n",
       "      <td>0.000000</td>\n",
       "      <td>0.000000</td>\n",
       "    </tr>\n",
       "    <tr>\n",
       "      <th>상점ID 상품분류ID별 평균 판매량</th>\n",
       "      <td>0.088496</td>\n",
       "      <td>0.000000</td>\n",
       "      <td>0.000000</td>\n",
       "      <td>0.008333</td>\n",
       "      <td>0.011976</td>\n",
       "    </tr>\n",
       "    <tr>\n",
       "      <th>월간 판매량_시차1</th>\n",
       "      <td>0.000000</td>\n",
       "      <td>0.000000</td>\n",
       "      <td>0.000000</td>\n",
       "      <td>0.000000</td>\n",
       "      <td>0.000000</td>\n",
       "    </tr>\n",
       "    <tr>\n",
       "      <th>월간 판매량_시차2</th>\n",
       "      <td>0.000000</td>\n",
       "      <td>0.000000</td>\n",
       "      <td>0.000000</td>\n",
       "      <td>0.000000</td>\n",
       "      <td>0.000000</td>\n",
       "    </tr>\n",
       "    <tr>\n",
       "      <th>월간 판매량_시차3</th>\n",
       "      <td>0.000000</td>\n",
       "      <td>0.000000</td>\n",
       "      <td>0.000000</td>\n",
       "      <td>0.000000</td>\n",
       "      <td>0.000000</td>\n",
       "    </tr>\n",
       "  </tbody>\n",
       "</table>\n",
       "</div>"
      ],
      "text/plain": [
       "                                0            1            2            3  \\\n",
       "월ID                      0.000000     0.000000     0.000000     0.000000   \n",
       "상점ID                    59.000000    59.000000    59.000000    59.000000   \n",
       "상품ID                 22154.000000  2552.000000  2554.000000  2555.000000   \n",
       "월간 판매량                   1.000000     0.000000     0.000000     0.000000   \n",
       "평균 판매가                 999.000000     0.000000     0.000000     0.000000   \n",
       "판매건수                     1.000000     0.000000     0.000000     0.000000   \n",
       "도시                      30.000000    30.000000    30.000000    30.000000   \n",
       "상품분류ID                  37.000000    58.000000    58.000000    56.000000   \n",
       "첫 판매월                    0.000000     0.000000     0.000000     0.000000   \n",
       "대분류                      5.000000     7.000000     7.000000     7.000000   \n",
       "상품ID별 평균 판매량             0.400000     0.022222     0.022222     0.044444   \n",
       "상품ID 도시별 평균 판매량          1.000000     0.000000     0.000000     0.000000   \n",
       "상점ID 상품분류ID별 평균 판매량      0.088496     0.000000     0.000000     0.008333   \n",
       "월간 판매량_시차1               0.000000     0.000000     0.000000     0.000000   \n",
       "월간 판매량_시차2               0.000000     0.000000     0.000000     0.000000   \n",
       "월간 판매량_시차3               0.000000     0.000000     0.000000     0.000000   \n",
       "\n",
       "                               4  \n",
       "월ID                     0.000000  \n",
       "상점ID                   59.000000  \n",
       "상품ID                 2564.000000  \n",
       "월간 판매량                  0.000000  \n",
       "평균 판매가                  0.000000  \n",
       "판매건수                    0.000000  \n",
       "도시                     30.000000  \n",
       "상품분류ID                 59.000000  \n",
       "첫 판매월                   0.000000  \n",
       "대분류                     7.000000  \n",
       "상품ID별 평균 판매량            0.111111  \n",
       "상품ID 도시별 평균 판매량         0.000000  \n",
       "상점ID 상품분류ID별 평균 판매량     0.011976  \n",
       "월간 판매량_시차1              0.000000  \n",
       "월간 판매량_시차2              0.000000  \n",
       "월간 판매량_시차3              0.000000  "
      ]
     },
     "execution_count": 35,
     "metadata": {},
     "output_type": "execute_result"
    }
   ],
   "source": [
    "all_data.head().T"
   ]
  },
  {
   "cell_type": "code",
   "execution_count": 36,
   "id": "281487bf",
   "metadata": {
    "execution": {
     "iopub.execute_input": "2022-10-30T14:14:51.566551Z",
     "iopub.status.busy": "2022-10-30T14:14:51.565411Z",
     "iopub.status.idle": "2022-10-30T14:14:51.570477Z",
     "shell.execute_reply": "2022-10-30T14:14:51.569932Z"
    },
    "papermill": {
     "duration": 0.067418,
     "end_time": "2022-10-30T14:14:51.570634",
     "exception": false,
     "start_time": "2022-10-30T14:14:51.503216",
     "status": "completed"
    },
    "tags": []
   },
   "outputs": [
    {
     "data": {
      "text/plain": [
       "['월간 판매량_시차1', '월간 판매량_시차2', '월간 판매량_시차3']"
      ]
     },
     "execution_count": 36,
     "metadata": {},
     "output_type": "execute_result"
    }
   ],
   "source": [
    "lag_features_to_clip"
   ]
  },
  {
   "cell_type": "markdown",
   "id": "435c6903",
   "metadata": {
    "papermill": {
     "duration": 0.056483,
     "end_time": "2022-10-30T14:14:51.683105",
     "exception": false,
     "start_time": "2022-10-30T14:14:51.626622",
     "status": "completed"
    },
    "tags": []
   },
   "source": [
    "### 시차 피처 생성 II : 판매건수, 평균 판매가"
   ]
  },
  {
   "cell_type": "code",
   "execution_count": 37,
   "id": "58053a4b",
   "metadata": {
    "execution": {
     "iopub.execute_input": "2022-10-30T14:14:51.804197Z",
     "iopub.status.busy": "2022-10-30T14:14:51.803410Z",
     "iopub.status.idle": "2022-10-30T14:16:07.274853Z",
     "shell.execute_reply": "2022-10-30T14:16:07.274227Z"
    },
    "papermill": {
     "duration": 75.535454,
     "end_time": "2022-10-30T14:16:07.275028",
     "exception": false,
     "start_time": "2022-10-30T14:14:51.739574",
     "status": "completed"
    },
    "tags": []
   },
   "outputs": [],
   "source": [
    "# idx_features를 기준으로 판매건수 피처의 세 달치 시차 피처 생성\n",
    "all_data, lag_features_to_clip = add_lag_features(df=all_data, \n",
    "                                                  lag_features_to_clip=lag_features_to_clip,\n",
    "                                                  idx_features=idx_features,\n",
    "                                                  lag_feature='판매건수', \n",
    "                                                  nlags=3)\n",
    "\n",
    "# idx_features를 기준으로 평균 판매가 피처의 세 달치 시차 피처 생성\n",
    "all_data, lag_features_to_clip = add_lag_features(df=all_data, \n",
    "                                                  lag_features_to_clip=lag_features_to_clip,\n",
    "                                                  idx_features=idx_features,\n",
    "                                                  lag_feature='평균 판매가', \n",
    "                                                  nlags=3)"
   ]
  },
  {
   "cell_type": "markdown",
   "id": "13ff69ab",
   "metadata": {
    "papermill": {
     "duration": 0.055863,
     "end_time": "2022-10-30T14:16:07.386977",
     "exception": false,
     "start_time": "2022-10-30T14:16:07.331114",
     "status": "completed"
    },
    "tags": []
   },
   "source": [
    "### 시차 피처 생성 III : 평균 판매량"
   ]
  },
  {
   "cell_type": "code",
   "execution_count": 38,
   "id": "62af0e40",
   "metadata": {
    "execution": {
     "iopub.execute_input": "2022-10-30T14:16:07.510313Z",
     "iopub.status.busy": "2022-10-30T14:16:07.507062Z",
     "iopub.status.idle": "2022-10-30T14:17:26.740980Z",
     "shell.execute_reply": "2022-10-30T14:17:26.740198Z"
    },
    "papermill": {
     "duration": 79.29898,
     "end_time": "2022-10-30T14:17:26.741141",
     "exception": false,
     "start_time": "2022-10-30T14:16:07.442161",
     "status": "completed"
    },
    "tags": []
   },
   "outputs": [],
   "source": [
    "# idx_features를 기준으로 item_mean_features 요소별 시차 피처 생성\n",
    "for item_mean_feature in item_mean_features:\n",
    "    all_data, lag_features_to_clip = add_lag_features(df=all_data, \n",
    "                                                      lag_features_to_clip=lag_features_to_clip, \n",
    "                                                      idx_features=idx_features, \n",
    "                                                      lag_feature=item_mean_feature, \n",
    "                                                      nlags=3,\n",
    "                                                      clip=True)\n",
    "# item_mean_features 피처 제거\n",
    "all_data = all_data.drop(item_mean_features, axis=1)"
   ]
  },
  {
   "cell_type": "code",
   "execution_count": 39,
   "id": "29cf4762",
   "metadata": {
    "execution": {
     "iopub.execute_input": "2022-10-30T14:17:26.869760Z",
     "iopub.status.busy": "2022-10-30T14:17:26.868730Z",
     "iopub.status.idle": "2022-10-30T14:17:43.250759Z",
     "shell.execute_reply": "2022-10-30T14:17:43.250134Z"
    },
    "papermill": {
     "duration": 16.453587,
     "end_time": "2022-10-30T14:17:43.250912",
     "exception": false,
     "start_time": "2022-10-30T14:17:26.797325",
     "status": "completed"
    },
    "tags": []
   },
   "outputs": [],
   "source": [
    "# ['월ID', '상점ID', '상품분류ID']를 기준으로 shop_mean_features 요소별 시차 피처 생성\n",
    "for shop_mean_feature in shop_mean_features:\n",
    "    all_data, lag_features_to_clip = add_lag_features(df=all_data,\n",
    "                                                      lag_features_to_clip=lag_features_to_clip, \n",
    "                                                      idx_features=['월ID', '상점ID', '상품분류ID'], \n",
    "                                                      lag_feature=shop_mean_feature, \n",
    "                                                      nlags=3,\n",
    "                                                      clip=True)\n",
    "# shop_mean_features 피처 제거\n",
    "all_data = all_data.drop(shop_mean_features, axis=1)"
   ]
  },
  {
   "cell_type": "markdown",
   "id": "ae0d159c",
   "metadata": {
    "papermill": {
     "duration": 0.05588,
     "end_time": "2022-10-30T14:17:43.364358",
     "exception": false,
     "start_time": "2022-10-30T14:17:43.308478",
     "status": "completed"
    },
    "tags": []
   },
   "source": [
    "### 시차 피처 생성 마무리 : 결측값 처리"
   ]
  },
  {
   "cell_type": "code",
   "execution_count": 40,
   "id": "8cd7dd94",
   "metadata": {
    "execution": {
     "iopub.execute_input": "2022-10-30T14:17:43.541106Z",
     "iopub.status.busy": "2022-10-30T14:17:43.540042Z",
     "iopub.status.idle": "2022-10-30T14:17:46.468398Z",
     "shell.execute_reply": "2022-10-30T14:17:46.467574Z"
    },
    "papermill": {
     "duration": 3.048222,
     "end_time": "2022-10-30T14:17:46.468595",
     "exception": false,
     "start_time": "2022-10-30T14:17:43.420373",
     "status": "completed"
    },
    "tags": []
   },
   "outputs": [],
   "source": [
    "# 월ID 3미만인 데이터 제거\n",
    "all_data = all_data.drop(all_data[all_data['월ID'] < 3].index)"
   ]
  },
  {
   "cell_type": "markdown",
   "id": "d303e236",
   "metadata": {
    "papermill": {
     "duration": 0.057059,
     "end_time": "2022-10-30T14:17:46.585549",
     "exception": false,
     "start_time": "2022-10-30T14:17:46.528490",
     "status": "completed"
    },
    "tags": []
   },
   "source": [
    "##  피처 엔지니어링 VI : 기타 피처 엔지니어링"
   ]
  },
  {
   "cell_type": "markdown",
   "id": "562be225",
   "metadata": {
    "papermill": {
     "duration": 0.057638,
     "end_time": "2022-10-30T14:17:46.699609",
     "exception": false,
     "start_time": "2022-10-30T14:17:46.641971",
     "status": "completed"
    },
    "tags": []
   },
   "source": [
    "### 기타 피처 추가"
   ]
  },
  {
   "cell_type": "markdown",
   "id": "46c82cc5",
   "metadata": {
    "papermill": {
     "duration": 0.059082,
     "end_time": "2022-10-30T14:17:46.815095",
     "exception": false,
     "start_time": "2022-10-30T14:17:46.756013",
     "status": "completed"
    },
    "tags": []
   },
   "source": [
    "#### 월간 판매량 시차 피처들의 평균"
   ]
  },
  {
   "cell_type": "code",
   "execution_count": 41,
   "id": "10407799",
   "metadata": {
    "execution": {
     "iopub.execute_input": "2022-10-30T14:17:46.937541Z",
     "iopub.status.busy": "2022-10-30T14:17:46.936783Z",
     "iopub.status.idle": "2022-10-30T14:17:47.110972Z",
     "shell.execute_reply": "2022-10-30T14:17:47.110163Z"
    },
    "papermill": {
     "duration": 0.236582,
     "end_time": "2022-10-30T14:17:47.111128",
     "exception": false,
     "start_time": "2022-10-30T14:17:46.874546",
     "status": "completed"
    },
    "tags": []
   },
   "outputs": [],
   "source": [
    "all_data['월간 판매량 시차평균'] = all_data[['월간 판매량_시차1',\n",
    "                                          '월간 판매량_시차2', \n",
    "                                          '월간 판매량_시차3']].mean(axis=1)"
   ]
  },
  {
   "cell_type": "code",
   "execution_count": 42,
   "id": "43cb0d63",
   "metadata": {
    "execution": {
     "iopub.execute_input": "2022-10-30T14:17:47.286251Z",
     "iopub.status.busy": "2022-10-30T14:17:47.285058Z",
     "iopub.status.idle": "2022-10-30T14:17:50.366832Z",
     "shell.execute_reply": "2022-10-30T14:17:50.366207Z"
    },
    "papermill": {
     "duration": 3.192553,
     "end_time": "2022-10-30T14:17:50.367003",
     "exception": false,
     "start_time": "2022-10-30T14:17:47.174450",
     "status": "completed"
    },
    "tags": []
   },
   "outputs": [],
   "source": [
    "# 0 ~ 20 사이로 값 제한\n",
    "all_data[lag_features_to_clip + ['월간 판매량', '월간 판매량 시차평균']] = all_data[lag_features_to_clip + ['월간 판매량', '월간 판매량 시차평균']].clip(0, 20)"
   ]
  },
  {
   "cell_type": "markdown",
   "id": "c4f5b0f2",
   "metadata": {
    "papermill": {
     "duration": 0.059227,
     "end_time": "2022-10-30T14:17:50.486196",
     "exception": false,
     "start_time": "2022-10-30T14:17:50.426969",
     "status": "completed"
    },
    "tags": []
   },
   "source": [
    "#### 시차 변화량"
   ]
  },
  {
   "cell_type": "code",
   "execution_count": 43,
   "id": "1552e1ac",
   "metadata": {
    "execution": {
     "iopub.execute_input": "2022-10-30T14:17:50.614708Z",
     "iopub.status.busy": "2022-10-30T14:17:50.613845Z",
     "iopub.status.idle": "2022-10-30T14:17:51.158128Z",
     "shell.execute_reply": "2022-10-30T14:17:51.157506Z"
    },
    "papermill": {
     "duration": 0.613386,
     "end_time": "2022-10-30T14:17:51.158362",
     "exception": false,
     "start_time": "2022-10-30T14:17:50.544976",
     "status": "completed"
    },
    "tags": []
   },
   "outputs": [],
   "source": [
    "all_data['시차변화량1'] = all_data['월간 판매량_시차1']/all_data['월간 판매량_시차2']\n",
    "all_data['시차변화량1'] = all_data['시차변화량1'].replace([np.inf, -np.inf], \n",
    "                                                        np.nan).fillna(0)\n",
    "\n",
    "all_data['시차변화량2'] = all_data['월간 판매량_시차2']/all_data['월간 판매량_시차3']\n",
    "all_data['시차변화량2'] = all_data['시차변화량2'].replace([np.inf, -np.inf], \n",
    "                                                        np.nan).fillna(0)"
   ]
  },
  {
   "cell_type": "markdown",
   "id": "15c77364",
   "metadata": {
    "papermill": {
     "duration": 0.063655,
     "end_time": "2022-10-30T14:17:51.280072",
     "exception": false,
     "start_time": "2022-10-30T14:17:51.216417",
     "status": "completed"
    },
    "tags": []
   },
   "source": [
    "#### 신상 여부"
   ]
  },
  {
   "cell_type": "code",
   "execution_count": 44,
   "id": "c3996615",
   "metadata": {
    "execution": {
     "iopub.execute_input": "2022-10-30T14:17:51.400484Z",
     "iopub.status.busy": "2022-10-30T14:17:51.399698Z",
     "iopub.status.idle": "2022-10-30T14:17:51.408163Z",
     "shell.execute_reply": "2022-10-30T14:17:51.408699Z"
    },
    "papermill": {
     "duration": 0.070759,
     "end_time": "2022-10-30T14:17:51.408895",
     "exception": false,
     "start_time": "2022-10-30T14:17:51.338136",
     "status": "completed"
    },
    "tags": []
   },
   "outputs": [],
   "source": [
    "all_data['신상여부'] = all_data['첫 판매월'] == all_data['월ID']"
   ]
  },
  {
   "cell_type": "markdown",
   "id": "9d6d9391",
   "metadata": {
    "papermill": {
     "duration": 0.055612,
     "end_time": "2022-10-30T14:17:51.520946",
     "exception": false,
     "start_time": "2022-10-30T14:17:51.465334",
     "status": "completed"
    },
    "tags": []
   },
   "source": [
    "#### 첫 판매 후 경과 기간"
   ]
  },
  {
   "cell_type": "code",
   "execution_count": 45,
   "id": "72069ddc",
   "metadata": {
    "execution": {
     "iopub.execute_input": "2022-10-30T14:17:51.639653Z",
     "iopub.status.busy": "2022-10-30T14:17:51.638839Z",
     "iopub.status.idle": "2022-10-30T14:17:51.649039Z",
     "shell.execute_reply": "2022-10-30T14:17:51.649621Z"
    },
    "papermill": {
     "duration": 0.070481,
     "end_time": "2022-10-30T14:17:51.649805",
     "exception": false,
     "start_time": "2022-10-30T14:17:51.579324",
     "status": "completed"
    },
    "tags": []
   },
   "outputs": [],
   "source": [
    "all_data['첫 판매 후 기간'] = all_data['월ID'] - all_data['첫 판매월']"
   ]
  },
  {
   "cell_type": "markdown",
   "id": "7a7110be",
   "metadata": {
    "papermill": {
     "duration": 0.056947,
     "end_time": "2022-10-30T14:17:51.764949",
     "exception": false,
     "start_time": "2022-10-30T14:17:51.708002",
     "status": "completed"
    },
    "tags": []
   },
   "source": [
    "#### 월(month)"
   ]
  },
  {
   "cell_type": "code",
   "execution_count": 46,
   "id": "fc0fe0af",
   "metadata": {
    "execution": {
     "iopub.execute_input": "2022-10-30T14:17:51.883836Z",
     "iopub.status.busy": "2022-10-30T14:17:51.883015Z",
     "iopub.status.idle": "2022-10-30T14:17:51.929932Z",
     "shell.execute_reply": "2022-10-30T14:17:51.930525Z"
    },
    "papermill": {
     "duration": 0.108765,
     "end_time": "2022-10-30T14:17:51.930734",
     "exception": false,
     "start_time": "2022-10-30T14:17:51.821969",
     "status": "completed"
    },
    "tags": []
   },
   "outputs": [],
   "source": [
    "all_data['월'] = all_data['월ID'] % 12"
   ]
  },
  {
   "cell_type": "markdown",
   "id": "bbf2eb1c",
   "metadata": {
    "papermill": {
     "duration": 0.057098,
     "end_time": "2022-10-30T14:17:52.046153",
     "exception": false,
     "start_time": "2022-10-30T14:17:51.989055",
     "status": "completed"
    },
    "tags": []
   },
   "source": [
    "### 필요 없는 피처 제거"
   ]
  },
  {
   "cell_type": "code",
   "execution_count": 47,
   "id": "a8529652",
   "metadata": {
    "execution": {
     "iopub.execute_input": "2022-10-30T14:17:52.173704Z",
     "iopub.status.busy": "2022-10-30T14:17:52.172920Z",
     "iopub.status.idle": "2022-10-30T14:17:52.964014Z",
     "shell.execute_reply": "2022-10-30T14:17:52.964602Z"
    },
    "papermill": {
     "duration": 0.854706,
     "end_time": "2022-10-30T14:17:52.964799",
     "exception": false,
     "start_time": "2022-10-30T14:17:52.110093",
     "status": "completed"
    },
    "tags": []
   },
   "outputs": [],
   "source": [
    "# 첫 판매월, 평균 판매가, 판매건수 피처 제거\n",
    "all_data = all_data.drop(['첫 판매월', '평균 판매가', '판매건수'], axis=1)"
   ]
  },
  {
   "cell_type": "code",
   "execution_count": 48,
   "id": "48446d57",
   "metadata": {
    "execution": {
     "iopub.execute_input": "2022-10-30T14:17:53.087291Z",
     "iopub.status.busy": "2022-10-30T14:17:53.086390Z",
     "iopub.status.idle": "2022-10-30T14:17:54.876029Z",
     "shell.execute_reply": "2022-10-30T14:17:54.875413Z"
    },
    "papermill": {
     "duration": 1.852585,
     "end_time": "2022-10-30T14:17:54.876184",
     "exception": false,
     "start_time": "2022-10-30T14:17:53.023599",
     "status": "completed"
    },
    "tags": []
   },
   "outputs": [],
   "source": [
    "all_data = downcast(all_data, False) # 데이터 다운캐스팅"
   ]
  },
  {
   "cell_type": "markdown",
   "id": "3ce81f1a",
   "metadata": {
    "papermill": {
     "duration": 0.064827,
     "end_time": "2022-10-30T14:17:54.998737",
     "exception": false,
     "start_time": "2022-10-30T14:17:54.933910",
     "status": "completed"
    },
    "tags": []
   },
   "source": [
    "##  피처 엔지니어링 VII : 마무리"
   ]
  },
  {
   "cell_type": "code",
   "execution_count": 49,
   "id": "c31c1196",
   "metadata": {
    "execution": {
     "iopub.execute_input": "2022-10-30T14:17:55.131470Z",
     "iopub.status.busy": "2022-10-30T14:17:55.130550Z",
     "iopub.status.idle": "2022-10-30T14:17:55.134914Z",
     "shell.execute_reply": "2022-10-30T14:17:55.135947Z"
    },
    "papermill": {
     "duration": 0.078716,
     "end_time": "2022-10-30T14:17:55.136237",
     "exception": false,
     "start_time": "2022-10-30T14:17:55.057521",
     "status": "completed"
    },
    "tags": []
   },
   "outputs": [
    {
     "name": "stdout",
     "output_type": "stream",
     "text": [
      "<class 'pandas.core.frame.DataFrame'>\n",
      "Int64Index: 9904582 entries, 1122386 to 11026967\n",
      "Data columns (total 31 columns):\n",
      " #   Column                   Dtype  \n",
      "---  ------                   -----  \n",
      " 0   월ID                      int8   \n",
      " 1   상점ID                     int8   \n",
      " 2   상품ID                     int16  \n",
      " 3   월간 판매량                   int8   \n",
      " 4   도시                       int8   \n",
      " 5   상품분류ID                   int8   \n",
      " 6   대분류                      int8   \n",
      " 7   월간 판매량_시차1               int8   \n",
      " 8   월간 판매량_시차2               int8   \n",
      " 9   월간 판매량_시차3               int8   \n",
      " 10  판매건수_시차1                 int8   \n",
      " 11  판매건수_시차2                 int8   \n",
      " 12  판매건수_시차3                 int8   \n",
      " 13  평균 판매가_시차1               float32\n",
      " 14  평균 판매가_시차2               float32\n",
      " 15  평균 판매가_시차3               float32\n",
      " 16  상품ID별 평균 판매량_시차1         float32\n",
      " 17  상품ID별 평균 판매량_시차2         float32\n",
      " 18  상품ID별 평균 판매량_시차3         float32\n",
      " 19  상품ID 도시별 평균 판매량_시차1      float32\n",
      " 20  상품ID 도시별 평균 판매량_시차2      float32\n",
      " 21  상품ID 도시별 평균 판매량_시차3      float32\n",
      " 22  상점ID 상품분류ID별 평균 판매량_시차1  float32\n",
      " 23  상점ID 상품분류ID별 평균 판매량_시차2  float32\n",
      " 24  상점ID 상품분류ID별 평균 판매량_시차3  float32\n",
      " 25  월간 판매량 시차평균              float32\n",
      " 26  시차변화량1                   float32\n",
      " 27  시차변화량2                   float32\n",
      " 28  신상여부                     int8   \n",
      " 29  첫 판매 후 기간                int8   \n",
      " 30  월                        int8   \n",
      "dtypes: float32(15), int16(1), int8(15)\n",
      "memory usage: 802.9 MB\n"
     ]
    }
   ],
   "source": [
    "all_data.info()"
   ]
  },
  {
   "cell_type": "code",
   "execution_count": 50,
   "id": "3c510ebf",
   "metadata": {
    "execution": {
     "iopub.execute_input": "2022-10-30T14:17:55.274104Z",
     "iopub.status.busy": "2022-10-30T14:17:55.272878Z",
     "iopub.status.idle": "2022-10-30T14:17:59.035064Z",
     "shell.execute_reply": "2022-10-30T14:17:59.034328Z"
    },
    "papermill": {
     "duration": 3.830715,
     "end_time": "2022-10-30T14:17:59.035221",
     "exception": false,
     "start_time": "2022-10-30T14:17:55.204506",
     "status": "completed"
    },
    "tags": []
   },
   "outputs": [],
   "source": [
    "# 훈련 데이터 (피처)\n",
    "X_train = all_data[all_data['월ID'] < 33]\n",
    "X_train = X_train.drop(['월간 판매량'], axis=1)\n",
    "# 검증 데이터 (피처)\n",
    "X_valid = all_data[all_data['월ID'] == 33]\n",
    "X_valid = X_valid.drop(['월간 판매량'], axis=1)\n",
    "# 테스트 데이터 (피처)\n",
    "X_test = all_data[all_data['월ID'] == 34]\n",
    "X_test = X_test.drop(['월간 판매량'], axis=1)\n",
    "\n",
    "# 훈련 데이터 (타깃값)\n",
    "y_train = all_data[all_data['월ID'] < 33]['월간 판매량']\n",
    "# 검증 데이터 (타깃값)\n",
    "y_valid = all_data[all_data['월ID'] == 33]['월간 판매량']\n",
    "\n",
    "# 가비지 컬렉션\n",
    "del all_data\n",
    "gc.collect();"
   ]
  },
  {
   "cell_type": "markdown",
   "id": "854010d4",
   "metadata": {
    "papermill": {
     "duration": 0.058573,
     "end_time": "2022-10-30T14:17:59.153367",
     "exception": false,
     "start_time": "2022-10-30T14:17:59.094794",
     "status": "completed"
    },
    "tags": []
   },
   "source": [
    "##  모델 훈련 및 성능 검증"
   ]
  },
  {
   "cell_type": "code",
   "execution_count": 51,
   "id": "16acda5b",
   "metadata": {
    "execution": {
     "iopub.execute_input": "2022-10-30T14:17:59.322488Z",
     "iopub.status.busy": "2022-10-30T14:17:59.321766Z",
     "iopub.status.idle": "2022-10-30T14:31:34.283079Z",
     "shell.execute_reply": "2022-10-30T14:31:34.282516Z"
    },
    "papermill": {
     "duration": 815.047716,
     "end_time": "2022-10-30T14:31:34.283285",
     "exception": false,
     "start_time": "2022-10-30T14:17:59.235569",
     "status": "completed"
    },
    "tags": []
   },
   "outputs": [
    {
     "data": {
      "text/html": [
       "<style type='text/css'>\n",
       ".datatable table.frame { margin-bottom: 0; }\n",
       ".datatable table.frame thead { border-bottom: none; }\n",
       ".datatable table.frame tr.coltypes td {  color: #FFFFFF;  line-height: 6px;  padding: 0 0.5em;}\n",
       ".datatable .bool    { background: #DDDD99; }\n",
       ".datatable .object  { background: #565656; }\n",
       ".datatable .int     { background: #5D9E5D; }\n",
       ".datatable .float   { background: #4040CC; }\n",
       ".datatable .str     { background: #CC4040; }\n",
       ".datatable .time    { background: #40CC40; }\n",
       ".datatable .row_index {  background: var(--jp-border-color3);  border-right: 1px solid var(--jp-border-color0);  color: var(--jp-ui-font-color3);  font-size: 9px;}\n",
       ".datatable .frame tbody td { text-align: left; }\n",
       ".datatable .frame tr.coltypes .row_index {  background: var(--jp-border-color0);}\n",
       ".datatable th:nth-child(2) { padding-left: 12px; }\n",
       ".datatable .hellipsis {  color: var(--jp-cell-editor-border-color);}\n",
       ".datatable .vellipsis {  background: var(--jp-layout-color0);  color: var(--jp-cell-editor-border-color);}\n",
       ".datatable .na {  color: var(--jp-cell-editor-border-color);  font-size: 80%;}\n",
       ".datatable .sp {  opacity: 0.25;}\n",
       ".datatable .footer { font-size: 9px; }\n",
       ".datatable .frame_dimensions {  background: var(--jp-border-color3);  border-top: 1px solid var(--jp-border-color0);  color: var(--jp-ui-font-color3);  display: inline-block;  opacity: 0.6;  padding: 1px 10px 1px 5px;}\n",
       "</style>\n"
      ],
      "text/plain": [
       "<IPython.core.display.HTML object>"
      ]
     },
     "metadata": {},
     "output_type": "display_data"
    },
    {
     "name": "stdout",
     "output_type": "stream",
     "text": [
      "[LightGBM] [Warning] Find whitespaces in feature_names, replace with underlines\n",
      "[LightGBM] [Info] Total Bins 3886\n",
      "[LightGBM] [Info] Number of data points in the train set: 9452298, number of used features: 30\n",
      "[LightGBM] [Warning] Find whitespaces in feature_names, replace with underlines\n",
      "[LightGBM] [Info] Start training from score 0.297707\n",
      "Training until validation scores don't improve for 150 rounds\n",
      "[100]\ttraining's rmse: 1.01082\tvalid_1's rmse: 0.987057\n",
      "[200]\ttraining's rmse: 0.909234\tvalid_1's rmse: 0.923085\n",
      "[300]\ttraining's rmse: 0.857869\tvalid_1's rmse: 0.898434\n",
      "[400]\ttraining's rmse: 0.829775\tvalid_1's rmse: 0.888633\n",
      "[500]\ttraining's rmse: 0.81135\tvalid_1's rmse: 0.884879\n",
      "[600]\ttraining's rmse: 0.797562\tvalid_1's rmse: 0.884279\n",
      "[700]\ttraining's rmse: 0.78753\tvalid_1's rmse: 0.884595\n",
      "Early stopping, best iteration is:\n",
      "[635]\ttraining's rmse: 0.793887\tvalid_1's rmse: 0.883926\n"
     ]
    }
   ],
   "source": [
    "import lightgbm as lgb\n",
    "\n",
    "# LightGBM 하이퍼파라미터\n",
    "params = {'metric': 'rmse', \n",
    "          'num_leaves': 255,\n",
    "          'learning_rate': 0.005,\n",
    "          'feature_fraction': 0.75,\n",
    "          'bagging_fraction': 0.75,\n",
    "          'bagging_freq': 5,\n",
    "          'force_col_wise': True,\n",
    "          'random_state': 10}\n",
    "\n",
    "cat_features = ['상점ID', '도시', '상품분류ID', '대분류', '월']\n",
    "\n",
    "# LightGBM 훈련 및 검증 데이터셋\n",
    "dtrain = lgb.Dataset(X_train, y_train)\n",
    "dvalid = lgb.Dataset(X_valid, y_valid)\n",
    " \n",
    "# LightGBM 모델 훈련\n",
    "lgb_model = lgb.train(params=params,\n",
    "                      train_set=dtrain,\n",
    "                      num_boost_round=1500,\n",
    "                      valid_sets=(dtrain, dvalid),\n",
    "                      early_stopping_rounds=150,\n",
    "                      categorical_feature=cat_features,\n",
    "                      verbose_eval=100)      "
   ]
  },
  {
   "cell_type": "markdown",
   "id": "832455e8",
   "metadata": {
    "papermill": {
     "duration": 0.062274,
     "end_time": "2022-10-30T14:31:34.406688",
     "exception": false,
     "start_time": "2022-10-30T14:31:34.344414",
     "status": "completed"
    },
    "tags": []
   },
   "source": [
    "## 예측 및 결과 제출"
   ]
  },
  {
   "cell_type": "code",
   "execution_count": 52,
   "id": "6d763b36",
   "metadata": {
    "execution": {
     "iopub.execute_input": "2022-10-30T14:31:34.536158Z",
     "iopub.status.busy": "2022-10-30T14:31:34.535484Z",
     "iopub.status.idle": "2022-10-30T14:31:43.220703Z",
     "shell.execute_reply": "2022-10-30T14:31:43.220086Z"
    },
    "papermill": {
     "duration": 8.749988,
     "end_time": "2022-10-30T14:31:43.220882",
     "exception": false,
     "start_time": "2022-10-30T14:31:34.470894",
     "status": "completed"
    },
    "tags": []
   },
   "outputs": [],
   "source": [
    "# 예측\n",
    "preds = lgb_model.predict(X_test).clip(0, 20)\n",
    "\n",
    "# 제출 파일 생성\n",
    "submission['item_cnt_month'] = preds\n",
    "submission.to_csv('submission.csv', index=False)"
   ]
  },
  {
   "cell_type": "code",
   "execution_count": 53,
   "id": "7b9e3643",
   "metadata": {
    "execution": {
     "iopub.execute_input": "2022-10-30T14:31:43.356818Z",
     "iopub.status.busy": "2022-10-30T14:31:43.355783Z",
     "iopub.status.idle": "2022-10-30T14:31:43.483787Z",
     "shell.execute_reply": "2022-10-30T14:31:43.483043Z"
    },
    "papermill": {
     "duration": 0.200285,
     "end_time": "2022-10-30T14:31:43.483941",
     "exception": false,
     "start_time": "2022-10-30T14:31:43.283656",
     "status": "completed"
    },
    "tags": []
   },
   "outputs": [],
   "source": [
    "del X_train, y_train, X_valid, y_valid, X_test, lgb_model, dtrain, dvalid\n",
    "gc.collect();"
   ]
  }
 ],
 "metadata": {
  "kernelspec": {
   "display_name": "Python 3",
   "language": "python",
   "name": "python3"
  },
  "language_info": {
   "codemirror_mode": {
    "name": "ipython",
    "version": 3
   },
   "file_extension": ".py",
   "mimetype": "text/x-python",
   "name": "python",
   "nbconvert_exporter": "python",
   "pygments_lexer": "ipython3",
   "version": "3.7.10"
  },
  "papermill": {
   "default_parameters": {},
   "duration": 1121.409791,
   "end_time": "2022-10-30T14:31:44.816162",
   "environment_variables": {},
   "exception": null,
   "input_path": "__notebook__.ipynb",
   "output_path": "__notebook__.ipynb",
   "parameters": {},
   "start_time": "2022-10-30T14:13:03.406371",
   "version": "2.3.3"
  }
 },
 "nbformat": 4,
 "nbformat_minor": 5
}
