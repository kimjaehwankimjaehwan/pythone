{
  "nbformat": 4,
  "nbformat_minor": 0,
  "metadata": {
    "colab": {
      "provenance": []
    },
    "kernelspec": {
      "name": "python3",
      "display_name": "Python 3"
    },
    "language_info": {
      "name": "python"
    }
  },
  "cells": [
    {
      "cell_type": "markdown",
      "source": [
        "##1. 클래스의 개념과 정의\n",
        "- 클래스: 속성(데이터)과 메서드로 구성\n",
        "- 속성: 클래스 내부에서 정의되는 변수\n",
        "- 메서드: 클래스 내부에서 정의되는 멤버 함수\n",
        "- 객체: 일을 하는 주체, 클래스를 통해 생성\n",
        "\n",
        "## 2. 클래스의 사용"
      ],
      "metadata": {
        "id": "hg6iZkJ9e0aK"
      }
    },
    {
      "cell_type": "code",
      "execution_count": null,
      "metadata": {
        "colab": {
          "base_uri": "https://localhost:8080/"
        },
        "id": "if9F2Fq6ev7a",
        "outputId": "ea2923b7-293c-4175-c52f-7844c5a3ae28"
      },
      "outputs": [
        {
          "output_type": "stream",
          "name": "stdout",
          "text": [
            "LG전자 150000\n"
          ]
        }
      ],
      "source": [
        "class Stocks:\n",
        "  \"삼성전자, LG전자, SK하이닉스\"\n",
        "  def __init__(self, name, price): # self는 Stocks 클래스 자신을 의미\n",
        "    self.name=name\n",
        "    self.price=price\n",
        "\n",
        "lg=Stocks(\"LG전자\", 150000) # 객체를 생성할 때 인자를 넣어야 함\n",
        "print(lg.name, lg.price)"
      ]
    },
    {
      "cell_type": "code",
      "source": [
        "class Stocks:\n",
        "  \"삼성전자, LG전자, SK하이닉스\"\n",
        "  def __init__ (self, name, price, count=0): # self는 Stocks 클래스 자신을 의미\n",
        "    self.name=name\n",
        "    self.price=price\n",
        "    self.count=count\n",
        "\n",
        "lg=Stocks(\"LG전자\", 150000) # 객체를 생성할 때 인자를 넣어야 함\n",
        "print(lg.name, lg.price, lg.count) # count의 기본값 출력"
      ],
      "metadata": {
        "colab": {
          "base_uri": "https://localhost:8080/"
        },
        "id": "EpNbjPWHfK6Q",
        "outputId": "0ac268ac-cb72-47ed-83d7-c9529d63333d"
      },
      "execution_count": 1,
      "outputs": [
        {
          "output_type": "stream",
          "name": "stdout",
          "text": [
            "LG전자 150000 0\n"
          ]
        }
      ]
    },
    {
      "cell_type": "code",
      "source": [
        "class Stocks:\n",
        "  \"삼성전자, LG전자, SK하이닉스\"\n",
        "  def __init__ (self, name, price, count=0): # self는 Stocks 클래스 자신을 의미\n",
        "    self.name=name\n",
        "    self.price=price\n",
        "    self.count=count\n",
        "  def click(self, num_times=1):\n",
        "    \"\"\"클릭 횟수\"\"\"\n",
        "    self.count+= num_times # self.count=self.count+num_times\n",
        "lg=Stocks(\"LG전자\", 150000) # 객체를 생성할 때 인자를 넣어야 함\n",
        "\n",
        "print(lg.name, lg.price, lg.count) #-- ❶ # count의 기본값 출력\n",
        "lg.click( )\n",
        "print(lg.name, lg.price, lg.count) #-- ❷\n",
        "lg.click( )\n",
        "print(lg.name, lg.price, lg.count) #-- ❸"
      ],
      "metadata": {
        "colab": {
          "base_uri": "https://localhost:8080/"
        },
        "id": "VpPock-qfTLu",
        "outputId": "c741bd03-f26a-457e-e99a-f57e00530d65"
      },
      "execution_count": 2,
      "outputs": [
        {
          "output_type": "stream",
          "name": "stdout",
          "text": [
            "LG전자 150000 0\n",
            "LG전자 150000 1\n",
            "LG전자 150000 2\n"
          ]
        }
      ]
    },
    {
      "cell_type": "code",
      "source": [
        "class Stocks:\n",
        "  \"삼성전자, LG전자, SK하이닉스\"\n",
        "  def __init__ (self, name, price, count=0):\n",
        "    self.name=name\n",
        "    self.price=price\n",
        "    self.count=count\n",
        "  def __repr__(self): # 문자형 형태로 반환\n",
        "    return f\"Stocks의 클릭 수(count={self.count})\"\n",
        "  def click(self, num_times=1):\n",
        "    \"\"\"클릭 횟수\"\"\"\n",
        "    self.count+= num_times\n",
        "  def read(self):\n",
        "    return self.count\n",
        "  def reset(self):\n",
        "    self.count=0"
      ],
      "metadata": {
        "id": "3YS7uH6zfgqc"
      },
      "execution_count": 3,
      "outputs": []
    },
    {
      "cell_type": "code",
      "source": [
        "lg=Stocks(\"LG전자\", 150000) # 객체를 생성할 때 인자를 넣어야 함\n",
        "print(lg.name, lg.price, lg.count) # count의 기본값 출력\n",
        "lg.click( )\n",
        "print(lg.name, lg.price, lg.count)\n",
        "lg.click( )\n",
        "print(lg.name, lg.price, lg.count)\n",
        "lg.click( )\n",
        "print(lg.name, lg.price, lg.count)"
      ],
      "metadata": {
        "colab": {
          "base_uri": "https://localhost:8080/"
        },
        "id": "yYx6VvlMfweE",
        "outputId": "05bc9ec6-d165-4d0b-dec9-d499cf088a11"
      },
      "execution_count": 4,
      "outputs": [
        {
          "output_type": "stream",
          "name": "stdout",
          "text": [
            "LG전자 150000 0\n",
            "LG전자 150000 1\n",
            "LG전자 150000 2\n",
            "LG전자 150000 3\n"
          ]
        }
      ]
    },
    {
      "cell_type": "code",
      "source": [
        "print(lg.read( ))\n",
        "print(lg.name, lg.price, lg.count) # count의 기본값 출력\n",
        "lg.reset( )\n",
        "print(lg.name, lg.price, lg.count) # count의 기본값 출력\n",
        "lg.click( )\n",
        "lg.click( )\n",
        "lg.click( )\n",
        "lg.__repr__( )"
      ],
      "metadata": {
        "colab": {
          "base_uri": "https://localhost:8080/",
          "height": 89
        },
        "id": "HGsQoV7TfyUS",
        "outputId": "25eaabaa-d03f-4eca-f2f3-ab8eda1d52a4"
      },
      "execution_count": 6,
      "outputs": [
        {
          "output_type": "stream",
          "name": "stdout",
          "text": [
            "3\n",
            "LG전자 150000 3\n",
            "LG전자 150000 0\n"
          ]
        },
        {
          "output_type": "execute_result",
          "data": {
            "text/plain": [
              "'Stocks의 클릭 수(count=3)'"
            ],
            "application/vnd.google.colaboratory.intrinsic+json": {
              "type": "string"
            }
          },
          "metadata": {},
          "execution_count": 6
        }
      ]
    },
    {
      "cell_type": "markdown",
      "source": [
        "##3. 상속"
      ],
      "metadata": {
        "id": "5sSl5O1mf0wL"
      }
    },
    {
      "cell_type": "code",
      "source": [
        "# 상속을 받으면 서브클래스는 슈퍼클래형태의 생성자를 기본으로 가진다.\n",
        "# 그외 생성자는 만들어야 함\n",
        "\n",
        "class subStocks(Stocks):\n",
        "  # 상위 클래스의 모든 기능을 받아오고 아무 일도 하지 않는 reset 기능 추가\n",
        "  def reset(self):\n",
        "    pass\n",
        "  def subprice(self,price1):\n",
        "    self.price1=price1\n",
        "    return f'subprice반환', self.price1\n",
        "  def addcountprice(self, count, price):\n",
        "    self.price=price\n",
        "    self.count=count\n",
        "    return f'price+count 합', self.price+self.count\n",
        "\n",
        "sublg=subStocks(\"LG전자\", 150000)\n",
        "print(sublg.name, sublg.price, sublg.count) # 상위 클래스의 name, price, count 변수값 출력\n",
        "sublg.click( )\n",
        "sublg.click( )\n",
        "sublg.click( )\n",
        "print(sublg.name, sublg.price, sublg.count) # 상위 클래스의 click 메서드 실행 후 변수값 출력\n",
        "sublg.reset( )\n",
        "print(sublg.name, sublg.price, sublg.count) # 상위 클래스의 reset 메서드 실행 후 변수값 출력"
      ],
      "metadata": {
        "colab": {
          "base_uri": "https://localhost:8080/"
        },
        "id": "xuRonrzcf6FY",
        "outputId": "de1159f5-8a4c-4eda-d42e-c8e3b52d9b5a"
      },
      "execution_count": 49,
      "outputs": [
        {
          "output_type": "stream",
          "name": "stdout",
          "text": [
            "LG전자 150000 0\n",
            "LG전자 150000 3\n",
            "LG전자 150000 3\n"
          ]
        }
      ]
    },
    {
      "cell_type": "code",
      "source": [
        "sublg.subprice(180000)\n",
        "print(sublg.name, sublg.price, sublg.count, sublg.subprice(180000))"
      ],
      "metadata": {
        "colab": {
          "base_uri": "https://localhost:8080/"
        },
        "id": "COpP0n58gC36",
        "outputId": "b368d8b7-ea3c-461a-8c80-cb4caecfa124"
      },
      "execution_count": null,
      "outputs": [
        {
          "output_type": "stream",
          "name": "stdout",
          "text": [
            "LG전자 150000 3 ('subprice반환', 180000)\n"
          ]
        }
      ]
    },
    {
      "cell_type": "code",
      "source": [
        "sublg1=subStocks(\"LG전자\", 150000)\n",
        "print(sublg1) # 기본값으로 Stocks의 클릭 수(count=0) 출력\n",
        "sublg1.click( )\n",
        "sublg1.click( )\n",
        "print(sublg1)\n",
        "sublg1.addcountprice(5, 150000)"
      ],
      "metadata": {
        "colab": {
          "base_uri": "https://localhost:8080/"
        },
        "id": "rIh4TQFrgKUC",
        "outputId": "4490fd67-2a75-4f14-d6b5-b6cefe0fbc52"
      },
      "execution_count": null,
      "outputs": [
        {
          "output_type": "stream",
          "name": "stdout",
          "text": [
            "Stocks의 클릭 수(count=0)\n",
            "Stocks의 클릭 수(count=2)\n"
          ]
        },
        {
          "output_type": "execute_result",
          "data": {
            "text/plain": [
              "('price+count 합', 150005)"
            ]
          },
          "metadata": {},
          "execution_count": 9
        }
      ]
    },
    {
      "cell_type": "code",
      "source": [
        "# 비 상속관계에서는 기본생성자는 껍대기\n",
        "class Parents:\n",
        "  def __init__(self,name):\n",
        "    self.name=name\n",
        "class Children(Parents):  # 상속관계에서는 자식의 기본생성자가 부모생성자\n",
        "  def __init__(self,name,age):\n",
        "    super().__init__(name)\n",
        "    self.age=age\n",
        "class GrendChildren(Children):\n",
        "  def __init__(self, name, age,hobby):\n",
        "    super().__init__(name, age)\n",
        "    self.hobby=hobby\n",
        "  def __repr__(self):\n",
        "    return f\"name={self.name}, age={self.age}, hobby={self.hobby}\""
      ],
      "metadata": {
        "id": "qS4g7KG3lPTI"
      },
      "execution_count": 45,
      "outputs": []
    },
    {
      "cell_type": "code",
      "source": [
        "c = GrendChildren(\"홍길동\",10,'게임')\n",
        "print(c)"
      ],
      "metadata": {
        "colab": {
          "base_uri": "https://localhost:8080/"
        },
        "id": "6CxvjNszlR63",
        "outputId": "b20bdd60-b504-4121-bdb7-dcf3af59140a"
      },
      "execution_count": 46,
      "outputs": [
        {
          "output_type": "stream",
          "name": "stdout",
          "text": [
            "name=홍길동, age=10, hobby=게임\n"
          ]
        }
      ]
    },
    {
      "cell_type": "code",
      "source": [],
      "metadata": {
        "id": "hp6NL0vVqAWA"
      },
      "execution_count": 47,
      "outputs": []
    },
    {
      "cell_type": "markdown",
      "source": [
        "##4. 메서드 오버라이딩 : 재 정의\n",
        "  ### 파이썬에서는 오버로드가 없음 , 마지막에 정의된 메소드를 사용해서"
      ],
      "metadata": {
        "id": "8__GRn5LgNeP"
      }
    },
    {
      "cell_type": "code",
      "source": [
        "class subsubStocks(subStocks):\n",
        "  def reset(self):\n",
        "    self.count=100 # 추가\n",
        "  def click(self, num_times=2):\n",
        "    \"\"\"클릭 2배\"\"\"\n",
        "    self.count *= num_times\n",
        "  def subsubprice(self, price1):\n",
        "    self.price1=price1\n",
        "    return f'subprice반환', self.price1\n",
        "  def addcountprice(self, count, price):\n",
        "    self.price=price\n",
        "    self.count=count\n",
        "    return f'100*count+price', 100*self.count+self.price\n",
        "\n",
        "sublg7=subStocks(\"LG전자7\", 140000)\n",
        "subsublg7=subsubStocks(\"LG전자7\", 140000)\n",
        "print(subsublg7)\n",
        "subsublg7.reset( )\n",
        "subsublg7.click( )\n",
        "subsublg7.click( )\n",
        "subsublg7.click( )\n",
        "print(subsublg7)"
      ],
      "metadata": {
        "colab": {
          "base_uri": "https://localhost:8080/"
        },
        "id": "TueJHfJUgPsB",
        "outputId": "46e36143-b35e-4d0b-bf74-0199c3c93cc9"
      },
      "execution_count": 48,
      "outputs": [
        {
          "output_type": "stream",
          "name": "stdout",
          "text": [
            "Stocks의 클릭 수(count=0)\n",
            "Stocks의 클릭 수(count=800)\n"
          ]
        }
      ]
    },
    {
      "cell_type": "code",
      "source": [
        "print(subsublg7.name, subsublg7.price, subsublg7.count)\n",
        "print(sublg7.addcountprice(5, 100))\n",
        "print(subsublg7.addcountprice(5, 100))"
      ],
      "metadata": {
        "colab": {
          "base_uri": "https://localhost:8080/"
        },
        "id": "0pamVnH2ggLU",
        "outputId": "ccc15ec4-c4af-4487-f796-210a4285c245"
      },
      "execution_count": null,
      "outputs": [
        {
          "output_type": "stream",
          "name": "stdout",
          "text": [
            "LG전자7 140000 800\n",
            "('price+count 합', 105)\n",
            "('100*count+price', 600)\n"
          ]
        }
      ]
    },
    {
      "cell_type": "code",
      "source": [
        "# 복습"
      ],
      "metadata": {
        "id": "CzjQ7Vv8rwIw"
      },
      "execution_count": 50,
      "outputs": []
    },
    {
      "cell_type": "code",
      "source": [
        "class A:\n",
        "  def __init__(self,count):\n",
        "    self.count = count\n",
        "  def showMe(self):\n",
        "    print(\"A class\")\n",
        "\n",
        "class B(A):\n",
        "  def showMe(self):\n",
        "    print(\"B class\")\n",
        "  pass"
      ],
      "metadata": {
        "id": "897UBAZ5rwTI"
      },
      "execution_count": 57,
      "outputs": []
    },
    {
      "cell_type": "code",
      "source": [
        "b = B(10)\n",
        "b.showMe()"
      ],
      "metadata": {
        "colab": {
          "base_uri": "https://localhost:8080/"
        },
        "id": "DcsEM1aQrmZI",
        "outputId": "e30c9e10-f05a-4571-fb5d-d6ea4acf5d12"
      },
      "execution_count": 58,
      "outputs": [
        {
          "output_type": "stream",
          "name": "stdout",
          "text": [
            "B class\n"
          ]
        }
      ]
    },
    {
      "cell_type": "code",
      "source": [],
      "metadata": {
        "id": "TgYNrW7psFZ3"
      },
      "execution_count": null,
      "outputs": []
    }
  ]
}