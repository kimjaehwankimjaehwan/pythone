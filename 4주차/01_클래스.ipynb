{
  "nbformat": 4,
  "nbformat_minor": 0,
  "metadata": {
    "colab": {
      "provenance": []
    },
    "kernelspec": {
      "name": "python3",
      "display_name": "Python 3"
    },
    "language_info": {
      "name": "python"
    }
  },
  "cells": [
    {
      "cell_type": "markdown",
      "source": [
        "##1. 클래스의 개념과 정의\n",
        "- 클래스: 속성(데이터)과 메서드로 구성\n",
        "- 속성: 클래스 내부에서 정의되는 변수\n",
        "- 메서드: 클래스 내부에서 정의되는 멤버 함수\n",
        "- 객체: 일을 하는 주체, 클래스를 통해 생성\n",
        "\n",
        "## 2. 클래스의 사용"
      ],
      "metadata": {
        "id": "hg6iZkJ9e0aK"
      }
    },
    {
      "cell_type": "code",
      "execution_count": 1,
      "metadata": {
        "colab": {
          "base_uri": "https://localhost:8080/"
        },
        "id": "if9F2Fq6ev7a",
        "outputId": "5d81cdc5-d695-446e-8d09-065dbb50edd6"
      },
      "outputs": [
        {
          "output_type": "stream",
          "name": "stdout",
          "text": [
            "LG전자 150000\n"
          ]
        }
      ],
      "source": [
        "class Stocks:\n",
        "  \"삼성전자, LG전자, SK하이닉스\"\n",
        "  def __init__(self, name, price): # self는 Stocks 클래스 자신을 의미\n",
        "    self.name=name\n",
        "    self.price=price\n",
        "\n",
        "lg=Stocks(\"LG전자\", 150000) # 객체를 생성할 때 인자를 넣어야 함\n",
        "print(lg.name, lg.price)"
      ]
    },
    {
      "cell_type": "code",
      "source": [
        "# 객체를 생성한후에 객체의 필드를 셋팅\n",
        "class Stocks:\n",
        "  name = ''\n",
        "  def createValue(self):\n",
        "    self.name2 = '엘지전자'\n",
        "\n",
        "print(\"객체생성전\")\n",
        "s = Stocks()\n",
        "print(\"객체생성후\")\n",
        "s.name = '삼성전자'\n",
        "s.createValue()\n",
        "print(s.name, s.name2)"
      ],
      "metadata": {
        "colab": {
          "base_uri": "https://localhost:8080/"
        },
        "id": "IjbK4nAVOfL7",
        "outputId": "0798ae24-2f63-4f50-a311-821af31f5d8a"
      },
      "execution_count": 20,
      "outputs": [
        {
          "output_type": "stream",
          "name": "stdout",
          "text": [
            "객체생성전\n",
            "객체생성후\n",
            "삼성전자 엘지전자\n"
          ]
        }
      ]
    },
    {
      "cell_type": "markdown",
      "source": [
        "- 생성자는 객체를 생성할때 호출되는 내부 함수(이름 정해져있음)\n",
        "- 없으면 아무것도 안하는 기본 생성자를 제공한다"
      ],
      "metadata": {
        "id": "6Y8FHdJ2Rcy1"
      }
    },
    {
      "cell_type": "markdown",
      "source": [
        "- 생성자를 통해서 클래스에 필요한 필드를 정의하고 매개변수를 통해서 값을 초기화 한다\n",
        "- 생성자는 없으면 기본생성자를 제공하지만 사용자가 만들면. 더 이상 제공 안한다"
      ],
      "metadata": {
        "id": "FryryXiZT4u1"
      }
    },
    {
      "cell_type": "code",
      "source": [
        "class Stocks:\n",
        "  def __init__(self,name):\n",
        "    self.name = name"
      ],
      "metadata": {
        "id": "hqutb5UbOfQi"
      },
      "execution_count": 40,
      "outputs": []
    },
    {
      "cell_type": "code",
      "source": [
        "class Stocks:\n",
        "  \"삼성전자, LG전자, SK하이닉스\"\n",
        "  def __init__ (self, name, price, count=0): # self는 Stocks 클래스 자신을 의미\n",
        "    self.name=name\n",
        "    self.price=price\n",
        "    self.count=count\n",
        "\n",
        "lg=Stocks(\"LG전자\", 150000) # 객체를 생성할 때 인자를 넣어야 함\n",
        "print(lg.name, lg.price, lg.count) # count의 기본값 출력"
      ],
      "metadata": {
        "colab": {
          "base_uri": "https://localhost:8080/"
        },
        "id": "EpNbjPWHfK6Q",
        "outputId": "48587e6d-61e8-4305-a47d-39e031aac76a"
      },
      "execution_count": null,
      "outputs": [
        {
          "output_type": "stream",
          "name": "stdout",
          "text": [
            "LG전자 150000 0\n"
          ]
        }
      ]
    },
    {
      "cell_type": "code",
      "source": [
        "class Stocks:\n",
        "  \"삼성전자, LG전자, SK하이닉스\"\n",
        "  def __init__ (self, name, price, count=0): # self는 Stocks 클래스 자신을 의미\n",
        "    self.name=name\n",
        "    self.price=price\n",
        "    self.count=count\n",
        "  def click(self, num_times=1):\n",
        "    \"\"\"클릭 횟수\"\"\"\n",
        "    self.count+= num_times # self.count=self.count+num_times\n",
        "lg=Stocks(\"LG전자\", 150000) # 객체를 생성할 때 인자를 넣어야 함\n",
        "\n",
        "print(lg.name, lg.price, lg.count) #-- ❶ # count의 기본값 출력\n",
        "lg.click( )\n",
        "print(lg.name, lg.price, lg.count) #-- ❷\n",
        "lg.click( )\n",
        "print(lg.name, lg.price, lg.count) #-- ❸"
      ],
      "metadata": {
        "colab": {
          "base_uri": "https://localhost:8080/"
        },
        "id": "VpPock-qfTLu",
        "outputId": "422797bd-47f9-44a2-a21c-a473942a4e34"
      },
      "execution_count": 47,
      "outputs": [
        {
          "output_type": "stream",
          "name": "stdout",
          "text": [
            "LG전자 150000 0\n",
            "LG전자 150000 1\n",
            "LG전자 150000 2\n"
          ]
        }
      ]
    },
    {
      "cell_type": "code",
      "source": [
        "print(lg)"
      ],
      "metadata": {
        "colab": {
          "base_uri": "https://localhost:8080/"
        },
        "id": "Nd-ZPVZEYCN7",
        "outputId": "cada2cf7-3384-43af-bc3a-8a13667f5aaa"
      },
      "execution_count": 48,
      "outputs": [
        {
          "output_type": "stream",
          "name": "stdout",
          "text": [
            "<__main__.Stocks object at 0x78776b30bb50>\n"
          ]
        }
      ]
    },
    {
      "cell_type": "code",
      "source": [
        "class Stocks:\n",
        "  '''name : 이름\n",
        "     price : 가격\n",
        "     count : 클릭 횟수 '''\n",
        "  def __init__ (self, name, price, count=0):\n",
        "    self.name=name\n",
        "    self.price=price\n",
        "    self.count=count\n",
        "  def __repr__(self): # 문자형 형태로 반환\n",
        "    return f\"Stocks의 클릭 수(count={self.count})\"\n",
        "  def click(self, num_times=1):\n",
        "    \"\"\"클릭 횟수\"\"\"\n",
        "    self.count+= num_times\n",
        "  def read(self):\n",
        "    return self.count\n",
        "  def reset(self):\n",
        "    self.count=0"
      ],
      "metadata": {
        "id": "3YS7uH6zfgqc"
      },
      "execution_count": 50,
      "outputs": []
    },
    {
      "cell_type": "code",
      "source": [
        "lg=Stocks(\"LG전자\", 150000) # 객체를 생성할 때 인자를 넣어야 함\n",
        "print(lg.name, lg.price, lg.count) # count의 기본값 출력\n",
        "lg.click( )\n",
        "print(lg.name, lg.price, lg.count)\n",
        "lg.click( )\n",
        "print(lg.name, lg.price, lg.count)\n",
        "lg.click( )\n",
        "print(lg.name, lg.price, lg.count)"
      ],
      "metadata": {
        "colab": {
          "base_uri": "https://localhost:8080/"
        },
        "id": "yYx6VvlMfweE",
        "outputId": "89a925f2-06a9-4e11-f145-58f30a147af6"
      },
      "execution_count": 44,
      "outputs": [
        {
          "output_type": "stream",
          "name": "stdout",
          "text": [
            "LG전자 150000 0\n",
            "LG전자 150000 1\n",
            "LG전자 150000 2\n",
            "LG전자 150000 3\n"
          ]
        }
      ]
    },
    {
      "cell_type": "code",
      "source": [
        "print(lg)"
      ],
      "metadata": {
        "colab": {
          "base_uri": "https://localhost:8080/"
        },
        "id": "BcDFfS5rXvuM",
        "outputId": "e62278f1-88a7-4c04-fad4-0090e871c7a8"
      },
      "execution_count": 46,
      "outputs": [
        {
          "output_type": "stream",
          "name": "stdout",
          "text": [
            "Stocks의 클릭 수(count=3)\n"
          ]
        }
      ]
    },
    {
      "cell_type": "code",
      "source": [
        "lg.read( )\n",
        "print(lg.name, lg.price, lg.count) # count의 기본값 출력\n",
        "lg.reset( )\n",
        "print(lg.name, lg.price, lg.count) # count의 기본값 출력\n",
        "lg.click( )\n",
        "lg.click( )\n",
        "lg.click( )\n",
        "lg.__repr__( )"
      ],
      "metadata": {
        "colab": {
          "base_uri": "https://localhost:8080/",
          "height": 72
        },
        "id": "HGsQoV7TfyUS",
        "outputId": "ca20b07f-cc75-4c2c-92b2-d4277ad2ad3e"
      },
      "execution_count": null,
      "outputs": [
        {
          "output_type": "stream",
          "name": "stdout",
          "text": [
            "LG전자 150000 3\n",
            "LG전자 150000 0\n"
          ]
        },
        {
          "output_type": "execute_result",
          "data": {
            "text/plain": [
              "'Stocks의 클릭 수(count=3)'"
            ],
            "application/vnd.google.colaboratory.intrinsic+json": {
              "type": "string"
            }
          },
          "metadata": {},
          "execution_count": 6
        }
      ]
    },
    {
      "cell_type": "markdown",
      "source": [
        "복습\n",
        "  - 각 상황에 맞는 생성자를 만들어서 사용\n",
        "  - 지난시간에 했던 Student / StudentMng 를 사용할때 생성자를 이용"
      ],
      "metadata": {
        "id": "cIiHQGqlbmrO"
      }
    },
    {
      "cell_type": "code",
      "source": [
        "class Student:\n",
        "  # 생성자를 통해서 변수를 생성하고 초기화 name age score\n",
        "  def __init__(self,name,age,score):\n",
        "    self.name=name\n",
        "    self.age=age\n",
        "    self.score=score\n",
        "  def __repr__(self):\n",
        "    return f'이름: {self.name}, 나이: {self.age}, 점수: {self.score}'\n",
        "\n",
        "class StudentMng:\n",
        "  # 생성자 Student객체를 담을 리스트를 필드로 가질것\n",
        "  def __init__(self,students):\n",
        "    self.students=students\n",
        "  # 전체학생의 정보를 출력하는 메소드\n",
        "  def printAll(self):\n",
        "    for student in self.students:\n",
        "      print(student)\n",
        "  # 학생이름,나이,점수를 검색하는 메소드 리턴값은 학생객체  findName\n",
        "  def findName(self,key, value): # key 필드명, value는 찾고자 하는 값\n",
        "    for student in self.students:\n",
        "      if hasattr(student, key) and getattr(student, key) == value:\n",
        "        return student"
      ],
      "metadata": {
        "id": "FafxlSvEbhkw"
      },
      "execution_count": 64,
      "outputs": []
    },
    {
      "cell_type": "code",
      "source": [
        "# 5명 학생\n",
        "students = [\n",
        "    Student('홍길동1', 20, 90),Student('홍길동2', 30, 80),\n",
        "    Student('홍길동3', 40, 70),Student('홍길동4', 50, 60),\n",
        "    Student('홍길동5', 60, 50)\n",
        "]\n",
        "smng = StudentMng(students)\n",
        "smng.findName('score',70)  # 객체를 반환하고 객체를 출력하려고 하기때문에. __repr__이 호출되었다"
      ],
      "metadata": {
        "colab": {
          "base_uri": "https://localhost:8080/"
        },
        "id": "lsOHe-6abidj",
        "outputId": "2b9c089f-43f8-42be-e8ad-e8cf6014b9a5"
      },
      "execution_count": 66,
      "outputs": [
        {
          "output_type": "execute_result",
          "data": {
            "text/plain": [
              "이름: 홍길동3, 나이: 40, 점수: 70"
            ]
          },
          "metadata": {},
          "execution_count": 66
        }
      ]
    },
    {
      "cell_type": "code",
      "source": [
        "smng.printAll()"
      ],
      "metadata": {
        "colab": {
          "base_uri": "https://localhost:8080/"
        },
        "id": "aI5w-3zLjoWS",
        "outputId": "64f83795-3bc5-4c4a-ca9b-e6c9f36ccf45"
      },
      "execution_count": 67,
      "outputs": [
        {
          "output_type": "stream",
          "name": "stdout",
          "text": [
            "이름: 홍길동1, 나이: 20, 점수: 90\n",
            "이름: 홍길동2, 나이: 30, 점수: 80\n",
            "이름: 홍길동3, 나이: 40, 점수: 70\n",
            "이름: 홍길동4, 나이: 50, 점수: 60\n",
            "이름: 홍길동5, 나이: 60, 점수: 50\n"
          ]
        }
      ]
    },
    {
      "cell_type": "code",
      "source": [
        "temp = Student('홍길동1', 20, 90)\n",
        "hasattr(temp, 'name'),  getattr(temp, 'name')"
      ],
      "metadata": {
        "colab": {
          "base_uri": "https://localhost:8080/"
        },
        "id": "iPUr1FVUbigL",
        "outputId": "83956f34-16f7-4734-b1ca-a552b346df65"
      },
      "execution_count": 60,
      "outputs": [
        {
          "output_type": "execute_result",
          "data": {
            "text/plain": [
              "(True, '홍길동1')"
            ]
          },
          "metadata": {},
          "execution_count": 60
        }
      ]
    },
    {
      "cell_type": "markdown",
      "source": [
        "실전 테스트\n",
        "\n",
        "![image.png](data:image/png;base64,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)"
      ],
      "metadata": {
        "id": "q9S4H1YBjyRd"
      }
    },
    {
      "cell_type": "code",
      "source": [
        "# 학생객체(위에서 만든)를 저장하는 DB\n",
        "# DB는 기본적으로 (학생을 생성-C, 출력또는읽기-R, 수정또는업데이트-U, 삭제-D)  CRUD\n",
        "# 생성 - 기존 리스트에 추가\n",
        "# 삭제 - 리스트에서 데이터 삭제 : 삭제대상을 찾아서 pop(인덱스)\n",
        "# 업데이트 - 업데이트대상 객체를 찾아서 원하는정보로 수정\n",
        "class Student:\n",
        "  # 생성자를 통해서 변수를 생성하고 초기화 name age score\n",
        "  def __init__(self,id,name,age,score):\n",
        "    self.id = id\n",
        "    self.name=name\n",
        "    self.age=age\n",
        "    self.score=score\n",
        "  def __repr__(self):\n",
        "    return f'아이디:{self.id}, 이름: {self.name}, 나이: {self.age}, 점수: {self.score}'\n",
        "\n",
        "class StudentDB:\n",
        "  def __init__(self,students):\n",
        "    self.students=students\n",
        "  # 추가\n",
        "  def addStudent(self,student):\n",
        "    student.id=self.getMaxId()\n",
        "    self.students.append(student)\n",
        "  # 삭제\n",
        "  def delStudent(self,key, value):\n",
        "    s  = self.findStudent(key, value)\n",
        "    self.students.remove(s)\n",
        "\n",
        "  # id 채번(최대값 + 1)\n",
        "  def getMaxId(self):\n",
        "    max = 0\n",
        "    for s in self.students:\n",
        "      if s.id > max:\n",
        "        max = s.id\n",
        "    return max+1\n",
        "    # return max([s.id for s in self.students]) + 1\n",
        "\n",
        "\n",
        "\n",
        "  # 수정\n",
        "  def updateStudent(self,id,newStudent):  # id를 가지고 기존학생객체를 찾아서 수정하고 자하는 객체로 업데이트 한다\n",
        "    for s in self.students:\n",
        "      if s.id == id:\n",
        "        s.name=newStudent.name\n",
        "        s.age=newStudent.age\n",
        "        s.score=newStudent.score\n",
        "        break\n",
        "\n",
        "  # 읽기\n",
        "  def findStudent(self,key, value): # key 필드명, value는 찾고자 하는 값\n",
        "    for student in self.students:\n",
        "      if hasattr(student, key) and getattr(student, key) == value:\n",
        "        return student\n",
        ""
      ],
      "metadata": {
        "id": "f-s-JCPrbiqu"
      },
      "execution_count": 79,
      "outputs": []
    },
    {
      "cell_type": "code",
      "source": [
        "# 5명 학생\n",
        "students = [\n",
        "    Student(1,'홍길동1', 20, 90),Student(2,'홍길동2', 30, 80),\n",
        "    Student(3,'홍길동3', 40, 70),Student(4,'홍길동4', 50, 60),\n",
        "    Student(5,'홍길동5', 60, 50)\n",
        "]\n",
        "smng = StudentDB(students)\n",
        "smng.students"
      ],
      "metadata": {
        "colab": {
          "base_uri": "https://localhost:8080/"
        },
        "id": "OC2M_Ox9kwXT",
        "outputId": "e39cbaab-da8d-4fe0-bd5f-a9f0dbf39ba7"
      },
      "execution_count": 80,
      "outputs": [
        {
          "output_type": "execute_result",
          "data": {
            "text/plain": [
              "[아이디:1, 이름: 홍길동1, 나이: 20, 점수: 90,\n",
              " 아이디:2, 이름: 홍길동2, 나이: 30, 점수: 80,\n",
              " 아이디:3, 이름: 홍길동3, 나이: 40, 점수: 70,\n",
              " 아이디:4, 이름: 홍길동4, 나이: 50, 점수: 60,\n",
              " 아이디:5, 이름: 홍길동5, 나이: 60, 점수: 50]"
            ]
          },
          "metadata": {},
          "execution_count": 80
        }
      ]
    },
    {
      "cell_type": "code",
      "source": [
        "# 새로운 학생을 추가할때.. 기존 아이디와 중복되는 것을 피하기위해서\n",
        "# 학생들의 아디중에 최대값을찾아서 새로운 아이디는 +1 해서 추가하는 로직을 만들어주세요\n",
        "# C\n",
        "smng.addStudent(Student(6,'홍길동6', 60, 50))"
      ],
      "metadata": {
        "id": "kxMviv9WjwG0"
      },
      "execution_count": 81,
      "outputs": []
    },
    {
      "cell_type": "code",
      "source": [
        "# R\n",
        "smng.findStudent('id',3)"
      ],
      "metadata": {
        "colab": {
          "base_uri": "https://localhost:8080/"
        },
        "id": "5rNMTM1DjwKE",
        "outputId": "3c6930cc-bb99-4a93-f0f9-a965b6a4be45"
      },
      "execution_count": 82,
      "outputs": [
        {
          "output_type": "execute_result",
          "data": {
            "text/plain": [
              "아이디:3, 이름: 홍길동3, 나이: 40, 점수: 70"
            ]
          },
          "metadata": {},
          "execution_count": 82
        }
      ]
    },
    {
      "cell_type": "code",
      "source": [
        "# U\n",
        "findedStudent = smng.findStudent('id',3)\n",
        "findedStudent.name = '김길동'\n",
        "smng.updateStudent(3,findedStudent)"
      ],
      "metadata": {
        "id": "esm06fM4jwM7"
      },
      "execution_count": 83,
      "outputs": []
    },
    {
      "cell_type": "code",
      "source": [
        "fs = smng.findStudent('id',3)\n",
        "fs"
      ],
      "metadata": {
        "colab": {
          "base_uri": "https://localhost:8080/"
        },
        "id": "uFLYDAtajwPc",
        "outputId": "850df7cc-1cf0-4bcd-9344-44735365dcec"
      },
      "execution_count": 84,
      "outputs": [
        {
          "output_type": "execute_result",
          "data": {
            "text/plain": [
              "아이디:3, 이름: 김길동, 나이: 40, 점수: 70"
            ]
          },
          "metadata": {},
          "execution_count": 84
        }
      ]
    },
    {
      "cell_type": "code",
      "source": [
        "# D\n",
        "smng.delStudent('id',3)\n",
        "smng.students"
      ],
      "metadata": {
        "colab": {
          "base_uri": "https://localhost:8080/"
        },
        "id": "litqD_JGjwSI",
        "outputId": "233c3c4b-b364-481f-9935-5b46e6d6cd35"
      },
      "execution_count": 85,
      "outputs": [
        {
          "output_type": "execute_result",
          "data": {
            "text/plain": [
              "[아이디:1, 이름: 홍길동1, 나이: 20, 점수: 90,\n",
              " 아이디:2, 이름: 홍길동2, 나이: 30, 점수: 80,\n",
              " 아이디:4, 이름: 홍길동4, 나이: 50, 점수: 60,\n",
              " 아이디:5, 이름: 홍길동5, 나이: 60, 점수: 50,\n",
              " 아이디:6, 이름: 홍길동6, 나이: 60, 점수: 50]"
            ]
          },
          "metadata": {},
          "execution_count": 85
        }
      ]
    },
    {
      "cell_type": "code",
      "source": [],
      "metadata": {
        "id": "RqC78hCNjwU8"
      },
      "execution_count": null,
      "outputs": []
    },
    {
      "cell_type": "code",
      "source": [],
      "metadata": {
        "id": "c29OGv1djwX3"
      },
      "execution_count": null,
      "outputs": []
    },
    {
      "cell_type": "code",
      "source": [],
      "metadata": {
        "id": "bZ62FL-WjwaU"
      },
      "execution_count": null,
      "outputs": []
    },
    {
      "cell_type": "code",
      "source": [],
      "metadata": {
        "id": "SgoIkOOBjwdc"
      },
      "execution_count": null,
      "outputs": []
    },
    {
      "cell_type": "code",
      "source": [],
      "metadata": {
        "id": "ALXdY2JRjwfZ"
      },
      "execution_count": null,
      "outputs": []
    },
    {
      "cell_type": "code",
      "source": [],
      "metadata": {
        "id": "kY5pYxJOjwiM"
      },
      "execution_count": null,
      "outputs": []
    },
    {
      "cell_type": "code",
      "source": [],
      "metadata": {
        "id": "YdgUVShsbite"
      },
      "execution_count": null,
      "outputs": []
    },
    {
      "cell_type": "code",
      "source": [],
      "metadata": {
        "id": "5bGHnbmqbiwT"
      },
      "execution_count": null,
      "outputs": []
    },
    {
      "cell_type": "code",
      "source": [],
      "metadata": {
        "id": "rlhQ7tYkbhnU"
      },
      "execution_count": null,
      "outputs": []
    },
    {
      "cell_type": "code",
      "source": [],
      "metadata": {
        "id": "HdBaR0jZbhp8"
      },
      "execution_count": null,
      "outputs": []
    },
    {
      "cell_type": "code",
      "source": [],
      "metadata": {
        "id": "tLuPutq4bhsx"
      },
      "execution_count": null,
      "outputs": []
    },
    {
      "cell_type": "code",
      "source": [],
      "metadata": {
        "id": "-3y-NQGobhvM"
      },
      "execution_count": null,
      "outputs": []
    },
    {
      "cell_type": "code",
      "source": [],
      "metadata": {
        "id": "k4QBZ6gCbhxj"
      },
      "execution_count": null,
      "outputs": []
    },
    {
      "cell_type": "code",
      "source": [],
      "metadata": {
        "id": "7KQnkqV8bh0U"
      },
      "execution_count": null,
      "outputs": []
    },
    {
      "cell_type": "code",
      "source": [],
      "metadata": {
        "id": "JMrKWFwgbh3L"
      },
      "execution_count": null,
      "outputs": []
    },
    {
      "cell_type": "markdown",
      "source": [
        "##3. 상속"
      ],
      "metadata": {
        "id": "5sSl5O1mf0wL"
      }
    },
    {
      "cell_type": "code",
      "source": [
        "class subStocks(Stocks):\n",
        "  # 상위 클래스의 모든 기능을 받아오고 아무 일도 하지 않는 reset 기능 추가\n",
        "  def reset(self):\n",
        "    pass\n",
        "  def subprice(self,price1):\n",
        "    self.price1=price1\n",
        "    return f'subprice반환', self.price1\n",
        "  def addcountprice(self, count, price):\n",
        "    self.price=price\n",
        "    self.count=count\n",
        "    return f'price+count 합', self.price+self.count\n",
        "\n",
        "sublg=subStocks(\"LG전자\", 150000)\n",
        "print(sublg.name, sublg.price, sublg.count) # 상위 클래스의 name, price, count 변수값 출력\n",
        "sublg.click( )\n",
        "sublg.click( )\n",
        "sublg.click( )\n",
        "print(sublg.name, sublg.price, sublg.count) # 상위 클래스의 click 메서드 실행 후 변수값 출력\n",
        "sublg.reset( )\n",
        "print(sublg.name, sublg.price, sublg.count) # 상위 클래스의 reset 메서드 실행 후 변수값 출력"
      ],
      "metadata": {
        "colab": {
          "base_uri": "https://localhost:8080/"
        },
        "id": "xuRonrzcf6FY",
        "outputId": "a32145c2-ad78-44b3-eafa-b1ff75ad92f4"
      },
      "execution_count": null,
      "outputs": [
        {
          "output_type": "stream",
          "name": "stdout",
          "text": [
            "LG전자 150000 0\n",
            "LG전자 150000 3\n",
            "LG전자 150000 3\n"
          ]
        }
      ]
    },
    {
      "cell_type": "code",
      "source": [
        "sublg.subprice(180000)\n",
        "print(sublg.name, sublg.price, sublg.count, sublg.subprice(180000))"
      ],
      "metadata": {
        "colab": {
          "base_uri": "https://localhost:8080/"
        },
        "id": "COpP0n58gC36",
        "outputId": "b368d8b7-ea3c-461a-8c80-cb4caecfa124"
      },
      "execution_count": null,
      "outputs": [
        {
          "output_type": "stream",
          "name": "stdout",
          "text": [
            "LG전자 150000 3 ('subprice반환', 180000)\n"
          ]
        }
      ]
    },
    {
      "cell_type": "code",
      "source": [
        "sublg1=subStocks(\"LG전자\", 150000)\n",
        "print(sublg1) # 기본값으로 Stocks의 클릭 수(count=0) 출력\n",
        "sublg1.click( )\n",
        "sublg1.click( )\n",
        "print(sublg1)\n",
        "sublg1.addcountprice(5, 150000)"
      ],
      "metadata": {
        "colab": {
          "base_uri": "https://localhost:8080/"
        },
        "id": "rIh4TQFrgKUC",
        "outputId": "4490fd67-2a75-4f14-d6b5-b6cefe0fbc52"
      },
      "execution_count": null,
      "outputs": [
        {
          "output_type": "stream",
          "name": "stdout",
          "text": [
            "Stocks의 클릭 수(count=0)\n",
            "Stocks의 클릭 수(count=2)\n"
          ]
        },
        {
          "output_type": "execute_result",
          "data": {
            "text/plain": [
              "('price+count 합', 150005)"
            ]
          },
          "metadata": {},
          "execution_count": 9
        }
      ]
    },
    {
      "cell_type": "markdown",
      "source": [
        "##4. 메서드 오버라이딩"
      ],
      "metadata": {
        "id": "8__GRn5LgNeP"
      }
    },
    {
      "cell_type": "code",
      "source": [
        "class subsubStocks(subStocks):\n",
        "  def reset(self):\n",
        "    self.count=100 # 추가\n",
        "  def click(self, num_times=2):\n",
        "    \"\"\"클릭 2배\"\"\"\n",
        "    self.count *= num_times\n",
        "  def subsubprice(self, price1):\n",
        "    self.price1=price1\n",
        "    return f'subprice반환', self.price1\n",
        "  def addcountprice(self, count, price):\n",
        "    self.price=price\n",
        "    self.count=count\n",
        "    return f'100*count+price', 100*self.count+self.price\n",
        "\n",
        "sublg7=subStocks(\"LG전자7\", 140000)\n",
        "subsublg7=subsubStocks(\"LG전자7\", 140000)\n",
        "print(subsublg7)\n",
        "subsublg7.reset( )\n",
        "subsublg7.click( )\n",
        "subsublg7.click( )\n",
        "subsublg7.click( )\n",
        "print(subsublg7)"
      ],
      "metadata": {
        "colab": {
          "base_uri": "https://localhost:8080/"
        },
        "id": "TueJHfJUgPsB",
        "outputId": "e4ab7bd0-9d7f-462d-8f02-050a1e79a5d7"
      },
      "execution_count": null,
      "outputs": [
        {
          "output_type": "stream",
          "name": "stdout",
          "text": [
            "Stocks의 클릭 수(count=0)\n",
            "Stocks의 클릭 수(count=800)\n"
          ]
        }
      ]
    },
    {
      "cell_type": "code",
      "source": [
        "print(subsublg7.name, subsublg7.price, subsublg7.count) # 메서드 오버라이딩으로 800 출력\n",
        "print(sublg7.addcountprice(5, 100))\n",
        "print(subsublg7.addcountprice(5, 100))"
      ],
      "metadata": {
        "colab": {
          "base_uri": "https://localhost:8080/"
        },
        "id": "0pamVnH2ggLU",
        "outputId": "ccc15ec4-c4af-4487-f796-210a4285c245"
      },
      "execution_count": null,
      "outputs": [
        {
          "output_type": "stream",
          "name": "stdout",
          "text": [
            "LG전자7 140000 800\n",
            "('price+count 합', 105)\n",
            "('100*count+price', 600)\n"
          ]
        }
      ]
    }
  ]
}