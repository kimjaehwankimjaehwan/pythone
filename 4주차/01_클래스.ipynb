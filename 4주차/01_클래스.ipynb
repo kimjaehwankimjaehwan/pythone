{
  "nbformat": 4,
  "nbformat_minor": 0,
  "metadata": {
    "colab": {
      "provenance": []
    },
    "kernelspec": {
      "name": "python3",
      "display_name": "Python 3"
    },
    "language_info": {
      "name": "python"
    }
  },
  "cells": [
    {
      "cell_type": "markdown",
      "source": [
        "##1. 클래스의 개념과 정의\n",
        "- 클래스: 속성(데이터)과 메서드로 구성\n",
        "- 속성: 클래스 내부에서 정의되는 변수\n",
        "- 메서드: 클래스 내부에서 정의되는 멤버 함수\n",
        "- 객체: 일을 하는 주체, 클래스를 통해 생성\n",
        "\n",
        "## 2. 클래스의 사용"
      ],
      "metadata": {
        "id": "hg6iZkJ9e0aK"
      }
    },
    {
      "cell_type": "code",
      "execution_count": 1,
      "metadata": {
        "colab": {
          "base_uri": "https://localhost:8080/"
        },
        "id": "if9F2Fq6ev7a",
        "outputId": "5d81cdc5-d695-446e-8d09-065dbb50edd6"
      },
      "outputs": [
        {
          "output_type": "stream",
          "name": "stdout",
          "text": [
            "LG전자 150000\n"
          ]
        }
      ],
      "source": [
        "class Stocks:\n",
        "  \"삼성전자, LG전자, SK하이닉스\"\n",
        "  def __init__(self, name, price): # self는 Stocks 클래스 자신을 의미\n",
        "    self.name=name\n",
        "    self.price=price\n",
        "\n",
        "lg=Stocks(\"LG전자\", 150000) # 객체를 생성할 때 인자를 넣어야 함\n",
        "print(lg.name, lg.price)"
      ]
    },
    {
      "cell_type": "code",
      "source": [
        "# 객체를 생성한후에 객체의 필드를 셋팅\n",
        "class Stocks:\n",
        "  name = ''\n",
        "  def createValue(self):\n",
        "    self.name2 = '엘지전자'\n",
        "\n",
        "print(\"객체생성전\")\n",
        "s = Stocks()\n",
        "print(\"객체생성후\")\n",
        "s.name = '삼성전자'\n",
        "s.createValue()\n",
        "print(s.name, s.name2)"
      ],
      "metadata": {
        "colab": {
          "base_uri": "https://localhost:8080/"
        },
        "id": "IjbK4nAVOfL7",
        "outputId": "0798ae24-2f63-4f50-a311-821af31f5d8a"
      },
      "execution_count": 20,
      "outputs": [
        {
          "output_type": "stream",
          "name": "stdout",
          "text": [
            "객체생성전\n",
            "객체생성후\n",
            "삼성전자 엘지전자\n"
          ]
        }
      ]
    },
    {
      "cell_type": "markdown",
      "source": [
        "- 생성자는 객체를 생성할때 호출되는 내부 함수(이름 정해져있음)\n",
        "- 없으면 아무것도 안하는 기본 생성자를 제공한다"
      ],
      "metadata": {
        "id": "6Y8FHdJ2Rcy1"
      }
    },
    {
      "cell_type": "markdown",
      "source": [
        "- 생성자를 통해서 클래스에 필요한 필드를 정의하고 매개변수를 통해서 값을 초기화 한다\n",
        "- 생성자는 없으면 기본생성자를 제공하지만 사용자가 만들면. 더 이상 제공 안한다"
      ],
      "metadata": {
        "id": "FryryXiZT4u1"
      }
    },
    {
      "cell_type": "code",
      "source": [
        "class Stocks:\n",
        "  def __init__(self,name):\n",
        "    self.name = name"
      ],
      "metadata": {
        "id": "hqutb5UbOfQi"
      },
      "execution_count": 40,
      "outputs": []
    },
    {
      "cell_type": "code",
      "source": [
        "class Stocks:\n",
        "  \"삼성전자, LG전자, SK하이닉스\"\n",
        "  def __init__ (self, name, price, count=0): # self는 Stocks 클래스 자신을 의미\n",
        "    self.name=name\n",
        "    self.price=price\n",
        "    self.count=count\n",
        "\n",
        "lg=Stocks(\"LG전자\", 150000) # 객체를 생성할 때 인자를 넣어야 함\n",
        "print(lg.name, lg.price, lg.count) # count의 기본값 출력"
      ],
      "metadata": {
        "colab": {
          "base_uri": "https://localhost:8080/"
        },
        "id": "EpNbjPWHfK6Q",
        "outputId": "48587e6d-61e8-4305-a47d-39e031aac76a"
      },
      "execution_count": null,
      "outputs": [
        {
          "output_type": "stream",
          "name": "stdout",
          "text": [
            "LG전자 150000 0\n"
          ]
        }
      ]
    },
    {
      "cell_type": "code",
      "source": [
        "class Stocks:\n",
        "  \"삼성전자, LG전자, SK하이닉스\"\n",
        "  def __init__ (self, name, price, count=0): # self는 Stocks 클래스 자신을 의미\n",
        "    self.name=name\n",
        "    self.price=price\n",
        "    self.count=count\n",
        "  def click(self, num_times=1):\n",
        "    \"\"\"클릭 횟수\"\"\"\n",
        "    self.count+= num_times # self.count=self.count+num_times\n",
        "lg=Stocks(\"LG전자\", 150000) # 객체를 생성할 때 인자를 넣어야 함\n",
        "\n",
        "print(lg.name, lg.price, lg.count) #-- ❶ # count의 기본값 출력\n",
        "lg.click( )\n",
        "print(lg.name, lg.price, lg.count) #-- ❷\n",
        "lg.click( )\n",
        "print(lg.name, lg.price, lg.count) #-- ❸"
      ],
      "metadata": {
        "colab": {
          "base_uri": "https://localhost:8080/"
        },
        "id": "VpPock-qfTLu",
        "outputId": "422797bd-47f9-44a2-a21c-a473942a4e34"
      },
      "execution_count": 47,
      "outputs": [
        {
          "output_type": "stream",
          "name": "stdout",
          "text": [
            "LG전자 150000 0\n",
            "LG전자 150000 1\n",
            "LG전자 150000 2\n"
          ]
        }
      ]
    },
    {
      "cell_type": "code",
      "source": [
        "print(lg)"
      ],
      "metadata": {
        "colab": {
          "base_uri": "https://localhost:8080/"
        },
        "id": "Nd-ZPVZEYCN7",
        "outputId": "cada2cf7-3384-43af-bc3a-8a13667f5aaa"
      },
      "execution_count": 48,
      "outputs": [
        {
          "output_type": "stream",
          "name": "stdout",
          "text": [
            "<__main__.Stocks object at 0x78776b30bb50>\n"
          ]
        }
      ]
    },
    {
      "cell_type": "code",
      "source": [
        "class Stocks:\n",
        "  '''name : 이름\n",
        "     price : 가격\n",
        "     count : 클릭 횟수 '''\n",
        "  def __init__ (self, name, price, count=0):\n",
        "    self.name=name\n",
        "    self.price=price\n",
        "    self.count=count\n",
        "  def __repr__(self): # 문자형 형태로 반환\n",
        "    return f\"Stocks의 클릭 수(count={self.count})\"\n",
        "  def click(self, num_times=1):\n",
        "    \"\"\"클릭 횟수\"\"\"\n",
        "    self.count+= num_times\n",
        "  def read(self):\n",
        "    return self.count\n",
        "  def reset(self):\n",
        "    self.count=0"
      ],
      "metadata": {
        "id": "3YS7uH6zfgqc"
      },
      "execution_count": 50,
      "outputs": []
    },
    {
      "cell_type": "code",
      "source": [
        "lg=Stocks(\"LG전자\", 150000) # 객체를 생성할 때 인자를 넣어야 함\n",
        "print(lg.name, lg.price, lg.count) # count의 기본값 출력\n",
        "lg.click( )\n",
        "print(lg.name, lg.price, lg.count)\n",
        "lg.click( )\n",
        "print(lg.name, lg.price, lg.count)\n",
        "lg.click( )\n",
        "print(lg.name, lg.price, lg.count)"
      ],
      "metadata": {
        "colab": {
          "base_uri": "https://localhost:8080/"
        },
        "id": "yYx6VvlMfweE",
        "outputId": "89a925f2-06a9-4e11-f145-58f30a147af6"
      },
      "execution_count": 44,
      "outputs": [
        {
          "output_type": "stream",
          "name": "stdout",
          "text": [
            "LG전자 150000 0\n",
            "LG전자 150000 1\n",
            "LG전자 150000 2\n",
            "LG전자 150000 3\n"
          ]
        }
      ]
    },
    {
      "cell_type": "code",
      "source": [
        "print(lg)"
      ],
      "metadata": {
        "colab": {
          "base_uri": "https://localhost:8080/"
        },
        "id": "BcDFfS5rXvuM",
        "outputId": "e62278f1-88a7-4c04-fad4-0090e871c7a8"
      },
      "execution_count": 46,
      "outputs": [
        {
          "output_type": "stream",
          "name": "stdout",
          "text": [
            "Stocks의 클릭 수(count=3)\n"
          ]
        }
      ]
    },
    {
      "cell_type": "code",
      "source": [
        "lg.read( )\n",
        "print(lg.name, lg.price, lg.count) # count의 기본값 출력\n",
        "lg.reset( )\n",
        "print(lg.name, lg.price, lg.count) # count의 기본값 출력\n",
        "lg.click( )\n",
        "lg.click( )\n",
        "lg.click( )\n",
        "lg.__repr__( )"
      ],
      "metadata": {
        "colab": {
          "base_uri": "https://localhost:8080/",
          "height": 72
        },
        "id": "HGsQoV7TfyUS",
        "outputId": "ca20b07f-cc75-4c2c-92b2-d4277ad2ad3e"
      },
      "execution_count": null,
      "outputs": [
        {
          "output_type": "stream",
          "name": "stdout",
          "text": [
            "LG전자 150000 3\n",
            "LG전자 150000 0\n"
          ]
        },
        {
          "output_type": "execute_result",
          "data": {
            "text/plain": [
              "'Stocks의 클릭 수(count=3)'"
            ],
            "application/vnd.google.colaboratory.intrinsic+json": {
              "type": "string"
            }
          },
          "metadata": {},
          "execution_count": 6
        }
      ]
    },
    {
      "cell_type": "markdown",
      "source": [
        "복습\n",
        "  - 각 상황에 맞는 생성자를 만들어서 사용\n",
        "  - 지난시간에 했던 Student / StudentMng 를 사용할때 생성자를 이용"
      ],
      "metadata": {
        "id": "cIiHQGqlbmrO"
      }
    },
    {
      "cell_type": "code",
      "source": [],
      "metadata": {
        "id": "FafxlSvEbhkw"
      },
      "execution_count": null,
      "outputs": []
    },
    {
      "cell_type": "code",
      "source": [],
      "metadata": {
        "id": "lsOHe-6abidj"
      },
      "execution_count": null,
      "outputs": []
    },
    {
      "cell_type": "code",
      "source": [],
      "metadata": {
        "id": "iPUr1FVUbigL"
      },
      "execution_count": null,
      "outputs": []
    },
    {
      "cell_type": "code",
      "source": [],
      "metadata": {
        "id": "0VAVsi4MbioU"
      },
      "execution_count": null,
      "outputs": []
    },
    {
      "cell_type": "code",
      "source": [],
      "metadata": {
        "id": "f-s-JCPrbiqu"
      },
      "execution_count": null,
      "outputs": []
    },
    {
      "cell_type": "code",
      "source": [],
      "metadata": {
        "id": "YdgUVShsbite"
      },
      "execution_count": null,
      "outputs": []
    },
    {
      "cell_type": "code",
      "source": [],
      "metadata": {
        "id": "5bGHnbmqbiwT"
      },
      "execution_count": null,
      "outputs": []
    },
    {
      "cell_type": "code",
      "source": [],
      "metadata": {
        "id": "rlhQ7tYkbhnU"
      },
      "execution_count": null,
      "outputs": []
    },
    {
      "cell_type": "code",
      "source": [],
      "metadata": {
        "id": "HdBaR0jZbhp8"
      },
      "execution_count": null,
      "outputs": []
    },
    {
      "cell_type": "code",
      "source": [],
      "metadata": {
        "id": "tLuPutq4bhsx"
      },
      "execution_count": null,
      "outputs": []
    },
    {
      "cell_type": "code",
      "source": [],
      "metadata": {
        "id": "-3y-NQGobhvM"
      },
      "execution_count": null,
      "outputs": []
    },
    {
      "cell_type": "code",
      "source": [],
      "metadata": {
        "id": "k4QBZ6gCbhxj"
      },
      "execution_count": null,
      "outputs": []
    },
    {
      "cell_type": "code",
      "source": [],
      "metadata": {
        "id": "7KQnkqV8bh0U"
      },
      "execution_count": null,
      "outputs": []
    },
    {
      "cell_type": "code",
      "source": [],
      "metadata": {
        "id": "JMrKWFwgbh3L"
      },
      "execution_count": null,
      "outputs": []
    },
    {
      "cell_type": "markdown",
      "source": [
        "##3. 상속"
      ],
      "metadata": {
        "id": "5sSl5O1mf0wL"
      }
    },
    {
      "cell_type": "code",
      "source": [
        "class subStocks(Stocks):\n",
        "  # 상위 클래스의 모든 기능을 받아오고 아무 일도 하지 않는 reset 기능 추가\n",
        "  def reset(self):\n",
        "    pass\n",
        "  def subprice(self,price1):\n",
        "    self.price1=price1\n",
        "    return f'subprice반환', self.price1\n",
        "  def addcountprice(self, count, price):\n",
        "    self.price=price\n",
        "    self.count=count\n",
        "    return f'price+count 합', self.price+self.count\n",
        "\n",
        "sublg=subStocks(\"LG전자\", 150000)\n",
        "print(sublg.name, sublg.price, sublg.count) # 상위 클래스의 name, price, count 변수값 출력\n",
        "sublg.click( )\n",
        "sublg.click( )\n",
        "sublg.click( )\n",
        "print(sublg.name, sublg.price, sublg.count) # 상위 클래스의 click 메서드 실행 후 변수값 출력\n",
        "sublg.reset( )\n",
        "print(sublg.name, sublg.price, sublg.count) # 상위 클래스의 reset 메서드 실행 후 변수값 출력"
      ],
      "metadata": {
        "colab": {
          "base_uri": "https://localhost:8080/"
        },
        "id": "xuRonrzcf6FY",
        "outputId": "a32145c2-ad78-44b3-eafa-b1ff75ad92f4"
      },
      "execution_count": null,
      "outputs": [
        {
          "output_type": "stream",
          "name": "stdout",
          "text": [
            "LG전자 150000 0\n",
            "LG전자 150000 3\n",
            "LG전자 150000 3\n"
          ]
        }
      ]
    },
    {
      "cell_type": "code",
      "source": [
        "sublg.subprice(180000)\n",
        "print(sublg.name, sublg.price, sublg.count, sublg.subprice(180000))"
      ],
      "metadata": {
        "colab": {
          "base_uri": "https://localhost:8080/"
        },
        "id": "COpP0n58gC36",
        "outputId": "b368d8b7-ea3c-461a-8c80-cb4caecfa124"
      },
      "execution_count": null,
      "outputs": [
        {
          "output_type": "stream",
          "name": "stdout",
          "text": [
            "LG전자 150000 3 ('subprice반환', 180000)\n"
          ]
        }
      ]
    },
    {
      "cell_type": "code",
      "source": [
        "sublg1=subStocks(\"LG전자\", 150000)\n",
        "print(sublg1) # 기본값으로 Stocks의 클릭 수(count=0) 출력\n",
        "sublg1.click( )\n",
        "sublg1.click( )\n",
        "print(sublg1)\n",
        "sublg1.addcountprice(5, 150000)"
      ],
      "metadata": {
        "colab": {
          "base_uri": "https://localhost:8080/"
        },
        "id": "rIh4TQFrgKUC",
        "outputId": "4490fd67-2a75-4f14-d6b5-b6cefe0fbc52"
      },
      "execution_count": null,
      "outputs": [
        {
          "output_type": "stream",
          "name": "stdout",
          "text": [
            "Stocks의 클릭 수(count=0)\n",
            "Stocks의 클릭 수(count=2)\n"
          ]
        },
        {
          "output_type": "execute_result",
          "data": {
            "text/plain": [
              "('price+count 합', 150005)"
            ]
          },
          "metadata": {},
          "execution_count": 9
        }
      ]
    },
    {
      "cell_type": "markdown",
      "source": [
        "##4. 메서드 오버라이딩"
      ],
      "metadata": {
        "id": "8__GRn5LgNeP"
      }
    },
    {
      "cell_type": "code",
      "source": [
        "class subsubStocks(subStocks):\n",
        "  def reset(self):\n",
        "    self.count=100 # 추가\n",
        "  def click(self, num_times=2):\n",
        "    \"\"\"클릭 2배\"\"\"\n",
        "    self.count *= num_times\n",
        "  def subsubprice(self, price1):\n",
        "    self.price1=price1\n",
        "    return f'subprice반환', self.price1\n",
        "  def addcountprice(self, count, price):\n",
        "    self.price=price\n",
        "    self.count=count\n",
        "    return f'100*count+price', 100*self.count+self.price\n",
        "\n",
        "sublg7=subStocks(\"LG전자7\", 140000)\n",
        "subsublg7=subsubStocks(\"LG전자7\", 140000)\n",
        "print(subsublg7)\n",
        "subsublg7.reset( )\n",
        "subsublg7.click( )\n",
        "subsublg7.click( )\n",
        "subsublg7.click( )\n",
        "print(subsublg7)"
      ],
      "metadata": {
        "colab": {
          "base_uri": "https://localhost:8080/"
        },
        "id": "TueJHfJUgPsB",
        "outputId": "e4ab7bd0-9d7f-462d-8f02-050a1e79a5d7"
      },
      "execution_count": null,
      "outputs": [
        {
          "output_type": "stream",
          "name": "stdout",
          "text": [
            "Stocks의 클릭 수(count=0)\n",
            "Stocks의 클릭 수(count=800)\n"
          ]
        }
      ]
    },
    {
      "cell_type": "code",
      "source": [
        "print(subsublg7.name, subsublg7.price, subsublg7.count) # 메서드 오버라이딩으로 800 출력\n",
        "print(sublg7.addcountprice(5, 100))\n",
        "print(subsublg7.addcountprice(5, 100))"
      ],
      "metadata": {
        "colab": {
          "base_uri": "https://localhost:8080/"
        },
        "id": "0pamVnH2ggLU",
        "outputId": "ccc15ec4-c4af-4487-f796-210a4285c245"
      },
      "execution_count": null,
      "outputs": [
        {
          "output_type": "stream",
          "name": "stdout",
          "text": [
            "LG전자7 140000 800\n",
            "('price+count 합', 105)\n",
            "('100*count+price', 600)\n"
          ]
        }
      ]
    }
  ]
}