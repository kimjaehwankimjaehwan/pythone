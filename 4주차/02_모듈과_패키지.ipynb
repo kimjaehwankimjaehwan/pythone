{
  "nbformat": 4,
  "nbformat_minor": 0,
  "metadata": {
    "colab": {
      "provenance": []
    },
    "kernelspec": {
      "name": "python3",
      "display_name": "Python 3"
    },
    "language_info": {
      "name": "python"
    }
  },
  "cells": [
    {
      "cell_type": "markdown",
      "source": [
        "패키지>>모듈>>클래스>>( 리스트>>변수 + 함수 )"
      ],
      "metadata": {
        "id": "1m72LiU5vk4Y"
      }
    },
    {
      "cell_type": "markdown",
      "source": [
        "## 1 모듈\n",
        "### 모듈의 개념"
      ],
      "metadata": {
        "id": "x3ajiGKFg3MB"
      }
    },
    {
      "cell_type": "code",
      "execution_count": 1,
      "metadata": {
        "colab": {
          "base_uri": "https://localhost:8080/"
        },
        "id": "ol99WbLkgxDJ",
        "outputId": "c9c27f4f-88e7-4d09-c789-3a079c7b42ef"
      },
      "outputs": [
        {
          "output_type": "execute_result",
          "data": {
            "text/plain": [
              "1.4142135623730951"
            ]
          },
          "metadata": {},
          "execution_count": 1
        }
      ],
      "source": [
        "import math\n",
        "math.pi # math 모듈의 변수 pi\n",
        "math.sqrt(2.0) # math 모듈의 함수 sqrt"
      ]
    },
    {
      "cell_type": "code",
      "source": [
        "from math import pi # math 모듈에서 변수 pi만 import\n",
        "pi # 변수 pi를 바로 사용해 원주율 출력"
      ],
      "metadata": {
        "colab": {
          "base_uri": "https://localhost:8080/"
        },
        "id": "kOSYXkWXhAwW",
        "outputId": "9ee3f613-62c0-4a2e-f3c0-e369940886e0"
      },
      "execution_count": null,
      "outputs": [
        {
          "output_type": "execute_result",
          "data": {
            "text/plain": [
              "3.141592653589793"
            ]
          },
          "metadata": {},
          "execution_count": 2
        }
      ]
    },
    {
      "cell_type": "code",
      "source": [
        "from math import sqrt # math 모듈에서 sqrt 함수만 import\n",
        "sqrt(2.0)"
      ],
      "metadata": {
        "colab": {
          "base_uri": "https://localhost:8080/"
        },
        "id": "X1PlzuS8hCtG",
        "outputId": "a4063d80-53de-49ac-be67-7f54eb5aa1ce"
      },
      "execution_count": null,
      "outputs": [
        {
          "output_type": "execute_result",
          "data": {
            "text/plain": [
              "1.4142135623730951"
            ]
          },
          "metadata": {},
          "execution_count": 3
        }
      ]
    },
    {
      "cell_type": "code",
      "source": [
        "from math import sqrt as root1 # math 모듈에서 sqrt 함수를 가져오면서 이름을 root1로 지정\n",
        "root1(4.0) # root1로 sqrt 함수 사용"
      ],
      "metadata": {
        "colab": {
          "base_uri": "https://localhost:8080/"
        },
        "id": "plcm6GVfhFau",
        "outputId": "7f3386b1-f948-4a2d-c57e-283f13297736"
      },
      "execution_count": null,
      "outputs": [
        {
          "output_type": "execute_result",
          "data": {
            "text/plain": [
              "2.0"
            ]
          },
          "metadata": {},
          "execution_count": 4
        }
      ]
    },
    {
      "cell_type": "code",
      "source": [
        "from math import pi as p, sqrt as s\n",
        "p # p로 원주율 3.141592653589793 출력\n",
        "s(4.0) # s로 sqrt 함수를 사용해 2.0 출력"
      ],
      "metadata": {
        "colab": {
          "base_uri": "https://localhost:8080/"
        },
        "id": "9QWSCPj1hIEQ",
        "outputId": "ec35b316-716e-4127-8f84-0172af048809"
      },
      "execution_count": null,
      "outputs": [
        {
          "output_type": "execute_result",
          "data": {
            "text/plain": [
              "2.0"
            ]
          },
          "metadata": {},
          "execution_count": 5
        }
      ]
    },
    {
      "cell_type": "code",
      "source": [
        "import re as regex\n",
        "my_regex=regex.compile(\"[a-z]+\")\n",
        "char=\"life is too short\"\n",
        "my_regex.findall(char)"
      ],
      "metadata": {
        "colab": {
          "base_uri": "https://localhost:8080/"
        },
        "id": "6Gew5x3zhKpK",
        "outputId": "ec4e1750-d819-41ce-a99d-899becdc655a"
      },
      "execution_count": null,
      "outputs": [
        {
          "output_type": "execute_result",
          "data": {
            "text/plain": [
              "['life', 'is', 'too', 'short']"
            ]
          },
          "metadata": {},
          "execution_count": 6
        }
      ]
    },
    {
      "cell_type": "markdown",
      "source": [
        "###모듈 생성"
      ],
      "metadata": {
        "id": "FmGhBpt5hNgi"
      }
    },
    {
      "cell_type": "code",
      "source": [
        "# 구글드라이브의 경로를 시스템경로로 셋팅한다 - 사용사 모듈을 사용하기 위해서\n",
        "import sys\n",
        "sys.path.append('/content/drive/MyDrive/module')"
      ],
      "metadata": {
        "id": "cZ4H92i1h071"
      },
      "execution_count": 3,
      "outputs": []
    },
    {
      "cell_type": "code",
      "source": [
        "import num_operator\n",
        "print(num_operator.add(3, 2)) # num_operator 모듈의 add 메서드 실행하기\n",
        "print(num_operator.min_quantity) # num_operator 모듈의 변수 불러오기\n",
        "a=num_operator.stock_value( ) # num_operator 모듈의 클래스 불러와 객체 a 생성하기\n",
        "print(a.cal(2000))"
      ],
      "metadata": {
        "colab": {
          "base_uri": "https://localhost:8080/"
        },
        "id": "956FzS8Ah4v5",
        "outputId": "1b94c99d-15b4-47de-e050-68b392c0c4aa"
      },
      "execution_count": 4,
      "outputs": [
        {
          "output_type": "stream",
          "name": "stdout",
          "text": [
            "5\n",
            "5\n",
            "10000\n"
          ]
        }
      ]
    },
    {
      "cell_type": "code",
      "source": [
        "# 다양하게 모듈사용하기\n",
        "from num_operator import *\n",
        "sub(10,2)"
      ],
      "metadata": {
        "colab": {
          "base_uri": "https://localhost:8080/"
        },
        "id": "Q6GpZsOI2hzA",
        "outputId": "31c7c478-ee62-491c-ae54-bf8b6681a2f8"
      },
      "execution_count": 8,
      "outputs": [
        {
          "output_type": "execute_result",
          "data": {
            "text/plain": [
              "8"
            ]
          },
          "metadata": {},
          "execution_count": 8
        }
      ]
    },
    {
      "cell_type": "markdown",
      "source": [
        "##2. 패키지"
      ],
      "metadata": {
        "id": "yX0GqIQnh9Qv"
      }
    },
    {
      "cell_type": "code",
      "source": [
        "import urllib.request # '패키지.모듈' 형식으로 import\n",
        "response=urllib.request.urlopen('http://www.google.co.kr') # 패키지.모듈에 있는 함수\n",
        "response.status"
      ],
      "metadata": {
        "colab": {
          "base_uri": "https://localhost:8080/"
        },
        "id": "INLfrtGzh_Ze",
        "outputId": "a4e2f6e9-7559-48df-fd6b-6991ca67a089"
      },
      "execution_count": 9,
      "outputs": [
        {
          "output_type": "execute_result",
          "data": {
            "text/plain": [
              "200"
            ]
          },
          "metadata": {},
          "execution_count": 9
        }
      ]
    },
    {
      "cell_type": "code",
      "source": [
        "import urllib.request as r # '패키지.모듈명 as 이름' 형식으로 import\n",
        "response=r.urlopen('http://www.google.co.kr') # r로 urlopen 함수 사용\n",
        "response.status"
      ],
      "metadata": {
        "colab": {
          "base_uri": "https://localhost:8080/"
        },
        "id": "K_VdX1iBiCqk",
        "outputId": "50cb6ce0-e7fd-4162-a1e4-9f7a3d3a02c5"
      },
      "execution_count": 10,
      "outputs": [
        {
          "output_type": "execute_result",
          "data": {
            "text/plain": [
              "200"
            ]
          },
          "metadata": {},
          "execution_count": 10
        }
      ]
    },
    {
      "cell_type": "code",
      "source": [
        "from urllib.request import Request, urlopen # Request 클래스, urlopen 함수 import\n",
        "req=Request('http://www.google.co.kr') # Request 클래스를 사용해 req 생성\n",
        "response=urlopen(req) # urlopen 함수 사용\n",
        "response.status"
      ],
      "metadata": {
        "colab": {
          "base_uri": "https://localhost:8080/"
        },
        "id": "fDchiA3viFEI",
        "outputId": "806083a1-1d8f-4472-e1a8-a7f22c5d5868"
      },
      "execution_count": 11,
      "outputs": [
        {
          "output_type": "execute_result",
          "data": {
            "text/plain": [
              "200"
            ]
          },
          "metadata": {},
          "execution_count": 11
        }
      ]
    },
    {
      "cell_type": "code",
      "source": [
        "from urllib.request import Request as r, urlopen as u\n",
        "req=r('http://www.google.co.kr') # r로 Request 클래스 사용\n",
        "response=u(req) # u로 urlopen 함수 사용\n",
        "response.status"
      ],
      "metadata": {
        "colab": {
          "base_uri": "https://localhost:8080/"
        },
        "id": "1e_xfvFKiHR-",
        "outputId": "15117619-7f82-440f-9a53-dd4dfe3ee536"
      },
      "execution_count": 12,
      "outputs": [
        {
          "output_type": "execute_result",
          "data": {
            "text/plain": [
              "200"
            ]
          },
          "metadata": {},
          "execution_count": 12
        }
      ]
    },
    {
      "cell_type": "markdown",
      "source": [
        "### 패키지 생성"
      ],
      "metadata": {
        "id": "qVsaf3OFiJa-"
      }
    },
    {
      "cell_type": "markdown",
      "source": [
        "##1. __ init __ .py\n",
        "##2. cal.py\n",
        "##3. main.py\n",
        "##4. 실행"
      ],
      "metadata": {
        "id": "M08k4N3nipOo"
      }
    },
    {
      "cell_type": "code",
      "source": [
        "from pack.cal import *\n",
        "add1(6, 6), mul1(6, 6)"
      ],
      "metadata": {
        "colab": {
          "base_uri": "https://localhost:8080/"
        },
        "id": "XnGHpJrIiamj",
        "outputId": "956743ca-c05f-44f6-c873-719dc23f8dbf"
      },
      "execution_count": 13,
      "outputs": [
        {
          "output_type": "execute_result",
          "data": {
            "text/plain": [
              "(12, 36)"
            ]
          },
          "metadata": {},
          "execution_count": 13
        }
      ]
    },
    {
      "cell_type": "markdown",
      "source": [
        "##5. stock.py\n",
        "##6. 실행"
      ],
      "metadata": {
        "id": "UGmEZCk9i6s2"
      }
    },
    {
      "cell_type": "code",
      "source": [
        "from pack.stock import *\n",
        "min_quantity"
      ],
      "metadata": {
        "colab": {
          "base_uri": "https://localhost:8080/"
        },
        "id": "8p5OkYutjQr7",
        "outputId": "4b9f3c1f-c0d6-4a5b-db8e-608a32736399"
      },
      "execution_count": 14,
      "outputs": [
        {
          "output_type": "execute_result",
          "data": {
            "text/plain": [
              "5"
            ]
          },
          "metadata": {},
          "execution_count": 14
        }
      ]
    },
    {
      "cell_type": "code",
      "source": [
        "a=stock_value( )\n",
        "a.cal(1000)"
      ],
      "metadata": {
        "colab": {
          "base_uri": "https://localhost:8080/"
        },
        "id": "Co2x-BkFjSjY",
        "outputId": "3dd8dcae-66f3-4a0e-8620-d56fdf13b543"
      },
      "execution_count": 15,
      "outputs": [
        {
          "output_type": "execute_result",
          "data": {
            "text/plain": [
              "5000"
            ]
          },
          "metadata": {},
          "execution_count": 15
        }
      ]
    },
    {
      "cell_type": "code",
      "source": [],
      "metadata": {
        "id": "RtroyIWS5otP"
      },
      "execution_count": null,
      "outputs": []
    }
  ]
}