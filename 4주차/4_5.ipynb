{
  "nbformat": 4,
  "nbformat_minor": 0,
  "metadata": {
    "colab": {
      "provenance": []
    },
    "kernelspec": {
      "name": "python3",
      "display_name": "Python 3"
    },
    "language_info": {
      "name": "python"
    }
  },
  "cells": [
    {
      "cell_type": "code",
      "execution_count": 1,
      "metadata": {
        "id": "cUUTvdoh85wb"
      },
      "outputs": [],
      "source": [
        "# 학생클래스 생성 - Student.py\n",
        "# 매니지먼트 클래스 생성 StudentMng.py"
      ]
    },
    {
      "cell_type": "code",
      "source": [
        "# 학생 클래스 생성\n",
        "# 클래스명 : Student\n",
        "# 변수 : student_id(static을 이용한 자동증가), 이름, 나이, 주소\n",
        "'''\n",
        "student_id  student_name student_age student_addr\n",
        "1            홍길동       20            서울시\n",
        "2            김길동       25            부산시\n",
        "3            이길동       30            대구시\n",
        "4            박길동       35            광주시'''\n",
        "\n",
        "# 매핑 2차원 리스트\n",
        "# 리스트명 studentsubject\n",
        "'''\n",
        " student_id subject_id\n",
        " [\n",
        "  [1,001],\n",
        "  [1,002],\n",
        "  [2,003],\n",
        "  [3,004],\n",
        "  [3,001]\n",
        " ]\n",
        "'''\n",
        "# 과목클래스\n",
        "# 클래스명 : Subject\n",
        "# 변수는  : subject_code subject_name\n",
        "'''\n",
        "subject_coe  subject_name\n",
        "001         수학\n",
        "002         영어\n",
        "003         국어\n",
        "004         파이썬\n",
        "'''"
      ],
      "metadata": {
        "id": "gH06A8YR9Q_R"
      },
      "execution_count": null,
      "outputs": []
    },
    {
      "cell_type": "code",
      "source": [
        "studentsubject =[]  # 2차원\n",
        "\n",
        "class Student:\n",
        "  student_id = 1\n",
        "  def __init__(self,student_id, student_name,student_age,student_addr):\n",
        "    self.student_id = Student.student_id\n",
        "    self.student_name = student_name\n",
        "    self.student_age = student_age\n",
        "    self.student_addr = student_addr\n",
        "    Student.student_id += 1\n",
        "  def applySubject(self,subject_id):\n",
        "    studentsubject.append([self.student_id,subject_id])\n",
        "\n",
        "class Subject:\n",
        "  def __init__(self,subject_code, subject_name):\n",
        "    self.subject_code = subject_code\n",
        "    self.subject_name = subject_name\n"
      ],
      "metadata": {
        "id": "P3pyuBFHAZOx"
      },
      "execution_count": 3,
      "outputs": []
    },
    {
      "cell_type": "code",
      "source": [
        "# 과목생성\n",
        "s1 = Subject('001','수학')\n",
        "s2 = Subject('002','영어')\n",
        "s3 = Subject('003','국어')\n",
        "s4 = Subject('004','파이썬')\n",
        "subjects = [s1,s2,s3,s4]\n",
        "# 학생등록\n",
        "st1 = Student(1,'홍길동',20,'서울시')\n",
        "st2 = Student(2,'김길동',25,'부산시')\n",
        "st3 = Student(3,'이길동',30,'대구시')\n",
        "students = [st1,st2,st3]\n",
        "# 수강신청\n",
        "st1.applySubject('001')\n",
        "st1.applySubject('002')\n",
        "st2.applySubject('003')\n",
        "st3.applySubject('004')\n",
        "st3.applySubject('001')"
      ],
      "metadata": {
        "id": "H5NjJUKhC0Yo"
      },
      "execution_count": 4,
      "outputs": []
    },
    {
      "cell_type": "code",
      "source": [
        "# 조회 - 학생의 아디를 조회해서\n",
        "#  출력  이름 나이 주소 수강과목을 출력\n",
        "search_student_id = input(\"학생 아이디 입력 : \")\n"
      ],
      "metadata": {
        "id": "GL-I9ooKD57z"
      },
      "execution_count": null,
      "outputs": []
    },
    {
      "cell_type": "code",
      "source": [],
      "metadata": {
        "id": "bUT--CMgELSo"
      },
      "execution_count": null,
      "outputs": []
    }
  ]
}