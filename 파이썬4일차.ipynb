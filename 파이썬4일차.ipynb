{
  "nbformat": 4,
  "nbformat_minor": 0,
  "metadata": {
    "colab": {
      "provenance": []
    },
    "kernelspec": {
      "name": "python3",
      "display_name": "Python 3"
    },
    "language_info": {
      "name": "python"
    }
  },
  "cells": [
    {
      "cell_type": "markdown",
      "source": [
        "# 복습"
      ],
      "metadata": {
        "id": "YcK1aV9DN1C-"
      }
    },
    {
      "cell_type": "code",
      "source": [
        "import random\n",
        "num = random.randint(1,100)\n",
        "if num > 50:\n",
        "  print(\"50 over\")\n",
        "print(\"end\")"
      ],
      "metadata": {
        "colab": {
          "base_uri": "https://localhost:8080/"
        },
        "id": "9TECzAZhN9tQ",
        "outputId": "61d56b11-57c2-403d-b532-6c9fb021ea2b"
      },
      "execution_count": 6,
      "outputs": [
        {
          "output_type": "stream",
          "name": "stdout",
          "text": [
            "50 over\n",
            "end\n"
          ]
        }
      ]
    },
    {
      "cell_type": "code",
      "source": [
        "if num > 50:\n",
        "  print(\"50 over\")\n",
        "else:\n",
        "  print(\"50 under\")"
      ],
      "metadata": {
        "colab": {
          "base_uri": "https://localhost:8080/"
        },
        "id": "nkxCmGRuOo74",
        "outputId": "3c4b6331-d319-4133-b0c4-66a1005c4d75"
      },
      "execution_count": 7,
      "outputs": [
        {
          "output_type": "stream",
          "name": "stdout",
          "text": [
            "50 over\n"
          ]
        }
      ]
    },
    {
      "cell_type": "code",
      "source": [
        "import random\n",
        "num = random.randint(1,100)\n",
        "# 20 ~ 50 사이일때 success 출력\n",
        "if 20 <= num <= 50:\n",
        "  print(\"success\")\n",
        "\n",
        "if num >= 20 and num <= 50:  # true, false\n",
        "  print(\"success\")"
      ],
      "metadata": {
        "colab": {
          "base_uri": "https://localhost:8080/"
        },
        "id": "QC-1zEqbOo_Y",
        "outputId": "e95e3ea9-356a-4d8b-e3d3-9d681ea91fa3"
      },
      "execution_count": 11,
      "outputs": [
        {
          "output_type": "stream",
          "name": "stdout",
          "text": [
            "success\n",
            "success\n"
          ]
        }
      ]
    },
    {
      "cell_type": "code",
      "source": [
        "import random\n",
        "num = random.randint(1,100)\n",
        "# 20 ~ 50 사이일때 success 출력\n",
        "\n",
        "if num >= 20 or num <= 50:   # 항상 true\n",
        "  print(\"success\")"
      ],
      "metadata": {
        "id": "BNA8gUJ7N-l4"
      },
      "execution_count": null,
      "outputs": []
    },
    {
      "cell_type": "code",
      "source": [
        "# 구매가격을 입력하고  - 1000원 이하는 없음\n",
        "# 지불한 가격을 입력하면 - 1000원 이하는 없음\n",
        "# 거스름돈 계산 (10000, 5000, 1000)\n",
        "# ex 구매 :34000   지불 : 50000\n",
        "# 거스름돈 : 10000:1, 5000:1, 1000:1\n",
        "# input, %, //\n",
        "# 10000의 몫, 나머지가 있다면 - 5000 몫 나머지가 있다면 - 1000 몫\n",
        "price = float(input(\"구매가격 입력: \"))\n",
        "pay = float(input(\"지불한 가격: \"))\n",
        "money = pay - price\n",
        "print(\"10000 :\",money // 10000, end='')\n",
        "if money % 10000:  # 나머지가 있다면\n",
        "  money = money % 10000\n",
        "  print(\", 5000 :\",money // 5000, end='')\n",
        "  if money % 5000:  # 나머지가 있다면\n",
        "    money = money % 5000\n",
        "    print(\", 1000 :\",money // 1000, end='')"
      ],
      "metadata": {
        "colab": {
          "base_uri": "https://localhost:8080/"
        },
        "id": "MRpTpWmmN-oh",
        "outputId": "3a7bf4bf-40fa-48c8-f506-ce7be93131d9"
      },
      "execution_count": 13,
      "outputs": [
        {
          "output_type": "stream",
          "name": "stdout",
          "text": [
            "구매가격 입력: 18000\n",
            "지불한 가격: 20000\n",
            "10000 : 0.0, 5000 : 0.0, 1000 : 2.0"
          ]
        }
      ]
    },
    {
      "cell_type": "code",
      "source": [
        "# 율리우스력\n",
        "# 원하는 년도를 입력받아서 해당 년도가 윤년인지 판단\n",
        "year = float(input(\"년도를 입력하세요: \"))\n",
        "\n",
        "# 4로 나누어 떨어지는 해는 윤년, 그 밖의 해는 평년으로 한다.\n",
        "if year % 4 == 0:\n",
        "  print(\"윤년\")\n",
        "else:\n",
        "  print(\"평년\")"
      ],
      "metadata": {
        "colab": {
          "base_uri": "https://localhost:8080/"
        },
        "id": "DUJd3tmuPxUq",
        "outputId": "2c91020a-9875-404e-f135-5adcd492f72a"
      },
      "execution_count": 15,
      "outputs": [
        {
          "output_type": "stream",
          "name": "stdout",
          "text": [
            "년도를 입력하세요: 2024\n",
            "윤년\n"
          ]
        }
      ]
    },
    {
      "cell_type": "code",
      "source": [
        "# 조건 추가 - 그레고리력\n",
        "# 100으로 나누어 떨어지되 400으로 나누어 떨어지지 않는 해는 평년으로 한다. (즉, 끝 두 자리가 00이면서 윗 자리가 4의 배수가 되는 해)\n",
        "# 1900은 평년\n",
        "if year % 100 == 0  and year % 400 != 0"
      ],
      "metadata": {
        "id": "NX824s_1PxYA"
      },
      "execution_count": null,
      "outputs": []
    },
    {
      "cell_type": "code",
      "source": [
        "year = float(input(\"년도를 입력하세요: \"))\n",
        "if (year % 4 == 0) or ( year % 100 == 0  and year % 400 != 0 ):\n",
        "  print(\"윤년\")\n",
        "else:\n",
        "  print(\"평년\")"
      ],
      "metadata": {
        "colab": {
          "base_uri": "https://localhost:8080/"
        },
        "id": "uRocWAEWN-sJ",
        "outputId": "e8e73f83-11ec-4564-a3aa-185b03745496"
      },
      "execution_count": 18,
      "outputs": [
        {
          "output_type": "stream",
          "name": "stdout",
          "text": [
            "년도를 입력하세요: 2024\n",
            "윤년\n"
          ]
        }
      ]
    },
    {
      "cell_type": "markdown",
      "source": [
        "# 반복문\n",
        "  - for 변수 in 집합"
      ],
      "metadata": {
        "id": "UFvE5DpdN3sY"
      }
    },
    {
      "cell_type": "code",
      "source": [
        "for i in [1,5,7]:\n",
        "  print(i)"
      ],
      "metadata": {
        "colab": {
          "base_uri": "https://localhost:8080/"
        },
        "id": "C3D02W7qN5Bv",
        "outputId": "5e59412f-f255-4e62-d1c3-481b82075bff"
      },
      "execution_count": 19,
      "outputs": [
        {
          "output_type": "stream",
          "name": "stdout",
          "text": [
            "1\n",
            "5\n",
            "7\n"
          ]
        }
      ]
    },
    {
      "cell_type": "code",
      "source": [
        "for data in [1,5,7]:\n",
        "  print(data)"
      ],
      "metadata": {
        "colab": {
          "base_uri": "https://localhost:8080/"
        },
        "id": "VGiLKBzWVLFv",
        "outputId": "20cfe282-71ab-46b3-edec-0f0756dd328e"
      },
      "execution_count": 20,
      "outputs": [
        {
          "output_type": "stream",
          "name": "stdout",
          "text": [
            "1\n",
            "5\n",
            "7\n"
          ]
        }
      ]
    },
    {
      "cell_type": "code",
      "source": [
        "for data in [1,5,7]:\n",
        "  print(\"안녕\")"
      ],
      "metadata": {
        "colab": {
          "base_uri": "https://localhost:8080/"
        },
        "id": "OxeX9-0KVi8P",
        "outputId": "2893c887-634e-42dc-8ecd-542ab8b8c136"
      },
      "execution_count": 21,
      "outputs": [
        {
          "output_type": "stream",
          "name": "stdout",
          "text": [
            "안녕\n",
            "안녕\n",
            "안녕\n"
          ]
        }
      ]
    },
    {
      "cell_type": "code",
      "source": [
        "for _ in [1,5,7]:\n",
        "  print(\"안녕\")"
      ],
      "metadata": {
        "colab": {
          "base_uri": "https://localhost:8080/"
        },
        "id": "eXz_5rXUVl6P",
        "outputId": "ca22b4a0-a879-4f7b-c56e-25bceedce002"
      },
      "execution_count": 22,
      "outputs": [
        {
          "output_type": "stream",
          "name": "stdout",
          "text": [
            "안녕\n",
            "안녕\n",
            "안녕\n"
          ]
        }
      ]
    },
    {
      "cell_type": "code",
      "source": [
        "range(10),  list( range(10) )"
      ],
      "metadata": {
        "colab": {
          "base_uri": "https://localhost:8080/"
        },
        "id": "E2JJsMFOV3ZH",
        "outputId": "2a16dceb-0f45-4604-eedb-5f3730b50527"
      },
      "execution_count": 25,
      "outputs": [
        {
          "output_type": "execute_result",
          "data": {
            "text/plain": [
              "(range(0, 10), [0, 1, 2, 3, 4, 5, 6, 7, 8, 9])"
            ]
          },
          "metadata": {},
          "execution_count": 25
        }
      ]
    },
    {
      "cell_type": "code",
      "source": [
        "for i in range(1,5):\n",
        "  print(i)"
      ],
      "metadata": {
        "colab": {
          "base_uri": "https://localhost:8080/"
        },
        "collapsed": true,
        "id": "n3BG32aGV90H",
        "outputId": "401e9637-6a16-48c5-84f8-99bdf8366dd0"
      },
      "execution_count": 28,
      "outputs": [
        {
          "output_type": "stream",
          "name": "stdout",
          "text": [
            "1\n",
            "2\n",
            "3\n",
            "4\n"
          ]
        }
      ]
    },
    {
      "cell_type": "code",
      "source": [
        "# 1 ~ 100을 포함한 임의의 숫자 10개를 리스트로\n",
        "import random\n",
        "list_1 = []\n",
        "list_1.append(random.randint(1,100))\n",
        "list_1.append(random.randint(1,100))\n",
        "list_1.append(random.randint(1,100))\n",
        "list_1.append(random.randint(1,100))\n",
        "list_1.append(random.randint(1,100))\n",
        "list_1.append(random.randint(1,100))\n",
        "list_1.append(random.randint(1,100))\n",
        "list_1.append(random.randint(1,100))\n",
        "list_1.append(random.randint(1,100))\n",
        "list_1.append(random.randint(1,100))\n",
        "print(list_1)"
      ],
      "metadata": {
        "colab": {
          "base_uri": "https://localhost:8080/"
        },
        "id": "MaV8SViBWFoO",
        "outputId": "6e3ee6d3-3d0a-4db3-928e-90b5c342d287"
      },
      "execution_count": 30,
      "outputs": [
        {
          "output_type": "stream",
          "name": "stdout",
          "text": [
            "[11, 23, 99, 51, 82, 31, 28, 78, 1, 28]\n"
          ]
        }
      ]
    },
    {
      "cell_type": "code",
      "source": [
        "import random\n",
        "list_1 = []\n",
        "for _ in range(10):\n",
        "  list_1.append(random.randint(1,100))\n",
        "print(list_1)"
      ],
      "metadata": {
        "colab": {
          "base_uri": "https://localhost:8080/"
        },
        "id": "PdK_Uy4BW1yG",
        "outputId": "13f25b62-7a6b-4807-cc44-2685d09466fc"
      },
      "execution_count": 34,
      "outputs": [
        {
          "output_type": "stream",
          "name": "stdout",
          "text": [
            "[81, 72, 54, 97, 45, 61, 84, 6, 90, 26]\n"
          ]
        }
      ]
    },
    {
      "cell_type": "code",
      "source": [
        "# 로또번호 추출기 ( 1 ~ 45)  6개 번호 추천( 랜덤하게 생성)  - 이때 번호 중복은 생각하지 않는다\n",
        "import random\n",
        "list_1 = []\n",
        "for _ in range(6):\n",
        "  list_1.append(random.randint(1,46))\n",
        "print(list_1)"
      ],
      "metadata": {
        "colab": {
          "base_uri": "https://localhost:8080/"
        },
        "id": "2Zjf_qBRXxjO",
        "outputId": "d1428ff7-0201-49ba-ea5c-8b1f35f13b67"
      },
      "execution_count": 36,
      "outputs": [
        {
          "output_type": "stream",
          "name": "stdout",
          "text": [
            "[16, 10, 14, 43, 24, 14]\n"
          ]
        }
      ]
    },
    {
      "cell_type": "code",
      "source": [
        "for test in ['a',10,45.5, [1,2,3]  ]:\n",
        "  print(test)"
      ],
      "metadata": {
        "colab": {
          "base_uri": "https://localhost:8080/"
        },
        "id": "AvgA963xYnpW",
        "outputId": "f8b39335-27be-4497-fc9d-ba80c773cfef"
      },
      "execution_count": 41,
      "outputs": [
        {
          "output_type": "stream",
          "name": "stdout",
          "text": [
            "a\n",
            "10\n",
            "45.5\n",
            "[1, 2, 3]\n"
          ]
        }
      ]
    },
    {
      "cell_type": "code",
      "source": [
        "# 두개의 변수의 값을 서로 exchange 해 보자\n",
        "a = 1\n",
        "b = 2\n",
        "print(a,b)"
      ],
      "metadata": {
        "colab": {
          "base_uri": "https://localhost:8080/"
        },
        "id": "S3O1pjCVbnbm",
        "outputId": "beb979af-317c-45b7-fc60-4086bffd4aff"
      },
      "execution_count": 42,
      "outputs": [
        {
          "output_type": "stream",
          "name": "stdout",
          "text": [
            "1 2\n"
          ]
        }
      ]
    },
    {
      "cell_type": "code",
      "source": [
        "a, b = b , a\n",
        "print(a,b)"
      ],
      "metadata": {
        "colab": {
          "base_uri": "https://localhost:8080/"
        },
        "id": "0QtUiDB5cNbW",
        "outputId": "bd6b3b4e-d33e-4451-c98d-ea0b24b731d3"
      },
      "execution_count": 43,
      "outputs": [
        {
          "output_type": "stream",
          "name": "stdout",
          "text": [
            "2 1\n"
          ]
        }
      ]
    },
    {
      "cell_type": "code",
      "source": [
        "import random\n",
        "rottos = list(range(1,46))  # size 45  index 0 ~ 44\n",
        "print(f\"섞기전 {rottos} \")\n",
        "\n",
        "# 100번 섞음\n",
        "for i in range(100):\n",
        "  rand1 = random.randint(1,44)\n",
        "  # rand2 = random.randint(1,44)\n",
        "  rottos[0], rottos[rand1] = rottos[rand1], rottos[0]\n",
        "\n",
        "print(f\"섞은후 {rottos} \")\n",
        "# 6개의 번호를 추출하고 정렬해서 출력한다.\n",
        "rotto = []\n",
        "for i in range(6):\n",
        "  rotto.append( rottos[i]  )\n",
        "\n",
        "rotto.sort()\n",
        "print(rotto)"
      ],
      "metadata": {
        "colab": {
          "base_uri": "https://localhost:8080/"
        },
        "id": "c-PpLEMScXxW",
        "outputId": "0b068d39-2550-4af7-d324-4f128816f5d3"
      },
      "execution_count": 62,
      "outputs": [
        {
          "output_type": "stream",
          "name": "stdout",
          "text": [
            "섞기전 [1, 2, 3, 4, 5, 6, 7, 8, 9, 10, 11, 12, 13, 14, 15, 16, 17, 18, 19, 20, 21, 22, 23, 24, 25, 26, 27, 28, 29, 30, 31, 32, 33, 34, 35, 36, 37, 38, 39, 40, 41, 42, 43, 44, 45] \n",
            "섞은후 [27, 32, 3, 12, 44, 24, 4, 37, 9, 40, 43, 20, 2, 23, 1, 14, 38, 34, 18, 45, 28, 35, 25, 26, 22, 16, 31, 17, 29, 7, 11, 42, 6, 10, 15, 13, 19, 30, 39, 36, 41, 33, 21, 5, 8] \n",
            "[3, 12, 24, 27, 32, 44]\n"
          ]
        }
      ]
    },
    {
      "cell_type": "code",
      "source": [
        "# 특정 횟수만큼 반복 - range(반복하고싶은 숫자)\n",
        "# print(\"study for loop\")\n",
        "# print(\"study for loop\")\n",
        "# print(\"study for loop\")\n",
        "# print(\"study for loop\")\n",
        "# print(\"study for loop\")\n",
        "for i in range(5):\n",
        "  print(\"study for loop\")"
      ],
      "metadata": {
        "colab": {
          "base_uri": "https://localhost:8080/"
        },
        "id": "DQUWKkmFc_8V",
        "outputId": "2c0fbc94-3adf-4ae6-f8d5-93dde60b6d41"
      },
      "execution_count": 64,
      "outputs": [
        {
          "output_type": "stream",
          "name": "stdout",
          "text": [
            "study for loop\n",
            "study for loop\n",
            "study for loop\n",
            "study for loop\n",
            "study for loop\n"
          ]
        }
      ]
    },
    {
      "cell_type": "code",
      "source": [
        "for i in range(5):\n",
        "  print(\"study for loop\", i)"
      ],
      "metadata": {
        "colab": {
          "base_uri": "https://localhost:8080/"
        },
        "id": "9HqdT5q1gtat",
        "outputId": "04a1b9f5-88d5-4aa2-ae04-df3237b1b7a0"
      },
      "execution_count": 65,
      "outputs": [
        {
          "output_type": "stream",
          "name": "stdout",
          "text": [
            "study for loop 0\n",
            "study for loop 1\n",
            "study for loop 2\n",
            "study for loop 3\n",
            "study for loop 4\n"
          ]
        }
      ]
    },
    {
      "cell_type": "code",
      "source": [
        "# for i in range(시작값, 끝값+1, 증가값):\n",
        "# for i in range(0,5,1):  0 1 2 3 4\n",
        "# for i in range(5):\n",
        "\n",
        "# for i in range(0,5,2):  0 2 4"
      ],
      "metadata": {
        "id": "dsgzIo_OhFtV"
      },
      "execution_count": null,
      "outputs": []
    },
    {
      "cell_type": "code",
      "source": [
        "# 사용자로부터 값을 3번 입력받아서 그 합을 구해봅시다\n",
        "a = float(input(\"값을 입력하세요: \"))  # 이 명령어 5번 수행해서 각각의 값의 합을 구하세요\n",
        "b = float(input(\"값을 입력하세요: \"))\n",
        "c = float(input(\"값을 입력하세요: \"))\n",
        "d = float(input(\"값을 입력하세요: \"))\n",
        "e = float(input(\"값을 입력하세요: \"))\n",
        "print(a+b+c+d+e)\n"
      ],
      "metadata": {
        "id": "_Nm4awAOh3H6"
      },
      "execution_count": null,
      "outputs": []
    },
    {
      "cell_type": "code",
      "source": [
        "# 개선\n",
        "# 순환문\n",
        "# list\n",
        "list_1 = []\n",
        "for i in range(5):\n",
        "  list_1.append( float(input(\"값을 입력하세요: \")) )\n",
        "print( sum(list_1) )"
      ],
      "metadata": {
        "colab": {
          "base_uri": "https://localhost:8080/"
        },
        "id": "Ge7E7EPLjPGv",
        "outputId": "b8db3833-2ac2-44e6-8cf7-48047234b2cb"
      },
      "execution_count": 66,
      "outputs": [
        {
          "output_type": "stream",
          "name": "stdout",
          "text": [
            "값을 입력하세요: 5\n",
            "값을 입력하세요: 4\n",
            "값을 입력하세요: 4\n",
            "값을 입력하세요: 5\n",
            "값을 입력하세요: 2\n",
            "20.0\n"
          ]
        }
      ]
    },
    {
      "cell_type": "code",
      "source": [
        "# 1 ~ 20 짝수들의 합을 구해봅시다\n",
        "# 순환문 range()  2개씩 증가  range(시작값, 끝값+1, 증가값)\n",
        "# 짝수들의 집합을 리스트로 담고\n",
        "# 리스트의 합 sum 명령어로 구한다\n",
        "list_1 = []\n",
        "for i in range(2,21,2):\n",
        "  list_1.append( i )\n",
        "print(list_1)\n",
        "print( sum( list_1 )  )"
      ],
      "metadata": {
        "colab": {
          "base_uri": "https://localhost:8080/"
        },
        "id": "MIAU2ivRjn6G",
        "outputId": "715a0632-f4e5-46df-aa68-ce1075803ec4"
      },
      "execution_count": 67,
      "outputs": [
        {
          "output_type": "stream",
          "name": "stdout",
          "text": [
            "[2, 4, 6, 8, 10, 12, 14, 16, 18, 20]\n",
            "110\n"
          ]
        }
      ]
    },
    {
      "cell_type": "code",
      "source": [
        "total = 0\n",
        "for i in range(2,21,2):\n",
        "  total = total + i\n",
        "\n",
        "print( total  )"
      ],
      "metadata": {
        "colab": {
          "base_uri": "https://localhost:8080/"
        },
        "id": "i97WwbzEk_id",
        "outputId": "8b6f640b-a874-4254-9f0f-87d391e37419"
      },
      "execution_count": 68,
      "outputs": [
        {
          "output_type": "stream",
          "name": "stdout",
          "text": [
            "110\n"
          ]
        }
      ]
    },
    {
      "cell_type": "code",
      "source": [
        "a = 5\n",
        "# a = a + 1\n",
        "a += 1\n",
        "print(a)\n"
      ],
      "metadata": {
        "colab": {
          "base_uri": "https://localhost:8080/"
        },
        "id": "aW1WmEVzlPF1",
        "outputId": "d47cc772-1cae-46cf-807d-950f78f90155"
      },
      "execution_count": 70,
      "outputs": [
        {
          "output_type": "stream",
          "name": "stdout",
          "text": [
            "6\n"
          ]
        }
      ]
    },
    {
      "cell_type": "code",
      "source": [
        "total = 0\n",
        "for i in range(2,21,2):\n",
        "  total +=  i\n",
        "\n",
        "print( total  )"
      ],
      "metadata": {
        "colab": {
          "base_uri": "https://localhost:8080/"
        },
        "id": "XKd4FpYUlemA",
        "outputId": "f22653d7-33c9-4dbb-8b1e-b50a37a4ea6f"
      },
      "execution_count": 71,
      "outputs": [
        {
          "output_type": "stream",
          "name": "stdout",
          "text": [
            "110\n"
          ]
        }
      ]
    },
    {
      "cell_type": "code",
      "source": [
        "# 복합 대입연산자\n",
        "# +=   -=   *=   /=\n",
        "# a += 1  >>  a = a + 1"
      ],
      "metadata": {
        "id": "DiCBbMyily6G"
      },
      "execution_count": null,
      "outputs": []
    },
    {
      "cell_type": "code",
      "source": [
        "# 리스트에 숫자들이 있고.. 그 중에서 가장 큰 수를 찾아서 출력\n",
        "# 1 랜덤함수를 이용해서 임의의 값 10개를 리스트로 만들고\n",
        "# 해당 리스트에서 최대 값을 찾는다.\n",
        "# 찾는 방법  : 리스트의 첫번째 값을 max_num 변수에 넣고 리스트의 두번째 값부터 비교해서 리스트의 값이 크면\n",
        "# max_num의 변수를 교체하면서 리스트 끝까지 가면... 결국 max_num에는 리스트에서 가장 큰 값이 담겨있다"
      ],
      "metadata": {
        "id": "StBovwuQmWhX"
      },
      "execution_count": null,
      "outputs": []
    },
    {
      "cell_type": "code",
      "source": [
        "# 최대값\n",
        "import random\n",
        "list_1 = []\n",
        "# 랜덤한 데이터 10개\n",
        "for i in range(10):\n",
        "  list_1.append(  random.randint(1,100)   )\n",
        "\n",
        "# 생성된 랜덤한 리스트를 순환하면서 가장 큰 값을 찾아서 변수에 담기\n",
        "max_num = list_1[0]\n",
        "for i in list_1:\n",
        "  if max_num < i:\n",
        "    max_num = i\n",
        "\n",
        "print(list_1)\n",
        "print(max_num)\n"
      ],
      "metadata": {
        "colab": {
          "base_uri": "https://localhost:8080/"
        },
        "id": "KOO4OxVHnYtX",
        "outputId": "da906929-7cc6-4d17-b172-0adf0d12ce6e"
      },
      "execution_count": 77,
      "outputs": [
        {
          "output_type": "stream",
          "name": "stdout",
          "text": [
            "[63, 73, 89, 43, 13, 70, 92, 55, 68, 88]\n",
            "92\n"
          ]
        }
      ]
    },
    {
      "cell_type": "code",
      "source": [
        "# 최소값\n",
        "import random\n",
        "list_1 = []\n",
        "# 랜덤한 데이터 10개\n",
        "for i in range(10):\n",
        "  list_1.append(  random.randint(1,100)   )\n",
        "\n",
        "# 생성된 랜덤한 리스트를 순환하면서 가장 큰 값을 찾아서 변수에 담기\n",
        "min_num = list_1[0]\n",
        "for i in list_1:\n",
        "  if min_num > i:\n",
        "    min_num = i\n",
        "\n",
        "print(list_1)\n",
        "print(min_num)\n"
      ],
      "metadata": {
        "colab": {
          "base_uri": "https://localhost:8080/"
        },
        "id": "pOZ-z3QQnb2d",
        "outputId": "eb882280-d926-4b43-ca2c-3d1592466209"
      },
      "execution_count": 78,
      "outputs": [
        {
          "output_type": "stream",
          "name": "stdout",
          "text": [
            "[81, 51, 24, 60, 45, 90, 97, 100, 62, 6]\n",
            "6\n"
          ]
        }
      ]
    },
    {
      "cell_type": "code",
      "source": [
        "# 위와 똑 같은 방법으로 순환문을 이용하지 않고\n",
        "import random\n",
        "list_1 = []\n",
        "# 랜덤한 데이터 10개\n",
        "for i in range(10):\n",
        "  list_1.append(  random.randint(1,100)   )\n",
        "print(list_1)\n",
        "# sort\n",
        "list_1.sort() # 오름차순\n",
        "# 리스트의 맨 앞-> 최소\n",
        "# 리스트의 맨 마지막 -> 최대\n",
        "print(list_1[0],  list_1[-1])"
      ],
      "metadata": {
        "colab": {
          "base_uri": "https://localhost:8080/"
        },
        "id": "6DXA3qpSrxx2",
        "outputId": "b35596d1-b464-4a35-a9e1-b5ddce89fdfc"
      },
      "execution_count": 81,
      "outputs": [
        {
          "output_type": "stream",
          "name": "stdout",
          "text": [
            "[70, 83, 97, 6, 90, 44, 16, 85, 54, 80]\n",
            "6 97\n"
          ]
        }
      ]
    },
    {
      "cell_type": "code",
      "source": [
        "# 2002 ~ 현째까지의 년도중에 윤년만 리스트에 담아서 출력  range(2002,2025)\n",
        "list_1 = []\n",
        "for year in range(2002,2025):\n",
        "  if (year % 4 == 0) or ( year % 100 == 0  and year % 400 != 0 ):\n",
        "    list_1.append(year)\n",
        "\n",
        "print(list_1)   # 2004, 2008, 2012, 2016, 2020, 2024"
      ],
      "metadata": {
        "colab": {
          "base_uri": "https://localhost:8080/"
        },
        "collapsed": true,
        "id": "4i8LlKMdr798",
        "outputId": "a4fdb86e-87c8-42c8-e08b-51f95775ff61"
      },
      "execution_count": 86,
      "outputs": [
        {
          "output_type": "stream",
          "name": "stdout",
          "text": [
            "[2004, 2008, 2012, 2016, 2020, 2024]\n"
          ]
        }
      ]
    },
    {
      "cell_type": "code",
      "source": [
        "# 중첩 for 문\n",
        "for i in range(3):\n",
        "  for j in range(3):\n",
        "    print(f\"i = {i} / j = {j}\")"
      ],
      "metadata": {
        "colab": {
          "base_uri": "https://localhost:8080/"
        },
        "id": "iUuyegGTvWrk",
        "outputId": "7e07d5f0-0a92-4b46-e03d-ef89c1e68ffe"
      },
      "execution_count": 88,
      "outputs": [
        {
          "output_type": "stream",
          "name": "stdout",
          "text": [
            "i = 0 / j = 0\n",
            "i = 0 / j = 1\n",
            "i = 0 / j = 2\n",
            "i = 1 / j = 0\n",
            "i = 1 / j = 1\n",
            "i = 1 / j = 2\n",
            "i = 2 / j = 0\n",
            "i = 2 / j = 1\n",
            "i = 2 / j = 2\n"
          ]
        }
      ]
    },
    {
      "cell_type": "code",
      "source": [
        "# print(\"2 x 1 = 2\")\n",
        "# print(\"2 x 2 = 4\")\n",
        "# print(\"2 x 3 = 5\")\n",
        "# # ....\n",
        "# print(\"2 x 9 = 18\")\n",
        "for i in range(1, 10):\n",
        "  print(f\"2 x {i} = {2*i}\")"
      ],
      "metadata": {
        "colab": {
          "base_uri": "https://localhost:8080/"
        },
        "id": "w2A_3C0sv1LD",
        "outputId": "332a6166-9e9d-46d5-c137-3dda8fa46c7a"
      },
      "execution_count": 89,
      "outputs": [
        {
          "output_type": "stream",
          "name": "stdout",
          "text": [
            "2 x 1 = 2\n",
            "2 x 2 = 4\n",
            "2 x 3 = 6\n",
            "2 x 4 = 8\n",
            "2 x 5 = 10\n",
            "2 x 6 = 12\n",
            "2 x 7 = 14\n",
            "2 x 8 = 16\n",
            "2 x 9 = 18\n"
          ]
        }
      ]
    },
    {
      "cell_type": "code",
      "source": [
        "for j in range(1,10):  # 단\n",
        "  print()\n",
        "  for i in range(2, 10):\n",
        "    print(f\"{i} x {j} = {j*i}\", end='\\t')"
      ],
      "metadata": {
        "colab": {
          "base_uri": "https://localhost:8080/"
        },
        "id": "ux-2IwM8w_bT",
        "outputId": "4c2b2c3a-f5d7-4356-e0d5-5c796d1838f3"
      },
      "execution_count": 98,
      "outputs": [
        {
          "output_type": "stream",
          "name": "stdout",
          "text": [
            "\n",
            "2 x 1 = 2\t3 x 1 = 3\t4 x 1 = 4\t5 x 1 = 5\t6 x 1 = 6\t7 x 1 = 7\t8 x 1 = 8\t9 x 1 = 9\t\n",
            "2 x 2 = 4\t3 x 2 = 6\t4 x 2 = 8\t5 x 2 = 10\t6 x 2 = 12\t7 x 2 = 14\t8 x 2 = 16\t9 x 2 = 18\t\n",
            "2 x 3 = 6\t3 x 3 = 9\t4 x 3 = 12\t5 x 3 = 15\t6 x 3 = 18\t7 x 3 = 21\t8 x 3 = 24\t9 x 3 = 27\t\n",
            "2 x 4 = 8\t3 x 4 = 12\t4 x 4 = 16\t5 x 4 = 20\t6 x 4 = 24\t7 x 4 = 28\t8 x 4 = 32\t9 x 4 = 36\t\n",
            "2 x 5 = 10\t3 x 5 = 15\t4 x 5 = 20\t5 x 5 = 25\t6 x 5 = 30\t7 x 5 = 35\t8 x 5 = 40\t9 x 5 = 45\t\n",
            "2 x 6 = 12\t3 x 6 = 18\t4 x 6 = 24\t5 x 6 = 30\t6 x 6 = 36\t7 x 6 = 42\t8 x 6 = 48\t9 x 6 = 54\t\n",
            "2 x 7 = 14\t3 x 7 = 21\t4 x 7 = 28\t5 x 7 = 35\t6 x 7 = 42\t7 x 7 = 49\t8 x 7 = 56\t9 x 7 = 63\t\n",
            "2 x 8 = 16\t3 x 8 = 24\t4 x 8 = 32\t5 x 8 = 40\t6 x 8 = 48\t7 x 8 = 56\t8 x 8 = 64\t9 x 8 = 72\t\n",
            "2 x 9 = 18\t3 x 9 = 27\t4 x 9 = 36\t5 x 9 = 45\t6 x 9 = 54\t7 x 9 = 63\t8 x 9 = 72\t9 x 9 = 81\t"
          ]
        }
      ]
    },
    {
      "cell_type": "code",
      "source": [],
      "metadata": {
        "id": "ZB61cp9MxPPb"
      },
      "execution_count": null,
      "outputs": []
    }
  ]
}