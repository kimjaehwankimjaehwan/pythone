{
  "nbformat": 4,
  "nbformat_minor": 0,
  "metadata": {
    "colab": {
      "provenance": []
    },
    "kernelspec": {
      "name": "python3",
      "display_name": "Python 3"
    },
    "language_info": {
      "name": "python"
    }
  },
  "cells": [
    {
      "cell_type": "code",
      "execution_count": 2,
      "metadata": {
        "colab": {
          "base_uri": "https://localhost:8080/"
        },
        "collapsed": true,
        "id": "JlBVZEtDHdC-",
        "outputId": "b420f973-4bb6-4e7a-b8f0-c28dadbf9482"
      },
      "outputs": [
        {
          "output_type": "stream",
          "name": "stdout",
          "text": [
            "2 x 1 = 2\n",
            "2 x 2 = 4\n",
            "2 x 3 = 6\n",
            "2 x 4 = 8\n",
            "2 x 5 = 10\n",
            "2 x 6 = 12\n",
            "2 x 7 = 14\n",
            "2 x 8 = 16\n",
            "2 x 9 = 18\n",
            "logic...\n",
            "logic...\n",
            "3 x 1 = 3\n",
            "3 x 2 = 6\n",
            "3 x 3 = 9\n",
            "3 x 4 = 12\n",
            "3 x 5 = 15\n",
            "3 x 6 = 18\n",
            "3 x 7 = 21\n",
            "3 x 8 = 24\n",
            "3 x 9 = 27\n"
          ]
        }
      ],
      "source": [
        "for i in range(1,10):\n",
        "  print(f\"2 x {i} = {2*i}\")\n",
        "\n",
        "print('logic...')\n",
        "print('logic...')\n",
        "\n",
        "for i in range(1,10):\n",
        "  print(f\"3 x {i} = {3*i}\")"
      ]
    },
    {
      "cell_type": "code",
      "source": [
        "def dan(num):\n",
        "  for i in range(1,10):\n",
        "    print(f\"{num} x {i} = {num*i}\")"
      ],
      "metadata": {
        "id": "4PcubuFDHwKh"
      },
      "execution_count": 3,
      "outputs": []
    },
    {
      "cell_type": "code",
      "source": [
        "dan(2)\n",
        "print('logic')\n",
        "print('logic')\n",
        "print('logic')\n",
        "dan(4)"
      ],
      "metadata": {
        "colab": {
          "base_uri": "https://localhost:8080/"
        },
        "collapsed": true,
        "id": "jjImriqtIHdX",
        "outputId": "353d0f6c-d980-40e6-d01a-453973b23fe9"
      },
      "execution_count": 5,
      "outputs": [
        {
          "output_type": "stream",
          "name": "stdout",
          "text": [
            "2 x 1 = 2\n",
            "2 x 2 = 4\n",
            "2 x 3 = 6\n",
            "2 x 4 = 8\n",
            "2 x 5 = 10\n",
            "2 x 6 = 12\n",
            "2 x 7 = 14\n",
            "2 x 8 = 16\n",
            "2 x 9 = 18\n",
            "logic\n",
            "logic\n",
            "logic\n",
            "4 x 1 = 4\n",
            "4 x 2 = 8\n",
            "4 x 3 = 12\n",
            "4 x 4 = 16\n",
            "4 x 5 = 20\n",
            "4 x 6 = 24\n",
            "4 x 7 = 28\n",
            "4 x 8 = 32\n",
            "4 x 9 = 36\n"
          ]
        }
      ]
    },
    {
      "cell_type": "code",
      "source": [
        "# refactoring\n",
        "# code-review"
      ],
      "metadata": {
        "id": "JR4IPEkpIIq_"
      },
      "execution_count": 6,
      "outputs": []
    },
    {
      "cell_type": "code",
      "source": [
        "# 학사관리\n",
        "# 메뉴를 표시하고\n",
        "# 1. 학생정보 입력\n",
        "#   이름,나이,점수\n",
        "# 2. 학생정보 수정\n",
        "#   이름으로 학생을 찾아서 정보를 수정\n",
        "# 3. 학생출력\n",
        "#   이름으로 학생정보를 출력 ( 이름:, 나이: 점수:)\n",
        "# 4, 데이터  삭제\n",
        "#   이름으로 학생정보를 삭제\n",
        "# 메뉴에 해당하는 번호를 누르면 기능을 수행"
      ],
      "metadata": {
        "id": "ssuPZPiIJZwQ"
      },
      "execution_count": 7,
      "outputs": []
    },
    {
      "cell_type": "code",
      "source": [
        "def show_menu():\n",
        "  print(f\"1. 학생정보 입력\\t\\t 3. 학생정보 출력\")\n",
        "  print(f\"2. 학생정보 수정\\t\\t 4. 데이터 삭제\")\n",
        "  print(f\"5. 종료\")\n",
        "\n",
        "def make_student(list_data):\n",
        "    list_data.append( {\n",
        "        'name' : input(\"name : \"),\n",
        "        'age' : int(input(\"age : \")),\n",
        "        'jumsu' : float(input(\"jumsu : \"))\n",
        "    })\n",
        "def show_stuent(list_data):\n",
        "  for i in list_data:\n",
        "    print(i)"
      ],
      "metadata": {
        "id": "aQtOnDHsWPTQ"
      },
      "execution_count": null,
      "outputs": []
    },
    {
      "cell_type": "code",
      "source": [
        "student_dic = {}\n",
        "student_list = []\n",
        "while True:\n",
        "  show_menu()  # 메뉴정보 1 ~ 5 출력\n",
        "\n",
        "  choice =  int(input(\"input number : \"))\n",
        "  if choice == 1:\n",
        "    make_student(student_list)  # 리스트를 전달해서 함수에서 리스트를 추가한다\n",
        "\n",
        "  elif choice == 2:\n",
        "    # 저장한 데이터에서 원하는 학생을 찾아서\n",
        "    # 원하는 값으로 변경\n",
        "    pass\n",
        "  elif choice == 3:\n",
        "    show_stuent(student_list)   # 리스트에 있는 딕셔너리 정보를 전부 출력\n",
        "  elif choice == 4:\n",
        "    # 집합데이터에서 특정 학생정보를 삭제\n",
        "    pass\n",
        "  elif choice == 5:\n",
        "    break\n",
        "  else:\n",
        "    print(\"re-input data[1 - 4]\")\n",
        "\n"
      ],
      "metadata": {
        "colab": {
          "base_uri": "https://localhost:8080/"
        },
        "collapsed": true,
        "id": "qbl-IX1uKJqX",
        "outputId": "cdf68dbe-d495-4fc1-f459-19fd88d370f0"
      },
      "execution_count": 15,
      "outputs": [
        {
          "name": "stdout",
          "output_type": "stream",
          "text": [
            "1. 학생정보 입력\t\t 3. 학생정보 출력\n",
            "2. 학생정보 수정\t\t 4. 데이터 삭제\n",
            "5. 종료\n",
            "input number : 1\n",
            "name : 홍길동\n",
            "age : 10\n",
            "jumsu : 90\n",
            "1. 학생정보 입력\t\t 3. 학생정보 출력\n",
            "2. 학생정보 수정\t\t 4. 데이터 삭제\n",
            "5. 종료\n",
            "input number : 1\n",
            "name : 아무개\n",
            "age : 15\n",
            "jumsu : 100\n",
            "1. 학생정보 입력\t\t 3. 학생정보 출력\n",
            "2. 학생정보 수정\t\t 4. 데이터 삭제\n",
            "5. 종료\n",
            "input number : 3\n",
            "{'name': '아무개', 'age': 15, 'jumsu': 100.0}\n",
            "{'name': '아무개', 'age': 15, 'jumsu': 100.0}\n",
            "1. 학생정보 입력\t\t 3. 학생정보 출력\n",
            "2. 학생정보 수정\t\t 4. 데이터 삭제\n",
            "5. 종료\n",
            "input number : 1\n",
            "name : 이상해\n",
            "age : 1\n",
            "jumsu : 1\n",
            "1. 학생정보 입력\t\t 3. 학생정보 출력\n",
            "2. 학생정보 수정\t\t 4. 데이터 삭제\n",
            "5. 종료\n",
            "input number : 3\n",
            "{'name': '이상해', 'age': 1, 'jumsu': 1.0}\n",
            "{'name': '이상해', 'age': 1, 'jumsu': 1.0}\n",
            "{'name': '이상해', 'age': 1, 'jumsu': 1.0}\n",
            "1. 학생정보 입력\t\t 3. 학생정보 출력\n",
            "2. 학생정보 수정\t\t 4. 데이터 삭제\n",
            "5. 종료\n",
            "input number : 5\n"
          ]
        }
      ]
    },
    {
      "cell_type": "code",
      "source": [
        "# 리스트에 데이터를 딕셔너리를 추가했는데..\n",
        "# 왜 값이 다 같아 질까?\n",
        "\n",
        "test_list = []\n",
        "test_list.append({\n",
        "  'name' : '홍길동',\n",
        "  'age' : 10,\n",
        "  'jumsu' : 50\n",
        "})\n",
        "\n",
        "\n",
        "test_list.append({\n",
        "  'name' : '이길동',\n",
        "  'age' : 15,\n",
        "  'jumsu' : 60\n",
        "})\n",
        "\n",
        "test_list.append({\n",
        "  'name' : '이상해',\n",
        "  'age' : 20,\n",
        "  'jumsu' : 70\n",
        "})\n",
        "print(test_list)"
      ],
      "metadata": {
        "colab": {
          "base_uri": "https://localhost:8080/"
        },
        "id": "gwvsVOviMCW_",
        "outputId": "08f369ed-fd57-4b0d-f09f-a7c0bcdfa4f7"
      },
      "execution_count": 22,
      "outputs": [
        {
          "output_type": "stream",
          "name": "stdout",
          "text": [
            "[{'name': '홍길동', 'age': 10, 'jumsu': 50}, {'name': '이길동', 'age': 15, 'jumsu': 60}, {'name': '이상해', 'age': 20, 'jumsu': 70}]\n"
          ]
        }
      ]
    },
    {
      "cell_type": "code",
      "source": [],
      "metadata": {
        "id": "2bngWUR7RAXX"
      },
      "execution_count": null,
      "outputs": []
    }
  ]
}