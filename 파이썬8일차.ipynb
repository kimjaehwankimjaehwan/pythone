{
  "nbformat": 4,
  "nbformat_minor": 0,
  "metadata": {
    "colab": {
      "provenance": []
    },
    "kernelspec": {
      "name": "python3",
      "display_name": "Python 3"
    },
    "language_info": {
      "name": "python"
    }
  },
  "cells": [
    {
      "cell_type": "code",
      "execution_count": 2,
      "metadata": {
        "colab": {
          "base_uri": "https://localhost:8080/"
        },
        "collapsed": true,
        "id": "JlBVZEtDHdC-",
        "outputId": "b420f973-4bb6-4e7a-b8f0-c28dadbf9482"
      },
      "outputs": [
        {
          "output_type": "stream",
          "name": "stdout",
          "text": [
            "2 x 1 = 2\n",
            "2 x 2 = 4\n",
            "2 x 3 = 6\n",
            "2 x 4 = 8\n",
            "2 x 5 = 10\n",
            "2 x 6 = 12\n",
            "2 x 7 = 14\n",
            "2 x 8 = 16\n",
            "2 x 9 = 18\n",
            "logic...\n",
            "logic...\n",
            "3 x 1 = 3\n",
            "3 x 2 = 6\n",
            "3 x 3 = 9\n",
            "3 x 4 = 12\n",
            "3 x 5 = 15\n",
            "3 x 6 = 18\n",
            "3 x 7 = 21\n",
            "3 x 8 = 24\n",
            "3 x 9 = 27\n"
          ]
        }
      ],
      "source": [
        "for i in range(1,10):\n",
        "  print(f\"2 x {i} = {2*i}\")\n",
        "\n",
        "print('logic...')\n",
        "print('logic...')\n",
        "\n",
        "for i in range(1,10):\n",
        "  print(f\"3 x {i} = {3*i}\")"
      ]
    },
    {
      "cell_type": "code",
      "source": [
        "def dan(num):\n",
        "  for i in range(1,10):\n",
        "    print(f\"{num} x {i} = {num*i}\")"
      ],
      "metadata": {
        "id": "4PcubuFDHwKh"
      },
      "execution_count": 3,
      "outputs": []
    },
    {
      "cell_type": "code",
      "source": [
        "dan(2)\n",
        "print('logic')\n",
        "print('logic')\n",
        "print('logic')\n",
        "dan(4)"
      ],
      "metadata": {
        "colab": {
          "base_uri": "https://localhost:8080/"
        },
        "collapsed": true,
        "id": "jjImriqtIHdX",
        "outputId": "353d0f6c-d980-40e6-d01a-453973b23fe9"
      },
      "execution_count": 5,
      "outputs": [
        {
          "output_type": "stream",
          "name": "stdout",
          "text": [
            "2 x 1 = 2\n",
            "2 x 2 = 4\n",
            "2 x 3 = 6\n",
            "2 x 4 = 8\n",
            "2 x 5 = 10\n",
            "2 x 6 = 12\n",
            "2 x 7 = 14\n",
            "2 x 8 = 16\n",
            "2 x 9 = 18\n",
            "logic\n",
            "logic\n",
            "logic\n",
            "4 x 1 = 4\n",
            "4 x 2 = 8\n",
            "4 x 3 = 12\n",
            "4 x 4 = 16\n",
            "4 x 5 = 20\n",
            "4 x 6 = 24\n",
            "4 x 7 = 28\n",
            "4 x 8 = 32\n",
            "4 x 9 = 36\n"
          ]
        }
      ]
    },
    {
      "cell_type": "code",
      "source": [
        "# refactoring\n",
        "# code-review"
      ],
      "metadata": {
        "id": "JR4IPEkpIIq_"
      },
      "execution_count": 6,
      "outputs": []
    },
    {
      "cell_type": "code",
      "source": [
        "# 학사관리\n",
        "# 메뉴를 표시하고\n",
        "# 1. 학생정보 입력\n",
        "#   이름,나이,점수\n",
        "# 2. 학생정보 수정\n",
        "#   이름으로 학생을 찾아서 정보를 수정\n",
        "# 3. 학생출력\n",
        "#   이름으로 학생정보를 출력 ( 이름:, 나이: 점수:)\n",
        "# 4, 데이터  삭제\n",
        "#   이름으로 학생정보를 삭제\n",
        "# 메뉴에 해당하는 번호를 누르면 기능을 수행"
      ],
      "metadata": {
        "id": "ssuPZPiIJZwQ"
      },
      "execution_count": 7,
      "outputs": []
    },
    {
      "cell_type": "code",
      "source": [
        "def show_menu():\n",
        "  print(f\"1. 학생정보 입력\\t\\t 3. 학생정보 출력\")\n",
        "  print(f\"2. 학생정보 수정\\t\\t 4. 데이터 삭제\")\n",
        "  print(f\"5. 종료\")\n",
        "\n",
        "def make_student(list_data):\n",
        "    list_data.append( {\n",
        "        'name' : input(\"name : \"),\n",
        "        'age' : int(input(\"age : \")),\n",
        "        'jumsu' : float(input(\"jumsu : \"))\n",
        "    })\n",
        "def show_stuent(list_data):\n",
        "  for i in list_data:\n",
        "    print(i)"
      ],
      "metadata": {
        "id": "aQtOnDHsWPTQ"
      },
      "execution_count": null,
      "outputs": []
    },
    {
      "cell_type": "code",
      "source": [
        "student_dic = {}\n",
        "student_list = []\n",
        "while True:\n",
        "  show_menu()  # 메뉴정보 1 ~ 5 출력\n",
        "\n",
        "  choice =  int(input(\"input number : \"))\n",
        "  if choice == 1:\n",
        "    make_student(student_list)  # 리스트를 전달해서 함수에서 리스트를 추가한다\n",
        "\n",
        "  elif choice == 2:\n",
        "    # 저장한 데이터에서 원하는 학생을 찾아서\n",
        "    # 원하는 값으로 변경\n",
        "    pass\n",
        "  elif choice == 3:\n",
        "    show_stuent(student_list)   # 리스트에 있는 딕셔너리 정보를 전부 출력\n",
        "  elif choice == 4:\n",
        "    # 집합데이터에서 특정 학생정보를 삭제\n",
        "    pass\n",
        "  elif choice == 5:\n",
        "    break\n",
        "  else:\n",
        "    print(\"re-input data[1 - 4]\")\n",
        "\n"
      ],
      "metadata": {
        "colab": {
          "base_uri": "https://localhost:8080/"
        },
        "collapsed": true,
        "id": "qbl-IX1uKJqX",
        "outputId": "cdf68dbe-d495-4fc1-f459-19fd88d370f0"
      },
      "execution_count": 15,
      "outputs": [
        {
          "name": "stdout",
          "output_type": "stream",
          "text": [
            "1. 학생정보 입력\t\t 3. 학생정보 출력\n",
            "2. 학생정보 수정\t\t 4. 데이터 삭제\n",
            "5. 종료\n",
            "input number : 1\n",
            "name : 홍길동\n",
            "age : 10\n",
            "jumsu : 90\n",
            "1. 학생정보 입력\t\t 3. 학생정보 출력\n",
            "2. 학생정보 수정\t\t 4. 데이터 삭제\n",
            "5. 종료\n",
            "input number : 1\n",
            "name : 아무개\n",
            "age : 15\n",
            "jumsu : 100\n",
            "1. 학생정보 입력\t\t 3. 학생정보 출력\n",
            "2. 학생정보 수정\t\t 4. 데이터 삭제\n",
            "5. 종료\n",
            "input number : 3\n",
            "{'name': '아무개', 'age': 15, 'jumsu': 100.0}\n",
            "{'name': '아무개', 'age': 15, 'jumsu': 100.0}\n",
            "1. 학생정보 입력\t\t 3. 학생정보 출력\n",
            "2. 학생정보 수정\t\t 4. 데이터 삭제\n",
            "5. 종료\n",
            "input number : 1\n",
            "name : 이상해\n",
            "age : 1\n",
            "jumsu : 1\n",
            "1. 학생정보 입력\t\t 3. 학생정보 출력\n",
            "2. 학생정보 수정\t\t 4. 데이터 삭제\n",
            "5. 종료\n",
            "input number : 3\n",
            "{'name': '이상해', 'age': 1, 'jumsu': 1.0}\n",
            "{'name': '이상해', 'age': 1, 'jumsu': 1.0}\n",
            "{'name': '이상해', 'age': 1, 'jumsu': 1.0}\n",
            "1. 학생정보 입력\t\t 3. 학생정보 출력\n",
            "2. 학생정보 수정\t\t 4. 데이터 삭제\n",
            "5. 종료\n",
            "input number : 5\n"
          ]
        }
      ]
    },
    {
      "cell_type": "code",
      "source": [
        "# 리스트에 데이터를 딕셔너리를 추가했는데..\n",
        "# 왜 값이 다 같아 질까?\n",
        "\n",
        "test_list = []\n",
        "test_list.append({\n",
        "  'name' : '홍길동',\n",
        "  'age' : 10,\n",
        "  'jumsu' : 50\n",
        "})\n",
        "\n",
        "\n",
        "test_list.append({\n",
        "  'name' : '이길동',\n",
        "  'age' : 15,\n",
        "  'jumsu' : 60\n",
        "})\n",
        "\n",
        "test_list.append({\n",
        "  'name' : '이상해',\n",
        "  'age' : 20,\n",
        "  'jumsu' : 70\n",
        "})\n",
        "print(test_list)"
      ],
      "metadata": {
        "colab": {
          "base_uri": "https://localhost:8080/"
        },
        "id": "gwvsVOviMCW_",
        "outputId": "08f369ed-fd57-4b0d-f09f-a7c0bcdfa4f7"
      },
      "execution_count": 22,
      "outputs": [
        {
          "output_type": "stream",
          "name": "stdout",
          "text": [
            "[{'name': '홍길동', 'age': 10, 'jumsu': 50}, {'name': '이길동', 'age': 15, 'jumsu': 60}, {'name': '이상해', 'age': 20, 'jumsu': 70}]\n"
          ]
        }
      ]
    },
    {
      "cell_type": "markdown",
      "source": [
        "## Review"
      ],
      "metadata": {
        "id": "9WekNkpcXkZF"
      }
    },
    {
      "cell_type": "code",
      "source": [
        "# 변수\n",
        "a = 10\n",
        "a = [1,2,3]\n",
        "a = {'a':10, 'b':20}"
      ],
      "metadata": {
        "id": "2bngWUR7RAXX"
      },
      "execution_count": 23,
      "outputs": []
    },
    {
      "cell_type": "code",
      "source": [
        "# 아무데이터 10개를 가지는 리스트를 만들어보세요\n",
        "a = [1,2,3, [1,2,3]  ,5, {'a':10,'b':20 }  ,7,8,9,10]\n",
        "# 딕셔너리는 테이블 생각하시면 됩니다.... 한개의 row가 한개의 딕셔너리\n",
        "# 각각 자유롭게 사용\n",
        "a = {\n",
        "    1: 100,\n",
        "    2: 200,\n",
        "    'a': 300,\n",
        "    'b': [1,2,3],\n",
        "    'c': {\n",
        "        'aa':1,\n",
        "        'bb':2\n",
        "    }\n",
        "}"
      ],
      "metadata": {
        "id": "WLml0A4pX9bA"
      },
      "execution_count": 24,
      "outputs": []
    },
    {
      "cell_type": "code",
      "source": [
        "a['c']"
      ],
      "metadata": {
        "colab": {
          "base_uri": "https://localhost:8080/"
        },
        "id": "dHJcCiXmaj1u",
        "outputId": "1bfcb8a1-0e24-4aee-a621-1d7e9582b8c8"
      },
      "execution_count": 27,
      "outputs": [
        {
          "output_type": "execute_result",
          "data": {
            "text/plain": [
              "{'aa': 1, 'bb': 2}"
            ]
          },
          "metadata": {},
          "execution_count": 27
        }
      ]
    },
    {
      "cell_type": "code",
      "source": [
        "data = {\n",
        "    '시군구':{\n",
        "        '서울':{\n",
        "            '강남구':{\n",
        "                '음식점':12000,\n",
        "                '편의점':20000\n",
        "            },\n",
        "            '서초구':{\n",
        "                '음식점':12000,\n",
        "                '편의점':20000\n",
        "            },\n",
        "            '영등포구':{\n",
        "                '음식점':12000,\n",
        "                '편의점':20000\n",
        "            }\n",
        "        },\n",
        "        '경기' :{\n",
        "            '용인시':{\n",
        "                '음식점':12000,\n",
        "                '편의점':20000\n",
        "            }\n",
        "        },\n",
        "        '대전':{\n",
        "            '유성구':{\n",
        "                '음식점':12000,\n",
        "                '편의점':20000\n",
        "            }\n",
        "        }\n",
        "    }\n",
        "}"
      ],
      "metadata": {
        "id": "SbB_vfRJbsfU"
      },
      "execution_count": 28,
      "outputs": []
    },
    {
      "cell_type": "code",
      "source": [
        "data['시군구']['서울'].keys()"
      ],
      "metadata": {
        "colab": {
          "base_uri": "https://localhost:8080/"
        },
        "id": "bJG3OYM-dCEN",
        "outputId": "b5f22079-f41c-4900-ab81-39d0859da426"
      },
      "execution_count": 32,
      "outputs": [
        {
          "output_type": "execute_result",
          "data": {
            "text/plain": [
              "dict_keys(['강남구', '서초구', '영등포구'])"
            ]
          },
          "metadata": {},
          "execution_count": 32
        }
      ]
    },
    {
      "cell_type": "code",
      "source": [
        "data['시군구']['경기'].keys()"
      ],
      "metadata": {
        "colab": {
          "base_uri": "https://localhost:8080/"
        },
        "id": "MFmOA6AidGsN",
        "outputId": "eea77aba-c3a8-4c17-df68-d876ccd471de"
      },
      "execution_count": 33,
      "outputs": [
        {
          "output_type": "execute_result",
          "data": {
            "text/plain": [
              "dict_keys(['용인시'])"
            ]
          },
          "metadata": {},
          "execution_count": 33
        }
      ]
    },
    {
      "cell_type": "code",
      "source": [
        "list_1 = [ 1,2]\n",
        "list_1.append(10)\n",
        "list_1.append(10)\n",
        "list_1.append(10)\n",
        "print(list_1)\n",
        "\n",
        "for i in list_1:\n",
        "  pass"
      ],
      "metadata": {
        "colab": {
          "base_uri": "https://localhost:8080/"
        },
        "id": "8Tzx2ccXdQYF",
        "outputId": "5b7aa8de-1b88-4643-dc97-874dee6f1b5b"
      },
      "execution_count": 35,
      "outputs": [
        {
          "output_type": "stream",
          "name": "stdout",
          "text": [
            "[1, 2, 10, 10, 10]\n"
          ]
        }
      ]
    },
    {
      "cell_type": "code",
      "source": [
        "dic_1 = {\n",
        "    'code' : '001',\n",
        "    'name' : '사과',\n",
        "    'price':1000\n",
        "}\n",
        "dic_2 = {\n",
        "    'code' : '002',\n",
        "    'name' : '배',\n",
        "    'price':2000\n",
        "}\n",
        "product = [ dic_1, dic_2]\n",
        "product"
      ],
      "metadata": {
        "colab": {
          "base_uri": "https://localhost:8080/"
        },
        "id": "4eNFpi9XefJ_",
        "outputId": "b8bfaf54-267b-4940-88ef-e666e599e40d"
      },
      "execution_count": 36,
      "outputs": [
        {
          "output_type": "execute_result",
          "data": {
            "text/plain": [
              "[{'code': '001', 'name': '사과', 'price': 1000},\n",
              " {'code': '002', 'name': '배', 'price': 2000}]"
            ]
          },
          "metadata": {},
          "execution_count": 36
        }
      ]
    },
    {
      "cell_type": "code",
      "source": [
        "# 함수 는  복잡한 코드들을 집합화 시킴 - 명령어 들의 집합\n",
        "# def 함수명( [매개변수] ):\n",
        "  # 코드\n",
        "  # 코드\n",
        "  # 코드\n",
        "  # [ return  값 ]\n",
        "\n",
        "\n",
        "# 함수명([파라메터])\n",
        "\n",
        "# 변수 = 함수명([파라메터])"
      ],
      "metadata": {
        "id": "MJZm1OPOfQGk"
      },
      "execution_count": null,
      "outputs": []
    },
    {
      "cell_type": "code",
      "source": [
        "# 서론\n",
        "  # - 메뉴출력\n",
        "# 본론 : main process\n",
        "  #  번호에 따른 기능수행\n",
        "# 결론\n",
        "  # 출력.."
      ],
      "metadata": {
        "id": "vTmm_C-PizZF"
      },
      "execution_count": 37,
      "outputs": []
    },
    {
      "cell_type": "code",
      "source": [
        "for i in range(2,10):\n",
        "  for j in range(1, 10):\n",
        "    print(f\"{i} x {j} = {i*j}\")\n",
        "  print()"
      ],
      "metadata": {
        "colab": {
          "base_uri": "https://localhost:8080/"
        },
        "collapsed": true,
        "id": "HR0MNzlsjHZT",
        "outputId": "91dbf419-286e-4d73-ae5a-774ff08fbe9b"
      },
      "execution_count": 38,
      "outputs": [
        {
          "output_type": "stream",
          "name": "stdout",
          "text": [
            "2 x 1 = 2\n",
            "2 x 2 = 4\n",
            "2 x 3 = 6\n",
            "2 x 4 = 8\n",
            "2 x 5 = 10\n",
            "2 x 6 = 12\n",
            "2 x 7 = 14\n",
            "2 x 8 = 16\n",
            "2 x 9 = 18\n",
            "\n",
            "3 x 1 = 3\n",
            "3 x 2 = 6\n",
            "3 x 3 = 9\n",
            "3 x 4 = 12\n",
            "3 x 5 = 15\n",
            "3 x 6 = 18\n",
            "3 x 7 = 21\n",
            "3 x 8 = 24\n",
            "3 x 9 = 27\n",
            "\n",
            "4 x 1 = 4\n",
            "4 x 2 = 8\n",
            "4 x 3 = 12\n",
            "4 x 4 = 16\n",
            "4 x 5 = 20\n",
            "4 x 6 = 24\n",
            "4 x 7 = 28\n",
            "4 x 8 = 32\n",
            "4 x 9 = 36\n",
            "\n",
            "5 x 1 = 5\n",
            "5 x 2 = 10\n",
            "5 x 3 = 15\n",
            "5 x 4 = 20\n",
            "5 x 5 = 25\n",
            "5 x 6 = 30\n",
            "5 x 7 = 35\n",
            "5 x 8 = 40\n",
            "5 x 9 = 45\n",
            "\n",
            "6 x 1 = 6\n",
            "6 x 2 = 12\n",
            "6 x 3 = 18\n",
            "6 x 4 = 24\n",
            "6 x 5 = 30\n",
            "6 x 6 = 36\n",
            "6 x 7 = 42\n",
            "6 x 8 = 48\n",
            "6 x 9 = 54\n",
            "\n",
            "7 x 1 = 7\n",
            "7 x 2 = 14\n",
            "7 x 3 = 21\n",
            "7 x 4 = 28\n",
            "7 x 5 = 35\n",
            "7 x 6 = 42\n",
            "7 x 7 = 49\n",
            "7 x 8 = 56\n",
            "7 x 9 = 63\n",
            "\n",
            "8 x 1 = 8\n",
            "8 x 2 = 16\n",
            "8 x 3 = 24\n",
            "8 x 4 = 32\n",
            "8 x 5 = 40\n",
            "8 x 6 = 48\n",
            "8 x 7 = 56\n",
            "8 x 8 = 64\n",
            "8 x 9 = 72\n",
            "\n",
            "9 x 1 = 9\n",
            "9 x 2 = 18\n",
            "9 x 3 = 27\n",
            "9 x 4 = 36\n",
            "9 x 5 = 45\n",
            "9 x 6 = 54\n",
            "9 x 7 = 63\n",
            "9 x 8 = 72\n",
            "9 x 9 = 81\n",
            "\n"
          ]
        }
      ]
    },
    {
      "cell_type": "code",
      "source": [
        "def display_dan( i ):\n",
        "  for j in range(1, 10):\n",
        "    print(f\"{i} x {j} = {i*j}\")"
      ],
      "metadata": {
        "id": "9AkCOZn4jsLx"
      },
      "execution_count": 39,
      "outputs": []
    },
    {
      "cell_type": "code",
      "source": [
        "for i in range(2,10):\n",
        "  display_dan(i)\n",
        "  print()"
      ],
      "metadata": {
        "colab": {
          "base_uri": "https://localhost:8080/"
        },
        "collapsed": true,
        "id": "SMYEKx83j_d7",
        "outputId": "bc427940-7033-48f7-da6f-9bc547c161c1"
      },
      "execution_count": 41,
      "outputs": [
        {
          "output_type": "stream",
          "name": "stdout",
          "text": [
            "2 x 1 = 2\n",
            "2 x 2 = 4\n",
            "2 x 3 = 6\n",
            "2 x 4 = 8\n",
            "2 x 5 = 10\n",
            "2 x 6 = 12\n",
            "2 x 7 = 14\n",
            "2 x 8 = 16\n",
            "2 x 9 = 18\n",
            "\n",
            "3 x 1 = 3\n",
            "3 x 2 = 6\n",
            "3 x 3 = 9\n",
            "3 x 4 = 12\n",
            "3 x 5 = 15\n",
            "3 x 6 = 18\n",
            "3 x 7 = 21\n",
            "3 x 8 = 24\n",
            "3 x 9 = 27\n",
            "\n",
            "4 x 1 = 4\n",
            "4 x 2 = 8\n",
            "4 x 3 = 12\n",
            "4 x 4 = 16\n",
            "4 x 5 = 20\n",
            "4 x 6 = 24\n",
            "4 x 7 = 28\n",
            "4 x 8 = 32\n",
            "4 x 9 = 36\n",
            "\n",
            "5 x 1 = 5\n",
            "5 x 2 = 10\n",
            "5 x 3 = 15\n",
            "5 x 4 = 20\n",
            "5 x 5 = 25\n",
            "5 x 6 = 30\n",
            "5 x 7 = 35\n",
            "5 x 8 = 40\n",
            "5 x 9 = 45\n",
            "\n",
            "6 x 1 = 6\n",
            "6 x 2 = 12\n",
            "6 x 3 = 18\n",
            "6 x 4 = 24\n",
            "6 x 5 = 30\n",
            "6 x 6 = 36\n",
            "6 x 7 = 42\n",
            "6 x 8 = 48\n",
            "6 x 9 = 54\n",
            "\n",
            "7 x 1 = 7\n",
            "7 x 2 = 14\n",
            "7 x 3 = 21\n",
            "7 x 4 = 28\n",
            "7 x 5 = 35\n",
            "7 x 6 = 42\n",
            "7 x 7 = 49\n",
            "7 x 8 = 56\n",
            "7 x 9 = 63\n",
            "\n",
            "8 x 1 = 8\n",
            "8 x 2 = 16\n",
            "8 x 3 = 24\n",
            "8 x 4 = 32\n",
            "8 x 5 = 40\n",
            "8 x 6 = 48\n",
            "8 x 7 = 56\n",
            "8 x 8 = 64\n",
            "8 x 9 = 72\n",
            "\n",
            "9 x 1 = 9\n",
            "9 x 2 = 18\n",
            "9 x 3 = 27\n",
            "9 x 4 = 36\n",
            "9 x 5 = 45\n",
            "9 x 6 = 54\n",
            "9 x 7 = 63\n",
            "9 x 8 = 72\n",
            "9 x 9 = 81\n",
            "\n"
          ]
        }
      ]
    },
    {
      "cell_type": "code",
      "source": [
        "numbers = '1 2 3 4 5 6 7 8 9'\n",
        "print(numbers)\n",
        "numbers = input()\n",
        "print(numbers)"
      ],
      "metadata": {
        "colab": {
          "base_uri": "https://localhost:8080/"
        },
        "id": "oYz9xHKKkCIT",
        "outputId": "5285fbfd-1af3-4004-9bbd-14a9e802659f"
      },
      "execution_count": 43,
      "outputs": [
        {
          "output_type": "stream",
          "name": "stdout",
          "text": [
            "1 2 3 4 5 6 7 8 9\n",
            "1 2 3 4 5 6 7 8 9 10\n",
            "1 2 3 4 5 6 7 8 9 10\n"
          ]
        }
      ]
    },
    {
      "cell_type": "code",
      "source": [
        "numbers = '1/2/3/4/5/6/7/8/9/10'\n",
        "print(numbers)\n",
        "numbers.split(sep='/')"
      ],
      "metadata": {
        "colab": {
          "base_uri": "https://localhost:8080/"
        },
        "id": "JiORJMl0ktT0",
        "outputId": "6ba6be99-ae01-44ce-c840-9d92cdf0ab92"
      },
      "execution_count": 51,
      "outputs": [
        {
          "output_type": "stream",
          "name": "stdout",
          "text": [
            "1/2/3/4/5/6/7/8/9/10\n"
          ]
        },
        {
          "output_type": "execute_result",
          "data": {
            "text/plain": [
              "['1', '2', '3', '4', '5', '6', '7', '8', '9', '10']"
            ]
          },
          "metadata": {},
          "execution_count": 51
        }
      ]
    },
    {
      "cell_type": "code",
      "source": [
        "# 이름, 나이, 점수\n",
        "datas = input('나이 이름 점수를 공백을 기준으로 입력하세요 : ')\n",
        "datas = datas.split()\n",
        "student = {\n",
        "    'age' : int(datas[0]),\n",
        "    'name' : datas[1],\n",
        "    'jumsu' : int(datas[2])\n",
        "}\n",
        "print(student)"
      ],
      "metadata": {
        "colab": {
          "base_uri": "https://localhost:8080/"
        },
        "id": "3-g7sZ8XkxGz",
        "outputId": "5878c74f-3099-4f6a-d2f2-ba79c6670801"
      },
      "execution_count": 54,
      "outputs": [
        {
          "output_type": "stream",
          "name": "stdout",
          "text": [
            "나이 이름 점수를 공백을 기준으로 입력하세요 : 25 홍길동 100\n",
            "{'age': '25', 'name': '홍길동', 'jumsu': '100'}\n"
          ]
        }
      ]
    },
    {
      "cell_type": "code",
      "source": [
        "'동해물과백두산이'\n",
        "'123456789'"
      ],
      "metadata": {
        "colab": {
          "base_uri": "https://localhost:8080/",
          "height": 35
        },
        "id": "iC9Fd5RDl4vr",
        "outputId": "c054c23f-43fe-4c3a-cc98-d1a3a016c9b6"
      },
      "execution_count": 55,
      "outputs": [
        {
          "output_type": "execute_result",
          "data": {
            "text/plain": [
              "'123456789'"
            ],
            "application/vnd.google.colaboratory.intrinsic+json": {
              "type": "string"
            }
          },
          "metadata": {},
          "execution_count": 55
        }
      ]
    },
    {
      "cell_type": "code",
      "source": [
        "print(list('동해물과백두산이'))"
      ],
      "metadata": {
        "colab": {
          "base_uri": "https://localhost:8080/"
        },
        "id": "AgL6O8YvnSP0",
        "outputId": "dd6117fa-fbc8-46cb-a756-2664d09ac03b"
      },
      "execution_count": 61,
      "outputs": [
        {
          "output_type": "stream",
          "name": "stdout",
          "text": [
            "['동', '해', '물', '과', '백', '두', '산', '이']\n"
          ]
        }
      ]
    },
    {
      "cell_type": "code",
      "source": [
        "print(list('1 2 3 4 5 6 7 8 9'))"
      ],
      "metadata": {
        "colab": {
          "base_uri": "https://localhost:8080/"
        },
        "id": "u3rkpgOqnXXD",
        "outputId": "0c564147-38d1-4c74-ba2b-208379191d44"
      },
      "execution_count": 60,
      "outputs": [
        {
          "output_type": "stream",
          "name": "stdout",
          "text": [
            "['1', ' ', '2', ' ', '3', ' ', '4', ' ', '5', ' ', '6', ' ', '7', ' ', '8', ' ', '9']\n"
          ]
        }
      ]
    },
    {
      "cell_type": "code",
      "source": [
        "# '3일 서울 중구 하나은행에서 직원들이 업무를 보고 있다'\n",
        "# 명사만 추출"
      ],
      "metadata": {
        "id": "IivhT0mcnoJq"
      },
      "execution_count": null,
      "outputs": []
    },
    {
      "cell_type": "code",
      "source": [
        "# split() : 문자열을 분리해서 리스트로 저장\n",
        "# 리스트로 된 문자들을 하나의 문자열로 합친다\n",
        "temp = \"1 2 3 4 5 6 7 8 9 10\"\n",
        "print('original :', temp)\n",
        "temp_split = temp.split()\n",
        "print('split : ', temp_split)"
      ],
      "metadata": {
        "colab": {
          "base_uri": "https://localhost:8080/"
        },
        "id": "A7T3mWfHoeu1",
        "outputId": "91c3ada7-b845-4656-c11a-02a9f75eabba"
      },
      "execution_count": 65,
      "outputs": [
        {
          "output_type": "stream",
          "name": "stdout",
          "text": [
            "original : 1 2 3 4 5 6 7 8 9 10\n",
            "split :  ['1', '2', '3', '4', '5', '6', '7', '8', '9', '10']\n"
          ]
        }
      ]
    },
    {
      "cell_type": "code",
      "source": [
        "' '.join( temp_split  )"
      ],
      "metadata": {
        "colab": {
          "base_uri": "https://localhost:8080/",
          "height": 35
        },
        "id": "yKCLFEXwo3jq",
        "outputId": "735ed58f-5dfa-4336-dfb3-ed2b6d731a9c"
      },
      "execution_count": 69,
      "outputs": [
        {
          "output_type": "execute_result",
          "data": {
            "text/plain": [
              "'1 2 3 4 5 6 7 8 9 10'"
            ],
            "application/vnd.google.colaboratory.intrinsic+json": {
              "type": "string"
            }
          },
          "metadata": {},
          "execution_count": 69
        }
      ]
    },
    {
      "cell_type": "markdown",
      "source": [
        "리스트 슬라이싱 : 문자열에도 적용"
      ],
      "metadata": {
        "id": "y00WGaLVp2r9"
      }
    },
    {
      "cell_type": "code",
      "source": [
        "temp = '안녕하세요^'"
      ],
      "metadata": {
        "id": "G-WGI_DCpacu"
      },
      "execution_count": 79,
      "outputs": []
    },
    {
      "cell_type": "code",
      "source": [
        "temp[0],  temp[1],  temp[2]"
      ],
      "metadata": {
        "colab": {
          "base_uri": "https://localhost:8080/"
        },
        "id": "JUgKr86oqG0S",
        "outputId": "6d44b34d-494a-49bf-ef90-0fc6a2433926"
      },
      "execution_count": 80,
      "outputs": [
        {
          "output_type": "execute_result",
          "data": {
            "text/plain": [
              "('안', '녕', '하')"
            ]
          },
          "metadata": {},
          "execution_count": 80
        }
      ]
    },
    {
      "cell_type": "code",
      "source": [
        "temp[2:5]"
      ],
      "metadata": {
        "colab": {
          "base_uri": "https://localhost:8080/",
          "height": 35
        },
        "id": "3S8pJDXEqOkS",
        "outputId": "e8341c87-0934-4a75-ab6c-333ba863505c"
      },
      "execution_count": 81,
      "outputs": [
        {
          "output_type": "execute_result",
          "data": {
            "text/plain": [
              "'하세요'"
            ],
            "application/vnd.google.colaboratory.intrinsic+json": {
              "type": "string"
            }
          },
          "metadata": {},
          "execution_count": 81
        }
      ]
    },
    {
      "cell_type": "code",
      "source": [
        "temp[0 : -1]"
      ],
      "metadata": {
        "colab": {
          "base_uri": "https://localhost:8080/",
          "height": 35
        },
        "id": "Q5qI9DyzqijD",
        "outputId": "d6771352-a787-45b9-b404-cfd842f78baf"
      },
      "execution_count": 84,
      "outputs": [
        {
          "output_type": "execute_result",
          "data": {
            "text/plain": [
              "'안녕하세요'"
            ],
            "application/vnd.google.colaboratory.intrinsic+json": {
              "type": "string"
            }
          },
          "metadata": {},
          "execution_count": 84
        }
      ]
    },
    {
      "cell_type": "code",
      "source": [
        "temp[ : -1]"
      ],
      "metadata": {
        "colab": {
          "base_uri": "https://localhost:8080/",
          "height": 35
        },
        "id": "Hd8E28EfrCaS",
        "outputId": "c4801ea0-710d-4230-b71a-45fdd7d090dd"
      },
      "execution_count": 85,
      "outputs": [
        {
          "output_type": "execute_result",
          "data": {
            "text/plain": [
              "'안녕하세요'"
            ],
            "application/vnd.google.colaboratory.intrinsic+json": {
              "type": "string"
            }
          },
          "metadata": {},
          "execution_count": 85
        }
      ]
    },
    {
      "cell_type": "code",
      "source": [
        "temp[ 0 : ]"
      ],
      "metadata": {
        "colab": {
          "base_uri": "https://localhost:8080/",
          "height": 35
        },
        "id": "z_DbGT0orhiz",
        "outputId": "8a7f3aaa-1149-4c1c-898e-11a0d71d1dbe"
      },
      "execution_count": 86,
      "outputs": [
        {
          "output_type": "execute_result",
          "data": {
            "text/plain": [
              "'안녕하세요^'"
            ],
            "application/vnd.google.colaboratory.intrinsic+json": {
              "type": "string"
            }
          },
          "metadata": {},
          "execution_count": 86
        }
      ]
    },
    {
      "cell_type": "code",
      "source": [
        "temp[  : ]"
      ],
      "metadata": {
        "colab": {
          "base_uri": "https://localhost:8080/",
          "height": 35
        },
        "id": "HKIjvqovrpMy",
        "outputId": "8bfb2156-1616-469d-c094-e4d913db8f4c"
      },
      "execution_count": 87,
      "outputs": [
        {
          "output_type": "execute_result",
          "data": {
            "text/plain": [
              "'안녕하세요^'"
            ],
            "application/vnd.google.colaboratory.intrinsic+json": {
              "type": "string"
            }
          },
          "metadata": {},
          "execution_count": 87
        }
      ]
    },
    {
      "cell_type": "code",
      "source": [
        "temp = [1,2,3,4,5,6,7,8,9,10]\n",
        "temp[2:5]"
      ],
      "metadata": {
        "colab": {
          "base_uri": "https://localhost:8080/"
        },
        "id": "A71VhLOorvBK",
        "outputId": "00e20934-c5a4-4e93-f920-f7f67c091446"
      },
      "execution_count": 88,
      "outputs": [
        {
          "output_type": "execute_result",
          "data": {
            "text/plain": [
              "[3, 4, 5]"
            ]
          },
          "metadata": {},
          "execution_count": 88
        }
      ]
    },
    {
      "cell_type": "code",
      "source": [
        "# 문자열을 내부에서 리스트처럼 사용되기때문에\n",
        "# 문자열을 가지고 인덱스처럼 접근가능하고\n",
        "# for문에도 사용가능\n",
        "for i in '12345':\n",
        "  print(i)"
      ],
      "metadata": {
        "colab": {
          "base_uri": "https://localhost:8080/"
        },
        "id": "CTo2kSBIsJ6i",
        "outputId": "29072793-4379-43ac-f84c-d1fb7cc4e029"
      },
      "execution_count": 89,
      "outputs": [
        {
          "output_type": "stream",
          "name": "stdout",
          "text": [
            "1\n",
            "2\n",
            "3\n",
            "4\n",
            "5\n"
          ]
        }
      ]
    },
    {
      "cell_type": "code",
      "source": [
        "len([1,2,3])"
      ],
      "metadata": {
        "colab": {
          "base_uri": "https://localhost:8080/"
        },
        "id": "F1FL5TK2shO0",
        "outputId": "04fcc390-93cf-4aa8-b892-8b666183721f"
      },
      "execution_count": 90,
      "outputs": [
        {
          "output_type": "execute_result",
          "data": {
            "text/plain": [
              "3"
            ]
          },
          "metadata": {},
          "execution_count": 90
        }
      ]
    },
    {
      "cell_type": "code",
      "source": [
        "len('동해물과')"
      ],
      "metadata": {
        "colab": {
          "base_uri": "https://localhost:8080/"
        },
        "id": "joajZKNqsvTa",
        "outputId": "6ebc6429-80e0-46f5-92cb-bf997f3a5034"
      },
      "execution_count": 91,
      "outputs": [
        {
          "output_type": "execute_result",
          "data": {
            "text/plain": [
              "4"
            ]
          },
          "metadata": {},
          "execution_count": 91
        }
      ]
    },
    {
      "cell_type": "code",
      "source": [
        "'동해물과'"
      ],
      "metadata": {
        "id": "DanF5Q1PsyUC"
      },
      "execution_count": null,
      "outputs": []
    }
  ]
}