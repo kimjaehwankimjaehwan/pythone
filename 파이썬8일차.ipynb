{
  "nbformat": 4,
  "nbformat_minor": 0,
  "metadata": {
    "colab": {
      "provenance": []
    },
    "kernelspec": {
      "name": "python3",
      "display_name": "Python 3"
    },
    "language_info": {
      "name": "python"
    }
  },
  "cells": [
    {
      "cell_type": "code",
      "execution_count": 2,
      "metadata": {
        "colab": {
          "base_uri": "https://localhost:8080/"
        },
        "collapsed": true,
        "id": "JlBVZEtDHdC-",
        "outputId": "b420f973-4bb6-4e7a-b8f0-c28dadbf9482"
      },
      "outputs": [
        {
          "output_type": "stream",
          "name": "stdout",
          "text": [
            "2 x 1 = 2\n",
            "2 x 2 = 4\n",
            "2 x 3 = 6\n",
            "2 x 4 = 8\n",
            "2 x 5 = 10\n",
            "2 x 6 = 12\n",
            "2 x 7 = 14\n",
            "2 x 8 = 16\n",
            "2 x 9 = 18\n",
            "logic...\n",
            "logic...\n",
            "3 x 1 = 3\n",
            "3 x 2 = 6\n",
            "3 x 3 = 9\n",
            "3 x 4 = 12\n",
            "3 x 5 = 15\n",
            "3 x 6 = 18\n",
            "3 x 7 = 21\n",
            "3 x 8 = 24\n",
            "3 x 9 = 27\n"
          ]
        }
      ],
      "source": [
        "for i in range(1,10):\n",
        "  print(f\"2 x {i} = {2*i}\")\n",
        "\n",
        "print('logic...')\n",
        "print('logic...')\n",
        "\n",
        "for i in range(1,10):\n",
        "  print(f\"3 x {i} = {3*i}\")"
      ]
    },
    {
      "cell_type": "code",
      "source": [
        "def dan(num):\n",
        "  for i in range(1,10):\n",
        "    print(f\"{num} x {i} = {num*i}\")"
      ],
      "metadata": {
        "id": "4PcubuFDHwKh"
      },
      "execution_count": 3,
      "outputs": []
    },
    {
      "cell_type": "code",
      "source": [
        "dan(2)\n",
        "print('logic')\n",
        "print('logic')\n",
        "print('logic')\n",
        "dan(4)"
      ],
      "metadata": {
        "colab": {
          "base_uri": "https://localhost:8080/"
        },
        "collapsed": true,
        "id": "jjImriqtIHdX",
        "outputId": "353d0f6c-d980-40e6-d01a-453973b23fe9"
      },
      "execution_count": 5,
      "outputs": [
        {
          "output_type": "stream",
          "name": "stdout",
          "text": [
            "2 x 1 = 2\n",
            "2 x 2 = 4\n",
            "2 x 3 = 6\n",
            "2 x 4 = 8\n",
            "2 x 5 = 10\n",
            "2 x 6 = 12\n",
            "2 x 7 = 14\n",
            "2 x 8 = 16\n",
            "2 x 9 = 18\n",
            "logic\n",
            "logic\n",
            "logic\n",
            "4 x 1 = 4\n",
            "4 x 2 = 8\n",
            "4 x 3 = 12\n",
            "4 x 4 = 16\n",
            "4 x 5 = 20\n",
            "4 x 6 = 24\n",
            "4 x 7 = 28\n",
            "4 x 8 = 32\n",
            "4 x 9 = 36\n"
          ]
        }
      ]
    },
    {
      "cell_type": "code",
      "source": [
        "# refactoring\n",
        "# code-review"
      ],
      "metadata": {
        "id": "JR4IPEkpIIq_"
      },
      "execution_count": 6,
      "outputs": []
    },
    {
      "cell_type": "code",
      "source": [
        "# 학사관리\n",
        "# 메뉴를 표시하고\n",
        "# 1. 학생정보 입력\n",
        "#   이름,나이,점수\n",
        "# 2. 학생정보 수정\n",
        "#   이름으로 학생을 찾아서 정보를 수정\n",
        "# 3. 학생출력\n",
        "#   이름으로 학생정보를 출력 ( 이름:, 나이: 점수:)\n",
        "# 4, 데이터  삭제\n",
        "#   이름으로 학생정보를 삭제\n",
        "# 메뉴에 해당하는 번호를 누르면 기능을 수행"
      ],
      "metadata": {
        "id": "ssuPZPiIJZwQ"
      },
      "execution_count": 7,
      "outputs": []
    },
    {
      "cell_type": "code",
      "source": [
        "student_dic = {}\n",
        "print(f\"1. 학생정보 입력\\t\\t 3. 학생정보 출력\")\n",
        "print(f\"2. 학생정보 수정\\t\\t 4. 데이터 삭제\")\n",
        "choice =  int(input(\"input number : \"))\n",
        "if choice == 1:\n",
        "  name = input(\"name : \")\n",
        "  age = int(input(\"age : \"))\n",
        "  jumsu = float(input(\"jumsu : \"))\n",
        "  student_dic['name'] = name; student_dic['age'] = age; student_dic['jumsu'] = jumsu\n",
        "elif choice == 2:\n",
        "  # 저장한 데이터에서 원하는 학생을 찾아서\n",
        "  # 원하는 값으로 변경\n",
        "  pass\n",
        "elif choice == 3:\n",
        "  print(student_dic)\n",
        "elif choice == 4:\n",
        "  # 집합데이터에서 특정 학생정보를 삭제\n",
        "  pass\n",
        "else:\n",
        "  print(\"re-input data[1 - 4]\")\n",
        "\n"
      ],
      "metadata": {
        "colab": {
          "base_uri": "https://localhost:8080/"
        },
        "id": "qbl-IX1uKJqX",
        "outputId": "3e1162e6-f31f-482c-db20-7f6b82dc825d"
      },
      "execution_count": 8,
      "outputs": [
        {
          "output_type": "stream",
          "name": "stdout",
          "text": [
            "1. 학생정보 입력\t\t 3. 학생정보 수정\n",
            "2. 학생정보 수정\t\t 4. 데이터 삭제\n"
          ]
        }
      ]
    },
    {
      "cell_type": "code",
      "source": [
        "a = {}\n",
        "a['name'] = '홍길동'; a['age'] = 10; a['jumsu'] = 60\n",
        "print(a)\n",
        "a['name'] = '이길동'; a['age'] = 20; a['jumsu'] = 70\n",
        "print(a)\n"
      ],
      "metadata": {
        "colab": {
          "base_uri": "https://localhost:8080/"
        },
        "id": "jnCwA3DJKaE2",
        "outputId": "024899de-41d2-463e-d1f1-f9b1b790a74e"
      },
      "execution_count": 11,
      "outputs": [
        {
          "output_type": "stream",
          "name": "stdout",
          "text": [
            "{'name': '홍길동', 'age': 10, 'jumsu': 60}\n",
            "{'name': '이길동', 'age': 20, 'jumsu': 70}\n"
          ]
        }
      ]
    },
    {
      "cell_type": "code",
      "source": [],
      "metadata": {
        "id": "gwvsVOviMCW_"
      },
      "execution_count": null,
      "outputs": []
    }
  ]
}