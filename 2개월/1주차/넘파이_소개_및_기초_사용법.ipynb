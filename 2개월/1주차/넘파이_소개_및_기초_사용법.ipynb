{
  "cells": [
    {
      "cell_type": "markdown",
      "metadata": {
        "id": "B-2yFe33epd3"
      },
      "source": [
        "#Section 01. 넘파이 소개\n",
        "## 1. 넘파이 개념"
      ]
    },
    {
      "cell_type": "code",
      "execution_count": null,
      "metadata": {
        "colab": {
          "base_uri": "https://localhost:8080/"
        },
        "id": "GPmQQ7xheyvf",
        "outputId": "784f270b-c5ec-470f-a56c-9680f67d6ce1"
      },
      "outputs": [
        {
          "name": "stdout",
          "output_type": "stream",
          "text": [
            "Requirement already satisfied: numpy in d:\\anaconda\\lib\\site-packages (1.21.5)\n"
          ]
        }
      ],
      "source": [
        "# 주피터 노트북 사용자\n",
        "!pip install numpy"
      ]
    },
    {
      "cell_type": "code",
      "execution_count": 1,
      "metadata": {
        "colab": {
          "base_uri": "https://localhost:8080/"
        },
        "id": "gZI5GX_MegxU",
        "outputId": "cc18c63b-ccc4-4b83-87bc-d98dbbc720fc"
      },
      "outputs": [
        {
          "output_type": "stream",
          "name": "stdout",
          "text": [
            "1.25.2\n"
          ]
        }
      ],
      "source": [
        "import numpy as np # numpy의 별칭을 np로 설정\n",
        "print(np.__version__) # 파이썬 라이브러리의 버전 확인"
      ]
    },
    {
      "cell_type": "code",
      "source": [
        "# 리스트로 2차원 배열 구현하기\n",
        "list_1 = []\n",
        "temp = []\n",
        "for i in range(0,12):\n",
        "  temp.append(i)\n",
        "  if i == 3 or i == 7 or i== 11:\n",
        "    list_1.append(temp)\n",
        "    temp = []\n",
        "list_1"
      ],
      "metadata": {
        "colab": {
          "base_uri": "https://localhost:8080/"
        },
        "id": "t_YFxKPcH1Jz",
        "outputId": "2e29b154-dcae-4e41-f920-2a30a22859d6"
      },
      "execution_count": 8,
      "outputs": [
        {
          "output_type": "execute_result",
          "data": {
            "text/plain": [
              "[[0, 1, 2, 3], [4, 5, 6, 7], [8, 9, 10, 11]]"
            ]
          },
          "metadata": {},
          "execution_count": 8
        }
      ]
    },
    {
      "cell_type": "markdown",
      "metadata": {
        "id": "Sw8cBzEqe-Us"
      },
      "source": [
        "##2. 넘파이 배열"
      ]
    },
    {
      "cell_type": "code",
      "source": [
        "np.arange(12).reshape(2, 2,3)"
      ],
      "metadata": {
        "colab": {
          "base_uri": "https://localhost:8080/"
        },
        "id": "5MeWg9NqI64k",
        "outputId": "23a7d9d4-df58-4da8-c60c-73fc388055b3"
      },
      "execution_count": 24,
      "outputs": [
        {
          "output_type": "execute_result",
          "data": {
            "text/plain": [
              "array([[[ 0,  1,  2],\n",
              "        [ 3,  4,  5]],\n",
              "\n",
              "       [[ 6,  7,  8],\n",
              "        [ 9, 10, 11]]])"
            ]
          },
          "metadata": {},
          "execution_count": 24
        }
      ]
    },
    {
      "cell_type": "code",
      "execution_count": 25,
      "metadata": {
        "colab": {
          "base_uri": "https://localhost:8080/"
        },
        "id": "NqGNpaStfCso",
        "outputId": "798fb3b0-c34d-43e4-ce2f-f83232d02b82"
      },
      "outputs": [
        {
          "output_type": "stream",
          "name": "stdout",
          "text": [
            "[[ 0  1  2  3]\n",
            " [ 4  5  6  7]\n",
            " [ 8  9 10 11]] (3, 4)\n"
          ]
        }
      ],
      "source": [
        "d=np.arange(12).reshape(3,4)\n",
        "print(d,d.shape)"
      ]
    },
    {
      "cell_type": "markdown",
      "metadata": {
        "id": "f_M34kP8fIoO"
      },
      "source": [
        "###dtype"
      ]
    },
    {
      "cell_type": "code",
      "source": [
        "# ndarray (n-차원 배열) n-dimension array\n",
        "type(d)"
      ],
      "metadata": {
        "colab": {
          "base_uri": "https://localhost:8080/"
        },
        "id": "mZdqovXvJyT7",
        "outputId": "c806ab29-7578-4230-d0da-4967f07edea8"
      },
      "execution_count": 21,
      "outputs": [
        {
          "output_type": "execute_result",
          "data": {
            "text/plain": [
              "numpy.ndarray"
            ]
          },
          "metadata": {},
          "execution_count": 21
        }
      ]
    },
    {
      "cell_type": "code",
      "execution_count": null,
      "metadata": {
        "colab": {
          "base_uri": "https://localhost:8080/"
        },
        "id": "Tf00pbPVfK0A",
        "outputId": "46471ef0-f214-47aa-932b-77c3d363c81c"
      },
      "outputs": [
        {
          "name": "stdout",
          "output_type": "stream",
          "text": [
            "int32\n"
          ]
        }
      ],
      "source": [
        "print(d.dtype)"
      ]
    },
    {
      "cell_type": "markdown",
      "metadata": {
        "id": "ADVNYxNMfM2O"
      },
      "source": [
        "###ndim"
      ]
    },
    {
      "cell_type": "code",
      "execution_count": null,
      "metadata": {
        "colab": {
          "base_uri": "https://localhost:8080/"
        },
        "id": "jkz-K1bOfO0w",
        "outputId": "6c49a979-88cd-4415-ecf9-b4c93690a99d"
      },
      "outputs": [
        {
          "name": "stdout",
          "output_type": "stream",
          "text": [
            "2\n"
          ]
        }
      ],
      "source": [
        "print(d.ndim)"
      ]
    },
    {
      "cell_type": "markdown",
      "source": [
        "리스트    vs    넘파이\n",
        "- 속도가 느림         ,빠름\n",
        "- 쉽표로 요소 구분    ,공백으로 구분\n",
        "- 서로다른 데이터형   ,데이터형 통일"
      ],
      "metadata": {
        "id": "I8LkZ88eKfoD"
      }
    },
    {
      "cell_type": "markdown",
      "metadata": {
        "id": "m83p1j8zfRDY"
      },
      "source": [
        "###T"
      ]
    },
    {
      "cell_type": "code",
      "source": [
        "print(d)"
      ],
      "metadata": {
        "colab": {
          "base_uri": "https://localhost:8080/"
        },
        "id": "JWyXpVshLGnX",
        "outputId": "fb01ef61-22ae-4f1e-a74b-fef9e7cfc9ab"
      },
      "execution_count": 26,
      "outputs": [
        {
          "output_type": "stream",
          "name": "stdout",
          "text": [
            "[[ 0  1  2  3]\n",
            " [ 4  5  6  7]\n",
            " [ 8  9 10 11]]\n"
          ]
        }
      ]
    },
    {
      "cell_type": "code",
      "execution_count": null,
      "metadata": {
        "colab": {
          "base_uri": "https://localhost:8080/"
        },
        "id": "9coN-2qIfTE6",
        "outputId": "4a4c1fbf-211d-407f-d37f-b426bf6ecc50"
      },
      "outputs": [
        {
          "name": "stdout",
          "output_type": "stream",
          "text": [
            "[[ 0  4  8]\n",
            " [ 1  5  9]\n",
            " [ 2  6 10]\n",
            " [ 3  7 11]]\n"
          ]
        }
      ],
      "source": [
        "print(d.T) # 전치 행렬"
      ]
    },
    {
      "cell_type": "markdown",
      "metadata": {
        "id": "M4qeq-GYfZJB"
      },
      "source": [
        "###size"
      ]
    },
    {
      "cell_type": "code",
      "execution_count": null,
      "metadata": {
        "colab": {
          "base_uri": "https://localhost:8080/"
        },
        "id": "pvwnLzCofa7O",
        "outputId": "7b7aa842-1e67-4965-d5e0-a04fcdb901df"
      },
      "outputs": [
        {
          "name": "stdout",
          "output_type": "stream",
          "text": [
            "12\n"
          ]
        }
      ],
      "source": [
        "print(d.size) # 요소의 개수"
      ]
    },
    {
      "cell_type": "markdown",
      "metadata": {
        "id": "VMFRamBofdGb"
      },
      "source": [
        "###nbtypes : 배열의 바이트 표현"
      ]
    },
    {
      "cell_type": "code",
      "execution_count": null,
      "metadata": {
        "colab": {
          "base_uri": "https://localhost:8080/"
        },
        "id": "7r6DQZPXffjx",
        "outputId": "0322e6f5-4ffa-4d28-b0a9-0336ee32b84e"
      },
      "outputs": [
        {
          "name": "stdout",
          "output_type": "stream",
          "text": [
            "48\n"
          ]
        }
      ],
      "source": [
        "print(d.nbytes) # 64bit는 8byte이므로 총 96byte(8*12)"
      ]
    },
    {
      "cell_type": "markdown",
      "metadata": {
        "id": "V7jldhYmfhyv"
      },
      "source": [
        "### flat : 배열 요소의 값을 초기화"
      ]
    },
    {
      "cell_type": "code",
      "source": [
        "d"
      ],
      "metadata": {
        "colab": {
          "base_uri": "https://localhost:8080/"
        },
        "id": "IrQbpKTYLr5-",
        "outputId": "02011f0a-4df9-4ed5-d76d-9866ee8f61d9"
      },
      "execution_count": 27,
      "outputs": [
        {
          "output_type": "execute_result",
          "data": {
            "text/plain": [
              "array([[ 0,  1,  2,  3],\n",
              "       [ 4,  5,  6,  7],\n",
              "       [ 8,  9, 10, 11]])"
            ]
          },
          "metadata": {},
          "execution_count": 27
        }
      ]
    },
    {
      "cell_type": "code",
      "execution_count": 28,
      "metadata": {
        "colab": {
          "base_uri": "https://localhost:8080/"
        },
        "id": "3DjQiXwLfkB9",
        "outputId": "994ec42c-288b-4f84-b87d-8b5ff3483449"
      },
      "outputs": [
        {
          "output_type": "stream",
          "name": "stdout",
          "text": [
            "[[1 1 1 1]\n",
            " [1 1 1 1]\n",
            " [1 1 1 1]]\n"
          ]
        }
      ],
      "source": [
        "d.flat=1\n",
        "print(d)"
      ]
    },
    {
      "cell_type": "markdown",
      "metadata": {
        "id": "I_dTqLtzfng1"
      },
      "source": [
        "##3. 넘파이 배열 생성\n",
        "##리스트로 생성"
      ]
    },
    {
      "cell_type": "code",
      "execution_count": null,
      "metadata": {
        "colab": {
          "base_uri": "https://localhost:8080/"
        },
        "id": "ZDFwzG1KfrCi",
        "outputId": "408385ec-e7aa-4108-d542-47fb44da291d"
      },
      "outputs": [
        {
          "name": "stdout",
          "output_type": "stream",
          "text": [
            "<class 'numpy.ndarray'>\n"
          ]
        }
      ],
      "source": [
        "mynpa1=np.array([1, 2, 3])\n",
        "print(type(mynpa1))"
      ]
    },
    {
      "cell_type": "code",
      "execution_count": null,
      "metadata": {
        "colab": {
          "base_uri": "https://localhost:8080/"
        },
        "id": "NJrozJG1ftWg",
        "outputId": "42cb794a-4a5a-4e2d-ef41-880e5694a465"
      },
      "outputs": [
        {
          "name": "stdout",
          "output_type": "stream",
          "text": [
            "<class 'list'>\n",
            "<class 'numpy.ndarray'>\n"
          ]
        }
      ],
      "source": [
        "mylist2=[[1, 2, 3],\n",
        " [4, 5, 6]]\n",
        "print(type(mylist2))\n",
        "mynpa2=np.array(mylist2) # 변수명 직접 입력\n",
        "print(type(mynpa2))"
      ]
    },
    {
      "cell_type": "code",
      "source": [
        "# 넘파이 배열만들기 : 0부터 15까지의 값을 가지는 넘파이 1차원 배열 ( 15,)\n",
        "test_num = np.arange(15)\n",
        "print(test_num)\n",
        "# reshape : 3 , 5 형태로 변경\n",
        "test_num = test_num.reshape(3, 5)\n",
        "print(test_num)\n",
        "# ndim : 차수확인\n",
        "print(test_num.ndim)\n",
        "# size : 요소의 개수가 몇개인지\n",
        "print(test_num.size)\n",
        "# dtype : 넘파이를 구성하는 데이터의 타입\n",
        "print(test_num.dtype)\n",
        "# 초기화 0으로\n",
        "test_num.flat=0\n",
        "print(test_num)"
      ],
      "metadata": {
        "colab": {
          "base_uri": "https://localhost:8080/"
        },
        "id": "RT3qL2vdMGSg",
        "outputId": "08c07964-e796-42b3-e17d-6cc9025d500d"
      },
      "execution_count": 35,
      "outputs": [
        {
          "output_type": "stream",
          "name": "stdout",
          "text": [
            "[ 0  1  2  3  4  5  6  7  8  9 10 11 12 13 14]\n",
            "[[ 0  1  2  3  4]\n",
            " [ 5  6  7  8  9]\n",
            " [10 11 12 13 14]]\n",
            "2\n",
            "15\n",
            "int64\n",
            "[[0 0 0 0 0]\n",
            " [0 0 0 0 0]\n",
            " [0 0 0 0 0]]\n"
          ]
        }
      ]
    },
    {
      "cell_type": "markdown",
      "metadata": {
        "id": "c8C7OSdvfv1s"
      },
      "source": [
        "###데이터프레임으로 생성"
      ]
    },
    {
      "cell_type": "code",
      "execution_count": 46,
      "metadata": {
        "colab": {
          "base_uri": "https://localhost:8080/",
          "height": 233
        },
        "id": "tLBluX19fxvl",
        "outputId": "afc52c8f-d315-490f-996c-129ef75778eb"
      },
      "outputs": [
        {
          "output_type": "stream",
          "name": "stdout",
          "text": [
            "<class 'pandas.core.frame.DataFrame'>\n",
            "<class 'numpy.ndarray'>\n",
            "[[1 4]\n",
            " [2 5]\n",
            " [3 6]]\n"
          ]
        },
        {
          "output_type": "execute_result",
          "data": {
            "text/plain": [
              "   A  B\n",
              "0  1  4\n",
              "1  2  5\n",
              "2  3  6"
            ],
            "text/html": [
              "\n",
              "  <div id=\"df-7d3f62ab-0c32-40b7-9c86-4d7411dc0085\" class=\"colab-df-container\">\n",
              "    <div>\n",
              "<style scoped>\n",
              "    .dataframe tbody tr th:only-of-type {\n",
              "        vertical-align: middle;\n",
              "    }\n",
              "\n",
              "    .dataframe tbody tr th {\n",
              "        vertical-align: top;\n",
              "    }\n",
              "\n",
              "    .dataframe thead th {\n",
              "        text-align: right;\n",
              "    }\n",
              "</style>\n",
              "<table border=\"1\" class=\"dataframe\">\n",
              "  <thead>\n",
              "    <tr style=\"text-align: right;\">\n",
              "      <th></th>\n",
              "      <th>A</th>\n",
              "      <th>B</th>\n",
              "    </tr>\n",
              "  </thead>\n",
              "  <tbody>\n",
              "    <tr>\n",
              "      <th>0</th>\n",
              "      <td>1</td>\n",
              "      <td>4</td>\n",
              "    </tr>\n",
              "    <tr>\n",
              "      <th>1</th>\n",
              "      <td>2</td>\n",
              "      <td>5</td>\n",
              "    </tr>\n",
              "    <tr>\n",
              "      <th>2</th>\n",
              "      <td>3</td>\n",
              "      <td>6</td>\n",
              "    </tr>\n",
              "  </tbody>\n",
              "</table>\n",
              "</div>\n",
              "    <div class=\"colab-df-buttons\">\n",
              "\n",
              "  <div class=\"colab-df-container\">\n",
              "    <button class=\"colab-df-convert\" onclick=\"convertToInteractive('df-7d3f62ab-0c32-40b7-9c86-4d7411dc0085')\"\n",
              "            title=\"Convert this dataframe to an interactive table.\"\n",
              "            style=\"display:none;\">\n",
              "\n",
              "  <svg xmlns=\"http://www.w3.org/2000/svg\" height=\"24px\" viewBox=\"0 -960 960 960\">\n",
              "    <path d=\"M120-120v-720h720v720H120Zm60-500h600v-160H180v160Zm220 220h160v-160H400v160Zm0 220h160v-160H400v160ZM180-400h160v-160H180v160Zm440 0h160v-160H620v160ZM180-180h160v-160H180v160Zm440 0h160v-160H620v160Z\"/>\n",
              "  </svg>\n",
              "    </button>\n",
              "\n",
              "  <style>\n",
              "    .colab-df-container {\n",
              "      display:flex;\n",
              "      gap: 12px;\n",
              "    }\n",
              "\n",
              "    .colab-df-convert {\n",
              "      background-color: #E8F0FE;\n",
              "      border: none;\n",
              "      border-radius: 50%;\n",
              "      cursor: pointer;\n",
              "      display: none;\n",
              "      fill: #1967D2;\n",
              "      height: 32px;\n",
              "      padding: 0 0 0 0;\n",
              "      width: 32px;\n",
              "    }\n",
              "\n",
              "    .colab-df-convert:hover {\n",
              "      background-color: #E2EBFA;\n",
              "      box-shadow: 0px 1px 2px rgba(60, 64, 67, 0.3), 0px 1px 3px 1px rgba(60, 64, 67, 0.15);\n",
              "      fill: #174EA6;\n",
              "    }\n",
              "\n",
              "    .colab-df-buttons div {\n",
              "      margin-bottom: 4px;\n",
              "    }\n",
              "\n",
              "    [theme=dark] .colab-df-convert {\n",
              "      background-color: #3B4455;\n",
              "      fill: #D2E3FC;\n",
              "    }\n",
              "\n",
              "    [theme=dark] .colab-df-convert:hover {\n",
              "      background-color: #434B5C;\n",
              "      box-shadow: 0px 1px 3px 1px rgba(0, 0, 0, 0.15);\n",
              "      filter: drop-shadow(0px 1px 2px rgba(0, 0, 0, 0.3));\n",
              "      fill: #FFFFFF;\n",
              "    }\n",
              "  </style>\n",
              "\n",
              "    <script>\n",
              "      const buttonEl =\n",
              "        document.querySelector('#df-7d3f62ab-0c32-40b7-9c86-4d7411dc0085 button.colab-df-convert');\n",
              "      buttonEl.style.display =\n",
              "        google.colab.kernel.accessAllowed ? 'block' : 'none';\n",
              "\n",
              "      async function convertToInteractive(key) {\n",
              "        const element = document.querySelector('#df-7d3f62ab-0c32-40b7-9c86-4d7411dc0085');\n",
              "        const dataTable =\n",
              "          await google.colab.kernel.invokeFunction('convertToInteractive',\n",
              "                                                    [key], {});\n",
              "        if (!dataTable) return;\n",
              "\n",
              "        const docLinkHtml = 'Like what you see? Visit the ' +\n",
              "          '<a target=\"_blank\" href=https://colab.research.google.com/notebooks/data_table.ipynb>data table notebook</a>'\n",
              "          + ' to learn more about interactive tables.';\n",
              "        element.innerHTML = '';\n",
              "        dataTable['output_type'] = 'display_data';\n",
              "        await google.colab.output.renderOutput(dataTable, element);\n",
              "        const docLink = document.createElement('div');\n",
              "        docLink.innerHTML = docLinkHtml;\n",
              "        element.appendChild(docLink);\n",
              "      }\n",
              "    </script>\n",
              "  </div>\n",
              "\n",
              "\n",
              "<div id=\"df-344448ed-cbf3-48ff-8cd0-a8bd5629003a\">\n",
              "  <button class=\"colab-df-quickchart\" onclick=\"quickchart('df-344448ed-cbf3-48ff-8cd0-a8bd5629003a')\"\n",
              "            title=\"Suggest charts\"\n",
              "            style=\"display:none;\">\n",
              "\n",
              "<svg xmlns=\"http://www.w3.org/2000/svg\" height=\"24px\"viewBox=\"0 0 24 24\"\n",
              "     width=\"24px\">\n",
              "    <g>\n",
              "        <path d=\"M19 3H5c-1.1 0-2 .9-2 2v14c0 1.1.9 2 2 2h14c1.1 0 2-.9 2-2V5c0-1.1-.9-2-2-2zM9 17H7v-7h2v7zm4 0h-2V7h2v10zm4 0h-2v-4h2v4z\"/>\n",
              "    </g>\n",
              "</svg>\n",
              "  </button>\n",
              "\n",
              "<style>\n",
              "  .colab-df-quickchart {\n",
              "      --bg-color: #E8F0FE;\n",
              "      --fill-color: #1967D2;\n",
              "      --hover-bg-color: #E2EBFA;\n",
              "      --hover-fill-color: #174EA6;\n",
              "      --disabled-fill-color: #AAA;\n",
              "      --disabled-bg-color: #DDD;\n",
              "  }\n",
              "\n",
              "  [theme=dark] .colab-df-quickchart {\n",
              "      --bg-color: #3B4455;\n",
              "      --fill-color: #D2E3FC;\n",
              "      --hover-bg-color: #434B5C;\n",
              "      --hover-fill-color: #FFFFFF;\n",
              "      --disabled-bg-color: #3B4455;\n",
              "      --disabled-fill-color: #666;\n",
              "  }\n",
              "\n",
              "  .colab-df-quickchart {\n",
              "    background-color: var(--bg-color);\n",
              "    border: none;\n",
              "    border-radius: 50%;\n",
              "    cursor: pointer;\n",
              "    display: none;\n",
              "    fill: var(--fill-color);\n",
              "    height: 32px;\n",
              "    padding: 0;\n",
              "    width: 32px;\n",
              "  }\n",
              "\n",
              "  .colab-df-quickchart:hover {\n",
              "    background-color: var(--hover-bg-color);\n",
              "    box-shadow: 0 1px 2px rgba(60, 64, 67, 0.3), 0 1px 3px 1px rgba(60, 64, 67, 0.15);\n",
              "    fill: var(--button-hover-fill-color);\n",
              "  }\n",
              "\n",
              "  .colab-df-quickchart-complete:disabled,\n",
              "  .colab-df-quickchart-complete:disabled:hover {\n",
              "    background-color: var(--disabled-bg-color);\n",
              "    fill: var(--disabled-fill-color);\n",
              "    box-shadow: none;\n",
              "  }\n",
              "\n",
              "  .colab-df-spinner {\n",
              "    border: 2px solid var(--fill-color);\n",
              "    border-color: transparent;\n",
              "    border-bottom-color: var(--fill-color);\n",
              "    animation:\n",
              "      spin 1s steps(1) infinite;\n",
              "  }\n",
              "\n",
              "  @keyframes spin {\n",
              "    0% {\n",
              "      border-color: transparent;\n",
              "      border-bottom-color: var(--fill-color);\n",
              "      border-left-color: var(--fill-color);\n",
              "    }\n",
              "    20% {\n",
              "      border-color: transparent;\n",
              "      border-left-color: var(--fill-color);\n",
              "      border-top-color: var(--fill-color);\n",
              "    }\n",
              "    30% {\n",
              "      border-color: transparent;\n",
              "      border-left-color: var(--fill-color);\n",
              "      border-top-color: var(--fill-color);\n",
              "      border-right-color: var(--fill-color);\n",
              "    }\n",
              "    40% {\n",
              "      border-color: transparent;\n",
              "      border-right-color: var(--fill-color);\n",
              "      border-top-color: var(--fill-color);\n",
              "    }\n",
              "    60% {\n",
              "      border-color: transparent;\n",
              "      border-right-color: var(--fill-color);\n",
              "    }\n",
              "    80% {\n",
              "      border-color: transparent;\n",
              "      border-right-color: var(--fill-color);\n",
              "      border-bottom-color: var(--fill-color);\n",
              "    }\n",
              "    90% {\n",
              "      border-color: transparent;\n",
              "      border-bottom-color: var(--fill-color);\n",
              "    }\n",
              "  }\n",
              "</style>\n",
              "\n",
              "  <script>\n",
              "    async function quickchart(key) {\n",
              "      const quickchartButtonEl =\n",
              "        document.querySelector('#' + key + ' button');\n",
              "      quickchartButtonEl.disabled = true;  // To prevent multiple clicks.\n",
              "      quickchartButtonEl.classList.add('colab-df-spinner');\n",
              "      try {\n",
              "        const charts = await google.colab.kernel.invokeFunction(\n",
              "            'suggestCharts', [key], {});\n",
              "      } catch (error) {\n",
              "        console.error('Error during call to suggestCharts:', error);\n",
              "      }\n",
              "      quickchartButtonEl.classList.remove('colab-df-spinner');\n",
              "      quickchartButtonEl.classList.add('colab-df-quickchart-complete');\n",
              "    }\n",
              "    (() => {\n",
              "      let quickchartButtonEl =\n",
              "        document.querySelector('#df-344448ed-cbf3-48ff-8cd0-a8bd5629003a button');\n",
              "      quickchartButtonEl.style.display =\n",
              "        google.colab.kernel.accessAllowed ? 'block' : 'none';\n",
              "    })();\n",
              "  </script>\n",
              "</div>\n",
              "\n",
              "  <div id=\"id_78738dd7-eac0-4615-9341-af502af9f03a\">\n",
              "    <style>\n",
              "      .colab-df-generate {\n",
              "        background-color: #E8F0FE;\n",
              "        border: none;\n",
              "        border-radius: 50%;\n",
              "        cursor: pointer;\n",
              "        display: none;\n",
              "        fill: #1967D2;\n",
              "        height: 32px;\n",
              "        padding: 0 0 0 0;\n",
              "        width: 32px;\n",
              "      }\n",
              "\n",
              "      .colab-df-generate:hover {\n",
              "        background-color: #E2EBFA;\n",
              "        box-shadow: 0px 1px 2px rgba(60, 64, 67, 0.3), 0px 1px 3px 1px rgba(60, 64, 67, 0.15);\n",
              "        fill: #174EA6;\n",
              "      }\n",
              "\n",
              "      [theme=dark] .colab-df-generate {\n",
              "        background-color: #3B4455;\n",
              "        fill: #D2E3FC;\n",
              "      }\n",
              "\n",
              "      [theme=dark] .colab-df-generate:hover {\n",
              "        background-color: #434B5C;\n",
              "        box-shadow: 0px 1px 3px 1px rgba(0, 0, 0, 0.15);\n",
              "        filter: drop-shadow(0px 1px 2px rgba(0, 0, 0, 0.3));\n",
              "        fill: #FFFFFF;\n",
              "      }\n",
              "    </style>\n",
              "    <button class=\"colab-df-generate\" onclick=\"generateWithVariable('mypd1')\"\n",
              "            title=\"Generate code using this dataframe.\"\n",
              "            style=\"display:none;\">\n",
              "\n",
              "  <svg xmlns=\"http://www.w3.org/2000/svg\" height=\"24px\"viewBox=\"0 0 24 24\"\n",
              "       width=\"24px\">\n",
              "    <path d=\"M7,19H8.4L18.45,9,17,7.55,7,17.6ZM5,21V16.75L18.45,3.32a2,2,0,0,1,2.83,0l1.4,1.43a1.91,1.91,0,0,1,.58,1.4,1.91,1.91,0,0,1-.58,1.4L9.25,21ZM18.45,9,17,7.55Zm-12,3A5.31,5.31,0,0,0,4.9,8.1,5.31,5.31,0,0,0,1,6.5,5.31,5.31,0,0,0,4.9,4.9,5.31,5.31,0,0,0,6.5,1,5.31,5.31,0,0,0,8.1,4.9,5.31,5.31,0,0,0,12,6.5,5.46,5.46,0,0,0,6.5,12Z\"/>\n",
              "  </svg>\n",
              "    </button>\n",
              "    <script>\n",
              "      (() => {\n",
              "      const buttonEl =\n",
              "        document.querySelector('#id_78738dd7-eac0-4615-9341-af502af9f03a button.colab-df-generate');\n",
              "      buttonEl.style.display =\n",
              "        google.colab.kernel.accessAllowed ? 'block' : 'none';\n",
              "\n",
              "      buttonEl.onclick = () => {\n",
              "        google.colab.notebook.generateWithVariable('mypd1');\n",
              "      }\n",
              "      })();\n",
              "    </script>\n",
              "  </div>\n",
              "\n",
              "    </div>\n",
              "  </div>\n"
            ],
            "application/vnd.google.colaboratory.intrinsic+json": {
              "type": "dataframe",
              "variable_name": "mypd1",
              "summary": "{\n  \"name\": \"mypd1\",\n  \"rows\": 3,\n  \"fields\": [\n    {\n      \"column\": \"A\",\n      \"properties\": {\n        \"dtype\": \"number\",\n        \"std\": 1,\n        \"min\": 1,\n        \"max\": 3,\n        \"num_unique_values\": 3,\n        \"samples\": [\n          1,\n          2,\n          3\n        ],\n        \"semantic_type\": \"\",\n        \"description\": \"\"\n      }\n    },\n    {\n      \"column\": \"B\",\n      \"properties\": {\n        \"dtype\": \"number\",\n        \"std\": 1,\n        \"min\": 4,\n        \"max\": 6,\n        \"num_unique_values\": 3,\n        \"samples\": [\n          4,\n          5,\n          6\n        ],\n        \"semantic_type\": \"\",\n        \"description\": \"\"\n      }\n    }\n  ]\n}"
            }
          },
          "metadata": {},
          "execution_count": 46
        }
      ],
      "source": [
        "import pandas as pd\n",
        "mypd1=pd.DataFrame(\n",
        "    {\n",
        "        'A': [1, 2, 3],\n",
        "        'B': [4, 5, 6]\n",
        "    }\n",
        ")\n",
        "print(type(mypd1))\n",
        "mynp1=np.array(mypd1)\n",
        "print(type(mynp1))\n",
        "print(mynp1)\n",
        "mypd1"
      ]
    },
    {
      "cell_type": "code",
      "execution_count": 47,
      "metadata": {
        "colab": {
          "base_uri": "https://localhost:8080/",
          "height": 179
        },
        "id": "qV7DunRvf04E",
        "outputId": "c5d5e19c-12fc-43a1-9b6f-fc3f44835130"
      },
      "outputs": [
        {
          "output_type": "stream",
          "name": "stdout",
          "text": [
            "<class 'list'>\n",
            "<class 'pandas.core.frame.DataFrame'>\n",
            "<class 'numpy.ndarray'>\n"
          ]
        },
        {
          "output_type": "execute_result",
          "data": {
            "text/plain": [
              "   0  1  2\n",
              "0  1  2  3\n",
              "1  4  5  6"
            ],
            "text/html": [
              "\n",
              "  <div id=\"df-4370cb05-0a24-46b1-9db5-f41fadabbce7\" class=\"colab-df-container\">\n",
              "    <div>\n",
              "<style scoped>\n",
              "    .dataframe tbody tr th:only-of-type {\n",
              "        vertical-align: middle;\n",
              "    }\n",
              "\n",
              "    .dataframe tbody tr th {\n",
              "        vertical-align: top;\n",
              "    }\n",
              "\n",
              "    .dataframe thead th {\n",
              "        text-align: right;\n",
              "    }\n",
              "</style>\n",
              "<table border=\"1\" class=\"dataframe\">\n",
              "  <thead>\n",
              "    <tr style=\"text-align: right;\">\n",
              "      <th></th>\n",
              "      <th>0</th>\n",
              "      <th>1</th>\n",
              "      <th>2</th>\n",
              "    </tr>\n",
              "  </thead>\n",
              "  <tbody>\n",
              "    <tr>\n",
              "      <th>0</th>\n",
              "      <td>1</td>\n",
              "      <td>2</td>\n",
              "      <td>3</td>\n",
              "    </tr>\n",
              "    <tr>\n",
              "      <th>1</th>\n",
              "      <td>4</td>\n",
              "      <td>5</td>\n",
              "      <td>6</td>\n",
              "    </tr>\n",
              "  </tbody>\n",
              "</table>\n",
              "</div>\n",
              "    <div class=\"colab-df-buttons\">\n",
              "\n",
              "  <div class=\"colab-df-container\">\n",
              "    <button class=\"colab-df-convert\" onclick=\"convertToInteractive('df-4370cb05-0a24-46b1-9db5-f41fadabbce7')\"\n",
              "            title=\"Convert this dataframe to an interactive table.\"\n",
              "            style=\"display:none;\">\n",
              "\n",
              "  <svg xmlns=\"http://www.w3.org/2000/svg\" height=\"24px\" viewBox=\"0 -960 960 960\">\n",
              "    <path d=\"M120-120v-720h720v720H120Zm60-500h600v-160H180v160Zm220 220h160v-160H400v160Zm0 220h160v-160H400v160ZM180-400h160v-160H180v160Zm440 0h160v-160H620v160ZM180-180h160v-160H180v160Zm440 0h160v-160H620v160Z\"/>\n",
              "  </svg>\n",
              "    </button>\n",
              "\n",
              "  <style>\n",
              "    .colab-df-container {\n",
              "      display:flex;\n",
              "      gap: 12px;\n",
              "    }\n",
              "\n",
              "    .colab-df-convert {\n",
              "      background-color: #E8F0FE;\n",
              "      border: none;\n",
              "      border-radius: 50%;\n",
              "      cursor: pointer;\n",
              "      display: none;\n",
              "      fill: #1967D2;\n",
              "      height: 32px;\n",
              "      padding: 0 0 0 0;\n",
              "      width: 32px;\n",
              "    }\n",
              "\n",
              "    .colab-df-convert:hover {\n",
              "      background-color: #E2EBFA;\n",
              "      box-shadow: 0px 1px 2px rgba(60, 64, 67, 0.3), 0px 1px 3px 1px rgba(60, 64, 67, 0.15);\n",
              "      fill: #174EA6;\n",
              "    }\n",
              "\n",
              "    .colab-df-buttons div {\n",
              "      margin-bottom: 4px;\n",
              "    }\n",
              "\n",
              "    [theme=dark] .colab-df-convert {\n",
              "      background-color: #3B4455;\n",
              "      fill: #D2E3FC;\n",
              "    }\n",
              "\n",
              "    [theme=dark] .colab-df-convert:hover {\n",
              "      background-color: #434B5C;\n",
              "      box-shadow: 0px 1px 3px 1px rgba(0, 0, 0, 0.15);\n",
              "      filter: drop-shadow(0px 1px 2px rgba(0, 0, 0, 0.3));\n",
              "      fill: #FFFFFF;\n",
              "    }\n",
              "  </style>\n",
              "\n",
              "    <script>\n",
              "      const buttonEl =\n",
              "        document.querySelector('#df-4370cb05-0a24-46b1-9db5-f41fadabbce7 button.colab-df-convert');\n",
              "      buttonEl.style.display =\n",
              "        google.colab.kernel.accessAllowed ? 'block' : 'none';\n",
              "\n",
              "      async function convertToInteractive(key) {\n",
              "        const element = document.querySelector('#df-4370cb05-0a24-46b1-9db5-f41fadabbce7');\n",
              "        const dataTable =\n",
              "          await google.colab.kernel.invokeFunction('convertToInteractive',\n",
              "                                                    [key], {});\n",
              "        if (!dataTable) return;\n",
              "\n",
              "        const docLinkHtml = 'Like what you see? Visit the ' +\n",
              "          '<a target=\"_blank\" href=https://colab.research.google.com/notebooks/data_table.ipynb>data table notebook</a>'\n",
              "          + ' to learn more about interactive tables.';\n",
              "        element.innerHTML = '';\n",
              "        dataTable['output_type'] = 'display_data';\n",
              "        await google.colab.output.renderOutput(dataTable, element);\n",
              "        const docLink = document.createElement('div');\n",
              "        docLink.innerHTML = docLinkHtml;\n",
              "        element.appendChild(docLink);\n",
              "      }\n",
              "    </script>\n",
              "  </div>\n",
              "\n",
              "\n",
              "<div id=\"df-fdb07776-50b1-40bf-99ca-bd3c4922c464\">\n",
              "  <button class=\"colab-df-quickchart\" onclick=\"quickchart('df-fdb07776-50b1-40bf-99ca-bd3c4922c464')\"\n",
              "            title=\"Suggest charts\"\n",
              "            style=\"display:none;\">\n",
              "\n",
              "<svg xmlns=\"http://www.w3.org/2000/svg\" height=\"24px\"viewBox=\"0 0 24 24\"\n",
              "     width=\"24px\">\n",
              "    <g>\n",
              "        <path d=\"M19 3H5c-1.1 0-2 .9-2 2v14c0 1.1.9 2 2 2h14c1.1 0 2-.9 2-2V5c0-1.1-.9-2-2-2zM9 17H7v-7h2v7zm4 0h-2V7h2v10zm4 0h-2v-4h2v4z\"/>\n",
              "    </g>\n",
              "</svg>\n",
              "  </button>\n",
              "\n",
              "<style>\n",
              "  .colab-df-quickchart {\n",
              "      --bg-color: #E8F0FE;\n",
              "      --fill-color: #1967D2;\n",
              "      --hover-bg-color: #E2EBFA;\n",
              "      --hover-fill-color: #174EA6;\n",
              "      --disabled-fill-color: #AAA;\n",
              "      --disabled-bg-color: #DDD;\n",
              "  }\n",
              "\n",
              "  [theme=dark] .colab-df-quickchart {\n",
              "      --bg-color: #3B4455;\n",
              "      --fill-color: #D2E3FC;\n",
              "      --hover-bg-color: #434B5C;\n",
              "      --hover-fill-color: #FFFFFF;\n",
              "      --disabled-bg-color: #3B4455;\n",
              "      --disabled-fill-color: #666;\n",
              "  }\n",
              "\n",
              "  .colab-df-quickchart {\n",
              "    background-color: var(--bg-color);\n",
              "    border: none;\n",
              "    border-radius: 50%;\n",
              "    cursor: pointer;\n",
              "    display: none;\n",
              "    fill: var(--fill-color);\n",
              "    height: 32px;\n",
              "    padding: 0;\n",
              "    width: 32px;\n",
              "  }\n",
              "\n",
              "  .colab-df-quickchart:hover {\n",
              "    background-color: var(--hover-bg-color);\n",
              "    box-shadow: 0 1px 2px rgba(60, 64, 67, 0.3), 0 1px 3px 1px rgba(60, 64, 67, 0.15);\n",
              "    fill: var(--button-hover-fill-color);\n",
              "  }\n",
              "\n",
              "  .colab-df-quickchart-complete:disabled,\n",
              "  .colab-df-quickchart-complete:disabled:hover {\n",
              "    background-color: var(--disabled-bg-color);\n",
              "    fill: var(--disabled-fill-color);\n",
              "    box-shadow: none;\n",
              "  }\n",
              "\n",
              "  .colab-df-spinner {\n",
              "    border: 2px solid var(--fill-color);\n",
              "    border-color: transparent;\n",
              "    border-bottom-color: var(--fill-color);\n",
              "    animation:\n",
              "      spin 1s steps(1) infinite;\n",
              "  }\n",
              "\n",
              "  @keyframes spin {\n",
              "    0% {\n",
              "      border-color: transparent;\n",
              "      border-bottom-color: var(--fill-color);\n",
              "      border-left-color: var(--fill-color);\n",
              "    }\n",
              "    20% {\n",
              "      border-color: transparent;\n",
              "      border-left-color: var(--fill-color);\n",
              "      border-top-color: var(--fill-color);\n",
              "    }\n",
              "    30% {\n",
              "      border-color: transparent;\n",
              "      border-left-color: var(--fill-color);\n",
              "      border-top-color: var(--fill-color);\n",
              "      border-right-color: var(--fill-color);\n",
              "    }\n",
              "    40% {\n",
              "      border-color: transparent;\n",
              "      border-right-color: var(--fill-color);\n",
              "      border-top-color: var(--fill-color);\n",
              "    }\n",
              "    60% {\n",
              "      border-color: transparent;\n",
              "      border-right-color: var(--fill-color);\n",
              "    }\n",
              "    80% {\n",
              "      border-color: transparent;\n",
              "      border-right-color: var(--fill-color);\n",
              "      border-bottom-color: var(--fill-color);\n",
              "    }\n",
              "    90% {\n",
              "      border-color: transparent;\n",
              "      border-bottom-color: var(--fill-color);\n",
              "    }\n",
              "  }\n",
              "</style>\n",
              "\n",
              "  <script>\n",
              "    async function quickchart(key) {\n",
              "      const quickchartButtonEl =\n",
              "        document.querySelector('#' + key + ' button');\n",
              "      quickchartButtonEl.disabled = true;  // To prevent multiple clicks.\n",
              "      quickchartButtonEl.classList.add('colab-df-spinner');\n",
              "      try {\n",
              "        const charts = await google.colab.kernel.invokeFunction(\n",
              "            'suggestCharts', [key], {});\n",
              "      } catch (error) {\n",
              "        console.error('Error during call to suggestCharts:', error);\n",
              "      }\n",
              "      quickchartButtonEl.classList.remove('colab-df-spinner');\n",
              "      quickchartButtonEl.classList.add('colab-df-quickchart-complete');\n",
              "    }\n",
              "    (() => {\n",
              "      let quickchartButtonEl =\n",
              "        document.querySelector('#df-fdb07776-50b1-40bf-99ca-bd3c4922c464 button');\n",
              "      quickchartButtonEl.style.display =\n",
              "        google.colab.kernel.accessAllowed ? 'block' : 'none';\n",
              "    })();\n",
              "  </script>\n",
              "</div>\n",
              "\n",
              "  <div id=\"id_79db6804-677b-4fe1-b4c7-d7621aa9826d\">\n",
              "    <style>\n",
              "      .colab-df-generate {\n",
              "        background-color: #E8F0FE;\n",
              "        border: none;\n",
              "        border-radius: 50%;\n",
              "        cursor: pointer;\n",
              "        display: none;\n",
              "        fill: #1967D2;\n",
              "        height: 32px;\n",
              "        padding: 0 0 0 0;\n",
              "        width: 32px;\n",
              "      }\n",
              "\n",
              "      .colab-df-generate:hover {\n",
              "        background-color: #E2EBFA;\n",
              "        box-shadow: 0px 1px 2px rgba(60, 64, 67, 0.3), 0px 1px 3px 1px rgba(60, 64, 67, 0.15);\n",
              "        fill: #174EA6;\n",
              "      }\n",
              "\n",
              "      [theme=dark] .colab-df-generate {\n",
              "        background-color: #3B4455;\n",
              "        fill: #D2E3FC;\n",
              "      }\n",
              "\n",
              "      [theme=dark] .colab-df-generate:hover {\n",
              "        background-color: #434B5C;\n",
              "        box-shadow: 0px 1px 3px 1px rgba(0, 0, 0, 0.15);\n",
              "        filter: drop-shadow(0px 1px 2px rgba(0, 0, 0, 0.3));\n",
              "        fill: #FFFFFF;\n",
              "      }\n",
              "    </style>\n",
              "    <button class=\"colab-df-generate\" onclick=\"generateWithVariable('mypd2')\"\n",
              "            title=\"Generate code using this dataframe.\"\n",
              "            style=\"display:none;\">\n",
              "\n",
              "  <svg xmlns=\"http://www.w3.org/2000/svg\" height=\"24px\"viewBox=\"0 0 24 24\"\n",
              "       width=\"24px\">\n",
              "    <path d=\"M7,19H8.4L18.45,9,17,7.55,7,17.6ZM5,21V16.75L18.45,3.32a2,2,0,0,1,2.83,0l1.4,1.43a1.91,1.91,0,0,1,.58,1.4,1.91,1.91,0,0,1-.58,1.4L9.25,21ZM18.45,9,17,7.55Zm-12,3A5.31,5.31,0,0,0,4.9,8.1,5.31,5.31,0,0,0,1,6.5,5.31,5.31,0,0,0,4.9,4.9,5.31,5.31,0,0,0,6.5,1,5.31,5.31,0,0,0,8.1,4.9,5.31,5.31,0,0,0,12,6.5,5.46,5.46,0,0,0,6.5,12Z\"/>\n",
              "  </svg>\n",
              "    </button>\n",
              "    <script>\n",
              "      (() => {\n",
              "      const buttonEl =\n",
              "        document.querySelector('#id_79db6804-677b-4fe1-b4c7-d7621aa9826d button.colab-df-generate');\n",
              "      buttonEl.style.display =\n",
              "        google.colab.kernel.accessAllowed ? 'block' : 'none';\n",
              "\n",
              "      buttonEl.onclick = () => {\n",
              "        google.colab.notebook.generateWithVariable('mypd2');\n",
              "      }\n",
              "      })();\n",
              "    </script>\n",
              "  </div>\n",
              "\n",
              "    </div>\n",
              "  </div>\n"
            ],
            "application/vnd.google.colaboratory.intrinsic+json": {
              "type": "dataframe",
              "variable_name": "mypd2",
              "summary": "{\n  \"name\": \"mypd2\",\n  \"rows\": 2,\n  \"fields\": [\n    {\n      \"column\": 0,\n      \"properties\": {\n        \"dtype\": \"number\",\n        \"std\": 2,\n        \"min\": 1,\n        \"max\": 4,\n        \"num_unique_values\": 2,\n        \"samples\": [\n          4,\n          1\n        ],\n        \"semantic_type\": \"\",\n        \"description\": \"\"\n      }\n    },\n    {\n      \"column\": 1,\n      \"properties\": {\n        \"dtype\": \"number\",\n        \"std\": 2,\n        \"min\": 2,\n        \"max\": 5,\n        \"num_unique_values\": 2,\n        \"samples\": [\n          5,\n          2\n        ],\n        \"semantic_type\": \"\",\n        \"description\": \"\"\n      }\n    },\n    {\n      \"column\": 2,\n      \"properties\": {\n        \"dtype\": \"number\",\n        \"std\": 2,\n        \"min\": 3,\n        \"max\": 6,\n        \"num_unique_values\": 2,\n        \"samples\": [\n          6,\n          3\n        ],\n        \"semantic_type\": \"\",\n        \"description\": \"\"\n      }\n    }\n  ]\n}"
            }
          },
          "metadata": {},
          "execution_count": 47
        }
      ],
      "source": [
        "mylist2=[[1, 2, 3],\n",
        " [4, 5, 6]]\n",
        "print(type(mylist2))\n",
        "mypd2=pd.DataFrame(mylist2)\n",
        "print(type(mypd2))\n",
        "mynpa2=np.array(mypd2)\n",
        "print(type(mynpa2))\n",
        "mypd2"
      ]
    },
    {
      "cell_type": "markdown",
      "metadata": {
        "id": "y5GgQzZVf3rQ"
      },
      "source": [
        "##4. n차원 넘파이 배열\n",
        "##5. 1차원 넘파이 배열 생성\n"
      ]
    },
    {
      "cell_type": "code",
      "execution_count": 48,
      "metadata": {
        "colab": {
          "base_uri": "https://localhost:8080/"
        },
        "id": "oCMxZoZ_f_98",
        "outputId": "52c1dfc2-492d-4158-a266-32260109b926"
      },
      "outputs": [
        {
          "output_type": "stream",
          "name": "stdout",
          "text": [
            "[0 1 2] <class 'numpy.ndarray'> 1 (3,)\n"
          ]
        }
      ],
      "source": [
        "import numpy as np\n",
        "a=np.arange(3)\n",
        "print(a, type(a), a.ndim, a.shape)"
      ]
    },
    {
      "cell_type": "markdown",
      "metadata": {
        "id": "A2xip5hegDGl"
      },
      "source": [
        "####① 종료값만 설정"
      ]
    },
    {
      "cell_type": "code",
      "execution_count": 49,
      "metadata": {
        "colab": {
          "base_uri": "https://localhost:8080/"
        },
        "id": "ZY2EIXXhgFEJ",
        "outputId": "6e93790e-2434-4313-ed9a-928599efae9f"
      },
      "outputs": [
        {
          "output_type": "execute_result",
          "data": {
            "text/plain": [
              "array([0, 1, 2, 3])"
            ]
          },
          "metadata": {},
          "execution_count": 49
        }
      ],
      "source": [
        "a2=np.arange(4)\n",
        "a2"
      ]
    },
    {
      "cell_type": "markdown",
      "metadata": {
        "id": "ukfV9HgDgHQ7"
      },
      "source": [
        "#### ② 시작값, 종료값 설정"
      ]
    },
    {
      "cell_type": "code",
      "execution_count": 50,
      "metadata": {
        "colab": {
          "base_uri": "https://localhost:8080/"
        },
        "id": "IASB3ak5gJf-",
        "outputId": "3eefe69c-f4b7-4cf2-dce5-fda4bbacd804"
      },
      "outputs": [
        {
          "output_type": "stream",
          "name": "stdout",
          "text": [
            "[2 3] (2,)\n"
          ]
        }
      ],
      "source": [
        "a2=np.arange(2, 4)\n",
        "print(a2, a2.shape)"
      ]
    },
    {
      "cell_type": "markdown",
      "metadata": {
        "id": "85DxeeP2gLoP"
      },
      "source": [
        "####③ 시작값, 종료값, 증가값 모두 설정"
      ]
    },
    {
      "cell_type": "code",
      "execution_count": null,
      "metadata": {
        "colab": {
          "base_uri": "https://localhost:8080/"
        },
        "id": "6wHHwh6hgNpY",
        "outputId": "4b3923a6-28ac-491c-86ea-6bb8e38cf95c"
      },
      "outputs": [
        {
          "name": "stdout",
          "output_type": "stream",
          "text": [
            "[0 2 4] (3,)\n"
          ]
        }
      ],
      "source": [
        "a3=np.arange(0, 5, 2)\n",
        "print(a3, a3.shape)"
      ]
    },
    {
      "cell_type": "code",
      "source": [
        "# 연습\n",
        "# 적당한 리스트 -> 데이터프레임 ->넘파이배열\n",
        "from random import randint\n",
        "list_1 = [ randint(0,100) for i in range(12)]\n",
        "print(list_1, type(list_1))\n",
        "df = pd.DataFrame(list_1)\n",
        "# print(df, type(df))\n",
        "# df\n",
        "arr = np.array(df).reshape(3,4)\n",
        "print(arr, type(arr), arr.ndim, arr.shape)\n",
        "arr.flat = 0\n",
        "print(arr)"
      ],
      "metadata": {
        "colab": {
          "base_uri": "https://localhost:8080/"
        },
        "id": "m8jyYqTuPEvK",
        "outputId": "f8ac0d9f-147e-4445-d2f7-72f3856c9b0a"
      },
      "execution_count": 61,
      "outputs": [
        {
          "output_type": "stream",
          "name": "stdout",
          "text": [
            "[21, 56, 18, 39, 4, 30, 5, 11, 9, 99, 9, 39] <class 'list'>\n",
            "[[21 56 18 39]\n",
            " [ 4 30  5 11]\n",
            " [ 9 99  9 39]] <class 'numpy.ndarray'> 2 (3, 4)\n",
            "[[0 0 0 0]\n",
            " [0 0 0 0]\n",
            " [0 0 0 0]]\n"
          ]
        }
      ]
    },
    {
      "cell_type": "markdown",
      "metadata": {
        "id": "bt8-KemZgPlz"
      },
      "source": [
        "##6. 2차원 넘파이 배열 생성\n",
        "### 2행 3열의 배열 생성"
      ]
    },
    {
      "cell_type": "code",
      "execution_count": 62,
      "metadata": {
        "colab": {
          "base_uri": "https://localhost:8080/"
        },
        "id": "3ijKj9Z_gV9p",
        "outputId": "b52ea94c-07c6-47ba-d318-6e3c1cedbe75"
      },
      "outputs": [
        {
          "output_type": "stream",
          "name": "stdout",
          "text": [
            "[[0 1 2]\n",
            " [3 4 5]] (2, 3)\n"
          ]
        }
      ],
      "source": [
        "m=np.arange(6).reshape(2, 3)\n",
        "print(m, m.shape)"
      ]
    },
    {
      "cell_type": "code",
      "execution_count": null,
      "metadata": {
        "colab": {
          "base_uri": "https://localhost:8080/"
        },
        "id": "uO7Ro6CIgYOP",
        "outputId": "4640c30f-efa3-4307-e444-a47bfba3de1d"
      },
      "outputs": [
        {
          "name": "stdout",
          "output_type": "stream",
          "text": [
            "[[0 1 2]\n",
            " [3 4 5]] (2, 3)\n"
          ]
        }
      ],
      "source": [
        "m=np.array([np.arange(3), np.arange(3, 6)])\n",
        "print(m, m.shape)"
      ]
    },
    {
      "cell_type": "code",
      "source": [],
      "metadata": {
        "id": "X9R4lt0JRTEZ"
      },
      "execution_count": null,
      "outputs": []
    },
    {
      "cell_type": "code",
      "source": [],
      "metadata": {
        "id": "diB-tCZ8RTHS"
      },
      "execution_count": null,
      "outputs": []
    },
    {
      "cell_type": "code",
      "source": [
        "np.arange(6).reshape(3, 2)"
      ],
      "metadata": {
        "colab": {
          "base_uri": "https://localhost:8080/"
        },
        "id": "DnGxIKZRRTLR",
        "outputId": "0ab01a1a-649e-4f6e-b15f-c6f859da2a1b"
      },
      "execution_count": 63,
      "outputs": [
        {
          "output_type": "execute_result",
          "data": {
            "text/plain": [
              "array([[0, 1],\n",
              "       [2, 3],\n",
              "       [4, 5]])"
            ]
          },
          "metadata": {},
          "execution_count": 63
        }
      ]
    },
    {
      "cell_type": "markdown",
      "metadata": {
        "id": "tCALWMqvgavD"
      },
      "source": [
        "###3행 2열의 배열 생성"
      ]
    },
    {
      "cell_type": "code",
      "execution_count": 64,
      "metadata": {
        "colab": {
          "base_uri": "https://localhost:8080/"
        },
        "id": "piOIppvugdAV",
        "outputId": "678670ed-b42c-4430-9e2d-b1e9a867ca4a"
      },
      "outputs": [
        {
          "output_type": "stream",
          "name": "stdout",
          "text": [
            "[[0 3]\n",
            " [1 4]\n",
            " [2 5]] (3, 2)\n",
            "3 2\n"
          ]
        }
      ],
      "source": [
        "m=np.array([[0, 3],\n",
        " [1, 4],\n",
        " [2, 5]])\n",
        "print(m, m.shape)\n",
        "print(m.shape[0], m.shape[1])"
      ]
    },
    {
      "cell_type": "code",
      "execution_count": 66,
      "metadata": {
        "colab": {
          "base_uri": "https://localhost:8080/"
        },
        "id": "gRmFB_mpgfTH",
        "outputId": "dea36d26-dc2a-4771-df71-9bc055bdcd8f"
      },
      "outputs": [
        {
          "output_type": "stream",
          "name": "stdout",
          "text": [
            "[[0 3]\n",
            " [1 4]\n",
            " [2 5]] (3, 2)\n"
          ]
        }
      ],
      "source": [
        "m=np.array([np.arange(0, 4, 3), np.arange(1, 5, 3),\n",
        "np.arange(2, 6, 3)])\n",
        "print(m, m.shape)"
      ]
    },
    {
      "cell_type": "code",
      "source": [],
      "metadata": {
        "id": "lvnqiQqKRI1r"
      },
      "execution_count": 65,
      "outputs": []
    },
    {
      "cell_type": "markdown",
      "metadata": {
        "id": "6IooSmNDghvh"
      },
      "source": [
        "##7. 3차원 넘파이 배열 생성"
      ]
    },
    {
      "cell_type": "code",
      "execution_count": null,
      "metadata": {
        "colab": {
          "base_uri": "https://localhost:8080/"
        },
        "id": "5PfwdabCgk8R",
        "outputId": "f87aa524-71d4-4d39-9d7b-d1165c26555e"
      },
      "outputs": [
        {
          "name": "stdout",
          "output_type": "stream",
          "text": [
            "[[[0 1 2]\n",
            "  [3 4 5]]\n",
            "\n",
            " [[0 1 2]\n",
            "  [3 4 5]]]\n",
            "(2, 2, 3)\n"
          ]
        }
      ],
      "source": [
        "m=np.array([[[0, 1, 2],\n",
        " [3, 4, 5]],\n",
        " [[0, 1, 2],\n",
        " [3, 4, 5]]])\n",
        "print(m)\n",
        "print(m.shape)"
      ]
    },
    {
      "cell_type": "code",
      "execution_count": null,
      "metadata": {
        "colab": {
          "base_uri": "https://localhost:8080/"
        },
        "id": "zJYYJwR4gnK_",
        "outputId": "b16dcdb3-5f24-44ef-b792-bba5df5e0b69"
      },
      "outputs": [
        {
          "name": "stdout",
          "output_type": "stream",
          "text": [
            "[[[ 0  1]\n",
            "  [ 2  3]]\n",
            "\n",
            " [[ 4  5]\n",
            "  [ 6  7]]\n",
            "\n",
            " [[ 8  9]\n",
            "  [10 11]]] (3, 2, 2)\n"
          ]
        }
      ],
      "source": [
        "m=np.array([[[0, 1],\n",
        " [2, 3]],\n",
        " [[4, 5],\n",
        " [6, 7]],\n",
        " [[8, 9],\n",
        " [10, 11]]])\n",
        "print(m, m.shape)"
      ]
    },
    {
      "cell_type": "code",
      "execution_count": null,
      "metadata": {
        "colab": {
          "base_uri": "https://localhost:8080/"
        },
        "id": "vYOsHTxTgpQm",
        "outputId": "b59aa2ac-386f-4874-d231-6033b77a2a77"
      },
      "outputs": [
        {
          "name": "stdout",
          "output_type": "stream",
          "text": [
            "[[[0 1 2]]\n",
            "\n",
            " [[3 4 5]]\n",
            "\n",
            " [[0 1 2]]\n",
            "\n",
            " [[3 4 5]]] (4, 1, 3)\n"
          ]
        }
      ],
      "source": [
        "m=np.array([[[0, 1, 2]],\n",
        " [[3, 4, 5]],\n",
        " [[0, 1, 2]],\n",
        " [[3, 4, 5]]])\n",
        "print(m, m.shape)"
      ]
    },
    {
      "cell_type": "markdown",
      "metadata": {
        "id": "DB2Tru1OgslB"
      },
      "source": [
        "###<여기서 잠깐> 파이썬의 range 함수와 넘파이의 arange 함수"
      ]
    },
    {
      "cell_type": "code",
      "execution_count": null,
      "metadata": {
        "colab": {
          "base_uri": "https://localhost:8080/"
        },
        "id": "g5gEtvXIgyOf",
        "outputId": "dfe63f1f-9dbc-41ef-af94-01e565c171aa"
      },
      "outputs": [
        {
          "name": "stdout",
          "output_type": "stream",
          "text": [
            "1\n",
            "2\n",
            "3\n",
            "4\n",
            "5\n"
          ]
        }
      ],
      "source": [
        "list=[1, 2, 3, 4, 5]\n",
        "for i in list:\n",
        "  print(i)"
      ]
    },
    {
      "cell_type": "code",
      "execution_count": null,
      "metadata": {
        "colab": {
          "base_uri": "https://localhost:8080/"
        },
        "id": "e6IDnDSag0uv",
        "outputId": "6c398388-eeb5-485f-d538-e5b9a49a7c99"
      },
      "outputs": [
        {
          "name": "stdout",
          "output_type": "stream",
          "text": [
            "1\n",
            "2\n",
            "3\n",
            "4\n",
            "5\n"
          ]
        }
      ],
      "source": [
        "list=[1, 2, 3, 4, 5]\n",
        "for i in range(1, 6):\n",
        "  print(i)"
      ]
    },
    {
      "cell_type": "code",
      "execution_count": null,
      "metadata": {
        "colab": {
          "base_uri": "https://localhost:8080/"
        },
        "id": "AZnUTF_GhtP7",
        "outputId": "60a9d934-e6ff-4d8e-9331-f666a2edd7fb"
      },
      "outputs": [
        {
          "name": "stdout",
          "output_type": "stream",
          "text": [
            "1\n",
            "3\n",
            "5\n"
          ]
        }
      ],
      "source": [
        "list=[1, 2, 3, 4, 5]\n",
        "for i in range(1, 6, 2):\n",
        "  print(i)"
      ]
    },
    {
      "cell_type": "code",
      "execution_count": null,
      "metadata": {
        "colab": {
          "base_uri": "https://localhost:8080/"
        },
        "id": "FJuCXSYchwUT",
        "outputId": "14e9c09a-a12e-44da-b11c-ce2a939f264d"
      },
      "outputs": [
        {
          "data": {
            "text/plain": [
              "[1, 2, 3, 4, 5, 6, 7, 8, 9, 10]"
            ]
          },
          "execution_count": 28,
          "metadata": {},
          "output_type": "execute_result"
        }
      ],
      "source": [
        "arr=[1, 2, 3, 4, 5, 6, 7, 8, 9, 10]\n",
        "arr"
      ]
    },
    {
      "cell_type": "code",
      "execution_count": null,
      "metadata": {
        "colab": {
          "base_uri": "https://localhost:8080/"
        },
        "id": "8SYB_phmhyh9",
        "outputId": "40c7cca6-b3f6-4051-94e1-937349a2bd72"
      },
      "outputs": [
        {
          "data": {
            "text/plain": [
              "array([ 1,  2,  3,  4,  5,  6,  7,  8,  9, 10])"
            ]
          },
          "execution_count": 29,
          "metadata": {},
          "output_type": "execute_result"
        }
      ],
      "source": [
        "arr=np.arange(start=1, stop=11, step=1)\n",
        "arr"
      ]
    },
    {
      "cell_type": "code",
      "execution_count": null,
      "metadata": {
        "colab": {
          "base_uri": "https://localhost:8080/"
        },
        "id": "pINfS3h1h0jl",
        "outputId": "b86663d1-52ae-4c86-aedb-c988bc31e00e"
      },
      "outputs": [
        {
          "data": {
            "text/plain": [
              "array([ 1,  2,  3,  4,  5,  6,  7,  8,  9, 10])"
            ]
          },
          "execution_count": 30,
          "metadata": {},
          "output_type": "execute_result"
        }
      ],
      "source": [
        "arr=np.arange(1, 11)\n",
        "arr"
      ]
    },
    {
      "cell_type": "code",
      "execution_count": null,
      "metadata": {
        "colab": {
          "base_uri": "https://localhost:8080/"
        },
        "id": "bAXPiW15h3KK",
        "outputId": "5d3fa3a2-b6f2-425d-e311-3033f7d8e786"
      },
      "outputs": [
        {
          "data": {
            "text/plain": [
              "array([1, 3, 5, 7, 9])"
            ]
          },
          "execution_count": 31,
          "metadata": {},
          "output_type": "execute_result"
        }
      ],
      "source": [
        "arr=np.arange(start=1, stop=10, step=2)\n",
        "arr"
      ]
    },
    {
      "cell_type": "code",
      "execution_count": null,
      "metadata": {
        "colab": {
          "base_uri": "https://localhost:8080/"
        },
        "id": "malLPdtph5y5",
        "outputId": "fd877547-a12f-4f4b-9ee6-0ca2f3c71a82"
      },
      "outputs": [
        {
          "data": {
            "text/plain": [
              "array([1, 3, 5, 7, 9])"
            ]
          },
          "execution_count": 32,
          "metadata": {},
          "output_type": "execute_result"
        }
      ],
      "source": [
        "arr=np.arange(1, 10, 2)\n",
        "arr"
      ]
    },
    {
      "cell_type": "code",
      "source": [],
      "metadata": {
        "id": "PwNF2iYsRPNa"
      },
      "execution_count": null,
      "outputs": []
    },
    {
      "cell_type": "markdown",
      "metadata": {
        "id": "0LDyxG3gh7ca"
      },
      "source": [
        "# Section 02. 배열 다루기\n",
        "## 1. 배열의 데이터형 확인과 변형"
      ]
    },
    {
      "cell_type": "code",
      "execution_count": null,
      "metadata": {
        "colab": {
          "base_uri": "https://localhost:8080/"
        },
        "id": "iOL7Ib2riBVd",
        "outputId": "89a2a550-32d0-422a-cb40-0c20cb32cff0"
      },
      "outputs": [
        {
          "name": "stdout",
          "output_type": "stream",
          "text": [
            "[0 1 2 3 4 5] <class 'numpy.ndarray'>\n",
            "int32\n"
          ]
        },
        {
          "data": {
            "text/plain": [
              "array([0, 1, 2, 3, 4, 5])"
            ]
          },
          "execution_count": 33,
          "metadata": {},
          "output_type": "execute_result"
        }
      ],
      "source": [
        "import numpy as np\n",
        "\n",
        "nda=np.array([0, 1, 2, 3, 4, 5])\n",
        "print(nda, type(nda)) # nda 변수의 데이터형 반환\n",
        "print(nda.dtype) # 넘파이 배열인 nda 요소의 자료형 반환\n",
        "nda # 넘파이 배열이므로 array([]) 형식으로 표시"
      ]
    },
    {
      "cell_type": "code",
      "execution_count": null,
      "metadata": {
        "colab": {
          "base_uri": "https://localhost:8080/"
        },
        "id": "KBsQmMmTiEjX",
        "outputId": "4f30b83c-168f-4d11-a732-f6cfdef471ca"
      },
      "outputs": [
        {
          "name": "stdout",
          "output_type": "stream",
          "text": [
            "[0. 1. 2. 3. 4. 5.] float64\n"
          ]
        }
      ],
      "source": [
        "nda1=np.array([0, 1, 2, 3.0, 4, 5])\n",
        "print(nda1, nda1.dtype)"
      ]
    },
    {
      "cell_type": "code",
      "execution_count": null,
      "metadata": {
        "colab": {
          "base_uri": "https://localhost:8080/"
        },
        "id": "8qd7HLFLiGnV",
        "outputId": "87b37fc5-a850-4348-f191-caeb35b5380f"
      },
      "outputs": [
        {
          "name": "stdout",
          "output_type": "stream",
          "text": [
            "[0 1 2 3 4 5] int32\n"
          ]
        }
      ],
      "source": [
        "nda2=np.array([0, 1, 2, 3, 4, 5])\n",
        "print(nda2, nda2.dtype)"
      ]
    },
    {
      "cell_type": "markdown",
      "metadata": {
        "id": "W03RP35YigVE"
      },
      "source": [
        "## 2. 배열의 형태 변경\n",
        "###배열의 구조 변경하기: reshape 함수"
      ]
    },
    {
      "cell_type": "code",
      "execution_count": null,
      "metadata": {
        "colab": {
          "base_uri": "https://localhost:8080/"
        },
        "id": "KEhl9qWTilzS",
        "outputId": "c97df264-e48c-4f88-c796-d05eb6c6029f"
      },
      "outputs": [
        {
          "name": "stdout",
          "output_type": "stream",
          "text": [
            "[0 1 2 3 4 5]\n",
            "(6,)\n"
          ]
        }
      ],
      "source": [
        "m1=np.arange(6)\n",
        "print(m1)\n",
        "print(m1.shape)"
      ]
    },
    {
      "cell_type": "code",
      "execution_count": null,
      "metadata": {
        "colab": {
          "base_uri": "https://localhost:8080/"
        },
        "id": "cKBCblRFin7Y",
        "outputId": "81c19d62-faff-4a1d-9780-090e46110ad4"
      },
      "outputs": [
        {
          "name": "stdout",
          "output_type": "stream",
          "text": [
            "[[0]\n",
            " [1]\n",
            " [2]\n",
            " [3]\n",
            " [4]\n",
            " [5]] (6, 1)\n"
          ]
        }
      ],
      "source": [
        "m2=m1.reshape(6, 1)\n",
        "print(m2, m2.shape) # 1행 6열을 6행 1열로 변경"
      ]
    },
    {
      "cell_type": "code",
      "execution_count": null,
      "metadata": {
        "colab": {
          "base_uri": "https://localhost:8080/"
        },
        "id": "JXdCDeIJittq",
        "outputId": "bc1b433f-4334-4a1d-c0ef-4b11c1107dbc"
      },
      "outputs": [
        {
          "name": "stdout",
          "output_type": "stream",
          "text": [
            "[[0 1 2]\n",
            " [3 4 5]] (2, 3)\n"
          ]
        }
      ],
      "source": [
        "m2=m1.reshape(2, 3)\n",
        "print(m2, m2.shape)"
      ]
    },
    {
      "cell_type": "code",
      "execution_count": null,
      "metadata": {
        "colab": {
          "base_uri": "https://localhost:8080/"
        },
        "id": "2EfLe0N5iv7l",
        "outputId": "5169acbd-ba13-4456-b9fa-b61ed5cd9922"
      },
      "outputs": [
        {
          "name": "stdout",
          "output_type": "stream",
          "text": [
            "[[[ 0  1  2]\n",
            "  [ 3  4  5]]\n",
            "\n",
            " [[ 6  7  8]\n",
            "  [ 9 10 11]]] (2, 2, 3)\n"
          ]
        }
      ],
      "source": [
        "m1=np.arange(12)\n",
        "m3=m1.reshape(2, 2, 3)\n",
        "print(m3, m3.shape)"
      ]
    },
    {
      "cell_type": "code",
      "execution_count": null,
      "metadata": {
        "colab": {
          "base_uri": "https://localhost:8080/"
        },
        "id": "V3zngNfeiyT8",
        "outputId": "9693c45c-e804-4857-9abc-985c2eb0036c"
      },
      "outputs": [
        {
          "name": "stdout",
          "output_type": "stream",
          "text": [
            "[0 1 2 3 4 5] (6,)\n",
            "[[0 1]\n",
            " [2 3]\n",
            " [4 5]] (3, 2)\n",
            "[[0 1 2]\n",
            " [3 4 5]] (2, 3)\n",
            "[[0]\n",
            " [1]\n",
            " [2]\n",
            " [3]\n",
            " [4]\n",
            " [5]] (6, 1)\n"
          ]
        }
      ],
      "source": [
        "# -1의 역활은.. 자동 계산\n",
        "m1=np.arange(6)\n",
        "print(m1, m1.shape)\n",
        "m2=m1.reshape(-1, 2) # 행 수는 자동, 2열 생성\n",
        "print(m2, m2.shape)\n",
        "m2=m1.reshape(-1, 3) # 행 수는 자동, 3열 생성\n",
        "print(m2, m2.shape)\n",
        "m2=m1.reshape(-1, 1) # 행 수는 자동, 1열 생성\n",
        "print(m2, m2.shape)"
      ]
    },
    {
      "cell_type": "code",
      "execution_count": null,
      "metadata": {
        "colab": {
          "base_uri": "https://localhost:8080/"
        },
        "id": "TSz2bQe-i1MG",
        "outputId": "5d2a2054-c383-4187-eda8-85614e591e72"
      },
      "outputs": [
        {
          "name": "stdout",
          "output_type": "stream",
          "text": [
            "[[[0 1 2]\n",
            "  [3 4 5]]] (1, 2, 3)\n",
            "[[[0 1]\n",
            "  [2 3]\n",
            "  [4 5]]] (1, 3, 2)\n",
            "[[[0]\n",
            "  [1]\n",
            "  [2]]\n",
            "\n",
            " [[3]\n",
            "  [4]\n",
            "  [5]]] (2, 3, 1)\n"
          ]
        }
      ],
      "source": [
        "m1=np.arange(6)\n",
        "m3=m1.reshape(-1, 2, 3)\n",
        "print(m3, m3.shape)\n",
        "m3=m1.reshape(-1, 3, 2) # 면 수 자동, 3행 2열 생성\n",
        "print(m3,m3.shape)\n",
        "m3=m1.reshape(2, 3, -1) # 열 수 자동, 2면 3행 생성\n",
        "print(m3, m3.shape)"
      ]
    },
    {
      "cell_type": "code",
      "source": [
        "import numpy as np\n",
        "arr = np.arange(12).reshape(3, 4)\n",
        "arr.reshape(-1)"
      ],
      "metadata": {
        "colab": {
          "base_uri": "https://localhost:8080/"
        },
        "id": "Z6KVL0BqWKkL",
        "outputId": "1d0c08b3-53b9-4efe-e91c-f9405e156b7d"
      },
      "execution_count": 71,
      "outputs": [
        {
          "output_type": "execute_result",
          "data": {
            "text/plain": [
              "array([ 0,  1,  2,  3,  4,  5,  6,  7,  8,  9, 10, 11])"
            ]
          },
          "metadata": {},
          "execution_count": 71
        }
      ]
    },
    {
      "cell_type": "markdown",
      "metadata": {
        "id": "e28WHrdzi345"
      },
      "source": [
        "###다차원 배열을 1차원 배열로 평탄화하기: flatten 함수"
      ]
    },
    {
      "cell_type": "code",
      "execution_count": null,
      "metadata": {
        "colab": {
          "base_uri": "https://localhost:8080/"
        },
        "id": "Zv1llna_i6il",
        "outputId": "aa55c644-8418-4b23-82ca-9c75bb975571"
      },
      "outputs": [
        {
          "data": {
            "text/plain": [
              "array([[ 0,  1,  2,  3],\n",
              "       [ 4,  5,  6,  7],\n",
              "       [ 8,  9, 10, 11]])"
            ]
          },
          "execution_count": 42,
          "metadata": {},
          "output_type": "execute_result"
        }
      ],
      "source": [
        "a=np.arange(12).reshape(3, 4)\n",
        "a"
      ]
    },
    {
      "cell_type": "code",
      "execution_count": null,
      "metadata": {
        "colab": {
          "base_uri": "https://localhost:8080/"
        },
        "id": "NIltovRPi8lR",
        "outputId": "e6e9c601-bbbb-4c05-fd80-06c4abd6cc55"
      },
      "outputs": [
        {
          "name": "stdout",
          "output_type": "stream",
          "text": [
            "[ 0  1  2  3  4  5  6  7  8  9 10 11] (12,)\n"
          ]
        }
      ],
      "source": [
        "f=a.flatten()\n",
        "print(f, f.shape)"
      ]
    },
    {
      "cell_type": "markdown",
      "metadata": {
        "id": "cqfmK5N_i-gn"
      },
      "source": [
        "###배열의 방향 변경하기"
      ]
    },
    {
      "cell_type": "code",
      "execution_count": 93,
      "metadata": {
        "colab": {
          "base_uri": "https://localhost:8080/"
        },
        "id": "M8-Z6gSwjAr-",
        "outputId": "c9db168f-b418-4048-bd2a-73ac0198eaab"
      },
      "outputs": [
        {
          "output_type": "stream",
          "name": "stdout",
          "text": [
            "[[ 0  1  2  3  4]\n",
            " [ 5  6  7  8  9]\n",
            " [10 11 12 13 14]\n",
            " [15 16 17 18 19]\n",
            " [20 21 22 23 24]]\n",
            "[[ 1  2]\n",
            " [ 6  7]\n",
            " [11 12]\n",
            " [16 17]\n",
            " [21 22]]\n"
          ]
        }
      ],
      "source": [
        "arr = np.arange(25).reshape(5, 5)\n",
        "print(arr)\n",
        "list_1 = arr.tolist()\n",
        "# 1을 출력\n",
        "print(arr[: , 1:3])"
      ]
    },
    {
      "cell_type": "code",
      "execution_count": 110,
      "metadata": {
        "colab": {
          "base_uri": "https://localhost:8080/"
        },
        "id": "6OONS4GRjCdD",
        "outputId": "906e023d-ec39-48a0-ec4d-39ff00ef28c4"
      },
      "outputs": [
        {
          "output_type": "stream",
          "name": "stdout",
          "text": [
            "[[20 21 22 23 24]\n",
            " [15 16 17 18 19]\n",
            " [10 11 12 13 14]\n",
            " [ 5  6  7  8  9]\n",
            " [ 0  1  2  3  4]]\n",
            "********************\n",
            "[[ 4  3  2  1  0]\n",
            " [ 9  8  7  6  5]\n",
            " [14 13 12 11 10]\n",
            " [19 18 17 16 15]\n",
            " [24 23 22 21 20]]\n",
            "********************\n",
            "[[24 23 22 21 20]\n",
            " [19 18 17 16 15]\n",
            " [14 13 12 11 10]\n",
            " [ 9  8  7  6  5]\n",
            " [ 4  3  2  1  0]]\n"
          ]
        }
      ],
      "source": [
        "print(arr[ :: -1]) # 행 순서를 거꾸로 변경\n",
        "print(\"*\"*20)\n",
        "print(arr[:, ::-1]) # 열 순서를 거꾸로 변경\n",
        "print(\"*\"*20)\n",
        "print(arr[::-1, ::-1]) # 행렬 순서를 거꾸로 변경\n"
      ]
    },
    {
      "cell_type": "code",
      "execution_count": 111,
      "metadata": {
        "colab": {
          "base_uri": "https://localhost:8080/"
        },
        "id": "jy0vx6pMjHRY",
        "outputId": "83df99a3-4a23-4177-dba6-9127a4c5227a"
      },
      "outputs": [
        {
          "output_type": "stream",
          "name": "stdout",
          "text": [
            "[[ 3  2  1  0]\n",
            " [ 7  6  5  4]\n",
            " [11 10  9  8]]\n"
          ]
        }
      ],
      "source": [
        "print(a[:,::-1]) # 열 순서를 거꾸로 변경"
      ]
    },
    {
      "cell_type": "code",
      "execution_count": 112,
      "metadata": {
        "colab": {
          "base_uri": "https://localhost:8080/"
        },
        "id": "UvvkN75djJsp",
        "outputId": "11f344c4-2f9b-445e-cffa-44a5d784918b"
      },
      "outputs": [
        {
          "output_type": "execute_result",
          "data": {
            "text/plain": [
              "array([[ 0,  1,  2,  3],\n",
              "       [ 4,  5,  6,  7],\n",
              "       [ 8,  9, 10, 11]])"
            ]
          },
          "metadata": {},
          "execution_count": 112
        }
      ],
      "source": [
        "a"
      ]
    },
    {
      "cell_type": "code",
      "execution_count": 113,
      "metadata": {
        "colab": {
          "base_uri": "https://localhost:8080/"
        },
        "id": "hicm6fQEjMBg",
        "outputId": "17a628d1-41e2-4f1d-b92a-315c2ace97d6"
      },
      "outputs": [
        {
          "output_type": "stream",
          "name": "stdout",
          "text": [
            "[[11 10  9  8]\n",
            " [ 7  6  5  4]\n",
            " [ 3  2  1  0]]\n"
          ]
        }
      ],
      "source": [
        "print(a[::-1,::-1]) # 행과 열 순서를 거꾸로 변경"
      ]
    },
    {
      "cell_type": "code",
      "source": [
        "a"
      ],
      "metadata": {
        "colab": {
          "base_uri": "https://localhost:8080/"
        },
        "id": "Z_LRpO8Ra30h",
        "outputId": "a1896086-93cc-4e03-8990-64f6830b1ece"
      },
      "execution_count": 114,
      "outputs": [
        {
          "output_type": "execute_result",
          "data": {
            "text/plain": [
              "array([[ 0,  1,  2,  3],\n",
              "       [ 4,  5,  6,  7],\n",
              "       [ 8,  9, 10, 11]])"
            ]
          },
          "metadata": {},
          "execution_count": 114
        }
      ]
    },
    {
      "cell_type": "code",
      "execution_count": 116,
      "metadata": {
        "colab": {
          "base_uri": "https://localhost:8080/"
        },
        "id": "_v2pCAYRjOSi",
        "outputId": "94a38cfb-5927-4b36-cb2e-9926742c21af"
      },
      "outputs": [
        {
          "output_type": "stream",
          "name": "stdout",
          "text": [
            "[[ 0  1  2  3]\n",
            " [ 4  5  6  7]\n",
            " [ 8  9 10 11]] (3, 4)\n",
            "[[ 0  4  8]\n",
            " [ 1  5  9]\n",
            " [ 2  6 10]\n",
            " [ 3  7 11]] (4, 3)\n"
          ]
        }
      ],
      "source": [
        "t=a.transpose()  # 전치함수..   a.T\n",
        "print(a, a.shape) # a 배열은 3행 4열\n",
        "print(t, t.shape) # t 배열은 a 배열을 4행 3열로 변경한 것"
      ]
    },
    {
      "cell_type": "code",
      "execution_count": 117,
      "metadata": {
        "colab": {
          "base_uri": "https://localhost:8080/"
        },
        "id": "m72LnB5FjQIB",
        "outputId": "cea5e9be-0e6a-46e2-fc7b-0ed93238bf15"
      },
      "outputs": [
        {
          "output_type": "stream",
          "name": "stdout",
          "text": [
            "[[ 0  4  8]\n",
            " [ 1  5  9]\n",
            " [ 2  6 10]\n",
            " [ 3  7 11]]\n"
          ]
        }
      ],
      "source": [
        "print(a.T) # transpose() 함수와 결과 동일"
      ]
    },
    {
      "cell_type": "markdown",
      "metadata": {
        "id": "gVqskB_kjSTI"
      },
      "source": [
        "##3. 배열 통합과 분할"
      ]
    },
    {
      "cell_type": "code",
      "execution_count": 127,
      "metadata": {
        "colab": {
          "base_uri": "https://localhost:8080/"
        },
        "id": "jZntYcc-jXkd",
        "outputId": "96d01919-fd56-4d85-e20d-2fffb08a8ad3"
      },
      "outputs": [
        {
          "output_type": "stream",
          "name": "stdout",
          "text": [
            "[[0 1 2]\n",
            " [3 4 5]\n",
            " [6 7 8]]\n",
            "[[ 0  2  4]\n",
            " [ 6  8 10]\n",
            " [12 14 16]]\n"
          ]
        }
      ],
      "source": [
        "a=np.arange(9).reshape(3, 3)\n",
        "b=a*2\n",
        "print(a)\n",
        "print(b)"
      ]
    },
    {
      "cell_type": "code",
      "source": [
        "temp1 = np.arange(8).reshape(2, 4)\n",
        "temp2 = np.arange(8, 16).reshape(2, 4)\n",
        "print(temp1)\n",
        "print('%')\n",
        "print(temp2)\n",
        "print('*'*20)\n",
        "print(temp1 %  temp2)"
      ],
      "metadata": {
        "colab": {
          "base_uri": "https://localhost:8080/"
        },
        "id": "Y-JB4KOebnC1",
        "outputId": "3ab5e066-ad8b-46bd-8529-75a55b098a19"
      },
      "execution_count": 125,
      "outputs": [
        {
          "output_type": "stream",
          "name": "stdout",
          "text": [
            "[[0 1 2 3]\n",
            " [4 5 6 7]]\n",
            "%\n",
            "[[ 8  9 10 11]\n",
            " [12 13 14 15]]\n",
            "********************\n",
            "[[0 1 2 3]\n",
            " [4 5 6 7]]\n"
          ]
        }
      ]
    },
    {
      "cell_type": "code",
      "source": [
        "b = a[::-1,::-1]\n",
        "print(a,a.shape)\n",
        "print(b,b.shape)"
      ],
      "metadata": {
        "colab": {
          "base_uri": "https://localhost:8080/"
        },
        "id": "DczcpCJ8cIg8",
        "outputId": "151108b6-975d-41e9-d1bf-3376cabb47dd"
      },
      "execution_count": 133,
      "outputs": [
        {
          "output_type": "stream",
          "name": "stdout",
          "text": [
            "[[0 1 2]\n",
            " [3 4 5]\n",
            " [6 7 8]] (3, 3)\n",
            "[[8 7 6]\n",
            " [5 4 3]\n",
            " [2 1 0]] (3, 3)\n"
          ]
        }
      ]
    },
    {
      "cell_type": "code",
      "execution_count": 132,
      "metadata": {
        "colab": {
          "base_uri": "https://localhost:8080/"
        },
        "id": "PMs9-1IwjaVp",
        "outputId": "eed4a65a-9815-425e-92d4-e7760e44cd2f"
      },
      "outputs": [
        {
          "output_type": "stream",
          "name": "stdout",
          "text": [
            "[[0 1 2]\n",
            " [3 4 5]\n",
            " [6 7 8]\n",
            " [8 7 6]\n",
            " [5 4 3]\n",
            " [2 1 0]] (6, 3)\n"
          ]
        }
      ],
      "source": [
        "r=np.vstack((a, b))\n",
        "print(r, r.shape)"
      ]
    },
    {
      "cell_type": "code",
      "source": [
        "np.hstack((a, b)) # column_stack"
      ],
      "metadata": {
        "colab": {
          "base_uri": "https://localhost:8080/"
        },
        "id": "8w8meAuPcyD1",
        "outputId": "35dd9f59-6552-4b7f-b0d6-c93bd57ff775"
      },
      "execution_count": 134,
      "outputs": [
        {
          "output_type": "execute_result",
          "data": {
            "text/plain": [
              "array([[0, 1, 2, 8, 7, 6],\n",
              "       [3, 4, 5, 5, 4, 3],\n",
              "       [6, 7, 8, 2, 1, 0]])"
            ]
          },
          "metadata": {},
          "execution_count": 134
        }
      ]
    },
    {
      "cell_type": "code",
      "execution_count": 136,
      "metadata": {
        "colab": {
          "base_uri": "https://localhost:8080/"
        },
        "id": "Xj1CuI8njcNL",
        "outputId": "5a25c1e7-d473-46ca-b154-fc716028af43"
      },
      "outputs": [
        {
          "output_type": "stream",
          "name": "stdout",
          "text": [
            "[[0 1 2]\n",
            " [3 4 5]\n",
            " [6 7 8]\n",
            " [8 7 6]\n",
            " [5 4 3]\n",
            " [2 1 0]] (6, 3)\n"
          ]
        }
      ],
      "source": [
        "c=np.row_stack((a, b))  # vstack\n",
        "print(c, c.shape)"
      ]
    },
    {
      "cell_type": "code",
      "execution_count": 139,
      "metadata": {
        "colab": {
          "base_uri": "https://localhost:8080/"
        },
        "id": "JczZbaZTjgqP",
        "outputId": "b6b46b70-539d-4f4c-b540-15aebcc6a4a5"
      },
      "outputs": [
        {
          "output_type": "stream",
          "name": "stdout",
          "text": [
            "[[0 1 2]\n",
            " [3 4 5]\n",
            " [6 7 8]\n",
            " [8 7 6]\n",
            " [5 4 3]\n",
            " [2 1 0]] (6, 3)\n"
          ]
        }
      ],
      "source": [
        "x=np.concatenate((a, b), axis=0)\n",
        "print(x, x.shape)"
      ]
    },
    {
      "cell_type": "markdown",
      "metadata": {
        "id": "rbZHGTo2jjZx"
      },
      "source": [
        "###열 방향으로 합치기"
      ]
    },
    {
      "cell_type": "code",
      "execution_count": 140,
      "metadata": {
        "colab": {
          "base_uri": "https://localhost:8080/"
        },
        "id": "t0NMH0trjllp",
        "outputId": "42389eda-b4f3-4bb9-9b65-feede5b0620a"
      },
      "outputs": [
        {
          "output_type": "stream",
          "name": "stdout",
          "text": [
            "[[0 1 2 8 7 6]\n",
            " [3 4 5 5 4 3]\n",
            " [6 7 8 2 1 0]] (3, 6)\n"
          ]
        }
      ],
      "source": [
        "r=np.hstack((a, b))\n",
        "print(r, r.shape)"
      ]
    },
    {
      "cell_type": "code",
      "execution_count": 141,
      "metadata": {
        "colab": {
          "base_uri": "https://localhost:8080/"
        },
        "id": "4vDyI8Xfjn-D",
        "outputId": "af149590-1da7-4d79-d275-02612d6ec9c9"
      },
      "outputs": [
        {
          "output_type": "stream",
          "name": "stdout",
          "text": [
            "[[0 1 2 8 7 6]\n",
            " [3 4 5 5 4 3]\n",
            " [6 7 8 2 1 0]] (3, 6)\n"
          ]
        }
      ],
      "source": [
        "c=np.column_stack((a, b))\n",
        "print(c, c.shape)"
      ]
    },
    {
      "cell_type": "code",
      "execution_count": 142,
      "metadata": {
        "colab": {
          "base_uri": "https://localhost:8080/"
        },
        "id": "8GbPTAq5jqId",
        "outputId": "efa00e27-0648-4f1e-8122-4814972e4812"
      },
      "outputs": [
        {
          "output_type": "stream",
          "name": "stdout",
          "text": [
            "[[0 1 2 8 7 6]\n",
            " [3 4 5 5 4 3]\n",
            " [6 7 8 2 1 0]] (3, 6)\n"
          ]
        }
      ],
      "source": [
        "x=np.concatenate((a, b), axis=1)\n",
        "print(x, x.shape)"
      ]
    },
    {
      "cell_type": "markdown",
      "metadata": {
        "id": "WMz5Ypz-jsVj"
      },
      "source": [
        "###행 단위로 분할하기"
      ]
    },
    {
      "cell_type": "code",
      "execution_count": 144,
      "metadata": {
        "colab": {
          "base_uri": "https://localhost:8080/"
        },
        "id": "LbC0G7_LjuSv",
        "outputId": "4f8320d5-b4f5-4302-dddd-e070a6ee1ecb"
      },
      "outputs": [
        {
          "output_type": "stream",
          "name": "stdout",
          "text": [
            "[[ 0  1  2]\n",
            " [ 3  4  5]\n",
            " [ 6  7  8]\n",
            " [ 9 10 11]]\n"
          ]
        }
      ],
      "source": [
        "a=np.arange(12).reshape(4, 3)\n",
        "print(a)"
      ]
    },
    {
      "cell_type": "code",
      "execution_count": 147,
      "metadata": {
        "colab": {
          "base_uri": "https://localhost:8080/"
        },
        "id": "9Lnt1FUdjwx7",
        "outputId": "ef6b3fb6-657f-4ac8-a54c-03418aff5b2e"
      },
      "outputs": [
        {
          "output_type": "stream",
          "name": "stdout",
          "text": [
            "[array([[0, 1, 2]]), array([[3, 4, 5]]), array([[6, 7, 8]]), array([[ 9, 10, 11]])]\n"
          ]
        }
      ],
      "source": [
        "print(np.vsplit(a, 4))"
      ]
    },
    {
      "cell_type": "code",
      "execution_count": null,
      "metadata": {
        "colab": {
          "base_uri": "https://localhost:8080/"
        },
        "id": "4UBbM04Wjy0w",
        "outputId": "6e523f20-177d-4632-9697-5bae2b33c354"
      },
      "outputs": [
        {
          "name": "stdout",
          "output_type": "stream",
          "text": [
            "[array([[0, 1, 2]]), array([[3, 4, 5]]), array([[6, 7, 8]]), array([[ 9, 10, 11]])]\n"
          ]
        }
      ],
      "source": [
        "print(np.split(a, 4, axis=0))"
      ]
    },
    {
      "cell_type": "code",
      "execution_count": null,
      "metadata": {
        "id": "OE9bIQlEHeTu",
        "outputId": "c9c7b5b9-cc8e-4c84-a152-42b3c6ca34dd"
      },
      "outputs": [
        {
          "name": "stdout",
          "output_type": "stream",
          "text": [
            "[[0 1 2]] [[3 4 5]] [[6 7 8]] [[ 9 10 11]]\n"
          ]
        }
      ],
      "source": [
        "print(a[0:1], a[1:2], a[2:3], a[3:])"
      ]
    },
    {
      "cell_type": "markdown",
      "metadata": {
        "id": "e763zX5xj1IE"
      },
      "source": [
        "###열 단위로 분할하기"
      ]
    },
    {
      "cell_type": "code",
      "execution_count": null,
      "metadata": {
        "colab": {
          "base_uri": "https://localhost:8080/"
        },
        "id": "bUQHkFg0j3Xn",
        "outputId": "29c37f44-b08b-4e83-cab1-b02758859fa9"
      },
      "outputs": [
        {
          "name": "stdout",
          "output_type": "stream",
          "text": [
            "[[ 0  1  2  3]\n",
            " [ 4  5  6  7]\n",
            " [ 8  9 10 11]]\n"
          ]
        }
      ],
      "source": [
        "a=np.arange(12).reshape(3, 4)\n",
        "print(a)"
      ]
    },
    {
      "cell_type": "code",
      "execution_count": null,
      "metadata": {
        "colab": {
          "base_uri": "https://localhost:8080/"
        },
        "id": "dKYbGNpZj5U4",
        "outputId": "018b61b3-6d94-4f0a-a3e8-fb0803c50635"
      },
      "outputs": [
        {
          "name": "stdout",
          "output_type": "stream",
          "text": [
            "[array([[0],\n",
            "       [4],\n",
            "       [8]]), array([[1],\n",
            "       [5],\n",
            "       [9]]), array([[ 2],\n",
            "       [ 6],\n",
            "       [10]]), array([[ 3],\n",
            "       [ 7],\n",
            "       [11]])]\n"
          ]
        }
      ],
      "source": [
        "print(np.hsplit(a, 4))"
      ]
    },
    {
      "cell_type": "code",
      "execution_count": null,
      "metadata": {
        "colab": {
          "base_uri": "https://localhost:8080/"
        },
        "id": "B3ZJI1Flj7IW",
        "outputId": "86f5db73-ed5b-4851-8b4c-0af459a86f9d"
      },
      "outputs": [
        {
          "name": "stdout",
          "output_type": "stream",
          "text": [
            "[array([[0],\n",
            "       [4],\n",
            "       [8]]), array([[1],\n",
            "       [5],\n",
            "       [9]]), array([[ 2],\n",
            "       [ 6],\n",
            "       [10]]), array([[ 3],\n",
            "       [ 7],\n",
            "       [11]])]\n"
          ]
        }
      ],
      "source": [
        "print(np.split(a, 4, axis=1))"
      ]
    },
    {
      "cell_type": "markdown",
      "metadata": {
        "id": "TCw6pPATj94A"
      },
      "source": [
        "#Section 03. 배열의 인덱싱과 슬라이싱\n",
        "##1. 1차원 배열의 인덱싱과 슬라이싱"
      ]
    },
    {
      "cell_type": "code",
      "execution_count": null,
      "metadata": {
        "colab": {
          "base_uri": "https://localhost:8080/"
        },
        "id": "Obf1ZLI2kEP4",
        "outputId": "fd093942-a922-4148-ced7-46c0cfddf10e"
      },
      "outputs": [
        {
          "name": "stdout",
          "output_type": "stream",
          "text": [
            "[0 1 2 3 4 5] (6,)\n"
          ]
        }
      ],
      "source": [
        "d=np.arange(6)\n",
        "print(d, d.shape)"
      ]
    },
    {
      "cell_type": "code",
      "execution_count": null,
      "metadata": {
        "colab": {
          "base_uri": "https://localhost:8080/"
        },
        "id": "T2BLA4tHkH0P",
        "outputId": "74bbf5c4-6ae5-4dc5-8c60-311bb3c878d1"
      },
      "outputs": [
        {
          "name": "stdout",
          "output_type": "stream",
          "text": [
            "0 1 2 5 4\n"
          ]
        }
      ],
      "source": [
        "# 1차원 배열의 인덱싱\n",
        "print(d[0], d[1], d[2], d[-1], d[-2])"
      ]
    },
    {
      "cell_type": "code",
      "execution_count": null,
      "metadata": {
        "colab": {
          "base_uri": "https://localhost:8080/"
        },
        "id": "pDBrTBkbkKBG",
        "outputId": "23dd9250-fa3d-4291-dabd-973d47c30a83"
      },
      "outputs": [
        {
          "name": "stdout",
          "output_type": "stream",
          "text": [
            "[2] [0 1 2 3 4 5] [0 1 2 3 4]\n",
            "[0 2 4] [5 4 3 2 1 0]\n",
            "[10  1  2  3  4  5]\n"
          ]
        }
      ],
      "source": [
        "# 1차원 배열의 슬라이싱\n",
        "print(d[2:3], d[:], d[:-1])\n",
        "print(d[::2], d[::-1])\n",
        "d[0]=10 # 요소 값 변경\n",
        "print(d)"
      ]
    },
    {
      "cell_type": "markdown",
      "metadata": {
        "id": "NXFZ4mlUkNVI"
      },
      "source": [
        "##2. 2차원 배열의 인덱싱과 슬라이싱\n"
      ]
    },
    {
      "cell_type": "code",
      "execution_count": null,
      "metadata": {
        "colab": {
          "base_uri": "https://localhost:8080/"
        },
        "id": "QRknWj42kQA6",
        "outputId": "d912be23-6f48-434a-99b0-0d0de07f2f35"
      },
      "outputs": [
        {
          "name": "stdout",
          "output_type": "stream",
          "text": [
            "[[ 0  1  2  3]\n",
            " [ 4  5  6  7]\n",
            " [ 8  9 10 11]] (3, 4)\n"
          ]
        }
      ],
      "source": [
        "d=np.arange(12).reshape(3, 4)\n",
        "print(d, d.shape)"
      ]
    },
    {
      "cell_type": "code",
      "execution_count": null,
      "metadata": {
        "colab": {
          "base_uri": "https://localhost:8080/"
        },
        "id": "hc-apYFykSOb",
        "outputId": "a230da6a-bf95-442a-8c91-ef684c34fae1"
      },
      "outputs": [
        {
          "name": "stdout",
          "output_type": "stream",
          "text": [
            "0\n",
            "0\n",
            "9\n"
          ]
        }
      ],
      "source": [
        "# 2차원 배열의 인덱싱\n",
        "print(d[0][0]) # 배열명[행][열] 형태\n",
        "print(d[0,0]) # 배열명[행,열] 형태\n",
        "print(d[2,1])"
      ]
    },
    {
      "cell_type": "code",
      "execution_count": null,
      "metadata": {
        "colab": {
          "base_uri": "https://localhost:8080/"
        },
        "id": "n-eJ-a0VkU6X",
        "outputId": "1639adb9-5e47-490b-9b0b-bc53634ecdf6"
      },
      "outputs": [
        {
          "name": "stdout",
          "output_type": "stream",
          "text": [
            "[0 1 2 3]\n",
            "[0 1 2 3]\n",
            "[[ 0  1  2]\n",
            " [ 4  5  6]\n",
            " [ 8  9 10]]\n",
            "[[ 0  2]\n",
            " [ 8 10]]\n"
          ]
        }
      ],
      "source": [
        "# 2차원 배열의 슬라이싱\n",
        "print(d[0]) # 0행만 슬라이싱\n",
        "print(d[0,:]) # 0행의 전체 열 슬라이싱\n",
        "print(d[:,:-1]) # 마지막 열 제외한 전체 행과 열 슬라이싱\n",
        "print(d[::2,::2]) # 2행 2열 간격으로 전체 행과 열 슬라이싱"
      ]
    },
    {
      "cell_type": "code",
      "execution_count": null,
      "metadata": {
        "colab": {
          "base_uri": "https://localhost:8080/"
        },
        "id": "fNxaz2XZkXFT",
        "outputId": "30d5fb9a-fa21-4c59-adff-0131d14f1027"
      },
      "outputs": [
        {
          "name": "stdout",
          "output_type": "stream",
          "text": [
            "[[20 20 20 20]\n",
            " [ 4  5  6  7]\n",
            " [ 8  9 10 11]]\n"
          ]
        }
      ],
      "source": [
        "d[0]=20 # 0번 행 요소를 모두 20으로 변경\n",
        "print(d)"
      ]
    },
    {
      "cell_type": "code",
      "execution_count": null,
      "metadata": {
        "colab": {
          "base_uri": "https://localhost:8080/"
        },
        "id": "M5n0r_TkkY2A",
        "outputId": "2cde3552-519e-4dfb-c5b9-fa1298aae054"
      },
      "outputs": [
        {
          "name": "stdout",
          "output_type": "stream",
          "text": [
            "[[30 30]\n",
            " [30 30]]\n",
            "[[30 20 20 30]\n",
            " [ 4  5  6  7]\n",
            " [30  9 10 30]]\n"
          ]
        }
      ],
      "source": [
        "d[::2,::3]=30 # 슬라이싱된 요소값을 한꺼번에 변경\n",
        "print(d[::2,::3])\n",
        "print(d)"
      ]
    },
    {
      "cell_type": "code",
      "execution_count": null,
      "metadata": {
        "colab": {
          "base_uri": "https://localhost:8080/"
        },
        "id": "7PvFXxSqkawa",
        "outputId": "54746968-34b9-4cf4-85c0-657c10ad0f33"
      },
      "outputs": [
        {
          "name": "stdout",
          "output_type": "stream",
          "text": [
            "[[-1 -1 -1 -1]\n",
            " [-1 -1 -1 -1]\n",
            " [-1 -1 -1 -1]]\n"
          ]
        }
      ],
      "source": [
        "d[:,:]=-1 # 전체 요소값을 한꺼번에 변경\n",
        "print(d)"
      ]
    },
    {
      "cell_type": "markdown",
      "metadata": {
        "id": "74xtrfuckcsM"
      },
      "source": [
        "##3. 3차원 배열의 인덱싱과 슬라이싱"
      ]
    },
    {
      "cell_type": "code",
      "execution_count": null,
      "metadata": {
        "colab": {
          "base_uri": "https://localhost:8080/"
        },
        "id": "GWqcdZfPkgxo",
        "outputId": "910653b7-2239-419b-ed76-bdffa439b30b"
      },
      "outputs": [
        {
          "name": "stdout",
          "output_type": "stream",
          "text": [
            "[[[ 0  1  2]\n",
            "  [ 3  4  5]]\n",
            "\n",
            " [[ 6  7  8]\n",
            "  [ 9 10 11]]] (2, 2, 3)\n"
          ]
        }
      ],
      "source": [
        "d=np.arange(12).reshape(2, 2, 3)\n",
        "print(d, d.shape)"
      ]
    },
    {
      "cell_type": "code",
      "execution_count": null,
      "metadata": {
        "colab": {
          "base_uri": "https://localhost:8080/"
        },
        "id": "YWqs7Osiki1r",
        "outputId": "1b3a1297-4edd-4d7b-b6f1-7f5727d41c5d"
      },
      "outputs": [
        {
          "name": "stdout",
          "output_type": "stream",
          "text": [
            "0\n",
            "0\n",
            "5\n"
          ]
        }
      ],
      "source": [
        "# 3차원 배열의 인덱싱\n",
        "print(d[0][0][0]) # 0면 0행 0열 인덱싱\n",
        "print(d[0, 0, 0]) # 0면 0행 0열 인덱싱\n",
        "print(d[0, 1, 2]) # 0면 1행 2열 인덱싱"
      ]
    },
    {
      "cell_type": "code",
      "execution_count": null,
      "metadata": {
        "colab": {
          "base_uri": "https://localhost:8080/"
        },
        "id": "d4QDj3gMkk6k",
        "outputId": "7d931625-fc6c-4c33-aafe-4a9b35e1c551"
      },
      "outputs": [
        {
          "name": "stdout",
          "output_type": "stream",
          "text": [
            "[[[0 1]]\n",
            "\n",
            " [[6 7]]]\n"
          ]
        }
      ],
      "source": [
        "# 3차원 배열의 슬라이싱\n",
        "print(d[:,:-1,:-1])"
      ]
    },
    {
      "cell_type": "code",
      "execution_count": null,
      "metadata": {
        "colab": {
          "base_uri": "https://localhost:8080/"
        },
        "id": "kLplg9zbknMv",
        "outputId": "af07e97f-b64e-4632-997b-03c35a56c4a9"
      },
      "outputs": [
        {
          "name": "stdout",
          "output_type": "stream",
          "text": [
            "[[[ 4  5]]\n",
            "\n",
            " [[10 11]]]\n"
          ]
        }
      ],
      "source": [
        "print(d[:,1:,1:])"
      ]
    },
    {
      "cell_type": "code",
      "execution_count": null,
      "metadata": {
        "colab": {
          "base_uri": "https://localhost:8080/"
        },
        "id": "ZvjUwoJ3ko6Z",
        "outputId": "5574dd1e-520d-43d4-e76e-aa9f5b731e0f"
      },
      "outputs": [
        {
          "name": "stdout",
          "output_type": "stream",
          "text": [
            "[[ 2  5]\n",
            " [ 8 11]]\n"
          ]
        }
      ],
      "source": [
        "print(d[:,:,-1])"
      ]
    },
    {
      "cell_type": "code",
      "execution_count": null,
      "metadata": {
        "colab": {
          "base_uri": "https://localhost:8080/"
        },
        "id": "5AWxnRh6kqYC",
        "outputId": "bf62bbcc-1859-4776-c008-69e9fa988eec"
      },
      "outputs": [
        {
          "name": "stdout",
          "output_type": "stream",
          "text": [
            "[ 5 11]\n",
            "11\n"
          ]
        }
      ],
      "source": [
        "print(d[:,-1,-1])\n",
        "print(d[-1,-1,-1])"
      ]
    },
    {
      "cell_type": "code",
      "execution_count": null,
      "metadata": {
        "colab": {
          "base_uri": "https://localhost:8080/"
        },
        "id": "bftSa0AXkz7I",
        "outputId": "81faec14-083e-46a0-d0c6-119be88b4622"
      },
      "outputs": [
        {
          "name": "stdout",
          "output_type": "stream",
          "text": [
            "[ 0  1  2  3  4  5  6  7  8  9 10 11] (12,)\n",
            "0\n",
            "[0]\n"
          ]
        }
      ],
      "source": [
        "a=np.arange(12)\n",
        "print(a, a.shape)\n",
        "print(a[0]) # 스칼라\n",
        "print(a[0:1]) # 배열(ndarray)"
      ]
    },
    {
      "cell_type": "code",
      "source": [
        "# 연습\n",
        "# ndarray  reshape, 합치기, 전치, 슬라이싱\n",
        "# 1. (4,3) ndarray 생성 a\n",
        "# 2. (2,2,3) 변경 c\n",
        "# 3. (4,3) ndarray 생성 b\n",
        "# 4. a,b를 row / column 기준으로 합치기\n",
        "# 5. 슬라이싱\n",
        "# 6. 행만 역순으로, 열만 역순으로, 전체 역순으로"
      ],
      "metadata": {
        "id": "EkqQmLlAe1Lc"
      },
      "execution_count": null,
      "outputs": []
    },
    {
      "cell_type": "markdown",
      "metadata": {
        "id": "8Dz-NXPZk2Qt"
      },
      "source": [
        "##4. 불 인덱싱"
      ]
    },
    {
      "cell_type": "code",
      "execution_count": 151,
      "metadata": {
        "colab": {
          "base_uri": "https://localhost:8080/"
        },
        "id": "ZaYhOLuuk7ks",
        "outputId": "5d6c973d-8100-4643-a2f7-a02bf8945f52"
      },
      "outputs": [
        {
          "output_type": "stream",
          "name": "stdout",
          "text": [
            "[0 1 2 3 4 5 6]\n"
          ]
        }
      ],
      "source": [
        "import numpy as np\n",
        "a=np.array([0,1, 2, 3, 4, 5, 6])\n",
        "print(a)"
      ]
    },
    {
      "cell_type": "code",
      "execution_count": 152,
      "metadata": {
        "colab": {
          "base_uri": "https://localhost:8080/"
        },
        "id": "dPdbFbKnk9wf",
        "outputId": "062a573b-47ff-4154-f4ac-b841a011e0e9"
      },
      "outputs": [
        {
          "output_type": "stream",
          "name": "stdout",
          "text": [
            "[False False False  True  True  True  True]\n"
          ]
        }
      ],
      "source": [
        "print(a>2)"
      ]
    },
    {
      "cell_type": "code",
      "execution_count": 150,
      "metadata": {
        "colab": {
          "base_uri": "https://localhost:8080/"
        },
        "id": "4EJdUnOBk_js",
        "outputId": "883ded18-0490-4d30-ceb7-095d85d0c5de"
      },
      "outputs": [
        {
          "output_type": "stream",
          "name": "stdout",
          "text": [
            "[3 4 5 6]\n"
          ]
        }
      ],
      "source": [
        "print(a[a>2])"
      ]
    },
    {
      "cell_type": "markdown",
      "metadata": {
        "id": "DeYAZt8dlBQE"
      },
      "source": [
        "##5. 조건 필터"
      ]
    },
    {
      "cell_type": "code",
      "execution_count": 173,
      "metadata": {
        "colab": {
          "base_uri": "https://localhost:8080/"
        },
        "id": "bzd2PpculD0N",
        "outputId": "d0f36cc7-684c-4885-ad72-938a5c01ff6e"
      },
      "outputs": [
        {
          "output_type": "execute_result",
          "data": {
            "text/plain": [
              "array([False, False, False,  True,  True,  True,  True])"
            ]
          },
          "metadata": {},
          "execution_count": 173
        }
      ],
      "source": [
        "a=np.array([0,1, 2, 3, 4, 5, 6])\n",
        "result=a>2\n",
        "result"
      ]
    },
    {
      "cell_type": "code",
      "execution_count": 174,
      "metadata": {
        "colab": {
          "base_uri": "https://localhost:8080/"
        },
        "id": "lFWW6j0GlF1O",
        "outputId": "329280d4-c14b-45b1-f625-95bb6c5c520a"
      },
      "outputs": [
        {
          "output_type": "execute_result",
          "data": {
            "text/plain": [
              "array([3, 4, 5, 6])"
            ]
          },
          "metadata": {},
          "execution_count": 174
        }
      ],
      "source": [
        "a[a>2]"
      ]
    },
    {
      "cell_type": "code",
      "execution_count": 175,
      "metadata": {
        "colab": {
          "base_uri": "https://localhost:8080/"
        },
        "id": "YdePnHtslH1m",
        "outputId": "07fa87c7-aa38-43c4-cf36-766a03159431"
      },
      "outputs": [
        {
          "output_type": "execute_result",
          "data": {
            "text/plain": [
              "array([0, 1, 2, 4, 5, 6])"
            ]
          },
          "metadata": {},
          "execution_count": 175
        }
      ],
      "source": [
        "a[a!=3]"
      ]
    },
    {
      "cell_type": "code",
      "execution_count": 176,
      "metadata": {
        "colab": {
          "base_uri": "https://localhost:8080/"
        },
        "id": "RmX2KeLclJ5q",
        "outputId": "ac1179fe-7d2b-410b-a586-65b3a3977de0"
      },
      "outputs": [
        {
          "output_type": "stream",
          "name": "stdout",
          "text": [
            "[3 4 5]\n",
            "[0 2 4 6]\n",
            "[0 1 2]\n"
          ]
        }
      ],
      "source": [
        "print(a[(a>2) & (a<6)]) # 2보다 크고 6보다 작은 요소만 추출\n",
        "print(a[a % 2==0]) # 2로 나눈 나머지가 0인 요소만 추출\n",
        "print(a[a<a.mean( )]) # 평균보다 작은 값만 추출"
      ]
    },
    {
      "cell_type": "code",
      "execution_count": 177,
      "metadata": {
        "colab": {
          "base_uri": "https://localhost:8080/"
        },
        "id": "AoVpO58KlMQv",
        "outputId": "416aad4f-92d0-472a-87f9-e314922516dc"
      },
      "outputs": [
        {
          "output_type": "stream",
          "name": "stdout",
          "text": [
            "[[0 1 2 3 4 5 6]]\n",
            "[]\n"
          ]
        }
      ],
      "source": [
        "print(a[True])  #[True,True,True,True,True,True]\n",
        "print(a[False]) #[False,False,False,False,False,False]"
      ]
    },
    {
      "cell_type": "code",
      "source": [
        "#1, 0~100 사이의 임의의 숫자 20개를 만들어서 출력하고 그중에 3 5 7의 배수만 출력\n",
        "# np.random.seed(10)\n",
        "a=np.random.randint(0, 100, 20)\n",
        "print(a)\n",
        "condition = (a % 3 == 0) | (a % 5 == 0) | (a % 7 == 0)\n",
        "print(a[condition])\n",
        "#2, 특정범위의 값 선택  25<= x <=50\n",
        "condition = (25<= a) & (a <=50)\n",
        "print(a[condition])"
      ],
      "metadata": {
        "colab": {
          "base_uri": "https://localhost:8080/"
        },
        "id": "paIbsZqajNNt",
        "outputId": "84b481d2-3511-4b38-bbb5-3113711e9ee1"
      },
      "execution_count": 178,
      "outputs": [
        {
          "output_type": "stream",
          "name": "stdout",
          "text": [
            "[28 30 89 25 78 81 85 62 13 41 33  4 87 94 28 39 91  9  7 22]\n",
            "[28 30 25 78 81 85 33 87 28 39 91  9  7]\n",
            "[28 30 25 41 33 28 39]\n"
          ]
        }
      ]
    },
    {
      "cell_type": "code",
      "source": [
        "#질문\n",
        "# 논리 연산에서 and 와 or는 좌우 피 연산자가 단일값\n",
        "#  Ex  True and Fals\n",
        "# &  |  는 리스트형식의 true false를 각각 1:1로 연산\n",
        "import random\n",
        "a = np.array([random.randint(0,100) for i in range(20)])\n",
        "# print(a)\n",
        "# print(a % 3 == 0)\n",
        "# print(a % 5 == 0)\n",
        "np.any(a % 3 == 0),  np.all(a % 3 == 0), (a % 3 == 0).any(), (a % 3 == 0).all()\n",
        "\n",
        "# print(a[(a % 3 == 0) or (a % 5 == 0) or (a % 7 == 0)])\n",
        "# print(a[(a % 3 == 0) | (a % 5 == 0) | (a % 7 == 0)])  # 가능\n",
        "# print(a[a>a.mean()])\n"
      ],
      "metadata": {
        "colab": {
          "base_uri": "https://localhost:8080/"
        },
        "id": "1OAkvxb6jNU0",
        "outputId": "7d66a3f2-d364-4b60-faa9-a609f20ce023"
      },
      "execution_count": 192,
      "outputs": [
        {
          "output_type": "execute_result",
          "data": {
            "text/plain": [
              "(True, False, True, False)"
            ]
          },
          "metadata": {},
          "execution_count": 192
        }
      ]
    },
    {
      "cell_type": "code",
      "source": [
        "# axis는 행 렬 을 나타내는데.. axis가 적용된 함수는 우리가 생각하는 행 렬 의 반대 즉동작일때는 반대\n",
        "# axis=(1,2)\n",
        "\n",
        "# 2차원 배열에서 0이 하나라도  있으면  True\n",
        "temp = np.random.randint(0, 10, 20).reshape(4, 5)\n",
        "print(temp == 0)\n",
        "(temp == 0).any()\n",
        "# 행 렬 별로 any를 할수 있다. axis=0 행별로  vstack  row_stack\n",
        "print( (temp == 0).any(axis=0) )\n",
        "print( (temp == 0).any(axis=1) )  # 열별로 hstack.. column_stack"
      ],
      "metadata": {
        "colab": {
          "base_uri": "https://localhost:8080/"
        },
        "id": "xU0UGmFipT5W",
        "outputId": "eed486c0-afbf-4a71-98aa-588b7f08ddde"
      },
      "execution_count": 208,
      "outputs": [
        {
          "output_type": "stream",
          "name": "stdout",
          "text": [
            "[[False False False False False]\n",
            " [False False False False False]\n",
            " [False False False False False]\n",
            " [False False False False False]]\n",
            "[False False False False False]\n",
            "[False False False False]\n"
          ]
        }
      ]
    },
    {
      "cell_type": "code",
      "source": [
        "test1 = np.array([True,False])\n",
        "test2 = np.array([True,True])\n",
        "print(True and False)\n",
        "print(test1 & test2)"
      ],
      "metadata": {
        "colab": {
          "base_uri": "https://localhost:8080/"
        },
        "id": "-ss7zORnocGN",
        "outputId": "a39df3fd-24f4-4b02-d91f-829e3df25017"
      },
      "execution_count": 199,
      "outputs": [
        {
          "output_type": "stream",
          "name": "stdout",
          "text": [
            "False\n",
            "[ True False]\n"
          ]
        }
      ]
    },
    {
      "cell_type": "code",
      "source": [],
      "metadata": {
        "id": "_qIshIXSjNcQ"
      },
      "execution_count": null,
      "outputs": []
    },
    {
      "cell_type": "markdown",
      "metadata": {
        "id": "7_UxtImclQQO"
      },
      "source": [
        "#Section 04. 넘파이 배열의 정렬\n",
        "##1 기본 정렬: sort 함수"
      ]
    },
    {
      "cell_type": "code",
      "execution_count": null,
      "metadata": {
        "colab": {
          "base_uri": "https://localhost:8080/"
        },
        "id": "C5JAjgpOlcsq",
        "outputId": "58303596-712d-4b41-bc19-705180eee68d"
      },
      "outputs": [
        {
          "name": "stdout",
          "output_type": "stream",
          "text": [
            "[2 8 9 7 3 1 4 5 6] (9,)\n",
            "[1 2 3 4 5 6 7 8 9] [2 8 9 7 3 1 4 5 6]\n"
          ]
        }
      ],
      "source": [
        "a=np.array([2, 8, 9, 7, 3, 1, 4, 5, 6])\n",
        "print(a, a.shape)\n",
        "r=np.sort(a) # 원본 변경 없이 오름차순 정렬\n",
        "print(r, a)"
      ]
    },
    {
      "cell_type": "code",
      "execution_count": null,
      "metadata": {
        "colab": {
          "base_uri": "https://localhost:8080/"
        },
        "id": "amO84Kk5le_J",
        "outputId": "09b8a259-1d81-49f7-c318-b73e6e77ecba"
      },
      "outputs": [
        {
          "name": "stdout",
          "output_type": "stream",
          "text": [
            "[1 2 3 4 5 6 7 8 9]\n"
          ]
        }
      ],
      "source": [
        "# 오름차순 정렬\n",
        "a.sort()\n",
        "print(a)"
      ]
    },
    {
      "cell_type": "code",
      "execution_count": null,
      "metadata": {
        "colab": {
          "base_uri": "https://localhost:8080/"
        },
        "id": "K3pVEjLolhFC",
        "outputId": "86c92f7b-a0aa-4e2d-fee2-25a53b709827"
      },
      "outputs": [
        {
          "name": "stdout",
          "output_type": "stream",
          "text": [
            "[9 8 7 6 5 4 3 2 1]\n"
          ]
        }
      ],
      "source": [
        "# 내림차순 정렬\n",
        "r=np.sort(a)[::-1]\n",
        "print(r)"
      ]
    },
    {
      "cell_type": "markdown",
      "metadata": {
        "id": "mhB898x9ljoG"
      },
      "source": [
        "##2. 인덱스 반환 정렬: argsort 함수"
      ]
    },
    {
      "cell_type": "code",
      "execution_count": null,
      "metadata": {
        "colab": {
          "base_uri": "https://localhost:8080/"
        },
        "id": "qjZSCP25lm64",
        "outputId": "daef6b9d-293b-45f9-8523-988321bfb02a"
      },
      "outputs": [
        {
          "name": "stdout",
          "output_type": "stream",
          "text": [
            "[2 8 9 7 3 1 4 5 6] (9,)\n"
          ]
        }
      ],
      "source": [
        "a=np.array([2, 8, 9, 7, 3, 1, 4, 5, 6])\n",
        "print(a, a.shape)"
      ]
    },
    {
      "cell_type": "code",
      "execution_count": null,
      "metadata": {
        "colab": {
          "base_uri": "https://localhost:8080/"
        },
        "id": "EyeeMrQblpND",
        "outputId": "b54c0214-bc8f-4fb3-89c6-51f66015d041"
      },
      "outputs": [
        {
          "data": {
            "text/plain": [
              "array([5, 0, 4, 6, 7, 8, 3, 1, 2], dtype=int64)"
            ]
          },
          "execution_count": 93,
          "metadata": {},
          "output_type": "execute_result"
        }
      ],
      "source": [
        "np.argsort(a)"
      ]
    },
    {
      "cell_type": "code",
      "execution_count": null,
      "metadata": {
        "colab": {
          "base_uri": "https://localhost:8080/"
        },
        "id": "bEt8HFTAlrMl",
        "outputId": "041a4cb0-d731-4e1e-bf5a-0a098620c7e1"
      },
      "outputs": [
        {
          "name": "stdout",
          "output_type": "stream",
          "text": [
            "[5 0 4 6 7 8 3 1 2]\n"
          ]
        }
      ],
      "source": [
        "sort_index=np.argsort(a)\n",
        "print(sort_index)"
      ]
    },
    {
      "cell_type": "markdown",
      "metadata": {
        "id": "s1LMao5iluWI"
      },
      "source": [
        "##3. 2차원 배열의 정렬"
      ]
    },
    {
      "cell_type": "code",
      "execution_count": null,
      "metadata": {
        "colab": {
          "base_uri": "https://localhost:8080/"
        },
        "id": "zXZDLXNElxCn",
        "outputId": "2b21b17d-5882-47af-cf01-422de281833d"
      },
      "outputs": [
        {
          "name": "stdout",
          "output_type": "stream",
          "text": [
            "[[ 5  6  7  8]\n",
            " [ 4  3  2  1]\n",
            " [10  9 12 11]]\n",
            "(3, 4)\n"
          ]
        }
      ],
      "source": [
        "arr2d=np.array([[5, 6, 7, 8],\n",
        " [4, 3, 2, 1],\n",
        " [10, 9, 12, 11]])\n",
        "print(arr2d)\n",
        "print(arr2d.shape)"
      ]
    },
    {
      "cell_type": "code",
      "execution_count": null,
      "metadata": {
        "colab": {
          "base_uri": "https://localhost:8080/"
        },
        "id": "1rHOQuqElzom",
        "outputId": "7cf94bbf-c05a-41a9-d7a4-6e114cf4c61b"
      },
      "outputs": [
        {
          "data": {
            "text/plain": [
              "array([[ 5,  6,  7,  8],\n",
              "       [ 1,  2,  3,  4],\n",
              "       [ 9, 10, 11, 12]])"
            ]
          },
          "execution_count": 96,
          "metadata": {},
          "output_type": "execute_result"
        }
      ],
      "source": [
        "# 열 방향으로 같은 행의 요소 정렬\n",
        "np.sort(arr2d, axis=1)"
      ]
    },
    {
      "cell_type": "code",
      "execution_count": null,
      "metadata": {
        "colab": {
          "base_uri": "https://localhost:8080/"
        },
        "id": "Rp1xNCTzl1dJ",
        "outputId": "de55e717-36f0-4483-d961-7d0a3159a9ac"
      },
      "outputs": [
        {
          "data": {
            "text/plain": [
              "array([[ 4,  3,  2,  1],\n",
              "       [ 5,  6,  7,  8],\n",
              "       [10,  9, 12, 11]])"
            ]
          },
          "execution_count": 97,
          "metadata": {},
          "output_type": "execute_result"
        }
      ],
      "source": [
        "# 행 방향으로 같은 열의 요소 정렬\n",
        "np.sort(arr2d, axis=0)"
      ]
    },
    {
      "cell_type": "code",
      "execution_count": null,
      "metadata": {
        "colab": {
          "base_uri": "https://localhost:8080/"
        },
        "id": "XEKPcHkul3ZW",
        "outputId": "e065b844-6c72-4d89-f9e8-9393b14968e9"
      },
      "outputs": [
        {
          "name": "stdout",
          "output_type": "stream",
          "text": [
            "[[ 5  6  7  8]\n",
            " [ 4  3  2  1]\n",
            " [10  9 12 11]]\n",
            "[[ 5  6  7  8]\n",
            " [ 1  2  3  4]\n",
            " [ 9 10 11 12]]\n"
          ]
        },
        {
          "data": {
            "text/plain": [
              "array([[0, 1, 2, 3],\n",
              "       [3, 2, 1, 0],\n",
              "       [1, 0, 3, 2]], dtype=int64)"
            ]
          },
          "execution_count": 98,
          "metadata": {},
          "output_type": "execute_result"
        }
      ],
      "source": [
        "# 열 방향으로 같은 행 정렬\n",
        "print(arr2d)\n",
        "print(np.sort(arr2d))\n",
        "np.argsort(arr2d, axis=1)"
      ]
    },
    {
      "cell_type": "code",
      "execution_count": null,
      "metadata": {
        "colab": {
          "base_uri": "https://localhost:8080/"
        },
        "id": "u9VRQzgvl6N0",
        "outputId": "e74fdf69-17bd-41aa-f90e-9c2b92ce5290"
      },
      "outputs": [
        {
          "name": "stdout",
          "output_type": "stream",
          "text": [
            "[[ 5  6  7  8]\n",
            " [ 4  3  2  1]\n",
            " [10  9 12 11]]\n",
            "[[ 4  3  2  1]\n",
            " [ 5  6  7  8]\n",
            " [10  9 12 11]]\n"
          ]
        },
        {
          "data": {
            "text/plain": [
              "array([[1, 1, 1, 1],\n",
              "       [0, 0, 0, 0],\n",
              "       [2, 2, 2, 2]], dtype=int64)"
            ]
          },
          "execution_count": 99,
          "metadata": {},
          "output_type": "execute_result"
        }
      ],
      "source": [
        "# 행 방향으로 같은 열 정렬\n",
        "print(arr2d)\n",
        "print(np.sort(arr2d, axis=0))\n",
        "np.argsort(arr2d, axis=0)"
      ]
    },
    {
      "cell_type": "markdown",
      "metadata": {
        "id": "cKGkg3WNl9pB"
      },
      "source": [
        "#Section 05. 넘파이 배열의 연산\n",
        "## 1. 넘파이 배열의 연산\n",
        "### 배열 내 요소들의 연산"
      ]
    },
    {
      "cell_type": "code",
      "execution_count": null,
      "metadata": {
        "colab": {
          "base_uri": "https://localhost:8080/"
        },
        "id": "O2ZeH7dUmEvh",
        "outputId": "9487fc35-b61c-4cd7-fc25-205bda9311e1"
      },
      "outputs": [
        {
          "data": {
            "text/plain": [
              "(array([5, 7, 9]), array([ 6, 15]))"
            ]
          },
          "execution_count": 100,
          "metadata": {},
          "output_type": "execute_result"
        }
      ],
      "source": [
        "# 같은 배열 내 요소의 합 구하기\n",
        "import numpy as np\n",
        "a=np.array([[1, 2, 3],\n",
        " [4, 5, 6]])\n",
        "np.sum(a, axis=0), np.sum(a, axis=1)"
      ]
    },
    {
      "cell_type": "code",
      "execution_count": null,
      "metadata": {
        "colab": {
          "base_uri": "https://localhost:8080/"
        },
        "id": "7ywynz4RmG4W",
        "outputId": "1133cb53-b2b3-4063-bf05-cf35597b2250"
      },
      "outputs": [
        {
          "data": {
            "text/plain": [
              "21"
            ]
          },
          "execution_count": 101,
          "metadata": {},
          "output_type": "execute_result"
        }
      ],
      "source": [
        "a.sum()"
      ]
    },
    {
      "cell_type": "markdown",
      "metadata": {
        "id": "dv9R5LDsmJAU"
      },
      "source": [
        "###배열과 상수의 사칙연산"
      ]
    },
    {
      "cell_type": "code",
      "execution_count": null,
      "metadata": {
        "colab": {
          "base_uri": "https://localhost:8080/"
        },
        "id": "5H6_pfSQmLCT",
        "outputId": "01d8a70c-3fab-493f-bdfb-09c57abf1b69"
      },
      "outputs": [
        {
          "name": "stdout",
          "output_type": "stream",
          "text": [
            "[[3 4 5]\n",
            " [6 7 8]]\n",
            "[[-1  0  1]\n",
            " [ 2  3  4]]\n",
            "[[ 2  4  6]\n",
            " [ 8 10 12]]\n",
            "[[0.5 1.  1.5]\n",
            " [2.  2.5 3. ]]\n"
          ]
        }
      ],
      "source": [
        "a=np.array([[1, 2, 3],\n",
        " [4, 5, 6]])\n",
        "b=2\n",
        "print(a+b)\n",
        "print(a-b)\n",
        "print(a*b)\n",
        "print(a/b)"
      ]
    },
    {
      "cell_type": "code",
      "execution_count": null,
      "metadata": {
        "colab": {
          "base_uri": "https://localhost:8080/"
        },
        "id": "2fghFGqbmN2M",
        "outputId": "423a54c3-b07a-47f3-85bc-4c9d9d9b6aa0"
      },
      "outputs": [
        {
          "name": "stdout",
          "output_type": "stream",
          "text": [
            "[[11 12 13 14]\n",
            " [15 16 17 18]\n",
            " [19 20 21 22]]\n",
            "[[-9 -8 -7 -6]\n",
            " [-5 -4 -3 -2]\n",
            " [-1  0  1  2]]\n",
            "[[ 10  20  30  40]\n",
            " [ 50  60  70  80]\n",
            " [ 90 100 110 120]]\n",
            "[[0.1 0.2 0.3 0.4]\n",
            " [0.5 0.6 0.7 0.8]\n",
            " [0.9 1.  1.1 1.2]]\n"
          ]
        }
      ],
      "source": [
        "A=np.arange(1, 13).reshape(3, 4)\n",
        "print(A+10)\n",
        "print(A-10)\n",
        "print(A*10)\n",
        "print(A/10)"
      ]
    },
    {
      "cell_type": "code",
      "execution_count": null,
      "metadata": {
        "colab": {
          "base_uri": "https://localhost:8080/"
        },
        "id": "B3b-n1tqmTUC",
        "outputId": "4f562a11-0bab-41a0-a647-c185884bc2a6"
      },
      "outputs": [
        {
          "data": {
            "text/plain": [
              "array([[ 0,  1,  2,  3],\n",
              "       [ 4,  5,  6,  7],\n",
              "       [ 8,  9, 10, 11]])"
            ]
          },
          "execution_count": 104,
          "metadata": {},
          "output_type": "execute_result"
        }
      ],
      "source": [
        "A=np.arange(1, 13).reshape(3, 4)\n",
        "A-1"
      ]
    },
    {
      "cell_type": "markdown",
      "metadata": {
        "id": "IoYWOJY7mVDL"
      },
      "source": [
        "### 배열과 배열의 요소 간 연산"
      ]
    },
    {
      "cell_type": "code",
      "execution_count": null,
      "metadata": {
        "colab": {
          "base_uri": "https://localhost:8080/"
        },
        "id": "UUrPLvwwmXCd",
        "outputId": "71152216-37a5-452c-b4ab-3c8baff96c8f"
      },
      "outputs": [
        {
          "name": "stdout",
          "output_type": "stream",
          "text": [
            "[[2 4 6]\n",
            " [5 7 9]]\n",
            "[[0 0 0]\n",
            " [3 3 3]]\n",
            "[[ 1  4  9]\n",
            " [ 4 10 18]]\n",
            "[[1.  1.  1. ]\n",
            " [4.  2.5 2. ]]\n"
          ]
        }
      ],
      "source": [
        "a=np.array([[1, 2, 3],\n",
        " [4, 5, 6]])\n",
        "b=np.array([1, 2, 3]) # b=np.array([[1, 2, 3]])도 가능\n",
        "print(a+b)\n",
        "print(a-b)\n",
        "print(a*b)\n",
        "print(a/b)"
      ]
    },
    {
      "cell_type": "markdown",
      "metadata": {
        "id": "mNxn95ihmdoB"
      },
      "source": [
        "###배열 간의 곱셈과 행렬 곱셈의 차이"
      ]
    },
    {
      "cell_type": "code",
      "execution_count": null,
      "metadata": {
        "colab": {
          "base_uri": "https://localhost:8080/"
        },
        "id": "TnZi_ggsmc6D",
        "outputId": "ad511f8a-e7d9-4d81-b0a0-3d0b2d0ab1a4"
      },
      "outputs": [
        {
          "name": "stdout",
          "output_type": "stream",
          "text": [
            "[[1 4]\n",
            " [3 8]]\n",
            "[[ 3  6]\n",
            " [ 7 14]]\n"
          ]
        }
      ],
      "source": [
        "a=np.array([[1, 2],\n",
        " [3, 4]])\n",
        "b=np.array([[1, 2],\n",
        " [1, 2]])\n",
        "print(a*b)\n",
        "print(a.dot(b))"
      ]
    },
    {
      "cell_type": "markdown",
      "metadata": {
        "id": "ezS1m-kgmiVa"
      },
      "source": [
        "##2. 브로드캐스팅"
      ]
    },
    {
      "cell_type": "code",
      "execution_count": null,
      "metadata": {
        "colab": {
          "base_uri": "https://localhost:8080/"
        },
        "id": "ysIRJFzsmlA9",
        "outputId": "d9290e0e-6b69-4575-98da-7e5621f0e4ca"
      },
      "outputs": [
        {
          "data": {
            "text/plain": [
              "array([[2, 4],\n",
              "       [4, 6]])"
            ]
          },
          "execution_count": 107,
          "metadata": {},
          "output_type": "execute_result"
        }
      ],
      "source": [
        "A=np.array([[1, 2],\n",
        " [3, 4]])\n",
        "B=np.array([1, 2])\n",
        "A+B"
      ]
    },
    {
      "cell_type": "code",
      "execution_count": null,
      "metadata": {
        "colab": {
          "base_uri": "https://localhost:8080/"
        },
        "id": "zFbqT-Ocmokc",
        "outputId": "3fb11eb5-2fc2-452f-918d-ae5f3fde1db1"
      },
      "outputs": [
        {
          "data": {
            "text/plain": [
              "array([[3, 4, 5],\n",
              "       [6, 7, 8]])"
            ]
          },
          "execution_count": 108,
          "metadata": {},
          "output_type": "execute_result"
        }
      ],
      "source": [
        "A=np.array([[1, 2, 3],\n",
        " [4, 5, 6]])\n",
        "B=np.array([2])\n",
        "A+B"
      ]
    },
    {
      "cell_type": "code",
      "execution_count": null,
      "metadata": {
        "colab": {
          "base_uri": "https://localhost:8080/"
        },
        "id": "P5hRT8jTmq5m",
        "outputId": "42628b88-029f-4dff-ec08-188867fc3d2e"
      },
      "outputs": [
        {
          "data": {
            "text/plain": [
              "array([[ 3,  4,  5],\n",
              "       [ 8,  9, 10]])"
            ]
          },
          "execution_count": 109,
          "metadata": {},
          "output_type": "execute_result"
        }
      ],
      "source": [
        "A=np.array([[1, 2, 3],\n",
        " [4, 5, 6]])\n",
        "B=np.array([[2],\n",
        " [4]])\n",
        "A+B"
      ]
    },
    {
      "cell_type": "code",
      "execution_count": null,
      "metadata": {
        "id": "2XYg8l4qHeT3"
      },
      "outputs": [],
      "source": []
    }
  ],
  "metadata": {
    "colab": {
      "provenance": []
    },
    "kernelspec": {
      "display_name": "Python 3 (ipykernel)",
      "language": "python",
      "name": "python3"
    },
    "language_info": {
      "codemirror_mode": {
        "name": "ipython",
        "version": 3
      },
      "file_extension": ".py",
      "mimetype": "text/x-python",
      "name": "python",
      "nbconvert_exporter": "python",
      "pygments_lexer": "ipython3",
      "version": "3.9.12"
    }
  },
  "nbformat": 4,
  "nbformat_minor": 0
}