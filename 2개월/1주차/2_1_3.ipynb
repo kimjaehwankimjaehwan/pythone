{
  "nbformat": 4,
  "nbformat_minor": 0,
  "metadata": {
    "colab": {
      "provenance": []
    },
    "kernelspec": {
      "name": "python3",
      "display_name": "Python 3"
    },
    "language_info": {
      "name": "python"
    }
  },
  "cells": [
    {
      "cell_type": "markdown",
      "source": [
        "# 정적웹페이지 크롤링 BeautifulSoup"
      ],
      "metadata": {
        "id": "0Drjgl3XSl8R"
      }
    },
    {
      "cell_type": "code",
      "source": [
        "# 주피터 노트북 패키지를 install\n",
        "# !pip install bs3"
      ],
      "metadata": {
        "id": "alO0FpRJSqmY"
      },
      "execution_count": 48,
      "outputs": []
    },
    {
      "cell_type": "code",
      "source": [
        "from bs4 import BeautifulSoup"
      ],
      "metadata": {
        "id": "ID6gsQw_S6sY"
      },
      "execution_count": 49,
      "outputs": []
    },
    {
      "cell_type": "code",
      "source": [
        "html = '''\n",
        "<h1 id=\"title\">한빛출판네트워크</h1>\n",
        "<div class=\"top\">\n",
        "  <ul class=\"menu\">\n",
        "    <li>\n",
        "      <a href=http://www.hanbit.co.kr/member/login.html class=\"login login2\">로그인 </a>\n",
        "    </li>\n",
        "  </ul>\n",
        "\n",
        "  <ul class=\"brand\">\n",
        "    <li>\n",
        "      <a href=\"http://www.hanbit.co.kr/media/>한빛미디어</a>\n",
        "    </li>\n",
        "    <li>\n",
        "      <a href=\"http://www.hanbit.co.kr/academy/\">한빛아카데미</a>\n",
        "    </li>\n",
        "  </ul>\n",
        "</div>'''"
      ],
      "metadata": {
        "id": "D_35OS3CS_on"
      },
      "execution_count": 50,
      "outputs": []
    },
    {
      "cell_type": "code",
      "source": [
        "html"
      ],
      "metadata": {
        "colab": {
          "base_uri": "https://localhost:8080/",
          "height": 89
        },
        "id": "kkKpznuLTiK5",
        "outputId": "d23c3a66-3b70-436c-8609-60e15e7821a6"
      },
      "execution_count": 51,
      "outputs": [
        {
          "output_type": "execute_result",
          "data": {
            "text/plain": [
              "'\\n<h1 id=\"title\">한빛출판네트워크</h1>\\n<div class=\"top\">\\n  <ul class=\"menu\">\\n    <li>\\n      <a href=http://www.hanbit.co.kr/member/login.html class=\"login login2\">로그인 </a>\\n    </li>\\n  </ul>\\n\\n  <ul class=\"brand\">\\n    <li>\\n      <a href=\"http://www.hanbit.co.kr/media/>한빛미디어</a>\\n    </li>\\n    <li>\\n      <a href=\"http://www.hanbit.co.kr/academy/\">한빛아카데미</a>\\n    </li>\\n  </ul>\\n</div>'"
            ],
            "application/vnd.google.colaboratory.intrinsic+json": {
              "type": "string"
            }
          },
          "metadata": {},
          "execution_count": 51
        }
      ]
    },
    {
      "cell_type": "code",
      "source": [
        "# 객체생성\n",
        "soup = BeautifulSoup(html, 'html.parser')\n",
        "type(soup)"
      ],
      "metadata": {
        "colab": {
          "base_uri": "https://localhost:8080/",
          "height": 185
        },
        "id": "O-NOKivKTixo",
        "outputId": "2045f49c-f8bd-4d06-8e00-6ae96214b60d"
      },
      "execution_count": 52,
      "outputs": [
        {
          "output_type": "execute_result",
          "data": {
            "text/plain": [
              "bs4.BeautifulSoup"
            ],
            "text/html": [
              "<div style=\"max-width:800px; border: 1px solid var(--colab-border-color);\"><style>\n",
              "      pre.function-repr-contents {\n",
              "        overflow-x: auto;\n",
              "        padding: 8px 12px;\n",
              "        max-height: 500px;\n",
              "      }\n",
              "\n",
              "      pre.function-repr-contents.function-repr-contents-collapsed {\n",
              "        cursor: pointer;\n",
              "        max-height: 100px;\n",
              "      }\n",
              "    </style>\n",
              "    <pre style=\"white-space: initial; background:\n",
              "         var(--colab-secondary-surface-color); padding: 8px 12px;\n",
              "         border-bottom: 1px solid var(--colab-border-color);\"><b>bs4.BeautifulSoup</b><br/>def __call__(*args, **kwargs)</pre><pre class=\"function-repr-contents function-repr-contents-collapsed\" style=\"\"><a class=\"filepath\" style=\"display:none\" href=\"#\">/usr/local/lib/python3.10/dist-packages/bs4/__init__.py</a>A data structure representing a parsed HTML or XML document.\n",
              "\n",
              "Most of the methods you&#x27;ll call on a BeautifulSoup object are inherited from\n",
              "PageElement or Tag.\n",
              "\n",
              "Internally, this class defines the basic interface called by the\n",
              "tree builders when converting an HTML/XML document into a data\n",
              "structure. The interface abstracts away the differences between\n",
              "parsers. To write a new tree builder, you&#x27;ll need to understand\n",
              "these methods as a whole.\n",
              "\n",
              "These methods will be called by the BeautifulSoup constructor:\n",
              "  * reset()\n",
              "  * feed(markup)\n",
              "\n",
              "The tree builder may call these methods from its feed() implementation:\n",
              "  * handle_starttag(name, attrs) # See note about return value\n",
              "  * handle_endtag(name)\n",
              "  * handle_data(data) # Appends to the current data node\n",
              "  * endData(containerClass) # Ends the current data node\n",
              "\n",
              "No matter how complicated the underlying parser is, you should be\n",
              "able to build a tree using &#x27;start tag&#x27; events, &#x27;end tag&#x27; events,\n",
              "&#x27;data&#x27; events, and &quot;done with data&quot; events.\n",
              "\n",
              "If you encounter an empty-element tag (aka a self-closing tag,\n",
              "like HTML&#x27;s &lt;br&gt; tag), call handle_starttag and then\n",
              "handle_endtag.</pre>\n",
              "      <script>\n",
              "      if (google.colab.kernel.accessAllowed && google.colab.files && google.colab.files.view) {\n",
              "        for (const element of document.querySelectorAll('.filepath')) {\n",
              "          element.style.display = 'block'\n",
              "          element.onclick = (event) => {\n",
              "            event.preventDefault();\n",
              "            event.stopPropagation();\n",
              "            google.colab.files.view(element.textContent, 76);\n",
              "          };\n",
              "        }\n",
              "      }\n",
              "      for (const element of document.querySelectorAll('.function-repr-contents')) {\n",
              "        element.onclick = (event) => {\n",
              "          event.preventDefault();\n",
              "          event.stopPropagation();\n",
              "          element.classList.toggle('function-repr-contents-collapsed');\n",
              "        };\n",
              "      }\n",
              "      </script>\n",
              "      </div>"
            ]
          },
          "metadata": {},
          "execution_count": 52
        }
      ]
    },
    {
      "cell_type": "code",
      "source": [
        "# 객체에 저장된 html내용을 확인\n",
        "print(soup.prettify())"
      ],
      "metadata": {
        "colab": {
          "base_uri": "https://localhost:8080/"
        },
        "id": "RKLhB6saUjhM",
        "outputId": "7807f46c-fe7c-477e-f4ea-a101724f35cd"
      },
      "execution_count": 53,
      "outputs": [
        {
          "output_type": "stream",
          "name": "stdout",
          "text": [
            "<h1 id=\"title\">\n",
            " 한빛출판네트워크\n",
            "</h1>\n",
            "<div class=\"top\">\n",
            " <ul class=\"menu\">\n",
            "  <li>\n",
            "   <a class=\"login login2\" href=\"http://www.hanbit.co.kr/member/login.html\">\n",
            "    로그인\n",
            "   </a>\n",
            "  </li>\n",
            " </ul>\n",
            " <ul class=\"brand\">\n",
            "  <li>\n",
            "   <a \"=\"\" academy=\"\" href=\"http://www.hanbit.co.kr/media/&gt;한빛미디어&lt;/a&gt;\n",
            "    &lt;/li&gt;\n",
            "    &lt;li&gt;\n",
            "      &lt;a href=\" http:=\"\" www.hanbit.co.kr=\"\">\n",
            "    한빛아카데미\n",
            "   </a>\n",
            "  </li>\n",
            " </ul>\n",
            "</div>\n",
            "\n"
          ]
        }
      ]
    },
    {
      "cell_type": "code",
      "source": [
        "soup.h1"
      ],
      "metadata": {
        "colab": {
          "base_uri": "https://localhost:8080/"
        },
        "id": "ENcfzFDwUnn3",
        "outputId": "97fea082-d84a-4f89-d83a-6331d5c5a1a5"
      },
      "execution_count": 54,
      "outputs": [
        {
          "output_type": "execute_result",
          "data": {
            "text/plain": [
              "<h1 id=\"title\">한빛출판네트워크</h1>"
            ]
          },
          "metadata": {},
          "execution_count": 54
        }
      ]
    },
    {
      "cell_type": "code",
      "source": [
        "tag_h1 = soup.h1\n",
        "type(tag_h1)\n",
        "tag_div = soup.div\n",
        "tag_div"
      ],
      "metadata": {
        "colab": {
          "base_uri": "https://localhost:8080/"
        },
        "id": "akEPvuL5VwZp",
        "outputId": "02d49adb-bd9c-4c2e-cd0b-fd373c4a6fea"
      },
      "execution_count": 55,
      "outputs": [
        {
          "output_type": "execute_result",
          "data": {
            "text/plain": [
              "<div class=\"top\">\n",
              "<ul class=\"menu\">\n",
              "<li>\n",
              "<a class=\"login login2\" href=\"http://www.hanbit.co.kr/member/login.html\">로그인 </a>\n",
              "</li>\n",
              "</ul>\n",
              "<ul class=\"brand\">\n",
              "<li>\n",
              "<a \"=\"\" academy=\"\" href=\"http://www.hanbit.co.kr/media/&gt;한빛미디어&lt;/a&gt;\n",
              "    &lt;/li&gt;\n",
              "    &lt;li&gt;\n",
              "      &lt;a href=\" http:=\"\" www.hanbit.co.kr=\"\">한빛아카데미</a>\n",
              "</li>\n",
              "</ul>\n",
              "</div>"
            ]
          },
          "metadata": {},
          "execution_count": 55
        }
      ]
    },
    {
      "cell_type": "code",
      "source": [
        "tag_ul = soup.ul\n",
        "tag_ul"
      ],
      "metadata": {
        "colab": {
          "base_uri": "https://localhost:8080/"
        },
        "id": "ENQxEvcYV6Q_",
        "outputId": "eeb14bf0-8d33-46b5-c0a6-65980367bd47"
      },
      "execution_count": 56,
      "outputs": [
        {
          "output_type": "execute_result",
          "data": {
            "text/plain": [
              "<ul class=\"menu\">\n",
              "<li>\n",
              "<a class=\"login login2\" href=\"http://www.hanbit.co.kr/member/login.html\">로그인 </a>\n",
              "</li>\n",
              "</ul>"
            ]
          },
          "metadata": {},
          "execution_count": 56
        }
      ]
    },
    {
      "cell_type": "code",
      "source": [
        "# li\n",
        "tag_li = soup.li\n",
        "tag_li\n",
        "# a\n",
        "tag_a = soup.a\n",
        "tag_a"
      ],
      "metadata": {
        "colab": {
          "base_uri": "https://localhost:8080/"
        },
        "id": "InjsngOhWSQ5",
        "outputId": "9197a562-19f9-46d5-c896-ad5e570d972d"
      },
      "execution_count": 57,
      "outputs": [
        {
          "output_type": "execute_result",
          "data": {
            "text/plain": [
              "<a class=\"login login2\" href=\"http://www.hanbit.co.kr/member/login.html\">로그인 </a>"
            ]
          },
          "metadata": {},
          "execution_count": 57
        }
      ]
    },
    {
      "cell_type": "code",
      "source": [
        "# soup 객체를 통한 태그정보추출은 가장 먼저 만나는 한개의 태그정보"
      ],
      "metadata": {
        "id": "Q1gBeMEIWiRg"
      },
      "execution_count": 58,
      "outputs": []
    },
    {
      "cell_type": "code",
      "source": [
        "# 지정된 태그를 모두 파싱\n",
        "tag_ul_all = soup.find_all('ul')\n",
        "tag_ul_all"
      ],
      "metadata": {
        "colab": {
          "base_uri": "https://localhost:8080/"
        },
        "id": "QbnRr1ySW02Z",
        "outputId": "020a84b8-804e-4aae-85c5-932296b1f382"
      },
      "execution_count": 59,
      "outputs": [
        {
          "output_type": "execute_result",
          "data": {
            "text/plain": [
              "[<ul class=\"menu\">\n",
              " <li>\n",
              " <a class=\"login login2\" href=\"http://www.hanbit.co.kr/member/login.html\">로그인 </a>\n",
              " </li>\n",
              " </ul>,\n",
              " <ul class=\"brand\">\n",
              " <li>\n",
              " <a \"=\"\" academy=\"\" href=\"http://www.hanbit.co.kr/media/&gt;한빛미디어&lt;/a&gt;\n",
              "     &lt;/li&gt;\n",
              "     &lt;li&gt;\n",
              "       &lt;a href=\" http:=\"\" www.hanbit.co.kr=\"\">한빛아카데미</a>\n",
              " </li>\n",
              " </ul>]"
            ]
          },
          "metadata": {},
          "execution_count": 59
        }
      ]
    },
    {
      "cell_type": "code",
      "source": [
        "# 아래 태그정보 모두 가져오기\n",
        "# li\n",
        "tag_li_all = soup.find_all('li')\n",
        "tag_li_all"
      ],
      "metadata": {
        "colab": {
          "base_uri": "https://localhost:8080/"
        },
        "id": "SiAUklbCXLRh",
        "outputId": "d1b93e22-472a-485b-ea55-d46e69343c86"
      },
      "execution_count": 60,
      "outputs": [
        {
          "output_type": "execute_result",
          "data": {
            "text/plain": [
              "[<li>\n",
              " <a class=\"login login2\" href=\"http://www.hanbit.co.kr/member/login.html\">로그인 </a>\n",
              " </li>,\n",
              " <li>\n",
              " <a \"=\"\" academy=\"\" href=\"http://www.hanbit.co.kr/media/&gt;한빛미디어&lt;/a&gt;\n",
              "     &lt;/li&gt;\n",
              "     &lt;li&gt;\n",
              "       &lt;a href=\" http:=\"\" www.hanbit.co.kr=\"\">한빛아카데미</a>\n",
              " </li>]"
            ]
          },
          "metadata": {},
          "execution_count": 60
        }
      ]
    },
    {
      "cell_type": "code",
      "source": [
        "# a\n",
        "tag_a_all = soup.find_all('a')\n",
        "tag_a_all"
      ],
      "metadata": {
        "colab": {
          "base_uri": "https://localhost:8080/"
        },
        "id": "IQV3kAtIXs_I",
        "outputId": "d4bec6aa-7cc3-4ff3-8837-b26facd4d740"
      },
      "execution_count": 61,
      "outputs": [
        {
          "output_type": "execute_result",
          "data": {
            "text/plain": [
              "[<a class=\"login login2\" href=\"http://www.hanbit.co.kr/member/login.html\">로그인 </a>,\n",
              " <a \"=\"\" academy=\"\" href=\"http://www.hanbit.co.kr/media/&gt;한빛미디어&lt;/a&gt;\n",
              "     &lt;/li&gt;\n",
              "     &lt;li&gt;\n",
              "       &lt;a href=\" http:=\"\" www.hanbit.co.kr=\"\">한빛아카데미</a>]"
            ]
          },
          "metadata": {},
          "execution_count": 61
        }
      ]
    },
    {
      "cell_type": "code",
      "source": [
        "tag_a"
      ],
      "metadata": {
        "colab": {
          "base_uri": "https://localhost:8080/"
        },
        "id": "ksP2aJIsYQnr",
        "outputId": "a7f88e3a-408c-4fed-b0d3-fb6d34ca825e"
      },
      "execution_count": 62,
      "outputs": [
        {
          "output_type": "execute_result",
          "data": {
            "text/plain": [
              "<a class=\"login login2\" href=\"http://www.hanbit.co.kr/member/login.html\">로그인 </a>"
            ]
          },
          "metadata": {},
          "execution_count": 62
        }
      ]
    },
    {
      "cell_type": "code",
      "source": [
        "# 속성을 이용한 파싱\n",
        "tag_a.attrs"
      ],
      "metadata": {
        "colab": {
          "base_uri": "https://localhost:8080/"
        },
        "id": "nMXPFfXzX5sA",
        "outputId": "fc7097b8-5bad-496d-cf31-7c383ab98146"
      },
      "execution_count": 63,
      "outputs": [
        {
          "output_type": "execute_result",
          "data": {
            "text/plain": [
              "{'href': 'http://www.hanbit.co.kr/member/login.html',\n",
              " 'class': ['login', 'login2']}"
            ]
          },
          "metadata": {},
          "execution_count": 63
        }
      ]
    },
    {
      "cell_type": "code",
      "source": [
        "tag_a.attrs['href']"
      ],
      "metadata": {
        "colab": {
          "base_uri": "https://localhost:8080/",
          "height": 35
        },
        "id": "p0WnJ8oeYGBx",
        "outputId": "d37f2566-6511-4b7f-ffe0-d9a92be36908"
      },
      "execution_count": 64,
      "outputs": [
        {
          "output_type": "execute_result",
          "data": {
            "text/plain": [
              "'http://www.hanbit.co.kr/member/login.html'"
            ],
            "application/vnd.google.colaboratory.intrinsic+json": {
              "type": "string"
            }
          },
          "metadata": {},
          "execution_count": 64
        }
      ]
    },
    {
      "cell_type": "code",
      "source": [
        "# 제공한 html페이지에 있는 모든 링크주소를 출력"
      ],
      "metadata": {
        "id": "bBoB3pRgYhwi"
      },
      "execution_count": 64,
      "outputs": []
    }
  ]
}