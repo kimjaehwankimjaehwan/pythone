{
  "nbformat": 4,
  "nbformat_minor": 0,
  "metadata": {
    "colab": {
      "provenance": []
    },
    "kernelspec": {
      "name": "python3",
      "display_name": "Python 3"
    },
    "language_info": {
      "name": "python"
    }
  },
  "cells": [
    {
      "cell_type": "markdown",
      "source": [
        "# 정적웹페이지 크롤링 BeautifulSoup"
      ],
      "metadata": {
        "id": "0Drjgl3XSl8R"
      }
    },
    {
      "cell_type": "code",
      "source": [
        "# 주피터 노트북 패키지를 install\n",
        "# !pip install bs3"
      ],
      "metadata": {
        "id": "alO0FpRJSqmY"
      },
      "execution_count": 68,
      "outputs": []
    },
    {
      "cell_type": "code",
      "source": [
        "from bs4 import BeautifulSoup"
      ],
      "metadata": {
        "id": "ID6gsQw_S6sY"
      },
      "execution_count": 69,
      "outputs": []
    },
    {
      "cell_type": "code",
      "source": [
        "html = '''\n",
        "<h1 id=\"title\">한빛출판네트워크</h1>\n",
        "<div class=\"top\">\n",
        "  <ul class=\"menu\">\n",
        "    <li>\n",
        "      <a href=http://www.hanbit.co.kr/member/login.html class=\"login login2\">로그인 </a>\n",
        "    </li>\n",
        "  </ul>\n",
        "\n",
        "  <ul class=\"brand\">\n",
        "    <li>\n",
        "      <a href=\"http://www.hanbit.co.kr/media/\">한빛미디어</a>\n",
        "    </li>\n",
        "    <li>\n",
        "      <a href=\"http://www.hanbit.co.kr/academy/\">한빛아카데미</a>\n",
        "    </li>\n",
        "  </ul>\n",
        "</div>'''"
      ],
      "metadata": {
        "id": "D_35OS3CS_on"
      },
      "execution_count": 70,
      "outputs": []
    },
    {
      "cell_type": "code",
      "source": [
        "html"
      ],
      "metadata": {
        "colab": {
          "base_uri": "https://localhost:8080/",
          "height": 89
        },
        "id": "kkKpznuLTiK5",
        "outputId": "6192e80c-578f-4202-d98f-22dc39c1b1fb"
      },
      "execution_count": 71,
      "outputs": [
        {
          "output_type": "execute_result",
          "data": {
            "text/plain": [
              "'\\n<h1 id=\"title\">한빛출판네트워크</h1>\\n<div class=\"top\">\\n  <ul class=\"menu\">\\n    <li>\\n      <a href=http://www.hanbit.co.kr/member/login.html class=\"login login2\">로그인 </a>\\n    </li>\\n  </ul>\\n\\n  <ul class=\"brand\">\\n    <li>\\n      <a href=\"http://www.hanbit.co.kr/media/\">한빛미디어</a>\\n    </li>\\n    <li>\\n      <a href=\"http://www.hanbit.co.kr/academy/\">한빛아카데미</a>\\n    </li>\\n  </ul>\\n</div>'"
            ],
            "application/vnd.google.colaboratory.intrinsic+json": {
              "type": "string"
            }
          },
          "metadata": {},
          "execution_count": 71
        }
      ]
    },
    {
      "cell_type": "code",
      "source": [
        "# 객체생성\n",
        "soup = BeautifulSoup(html, 'html.parser')\n",
        "type(soup)"
      ],
      "metadata": {
        "colab": {
          "base_uri": "https://localhost:8080/",
          "height": 185
        },
        "id": "O-NOKivKTixo",
        "outputId": "9fe40dcd-74d0-489f-9c35-4e965cecb389"
      },
      "execution_count": 72,
      "outputs": [
        {
          "output_type": "execute_result",
          "data": {
            "text/plain": [
              "bs4.BeautifulSoup"
            ],
            "text/html": [
              "<div style=\"max-width:800px; border: 1px solid var(--colab-border-color);\"><style>\n",
              "      pre.function-repr-contents {\n",
              "        overflow-x: auto;\n",
              "        padding: 8px 12px;\n",
              "        max-height: 500px;\n",
              "      }\n",
              "\n",
              "      pre.function-repr-contents.function-repr-contents-collapsed {\n",
              "        cursor: pointer;\n",
              "        max-height: 100px;\n",
              "      }\n",
              "    </style>\n",
              "    <pre style=\"white-space: initial; background:\n",
              "         var(--colab-secondary-surface-color); padding: 8px 12px;\n",
              "         border-bottom: 1px solid var(--colab-border-color);\"><b>bs4.BeautifulSoup</b><br/>def __call__(*args, **kwargs)</pre><pre class=\"function-repr-contents function-repr-contents-collapsed\" style=\"\"><a class=\"filepath\" style=\"display:none\" href=\"#\">/usr/local/lib/python3.10/dist-packages/bs4/__init__.py</a>A data structure representing a parsed HTML or XML document.\n",
              "\n",
              "Most of the methods you&#x27;ll call on a BeautifulSoup object are inherited from\n",
              "PageElement or Tag.\n",
              "\n",
              "Internally, this class defines the basic interface called by the\n",
              "tree builders when converting an HTML/XML document into a data\n",
              "structure. The interface abstracts away the differences between\n",
              "parsers. To write a new tree builder, you&#x27;ll need to understand\n",
              "these methods as a whole.\n",
              "\n",
              "These methods will be called by the BeautifulSoup constructor:\n",
              "  * reset()\n",
              "  * feed(markup)\n",
              "\n",
              "The tree builder may call these methods from its feed() implementation:\n",
              "  * handle_starttag(name, attrs) # See note about return value\n",
              "  * handle_endtag(name)\n",
              "  * handle_data(data) # Appends to the current data node\n",
              "  * endData(containerClass) # Ends the current data node\n",
              "\n",
              "No matter how complicated the underlying parser is, you should be\n",
              "able to build a tree using &#x27;start tag&#x27; events, &#x27;end tag&#x27; events,\n",
              "&#x27;data&#x27; events, and &quot;done with data&quot; events.\n",
              "\n",
              "If you encounter an empty-element tag (aka a self-closing tag,\n",
              "like HTML&#x27;s &lt;br&gt; tag), call handle_starttag and then\n",
              "handle_endtag.</pre>\n",
              "      <script>\n",
              "      if (google.colab.kernel.accessAllowed && google.colab.files && google.colab.files.view) {\n",
              "        for (const element of document.querySelectorAll('.filepath')) {\n",
              "          element.style.display = 'block'\n",
              "          element.onclick = (event) => {\n",
              "            event.preventDefault();\n",
              "            event.stopPropagation();\n",
              "            google.colab.files.view(element.textContent, 76);\n",
              "          };\n",
              "        }\n",
              "      }\n",
              "      for (const element of document.querySelectorAll('.function-repr-contents')) {\n",
              "        element.onclick = (event) => {\n",
              "          event.preventDefault();\n",
              "          event.stopPropagation();\n",
              "          element.classList.toggle('function-repr-contents-collapsed');\n",
              "        };\n",
              "      }\n",
              "      </script>\n",
              "      </div>"
            ]
          },
          "metadata": {},
          "execution_count": 72
        }
      ]
    },
    {
      "cell_type": "code",
      "source": [
        "# 객체에 저장된 html내용을 확인\n",
        "print(soup.prettify())"
      ],
      "metadata": {
        "colab": {
          "base_uri": "https://localhost:8080/"
        },
        "id": "RKLhB6saUjhM",
        "outputId": "67668274-72eb-4f51-863f-fff673ab1a42"
      },
      "execution_count": 73,
      "outputs": [
        {
          "output_type": "stream",
          "name": "stdout",
          "text": [
            "<h1 id=\"title\">\n",
            " 한빛출판네트워크\n",
            "</h1>\n",
            "<div class=\"top\">\n",
            " <ul class=\"menu\">\n",
            "  <li>\n",
            "   <a class=\"login login2\" href=\"http://www.hanbit.co.kr/member/login.html\">\n",
            "    로그인\n",
            "   </a>\n",
            "  </li>\n",
            " </ul>\n",
            " <ul class=\"brand\">\n",
            "  <li>\n",
            "   <a href=\"http://www.hanbit.co.kr/media/\">\n",
            "    한빛미디어\n",
            "   </a>\n",
            "  </li>\n",
            "  <li>\n",
            "   <a href=\"http://www.hanbit.co.kr/academy/\">\n",
            "    한빛아카데미\n",
            "   </a>\n",
            "  </li>\n",
            " </ul>\n",
            "</div>\n",
            "\n"
          ]
        }
      ]
    },
    {
      "cell_type": "code",
      "source": [
        "soup.h1"
      ],
      "metadata": {
        "colab": {
          "base_uri": "https://localhost:8080/"
        },
        "id": "ENcfzFDwUnn3",
        "outputId": "30084ed4-1be2-40ba-a8a1-5733179467d5"
      },
      "execution_count": 74,
      "outputs": [
        {
          "output_type": "execute_result",
          "data": {
            "text/plain": [
              "<h1 id=\"title\">한빛출판네트워크</h1>"
            ]
          },
          "metadata": {},
          "execution_count": 74
        }
      ]
    },
    {
      "cell_type": "code",
      "source": [
        "tag_h1 = soup.h1\n",
        "type(tag_h1)\n",
        "tag_div = soup.div\n",
        "tag_div"
      ],
      "metadata": {
        "colab": {
          "base_uri": "https://localhost:8080/"
        },
        "id": "akEPvuL5VwZp",
        "outputId": "d53dc40a-c1dc-4d07-b352-0e47048bf3e5"
      },
      "execution_count": 75,
      "outputs": [
        {
          "output_type": "execute_result",
          "data": {
            "text/plain": [
              "<div class=\"top\">\n",
              "<ul class=\"menu\">\n",
              "<li>\n",
              "<a class=\"login login2\" href=\"http://www.hanbit.co.kr/member/login.html\">로그인 </a>\n",
              "</li>\n",
              "</ul>\n",
              "<ul class=\"brand\">\n",
              "<li>\n",
              "<a href=\"http://www.hanbit.co.kr/media/\">한빛미디어</a>\n",
              "</li>\n",
              "<li>\n",
              "<a href=\"http://www.hanbit.co.kr/academy/\">한빛아카데미</a>\n",
              "</li>\n",
              "</ul>\n",
              "</div>"
            ]
          },
          "metadata": {},
          "execution_count": 75
        }
      ]
    },
    {
      "cell_type": "code",
      "source": [
        "tag_ul = soup.ul\n",
        "tag_ul"
      ],
      "metadata": {
        "colab": {
          "base_uri": "https://localhost:8080/"
        },
        "id": "ENQxEvcYV6Q_",
        "outputId": "a5f1242c-036b-4256-f1f7-2472731a0c79"
      },
      "execution_count": 76,
      "outputs": [
        {
          "output_type": "execute_result",
          "data": {
            "text/plain": [
              "<ul class=\"menu\">\n",
              "<li>\n",
              "<a class=\"login login2\" href=\"http://www.hanbit.co.kr/member/login.html\">로그인 </a>\n",
              "</li>\n",
              "</ul>"
            ]
          },
          "metadata": {},
          "execution_count": 76
        }
      ]
    },
    {
      "cell_type": "code",
      "source": [
        "# li\n",
        "tag_li = soup.li\n",
        "tag_li\n",
        "# a\n",
        "tag_a = soup.a\n",
        "tag_a"
      ],
      "metadata": {
        "colab": {
          "base_uri": "https://localhost:8080/"
        },
        "id": "InjsngOhWSQ5",
        "outputId": "1482679a-675c-4425-d396-7c4ca912a770"
      },
      "execution_count": 77,
      "outputs": [
        {
          "output_type": "execute_result",
          "data": {
            "text/plain": [
              "<a class=\"login login2\" href=\"http://www.hanbit.co.kr/member/login.html\">로그인 </a>"
            ]
          },
          "metadata": {},
          "execution_count": 77
        }
      ]
    },
    {
      "cell_type": "code",
      "source": [
        "# soup 객체를 통한 태그정보추출은 가장 먼저 만나는 한개의 태그정보"
      ],
      "metadata": {
        "id": "Q1gBeMEIWiRg"
      },
      "execution_count": 78,
      "outputs": []
    },
    {
      "cell_type": "code",
      "source": [
        "# 지정된 태그를 모두 파싱\n",
        "tag_ul_all = soup.find_all('ul')\n",
        "tag_ul_all"
      ],
      "metadata": {
        "colab": {
          "base_uri": "https://localhost:8080/"
        },
        "id": "QbnRr1ySW02Z",
        "outputId": "9f2a79ad-874c-458a-8c6c-aedab94f8bf1"
      },
      "execution_count": 79,
      "outputs": [
        {
          "output_type": "execute_result",
          "data": {
            "text/plain": [
              "[<ul class=\"menu\">\n",
              " <li>\n",
              " <a class=\"login login2\" href=\"http://www.hanbit.co.kr/member/login.html\">로그인 </a>\n",
              " </li>\n",
              " </ul>,\n",
              " <ul class=\"brand\">\n",
              " <li>\n",
              " <a href=\"http://www.hanbit.co.kr/media/\">한빛미디어</a>\n",
              " </li>\n",
              " <li>\n",
              " <a href=\"http://www.hanbit.co.kr/academy/\">한빛아카데미</a>\n",
              " </li>\n",
              " </ul>]"
            ]
          },
          "metadata": {},
          "execution_count": 79
        }
      ]
    },
    {
      "cell_type": "code",
      "source": [
        "# 아래 태그정보 모두 가져오기\n",
        "# li\n",
        "tag_li_all = soup.find_all('li')\n",
        "tag_li_all"
      ],
      "metadata": {
        "colab": {
          "base_uri": "https://localhost:8080/"
        },
        "id": "SiAUklbCXLRh",
        "outputId": "877b5a00-ee56-415c-abe1-bfdd4f10cfa4"
      },
      "execution_count": 80,
      "outputs": [
        {
          "output_type": "execute_result",
          "data": {
            "text/plain": [
              "[<li>\n",
              " <a class=\"login login2\" href=\"http://www.hanbit.co.kr/member/login.html\">로그인 </a>\n",
              " </li>,\n",
              " <li>\n",
              " <a href=\"http://www.hanbit.co.kr/media/\">한빛미디어</a>\n",
              " </li>,\n",
              " <li>\n",
              " <a href=\"http://www.hanbit.co.kr/academy/\">한빛아카데미</a>\n",
              " </li>]"
            ]
          },
          "metadata": {},
          "execution_count": 80
        }
      ]
    },
    {
      "cell_type": "code",
      "source": [
        "# a\n",
        "tag_a_all = soup.find_all('a')\n",
        "tag_a_all"
      ],
      "metadata": {
        "colab": {
          "base_uri": "https://localhost:8080/"
        },
        "id": "IQV3kAtIXs_I",
        "outputId": "8b40f748-22c7-42c3-cc26-ae3be29ed79d"
      },
      "execution_count": 81,
      "outputs": [
        {
          "output_type": "execute_result",
          "data": {
            "text/plain": [
              "[<a class=\"login login2\" href=\"http://www.hanbit.co.kr/member/login.html\">로그인 </a>,\n",
              " <a href=\"http://www.hanbit.co.kr/media/\">한빛미디어</a>,\n",
              " <a href=\"http://www.hanbit.co.kr/academy/\">한빛아카데미</a>]"
            ]
          },
          "metadata": {},
          "execution_count": 81
        }
      ]
    },
    {
      "cell_type": "code",
      "source": [
        "tag_a"
      ],
      "metadata": {
        "colab": {
          "base_uri": "https://localhost:8080/"
        },
        "id": "ksP2aJIsYQnr",
        "outputId": "5746ec27-6632-43d1-c596-96c427fb00d0"
      },
      "execution_count": 82,
      "outputs": [
        {
          "output_type": "execute_result",
          "data": {
            "text/plain": [
              "<a class=\"login login2\" href=\"http://www.hanbit.co.kr/member/login.html\">로그인 </a>"
            ]
          },
          "metadata": {},
          "execution_count": 82
        }
      ]
    },
    {
      "cell_type": "code",
      "source": [
        "# 속성을 이용한 파싱\n",
        "tag_a.attrs"
      ],
      "metadata": {
        "colab": {
          "base_uri": "https://localhost:8080/"
        },
        "id": "nMXPFfXzX5sA",
        "outputId": "f11e9dbe-1324-4299-b5d2-081526f8d8be"
      },
      "execution_count": 83,
      "outputs": [
        {
          "output_type": "execute_result",
          "data": {
            "text/plain": [
              "{'href': 'http://www.hanbit.co.kr/member/login.html',\n",
              " 'class': ['login', 'login2']}"
            ]
          },
          "metadata": {},
          "execution_count": 83
        }
      ]
    },
    {
      "cell_type": "code",
      "source": [
        "tag_a.attrs['href']"
      ],
      "metadata": {
        "colab": {
          "base_uri": "https://localhost:8080/",
          "height": 35
        },
        "id": "p0WnJ8oeYGBx",
        "outputId": "262fa508-2759-4863-8568-aa46b6566ae7"
      },
      "execution_count": 84,
      "outputs": [
        {
          "output_type": "execute_result",
          "data": {
            "text/plain": [
              "'http://www.hanbit.co.kr/member/login.html'"
            ],
            "application/vnd.google.colaboratory.intrinsic+json": {
              "type": "string"
            }
          },
          "metadata": {},
          "execution_count": 84
        }
      ]
    },
    {
      "cell_type": "code",
      "source": [
        "# 제공한 html페이지에 있는 모든 링크주소를 출력\n",
        "# a 태그를 전부 찾아서 attrs의 속성중에 href 출력\n",
        "for tag in soup.find_all('a'):\n",
        "    print(tag.attrs['href'])"
      ],
      "metadata": {
        "colab": {
          "base_uri": "https://localhost:8080/"
        },
        "id": "bBoB3pRgYhwi",
        "outputId": "08a92c15-d6ac-49e3-8916-529d450d1752"
      },
      "execution_count": 88,
      "outputs": [
        {
          "output_type": "stream",
          "name": "stdout",
          "text": [
            "http://www.hanbit.co.kr/member/login.html\n",
            "http://www.hanbit.co.kr/media/\n",
            "http://www.hanbit.co.kr/academy/\n"
          ]
        }
      ]
    },
    {
      "cell_type": "markdown",
      "source": [
        "# 다음사이트를 열어서 마우스 우클릭한다음 소스보기를 눌러서 html 을 전부 복사한다"
      ],
      "metadata": {
        "id": "qMAe6RopeXGM"
      }
    },
    {
      "cell_type": "code",
      "source": [
        "html = '''\n",
        "<!doctype html>\n",
        "<html lang=\"ko\">\n",
        " <head>\n",
        "  <meta charset=\"utf-8\">\n",
        "  <title>Daum</title>\n",
        "  <link href=\"https://t1.daumcdn.net/top/favicon.ico\" rel=\"shortcut icon\">\n",
        "  <meta name=\"referrer\" content=\"origin\">\n",
        "  <link rel=\"search\" type=\"application/opensearchdescription+xml\" href=\"https://search.daum.net/OpenSearch.xml\" title=\"다음\">\n",
        "  <link rel=\"stylesheet\" href=\"https://t1.daumcdn.net/top/tiller-pc/h/production/20240724_153801/common.css\">\n",
        "  <script src=\"https://t1.daumcdn.net/search/statics/common/js/fe/amado-workspace/pc/2.4.0/main.js\" defer></script>\n",
        "  <script src=\"https://t1.daumcdn.net/search/statics/common/js/fe/search-library-workspace/virtual-keyboard/1.2.0/main.js\" defer></script>\n",
        "  <script type=\"text/javascript\" charset=\"UTF-8\" src=\"https://t1.daumcdn.net/kas/static/na.min.js\" defer></script>\n",
        " </head>\n",
        " <body>\n",
        "  <script src=\"https://t1.daumcdn.net/tiara/js/v1/tiara.min.js\" defer></script>\n",
        "  <script src=\"https://t1.daumcdn.net/daumtop_deco/scripts/lib/lottie-player-2.0.2.js\" defer></script>\n",
        "  <link rel=\"stylesheet\" href=\"https://t1.daumcdn.net/daumtop_deco/scripts/lib/swiper-js.min.css\">\n",
        "  <script src=\"https://t1.daumcdn.net/top/tiller-pc/lib/1667278587486/polyfill.min.js\" defer></script>\n",
        "  <script src=\"https://t1.daumcdn.net/top/tiller-pc/h/production/20240724_153801/index.js\" crossorigin defer></script>\n",
        "  <script src=\"https://pagead2.googlesyndication.com/pagead/js/adsbygoogle.js?client=ca-pub-1682288257759598\" crossorigin=\"anonymous\" defer></script>\n",
        "  <script src=\"https://t1.daumcdn.net/kas/static/ba.min.js\" defer></script>\n",
        " </body>\n",
        "</html>\n",
        "'''"
      ],
      "metadata": {
        "id": "XqAZa48obpXp"
      },
      "execution_count": 89,
      "outputs": []
    },
    {
      "cell_type": "code",
      "source": [
        "# 1. BeatifuleSoup 객체 생성\n",
        "# 2 객체를 이용해서 대상이되는 태그를 전부 수집\n",
        "# 3. 태그에 있는 attrs 속성을 이용"
      ],
      "metadata": {
        "id": "_VBdKqkZe12I"
      },
      "execution_count": 90,
      "outputs": []
    },
    {
      "cell_type": "code",
      "source": [
        "from bs4 import BeautifulSoup\n",
        "# 1\n",
        "soup = BeautifulSoup(html, 'html.parser')\n",
        "# 2 script, link 태그 모두 수집\n",
        "tag_script = soup.find_all('script')\n",
        "tag_link = soup.find_all('link')\n",
        "\n",
        "# 각 태그에 있는 속성중에 src와 href 값을 출력\n",
        "for tag in tag_script:\n",
        "    print(tag.attrs['src'])\n",
        "for tag in tag_link:\n",
        "    print(tag.attrs['href'])"
      ],
      "metadata": {
        "colab": {
          "base_uri": "https://localhost:8080/"
        },
        "id": "s9SRYz7ZfzfI",
        "outputId": "bc5c5c09-d21e-481b-a7a4-0d78c26f9670"
      },
      "execution_count": 99,
      "outputs": [
        {
          "output_type": "stream",
          "name": "stdout",
          "text": [
            "https://t1.daumcdn.net/search/statics/common/js/fe/amado-workspace/pc/2.4.0/main.js\n",
            "https://t1.daumcdn.net/search/statics/common/js/fe/search-library-workspace/virtual-keyboard/1.2.0/main.js\n",
            "https://t1.daumcdn.net/kas/static/na.min.js\n",
            "https://t1.daumcdn.net/tiara/js/v1/tiara.min.js\n",
            "https://t1.daumcdn.net/daumtop_deco/scripts/lib/lottie-player-2.0.2.js\n",
            "https://t1.daumcdn.net/top/tiller-pc/lib/1667278587486/polyfill.min.js\n",
            "https://t1.daumcdn.net/top/tiller-pc/h/production/20240724_153801/index.js\n",
            "https://pagead2.googlesyndication.com/pagead/js/adsbygoogle.js?client=ca-pub-1682288257759598\n",
            "https://t1.daumcdn.net/kas/static/ba.min.js\n",
            "https://t1.daumcdn.net/top/favicon.ico\n",
            "https://search.daum.net/OpenSearch.xml\n",
            "https://t1.daumcdn.net/top/tiller-pc/h/production/20240724_153801/common.css\n",
            "https://t1.daumcdn.net/daumtop_deco/scripts/lib/swiper-js.min.css\n"
          ]
        }
      ]
    },
    {
      "cell_type": "code",
      "source": [],
      "metadata": {
        "id": "_gQ8CFkkhrWM"
      },
      "execution_count": null,
      "outputs": []
    },
    {
      "cell_type": "markdown",
      "source": [
        "# select() : 지정한 태그를 모두 파싱 즉 경로를 주면..."
      ],
      "metadata": {
        "id": "toHrjbAEiMyL"
      }
    },
    {
      "cell_type": "code",
      "source": [
        "html = '''\n",
        "<h1 id=\"title\">한빛출판네트워크</h1>\n",
        "<div class=\"top\">\n",
        "  <ul class=\"menu\">\n",
        "    <li>\n",
        "      <a href=http://www.hanbit.co.kr/member/login.html class=\"login login2\">로그인 </a>\n",
        "    </li>\n",
        "  </ul>\n",
        "\n",
        "  <ul class=\"brand\">\n",
        "    <li>\n",
        "      <a href=\"http://www.hanbit.co.kr/media/\">한빛미디어</a>\n",
        "    </li>\n",
        "    <li>\n",
        "      <a href=\"http://www.hanbit.co.kr/academy/\">한빛아카데미</a>\n",
        "    </li>\n",
        "  </ul>\n",
        "</div>\n",
        "'''\n",
        "soup = BeautifulSoup(html, 'html.parser')"
      ],
      "metadata": {
        "id": "31UqmOfljr5E"
      },
      "execution_count": 104,
      "outputs": []
    },
    {
      "cell_type": "code",
      "source": [
        "li_list = soup.select(\"div > ul.brand > li\")\n",
        "print(li_list)\n",
        "for tag in li_list:\n",
        "    print(tag.a.string)"
      ],
      "metadata": {
        "colab": {
          "base_uri": "https://localhost:8080/"
        },
        "id": "85HQ-XWcgzND",
        "outputId": "49f30342-aad9-4162-88b9-da3f9994e54e"
      },
      "execution_count": 117,
      "outputs": [
        {
          "output_type": "stream",
          "name": "stdout",
          "text": [
            "[<li>\n",
            "<a href=\"http://www.hanbit.co.kr/media/\">한빛미디어</a>\n",
            "</li>, <li>\n",
            "<a href=\"http://www.hanbit.co.kr/academy/\">한빛아카데미</a>\n",
            "</li>]\n",
            "한빛미디어\n",
            "한빛아카데미\n"
          ]
        }
      ]
    },
    {
      "cell_type": "code",
      "source": [
        "# 실습\n",
        "import requests\n",
        "url = 'https://raw.githubusercontent.com/leeky20240624/pythone/main/2%EA%B0%9C%EC%9B%94/1%EC%A3%BC%EC%B0%A8/test2.txt'\n",
        "response = requests.get(url)\n",
        "print(type(response.text))\n",
        "# 1. BeautifulSoup 객체 - 태그 파싱\n",
        "soup = BeautifulSoup(response.text, 'html.parser')\n",
        "# div 태그의 클래스명 'news_list_wrap' 목록을 추출\n",
        "tag_div = soup.select('div.news_list_wrap > div.news_list')"
      ],
      "metadata": {
        "colab": {
          "base_uri": "https://localhost:8080/"
        },
        "collapsed": true,
        "id": "HdExXnzOnoPm",
        "outputId": "490038d4-73a1-4cfb-bf97-0e3a4301cf9b"
      },
      "execution_count": 138,
      "outputs": [
        {
          "output_type": "stream",
          "name": "stdout",
          "text": [
            "<class 'str'>\n"
          ]
        }
      ]
    },
    {
      "cell_type": "code",
      "source": [
        "for tag in tag_div:\n",
        "  print(tag.a.string)"
      ],
      "metadata": {
        "colab": {
          "base_uri": "https://localhost:8080/"
        },
        "id": "HphHZQ13n364",
        "outputId": "f1b486cc-8066-48a7-e11b-87752e81ea2a"
      },
      "execution_count": 140,
      "outputs": [
        {
          "output_type": "stream",
          "name": "stdout",
          "text": [
            "'우주 삼각 클러스터'에 7년간 3천8백억 원...\"기반시설 먼저\"\n",
            "\"인공태양 '이터' 사업 지연, 기회로\"...핵융합 전기 생산 앞당긴다\n",
            "[과학 한스푼] \"누구나 입을 수 있다\"...우리 몸 닮은 '웨어러블 로봇' 성큼\n",
            "[짤막상식] 원자력 발전소\n",
            "우주의 화두 '쓰레기'...\"달 탐사, 지속가능해야\"\n",
            "유상임 장관 후보자 \"현장과 적극 소통해 R&D 예산 반영할 것\"\n",
            "체코 맞춤형으로 바꾼 한국형 원전...안전성·경제성 높다\n",
            "CCTV에 인공지능 더했다...범죄 예방 첫걸음\n",
            "체코 맞춤형으로 바꾼 한국형 원전...안전성·경제성 높다\n",
            "체코 맞춤형으로 바꾼 한국형 원전...안전성·경제성 높다\n"
          ]
        }
      ]
    },
    {
      "cell_type": "markdown",
      "source": [
        "# 매장정보 추출"
      ],
      "metadata": {
        "id": "-KkTaJykvwYJ"
      }
    },
    {
      "cell_type": "code",
      "source": [
        "from bs4 import BeautifulSoup\n",
        "import urllib.request as req"
      ],
      "metadata": {
        "id": "45MJJ7AwsUJR"
      },
      "execution_count": 141,
      "outputs": []
    },
    {
      "cell_type": "code",
      "source": [
        "url = 'https://www.hollys.co.kr/store/korea/korStore2.do?pageNo=1&sido=&gugun=&store='\n",
        "res = req.urlopen(url)\n",
        "soup = BeautifulSoup(res, 'html.parser')"
      ],
      "metadata": {
        "id": "7jI2OKMzv5AC"
      },
      "execution_count": 142,
      "outputs": []
    },
    {
      "cell_type": "code",
      "source": [
        "# soup.prettify()  # html 확인\n",
        "# contents > div.content > fieldset > fieldset > div.tableType01 > table > tbody > tr\n",
        "tr_lists = soup.select('div.content > fieldset > fieldset > div.tableType01 > table > tbody > tr')"
      ],
      "metadata": {
        "collapsed": true,
        "id": "xp1Jrc15wSO4"
      },
      "execution_count": 147,
      "outputs": []
    },
    {
      "cell_type": "code",
      "source": [
        "# 첫페이지의 매장명만 추출\n",
        "import bs4\n",
        "type(tr_lists[0].select('td')[0].a) == bs4.element.Tag"
      ],
      "metadata": {
        "colab": {
          "base_uri": "https://localhost:8080/"
        },
        "id": "akJP00A2wTGR",
        "outputId": "f91136ba-478d-49d3-e1ae-626de9bf7121"
      },
      "execution_count": 171,
      "outputs": [
        {
          "output_type": "execute_result",
          "data": {
            "text/plain": [
              "False"
            ]
          },
          "metadata": {},
          "execution_count": 171
        }
      ]
    },
    {
      "cell_type": "code",
      "source": [
        "result = []\n",
        "for tag in tr_lists:\n",
        "  area = tag.select('td')[0].string\n",
        "  store = tag.select('td')[1].a.string\n",
        "  check = tag.select('td')[2].string\n",
        "  result.append([area, store,check])\n",
        "result"
      ],
      "metadata": {
        "colab": {
          "base_uri": "https://localhost:8080/"
        },
        "collapsed": true,
        "id": "3SgKjJDLxV8J",
        "outputId": "0411eaa0-2e0c-4bcc-e385-95a6b20e92a7"
      },
      "execution_count": 172,
      "outputs": [
        {
          "output_type": "execute_result",
          "data": {
            "text/plain": [
              "[['대구 서구', '대구팔달교DT점', '영업중'],\n",
              " ['인천 중구', '인천공항교통센터점', '영업중'],\n",
              " ['부산 중구', '한국선원센터점', '영업중'],\n",
              " ['제주 제주시', '제주애월천덕로점', '영업중'],\n",
              " ['대구 달서구', '대구장기점', '영업중'],\n",
              " ['부산 연제구', '부산연산점', '영업중'],\n",
              " ['경북 김천시', '김천혁신도시점', '영업중'],\n",
              " ['경기 안양시 동안구', '평촌점', '영업중'],\n",
              " ['인천 남동구', '남동케이원점 ', '영업중'],\n",
              " ['경북 구미시', '구미CGV점', '영업중']]"
            ]
          },
          "metadata": {},
          "execution_count": 172
        }
      ]
    },
    {
      "cell_type": "code",
      "source": [
        "import pandas as pd\n",
        "df = pd.DataFrame(result, columns=['지역', '매장명', '현황'])\n",
        "df"
      ],
      "metadata": {
        "colab": {
          "base_uri": "https://localhost:8080/",
          "height": 363
        },
        "id": "IKBcMaiIyR4p",
        "outputId": "159a6e1e-fe18-4cb8-b054-12a591ecebcc"
      },
      "execution_count": 173,
      "outputs": [
        {
          "output_type": "execute_result",
          "data": {
            "text/plain": [
              "           지역        매장명   현황\n",
              "0       대구 서구   대구팔달교DT점  영업중\n",
              "1       인천 중구  인천공항교통센터점  영업중\n",
              "2       부산 중구    한국선원센터점  영업중\n",
              "3      제주 제주시   제주애월천덕로점  영업중\n",
              "4      대구 달서구      대구장기점  영업중\n",
              "5      부산 연제구      부산연산점  영업중\n",
              "6      경북 김천시    김천혁신도시점  영업중\n",
              "7  경기 안양시 동안구        평촌점  영업중\n",
              "8      인천 남동구    남동케이원점   영업중\n",
              "9      경북 구미시     구미CGV점  영업중"
            ],
            "text/html": [
              "\n",
              "  <div id=\"df-5587e8f1-7878-4a34-a084-00bc30db65f1\" class=\"colab-df-container\">\n",
              "    <div>\n",
              "<style scoped>\n",
              "    .dataframe tbody tr th:only-of-type {\n",
              "        vertical-align: middle;\n",
              "    }\n",
              "\n",
              "    .dataframe tbody tr th {\n",
              "        vertical-align: top;\n",
              "    }\n",
              "\n",
              "    .dataframe thead th {\n",
              "        text-align: right;\n",
              "    }\n",
              "</style>\n",
              "<table border=\"1\" class=\"dataframe\">\n",
              "  <thead>\n",
              "    <tr style=\"text-align: right;\">\n",
              "      <th></th>\n",
              "      <th>지역</th>\n",
              "      <th>매장명</th>\n",
              "      <th>현황</th>\n",
              "    </tr>\n",
              "  </thead>\n",
              "  <tbody>\n",
              "    <tr>\n",
              "      <th>0</th>\n",
              "      <td>대구 서구</td>\n",
              "      <td>대구팔달교DT점</td>\n",
              "      <td>영업중</td>\n",
              "    </tr>\n",
              "    <tr>\n",
              "      <th>1</th>\n",
              "      <td>인천 중구</td>\n",
              "      <td>인천공항교통센터점</td>\n",
              "      <td>영업중</td>\n",
              "    </tr>\n",
              "    <tr>\n",
              "      <th>2</th>\n",
              "      <td>부산 중구</td>\n",
              "      <td>한국선원센터점</td>\n",
              "      <td>영업중</td>\n",
              "    </tr>\n",
              "    <tr>\n",
              "      <th>3</th>\n",
              "      <td>제주 제주시</td>\n",
              "      <td>제주애월천덕로점</td>\n",
              "      <td>영업중</td>\n",
              "    </tr>\n",
              "    <tr>\n",
              "      <th>4</th>\n",
              "      <td>대구 달서구</td>\n",
              "      <td>대구장기점</td>\n",
              "      <td>영업중</td>\n",
              "    </tr>\n",
              "    <tr>\n",
              "      <th>5</th>\n",
              "      <td>부산 연제구</td>\n",
              "      <td>부산연산점</td>\n",
              "      <td>영업중</td>\n",
              "    </tr>\n",
              "    <tr>\n",
              "      <th>6</th>\n",
              "      <td>경북 김천시</td>\n",
              "      <td>김천혁신도시점</td>\n",
              "      <td>영업중</td>\n",
              "    </tr>\n",
              "    <tr>\n",
              "      <th>7</th>\n",
              "      <td>경기 안양시 동안구</td>\n",
              "      <td>평촌점</td>\n",
              "      <td>영업중</td>\n",
              "    </tr>\n",
              "    <tr>\n",
              "      <th>8</th>\n",
              "      <td>인천 남동구</td>\n",
              "      <td>남동케이원점</td>\n",
              "      <td>영업중</td>\n",
              "    </tr>\n",
              "    <tr>\n",
              "      <th>9</th>\n",
              "      <td>경북 구미시</td>\n",
              "      <td>구미CGV점</td>\n",
              "      <td>영업중</td>\n",
              "    </tr>\n",
              "  </tbody>\n",
              "</table>\n",
              "</div>\n",
              "    <div class=\"colab-df-buttons\">\n",
              "\n",
              "  <div class=\"colab-df-container\">\n",
              "    <button class=\"colab-df-convert\" onclick=\"convertToInteractive('df-5587e8f1-7878-4a34-a084-00bc30db65f1')\"\n",
              "            title=\"Convert this dataframe to an interactive table.\"\n",
              "            style=\"display:none;\">\n",
              "\n",
              "  <svg xmlns=\"http://www.w3.org/2000/svg\" height=\"24px\" viewBox=\"0 -960 960 960\">\n",
              "    <path d=\"M120-120v-720h720v720H120Zm60-500h600v-160H180v160Zm220 220h160v-160H400v160Zm0 220h160v-160H400v160ZM180-400h160v-160H180v160Zm440 0h160v-160H620v160ZM180-180h160v-160H180v160Zm440 0h160v-160H620v160Z\"/>\n",
              "  </svg>\n",
              "    </button>\n",
              "\n",
              "  <style>\n",
              "    .colab-df-container {\n",
              "      display:flex;\n",
              "      gap: 12px;\n",
              "    }\n",
              "\n",
              "    .colab-df-convert {\n",
              "      background-color: #E8F0FE;\n",
              "      border: none;\n",
              "      border-radius: 50%;\n",
              "      cursor: pointer;\n",
              "      display: none;\n",
              "      fill: #1967D2;\n",
              "      height: 32px;\n",
              "      padding: 0 0 0 0;\n",
              "      width: 32px;\n",
              "    }\n",
              "\n",
              "    .colab-df-convert:hover {\n",
              "      background-color: #E2EBFA;\n",
              "      box-shadow: 0px 1px 2px rgba(60, 64, 67, 0.3), 0px 1px 3px 1px rgba(60, 64, 67, 0.15);\n",
              "      fill: #174EA6;\n",
              "    }\n",
              "\n",
              "    .colab-df-buttons div {\n",
              "      margin-bottom: 4px;\n",
              "    }\n",
              "\n",
              "    [theme=dark] .colab-df-convert {\n",
              "      background-color: #3B4455;\n",
              "      fill: #D2E3FC;\n",
              "    }\n",
              "\n",
              "    [theme=dark] .colab-df-convert:hover {\n",
              "      background-color: #434B5C;\n",
              "      box-shadow: 0px 1px 3px 1px rgba(0, 0, 0, 0.15);\n",
              "      filter: drop-shadow(0px 1px 2px rgba(0, 0, 0, 0.3));\n",
              "      fill: #FFFFFF;\n",
              "    }\n",
              "  </style>\n",
              "\n",
              "    <script>\n",
              "      const buttonEl =\n",
              "        document.querySelector('#df-5587e8f1-7878-4a34-a084-00bc30db65f1 button.colab-df-convert');\n",
              "      buttonEl.style.display =\n",
              "        google.colab.kernel.accessAllowed ? 'block' : 'none';\n",
              "\n",
              "      async function convertToInteractive(key) {\n",
              "        const element = document.querySelector('#df-5587e8f1-7878-4a34-a084-00bc30db65f1');\n",
              "        const dataTable =\n",
              "          await google.colab.kernel.invokeFunction('convertToInteractive',\n",
              "                                                    [key], {});\n",
              "        if (!dataTable) return;\n",
              "\n",
              "        const docLinkHtml = 'Like what you see? Visit the ' +\n",
              "          '<a target=\"_blank\" href=https://colab.research.google.com/notebooks/data_table.ipynb>data table notebook</a>'\n",
              "          + ' to learn more about interactive tables.';\n",
              "        element.innerHTML = '';\n",
              "        dataTable['output_type'] = 'display_data';\n",
              "        await google.colab.output.renderOutput(dataTable, element);\n",
              "        const docLink = document.createElement('div');\n",
              "        docLink.innerHTML = docLinkHtml;\n",
              "        element.appendChild(docLink);\n",
              "      }\n",
              "    </script>\n",
              "  </div>\n",
              "\n",
              "\n",
              "<div id=\"df-6efc0a4e-75fb-4b30-869b-954dcb7e9ce8\">\n",
              "  <button class=\"colab-df-quickchart\" onclick=\"quickchart('df-6efc0a4e-75fb-4b30-869b-954dcb7e9ce8')\"\n",
              "            title=\"Suggest charts\"\n",
              "            style=\"display:none;\">\n",
              "\n",
              "<svg xmlns=\"http://www.w3.org/2000/svg\" height=\"24px\"viewBox=\"0 0 24 24\"\n",
              "     width=\"24px\">\n",
              "    <g>\n",
              "        <path d=\"M19 3H5c-1.1 0-2 .9-2 2v14c0 1.1.9 2 2 2h14c1.1 0 2-.9 2-2V5c0-1.1-.9-2-2-2zM9 17H7v-7h2v7zm4 0h-2V7h2v10zm4 0h-2v-4h2v4z\"/>\n",
              "    </g>\n",
              "</svg>\n",
              "  </button>\n",
              "\n",
              "<style>\n",
              "  .colab-df-quickchart {\n",
              "      --bg-color: #E8F0FE;\n",
              "      --fill-color: #1967D2;\n",
              "      --hover-bg-color: #E2EBFA;\n",
              "      --hover-fill-color: #174EA6;\n",
              "      --disabled-fill-color: #AAA;\n",
              "      --disabled-bg-color: #DDD;\n",
              "  }\n",
              "\n",
              "  [theme=dark] .colab-df-quickchart {\n",
              "      --bg-color: #3B4455;\n",
              "      --fill-color: #D2E3FC;\n",
              "      --hover-bg-color: #434B5C;\n",
              "      --hover-fill-color: #FFFFFF;\n",
              "      --disabled-bg-color: #3B4455;\n",
              "      --disabled-fill-color: #666;\n",
              "  }\n",
              "\n",
              "  .colab-df-quickchart {\n",
              "    background-color: var(--bg-color);\n",
              "    border: none;\n",
              "    border-radius: 50%;\n",
              "    cursor: pointer;\n",
              "    display: none;\n",
              "    fill: var(--fill-color);\n",
              "    height: 32px;\n",
              "    padding: 0;\n",
              "    width: 32px;\n",
              "  }\n",
              "\n",
              "  .colab-df-quickchart:hover {\n",
              "    background-color: var(--hover-bg-color);\n",
              "    box-shadow: 0 1px 2px rgba(60, 64, 67, 0.3), 0 1px 3px 1px rgba(60, 64, 67, 0.15);\n",
              "    fill: var(--button-hover-fill-color);\n",
              "  }\n",
              "\n",
              "  .colab-df-quickchart-complete:disabled,\n",
              "  .colab-df-quickchart-complete:disabled:hover {\n",
              "    background-color: var(--disabled-bg-color);\n",
              "    fill: var(--disabled-fill-color);\n",
              "    box-shadow: none;\n",
              "  }\n",
              "\n",
              "  .colab-df-spinner {\n",
              "    border: 2px solid var(--fill-color);\n",
              "    border-color: transparent;\n",
              "    border-bottom-color: var(--fill-color);\n",
              "    animation:\n",
              "      spin 1s steps(1) infinite;\n",
              "  }\n",
              "\n",
              "  @keyframes spin {\n",
              "    0% {\n",
              "      border-color: transparent;\n",
              "      border-bottom-color: var(--fill-color);\n",
              "      border-left-color: var(--fill-color);\n",
              "    }\n",
              "    20% {\n",
              "      border-color: transparent;\n",
              "      border-left-color: var(--fill-color);\n",
              "      border-top-color: var(--fill-color);\n",
              "    }\n",
              "    30% {\n",
              "      border-color: transparent;\n",
              "      border-left-color: var(--fill-color);\n",
              "      border-top-color: var(--fill-color);\n",
              "      border-right-color: var(--fill-color);\n",
              "    }\n",
              "    40% {\n",
              "      border-color: transparent;\n",
              "      border-right-color: var(--fill-color);\n",
              "      border-top-color: var(--fill-color);\n",
              "    }\n",
              "    60% {\n",
              "      border-color: transparent;\n",
              "      border-right-color: var(--fill-color);\n",
              "    }\n",
              "    80% {\n",
              "      border-color: transparent;\n",
              "      border-right-color: var(--fill-color);\n",
              "      border-bottom-color: var(--fill-color);\n",
              "    }\n",
              "    90% {\n",
              "      border-color: transparent;\n",
              "      border-bottom-color: var(--fill-color);\n",
              "    }\n",
              "  }\n",
              "</style>\n",
              "\n",
              "  <script>\n",
              "    async function quickchart(key) {\n",
              "      const quickchartButtonEl =\n",
              "        document.querySelector('#' + key + ' button');\n",
              "      quickchartButtonEl.disabled = true;  // To prevent multiple clicks.\n",
              "      quickchartButtonEl.classList.add('colab-df-spinner');\n",
              "      try {\n",
              "        const charts = await google.colab.kernel.invokeFunction(\n",
              "            'suggestCharts', [key], {});\n",
              "      } catch (error) {\n",
              "        console.error('Error during call to suggestCharts:', error);\n",
              "      }\n",
              "      quickchartButtonEl.classList.remove('colab-df-spinner');\n",
              "      quickchartButtonEl.classList.add('colab-df-quickchart-complete');\n",
              "    }\n",
              "    (() => {\n",
              "      let quickchartButtonEl =\n",
              "        document.querySelector('#df-6efc0a4e-75fb-4b30-869b-954dcb7e9ce8 button');\n",
              "      quickchartButtonEl.style.display =\n",
              "        google.colab.kernel.accessAllowed ? 'block' : 'none';\n",
              "    })();\n",
              "  </script>\n",
              "</div>\n",
              "\n",
              "  <div id=\"id_c26ed7d6-6449-4a8b-8c8e-41f4af10bb3c\">\n",
              "    <style>\n",
              "      .colab-df-generate {\n",
              "        background-color: #E8F0FE;\n",
              "        border: none;\n",
              "        border-radius: 50%;\n",
              "        cursor: pointer;\n",
              "        display: none;\n",
              "        fill: #1967D2;\n",
              "        height: 32px;\n",
              "        padding: 0 0 0 0;\n",
              "        width: 32px;\n",
              "      }\n",
              "\n",
              "      .colab-df-generate:hover {\n",
              "        background-color: #E2EBFA;\n",
              "        box-shadow: 0px 1px 2px rgba(60, 64, 67, 0.3), 0px 1px 3px 1px rgba(60, 64, 67, 0.15);\n",
              "        fill: #174EA6;\n",
              "      }\n",
              "\n",
              "      [theme=dark] .colab-df-generate {\n",
              "        background-color: #3B4455;\n",
              "        fill: #D2E3FC;\n",
              "      }\n",
              "\n",
              "      [theme=dark] .colab-df-generate:hover {\n",
              "        background-color: #434B5C;\n",
              "        box-shadow: 0px 1px 3px 1px rgba(0, 0, 0, 0.15);\n",
              "        filter: drop-shadow(0px 1px 2px rgba(0, 0, 0, 0.3));\n",
              "        fill: #FFFFFF;\n",
              "      }\n",
              "    </style>\n",
              "    <button class=\"colab-df-generate\" onclick=\"generateWithVariable('df')\"\n",
              "            title=\"Generate code using this dataframe.\"\n",
              "            style=\"display:none;\">\n",
              "\n",
              "  <svg xmlns=\"http://www.w3.org/2000/svg\" height=\"24px\"viewBox=\"0 0 24 24\"\n",
              "       width=\"24px\">\n",
              "    <path d=\"M7,19H8.4L18.45,9,17,7.55,7,17.6ZM5,21V16.75L18.45,3.32a2,2,0,0,1,2.83,0l1.4,1.43a1.91,1.91,0,0,1,.58,1.4,1.91,1.91,0,0,1-.58,1.4L9.25,21ZM18.45,9,17,7.55Zm-12,3A5.31,5.31,0,0,0,4.9,8.1,5.31,5.31,0,0,0,1,6.5,5.31,5.31,0,0,0,4.9,4.9,5.31,5.31,0,0,0,6.5,1,5.31,5.31,0,0,0,8.1,4.9,5.31,5.31,0,0,0,12,6.5,5.46,5.46,0,0,0,6.5,12Z\"/>\n",
              "  </svg>\n",
              "    </button>\n",
              "    <script>\n",
              "      (() => {\n",
              "      const buttonEl =\n",
              "        document.querySelector('#id_c26ed7d6-6449-4a8b-8c8e-41f4af10bb3c button.colab-df-generate');\n",
              "      buttonEl.style.display =\n",
              "        google.colab.kernel.accessAllowed ? 'block' : 'none';\n",
              "\n",
              "      buttonEl.onclick = () => {\n",
              "        google.colab.notebook.generateWithVariable('df');\n",
              "      }\n",
              "      })();\n",
              "    </script>\n",
              "  </div>\n",
              "\n",
              "    </div>\n",
              "  </div>\n"
            ],
            "application/vnd.google.colaboratory.intrinsic+json": {
              "type": "dataframe",
              "variable_name": "df",
              "summary": "{\n  \"name\": \"df\",\n  \"rows\": 10,\n  \"fields\": [\n    {\n      \"column\": \"\\uc9c0\\uc5ed\",\n      \"properties\": {\n        \"dtype\": \"string\",\n        \"num_unique_values\": 10,\n        \"samples\": [\n          \"\\uc778\\ucc9c \\ub0a8\\ub3d9\\uad6c\",\n          \"\\uc778\\ucc9c \\uc911\\uad6c\",\n          \"\\ubd80\\uc0b0 \\uc5f0\\uc81c\\uad6c\"\n        ],\n        \"semantic_type\": \"\",\n        \"description\": \"\"\n      }\n    },\n    {\n      \"column\": \"\\ub9e4\\uc7a5\\uba85\",\n      \"properties\": {\n        \"dtype\": \"string\",\n        \"num_unique_values\": 10,\n        \"samples\": [\n          \"\\ub0a8\\ub3d9\\ucf00\\uc774\\uc6d0\\uc810 \",\n          \"\\uc778\\ucc9c\\uacf5\\ud56d\\uad50\\ud1b5\\uc13c\\ud130\\uc810\",\n          \"\\ubd80\\uc0b0\\uc5f0\\uc0b0\\uc810\"\n        ],\n        \"semantic_type\": \"\",\n        \"description\": \"\"\n      }\n    },\n    {\n      \"column\": \"\\ud604\\ud669\",\n      \"properties\": {\n        \"dtype\": \"category\",\n        \"num_unique_values\": 1,\n        \"samples\": [\n          \"\\uc601\\uc5c5\\uc911\"\n        ],\n        \"semantic_type\": \"\",\n        \"description\": \"\"\n      }\n    }\n  ]\n}"
            }
          },
          "metadata": {},
          "execution_count": 173
        }
      ]
    },
    {
      "cell_type": "code",
      "source": [],
      "metadata": {
        "id": "9pozkQRE0fLZ"
      },
      "execution_count": null,
      "outputs": []
    }
  ]
}