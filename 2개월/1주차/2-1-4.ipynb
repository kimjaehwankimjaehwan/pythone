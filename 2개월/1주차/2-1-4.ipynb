{
 "cells": [
  {
   "cell_type": "markdown",
   "id": "8d1746c1-4e15-4a50-8650-db14edc3e566",
   "metadata": {},
   "source": [
    "# 동적 웹크롤링"
   ]
  },
  {
   "cell_type": "markdown",
   "id": "4e8820bb-3d86-4105-8e33-fc8269a53c7b",
   "metadata": {},
   "source": [
    "### 라이브러리 설치"
   ]
  },
  {
   "cell_type": "code",
   "execution_count": null,
   "id": "625ba916-7cdb-4ae8-9c47-a2ceb8959089",
   "metadata": {
    "scrolled": true
   },
   "outputs": [],
   "source": [
    "!pip install selenium\n",
    "!pip install bs4"
   ]
  },
  {
   "cell_type": "markdown",
   "id": "f52e3f03-244b-4044-b233-201c6477e6d4",
   "metadata": {},
   "source": [
    "## WebDriver 임포트"
   ]
  },
  {
   "cell_type": "code",
   "execution_count": null,
   "id": "cca1b8eb-d14c-4208-afd0-c2c926de944b",
   "metadata": {},
   "outputs": [],
   "source": [
    "from selenium import webdriver\n",
    "from bs4 import BeautifulSoup"
   ]
  },
  {
   "cell_type": "code",
   "execution_count": null,
   "id": "3f579431-fb80-4c5f-a3b1-602a62ac508e",
   "metadata": {},
   "outputs": [],
   "source": [
    "# 객체생성\n",
    "wd = webdriver.Chrome()   # 자동화 브라우저 생성"
   ]
  },
  {
   "cell_type": "code",
   "execution_count": null,
   "id": "eaab53ae-bf29-47ce-ac65-55cf53781f9e",
   "metadata": {},
   "outputs": [],
   "source": [
    "# 자동화 브라우져에 주소를 입력\n",
    "wd.get(\"https://www.coffeebeankorea.com/store/store.asp\")"
   ]
  },
  {
   "cell_type": "code",
   "execution_count": null,
   "id": "4a5faf67-219d-4ec8-92c7-dd8fdf7b9e47",
   "metadata": {},
   "outputs": [],
   "source": [
    "# 해당 주소에 있는 자바스크립트 실행\n",
    "wd.execute_script(\"storePop2(31)\")"
   ]
  },
  {
   "cell_type": "code",
   "execution_count": null,
   "id": "1bce29fe-0a3f-4bae-809f-5e2c815f910b",
   "metadata": {},
   "outputs": [],
   "source": [
    "# html 소스로 변환\n",
    "html = wd.page_source"
   ]
  },
  {
   "cell_type": "code",
   "execution_count": null,
   "id": "91c341f5-6b08-4c1a-a6e1-6a6e4833be06",
   "metadata": {},
   "outputs": [],
   "source": [
    "# 파싱을 위해 beautifulsoup 객체 생성\n",
    "soupCB1 = BeautifulSoup(html,'html.parser')"
   ]
  },
  {
   "cell_type": "code",
   "execution_count": null,
   "id": "67527469-2c31-43d7-9530-5f66cd8341d1",
   "metadata": {},
   "outputs": [],
   "source": [
    "# html 확인 - 필요하면\n",
    "# print(soupCB1.prettify())"
   ]
  },
  {
   "cell_type": "code",
   "execution_count": null,
   "id": "5f4e5d31-d8c1-4db4-a75c-bbec324261cb",
   "metadata": {},
   "outputs": [],
   "source": [
    "# 추출하려는 패턴을 확인하고 적용  매장명\n",
    "store_title = soupCB1.select('div.store_txt>h2')"
   ]
  },
  {
   "cell_type": "code",
   "execution_count": null,
   "id": "0ea88abd-3172-4d83-b64c-80bd3466f486",
   "metadata": {},
   "outputs": [],
   "source": [
    "# 매장정보\n",
    "tr_lists = soupCB1.select('table.store_table>tbody>tr')"
   ]
  },
  {
   "cell_type": "code",
   "execution_count": null,
   "id": "e2c9c319-081d-4f90-a74a-c7cae73c4e30",
   "metadata": {},
   "outputs": [],
   "source": [
    "print(tr_lists[0].th.text,  tr_lists[0].td.text)\n",
    "print(tr_lists[1].th.text,  tr_lists[1].td.text)\n",
    "print(tr_lists[2].th.text,  tr_lists[2].td.text)\n",
    "print(tr_lists[3].th.text,  tr_lists[3].td.text)\n",
    "print(tr_lists[4].th.text,  tr_lists[4].td.text)"
   ]
  },
  {
   "cell_type": "code",
   "execution_count": null,
   "id": "97fa7368-6720-4749-9b14-065ab4e46ef8",
   "metadata": {},
   "outputs": [],
   "source": []
  },
  {
   "cell_type": "code",
   "execution_count": null,
   "id": "c7961767-be09-421a-aaff-8c664c2aeb4f",
   "metadata": {},
   "outputs": [],
   "source": []
  }
 ],
 "metadata": {
  "kernelspec": {
   "display_name": "Python 3 (ipykernel)",
   "language": "python",
   "name": "python3"
  },
  "language_info": {
   "codemirror_mode": {
    "name": "ipython",
    "version": 3
   },
   "file_extension": ".py",
   "mimetype": "text/x-python",
   "name": "python",
   "nbconvert_exporter": "python",
   "pygments_lexer": "ipython3",
   "version": "3.10.14"
  }
 },
 "nbformat": 4,
 "nbformat_minor": 5
}
