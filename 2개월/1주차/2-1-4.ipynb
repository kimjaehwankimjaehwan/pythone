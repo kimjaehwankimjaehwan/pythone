{
 "cells": [
  {
   "cell_type": "markdown",
   "id": "8d1746c1-4e15-4a50-8650-db14edc3e566",
   "metadata": {},
   "source": [
    "# 동적 웹크롤링"
   ]
  },
  {
   "cell_type": "markdown",
   "id": "4e8820bb-3d86-4105-8e33-fc8269a53c7b",
   "metadata": {},
   "source": [
    "### 라이브러리 설치"
   ]
  },
  {
   "cell_type": "code",
   "execution_count": null,
   "id": "625ba916-7cdb-4ae8-9c47-a2ceb8959089",
   "metadata": {
    "scrolled": true
   },
   "outputs": [],
   "source": [
    "!pip install selenium\n",
    "!pip install bs4"
   ]
  },
  {
   "cell_type": "markdown",
   "id": "f52e3f03-244b-4044-b233-201c6477e6d4",
   "metadata": {},
   "source": [
    "## WebDriver 임포트"
   ]
  },
  {
   "cell_type": "code",
   "execution_count": 134,
   "id": "cca1b8eb-d14c-4208-afd0-c2c926de944b",
   "metadata": {},
   "outputs": [],
   "source": [
    "from selenium import webdriver\n",
    "from bs4 import BeautifulSoup\n",
    "import time\n",
    "from selenium.webdriver.support.ui import WebDriverWait\n",
    "from selenium.webdriver.common.by import By\n",
    "from selenium.webdriver.support import expected_conditions as EC"
   ]
  },
  {
   "cell_type": "code",
   "execution_count": 135,
   "id": "3f579431-fb80-4c5f-a3b1-602a62ac508e",
   "metadata": {},
   "outputs": [],
   "source": [
    "# 객체생성\n",
    "wd = webdriver.Chrome()   # 자동화 브라우저 생성"
   ]
  },
  {
   "cell_type": "code",
   "execution_count": 136,
   "id": "eaab53ae-bf29-47ce-ac65-55cf53781f9e",
   "metadata": {},
   "outputs": [],
   "source": [
    "# 자동화 브라우져에 주소를 입력\n",
    "wd.get(\"https://www.coffeebeankorea.com/store/store.asp\")"
   ]
  },
  {
   "cell_type": "code",
   "execution_count": 138,
   "id": "4a5faf67-219d-4ec8-92c7-dd8fdf7b9e47",
   "metadata": {},
   "outputs": [],
   "source": [
    "# 해당 주소에 있는 자바스크립트 실행\n",
    "wd.execute_script(\"storePop2(3)\")"
   ]
  },
  {
   "cell_type": "code",
   "execution_count": null,
   "id": "1bce29fe-0a3f-4bae-809f-5e2c815f910b",
   "metadata": {},
   "outputs": [],
   "source": [
    "# html 소스로 변환\n",
    "html = wd.page_source"
   ]
  },
  {
   "cell_type": "code",
   "execution_count": null,
   "id": "91c341f5-6b08-4c1a-a6e1-6a6e4833be06",
   "metadata": {},
   "outputs": [],
   "source": [
    "# 파싱을 위해 beautifulsoup 객체 생성\n",
    "soupCB1 = BeautifulSoup(html,'html.parser')"
   ]
  },
  {
   "cell_type": "code",
   "execution_count": null,
   "id": "67527469-2c31-43d7-9530-5f66cd8341d1",
   "metadata": {},
   "outputs": [],
   "source": [
    "# html 확인 - 필요하면\n",
    "# print(soupCB1.prettify())"
   ]
  },
  {
   "cell_type": "code",
   "execution_count": null,
   "id": "5f4e5d31-d8c1-4db4-a75c-bbec324261cb",
   "metadata": {},
   "outputs": [],
   "source": [
    "# 추출하려는 패턴을 확인하고 적용  매장명\n",
    "store_title = soupCB1.select('div.store_txt>h2')\n",
    "len(store_title) > 0"
   ]
  },
  {
   "cell_type": "code",
   "execution_count": null,
   "id": "0ea88abd-3172-4d83-b64c-80bd3466f486",
   "metadata": {},
   "outputs": [],
   "source": [
    "# 매장정보\n",
    "tr_lists = soupCB1.select('table.store_table>tbody>tr')"
   ]
  },
  {
   "cell_type": "code",
   "execution_count": null,
   "id": "e2c9c319-081d-4f90-a74a-c7cae73c4e30",
   "metadata": {},
   "outputs": [],
   "source": [
    "print(tr_lists[0].th.text,  tr_lists[0].td.text)\n",
    "print(tr_lists[1].th.text,  tr_lists[1].td.text)\n",
    "print(tr_lists[2].th.text,  tr_lists[2].td.text)\n",
    "print(tr_lists[3].th.text,  tr_lists[3].td.text)\n",
    "print(tr_lists[4].th.text,  tr_lists[4].td.text)"
   ]
  },
  {
   "cell_type": "code",
   "execution_count": null,
   "id": "f71e84d0-5322-42f0-ab44-c8732b4d3310",
   "metadata": {},
   "outputs": [],
   "source": []
  },
  {
   "cell_type": "code",
   "execution_count": 140,
   "id": "97fa7368-6720-4749-9b14-065ab4e46ef8",
   "metadata": {},
   "outputs": [],
   "source": [
    "from selenium import webdriver\n",
    "from bs4 import BeautifulSoup\n",
    "import time\n",
    "from selenium.webdriver.support.ui import WebDriverWait\n",
    "from selenium.webdriver.common.by import By\n",
    "from selenium.webdriver.support import expected_conditions as EC"
   ]
  },
  {
   "cell_type": "code",
   "execution_count": 142,
   "id": "c7961767-be09-421a-aaff-8c664c2aeb4f",
   "metadata": {},
   "outputs": [
    {
     "name": "stdout",
     "output_type": "stream",
     "text": [
      "[]\n"
     ]
    },
    {
     "ename": "TimeoutException",
     "evalue": "Message: \n",
     "output_type": "error",
     "traceback": [
      "\u001b[1;31m---------------------------------------------------------------------------\u001b[0m",
      "\u001b[1;31mTimeoutException\u001b[0m                          Traceback (most recent call last)",
      "Cell \u001b[1;32mIn[142], line 13\u001b[0m\n\u001b[0;32m     11\u001b[0m \u001b[38;5;28mprint\u001b[39m(store_title)\n\u001b[0;32m     12\u001b[0m \u001b[38;5;66;03m# 버튼요소를 찾기\u001b[39;00m\n\u001b[1;32m---> 13\u001b[0m button \u001b[38;5;241m=\u001b[39m \u001b[43mWebDriverWait\u001b[49m\u001b[43m(\u001b[49m\u001b[43mwd\u001b[49m\u001b[43m,\u001b[49m\u001b[38;5;241;43m10\u001b[39;49m\u001b[43m)\u001b[49m\u001b[38;5;241;43m.\u001b[39;49m\u001b[43muntil\u001b[49m\u001b[43m(\u001b[49m\n\u001b[0;32m     14\u001b[0m \u001b[43m    \u001b[49m\u001b[43mEC\u001b[49m\u001b[38;5;241;43m.\u001b[39;49m\u001b[43mpresence_of_all_elements_located\u001b[49m\u001b[43m(\u001b[49m\u001b[43m \u001b[49m\u001b[43m(\u001b[49m\u001b[43mBy\u001b[49m\u001b[38;5;241;43m.\u001b[39;49m\u001b[43mID\u001b[49m\u001b[43m,\u001b[49m\u001b[38;5;124;43m'\u001b[39;49m\u001b[38;5;124;43mcloseBtn1ActiveBtn\u001b[39;49m\u001b[38;5;124;43m'\u001b[39;49m\u001b[43m)\u001b[49m\u001b[43m)\u001b[49m\n\u001b[0;32m     15\u001b[0m \u001b[43m\u001b[49m\u001b[43m)\u001b[49m[\u001b[38;5;241m0\u001b[39m]\n\u001b[0;32m     16\u001b[0m button\u001b[38;5;241m.\u001b[39mclick()\n",
      "File \u001b[1;32m~\\anaconda3\\envs\\crl\\lib\\site-packages\\selenium\\webdriver\\support\\wait.py:105\u001b[0m, in \u001b[0;36mWebDriverWait.until\u001b[1;34m(self, method, message)\u001b[0m\n\u001b[0;32m    103\u001b[0m     \u001b[38;5;28;01mif\u001b[39;00m time\u001b[38;5;241m.\u001b[39mmonotonic() \u001b[38;5;241m>\u001b[39m end_time:\n\u001b[0;32m    104\u001b[0m         \u001b[38;5;28;01mbreak\u001b[39;00m\n\u001b[1;32m--> 105\u001b[0m \u001b[38;5;28;01mraise\u001b[39;00m TimeoutException(message, screen, stacktrace)\n",
      "\u001b[1;31mTimeoutException\u001b[0m: Message: \n"
     ]
    }
   ],
   "source": [
    "# 동적페이지 크롤링\n",
    "wd = webdriver.Chrome() \n",
    "wd.get(\"https://www.coffeebeankorea.com/store/store.asp\")\n",
    "time.sleep(1)  # 대기\n",
    "for store_num in range(2):\n",
    "    wd.execute_script(f\"storePop2({store_num})\")\n",
    "    time.sleep(1)\n",
    "    html = wd.page_source\n",
    "    soupCB1 = BeautifulSoup(html,'html.parser')\n",
    "    store_title = soupCB1.select('div.store_txt>h2')    \n",
    "    print(store_title)\n",
    "    # 버튼요소를 찾기\n",
    "    button = WebDriverWait(wd,10).until(\n",
    "        EC.presence_of_all_elements_located( (By.ID,'closeBtn1ActiveBtn'))\n",
    "    )[0]\n",
    "    button.click()"
   ]
  },
  {
   "cell_type": "code",
   "execution_count": 146,
   "id": "ca612698-ce50-4ff9-a37e-333b7a22253d",
   "metadata": {},
   "outputs": [],
   "source": [
    "# 버튼요소를 찾기\n",
    "button = WebDriverWait(wd,1).until(\n",
    "    EC.presence_of_all_elements_located( (By.ID,'closeBtn1ActiveBtn'))\n",
    ")[0]\n",
    "button.click()"
   ]
  },
  {
   "cell_type": "code",
   "execution_count": null,
   "id": "ca395ad3-229f-4a21-99e7-d5e9563d29a5",
   "metadata": {},
   "outputs": [],
   "source": []
  }
 ],
 "metadata": {
  "kernelspec": {
   "display_name": "Python 3 (ipykernel)",
   "language": "python",
   "name": "python3"
  },
  "language_info": {
   "codemirror_mode": {
    "name": "ipython",
    "version": 3
   },
   "file_extension": ".py",
   "mimetype": "text/x-python",
   "name": "python",
   "nbconvert_exporter": "python",
   "pygments_lexer": "ipython3",
   "version": "3.10.14"
  }
 },
 "nbformat": 4,
 "nbformat_minor": 5
}
