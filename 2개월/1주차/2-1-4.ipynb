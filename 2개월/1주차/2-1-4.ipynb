{
 "cells": [
  {
   "cell_type": "markdown",
   "id": "8d1746c1-4e15-4a50-8650-db14edc3e566",
   "metadata": {},
   "source": [
    "# 동적 웹크롤링"
   ]
  },
  {
   "cell_type": "markdown",
   "id": "4e8820bb-3d86-4105-8e33-fc8269a53c7b",
   "metadata": {},
   "source": [
    "### 라이브러리 설치"
   ]
  },
  {
   "cell_type": "code",
   "execution_count": null,
   "id": "625ba916-7cdb-4ae8-9c47-a2ceb8959089",
   "metadata": {
    "scrolled": true
   },
   "outputs": [],
   "source": [
    "!pip install selenium\n",
    "!pip install bs4\n",
    "!pip install tqdm"
   ]
  },
  {
   "cell_type": "markdown",
   "id": "f52e3f03-244b-4044-b233-201c6477e6d4",
   "metadata": {},
   "source": [
    "## WebDriver 임포트"
   ]
  },
  {
   "cell_type": "code",
   "execution_count": null,
   "id": "cca1b8eb-d14c-4208-afd0-c2c926de944b",
   "metadata": {},
   "outputs": [],
   "source": [
    "from selenium import webdriver\n",
    "from bs4 import BeautifulSoup\n",
    "import time\n",
    "from selenium.webdriver.support.ui import WebDriverWait\n",
    "from selenium.webdriver.common.by import By\n",
    "from selenium.webdriver.support import expected_conditions as EC"
   ]
  },
  {
   "cell_type": "code",
   "execution_count": null,
   "id": "3f579431-fb80-4c5f-a3b1-602a62ac508e",
   "metadata": {},
   "outputs": [],
   "source": [
    "# 객체생성\n",
    "wd = webdriver.Chrome()   # 자동화 브라우저 생성"
   ]
  },
  {
   "cell_type": "code",
   "execution_count": null,
   "id": "eaab53ae-bf29-47ce-ac65-55cf53781f9e",
   "metadata": {},
   "outputs": [],
   "source": [
    "# 자동화 브라우져에 주소를 입력\n",
    "wd.get(\"https://www.coffeebeankorea.com/store/store.asp\")"
   ]
  },
  {
   "cell_type": "code",
   "execution_count": null,
   "id": "4a5faf67-219d-4ec8-92c7-dd8fdf7b9e47",
   "metadata": {},
   "outputs": [],
   "source": [
    "# 해당 주소에 있는 자바스크립트 실행\n",
    "wd.execute_script(\"storePop2(0)\")"
   ]
  },
  {
   "cell_type": "code",
   "execution_count": null,
   "id": "1bce29fe-0a3f-4bae-809f-5e2c815f910b",
   "metadata": {},
   "outputs": [],
   "source": [
    "# html 소스로 변환\n",
    "html = wd.page_source"
   ]
  },
  {
   "cell_type": "code",
   "execution_count": null,
   "id": "91c341f5-6b08-4c1a-a6e1-6a6e4833be06",
   "metadata": {},
   "outputs": [],
   "source": [
    "# 파싱을 위해 beautifulsoup 객체 생성\n",
    "soupCB1 = BeautifulSoup(html,'html.parser')"
   ]
  },
  {
   "cell_type": "code",
   "execution_count": null,
   "id": "67527469-2c31-43d7-9530-5f66cd8341d1",
   "metadata": {},
   "outputs": [],
   "source": [
    "# html 확인 - 필요하면\n",
    "# print(soupCB1.prettify())"
   ]
  },
  {
   "cell_type": "code",
   "execution_count": null,
   "id": "5f4e5d31-d8c1-4db4-a75c-bbec324261cb",
   "metadata": {},
   "outputs": [],
   "source": [
    "# 추출하려는 패턴을 확인하고 적용  매장명\n",
    "store_title = soupCB1.select('div.store_txt>h2')\n",
    "len(store_title) > 0"
   ]
  },
  {
   "cell_type": "code",
   "execution_count": null,
   "id": "0ea88abd-3172-4d83-b64c-80bd3466f486",
   "metadata": {},
   "outputs": [],
   "source": [
    "# 매장정보\n",
    "tr_lists = soupCB1.select('table.store_table>tbody>tr')"
   ]
  },
  {
   "cell_type": "code",
   "execution_count": null,
   "id": "e2c9c319-081d-4f90-a74a-c7cae73c4e30",
   "metadata": {},
   "outputs": [],
   "source": [
    "print(tr_lists[0].th.text,  tr_lists[0].td.text)\n",
    "print(tr_lists[1].th.text,  tr_lists[1].td.text)\n",
    "print(tr_lists[2].th.text,  tr_lists[2].td.text)\n",
    "print(tr_lists[3].th.text,  tr_lists[3].td.text)\n",
    "print(tr_lists[4].th.text,  tr_lists[4].td.text)"
   ]
  },
  {
   "cell_type": "markdown",
   "id": "18c860bb-4e17-413d-a66a-33730d9e9ab9",
   "metadata": {},
   "source": [
    "# 한꺼번에 실행하기"
   ]
  },
  {
   "cell_type": "code",
   "execution_count": 173,
   "id": "97fa7368-6720-4749-9b14-065ab4e46ef8",
   "metadata": {},
   "outputs": [],
   "source": [
    "from selenium import webdriver\n",
    "from bs4 import BeautifulSoup\n",
    "import time\n",
    "from selenium.webdriver.support.ui import WebDriverWait\n",
    "from selenium.webdriver.common.by import By\n",
    "from selenium.webdriver.support import expected_conditions as EC\n",
    "from tqdm import tqdm # 진행상태를 표시\n",
    "import pandas as pd"
   ]
  },
  {
   "cell_type": "code",
   "execution_count": 176,
   "id": "c7961767-be09-421a-aaff-8c664c2aeb4f",
   "metadata": {},
   "outputs": [
    {
     "name": "stderr",
     "output_type": "stream",
     "text": [
      "100%|████████████████████████████████████████████████████████████████████████████████| 100/100 [04:57<00:00,  2.97s/it]\n"
     ]
    },
    {
     "data": {
      "text/html": [
       "<div>\n",
       "<style scoped>\n",
       "    .dataframe tbody tr th:only-of-type {\n",
       "        vertical-align: middle;\n",
       "    }\n",
       "\n",
       "    .dataframe tbody tr th {\n",
       "        vertical-align: top;\n",
       "    }\n",
       "\n",
       "    .dataframe thead th {\n",
       "        text-align: right;\n",
       "    }\n",
       "</style>\n",
       "<table border=\"1\" class=\"dataframe\">\n",
       "  <thead>\n",
       "    <tr style=\"text-align: right;\">\n",
       "      <th></th>\n",
       "      <th>매장명</th>\n",
       "      <th>영업시간</th>\n",
       "      <th>주차</th>\n",
       "      <th>주소</th>\n",
       "      <th>전화번호</th>\n",
       "      <th>기타정보</th>\n",
       "    </tr>\n",
       "  </thead>\n",
       "  <tbody>\n",
       "    <tr>\n",
       "      <th>0</th>\n",
       "      <td>차병원점</td>\n",
       "      <td>평일 07:00~18:00 | 토요일 07:00~15:00 | 일.공휴일 휴무</td>\n",
       "      <td>병원주차장 이용가능 (병원방문시 무료)</td>\n",
       "      <td>서울시 강남구 논현로 566 강남차병원1층</td>\n",
       "      <td>02-538-7615</td>\n",
       "      <td>식약처 인증 위생등급 매우 우수매장</td>\n",
       "    </tr>\n",
       "    <tr>\n",
       "      <th>1</th>\n",
       "      <td>청담성당점</td>\n",
       "      <td>월-금 07:00~21:00 | 토 07:30~21:00 | 일/공휴일 07:30~...</td>\n",
       "      <td>발렛주차가능 / 최초 1시간 4000원 / 1시간당 추가시 2000원</td>\n",
       "      <td>서울시 강남구 삼성로 716 LEE76빌딩2층</td>\n",
       "      <td>02-542-2053</td>\n",
       "      <td>홀케익 당일 수령가능</td>\n",
       "    </tr>\n",
       "    <tr>\n",
       "      <th>2</th>\n",
       "      <td>서초우성점</td>\n",
       "      <td>평일 07:00~23:00ㅣ토 07:00~22:30 I 일/공휴일 08:00~22:00</td>\n",
       "      <td></td>\n",
       "      <td>서울시 서초구 강남대로 51길 1 511 TOWER  1층</td>\n",
       "      <td>02-582-0158</td>\n",
       "      <td>홀케익 당일 수령가능</td>\n",
       "    </tr>\n",
       "    <tr>\n",
       "      <th>3</th>\n",
       "      <td>삼성봉은사거리점</td>\n",
       "      <td>평일 07:00-22:30 | 주말/공휴일 07:00-22:00</td>\n",
       "      <td>건물뒷편주차장(기계주차식)평일 최초 30분 2,000원 / 1시간 5,000원 (구...</td>\n",
       "      <td>서울시 강남구 영동대로 607 1,2층</td>\n",
       "      <td>02-3443-5618</td>\n",
       "      <td>식약처 인증 위생등급 매우 우수매장</td>\n",
       "    </tr>\n",
       "    <tr>\n",
       "      <th>4</th>\n",
       "      <td>잠실신천점</td>\n",
       "      <td>월-금 07:00~22:00 | 주말&amp;공휴일 07:00~21:00</td>\n",
       "      <td>1시간 무료주차가능-건물옆에 주차타워(기계주차식)-대형차량불가반려동물 출입 가능</td>\n",
       "      <td>서울시 송파구 석촌호수로 118 1층</td>\n",
       "      <td>02-416-9520</td>\n",
       "      <td>펫 프렌들리 매장</td>\n",
       "    </tr>\n",
       "    <tr>\n",
       "      <th>5</th>\n",
       "      <td>삼성전자강남사옥점</td>\n",
       "      <td>월-금 07:00~17:00 | 토/일/공휴일 휴점</td>\n",
       "      <td>1시간 무료주차 (영수증 지참시)</td>\n",
       "      <td>서울시 서초구 서초대로74길 11 지하2층</td>\n",
       "      <td>02-2055-1142</td>\n",
       "      <td>식약처 인증 위생등급 매우 우수매장</td>\n",
       "    </tr>\n",
       "    <tr>\n",
       "      <th>6</th>\n",
       "      <td>삼성생명강남사옥점</td>\n",
       "      <td>월-금 07:00~18:00 | 토/일/공휴일 휴점</td>\n",
       "      <td>주차정보1시간 무료주차</td>\n",
       "      <td>서울시 서초구 서초대로74길 4 삼성생명보험서초타워내지하1층</td>\n",
       "      <td>02-581-5562</td>\n",
       "      <td>식약처 인증 위생등급 매우 우수매장</td>\n",
       "    </tr>\n",
       "    <tr>\n",
       "      <th>7</th>\n",
       "      <td>방이점</td>\n",
       "      <td>매일 7:00 - 24:00</td>\n",
       "      <td>주차불가</td>\n",
       "      <td>서울시 송파구 오금로 11길 7</td>\n",
       "      <td>02-415-5561</td>\n",
       "      <td>홀케익 당일 수령가능</td>\n",
       "    </tr>\n",
       "    <tr>\n",
       "      <th>8</th>\n",
       "      <td>광화문점</td>\n",
       "      <td>월-금 07:00~23:00 | 토요일 7:30~23:00 | 일/공휴일 09:00...</td>\n",
       "      <td>브루잉 바 이용 가능유료주차 최초 30분 2,000원, 10분당 1,000원</td>\n",
       "      <td>서울 종로구 서린동 136 센트리얼빌딩 1층</td>\n",
       "      <td>02-3210-2326</td>\n",
       "      <td>홀케익 당일 수령가능</td>\n",
       "    </tr>\n",
       "    <tr>\n",
       "      <th>9</th>\n",
       "      <td>경희궁의아침점</td>\n",
       "      <td>월-금 07:00-21:00 | 토요일 09:00-21:00 | 일요일/공휴일 09...</td>\n",
       "      <td>건물지하3층 주차장( 1시간 무료주차 가능)</td>\n",
       "      <td>서울시 종로구 새문안로3길 23 경희궁아침상가4단지105외</td>\n",
       "      <td>02-730-8896</td>\n",
       "      <td>홀케익 당일 수령가능</td>\n",
       "    </tr>\n",
       "    <tr>\n",
       "      <th>10</th>\n",
       "      <td>홍대역점</td>\n",
       "      <td>월~일 08:00 ~ 24:00</td>\n",
       "      <td>(콘센트 이용 가능) / 주차 불가</td>\n",
       "      <td>서울시 마포구 홍익로 6길 26</td>\n",
       "      <td>02-333-4278</td>\n",
       "      <td>홀케익 당일 수령가능</td>\n",
       "    </tr>\n",
       "  </tbody>\n",
       "</table>\n",
       "</div>"
      ],
      "text/plain": [
       "          매장명                                               영업시간  \\\n",
       "0        차병원점        평일 07:00~18:00 | 토요일 07:00~15:00 | 일.공휴일 휴무   \n",
       "1       청담성당점  월-금 07:00~21:00 | 토 07:30~21:00 | 일/공휴일 07:30~...   \n",
       "2       서초우성점   평일 07:00~23:00ㅣ토 07:00~22:30 I 일/공휴일 08:00~22:00   \n",
       "3    삼성봉은사거리점                평일 07:00-22:30 | 주말/공휴일 07:00-22:00   \n",
       "4       잠실신천점               월-금 07:00~22:00 | 주말&공휴일 07:00~21:00   \n",
       "5   삼성전자강남사옥점                       월-금 07:00~17:00 | 토/일/공휴일 휴점   \n",
       "6   삼성생명강남사옥점                       월-금 07:00~18:00 | 토/일/공휴일 휴점   \n",
       "7         방이점                                    매일 7:00 - 24:00   \n",
       "8        광화문점  월-금 07:00~23:00 | 토요일 7:30~23:00 | 일/공휴일 09:00...   \n",
       "9     경희궁의아침점  월-금 07:00-21:00 | 토요일 09:00-21:00 | 일요일/공휴일 09...   \n",
       "10       홍대역점                                  월~일 08:00 ~ 24:00   \n",
       "\n",
       "                                                   주차  \\\n",
       "0                               병원주차장 이용가능 (병원방문시 무료)   \n",
       "1              발렛주차가능 / 최초 1시간 4000원 / 1시간당 추가시 2000원   \n",
       "2                                                       \n",
       "3   건물뒷편주차장(기계주차식)평일 최초 30분 2,000원 / 1시간 5,000원 (구...   \n",
       "4        1시간 무료주차가능-건물옆에 주차타워(기계주차식)-대형차량불가반려동물 출입 가능   \n",
       "5                                  1시간 무료주차 (영수증 지참시)   \n",
       "6                                        주차정보1시간 무료주차   \n",
       "7                                                주차불가   \n",
       "8          브루잉 바 이용 가능유료주차 최초 30분 2,000원, 10분당 1,000원   \n",
       "9                            건물지하3층 주차장( 1시간 무료주차 가능)   \n",
       "10                                (콘센트 이용 가능) / 주차 불가   \n",
       "\n",
       "                                     주소          전화번호                 기타정보  \n",
       "0             서울시 강남구 논현로 566 강남차병원1층     02-538-7615  식약처 인증 위생등급 매우 우수매장  \n",
       "1           서울시 강남구 삼성로 716 LEE76빌딩2층     02-542-2053          홀케익 당일 수령가능  \n",
       "2    서울시 서초구 강남대로 51길 1 511 TOWER  1층     02-582-0158          홀케익 당일 수령가능  \n",
       "3               서울시 강남구 영동대로 607 1,2층    02-3443-5618  식약처 인증 위생등급 매우 우수매장  \n",
       "4                서울시 송파구 석촌호수로 118 1층     02-416-9520            펫 프렌들리 매장  \n",
       "5             서울시 서초구 서초대로74길 11 지하2층    02-2055-1142  식약처 인증 위생등급 매우 우수매장  \n",
       "6   서울시 서초구 서초대로74길 4 삼성생명보험서초타워내지하1층     02-581-5562  식약처 인증 위생등급 매우 우수매장  \n",
       "7                   서울시 송파구 오금로 11길 7     02-415-5561          홀케익 당일 수령가능  \n",
       "8            서울 종로구 서린동 136 센트리얼빌딩 1층    02-3210-2326          홀케익 당일 수령가능  \n",
       "9    서울시 종로구 새문안로3길 23 경희궁아침상가4단지105외     02-730-8896          홀케익 당일 수령가능  \n",
       "10                  서울시 마포구 홍익로 6길 26     02-333-4278          홀케익 당일 수령가능  "
      ]
     },
     "execution_count": 176,
     "metadata": {},
     "output_type": "execute_result"
    }
   ],
   "source": [
    "# 동적페이지 크롤링\n",
    "wd = webdriver.Chrome()  # 자동화 크롬브라우져 생성\n",
    "store_lists = []\n",
    "for store_num in tqdm(range(100)):\n",
    "    try:\n",
    "        wd.get(\"https://www.coffeebeankorea.com/store/store.asp\")  # 자동화 브라우져에 주소를 입력\n",
    "        time.sleep(1)  # 대기\n",
    "        \n",
    "        wd.execute_script(f\"storePop2({store_num})\")  # 해당 화면에 내장되어있는 javasscript:storePop2('3') 를 코드로 실행  팝업창이 뜸\n",
    "        time.sleep(1)   # 팝업창이 완전히 로드될때까지 1초간 대기\n",
    "        \n",
    "        html = wd.page_source  # 브라우져의 내장 html 코드를 반환\n",
    "        soupCB1 = BeautifulSoup(html,'html.parser')  # 파싱할수 있도록 객체를 생성\n",
    "        store_title = soupCB1.select('div.store_txt>h2')[0].text #찾고자하는 경로에 해당하는 데이터를 추출\n",
    "        if store_title == '':  # 매장정보가 없으면\n",
    "            continue  #  아래 문장을 실행하지 안히고 for문 처음으로 순환\n",
    "        # 매장정보\n",
    "        tr_lists = soupCB1.select('table.store_table>tbody>tr')      # 매장정보를 가지는 tr 리스트를 추출\n",
    "        store_lists.append([store_title, tr_lists[0].td.text, tr_lists[1].td.text, tr_lists[2].td.text, tr_lists[3].td.text,tr_lists[4].td.text])       \n",
    "        \n",
    "        # # 버튼요소를 찾기  닫으려는 대상 객체가 없으면 예외가발생\n",
    "        # button = WebDriverWait(wd,1).until(\n",
    "        #     EC.presence_of_all_elements_located( (By.ID,'closeBtn1ActiveBtn'))\n",
    "        # )[0]\n",
    "        # button.click()\n",
    "    except Exception as e:\n",
    "        pass\n",
    "        \n",
    "# 매장정보 추출        \n",
    "df = pd.DataFrame(store_lists,columns=['매장명','영업시간','주차','주소','전화번호','기타정보'])\n",
    "df.to_csv('coffebean_store_lists.csv', encoding='cp949')\n",
    "df"
   ]
  },
  {
   "cell_type": "code",
   "execution_count": 175,
   "id": "b820270a-30dd-471c-9ba5-f7b126b44de7",
   "metadata": {},
   "outputs": [
    {
     "data": {
      "text/plain": [
       "[['차병원점',\n",
       "  ' 평일 07:00~18:00 | 토요일 07:00~15:00 | 일.공휴일 휴무',\n",
       "  '병원주차장 이용가능 (병원방문시 무료)',\n",
       "  '서울시 강남구 논현로 566 강남차병원1층  ',\n",
       "  '02-538-7615',\n",
       "  '식약처 인증 위생등급 매우 우수매장'],\n",
       " '차병원점']"
      ]
     },
     "execution_count": 175,
     "metadata": {},
     "output_type": "execute_result"
    }
   ],
   "source": [
    "store_lists"
   ]
  },
  {
   "cell_type": "markdown",
   "id": "a436a179-ffab-4bd9-9d58-5794b78a7e43",
   "metadata": {},
   "source": [
    "# 예외처리"
   ]
  },
  {
   "cell_type": "code",
   "execution_count": null,
   "id": "4e712a34-3888-44db-8423-68d12b1453fa",
   "metadata": {},
   "outputs": [],
   "source": [
    "for i in ['1','2','abc','3']:\n",
    "    try:\n",
    "        print(int(i))\n",
    "    except Exception as e:\n",
    "        print(\"예외가 발생했습니다.\", e)"
   ]
  },
  {
   "cell_type": "code",
   "execution_count": null,
   "id": "ba97694e-4fc9-4179-ba23-03a9482ff2c4",
   "metadata": {},
   "outputs": [],
   "source": [
    "for i in ['1','2','abc','3']:    \n",
    "        print(int(i))\n",
    "    "
   ]
  },
  {
   "cell_type": "code",
   "execution_count": null,
   "id": "4fcfbc7f-160e-425a-87a8-cfe229fed49f",
   "metadata": {},
   "outputs": [],
   "source": []
  },
  {
   "cell_type": "code",
   "execution_count": null,
   "id": "8c1bb93e-5708-456f-8568-fb6bd7eaf2c0",
   "metadata": {},
   "outputs": [],
   "source": []
  },
  {
   "cell_type": "code",
   "execution_count": null,
   "id": "80c8c2bd-aab2-473d-9db3-10291c60d767",
   "metadata": {},
   "outputs": [],
   "source": []
  },
  {
   "cell_type": "code",
   "execution_count": null,
   "id": "f1e64b29-5cd6-4cb8-b7eb-db4329f078fb",
   "metadata": {},
   "outputs": [],
   "source": []
  },
  {
   "cell_type": "code",
   "execution_count": null,
   "id": "e3dc12af-aa52-4636-9f2f-0f43c232e289",
   "metadata": {},
   "outputs": [],
   "source": []
  }
 ],
 "metadata": {
  "kernelspec": {
   "display_name": "Python 3 (ipykernel)",
   "language": "python",
   "name": "python3"
  },
  "language_info": {
   "codemirror_mode": {
    "name": "ipython",
    "version": 3
   },
   "file_extension": ".py",
   "mimetype": "text/x-python",
   "name": "python",
   "nbconvert_exporter": "python",
   "pygments_lexer": "ipython3",
   "version": "3.10.14"
  }
 },
 "nbformat": 4,
 "nbformat_minor": 5
}
