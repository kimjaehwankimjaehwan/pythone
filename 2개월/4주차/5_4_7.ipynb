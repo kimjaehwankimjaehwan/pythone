{
  "nbformat": 4,
  "nbformat_minor": 0,
  "metadata": {
    "colab": {
      "provenance": []
    },
    "kernelspec": {
      "name": "python3",
      "display_name": "Python 3"
    },
    "language_info": {
      "name": "python"
    }
  },
  "cells": [
    {
      "cell_type": "markdown",
      "source": [
        "주성분 분석 : PCA\n",
        "  - 고차원의 데이터를 저차원으로 축소하면서 데이터의 주요 특징을 최대한 보존처리 하는 기법\n"
      ],
      "metadata": {
        "id": "9WmK6hDvUTqt"
      }
    },
    {
      "cell_type": "code",
      "source": [
        "import numpy as np\n",
        "import pandas as pd\n",
        "import matplotlib.pyplot as plt\n",
        "import seaborn as sns"
      ],
      "metadata": {
        "id": "Ajm02ml7VBoO"
      },
      "execution_count": 2,
      "outputs": []
    },
    {
      "cell_type": "code",
      "source": [
        "data = np.load('/content/drive/MyDrive/data/fruits_300.npy')\n",
        "data.shape"
      ],
      "metadata": {
        "colab": {
          "base_uri": "https://localhost:8080/"
        },
        "id": "nODpaNoHVQCF",
        "outputId": "73e542ab-e95c-4568-c078-f8e5a670b0ec"
      },
      "execution_count": 3,
      "outputs": [
        {
          "output_type": "execute_result",
          "data": {
            "text/plain": [
              "(300, 100, 100)"
            ]
          },
          "metadata": {},
          "execution_count": 3
        }
      ]
    },
    {
      "cell_type": "code",
      "source": [
        "from sklearn.decomposition import PCA\n",
        "# 3차원 데이터를 2차원으로 변경\n",
        "data_2dim = data.reshape(300, -1)\n",
        "data_2dim.shape"
      ],
      "metadata": {
        "colab": {
          "base_uri": "https://localhost:8080/"
        },
        "id": "7MyemKXrVWB8",
        "outputId": "d5c45c73-5693-456b-b582-8fef4c6af9db"
      },
      "execution_count": 5,
      "outputs": [
        {
          "output_type": "execute_result",
          "data": {
            "text/plain": [
              "(300, 10000)"
            ]
          },
          "metadata": {},
          "execution_count": 5
        }
      ]
    },
    {
      "cell_type": "code",
      "source": [
        "# 10000 차수를 50차수로 변경\n",
        "pca = PCA(n_components=100)\n",
        "data_pca =  pca.fit_transform(data_2dim)\n",
        "data_pca.shape, pca.components_.shape"
      ],
      "metadata": {
        "colab": {
          "base_uri": "https://localhost:8080/"
        },
        "id": "ef-3F4HFVoTU",
        "outputId": "43e212e2-65e5-4a81-9949-d0006060a6dd"
      },
      "execution_count": 12,
      "outputs": [
        {
          "output_type": "execute_result",
          "data": {
            "text/plain": [
              "((300, 100), (100, 10000))"
            ]
          },
          "metadata": {},
          "execution_count": 12
        }
      ]
    },
    {
      "cell_type": "code",
      "source": [
        "# 2차원데이터 원본 10000차수\n",
        "# 2차원데이터를 주성분 분석으로 50차수로 조정 했을때 원본과 조정된 미지의 차이를 시각화\n",
        "plt.subplot(1,2,1)\n",
        "plt.imshow(data_2dim[200].reshape(100,100), cmap='gray_r')\n",
        "plt.subplot(1,2,2)\n",
        "plt.imshow(data_pca[200].reshape(10,10), cmap='gray_r')"
      ],
      "metadata": {
        "colab": {
          "base_uri": "https://localhost:8080/",
          "height": 309
        },
        "id": "qSnv5LvvXU0M",
        "outputId": "31cfb18f-bff7-4549-8268-abe672573458"
      },
      "execution_count": 15,
      "outputs": [
        {
          "output_type": "execute_result",
          "data": {
            "text/plain": [
              "<matplotlib.image.AxesImage at 0x7a2d9f7190c0>"
            ]
          },
          "metadata": {},
          "execution_count": 15
        },
        {
          "output_type": "display_data",
          "data": {
            "text/plain": [
              "<Figure size 640x480 with 2 Axes>"
            ],
            "image/png": "[encoded data removed]"
          },
          "metadata": {}
        }
      ]
    },
    {
      "cell_type": "markdown",
      "source": [
        "LogisticRegression을 이용해서 분류 모델을개발"
      ],
      "metadata": {
        "id": "dP8Wy88cZW80"
      }
    },
    {
      "cell_type": "code",
      "source": [
        "target = [0]*100 + [1]*100 + [2]*100"
      ],
      "metadata": {
        "id": "EenqLiFMYLRk"
      },
      "execution_count": 17,
      "outputs": []
    },
    {
      "cell_type": "markdown",
      "source": [
        "모델을 이용해서 예측하고 평가하는 작업대신에\n",
        "  - 교차검즘을 이용해서 성능평가 미리 해 볼수 있음"
      ],
      "metadata": {
        "id": "sDcr4bnjZstk"
      }
    },
    {
      "cell_type": "code",
      "source": [
        "from sklearn.linear_model import LogisticRegression\n",
        "from sklearn.model_selection import cross_validate\n",
        "logistic = LogisticRegression()\n",
        "score = cross_validate(logistic, data_pca, target, cv=5)\n",
        "score['test_score'].mean(), score['fit_time'].mean()"
      ],
      "metadata": {
        "colab": {
          "base_uri": "https://localhost:8080/"
        },
        "id": "XaXDBoruZgZU",
        "outputId": "941bdc2a-312c-4106-9554-b46643ad22f1"
      },
      "execution_count": 20,
      "outputs": [
        {
          "output_type": "execute_result",
          "data": {
            "text/plain": [
              "(1.0, 0.1257617950439453)"
            ]
          },
          "metadata": {},
          "execution_count": 20
        }
      ]
    },
    {
      "cell_type": "code",
      "source": [
        "# 퍼센트로 PCA사용하기\n",
        "pca = PCA(n_components=0.95)\n",
        "data_pca =  pca.fit_transform(data_2dim)\n",
        "print(data_pca.shape, pca.components_.shape)\n",
        "logistic = LogisticRegression()\n",
        "score = cross_validate(logistic, data_pca, target, cv=5)\n",
        "score['test_score'].mean(), score['fit_time'].mean()"
      ],
      "metadata": {
        "colab": {
          "base_uri": "https://localhost:8080/"
        },
        "id": "-VjYig1taZiy",
        "outputId": "937058b3-c890-48e8-da68-db1454fd04a2"
      },
      "execution_count": 22,
      "outputs": [
        {
          "output_type": "stream",
          "name": "stdout",
          "text": [
            "(300, 74) (74, 10000)\n"
          ]
        },
        {
          "output_type": "execute_result",
          "data": {
            "text/plain": [
              "(1.0, 0.030172157287597656)"
            ]
          },
          "metadata": {},
          "execution_count": 22
        }
      ]
    },
    {
      "cell_type": "code",
      "source": [],
      "metadata": {
        "id": "JZQY7DQUbObD"
      },
      "execution_count": null,
      "outputs": []
    },
    {
      "cell_type": "code",
      "source": [],
      "metadata": {
        "id": "voDm7MRAayxL"
      },
      "execution_count": null,
      "outputs": []
    }
  ]
}