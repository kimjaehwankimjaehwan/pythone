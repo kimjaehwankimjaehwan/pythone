{
  "nbformat": 4,
  "nbformat_minor": 0,
  "metadata": {
    "colab": {
      "provenance": []
    },
    "kernelspec": {
      "name": "python3",
      "display_name": "Python 3"
    },
    "language_info": {
      "name": "python"
    }
  },
  "cells": [
    {
      "cell_type": "markdown",
      "source": [
        "주성분 분석 : PCA\n",
        "  - 고차원의 데이터를 저차원으로 축소하면서 데이터의 주요 특징을 최대한 보존처리 하는 기법\n"
      ],
      "metadata": {
        "id": "9WmK6hDvUTqt"
      }
    },
    {
      "cell_type": "code",
      "source": [
        "import numpy as np\n",
        "import pandas as pd\n",
        "import matplotlib.pyplot as plt\n",
        "import seaborn as sns"
      ],
      "metadata": {
        "id": "Ajm02ml7VBoO"
      },
      "execution_count": 2,
      "outputs": []
    },
    {
      "cell_type": "code",
      "source": [
        "data = np.load('/content/drive/MyDrive/data/fruits_300.npy')\n",
        "data.shape"
      ],
      "metadata": {
        "colab": {
          "base_uri": "https://localhost:8080/"
        },
        "id": "nODpaNoHVQCF",
        "outputId": "73e542ab-e95c-4568-c078-f8e5a670b0ec"
      },
      "execution_count": 3,
      "outputs": [
        {
          "output_type": "execute_result",
          "data": {
            "text/plain": [
              "(300, 100, 100)"
            ]
          },
          "metadata": {},
          "execution_count": 3
        }
      ]
    },
    {
      "cell_type": "code",
      "source": [
        "from sklearn.decomposition import PCA\n",
        "# 3차원 데이터를 2차원으로 변경\n",
        "data_2dim = data.reshape(300, -1)\n",
        "data_2dim.shape"
      ],
      "metadata": {
        "colab": {
          "base_uri": "https://localhost:8080/"
        },
        "id": "7MyemKXrVWB8",
        "outputId": "d5c45c73-5693-456b-b582-8fef4c6af9db"
      },
      "execution_count": 5,
      "outputs": [
        {
          "output_type": "execute_result",
          "data": {
            "text/plain": [
              "(300, 10000)"
            ]
          },
          "metadata": {},
          "execution_count": 5
        }
      ]
    },
    {
      "cell_type": "code",
      "source": [
        "# 10000 차수를 50차수로 변경\n",
        "pca = PCA(n_components=100)\n",
        "data_pca =  pca.fit_transform(data_2dim)\n",
        "data_pca.shape, pca.components_.shape"
      ],
      "metadata": {
        "colab": {
          "base_uri": "https://localhost:8080/"
        },
        "id": "ef-3F4HFVoTU",
        "outputId": "43e212e2-65e5-4a81-9949-d0006060a6dd"
      },
      "execution_count": 12,
      "outputs": [
        {
          "output_type": "execute_result",
          "data": {
            "text/plain": [
              "((300, 100), (100, 10000))"
            ]
          },
          "metadata": {},
          "execution_count": 12
        }
      ]
    },
    {
      "cell_type": "code",
      "source": [
        "# 2차원데이터 원본 10000차수\n",
        "# 2차원데이터를 주성분 분석으로 50차수로 조정 했을때 원본과 조정된 미지의 차이를 시각화\n",
        "plt.subplot(1,2,1)\n",
        "plt.imshow(data_2dim[200].reshape(100,100), cmap='gray_r')\n",
        "plt.subplot(1,2,2)\n",
        "plt.imshow(data_pca[200].reshape(10,10), cmap='gray_r')"
      ],
      "metadata": {
        "colab": {
          "base_uri": "https://localhost:8080/",
          "height": 309
        },
        "id": "qSnv5LvvXU0M",
        "outputId": "31cfb18f-bff7-4549-8268-abe672573458"
      },
      "execution_count": 15,
      "outputs": [
        {
          "output_type": "execute_result",
          "data": {
            "text/plain": [
              "<matplotlib.image.AxesImage at 0x7a2d9f7190c0>"
            ]
          },
          "metadata": {},
          "execution_count": 15
        },
        {
          "output_type": "display_data",
          "data": {
            "text/plain": [
              "<Figure size 640x480 with 2 Axes>"
            ],
            "image/png": "[encoded data removed]"
          },
          "metadata": {}
        }
      ]
    },
    {
      "cell_type": "markdown",
      "source": [
        "LogisticRegression을 이용해서 분류 모델을개발"
      ],
      "metadata": {
        "id": "dP8Wy88cZW80"
      }
    },
    {
      "cell_type": "code",
      "source": [
        "target = [0]*100 + [1]*100 + [2]*100"
      ],
      "metadata": {
        "id": "EenqLiFMYLRk"
      },
      "execution_count": 17,
      "outputs": []
    },
    {
      "cell_type": "markdown",
      "source": [
        "모델을 이용해서 예측하고 평가하는 작업대신에\n",
        "  - 교차검즘을 이용해서 성능평가 미리 해 볼수 있음"
      ],
      "metadata": {
        "id": "sDcr4bnjZstk"
      }
    },
    {
      "cell_type": "code",
      "source": [
        "from sklearn.linear_model import LogisticRegression\n",
        "from sklearn.model_selection import cross_validate\n",
        "logistic = LogisticRegression()\n",
        "score = cross_validate(logistic, data_pca, target, cv=5)\n",
        "score['test_score'].mean(), score['fit_time'].mean()"
      ],
      "metadata": {
        "colab": {
          "base_uri": "https://localhost:8080/"
        },
        "id": "XaXDBoruZgZU",
        "outputId": "941bdc2a-312c-4106-9554-b46643ad22f1"
      },
      "execution_count": 20,
      "outputs": [
        {
          "output_type": "execute_result",
          "data": {
            "text/plain": [
              "(1.0, 0.1257617950439453)"
            ]
          },
          "metadata": {},
          "execution_count": 20
        }
      ]
    },
    {
      "cell_type": "code",
      "source": [
        "# 퍼센트로 PCA사용하기\n",
        "pca = PCA(n_components=2)\n",
        "data_pca =  pca.fit_transform(data_2dim)\n",
        "print(data_pca.shape, pca.components_.shape)\n",
        "logistic = LogisticRegression(max_iter=10000)\n",
        "score = cross_validate(logistic, data_pca, target, cv=5)\n",
        "score['test_score'].mean(), score['fit_time'].mean()"
      ],
      "metadata": {
        "colab": {
          "base_uri": "https://localhost:8080/"
        },
        "id": "-VjYig1taZiy",
        "outputId": "d8d2485a-3915-48d8-a04d-c61128a283b5"
      },
      "execution_count": 36,
      "outputs": [
        {
          "output_type": "stream",
          "name": "stdout",
          "text": [
            "(300, 2) (2, 10000)\n"
          ]
        },
        {
          "output_type": "execute_result",
          "data": {
            "text/plain": [
              "(0.9966666666666667, 0.0692718505859375)"
            ]
          },
          "metadata": {},
          "execution_count": 36
        }
      ]
    },
    {
      "cell_type": "code",
      "source": [
        "# 주성분 분석으로 차원 축소한 데이터를 이용해서 군집을 분류해 봅시다\n",
        "from sklearn.cluster import KMeans\n",
        "kmeans = KMeans(n_clusters=3,n_init='auto')\n",
        "kmeans.fit(data_pca)"
      ],
      "metadata": {
        "colab": {
          "base_uri": "https://localhost:8080/",
          "height": 74
        },
        "id": "JZQY7DQUbObD",
        "outputId": "c30ffd0a-9fa3-45a8-8981-65031d6eaf7d"
      },
      "execution_count": 38,
      "outputs": [
        {
          "output_type": "execute_result",
          "data": {
            "text/plain": [
              "KMeans(n_clusters=3, n_init='auto')"
            ],
            "text/html": [
              "<style>#sk-container-id-4 {color: black;}#sk-container-id-4 pre{padding: 0;}#sk-container-id-4 div.sk-toggleable {background-color: white;}#sk-container-id-4 label.sk-toggleable__label {cursor: pointer;display: block;width: 100%;margin-bottom: 0;padding: 0.3em;box-sizing: border-box;text-align: center;}#sk-container-id-4 label.sk-toggleable__label-arrow:before {content: \"▸\";float: left;margin-right: 0.25em;color: #696969;}#sk-container-id-4 label.sk-toggleable__label-arrow:hover:before {color: black;}#sk-container-id-4 div.sk-estimator:hover label.sk-toggleable__label-arrow:before {color: black;}#sk-container-id-4 div.sk-toggleable__content {max-height: 0;max-width: 0;overflow: hidden;text-align: left;background-color: #f0f8ff;}#sk-container-id-4 div.sk-toggleable__content pre {margin: 0.2em;color: black;border-radius: 0.25em;background-color: #f0f8ff;}#sk-container-id-4 input.sk-toggleable__control:checked~div.sk-toggleable__content {max-height: 200px;max-width: 100%;overflow: auto;}#sk-container-id-4 input.sk-toggleable__control:checked~label.sk-toggleable__label-arrow:before {content: \"▾\";}#sk-container-id-4 div.sk-estimator input.sk-toggleable__control:checked~label.sk-toggleable__label {background-color: #d4ebff;}#sk-container-id-4 div.sk-label input.sk-toggleable__control:checked~label.sk-toggleable__label {background-color: #d4ebff;}#sk-container-id-4 input.sk-hidden--visually {border: 0;clip: rect(1px 1px 1px 1px);clip: rect(1px, 1px, 1px, 1px);height: 1px;margin: -1px;overflow: hidden;padding: 0;position: absolute;width: 1px;}#sk-container-id-4 div.sk-estimator {font-family: monospace;background-color: #f0f8ff;border: 1px dotted black;border-radius: 0.25em;box-sizing: border-box;margin-bottom: 0.5em;}#sk-container-id-4 div.sk-estimator:hover {background-color: #d4ebff;}#sk-container-id-4 div.sk-parallel-item::after {content: \"\";width: 100%;border-bottom: 1px solid gray;flex-grow: 1;}#sk-container-id-4 div.sk-label:hover label.sk-toggleable__label {background-color: #d4ebff;}#sk-container-id-4 div.sk-serial::before {content: \"\";position: absolute;border-left: 1px solid gray;box-sizing: border-box;top: 0;bottom: 0;left: 50%;z-index: 0;}#sk-container-id-4 div.sk-serial {display: flex;flex-direction: column;align-items: center;background-color: white;padding-right: 0.2em;padding-left: 0.2em;position: relative;}#sk-container-id-4 div.sk-item {position: relative;z-index: 1;}#sk-container-id-4 div.sk-parallel {display: flex;align-items: stretch;justify-content: center;background-color: white;position: relative;}#sk-container-id-4 div.sk-item::before, #sk-container-id-4 div.sk-parallel-item::before {content: \"\";position: absolute;border-left: 1px solid gray;box-sizing: border-box;top: 0;bottom: 0;left: 50%;z-index: -1;}#sk-container-id-4 div.sk-parallel-item {display: flex;flex-direction: column;z-index: 1;position: relative;background-color: white;}#sk-container-id-4 div.sk-parallel-item:first-child::after {align-self: flex-end;width: 50%;}#sk-container-id-4 div.sk-parallel-item:last-child::after {align-self: flex-start;width: 50%;}#sk-container-id-4 div.sk-parallel-item:only-child::after {width: 0;}#sk-container-id-4 div.sk-dashed-wrapped {border: 1px dashed gray;margin: 0 0.4em 0.5em 0.4em;box-sizing: border-box;padding-bottom: 0.4em;background-color: white;}#sk-container-id-4 div.sk-label label {font-family: monospace;font-weight: bold;display: inline-block;line-height: 1.2em;}#sk-container-id-4 div.sk-label-container {text-align: center;}#sk-container-id-4 div.sk-container {/* jupyter's `normalize.less` sets `[hidden] { display: none; }` but bootstrap.min.css set `[hidden] { display: none !important; }` so we also need the `!important` here to be able to override the default hidden behavior on the sphinx rendered scikit-learn.org. See: https://github.com/scikit-learn/scikit-learn/issues/21755 */display: inline-block !important;position: relative;}#sk-container-id-4 div.sk-text-repr-fallback {display: none;}</style><div id=\"sk-container-id-4\" class=\"sk-top-container\"><div class=\"sk-text-repr-fallback\"><pre>KMeans(n_clusters=3, n_init=&#x27;auto&#x27;)</pre><b>In a Jupyter environment, please rerun this cell to show the HTML representation or trust the notebook. <br />On GitHub, the HTML representation is unable to render, please try loading this page with nbviewer.org.</b></div><div class=\"sk-container\" hidden><div class=\"sk-item\"><div class=\"sk-estimator sk-toggleable\"><input class=\"sk-toggleable__control sk-hidden--visually\" id=\"sk-estimator-id-4\" type=\"checkbox\" checked><label for=\"sk-estimator-id-4\" class=\"sk-toggleable__label sk-toggleable__label-arrow\">KMeans</label><div class=\"sk-toggleable__content\"><pre>KMeans(n_clusters=3, n_init=&#x27;auto&#x27;)</pre></div></div></div></div></div>"
            ]
          },
          "metadata": {},
          "execution_count": 38
        }
      ]
    },
    {
      "cell_type": "code",
      "source": [
        "kmeans.labels_"
      ],
      "metadata": {
        "colab": {
          "base_uri": "https://localhost:8080/"
        },
        "id": "voDm7MRAayxL",
        "outputId": "f6b68ad2-cafa-4d90-f1c1-1d390f1e064a"
      },
      "execution_count": 39,
      "outputs": [
        {
          "output_type": "execute_result",
          "data": {
            "text/plain": [
              "array([2, 2, 2, 2, 2, 0, 2, 2, 2, 2, 2, 2, 2, 2, 2, 2, 2, 2, 0, 2, 2, 2,\n",
              "       2, 2, 2, 2, 2, 2, 2, 2, 2, 2, 2, 2, 2, 2, 2, 2, 2, 2, 2, 2, 0, 2,\n",
              "       0, 2, 2, 2, 2, 2, 2, 2, 0, 2, 2, 2, 2, 2, 2, 2, 2, 2, 0, 0, 2, 2,\n",
              "       2, 2, 2, 2, 2, 2, 0, 2, 2, 2, 2, 2, 2, 2, 2, 2, 2, 2, 2, 2, 2, 2,\n",
              "       2, 2, 2, 0, 2, 2, 2, 2, 2, 2, 2, 2, 0, 0, 0, 0, 0, 0, 0, 0, 0, 0,\n",
              "       0, 0, 0, 0, 0, 0, 0, 0, 0, 0, 0, 0, 0, 0, 0, 0, 0, 0, 0, 0, 0, 0,\n",
              "       0, 0, 0, 0, 0, 0, 0, 0, 0, 0, 0, 0, 0, 0, 0, 0, 0, 0, 0, 0, 0, 0,\n",
              "       0, 0, 0, 0, 0, 0, 0, 0, 0, 0, 0, 0, 0, 0, 0, 0, 0, 0, 0, 0, 0, 0,\n",
              "       0, 0, 0, 0, 0, 0, 0, 0, 0, 0, 0, 0, 0, 0, 0, 0, 0, 0, 0, 0, 0, 0,\n",
              "       0, 0, 1, 1, 1, 1, 1, 1, 1, 1, 1, 1, 1, 1, 1, 1, 1, 1, 1, 1, 1, 1,\n",
              "       1, 1, 1, 1, 1, 1, 1, 1, 1, 1, 1, 1, 1, 1, 1, 1, 1, 1, 1, 1, 1, 1,\n",
              "       1, 1, 1, 1, 1, 1, 1, 1, 1, 1, 1, 1, 1, 1, 1, 1, 1, 1, 1, 1, 1, 1,\n",
              "       1, 1, 1, 1, 1, 1, 1, 1, 1, 0, 1, 1, 1, 1, 1, 1, 1, 1, 1, 1, 1, 1,\n",
              "       1, 1, 1, 1, 1, 1, 1, 1, 1, 1, 1, 1, 1, 1], dtype=int32)"
            ]
          },
          "metadata": {},
          "execution_count": 39
        }
      ]
    },
    {
      "cell_type": "code",
      "source": [
        "np.unique(kmeans.labels_,return_counts=True)"
      ],
      "metadata": {
        "colab": {
          "base_uri": "https://localhost:8080/"
        },
        "id": "bUOAg5sYcCCa",
        "outputId": "0cfb32ab-e948-4b12-c03c-074926bb2e92"
      },
      "execution_count": 32,
      "outputs": [
        {
          "output_type": "execute_result",
          "data": {
            "text/plain": [
              "(array([0, 1, 2], dtype=int32), array([111,  98,  91]))"
            ]
          },
          "metadata": {},
          "execution_count": 32
        }
      ]
    },
    {
      "cell_type": "code",
      "source": [
        "plt.scatter(data_pca[:,0], data_pca[:,1], c=kmeans.labels_)\n",
        "plt.show()"
      ],
      "metadata": {
        "colab": {
          "base_uri": "https://localhost:8080/",
          "height": 430
        },
        "id": "KKeYPQ0lcJHy",
        "outputId": "57512153-24b1-4f51-d87e-0fa9b0da3378"
      },
      "execution_count": 41,
      "outputs": [
        {
          "output_type": "display_data",
          "data": {
            "text/plain": [
              "<Figure size 640x480 with 1 Axes>"
            ],
            "image/png": "[encoded data removed]"
          },
          "metadata": {}
        }
      ]
    },
    {
      "cell_type": "code",
      "source": [],
      "metadata": {
        "id": "IK_AAI63cw3x"
      },
      "execution_count": null,
      "outputs": []
    },
    {
      "cell_type": "markdown",
      "source": [
        "데이터를 임의로 생성해서 PCA 적용해 보기"
      ],
      "metadata": {
        "id": "IUau6WaeeMWr"
      }
    },
    {
      "cell_type": "code",
      "source": [
        "np.random.seed(123)\n",
        "# 데이터 생성\n",
        "mean = [2,3]\n",
        "cov = [[3,1],[1,1]]  # 공분산 행렬\n",
        "# 다변량 정규분포를 따르는 데이터 100개  생성\n",
        "data = np.random.multivariate_normal(mean, cov, 100)\n",
        "print(data.shape)\n",
        "# 데이터 시각화\n",
        "plt.scatter(data[:,0], data[:,1],alpha=0.5)\n",
        "plt.title('Original Data')\n",
        "plt.xlabel('X')\n",
        "plt.ylabel('Y')\n",
        "plt.show()\n"
      ],
      "metadata": {
        "colab": {
          "base_uri": "https://localhost:8080/",
          "height": 491
        },
        "id": "l2r2yIgneP0j",
        "outputId": "346bbd64-6cbe-4b3a-ae26-af0beb4b79ac"
      },
      "execution_count": 44,
      "outputs": [
        {
          "output_type": "stream",
          "name": "stdout",
          "text": [
            "(100, 2)\n"
          ]
        },
        {
          "output_type": "display_data",
          "data": {
            "text/plain": [
              "<Figure size 640x480 with 1 Axes>"
            ],
            "image/png": "[encoded data removed]"
          },
          "metadata": {}
        }
      ]
    },
    {
      "cell_type": "code",
      "source": [
        "# 주성분 1개만 추출\n",
        "pca = PCA(n_components=1)\n",
        "data_pca = pca.fit_transform(data)\n",
        "print(data_pca.shape)"
      ],
      "metadata": {
        "colab": {
          "base_uri": "https://localhost:8080/"
        },
        "id": "_3U6Lziwfb3p",
        "outputId": "de6c5011-5e2d-4c25-bf6b-356b46ecda63"
      },
      "execution_count": 48,
      "outputs": [
        {
          "output_type": "stream",
          "name": "stdout",
          "text": [
            "(100, 1)\n"
          ]
        }
      ]
    },
    {
      "cell_type": "code",
      "source": [
        "# 차원축소 -> 복원\n",
        "data_inv = pca.inverse_transform(data_pca)\n",
        "print(data_inv.shape)"
      ],
      "metadata": {
        "colab": {
          "base_uri": "https://localhost:8080/"
        },
        "id": "RgF3Uyl2jGvP",
        "outputId": "cd76ea4d-03f6-4d79-a6b4-08305fb1b382"
      },
      "execution_count": 49,
      "outputs": [
        {
          "output_type": "stream",
          "name": "stdout",
          "text": [
            "(100, 2)\n"
          ]
        }
      ]
    },
    {
      "cell_type": "code",
      "source": [
        "# 데이터 시각화\n",
        "plt.scatter(data[:,0], data[:,1],alpha=0.5,label='original data')\n",
        "plt.scatter(data_inv[:,0], data_inv[:,1],alpha=0.5,label='PCA inverted data')\n",
        "plt.title('compare pca')\n",
        "plt.xlabel('X')\n",
        "plt.ylabel('Y')\n",
        "plt.legend()\n",
        "plt.show()\n"
      ],
      "metadata": {
        "colab": {
          "base_uri": "https://localhost:8080/",
          "height": 472
        },
        "id": "-y7ZdnpsjVbY",
        "outputId": "a366752b-c326-41cd-ce9e-f7fa3c62e5b9"
      },
      "execution_count": 51,
      "outputs": [
        {
          "output_type": "display_data",
          "data": {
            "text/plain": [
              "<Figure size 640x480 with 1 Axes>"
            ],
            "image/png": "[encoded data removed]"
          },
          "metadata": {}
        }
      ]
    },
    {
      "cell_type": "markdown",
      "source": [
        "모델 평가\n",
        "  - 교차검증 모델"
      ],
      "metadata": {
        "id": "hCYvg7a7lgcp"
      }
    },
    {
      "cell_type": "code",
      "source": [
        "from sklearn import datasets, metrics\n",
        "from sklearn.model_selection import KFold, cross_val_score\n",
        "from sklearn.pipeline import make_pipeline\n",
        "from sklearn.linear_model import LogisticRegression\n",
        "from sklearn.preprocessing import StandardScaler"
      ],
      "metadata": {
        "id": "YjviQunYl8kP"
      },
      "execution_count": 53,
      "outputs": []
    },
    {
      "cell_type": "code",
      "source": [
        "data = datasets.load_digits()\n",
        "X = data.data\n",
        "y = data.target"
      ],
      "metadata": {
        "id": "oTq-9z6EqwAf"
      },
      "execution_count": 69,
      "outputs": []
    },
    {
      "cell_type": "code",
      "source": [
        "X.shape, y.shape"
      ],
      "metadata": {
        "colab": {
          "base_uri": "https://localhost:8080/"
        },
        "id": "w5TS_7mWm9So",
        "outputId": "8fc2207b-f5e0-4d4f-df8e-f704fdbdc434"
      },
      "execution_count": 70,
      "outputs": [
        {
          "output_type": "execute_result",
          "data": {
            "text/plain": [
              "((1797, 64), (1797,))"
            ]
          },
          "metadata": {},
          "execution_count": 70
        }
      ]
    },
    {
      "cell_type": "code",
      "source": [
        "ss = StandardScaler()\n",
        "logistic = LogisticRegression()\n",
        "X_scaled = ss.fit_transform(X)\n",
        "logistic.fit(X_scaled, y)\n",
        "logistic.predict(X_scaled)"
      ],
      "metadata": {
        "colab": {
          "base_uri": "https://localhost:8080/"
        },
        "id": "nk09_b-cnBh-",
        "outputId": "5aa6e5d5-18af-4bfe-bacc-251b5d4f190b"
      },
      "execution_count": 71,
      "outputs": [
        {
          "output_type": "execute_result",
          "data": {
            "text/plain": [
              "array([0, 1, 2, ..., 8, 9, 8])"
            ]
          },
          "metadata": {},
          "execution_count": 71
        }
      ]
    },
    {
      "cell_type": "code",
      "source": [
        "ss = StandardScaler()\n",
        "logistic = LogisticRegression()\n",
        "pipeline = make_pipeline(ss, logistic)\n",
        "pipeline.fit(X, y)"
      ],
      "metadata": {
        "colab": {
          "base_uri": "https://localhost:8080/",
          "height": 124
        },
        "id": "MWdiWf3-npbh",
        "outputId": "a7d5a1c6-2fc9-42ef-ae3e-0eed90876485"
      },
      "execution_count": 72,
      "outputs": [
        {
          "output_type": "execute_result",
          "data": {
            "text/plain": [
              "Pipeline(steps=[('standardscaler', StandardScaler()),\n",
              "                ('logisticregression', LogisticRegression())])"
            ],
            "text/html": [
              "<style>#sk-container-id-9 {color: black;}#sk-container-id-9 pre{padding: 0;}#sk-container-id-9 div.sk-toggleable {background-color: white;}#sk-container-id-9 label.sk-toggleable__label {cursor: pointer;display: block;width: 100%;margin-bottom: 0;padding: 0.3em;box-sizing: border-box;text-align: center;}#sk-container-id-9 label.sk-toggleable__label-arrow:before {content: \"▸\";float: left;margin-right: 0.25em;color: #696969;}#sk-container-id-9 label.sk-toggleable__label-arrow:hover:before {color: black;}#sk-container-id-9 div.sk-estimator:hover label.sk-toggleable__label-arrow:before {color: black;}#sk-container-id-9 div.sk-toggleable__content {max-height: 0;max-width: 0;overflow: hidden;text-align: left;background-color: #f0f8ff;}#sk-container-id-9 div.sk-toggleable__content pre {margin: 0.2em;color: black;border-radius: 0.25em;background-color: #f0f8ff;}#sk-container-id-9 input.sk-toggleable__control:checked~div.sk-toggleable__content {max-height: 200px;max-width: 100%;overflow: auto;}#sk-container-id-9 input.sk-toggleable__control:checked~label.sk-toggleable__label-arrow:before {content: \"▾\";}#sk-container-id-9 div.sk-estimator input.sk-toggleable__control:checked~label.sk-toggleable__label {background-color: #d4ebff;}#sk-container-id-9 div.sk-label input.sk-toggleable__control:checked~label.sk-toggleable__label {background-color: #d4ebff;}#sk-container-id-9 input.sk-hidden--visually {border: 0;clip: rect(1px 1px 1px 1px);clip: rect(1px, 1px, 1px, 1px);height: 1px;margin: -1px;overflow: hidden;padding: 0;position: absolute;width: 1px;}#sk-container-id-9 div.sk-estimator {font-family: monospace;background-color: #f0f8ff;border: 1px dotted black;border-radius: 0.25em;box-sizing: border-box;margin-bottom: 0.5em;}#sk-container-id-9 div.sk-estimator:hover {background-color: #d4ebff;}#sk-container-id-9 div.sk-parallel-item::after {content: \"\";width: 100%;border-bottom: 1px solid gray;flex-grow: 1;}#sk-container-id-9 div.sk-label:hover label.sk-toggleable__label {background-color: #d4ebff;}#sk-container-id-9 div.sk-serial::before {content: \"\";position: absolute;border-left: 1px solid gray;box-sizing: border-box;top: 0;bottom: 0;left: 50%;z-index: 0;}#sk-container-id-9 div.sk-serial {display: flex;flex-direction: column;align-items: center;background-color: white;padding-right: 0.2em;padding-left: 0.2em;position: relative;}#sk-container-id-9 div.sk-item {position: relative;z-index: 1;}#sk-container-id-9 div.sk-parallel {display: flex;align-items: stretch;justify-content: center;background-color: white;position: relative;}#sk-container-id-9 div.sk-item::before, #sk-container-id-9 div.sk-parallel-item::before {content: \"\";position: absolute;border-left: 1px solid gray;box-sizing: border-box;top: 0;bottom: 0;left: 50%;z-index: -1;}#sk-container-id-9 div.sk-parallel-item {display: flex;flex-direction: column;z-index: 1;position: relative;background-color: white;}#sk-container-id-9 div.sk-parallel-item:first-child::after {align-self: flex-end;width: 50%;}#sk-container-id-9 div.sk-parallel-item:last-child::after {align-self: flex-start;width: 50%;}#sk-container-id-9 div.sk-parallel-item:only-child::after {width: 0;}#sk-container-id-9 div.sk-dashed-wrapped {border: 1px dashed gray;margin: 0 0.4em 0.5em 0.4em;box-sizing: border-box;padding-bottom: 0.4em;background-color: white;}#sk-container-id-9 div.sk-label label {font-family: monospace;font-weight: bold;display: inline-block;line-height: 1.2em;}#sk-container-id-9 div.sk-label-container {text-align: center;}#sk-container-id-9 div.sk-container {/* jupyter's `normalize.less` sets `[hidden] { display: none; }` but bootstrap.min.css set `[hidden] { display: none !important; }` so we also need the `!important` here to be able to override the default hidden behavior on the sphinx rendered scikit-learn.org. See: https://github.com/scikit-learn/scikit-learn/issues/21755 */display: inline-block !important;position: relative;}#sk-container-id-9 div.sk-text-repr-fallback {display: none;}</style><div id=\"sk-container-id-9\" class=\"sk-top-container\"><div class=\"sk-text-repr-fallback\"><pre>Pipeline(steps=[(&#x27;standardscaler&#x27;, StandardScaler()),\n",
              "                (&#x27;logisticregression&#x27;, LogisticRegression())])</pre><b>In a Jupyter environment, please rerun this cell to show the HTML representation or trust the notebook. <br />On GitHub, the HTML representation is unable to render, please try loading this page with nbviewer.org.</b></div><div class=\"sk-container\" hidden><div class=\"sk-item sk-dashed-wrapped\"><div class=\"sk-label-container\"><div class=\"sk-label sk-toggleable\"><input class=\"sk-toggleable__control sk-hidden--visually\" id=\"sk-estimator-id-11\" type=\"checkbox\" ><label for=\"sk-estimator-id-11\" class=\"sk-toggleable__label sk-toggleable__label-arrow\">Pipeline</label><div class=\"sk-toggleable__content\"><pre>Pipeline(steps=[(&#x27;standardscaler&#x27;, StandardScaler()),\n",
              "                (&#x27;logisticregression&#x27;, LogisticRegression())])</pre></div></div></div><div class=\"sk-serial\"><div class=\"sk-item\"><div class=\"sk-estimator sk-toggleable\"><input class=\"sk-toggleable__control sk-hidden--visually\" id=\"sk-estimator-id-12\" type=\"checkbox\" ><label for=\"sk-estimator-id-12\" class=\"sk-toggleable__label sk-toggleable__label-arrow\">StandardScaler</label><div class=\"sk-toggleable__content\"><pre>StandardScaler()</pre></div></div></div><div class=\"sk-item\"><div class=\"sk-estimator sk-toggleable\"><input class=\"sk-toggleable__control sk-hidden--visually\" id=\"sk-estimator-id-13\" type=\"checkbox\" ><label for=\"sk-estimator-id-13\" class=\"sk-toggleable__label sk-toggleable__label-arrow\">LogisticRegression</label><div class=\"sk-toggleable__content\"><pre>LogisticRegression()</pre></div></div></div></div></div></div></div>"
            ]
          },
          "metadata": {},
          "execution_count": 72
        }
      ]
    },
    {
      "cell_type": "code",
      "source": [
        "pipeline.predict(X)"
      ],
      "metadata": {
        "colab": {
          "base_uri": "https://localhost:8080/"
        },
        "id": "wE9Ve1fFn0vn",
        "outputId": "8c169833-633e-4d28-93ca-7f0bbaa89c22"
      },
      "execution_count": 73,
      "outputs": [
        {
          "output_type": "execute_result",
          "data": {
            "text/plain": [
              "array([0, 1, 2, ..., 8, 9, 8])"
            ]
          },
          "metadata": {},
          "execution_count": 73
        }
      ]
    },
    {
      "cell_type": "code",
      "source": [
        "# 숫자 데이터 로드\n",
        "digits = datasets.load_digits()\n",
        "# 특성행렬을 만든다\n",
        "X = digits.data\n",
        "# 타겟벡터를 만든다\n",
        "y = digits.target\n",
        "# 정규화\n",
        "scaler = StandardScaler()\n",
        "# 로지스틱 회귀\n",
        "logistic = LogisticRegression()\n",
        "# 파이프라인 생성  : 데이터를 표준화하고 그 데이터로 로지스틱회귀에 적용\n",
        "pipeline = make_pipeline(scaler, logistic)\n",
        "# k-폴드 교차 검증 생성\n",
        "kfold = KFold(n_splits=5, random_state=1,shuffle=True)\n",
        "# k폴드 교차 검증 수행\n",
        "cv_results = cross_val_score(pipeline, # 파이프라인\n",
        "                             X,   # 원본 학습용 데이터\n",
        "                             y,   # 정답\n",
        "                             cv=kfold,  # 교차검증 기법\n",
        "                             scoring='accuracy',  # 평가 지표\n",
        "                             n_jobs=-1  # 모든 cpu 코어 사용\n",
        "                             )"
      ],
      "metadata": {
        "id": "mS47kKOfl6dv"
      },
      "execution_count": 74,
      "outputs": []
    },
    {
      "cell_type": "code",
      "source": [
        "cv_results.mean()"
      ],
      "metadata": {
        "colab": {
          "base_uri": "https://localhost:8080/"
        },
        "id": "tjDNgqpzoFEt",
        "outputId": "2a152d98-1c60-45bf-aff0-4d9801f5f111"
      },
      "execution_count": 75,
      "outputs": [
        {
          "output_type": "execute_result",
          "data": {
            "text/plain": [
              "0.9699520272361498"
            ]
          },
          "metadata": {},
          "execution_count": 75
        }
      ]
    },
    {
      "cell_type": "code",
      "source": [
        "cv_results"
      ],
      "metadata": {
        "colab": {
          "base_uri": "https://localhost:8080/"
        },
        "id": "HzS8LutTo8Be",
        "outputId": "f86195fd-c027-4ced-e2e6-af6d81f852b1"
      },
      "execution_count": 76,
      "outputs": [
        {
          "output_type": "execute_result",
          "data": {
            "text/plain": [
              "array([0.98333333, 0.95277778, 0.98328691, 0.97214485, 0.95821727])"
            ]
          },
          "metadata": {},
          "execution_count": 76
        }
      ]
    },
    {
      "cell_type": "markdown",
      "source": [
        "데이터에 대해서 적용가능한 모델들을 각각 교차 검증해서 가장 성능높은 모델을 선택"
      ],
      "metadata": {
        "id": "0Ux6s5eZpqmw"
      }
    },
    {
      "cell_type": "code",
      "source": [
        "# 사용가능한 모델을 정의 - 분류형태의 머신러닝\n",
        "from sklearn.neighbors import KNeighborsClassifier  # 최근접 이웃 분류\n",
        "from sklearn.linear_model import LogisticRegression  # 로지스틱 함수를 이용한 분류\n",
        "from sklearn.naive_bayes import GaussianNB   # 가우시안 알고리즘을 이용한 분류\n",
        "from sklearn.svm import SVC   # 분류\n",
        "from sklearn.tree import DecisionTreeClassifier  # tree 계열의 분류\n",
        "from sklearn.ensemble import RandomForestClassifier # 앙상블\n",
        "from sklearn.preprocessing import StandardScaler  # 정규화\n",
        "from sklearn.pipeline import make_pipeline  # 자동화\n",
        "from sklearn.model_selection import KFold, cross_val_score # 교차검증"
      ],
      "metadata": {
        "id": "MpZ8St_6rVgB"
      },
      "execution_count": 78,
      "outputs": []
    },
    {
      "cell_type": "code",
      "source": [
        "# dictionary를 이용해서 다양한 모델을 정의\n",
        "models = {\n",
        "    'knn': KNeighborsClassifier(),\n",
        "    'logistic': LogisticRegression(),\n",
        "    'naive': GaussianNB(),\n",
        "    'svm': SVC(),\n",
        "    'tree': DecisionTreeClassifier(),\n",
        "    'forest': RandomForestClassifier()\n",
        "}"
      ],
      "metadata": {
        "id": "jgQKxkhLqBQm"
      },
      "execution_count": 79,
      "outputs": []
    },
    {
      "cell_type": "code",
      "source": [
        "# 파이프라인을 통해 전처리 및 모델 학습/평가\n",
        "pipelines = {}\n",
        "for name, model in models.items():\n",
        "  pipelines[name] = make_pipeline(StandardScaler(), model)"
      ],
      "metadata": {
        "id": "OsLAZ6OZrif-"
      },
      "execution_count": 80,
      "outputs": []
    },
    {
      "cell_type": "code",
      "source": [
        "pipelines"
      ],
      "metadata": {
        "colab": {
          "base_uri": "https://localhost:8080/"
        },
        "id": "QhIFsjqXsCVv",
        "outputId": "0e34bd4b-45c6-4945-9910-694657f90633"
      },
      "execution_count": 81,
      "outputs": [
        {
          "output_type": "execute_result",
          "data": {
            "text/plain": [
              "{'knn': Pipeline(steps=[('standardscaler', StandardScaler()),\n",
              "                 ('kneighborsclassifier', KNeighborsClassifier())]),\n",
              " 'logistic': Pipeline(steps=[('standardscaler', StandardScaler()),\n",
              "                 ('logisticregression', LogisticRegression())]),\n",
              " 'naive': Pipeline(steps=[('standardscaler', StandardScaler()),\n",
              "                 ('gaussiannb', GaussianNB())]),\n",
              " 'svm': Pipeline(steps=[('standardscaler', StandardScaler()), ('svc', SVC())]),\n",
              " 'tree': Pipeline(steps=[('standardscaler', StandardScaler()),\n",
              "                 ('decisiontreeclassifier', DecisionTreeClassifier())]),\n",
              " 'forest': Pipeline(steps=[('standardscaler', StandardScaler()),\n",
              "                 ('randomforestclassifier', RandomForestClassifier())])}"
            ]
          },
          "metadata": {},
          "execution_count": 81
        }
      ]
    },
    {
      "cell_type": "code",
      "source": [
        "# 각각의 파이프라인에 대한 교차 검증 수행\n",
        "results = {}\n",
        "for name, pipeline in pipelines.items():\n",
        "  kfold = KFold(n_splits=5, random_state=1,shuffle=True)\n",
        "  cv_results = cross_val_score(pipeline, X, y, cv=kfold, scoring='accuracy', n_jobs=-1)\n",
        "  results[name] = cv_results.mean()\n",
        "  print(f'{name} : {cv_results.mean()}')"
      ],
      "metadata": {
        "colab": {
          "base_uri": "https://localhost:8080/"
        },
        "id": "RO4Z4bQfr7qN",
        "outputId": "cb60e0e6-d4ef-4f34-cf74-917f02fa0217"
      },
      "execution_count": 82,
      "outputs": [
        {
          "output_type": "stream",
          "name": "stdout",
          "text": [
            "knn : 0.97384246363355\n",
            "logistic : 0.9699520272361498\n",
            "naive : 0.7807458991024451\n",
            "svm : 0.9810786134323738\n",
            "tree : 0.8458480346641906\n",
            "forest : 0.9749551222531723\n"
          ]
        }
      ]
    },
    {
      "cell_type": "code",
      "source": [
        "sorted(results.items(), key=lambda x: x[1], reverse=True)"
      ],
      "metadata": {
        "colab": {
          "base_uri": "https://localhost:8080/"
        },
        "id": "XMWsm6EnsVg0",
        "outputId": "de7f9bb3-80d4-492f-fe74-ec9af6a88689"
      },
      "execution_count": 84,
      "outputs": [
        {
          "output_type": "execute_result",
          "data": {
            "text/plain": [
              "[('svm', 0.9810786134323738),\n",
              " ('forest', 0.9749551222531723),\n",
              " ('knn', 0.97384246363355),\n",
              " ('logistic', 0.9699520272361498),\n",
              " ('tree', 0.8458480346641906),\n",
              " ('naive', 0.7807458991024451)]"
            ]
          },
          "metadata": {},
          "execution_count": 84
        }
      ]
    },
    {
      "cell_type": "code",
      "source": [],
      "metadata": {
        "id": "Hor9lBobsllt"
      },
      "execution_count": null,
      "outputs": []
    }
  ]
}