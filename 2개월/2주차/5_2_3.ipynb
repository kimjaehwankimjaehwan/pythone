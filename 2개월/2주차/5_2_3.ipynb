{
  "nbformat": 4,
  "nbformat_minor": 0,
  "metadata": {
    "colab": {
      "provenance": []
    },
    "kernelspec": {
      "name": "python3",
      "display_name": "Python 3"
    },
    "language_info": {
      "name": "python"
    }
  },
  "cells": [
    {
      "cell_type": "markdown",
      "source": [
        "기초통계\n",
        "  - 1 차원데이터\n",
        "  - 2 차원데이터"
      ],
      "metadata": {
        "id": "SnKvOBdfUkpI"
      }
    },
    {
      "cell_type": "markdown",
      "source": [
        "평균구하기"
      ],
      "metadata": {
        "id": "JhuwYGkWUsVf"
      }
    },
    {
      "cell_type": "code",
      "source": [
        "import numpy as np\n",
        "np.random.seed(0)\n",
        "data = np.random.randint(0,100,5)\n",
        "print('orgindata',data)\n",
        "print('sort data', np.sort(data) )"
      ],
      "metadata": {
        "colab": {
          "base_uri": "https://localhost:8080/"
        },
        "id": "Gx0TjC7-Uu-v",
        "outputId": "a8ec158c-97d5-4f83-f0b6-59bff2e7bf9f"
      },
      "execution_count": 48,
      "outputs": [
        {
          "output_type": "stream",
          "name": "stdout",
          "text": [
            "orgindata [44 47 64 67 67]\n",
            "sort data [44 47 64 67 67]\n"
          ]
        }
      ]
    },
    {
      "cell_type": "code",
      "source": [
        "np.mean(data)"
      ],
      "metadata": {
        "colab": {
          "base_uri": "https://localhost:8080/"
        },
        "id": "ZYg685aPV57w",
        "outputId": "65ea4abe-4e85-4ebd-f928-05c4b81abd29"
      },
      "execution_count": 49,
      "outputs": [
        {
          "output_type": "execute_result",
          "data": {
            "text/plain": [
              "57.8"
            ]
          },
          "metadata": {},
          "execution_count": 49
        }
      ]
    },
    {
      "cell_type": "markdown",
      "source": [
        "중앙값 구하기"
      ],
      "metadata": {
        "id": "8i_eUCj1Uuf_"
      }
    },
    {
      "cell_type": "code",
      "source": [
        "np.median(data)"
      ],
      "metadata": {
        "colab": {
          "base_uri": "https://localhost:8080/"
        },
        "id": "t9MtSOSVUn6A",
        "outputId": "cc8d137e-b369-4591-cadc-9255b7b7edac"
      },
      "execution_count": 50,
      "outputs": [
        {
          "output_type": "execute_result",
          "data": {
            "text/plain": [
              "64.0"
            ]
          },
          "metadata": {},
          "execution_count": 50
        }
      ]
    },
    {
      "cell_type": "markdown",
      "source": [
        "최빈값 구하기"
      ],
      "metadata": {
        "id": "sd6IG85WUzFn"
      }
    },
    {
      "cell_type": "code",
      "source": [
        "np.random.seed(0)\n",
        "data = np.random.randint(0,10,20)\n",
        "print(data)\n",
        "a,b = np.unique(data, return_counts=True)\n",
        "dict_1 = dict(zip(a, b))\n",
        "\n",
        "# dic을 정렬 (key기준, 또는 value를 기준)  람다함수\n",
        "dict_2 = sorted(dict_1.items(), key=lambda k: k[1]   )\n",
        "\n",
        "print('빈도수 정렬',dict_2 )\n",
        "print('최빈값',dict_2[-1][0])\n",
        "\n",
        "# 2.\n",
        "print('유니크한값, 빈도수', a,b)\n",
        "max_index = np.argmax(b)  # b의 들어있는 값을의 가장큰 값의 인덱스 번호를 리턴\n",
        "print('최빈값',a[max_index])\n",
        "\n",
        "# 3 scipy 모듈사용하기 --> 통계용 모듈\n",
        "from scipy import stats\n",
        "print('최빈값',stats.mode(data))"
      ],
      "metadata": {
        "colab": {
          "base_uri": "https://localhost:8080/"
        },
        "id": "SnuxPlFZU0oY",
        "outputId": "884c794e-c950-4a2f-d738-7d2dc7f615e6"
      },
      "execution_count": 56,
      "outputs": [
        {
          "output_type": "stream",
          "name": "stdout",
          "text": [
            "[5 0 3 3 7 9 3 5 2 4 7 6 8 8 1 6 7 7 8 1]\n",
            "빈도수 정렬 [(0, 1), (2, 1), (4, 1), (9, 1), (1, 2), (5, 2), (6, 2), (3, 3), (8, 3), (7, 4)]\n",
            "최빈값 7\n",
            "유니크한값, 빈도수 [0 1 2 3 4 5 6 7 8 9] [1 2 1 3 1 2 2 4 3 1]\n",
            "최빈값 7\n",
            "최빈값 ModeResult(mode=7, count=4)\n"
          ]
        }
      ]
    },
    {
      "cell_type": "markdown",
      "source": [
        "분산구하기\n",
        "  - 평균\n",
        "  - 편차 계산 : 각 데이터에서 평균을 뺀 값\n",
        "  - 편차 제곱 : 양수가 되도록\n",
        "  - 편차 제곱들의 평균"
      ],
      "metadata": {
        "id": "Op1UKXKVU11X"
      }
    },
    {
      "cell_type": "code",
      "source": [
        "data = np.array([2,4,6,8,10])\n",
        "print('분산',np.var(data))\n",
        "data_mean = np.mean(data)\n",
        "np.mean((data- data_mean)**2)"
      ],
      "metadata": {
        "colab": {
          "base_uri": "https://localhost:8080/"
        },
        "id": "lYXhl8eDU2mY",
        "outputId": "70b2a044-222e-486e-f48a-88a251181b41"
      },
      "execution_count": 61,
      "outputs": [
        {
          "output_type": "stream",
          "name": "stdout",
          "text": [
            "분산 8.0\n"
          ]
        },
        {
          "output_type": "execute_result",
          "data": {
            "text/plain": [
              "8.0"
            ]
          },
          "metadata": {},
          "execution_count": 61
        }
      ]
    },
    {
      "cell_type": "markdown",
      "source": [
        "표준편차 구하기\n",
        "  - 분산의 제곱근"
      ],
      "metadata": {
        "id": "uQ8aiMzMU3k3"
      }
    },
    {
      "cell_type": "code",
      "source": [
        "data = np.array([2,4,6,8,10])\n",
        "print('표준편차',np.std(data))\n",
        "np.sqrt(np.var(data))  # 분산의 제곱근"
      ],
      "metadata": {
        "colab": {
          "base_uri": "https://localhost:8080/"
        },
        "id": "CmVQ9Y_bU4b4",
        "outputId": "11481a84-ed4b-4f77-815a-5eefa76843cf"
      },
      "execution_count": 63,
      "outputs": [
        {
          "output_type": "stream",
          "name": "stdout",
          "text": [
            "표준편차 2.8284271247461903\n"
          ]
        },
        {
          "output_type": "execute_result",
          "data": {
            "text/plain": [
              "2.8284271247461903"
            ]
          },
          "metadata": {},
          "execution_count": 63
        }
      ]
    },
    {
      "cell_type": "markdown",
      "source": [
        "사분위수 구하기\n",
        "  - box plot 궁합\n",
        "  - 각 요소들간의 편가가 동일하다면 1Q 2Q 3Q 값의 차이가 일정\n",
        "  - 박스의 간격이 동일"
      ],
      "metadata": {
        "id": "uhK5kOq2U5Z_"
      }
    },
    {
      "cell_type": "code",
      "source": [
        "data = np.array([2,4,6,8,10])\n",
        "print('사분위수',np.quantile(data, [0.25,0.5,0.75]))"
      ],
      "metadata": {
        "colab": {
          "base_uri": "https://localhost:8080/"
        },
        "id": "ZIo3Z__AU6Go",
        "outputId": "8c4be06c-8785-46d1-f338-ad623173e1da"
      },
      "execution_count": 64,
      "outputs": [
        {
          "output_type": "stream",
          "name": "stdout",
          "text": [
            "사분위수 [4. 6. 8.]\n"
          ]
        }
      ]
    },
    {
      "cell_type": "markdown",
      "source": [
        "  범위 구하기"
      ],
      "metadata": {
        "id": "eLtg4xG2U7eP"
      }
    },
    {
      "cell_type": "code",
      "source": [],
      "metadata": {
        "id": "_O1M3LdSU8rX"
      },
      "execution_count": null,
      "outputs": []
    },
    {
      "cell_type": "markdown",
      "source": [
        "상자그림 구하기"
      ],
      "metadata": {
        "id": "SQA2N3QdU-r_"
      }
    },
    {
      "cell_type": "code",
      "source": [],
      "metadata": {
        "id": "QoyTyVo3U_dI"
      },
      "execution_count": null,
      "outputs": []
    },
    {
      "cell_type": "markdown",
      "source": [
        "히스토그램 그리기"
      ],
      "metadata": {
        "id": "-JDmvsiAVAOP"
      }
    },
    {
      "cell_type": "code",
      "source": [],
      "metadata": {
        "id": "El7EFkS1VBPQ"
      },
      "execution_count": null,
      "outputs": []
    },
    {
      "cell_type": "markdown",
      "source": [
        "정규분포 확인하기"
      ],
      "metadata": {
        "id": "qeeszNpXVCRQ"
      }
    },
    {
      "cell_type": "code",
      "source": [],
      "metadata": {
        "id": "rrSAux04VDjw"
      },
      "execution_count": null,
      "outputs": []
    },
    {
      "cell_type": "markdown",
      "source": [
        "산점도 그리기"
      ],
      "metadata": {
        "id": "gRky4BOCVEvw"
      }
    },
    {
      "cell_type": "code",
      "source": [],
      "metadata": {
        "id": "tzIvBDU2VFaw"
      },
      "execution_count": null,
      "outputs": []
    },
    {
      "cell_type": "markdown",
      "source": [
        "상관계수 구하기"
      ],
      "metadata": {
        "id": "ImPBsgymVGAA"
      }
    },
    {
      "cell_type": "code",
      "source": [],
      "metadata": {
        "id": "5u2nwuj2VHmQ"
      },
      "execution_count": null,
      "outputs": []
    },
    {
      "cell_type": "markdown",
      "source": [
        "데이터 정규화"
      ],
      "metadata": {
        "id": "RUvJtcocVItQ"
      }
    },
    {
      "cell_type": "code",
      "source": [],
      "metadata": {
        "id": "huMHJa7PVJb4"
      },
      "execution_count": null,
      "outputs": []
    },
    {
      "cell_type": "markdown",
      "source": [
        "데이터 표준화"
      ],
      "metadata": {
        "id": "uaYIdlDNVKL4"
      }
    },
    {
      "cell_type": "code",
      "source": [],
      "metadata": {
        "id": "V95sGA_ZVK4Q"
      },
      "execution_count": null,
      "outputs": []
    },
    {
      "cell_type": "markdown",
      "source": [
        "이상치 탐지"
      ],
      "metadata": {
        "id": "Ab7CarwhVMB4"
      }
    },
    {
      "cell_type": "code",
      "source": [],
      "metadata": {
        "id": "E6GYmi2YVNDg"
      },
      "execution_count": null,
      "outputs": []
    },
    {
      "cell_type": "markdown",
      "source": [
        "PPF 퍼센트 포인트 함수 사용하기"
      ],
      "metadata": {
        "id": "JUHI_MunVVbQ"
      }
    },
    {
      "cell_type": "code",
      "source": [],
      "metadata": {
        "id": "KUgrpuNCVZEI"
      },
      "execution_count": null,
      "outputs": []
    },
    {
      "cell_type": "markdown",
      "source": [
        "누적분포 함수 CDF 사용"
      ],
      "metadata": {
        "id": "NWXj6vmBVasY"
      }
    },
    {
      "cell_type": "code",
      "source": [],
      "metadata": {
        "id": "QXb0KBLGVdYI"
      },
      "execution_count": null,
      "outputs": []
    },
    {
      "cell_type": "markdown",
      "source": [
        "확률 밀도 PDF 사용하기"
      ],
      "metadata": {
        "id": "ebVZZruWVeJA"
      }
    },
    {
      "cell_type": "code",
      "source": [],
      "metadata": {
        "id": "4rLk_WzYVgDB"
      },
      "execution_count": null,
      "outputs": []
    },
    {
      "cell_type": "markdown",
      "source": [
        "데이터 분할하기"
      ],
      "metadata": {
        "id": "Skwdm6CtVgco"
      }
    },
    {
      "cell_type": "code",
      "source": [],
      "metadata": {
        "id": "Md13jCQqVhUJ"
      },
      "execution_count": null,
      "outputs": []
    },
    {
      "cell_type": "markdown",
      "source": [
        "데이터 셔플링"
      ],
      "metadata": {
        "id": "sDZsRF9oViNn"
      }
    },
    {
      "cell_type": "code",
      "source": [],
      "metadata": {
        "id": "sJiSglFjVjMH"
      },
      "execution_count": null,
      "outputs": []
    }
  ]
}