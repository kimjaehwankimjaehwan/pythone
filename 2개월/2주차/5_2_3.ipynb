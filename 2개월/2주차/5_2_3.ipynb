{
  "nbformat": 4,
  "nbformat_minor": 0,
  "metadata": {
    "colab": {
      "provenance": []
    },
    "kernelspec": {
      "name": "python3",
      "display_name": "Python 3"
    },
    "language_info": {
      "name": "python"
    }
  },
  "cells": [
    {
      "cell_type": "markdown",
      "source": [
        "기초통계\n",
        "  - 1 차원데이터\n",
        "  - 2 차원데이터"
      ],
      "metadata": {
        "id": "SnKvOBdfUkpI"
      }
    },
    {
      "cell_type": "markdown",
      "source": [
        "평균구하기"
      ],
      "metadata": {
        "id": "JhuwYGkWUsVf"
      }
    },
    {
      "cell_type": "code",
      "source": [
        "import numpy as np\n",
        "np.random.seed(0)\n",
        "data = np.random.randint(0,100,5)\n",
        "print('orgindata',data)\n",
        "print('sort data', np.sort(data) )"
      ],
      "metadata": {
        "colab": {
          "base_uri": "https://localhost:8080/"
        },
        "id": "Gx0TjC7-Uu-v",
        "outputId": "a8ec158c-97d5-4f83-f0b6-59bff2e7bf9f"
      },
      "execution_count": 48,
      "outputs": [
        {
          "output_type": "stream",
          "name": "stdout",
          "text": [
            "orgindata [44 47 64 67 67]\n",
            "sort data [44 47 64 67 67]\n"
          ]
        }
      ]
    },
    {
      "cell_type": "code",
      "source": [
        "np.mean(data)"
      ],
      "metadata": {
        "colab": {
          "base_uri": "https://localhost:8080/"
        },
        "id": "ZYg685aPV57w",
        "outputId": "65ea4abe-4e85-4ebd-f928-05c4b81abd29"
      },
      "execution_count": 49,
      "outputs": [
        {
          "output_type": "execute_result",
          "data": {
            "text/plain": [
              "57.8"
            ]
          },
          "metadata": {},
          "execution_count": 49
        }
      ]
    },
    {
      "cell_type": "markdown",
      "source": [
        "중앙값 구하기"
      ],
      "metadata": {
        "id": "8i_eUCj1Uuf_"
      }
    },
    {
      "cell_type": "code",
      "source": [
        "np.median(data)"
      ],
      "metadata": {
        "colab": {
          "base_uri": "https://localhost:8080/"
        },
        "id": "t9MtSOSVUn6A",
        "outputId": "cc8d137e-b369-4591-cadc-9255b7b7edac"
      },
      "execution_count": 50,
      "outputs": [
        {
          "output_type": "execute_result",
          "data": {
            "text/plain": [
              "64.0"
            ]
          },
          "metadata": {},
          "execution_count": 50
        }
      ]
    },
    {
      "cell_type": "markdown",
      "source": [
        "최빈값 구하기"
      ],
      "metadata": {
        "id": "sd6IG85WUzFn"
      }
    },
    {
      "cell_type": "code",
      "source": [
        "np.random.seed(0)\n",
        "data = np.random.randint(0,10,20)\n",
        "print(data)\n",
        "a,b = np.unique(data, return_counts=True)\n",
        "dict_1 = dict(zip(a, b))\n",
        "\n",
        "# dic을 정렬 (key기준, 또는 value를 기준)  람다함수\n",
        "dict_2 = sorted(dict_1.items(), key=lambda k: k[1]   )\n",
        "\n",
        "print('빈도수 정렬',dict_2 )\n",
        "print('최빈값',dict_2[-1][0])\n",
        "\n",
        "# 2.\n",
        "print('유니크한값, 빈도수', a,b)\n",
        "max_index = np.argmax(b)  # b의 들어있는 값을의 가장큰 값의 인덱스 번호를 리턴\n",
        "print('최빈값',a[max_index])\n",
        "\n",
        "# 3 scipy 모듈사용하기 --> 통계용 모듈\n",
        "from scipy import stats\n",
        "print('최빈값',stats.mode(data))"
      ],
      "metadata": {
        "colab": {
          "base_uri": "https://localhost:8080/"
        },
        "id": "SnuxPlFZU0oY",
        "outputId": "884c794e-c950-4a2f-d738-7d2dc7f615e6"
      },
      "execution_count": 56,
      "outputs": [
        {
          "output_type": "stream",
          "name": "stdout",
          "text": [
            "[5 0 3 3 7 9 3 5 2 4 7 6 8 8 1 6 7 7 8 1]\n",
            "빈도수 정렬 [(0, 1), (2, 1), (4, 1), (9, 1), (1, 2), (5, 2), (6, 2), (3, 3), (8, 3), (7, 4)]\n",
            "최빈값 7\n",
            "유니크한값, 빈도수 [0 1 2 3 4 5 6 7 8 9] [1 2 1 3 1 2 2 4 3 1]\n",
            "최빈값 7\n",
            "최빈값 ModeResult(mode=7, count=4)\n"
          ]
        }
      ]
    },
    {
      "cell_type": "markdown",
      "source": [
        "분산구하기\n",
        "  - 평균\n",
        "  - 편차 계산 : 각 데이터에서 평균을 뺀 값\n",
        "  - 편차 제곱 : 양수가 되도록\n",
        "  - 편차 제곱들의 평균"
      ],
      "metadata": {
        "id": "Op1UKXKVU11X"
      }
    },
    {
      "cell_type": "code",
      "source": [
        "data = np.array([2,4,6,8,10])\n",
        "print('분산',np.var(data))\n",
        "data_mean = np.mean(data)\n",
        "np.mean((data- data_mean)**2)"
      ],
      "metadata": {
        "colab": {
          "base_uri": "https://localhost:8080/"
        },
        "id": "lYXhl8eDU2mY",
        "outputId": "70b2a044-222e-486e-f48a-88a251181b41"
      },
      "execution_count": 61,
      "outputs": [
        {
          "output_type": "stream",
          "name": "stdout",
          "text": [
            "분산 8.0\n"
          ]
        },
        {
          "output_type": "execute_result",
          "data": {
            "text/plain": [
              "8.0"
            ]
          },
          "metadata": {},
          "execution_count": 61
        }
      ]
    },
    {
      "cell_type": "markdown",
      "source": [
        "표준편차 구하기\n",
        "  - 분산의 제곱근"
      ],
      "metadata": {
        "id": "uQ8aiMzMU3k3"
      }
    },
    {
      "cell_type": "code",
      "source": [
        "data = np.array([2,4,6,8,10])\n",
        "print('표준편차',np.std(data))\n",
        "np.sqrt(np.var(data))  # 분산의 제곱근"
      ],
      "metadata": {
        "colab": {
          "base_uri": "https://localhost:8080/"
        },
        "id": "CmVQ9Y_bU4b4",
        "outputId": "11481a84-ed4b-4f77-815a-5eefa76843cf"
      },
      "execution_count": 63,
      "outputs": [
        {
          "output_type": "stream",
          "name": "stdout",
          "text": [
            "표준편차 2.8284271247461903\n"
          ]
        },
        {
          "output_type": "execute_result",
          "data": {
            "text/plain": [
              "2.8284271247461903"
            ]
          },
          "metadata": {},
          "execution_count": 63
        }
      ]
    },
    {
      "cell_type": "markdown",
      "source": [
        "사분위수 구하기\n",
        "  - box plot 궁합\n",
        "  - 각 요소들간의 편가가 동일하다면 1Q 2Q 3Q 값의 차이가 일정\n",
        "  - 박스의 간격이 동일"
      ],
      "metadata": {
        "id": "uhK5kOq2U5Z_"
      }
    },
    {
      "cell_type": "code",
      "source": [
        "data = np.array([2,4,6,8,10])\n",
        "print('사분위수',np.quantile(data, [0.25,0.5,0.75]))"
      ],
      "metadata": {
        "colab": {
          "base_uri": "https://localhost:8080/"
        },
        "id": "ZIo3Z__AU6Go",
        "outputId": "8c4be06c-8785-46d1-f338-ad623173e1da"
      },
      "execution_count": 64,
      "outputs": [
        {
          "output_type": "stream",
          "name": "stdout",
          "text": [
            "사분위수 [4. 6. 8.]\n"
          ]
        }
      ]
    },
    {
      "cell_type": "markdown",
      "source": [
        "  범위 구하기\n",
        "   - 최소값과 최대값의 차이"
      ],
      "metadata": {
        "id": "eLtg4xG2U7eP"
      }
    },
    {
      "cell_type": "code",
      "source": [
        "import numpy as np\n",
        "np.random.seed(0)\n",
        "data = np.random.randint(0,100,50)\n",
        "np.abs(np.min(data) - np.max(data))\n"
      ],
      "metadata": {
        "colab": {
          "base_uri": "https://localhost:8080/"
        },
        "id": "_O1M3LdSU8rX",
        "outputId": "d098e30d-0751-452e-ecdd-11faba00ff68"
      },
      "execution_count": 7,
      "outputs": [
        {
          "output_type": "execute_result",
          "data": {
            "text/plain": [
              "90"
            ]
          },
          "metadata": {},
          "execution_count": 7
        }
      ]
    },
    {
      "cell_type": "markdown",
      "source": [
        "상자그림 구하기"
      ],
      "metadata": {
        "id": "SQA2N3QdU-r_"
      }
    },
    {
      "cell_type": "code",
      "source": [
        "import matplotlib.pyplot as plt\n",
        "plt.boxplot(data)\n",
        "plt.title('boxplot')\n",
        "plt.show()"
      ],
      "metadata": {
        "colab": {
          "base_uri": "https://localhost:8080/",
          "height": 452
        },
        "id": "QoyTyVo3U_dI",
        "outputId": "d38e6fa9-e977-4c0f-f4a4-e8b5513c9890"
      },
      "execution_count": 9,
      "outputs": [
        {
          "output_type": "display_data",
          "data": {
            "text/plain": [
              "<Figure size 640x480 with 1 Axes>"
            ],
            "image/png": "[encoded data removed]"
          },
          "metadata": {}
        }
      ]
    },
    {
      "cell_type": "code",
      "source": [
        "# 각 그룹의 시험점수\n",
        "group_a = [55,65,75,85,95]\n",
        "group_b = [45,55,65,75,85,95,105]\n",
        "group_c = [35,45,55,65,75,85,95,105,115]\n",
        "# 데이터를 리스트로 정리\n",
        "data = [group_a, group_b, group_c]\n",
        "# 상자그림 그리기\n",
        "plt.boxplot(data, labels=['Gropu A', 'Group B', 'Group C'])\n",
        "plt.title('boxplot')\n",
        "plt.show()"
      ],
      "metadata": {
        "colab": {
          "base_uri": "https://localhost:8080/",
          "height": 452
        },
        "id": "n5pJU1ZwjbP0",
        "outputId": "ce13c4e6-ca97-488a-d2a7-b690329f6928"
      },
      "execution_count": 10,
      "outputs": [
        {
          "output_type": "display_data",
          "data": {
            "text/plain": [
              "<Figure size 640x480 with 1 Axes>"
            ],
            "image/png": "[encoded data removed]"
          },
          "metadata": {}
        }
      ]
    },
    {
      "cell_type": "code",
      "source": [
        "# 각 그룹의 시험점수\n",
        "group_a = [55,65,75,85,95,150]\n",
        "group_b = [45,55,65,75,85,95,105,200]\n",
        "group_c = [35,45,55,65,75,85,95,105,115,-30]\n",
        "# 데이터를 리스트로 정리\n",
        "data = [group_a, group_b, group_c]\n",
        "# 상자그림 그리기\n",
        "plt.boxplot(data, labels=['Gropu A', 'Group B', 'Group C'])\n",
        "plt.title('boxplot')\n",
        "plt.show()"
      ],
      "metadata": {
        "colab": {
          "base_uri": "https://localhost:8080/",
          "height": 452
        },
        "id": "CgcIGj7ZjbYt",
        "outputId": "2950acaf-a0e3-47b1-f404-fbc6d7360269"
      },
      "execution_count": 17,
      "outputs": [
        {
          "output_type": "display_data",
          "data": {
            "text/plain": [
              "<Figure size 640x480 with 1 Axes>"
            ],
            "image/png": "[encoded data removed]"
          },
          "metadata": {}
        }
      ]
    },
    {
      "cell_type": "markdown",
      "source": [
        "히스토그램 그리기"
      ],
      "metadata": {
        "id": "-JDmvsiAVAOP"
      }
    },
    {
      "cell_type": "code",
      "source": [
        "import matplotlib.pyplot as plt\n",
        "import numpy as np\n",
        "np.random.seed(0)\n",
        "data = np.random.randint(0,100,100)\n",
        "plt.hist(data, bins=10)\n",
        "plt.show()"
      ],
      "metadata": {
        "colab": {
          "base_uri": "https://localhost:8080/",
          "height": 430
        },
        "id": "El7EFkS1VBPQ",
        "outputId": "770efc71-75ee-45a5-8972-c9f1f8b4e608"
      },
      "execution_count": 18,
      "outputs": [
        {
          "output_type": "display_data",
          "data": {
            "text/plain": [
              "<Figure size 640x480 with 1 Axes>"
            ],
            "image/png": "[encoded data removed]"
          },
          "metadata": {}
        }
      ]
    },
    {
      "cell_type": "markdown",
      "source": [
        "정규분포 확인하기\n",
        "  - 자연현상의 일반적인 패턴 즉 사회적현상에서는 데이터가 정규분포형태를 따르는 경향이 있음"
      ],
      "metadata": {
        "id": "qeeszNpXVCRQ"
      }
    },
    {
      "cell_type": "code",
      "source": [
        "data = np.random.normal(0,1,1000)  # 평균이 0 표준편차가 1인 정규분포 형태를 갖춘 1000개의 데이터\n",
        "plt.hist(data, bins=10)\n",
        "plt.show()"
      ],
      "metadata": {
        "colab": {
          "base_uri": "https://localhost:8080/",
          "height": 430
        },
        "id": "rrSAux04VDjw",
        "outputId": "1ff2d31c-e394-4715-aafb-d4ab95d2f203"
      },
      "execution_count": 19,
      "outputs": [
        {
          "output_type": "display_data",
          "data": {
            "text/plain": [
              "<Figure size 640x480 with 1 Axes>"
            ],
            "image/png": "[encoded data removed]"
          },
          "metadata": {}
        }
      ]
    },
    {
      "cell_type": "markdown",
      "source": [
        "산점도 그리기"
      ],
      "metadata": {
        "id": "gRky4BOCVEvw"
      }
    },
    {
      "cell_type": "code",
      "source": [
        "# 구현해 보기"
      ],
      "metadata": {
        "id": "tzIvBDU2VFaw"
      },
      "execution_count": null,
      "outputs": []
    },
    {
      "cell_type": "markdown",
      "source": [
        "상관계수 구하기"
      ],
      "metadata": {
        "id": "ImPBsgymVGAA"
      }
    },
    {
      "cell_type": "code",
      "source": [
        "x = [1,2,3,4,5]\n",
        "y = [2,3,1,8,3]\n",
        "np.corrcoef(x,y)"
      ],
      "metadata": {
        "colab": {
          "base_uri": "https://localhost:8080/"
        },
        "id": "5u2nwuj2VHmQ",
        "outputId": "c02563d1-6f60-486b-b037-4d2074f0775c"
      },
      "execution_count": 22,
      "outputs": [
        {
          "output_type": "execute_result",
          "data": {
            "text/plain": [
              "array([[1.        , 0.40964402],\n",
              "       [0.40964402, 1.        ]])"
            ]
          },
          "metadata": {},
          "execution_count": 22
        }
      ]
    },
    {
      "cell_type": "markdown",
      "source": [
        "데이터 정규화\n",
        "  - 스케일링.. 일정한 범위로 데이터의 범위(크기)를 재 조정\n",
        "  - 일반적으로 0과 1사이\n",
        "  - 신경망 학습, 거리기반 알고리즘에 적용(k 최근접이웃)"
      ],
      "metadata": {
        "id": "RUvJtcocVItQ"
      }
    },
    {
      "cell_type": "code",
      "source": [
        "a = [1,2,3,4,5,6,7,8,9,10]\n",
        "b = [10,20,30,40,50,60,70,80,90,100]\n",
        "# (각요소 - 평균) / 최대값 - 최소값\n",
        "print( (np.array(a) - np.mean(a)) / (np.max(a) - np.min(a)) )\n",
        "print( (np.array(b) - np.mean(b)) / (np.max(b) - np.min(b)) )\n"
      ],
      "metadata": {
        "colab": {
          "base_uri": "https://localhost:8080/"
        },
        "id": "huMHJa7PVJb4",
        "outputId": "f0a0c553-f0c5-490c-b5ad-ef320cb23b92"
      },
      "execution_count": 23,
      "outputs": [
        {
          "output_type": "stream",
          "name": "stdout",
          "text": [
            "[-0.5        -0.38888889 -0.27777778 -0.16666667 -0.05555556  0.05555556\n",
            "  0.16666667  0.27777778  0.38888889  0.5       ]\n",
            "[-0.5        -0.38888889 -0.27777778 -0.16666667 -0.05555556  0.05555556\n",
            "  0.16666667  0.27777778  0.38888889  0.5       ]\n"
          ]
        }
      ]
    },
    {
      "cell_type": "markdown",
      "source": [
        "데이터 표준화(standardization)\n",
        "  - 평균이 0이고 표준편차가 1인 정규분포형태로 변환하는 과정 (평균  0 , 분산이 1)\n",
        "  - (x - 평균) / 표준편차\n",
        "  - 회귀모델, 주성분 분석(PCA)"
      ],
      "metadata": {
        "id": "uaYIdlDNVKL4"
      }
    },
    {
      "cell_type": "code",
      "source": [
        "data = [\n",
        "    [-1,2],[-0.5,6],[0,10],[1,18]\n",
        "]\n",
        "data = np.array(data)\n",
        "print(data)\n",
        "print( (data - np.mean(data, axis=0)) / np.std(data, axis=0) )\n"
      ],
      "metadata": {
        "colab": {
          "base_uri": "https://localhost:8080/"
        },
        "id": "V95sGA_ZVK4Q",
        "outputId": "91c1290c-1fac-4abe-f01d-dd1aff376cdb"
      },
      "execution_count": 26,
      "outputs": [
        {
          "output_type": "stream",
          "name": "stdout",
          "text": [
            "[[-1.   2. ]\n",
            " [-0.5  6. ]\n",
            " [ 0.  10. ]\n",
            " [ 1.  18. ]]\n",
            "[[-1.18321596 -1.18321596]\n",
            " [-0.50709255 -0.50709255]\n",
            " [ 0.16903085  0.16903085]\n",
            " [ 1.52127766  1.52127766]]\n"
          ]
        }
      ]
    },
    {
      "cell_type": "markdown",
      "source": [
        "정규화  VS 표준화\n",
        "  - 둘다 데이터의 크기가 줄어든다\n",
        "  - 정규화(0 과 1사이 로 크기줄임) 비 선형모델에서 스케일이 중요한 경우, 거리기반의 모델\n",
        "  - 표준화 는 선형모델이나 데이터의 분포가 중요할때, 데이터의 특성이 변화지 않는다"
      ],
      "metadata": {
        "id": "uMGMpIcFsRJZ"
      }
    },
    {
      "cell_type": "markdown",
      "source": [
        "이상치 탐지"
      ],
      "metadata": {
        "id": "Ab7CarwhVMB4"
      }
    },
    {
      "cell_type": "code",
      "source": [
        "data = [2,4,6,8,10,100]\n",
        "# 빠르게 파악하는 방법\n",
        "# 평균에서 2배의 표준편차를 초과하는 값을 이상치로 간주\n",
        "data_mean = np.mean(data)\n",
        "data_std = np.std(data)\n",
        "print(data_mean, data_std)\n",
        "print('이상치',[x for x in data if np.abs(x-data_mean) > 2*data_std])\n",
        "\n",
        "# boxplot을 이용한 시각화를통해 이상치 여부를 감지하고\n",
        "# Q3-Q1 값을 IRQ   (Q1 -  IRQ*1.5  ~  Q3 + IRQ*1.5) 이 범위에 있는 데이터만 추린다.\n",
        ""
      ],
      "metadata": {
        "colab": {
          "base_uri": "https://localhost:8080/"
        },
        "id": "E6GYmi2YVNDg",
        "outputId": "368936c1-b508-4309-e955-b947af65e903"
      },
      "execution_count": 35,
      "outputs": [
        {
          "output_type": "stream",
          "name": "stdout",
          "text": [
            "21.666666666666668 35.126754602281274\n",
            "이상치 [100]\n"
          ]
        }
      ]
    },
    {
      "cell_type": "markdown",
      "source": [
        "PPF 퍼센트 포인트 함수 사용하기\n",
        "  - 페센트 포인트 주어진확률에  해당하는 값(임계값)을 찾는다\n",
        "  - 통계적인  신뢰구간을 찾을 때 사용"
      ],
      "metadata": {
        "id": "JUHI_MunVVbQ"
      }
    },
    {
      "cell_type": "code",
      "source": [
        "from scipy.stats import norm  # norm 정규분포와 관련된 함수를 제공\n",
        "precent_point = norm.ppf(0.95)  # 누적확률이 0.95% 즉. 정규분포에서 상위 5%에 해당하는 값\n",
        "print(precent_point)"
      ],
      "metadata": {
        "colab": {
          "base_uri": "https://localhost:8080/"
        },
        "id": "KUgrpuNCVZEI",
        "outputId": "493da5a5-7489-4c8b-a399-62bad031b583"
      },
      "execution_count": 37,
      "outputs": [
        {
          "output_type": "stream",
          "name": "stdout",
          "text": [
            "1.6448536269514722\n"
          ]
        }
      ]
    },
    {
      "cell_type": "markdown",
      "source": [
        "누적분포 함수 CDF 사용"
      ],
      "metadata": {
        "id": "NWXj6vmBVasY"
      }
    },
    {
      "cell_type": "code",
      "source": [
        "from scipy.stats import norm\n",
        "cdf_value = norm.cdf(1.96)  # 정규분포에서 x = 1.96까지의 누적 확률을 계산 주어진 x값이 정규분포의 평균 이하일 확률  정규분포에서 1.96번째 퍼센트 포인트\n",
        "# 정규분포에서 1.96이하의 값이 발생할 확률은 0.975 즉 97.5퍼센트\n",
        "print(cdf_value)"
      ],
      "metadata": {
        "colab": {
          "base_uri": "https://localhost:8080/"
        },
        "id": "QXb0KBLGVdYI",
        "outputId": "cee3b191-d8cb-4129-f14a-713de8d05550"
      },
      "execution_count": 39,
      "outputs": [
        {
          "output_type": "stream",
          "name": "stdout",
          "text": [
            "0.9750021048517795\n"
          ]
        }
      ]
    },
    {
      "cell_type": "markdown",
      "source": [
        "확률 밀도 PDF 사용하기"
      ],
      "metadata": {
        "id": "ebVZZruWVeJA"
      }
    },
    {
      "cell_type": "code",
      "source": [
        "# 정규분포의 확률 밀도 함수\n",
        "from scipy.stats import norm\n",
        "import matplotlib.pyplot as plt\n",
        "x = np.linspace(-3,3,100)  # -3 3사이의 균등한 분포를 가지는 100개의 데이터를 생성\n",
        "y = norm.pdf(x)\n",
        "plt.plot(x,y)\n",
        "plt.show()"
      ],
      "metadata": {
        "colab": {
          "base_uri": "https://localhost:8080/",
          "height": 430
        },
        "id": "4rLk_WzYVgDB",
        "outputId": "15528d00-2f92-402a-b319-797808ee94a5"
      },
      "execution_count": 38,
      "outputs": [
        {
          "output_type": "display_data",
          "data": {
            "text/plain": [
              "<Figure size 640x480 with 1 Axes>"
            ],
            "image/png": "[encoded data removed]"
          },
          "metadata": {}
        }
      ]
    },
    {
      "cell_type": "markdown",
      "source": [
        "데이터 분할하기\n",
        "  - 주어진데이터를 학습용과 검증용 그리고 평가용으로 분할해야 함"
      ],
      "metadata": {
        "id": "Skwdm6CtVgco"
      }
    },
    {
      "cell_type": "code",
      "source": [
        "import numpy as np\n",
        "np.random.seed(0)\n",
        "data = np.random.randint(0,100,100)\n",
        "print('원본데이터',data)\n",
        "# 데이터를 8:2의 비율로 분리\n",
        "train_data = data[:80]\n",
        "test_data = data[80:]\n",
        "print('학습용데이터',train_data)\n",
        "print('평가용데이터',test_data)"
      ],
      "metadata": {
        "colab": {
          "base_uri": "https://localhost:8080/"
        },
        "id": "Md13jCQqVhUJ",
        "outputId": "63656113-6ddc-485c-ecd4-8d296119146d"
      },
      "execution_count": 41,
      "outputs": [
        {
          "output_type": "stream",
          "name": "stdout",
          "text": [
            "원본데이터 [44 47 64 67 67  9 83 21 36 87 70 88 88 12 58 65 39 87 46 88 81 37 25 77\n",
            " 72  9 20 80 69 79 47 64 82 99 88 49 29 19 19 14 39 32 65  9 57 32 31 74\n",
            " 23 35 75 55 28 34  0  0 36 53  5 38 17 79  4 42 58 31  1 65 41 57 35 11\n",
            " 46 82 91  0 14 99 53 12 42 84 75 68  6 68 47  3 76 52 78 15 20 99 58 23\n",
            " 79 13 85 48]\n",
            "학습용데이터 [44 47 64 67 67  9 83 21 36 87 70 88 88 12 58 65 39 87 46 88 81 37 25 77\n",
            " 72  9 20 80 69 79 47 64 82 99 88 49 29 19 19 14 39 32 65  9 57 32 31 74\n",
            " 23 35 75 55 28 34  0  0 36 53  5 38 17 79  4 42 58 31  1 65 41 57 35 11\n",
            " 46 82 91  0 14 99 53 12]\n",
            "평가용데이터 [42 84 75 68  6 68 47  3 76 52 78 15 20 99 58 23 79 13 85 48]\n"
          ]
        }
      ]
    },
    {
      "cell_type": "code",
      "source": [
        "import numpy as np\n",
        "np.random.seed(0)\n",
        "data = np.random.randint(0,100,100).reshape(-1,5)\n",
        "print('원본데이터', data.shape)\n",
        "print(data, type(data))\n",
        "x_rate = int(data.shape[0]*0.8)\n",
        "print(x_rate)\n",
        "# 데이터를 8:2의 비율로 분리\n",
        "train_data = data[:x_rate,:]\n",
        "test_data = data[x_rate:,:]\n",
        "print('학습용데이터')\n",
        "print(train_data)\n",
        "print('평가용데이터')\n",
        "print(test_data)"
      ],
      "metadata": {
        "colab": {
          "base_uri": "https://localhost:8080/"
        },
        "id": "GV8Iy6Qn2UAG",
        "outputId": "a923cac3-f53c-401c-bb60-52ef872d24a5"
      },
      "execution_count": 52,
      "outputs": [
        {
          "output_type": "stream",
          "name": "stdout",
          "text": [
            "원본데이터 (20, 5)\n",
            "[[44 47 64 67 67]\n",
            " [ 9 83 21 36 87]\n",
            " [70 88 88 12 58]\n",
            " [65 39 87 46 88]\n",
            " [81 37 25 77 72]\n",
            " [ 9 20 80 69 79]\n",
            " [47 64 82 99 88]\n",
            " [49 29 19 19 14]\n",
            " [39 32 65  9 57]\n",
            " [32 31 74 23 35]\n",
            " [75 55 28 34  0]\n",
            " [ 0 36 53  5 38]\n",
            " [17 79  4 42 58]\n",
            " [31  1 65 41 57]\n",
            " [35 11 46 82 91]\n",
            " [ 0 14 99 53 12]\n",
            " [42 84 75 68  6]\n",
            " [68 47  3 76 52]\n",
            " [78 15 20 99 58]\n",
            " [23 79 13 85 48]] <class 'numpy.ndarray'>\n",
            "16\n",
            "학습용데이터\n",
            "[[44 47 64 67 67]\n",
            " [ 9 83 21 36 87]\n",
            " [70 88 88 12 58]\n",
            " [65 39 87 46 88]\n",
            " [81 37 25 77 72]\n",
            " [ 9 20 80 69 79]\n",
            " [47 64 82 99 88]\n",
            " [49 29 19 19 14]\n",
            " [39 32 65  9 57]\n",
            " [32 31 74 23 35]\n",
            " [75 55 28 34  0]\n",
            " [ 0 36 53  5 38]\n",
            " [17 79  4 42 58]\n",
            " [31  1 65 41 57]\n",
            " [35 11 46 82 91]\n",
            " [ 0 14 99 53 12]]\n",
            "평가용데이터\n",
            "[[42 84 75 68  6]\n",
            " [68 47  3 76 52]\n",
            " [78 15 20 99 58]\n",
            " [23 79 13 85 48]]\n"
          ]
        }
      ]
    },
    {
      "cell_type": "code",
      "source": [
        "import numpy as np\n",
        "from sklearn.model_selection import train_test_split\n",
        "np.random.seed(0)\n",
        "data = np.random.randint(0,100,100).reshape(-1,5)\n",
        "print('원본데이터', data.shape)\n",
        "print(data, type(data))\n",
        "# 데이터를 8:2의 비율로 분리\n",
        "train_data, test_data = train_test_split(data, test_size=0.2, random_state=42)  # 기본이 데이터 섞기\n",
        "print('학습용데이터')\n",
        "print(train_data)\n",
        "print('평가용데이터')\n",
        "print(test_data)"
      ],
      "metadata": {
        "colab": {
          "base_uri": "https://localhost:8080/"
        },
        "id": "0iee-GUM3qLu",
        "outputId": "fd28d19d-ef3e-4c71-f57d-292f4126636c"
      },
      "execution_count": 54,
      "outputs": [
        {
          "output_type": "stream",
          "name": "stdout",
          "text": [
            "원본데이터 (20, 5)\n",
            "[[44 47 64 67 67]\n",
            " [ 9 83 21 36 87]\n",
            " [70 88 88 12 58]\n",
            " [65 39 87 46 88]\n",
            " [81 37 25 77 72]\n",
            " [ 9 20 80 69 79]\n",
            " [47 64 82 99 88]\n",
            " [49 29 19 19 14]\n",
            " [39 32 65  9 57]\n",
            " [32 31 74 23 35]\n",
            " [75 55 28 34  0]\n",
            " [ 0 36 53  5 38]\n",
            " [17 79  4 42 58]\n",
            " [31  1 65 41 57]\n",
            " [35 11 46 82 91]\n",
            " [ 0 14 99 53 12]\n",
            " [42 84 75 68  6]\n",
            " [68 47  3 76 52]\n",
            " [78 15 20 99 58]\n",
            " [23 79 13 85 48]] <class 'numpy.ndarray'>\n",
            "학습용데이터\n",
            "[[31  1 65 41 57]\n",
            " [70 88 88 12 58]\n",
            " [32 31 74 23 35]\n",
            " [23 79 13 85 48]\n",
            " [81 37 25 77 72]\n",
            " [17 79  4 42 58]\n",
            " [49 29 19 19 14]\n",
            " [75 55 28 34  0]\n",
            " [35 11 46 82 91]\n",
            " [47 64 82 99 88]]\n",
            "평가용데이터\n",
            "[[44 47 64 67 67]\n",
            " [68 47  3 76 52]\n",
            " [ 0 14 99 53 12]\n",
            " [ 9 83 21 36 87]\n",
            " [39 32 65  9 57]\n",
            " [ 9 20 80 69 79]\n",
            " [ 0 36 53  5 38]\n",
            " [65 39 87 46 88]\n",
            " [78 15 20 99 58]\n",
            " [42 84 75 68  6]]\n"
          ]
        }
      ]
    },
    {
      "cell_type": "markdown",
      "source": [
        "데이터 셔플링"
      ],
      "metadata": {
        "id": "sDZsRF9oViNn"
      }
    },
    {
      "cell_type": "code",
      "source": [
        "np.random.seed(0)\n",
        "data = np.random.randint(0,100,100).reshape(-1,5)\n",
        "print('원본데이터', data.shape)\n",
        "print(data, type(data))\n",
        "np.random.shuffle(data)\n",
        "print('셔플링된 데이터')\n",
        "print(data)"
      ],
      "metadata": {
        "colab": {
          "base_uri": "https://localhost:8080/"
        },
        "id": "sJiSglFjVjMH",
        "outputId": "02f3a37e-580c-49b2-d525-596737806256"
      },
      "execution_count": 55,
      "outputs": [
        {
          "output_type": "stream",
          "name": "stdout",
          "text": [
            "원본데이터 (20, 5)\n",
            "[[44 47 64 67 67]\n",
            " [ 9 83 21 36 87]\n",
            " [70 88 88 12 58]\n",
            " [65 39 87 46 88]\n",
            " [81 37 25 77 72]\n",
            " [ 9 20 80 69 79]\n",
            " [47 64 82 99 88]\n",
            " [49 29 19 19 14]\n",
            " [39 32 65  9 57]\n",
            " [32 31 74 23 35]\n",
            " [75 55 28 34  0]\n",
            " [ 0 36 53  5 38]\n",
            " [17 79  4 42 58]\n",
            " [31  1 65 41 57]\n",
            " [35 11 46 82 91]\n",
            " [ 0 14 99 53 12]\n",
            " [42 84 75 68  6]\n",
            " [68 47  3 76 52]\n",
            " [78 15 20 99 58]\n",
            " [23 79 13 85 48]] <class 'numpy.ndarray'>\n",
            "셔플링된 데이터\n",
            "[[75 55 28 34  0]\n",
            " [47 64 82 99 88]\n",
            " [39 32 65  9 57]\n",
            " [17 79  4 42 58]\n",
            " [49 29 19 19 14]\n",
            " [23 79 13 85 48]\n",
            " [42 84 75 68  6]\n",
            " [35 11 46 82 91]\n",
            " [31  1 65 41 57]\n",
            " [ 0 36 53  5 38]\n",
            " [81 37 25 77 72]\n",
            " [70 88 88 12 58]\n",
            " [ 9 83 21 36 87]\n",
            " [ 0 14 99 53 12]\n",
            " [78 15 20 99 58]\n",
            " [44 47 64 67 67]\n",
            " [65 39 87 46 88]\n",
            " [32 31 74 23 35]\n",
            " [ 9 20 80 69 79]\n",
            " [68 47  3 76 52]]\n"
          ]
        }
      ]
    },
    {
      "cell_type": "code",
      "source": [],
      "metadata": {
        "id": "3NWDiyJe4mFE"
      },
      "execution_count": null,
      "outputs": []
    }
  ]
}