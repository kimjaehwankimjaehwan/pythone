{
  "nbformat": 4,
  "nbformat_minor": 0,
  "metadata": {
    "colab": {
      "provenance": []
    },
    "kernelspec": {
      "name": "python3",
      "display_name": "Python 3"
    },
    "language_info": {
      "name": "python"
    }
  },
  "cells": [
    {
      "cell_type": "code",
      "execution_count": 2,
      "metadata": {
        "colab": {
          "base_uri": "https://localhost:8080/"
        },
        "id": "KBL5Y6-g5qKT",
        "outputId": "16bf314d-6598-4b13-b59b-f6534879abaf"
      },
      "outputs": [
        {
          "output_type": "stream",
          "name": "stdout",
          "text": [
            "화면 출력1\n",
            "화면 출력2\n",
            "화면 출력3\n"
          ]
        }
      ],
      "source": [
        "print('화면 출력1')\n",
        "print('화면 출력2')\n",
        "print('화면 출력3')"
      ]
    },
    {
      "cell_type": "code",
      "source": [
        "print('화면 출력1',end=' ')\n",
        "print('화면 출력2',end=' ')\n",
        "print('화면 출력3',end=' ')"
      ],
      "metadata": {
        "colab": {
          "base_uri": "https://localhost:8080/"
        },
        "id": "1txx8GFF7cQP",
        "outputId": "114bda02-9973-45a5-dcf6-ed9bb4d88017"
      },
      "execution_count": 3,
      "outputs": [
        {
          "output_type": "stream",
          "name": "stdout",
          "text": [
            "화면 출력1 화면 출력2 화면 출력3 "
          ]
        }
      ]
    },
    {
      "cell_type": "code",
      "source": [
        "print('화면 출력1',end='\\n')\n",
        "print('화면 출력2',end='\\n')\n",
        "print('화면 출력3',end='\\n')"
      ],
      "metadata": {
        "colab": {
          "base_uri": "https://localhost:8080/"
        },
        "id": "Blbr13F-7rD-",
        "outputId": "41ff595e-8028-4daf-fa4c-158f1987046e"
      },
      "execution_count": 4,
      "outputs": [
        {
          "output_type": "stream",
          "name": "stdout",
          "text": [
            "화면 출력1\n",
            "화면 출력2\n",
            "화면 출력3\n"
          ]
        }
      ]
    },
    {
      "cell_type": "code",
      "source": [
        "print('화면 출력1',end='\\t')\n",
        "print('화면 출력2',end='\\t')\n",
        "print('화면 출력3',end='\\t')"
      ],
      "metadata": {
        "colab": {
          "base_uri": "https://localhost:8080/"
        },
        "id": "-1BND0iY7yI-",
        "outputId": "2bfd3a4c-6250-4ae7-f278-25835501aa16"
      },
      "execution_count": 5,
      "outputs": [
        {
          "output_type": "stream",
          "name": "stdout",
          "text": [
            "화면 출력1\t화면 출력2\t화면 출력3\t"
          ]
        }
      ]
    },
    {
      "cell_type": "code",
      "source": [
        "print('화면 출력1',end='\\t\\t')\n",
        "print('화면 출력2',end='\\t\\t')\n",
        "print('화면 출력3',end='\\t\\t')"
      ],
      "metadata": {
        "colab": {
          "base_uri": "https://localhost:8080/"
        },
        "id": "bmU5OCva72lN",
        "outputId": "c8cdedba-cf33-43c1-f665-538acfce377d"
      },
      "execution_count": 6,
      "outputs": [
        {
          "output_type": "stream",
          "name": "stdout",
          "text": [
            "화면 출력1\t\t화면 출력2\t\t화면 출력3\t\t"
          ]
        }
      ]
    },
    {
      "cell_type": "markdown",
      "source": [
        "파이썬 3.1 부터는 format을 지정할수 있다.."
      ],
      "metadata": {
        "id": "zxIK0Nh78AiP"
      }
    },
    {
      "cell_type": "code",
      "source": [
        "print(\"홍길동님 반갑습니다. 지불하시 금액은 10000원 입니다.\")"
      ],
      "metadata": {
        "colab": {
          "base_uri": "https://localhost:8080/"
        },
        "id": "eWazVV1S766d",
        "outputId": "546c1b99-1e04-420d-842c-196cab4088bf"
      },
      "execution_count": 7,
      "outputs": [
        {
          "output_type": "stream",
          "name": "stdout",
          "text": [
            "홍길동님 반갑습니다. 지불하시 금액은 10000원 입니다.\n"
          ]
        }
      ]
    },
    {
      "cell_type": "code",
      "source": [
        "name = '김철수'\n",
        "price = 12000\n",
        "print(name,\"님 반갑습니다.\")"
      ],
      "metadata": {
        "colab": {
          "base_uri": "https://localhost:8080/"
        },
        "id": "F9fFD8eT8VPu",
        "outputId": "6a82488f-bad6-406e-cf82-3e48e0d37686"
      },
      "execution_count": 8,
      "outputs": [
        {
          "output_type": "stream",
          "name": "stdout",
          "text": [
            "김철수 님 반갑습니다.\n"
          ]
        }
      ]
    },
    {
      "cell_type": "code",
      "source": [
        "print(name,\"님 반갑습니다.\",sep='')"
      ],
      "metadata": {
        "colab": {
          "base_uri": "https://localhost:8080/"
        },
        "id": "dum8zZnK8rkI",
        "outputId": "31f465ea-2f6c-4c6c-821b-eb181a79d4ca"
      },
      "execution_count": 9,
      "outputs": [
        {
          "output_type": "stream",
          "name": "stdout",
          "text": [
            "김철수님 반갑습니다.\n"
          ]
        }
      ]
    },
    {
      "cell_type": "code",
      "source": [
        "name = '김철수'\n",
        "price = 12000\n",
        "print(name,\"님 반갑습니다. 지불하실 금액은 \",price,\"원 입니다.\", sep='')"
      ],
      "metadata": {
        "colab": {
          "base_uri": "https://localhost:8080/"
        },
        "id": "EZeCT5x684n2",
        "outputId": "eb046f47-547d-47b0-b3f9-003c2f4cc64d"
      },
      "execution_count": 10,
      "outputs": [
        {
          "output_type": "stream",
          "name": "stdout",
          "text": [
            "김철수님 반갑습니다. 지불하실 금액은 12000원 입니다.\n"
          ]
        }
      ]
    },
    {
      "cell_type": "code",
      "source": [
        "print(f\"{name}님 반갑습니다. 지불하실 금액은 {price}원 입니다.\")"
      ],
      "metadata": {
        "colab": {
          "base_uri": "https://localhost:8080/"
        },
        "id": "UI3NdjQ59O3Q",
        "outputId": "a1249c2e-cc93-4d91-c00e-a00a1aeeceb0"
      },
      "execution_count": 11,
      "outputs": [
        {
          "output_type": "stream",
          "name": "stdout",
          "text": [
            "김철수님 반갑습니다. 지불하실 금액은 12000원 입니다.\n"
          ]
        }
      ]
    },
    {
      "cell_type": "markdown",
      "source": [
        "화씨 변환기\n",
        "  - C x 9/5 + 32"
      ],
      "metadata": {
        "id": "KpM_IGyn9pd6"
      }
    },
    {
      "cell_type": "code",
      "source": [
        "# 섭씨를 입력받으세요\n",
        "c = float( input(\"섭씨 온도를 입력하세요\") )  # 문자형 실수 --> 실수\n",
        "# 화씨를 계산한다.\n",
        "f = c*9/5 + 32\n",
        "# 섭씨 32 는 화씨 00 입니다.\n",
        "print(f\"섭씨 {c} 는 화씨 {f} 입니다.\")"
      ],
      "metadata": {
        "colab": {
          "base_uri": "https://localhost:8080/"
        },
        "id": "MIqhMhA39XBF",
        "outputId": "4078c890-83f8-4cc2-a39d-8ac329b3cb80"
      },
      "execution_count": 12,
      "outputs": [
        {
          "output_type": "stream",
          "name": "stdout",
          "text": [
            "섭씨 온도를 입력하세요30\n",
            "섭씨 30.0 는 화씨 86.0 입니다.\n"
          ]
        }
      ]
    },
    {
      "cell_type": "code",
      "source": [
        "# 환율 계산기\n",
        "# 원화 -> 엔화로 환전했을때 얼마나 환전가능한가?\n",
        "# 1엔 --> 8.72원\n",
        "# 파이썬에서 상수는 대문자로 작성한다.(규칙)\n",
        "WON_YEN_RATE = 8.72\n",
        "won = int(  input(\"환전할 금액을 입력하세요(원화) : \")  )\n",
        "yen = won / WON_YEN_RATE  # 상수를 직접 사용하는 프로그램은 지양한다.\n",
        "print(f'{won}원은 {yen}엔 입니다.')"
      ],
      "metadata": {
        "colab": {
          "base_uri": "https://localhost:8080/"
        },
        "id": "U1YoXvP9_A4m",
        "outputId": "d06b4ccb-7ee1-4ced-e31b-721053d930b2"
      },
      "execution_count": 16,
      "outputs": [
        {
          "output_type": "stream",
          "name": "stdout",
          "text": [
            "환전할 금액을 입력하세요(원화) : 1000\n",
            "1000원은 114.6788990825688엔 입니다.\n"
          ]
        }
      ]
    },
    {
      "cell_type": "markdown",
      "source": [
        "성적관리 프로그램\n",
        "  - 이름\n",
        "    - 홍길동1,홍길동2,홍길동3,홍길동4,홍길동5\n",
        "  - 점수\n",
        "    - 100,95,85,75,77"
      ],
      "metadata": {
        "id": "2wsqj0pdCkKv"
      }
    },
    {
      "cell_type": "code",
      "source": [
        "names  = \"홍길동1,홍길동2,홍길동3,홍길동4,홍길동5\"\n",
        "scores = 100,95,85,75,77"
      ],
      "metadata": {
        "id": "xWAxH694AxT4"
      },
      "execution_count": 19,
      "outputs": []
    },
    {
      "cell_type": "markdown",
      "source": [
        "집합을 다루는 변수 즉 자료구조로 리스트를 알아봅시다\n",
        "  - 변수 = []\n",
        "  - 변수 = [데이터,데이터,데이터]"
      ],
      "metadata": {
        "id": "wNv-spBAD0GG"
      }
    },
    {
      "cell_type": "code",
      "source": [
        "names = [\"홍길동1\",\"홍길동2\",\"홍길동3\",\"홍길동4\",\"홍길동5\"]\n",
        "print(names)"
      ],
      "metadata": {
        "colab": {
          "base_uri": "https://localhost:8080/"
        },
        "id": "NoDR56WfDFay",
        "outputId": "a086ecc6-e612-47d7-e39f-80f6f9fb6400"
      },
      "execution_count": 21,
      "outputs": [
        {
          "output_type": "stream",
          "name": "stdout",
          "text": [
            "['홍길동1', '홍길동2', '홍길동3', '홍길동4', '홍길동5']\n"
          ]
        }
      ]
    },
    {
      "cell_type": "code",
      "source": [
        "scores = [100,95,85,75,77]\n",
        "print(scores)"
      ],
      "metadata": {
        "colab": {
          "base_uri": "https://localhost:8080/"
        },
        "id": "sZ7aOZMqDGXl",
        "outputId": "c33bf414-72d8-45d9-db03-85edcf77b9ad"
      },
      "execution_count": 22,
      "outputs": [
        {
          "output_type": "stream",
          "name": "stdout",
          "text": [
            "[100, 95, 85, 75, 77]\n"
          ]
        }
      ]
    },
    {
      "cell_type": "markdown",
      "source": [
        "파이썬에서  리스트를 구성하는 데이터 타입은 다양하게 가능\n",
        " - 타 언어는 동일 타입만 가능하게 한다"
      ],
      "metadata": {
        "id": "mFISzE0OEygY"
      }
    },
    {
      "cell_type": "code",
      "source": [
        "temp_lists = [1, 1.5, \"abc\", True, [1,2,3 ]  ]\n",
        "print(temp_lists)"
      ],
      "metadata": {
        "colab": {
          "base_uri": "https://localhost:8080/"
        },
        "id": "PM64gn2jEk6N",
        "outputId": "1ee02e74-e370-4cca-c8dd-b11a09061259"
      },
      "execution_count": 23,
      "outputs": [
        {
          "output_type": "stream",
          "name": "stdout",
          "text": [
            "[1, 1.5, 'abc', True, [1, 2, 3]]\n"
          ]
        }
      ]
    },
    {
      "cell_type": "code",
      "source": [
        "a,b,c = 1,2,3\n",
        "abc = [a,b,c]\n",
        "print(abc)"
      ],
      "metadata": {
        "colab": {
          "base_uri": "https://localhost:8080/"
        },
        "id": "0PGY_m9OFXD1",
        "outputId": "7999f38a-6daf-41f7-f6aa-d49c1f4a2dc1"
      },
      "execution_count": 25,
      "outputs": [
        {
          "output_type": "stream",
          "name": "stdout",
          "text": [
            "[1, 2, 3]\n"
          ]
        }
      ]
    },
    {
      "cell_type": "markdown",
      "source": [
        "리스트의 특성 - 메모리 관점"
      ],
      "metadata": {
        "id": "CThBiEgkFsVd"
      }
    },
    {
      "cell_type": "code",
      "source": [
        "v1 = 100; v2 = v1"
      ],
      "metadata": {
        "id": "jWaw3xBnFm4m"
      },
      "execution_count": 26,
      "outputs": []
    },
    {
      "cell_type": "code",
      "source": [
        "v2 = 200\n",
        "print(v1, v2)"
      ],
      "metadata": {
        "colab": {
          "base_uri": "https://localhost:8080/"
        },
        "id": "RqCG2mCyFxkt",
        "outputId": "2cb39a74-bf14-4513-c4cf-bb45f83981ca"
      },
      "execution_count": 27,
      "outputs": [
        {
          "output_type": "stream",
          "name": "stdout",
          "text": [
            "100 200\n"
          ]
        }
      ]
    },
    {
      "cell_type": "code",
      "source": [
        "list_1 = [1,2,3]\n",
        "list_2 = list_1"
      ],
      "metadata": {
        "id": "cTITuuwlF55E"
      },
      "execution_count": 28,
      "outputs": []
    },
    {
      "cell_type": "code",
      "source": [
        "print(list_1, list_2)"
      ],
      "metadata": {
        "colab": {
          "base_uri": "https://localhost:8080/"
        },
        "id": "_h29rpkWIQKN",
        "outputId": "40729b4a-053e-425b-ba6c-f514a5e75b29"
      },
      "execution_count": 29,
      "outputs": [
        {
          "output_type": "stream",
          "name": "stdout",
          "text": [
            "[1, 2, 3] [1, 2, 3]\n"
          ]
        }
      ]
    },
    {
      "cell_type": "code",
      "source": [
        "list_2 = ['a','b']\n",
        "print(list_1, list_2)"
      ],
      "metadata": {
        "colab": {
          "base_uri": "https://localhost:8080/"
        },
        "id": "2XtIicLtITns",
        "outputId": "82e43e61-f09b-47f9-a2ac-68bb31c0c996"
      },
      "execution_count": 30,
      "outputs": [
        {
          "output_type": "stream",
          "name": "stdout",
          "text": [
            "[1, 2, 3] ['a', 'b']\n"
          ]
        }
      ]
    },
    {
      "cell_type": "markdown",
      "source": [
        "리스트의 각 원소에 접근하기\n",
        "  - 리스트[인덱스]"
      ],
      "metadata": {
        "id": "rmSj3KK0Ijde"
      }
    },
    {
      "cell_type": "code",
      "source": [
        "list_1 = [1, 2, 3]\n",
        "print(list_1[0])"
      ],
      "metadata": {
        "colab": {
          "base_uri": "https://localhost:8080/"
        },
        "id": "Jup0uXRrIX1E",
        "outputId": "79c71f6f-2961-472d-f92a-9f8c21bd5479"
      },
      "execution_count": 31,
      "outputs": [
        {
          "output_type": "stream",
          "name": "stdout",
          "text": [
            "1\n"
          ]
        }
      ]
    },
    {
      "cell_type": "code",
      "source": [
        "print(list_1[1])"
      ],
      "metadata": {
        "colab": {
          "base_uri": "https://localhost:8080/"
        },
        "id": "dyNmk8yHI2dU",
        "outputId": "a47b9637-aa21-4dee-a56e-e3f0bc743e9d"
      },
      "execution_count": 32,
      "outputs": [
        {
          "output_type": "stream",
          "name": "stdout",
          "text": [
            "2\n"
          ]
        }
      ]
    },
    {
      "cell_type": "code",
      "source": [
        "print(list_1[2])"
      ],
      "metadata": {
        "colab": {
          "base_uri": "https://localhost:8080/"
        },
        "id": "vnKRqv_qI68s",
        "outputId": "569f5938-1c09-47d3-ec87-c04651bd1507"
      },
      "execution_count": 33,
      "outputs": [
        {
          "output_type": "stream",
          "name": "stdout",
          "text": [
            "3\n"
          ]
        }
      ]
    },
    {
      "cell_type": "code",
      "source": [
        "print(list_1[3])"
      ],
      "metadata": {
        "colab": {
          "base_uri": "https://localhost:8080/",
          "height": 145
        },
        "id": "R_oK0BEII9Xc",
        "outputId": "ad37bde6-e9ba-4805-88b0-f4172c1b6a0e"
      },
      "execution_count": 34,
      "outputs": [
        {
          "output_type": "error",
          "ename": "IndexError",
          "evalue": "list index out of range",
          "traceback": [
            "\u001b[0;31m---------------------------------------------------------------------------\u001b[0m",
            "\u001b[0;31mIndexError\u001b[0m                                Traceback (most recent call last)",
            "\u001b[0;32m<ipython-input-34-bd6c05ff5584>\u001b[0m in \u001b[0;36m<cell line: 1>\u001b[0;34m()\u001b[0m\n\u001b[0;32m----> 1\u001b[0;31m \u001b[0mprint\u001b[0m\u001b[0;34m(\u001b[0m\u001b[0mlist_1\u001b[0m\u001b[0;34m[\u001b[0m\u001b[0;36m3\u001b[0m\u001b[0;34m]\u001b[0m\u001b[0;34m)\u001b[0m\u001b[0;34m\u001b[0m\u001b[0;34m\u001b[0m\u001b[0m\n\u001b[0m",
            "\u001b[0;31mIndexError\u001b[0m: list index out of range"
          ]
        }
      ]
    },
    {
      "cell_type": "code",
      "source": [
        "list_1[1] = 100\n",
        "print(list_1)"
      ],
      "metadata": {
        "colab": {
          "base_uri": "https://localhost:8080/"
        },
        "id": "lWMuh8lxJOAk",
        "outputId": "90291f9e-48c8-4157-aedb-354d895ee77b"
      },
      "execution_count": 37,
      "outputs": [
        {
          "output_type": "stream",
          "name": "stdout",
          "text": [
            "[1, 100, 3]\n"
          ]
        }
      ]
    },
    {
      "cell_type": "code",
      "source": [
        "list_1 = [1,2,3]\n",
        "list_2 = list_1\n",
        "print(list_1, list_2)"
      ],
      "metadata": {
        "colab": {
          "base_uri": "https://localhost:8080/"
        },
        "id": "D5jIOAHBJidu",
        "outputId": "074c6820-902c-4a6c-871a-03c5971922b3"
      },
      "execution_count": 38,
      "outputs": [
        {
          "output_type": "stream",
          "name": "stdout",
          "text": [
            "[1, 2, 3] [1, 2, 3]\n"
          ]
        }
      ]
    },
    {
      "cell_type": "code",
      "source": [
        "list_2[0] = '홍길동'\n",
        "print(list_2)"
      ],
      "metadata": {
        "colab": {
          "base_uri": "https://localhost:8080/"
        },
        "id": "xftKhaHzK-AT",
        "outputId": "abbea7c6-50d2-4284-8f81-e9d9c4f13b32"
      },
      "execution_count": 39,
      "outputs": [
        {
          "output_type": "stream",
          "name": "stdout",
          "text": [
            "['홍길동', 2, 3]\n"
          ]
        }
      ]
    },
    {
      "cell_type": "code",
      "source": [
        "print(list_1)"
      ],
      "metadata": {
        "colab": {
          "base_uri": "https://localhost:8080/"
        },
        "id": "hePKx6xdLHJU",
        "outputId": "4fdacd27-5f5f-4776-a4ef-3a062ec5187d"
      },
      "execution_count": 40,
      "outputs": [
        {
          "output_type": "stream",
          "name": "stdout",
          "text": [
            "['홍길동', 2, 3]\n"
          ]
        }
      ]
    },
    {
      "cell_type": "markdown",
      "source": [
        "리스트도 집합을 나타내는 변수\n",
        "  - 연산\n",
        "  - 생성\n",
        "  - 읽기\n",
        "  - 수정\n",
        "  - 삭제"
      ],
      "metadata": {
        "id": "X6IndKAvMlFT"
      }
    },
    {
      "cell_type": "code",
      "source": [
        "list_1 = [1,2,3]\n",
        "print(list_1)\n",
        "# 추가\n",
        "list_1.append(100)\n",
        "print(list_1)\n",
        "list_1.append(\"100\")\n",
        "print(list_1)\n",
        "print(len(list_1) )"
      ],
      "metadata": {
        "colab": {
          "base_uri": "https://localhost:8080/"
        },
        "id": "No84D6-yLQOc",
        "outputId": "e0d83869-2dae-4a1f-896a-971ffe980faa"
      },
      "execution_count": 47,
      "outputs": [
        {
          "output_type": "stream",
          "name": "stdout",
          "text": [
            "[1, 2, 3]\n",
            "[1, 2, 3, 100]\n",
            "[1, 2, 3, 100, '100']\n",
            "5\n"
          ]
        }
      ]
    },
    {
      "cell_type": "code",
      "source": [
        "# update / read\n",
        "list_1[4] = 200  # update\n",
        "print(list_1[4])  # read\n",
        "print(list_1)"
      ],
      "metadata": {
        "colab": {
          "base_uri": "https://localhost:8080/"
        },
        "id": "yZsbEGEwM6Cs",
        "outputId": "fcb445df-1761-48bc-fc75-2c1de0b7b1e6"
      },
      "execution_count": 49,
      "outputs": [
        {
          "output_type": "stream",
          "name": "stdout",
          "text": [
            "200\n",
            "[1, 2, 3, 100, 200]\n"
          ]
        }
      ]
    },
    {
      "cell_type": "code",
      "source": [
        "print(list_1[-1]);   print(list_1[ len(list_1) -1  ])"
      ],
      "metadata": {
        "colab": {
          "base_uri": "https://localhost:8080/"
        },
        "id": "45wPYP76OGjD",
        "outputId": "d4e46ca7-c113-41d2-efdf-fe78caaf89b0"
      },
      "execution_count": 52,
      "outputs": [
        {
          "output_type": "stream",
          "name": "stdout",
          "text": [
            "200\n",
            "200\n"
          ]
        }
      ]
    },
    {
      "cell_type": "code",
      "source": [
        "print(list_1[-2])"
      ],
      "metadata": {
        "colab": {
          "base_uri": "https://localhost:8080/"
        },
        "id": "3iz6FzH4PFUj",
        "outputId": "97dc9bbd-5530-4af6-b354-11eb71334a1d"
      },
      "execution_count": 51,
      "outputs": [
        {
          "output_type": "stream",
          "name": "stdout",
          "text": [
            "100\n"
          ]
        }
      ]
    },
    {
      "cell_type": "code",
      "source": [
        "# 삭제  del 리스트변수[인덱스]\n",
        "del list_1[2]\n",
        "print(list_1)"
      ],
      "metadata": {
        "colab": {
          "base_uri": "https://localhost:8080/"
        },
        "id": "XN3YtptCPHpL",
        "outputId": "7190b256-9bbf-455e-8114-6b4f2e85237b"
      },
      "execution_count": 53,
      "outputs": [
        {
          "output_type": "stream",
          "name": "stdout",
          "text": [
            "[1, 2, 100, 200]\n"
          ]
        }
      ]
    },
    {
      "cell_type": "code",
      "source": [
        "list_1.remove(100)\n",
        "print(list_1)"
      ],
      "metadata": {
        "colab": {
          "base_uri": "https://localhost:8080/"
        },
        "id": "VrJeaOScP1Cz",
        "outputId": "f581727b-85fb-4e07-a67d-995726818e8d"
      },
      "execution_count": 54,
      "outputs": [
        {
          "output_type": "stream",
          "name": "stdout",
          "text": [
            "[1, 2, 200]\n"
          ]
        }
      ]
    },
    {
      "cell_type": "code",
      "source": [
        "list_1.append(200)\n",
        "print(list_1)\n",
        "list_1.remove(200)\n",
        "print(list_1)"
      ],
      "metadata": {
        "colab": {
          "base_uri": "https://localhost:8080/"
        },
        "id": "hWd_K_qhQHjj",
        "outputId": "7847e1b6-020d-405c-93d1-989581475b32"
      },
      "execution_count": 55,
      "outputs": [
        {
          "output_type": "stream",
          "name": "stdout",
          "text": [
            "[1, 2, 200, 200]\n",
            "[1, 2, 200]\n"
          ]
        }
      ]
    },
    {
      "cell_type": "code",
      "source": [
        "list_1 = [1,2,200,3,200,4,200]\n",
        "print(list_1)\n",
        "list_1.remove(200)\n",
        "print(list_1)"
      ],
      "metadata": {
        "colab": {
          "base_uri": "https://localhost:8080/"
        },
        "id": "8Wh7k6u9Q1BD",
        "outputId": "c50b9872-269c-4a47-dde5-e56f9fa48541"
      },
      "execution_count": 57,
      "outputs": [
        {
          "output_type": "stream",
          "name": "stdout",
          "text": [
            "[1, 2, 200, 3, 200, 4, 200]\n",
            "[1, 2, 3, 200, 4, 200]\n"
          ]
        }
      ]
    },
    {
      "cell_type": "markdown",
      "source": [
        "데이터를처리하는 자료구조를 설명할때 항상\n",
        "  - CRUD 가 가능하도록 해야 한다.\n",
        "  - 리스트  자료구조일 경우\n",
        "    - C(Create) : 생성    list_1 = [], list_1.append(data)\n",
        "    - R(Read) : 데이터 읽기  list_1[index]\n",
        "    - U(Update) : 수정  list_1[index] = data\n",
        "    - D(Delete) : 삭제  del list_1[index] , list_1.remove(data)"
      ],
      "metadata": {
        "id": "BZdHBtVlRQr2"
      }
    },
    {
      "cell_type": "code",
      "source": [
        "list_1.clear()\n",
        "print(list_1)"
      ],
      "metadata": {
        "colab": {
          "base_uri": "https://localhost:8080/"
        },
        "id": "tdFyxJ63RBp7",
        "outputId": "dd709cb7-b2e9-426c-cbe8-05b46818814e"
      },
      "execution_count": 58,
      "outputs": [
        {
          "output_type": "stream",
          "name": "stdout",
          "text": [
            "[]\n"
          ]
        }
      ]
    },
    {
      "cell_type": "code",
      "source": [
        "list_1 = [1,5,7,3]\n",
        "list_2 = list_1.copy()\n",
        "print(list_1, list_2)"
      ],
      "metadata": {
        "colab": {
          "base_uri": "https://localhost:8080/"
        },
        "id": "IZicT7HXSigb",
        "outputId": "073fb242-e02f-4136-909c-d607d81893ef"
      },
      "execution_count": 59,
      "outputs": [
        {
          "output_type": "stream",
          "name": "stdout",
          "text": [
            "[1, 5, 7, 3] [1, 5, 7, 3]\n"
          ]
        }
      ]
    },
    {
      "cell_type": "code",
      "source": [
        "list_2[0] = \"값을 변경\"\n",
        "print(list_1,list_2)"
      ],
      "metadata": {
        "colab": {
          "base_uri": "https://localhost:8080/"
        },
        "id": "tP5L_XYaS-jT",
        "outputId": "d43d0b6a-c9be-4e2c-9784-401f991f9b4e"
      },
      "execution_count": 61,
      "outputs": [
        {
          "output_type": "stream",
          "name": "stdout",
          "text": [
            "[1, 5, 7, 3] ['값을 변경', 5, 7, 3]\n"
          ]
        }
      ]
    },
    {
      "cell_type": "markdown",
      "source": [
        "![image.png](data:image/png;base64,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)"
      ],
      "metadata": {
        "id": "kcddtU0tVKbR"
      }
    },
    {
      "cell_type": "code",
      "source": [
        "a = list( [1,2,3]  )\n",
        "print(a)"
      ],
      "metadata": {
        "colab": {
          "base_uri": "https://localhost:8080/"
        },
        "id": "LRslxDuTUrgL",
        "outputId": "64ac17eb-364c-48fe-98c4-4e799de68f64"
      },
      "execution_count": 65,
      "outputs": [
        {
          "output_type": "stream",
          "name": "stdout",
          "text": [
            "[1, 2, 3]\n"
          ]
        }
      ]
    },
    {
      "cell_type": "code",
      "source": [
        "list_1 = [1,2,3,4,5,1,2,3,2,2,2,2]\n",
        "print(list_1)"
      ],
      "metadata": {
        "colab": {
          "base_uri": "https://localhost:8080/"
        },
        "id": "Aytl3DaIXsoa",
        "outputId": "9f5a702c-d935-4427-b42a-fd9d9937ef17"
      },
      "execution_count": 72,
      "outputs": [
        {
          "output_type": "stream",
          "name": "stdout",
          "text": [
            "[1, 2, 3, 4, 5, 1, 2, 3, 2, 2, 2, 2]\n"
          ]
        }
      ]
    },
    {
      "cell_type": "code",
      "source": [
        "list_1.count(1)"
      ],
      "metadata": {
        "colab": {
          "base_uri": "https://localhost:8080/"
        },
        "id": "lYB-KBEkYBhD",
        "outputId": "a4542596-295c-4f72-f698-39fc2a370914"
      },
      "execution_count": 73,
      "outputs": [
        {
          "output_type": "execute_result",
          "data": {
            "text/plain": [
              "2"
            ]
          },
          "metadata": {},
          "execution_count": 73
        }
      ]
    },
    {
      "cell_type": "code",
      "source": [
        "list_1 = [1,2]\n",
        "list_1.append( ['홍길동','강감찬','이순신'] )\n",
        "list_1.append( ['홍길동','강감찬','이순신'] )\n",
        "print(list_1)\n",
        "# index가 2인 데이터는?"
      ],
      "metadata": {
        "colab": {
          "base_uri": "https://localhost:8080/"
        },
        "id": "sv1Q2bxWYQ4K",
        "outputId": "4a03d673-cd2f-4e3d-f015-3fda876ec981"
      },
      "execution_count": 78,
      "outputs": [
        {
          "output_type": "stream",
          "name": "stdout",
          "text": [
            "[1, 2, ['홍길동', '강감찬', '이순신'], ['홍길동', '강감찬', '이순신']]\n"
          ]
        }
      ]
    },
    {
      "cell_type": "code",
      "source": [
        "list_1 = [1,2]\n",
        "list_1.extend( ['홍길동','강감찬','이순신'] )\n",
        "list_1.extend( ['홍길동','강감찬','이순신'] )\n",
        "print(list_1)\n",
        "# index가 2인 데이터는?"
      ],
      "metadata": {
        "colab": {
          "base_uri": "https://localhost:8080/"
        },
        "id": "xlpKnvAFYkNq",
        "outputId": "5a812c63-d5b1-4c28-ba7d-5f3464133330"
      },
      "execution_count": 79,
      "outputs": [
        {
          "output_type": "stream",
          "name": "stdout",
          "text": [
            "[1, 2, '홍길동', '강감찬', '이순신', '홍길동', '강감찬', '이순신']\n"
          ]
        }
      ]
    },
    {
      "cell_type": "code",
      "source": [
        "list_1 = [1,10,20,20,3,30]\n",
        "list_1.index(20)"
      ],
      "metadata": {
        "colab": {
          "base_uri": "https://localhost:8080/"
        },
        "id": "aOQIy-xyZWC6",
        "outputId": "4eb4c3d2-4bef-4498-d95a-8fea2bcec174"
      },
      "execution_count": 81,
      "outputs": [
        {
          "output_type": "execute_result",
          "data": {
            "text/plain": [
              "2"
            ]
          },
          "metadata": {},
          "execution_count": 81
        }
      ]
    },
    {
      "cell_type": "code",
      "source": [
        "list_1.insert(0,\"첫번째\")\n",
        "print(list_1)"
      ],
      "metadata": {
        "colab": {
          "base_uri": "https://localhost:8080/"
        },
        "id": "oCuHrX8WaVli",
        "outputId": "ba5bc113-8101-4f16-d2af-98c97192eb53"
      },
      "execution_count": 82,
      "outputs": [
        {
          "output_type": "stream",
          "name": "stdout",
          "text": [
            "['첫번째', 1, 10, 20, 20, 3, 30]\n"
          ]
        }
      ]
    },
    {
      "cell_type": "code",
      "source": [
        "temp = list_1.pop(2)\n",
        "print(temp)\n",
        "print(list_1)"
      ],
      "metadata": {
        "colab": {
          "base_uri": "https://localhost:8080/"
        },
        "id": "ESVadG2ZarFk",
        "outputId": "9f030a6a-0c22-474a-9914-cad9f3631394"
      },
      "execution_count": 83,
      "outputs": [
        {
          "output_type": "stream",
          "name": "stdout",
          "text": [
            "10\n",
            "['첫번째', 1, 20, 20, 3, 30]\n"
          ]
        }
      ]
    },
    {
      "cell_type": "code",
      "source": [
        "temp = list_1.remove(1)\n",
        "print(temp)\n",
        "print(list_1)"
      ],
      "metadata": {
        "colab": {
          "base_uri": "https://localhost:8080/"
        },
        "id": "taNJvL6HbdXK",
        "outputId": "39ba744a-fe49-4d89-824f-31851dc464fd"
      },
      "execution_count": 84,
      "outputs": [
        {
          "output_type": "stream",
          "name": "stdout",
          "text": [
            "None\n",
            "['첫번째', 20, 20, 3, 30]\n"
          ]
        }
      ]
    },
    {
      "cell_type": "code",
      "source": [
        "list_1 = [1,2,3,4,5]\n",
        "print(list_1)\n",
        "list_1.reverse()\n",
        "print(list_1)"
      ],
      "metadata": {
        "colab": {
          "base_uri": "https://localhost:8080/"
        },
        "id": "HgIpxG2xbvEq",
        "outputId": "29a2fddf-1820-4c5e-8cba-3f05a2920f6e"
      },
      "execution_count": 85,
      "outputs": [
        {
          "output_type": "stream",
          "name": "stdout",
          "text": [
            "[1, 2, 3, 4, 5]\n",
            "[5, 4, 3, 2, 1]\n"
          ]
        }
      ]
    },
    {
      "cell_type": "code",
      "source": [
        "# 정렬 - 기본이 오름차순\n",
        "# 오름차순  ascending\n",
        "# 내림차순 descending\n",
        "list_1 = [5,3,7,12,6]\n",
        "print(list_1)\n",
        "list_1.sort()\n",
        "print(list_1)\n"
      ],
      "metadata": {
        "colab": {
          "base_uri": "https://localhost:8080/"
        },
        "id": "LQdiadp0cXpq",
        "outputId": "0a127d3a-1220-483a-f94c-51c249e6b7d1"
      },
      "execution_count": 87,
      "outputs": [
        {
          "output_type": "stream",
          "name": "stdout",
          "text": [
            "[5, 3, 7, 12, 6]\n",
            "[3, 5, 6, 7, 12]\n"
          ]
        }
      ]
    },
    {
      "cell_type": "code",
      "source": [
        "list_1.reverse()\n",
        "print(list_1)"
      ],
      "metadata": {
        "colab": {
          "base_uri": "https://localhost:8080/"
        },
        "id": "q0iu38CXc9eh",
        "outputId": "1b7ff2a7-953f-4167-92ea-115d8e6791d7"
      },
      "execution_count": 88,
      "outputs": [
        {
          "output_type": "stream",
          "name": "stdout",
          "text": [
            "[12, 7, 6, 5, 3]\n"
          ]
        }
      ]
    },
    {
      "cell_type": "code",
      "source": [
        "list_1 = [5,3,7,12,6]\n",
        "print(list_1)\n",
        "list_1.sort(reverse=True )\n",
        "print(list_1)"
      ],
      "metadata": {
        "colab": {
          "base_uri": "https://localhost:8080/"
        },
        "id": "4HfEc3tudRBZ",
        "outputId": "0d7d257e-7a09-4fd0-e6d9-a613720d72a7"
      },
      "execution_count": 90,
      "outputs": [
        {
          "output_type": "stream",
          "name": "stdout",
          "text": [
            "[5, 3, 7, 12, 6]\n",
            "[12, 7, 6, 5, 3]\n"
          ]
        }
      ]
    },
    {
      "cell_type": "markdown",
      "source": [
        "리스트끼리 연산가능?"
      ],
      "metadata": {
        "id": "6-10Tn6yeDbu"
      }
    },
    {
      "cell_type": "code",
      "source": [
        "list_1 = [1,2]\n",
        "list_2 = [10,20]\n",
        "list_3 = list_1 + list_2\n",
        "print(list_3)"
      ],
      "metadata": {
        "colab": {
          "base_uri": "https://localhost:8080/"
        },
        "id": "UI8qHHphdezx",
        "outputId": "a24ed506-3c79-43d1-f556-adff23b003e8"
      },
      "execution_count": 91,
      "outputs": [
        {
          "output_type": "stream",
          "name": "stdout",
          "text": [
            "[1, 2, 10, 20]\n"
          ]
        }
      ]
    },
    {
      "cell_type": "code",
      "source": [
        "list_1 = [1,2]\n",
        "list_2 = [10,20]\n",
        "list_1.extend(list_2)\n",
        "print(list_1)"
      ],
      "metadata": {
        "colab": {
          "base_uri": "https://localhost:8080/"
        },
        "id": "7DJC-MoIeQRi",
        "outputId": "a6bbb69e-98f4-41fd-cd56-de55985aa856"
      },
      "execution_count": 92,
      "outputs": [
        {
          "output_type": "stream",
          "name": "stdout",
          "text": [
            "[1, 2, 10, 20]\n"
          ]
        }
      ]
    },
    {
      "cell_type": "code",
      "source": [
        "list_1 = [1,2]\n",
        "print(list_1)\n",
        "print( list_1 * 5 )"
      ],
      "metadata": {
        "colab": {
          "base_uri": "https://localhost:8080/"
        },
        "id": "jCxUJKwsekLb",
        "outputId": "0d433509-355e-41dc-e1da-31fbad454ed5"
      },
      "execution_count": 102,
      "outputs": [
        {
          "output_type": "stream",
          "name": "stdout",
          "text": [
            "[1, 2]\n",
            "[1, 2, 1, 2, 1, 2, 1, 2, 1, 2]\n"
          ]
        }
      ]
    },
    {
      "cell_type": "code",
      "source": [
        "list_1 * list_2"
      ],
      "metadata": {
        "id": "jpmBjxEufCdB"
      },
      "execution_count": null,
      "outputs": []
    },
    {
      "cell_type": "code",
      "source": [
        "sum( list_1 * 5 )"
      ],
      "metadata": {
        "colab": {
          "base_uri": "https://localhost:8080/"
        },
        "id": "CnPDf5DTgSDw",
        "outputId": "ad3ad83d-f8ae-4333-84a0-a86901990ad9"
      },
      "execution_count": 103,
      "outputs": [
        {
          "output_type": "execute_result",
          "data": {
            "text/plain": [
              "15"
            ]
          },
          "metadata": {},
          "execution_count": 103
        }
      ]
    },
    {
      "cell_type": "code",
      "source": [
        "scores = [20,20,20,20,20]\n",
        "# 총점 / 갯수\n",
        "sum( scores ) / len(scores)"
      ],
      "metadata": {
        "colab": {
          "base_uri": "https://localhost:8080/"
        },
        "id": "TUMtpYwegmVR",
        "outputId": "406419c7-3537-443e-daa0-71e158ea23e2"
      },
      "execution_count": 105,
      "outputs": [
        {
          "output_type": "execute_result",
          "data": {
            "text/plain": [
              "20.0"
            ]
          },
          "metadata": {},
          "execution_count": 105
        }
      ]
    },
    {
      "cell_type": "code",
      "source": [],
      "metadata": {
        "id": "0s5kJrpVg21B"
      },
      "execution_count": null,
      "outputs": []
    }
  ]
}